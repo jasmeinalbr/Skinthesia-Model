{
 "cells": [
  {
   "cell_type": "markdown",
   "id": "2aa87e76",
   "metadata": {},
   "source": [
    "# Skincare Recommendation System"
   ]
  },
  {
   "cell_type": "markdown",
   "id": "ad4f7840",
   "metadata": {},
   "source": [
    "## Import Library"
   ]
  },
  {
   "cell_type": "code",
   "execution_count": 66,
   "id": "cecd9b7a",
   "metadata": {},
   "outputs": [],
   "source": [
    "import pandas as pd\n",
    "import ast"
   ]
  },
  {
   "cell_type": "markdown",
   "id": "1db34e62",
   "metadata": {},
   "source": [
    "## Load Data"
   ]
  },
  {
   "cell_type": "code",
   "execution_count": 67,
   "id": "a9e96f2d",
   "metadata": {},
   "outputs": [
    {
     "data": {
      "text/html": [
       "<div>\n",
       "<style scoped>\n",
       "    .dataframe tbody tr th:only-of-type {\n",
       "        vertical-align: middle;\n",
       "    }\n",
       "\n",
       "    .dataframe tbody tr th {\n",
       "        vertical-align: top;\n",
       "    }\n",
       "\n",
       "    .dataframe thead th {\n",
       "        text-align: right;\n",
       "    }\n",
       "</style>\n",
       "<table border=\"1\" class=\"dataframe\">\n",
       "  <thead>\n",
       "    <tr style=\"text-align: right;\">\n",
       "      <th></th>\n",
       "      <th>url</th>\n",
       "      <th>product_name</th>\n",
       "      <th>brand</th>\n",
       "      <th>category</th>\n",
       "      <th>price</th>\n",
       "      <th>rating</th>\n",
       "      <th>skin_type</th>\n",
       "      <th>total_reviews</th>\n",
       "      <th>skin_concern</th>\n",
       "      <th>ingredients</th>\n",
       "      <th>skin_goal</th>\n",
       "      <th>age</th>\n",
       "      <th>rating_star</th>\n",
       "    </tr>\n",
       "  </thead>\n",
       "  <tbody>\n",
       "    <tr>\n",
       "      <th>0</th>\n",
       "      <td>https://reviews.femaledaily.com/products/clean...</td>\n",
       "      <td>Air Mawar</td>\n",
       "      <td>Viva Cosmetics</td>\n",
       "      <td>Toner</td>\n",
       "      <td>4800</td>\n",
       "      <td>4.1</td>\n",
       "      <td>['combination', 'oily']</td>\n",
       "      <td>741820</td>\n",
       "      <td>['irritation', 'dryness', 'acne', 'sensitive',...</td>\n",
       "      <td>['aha', 'bha', 'hyaluronic acid', 'green tea',...</td>\n",
       "      <td>['calming', 'refreshing', 'glowing', 'fast-abs...</td>\n",
       "      <td>19 - 24</td>\n",
       "      <td>4.786207</td>\n",
       "    </tr>\n",
       "    <tr>\n",
       "      <th>1</th>\n",
       "      <td>https://reviews.femaledaily.com/products/clean...</td>\n",
       "      <td>Face Tonic</td>\n",
       "      <td>Viva Cosmetics</td>\n",
       "      <td>Toner</td>\n",
       "      <td>5000</td>\n",
       "      <td>4.0</td>\n",
       "      <td>['dry', 'combination']</td>\n",
       "      <td>66944</td>\n",
       "      <td>['pores', 'acne', 'irritation', 'sensitive', '...</td>\n",
       "      <td>['aloe vera', 'green tea']</td>\n",
       "      <td>['nourishing', 'refreshing', 'anti-aging', 'ca...</td>\n",
       "      <td>19 - 24</td>\n",
       "      <td>4.484375</td>\n",
       "    </tr>\n",
       "    <tr>\n",
       "      <th>2</th>\n",
       "      <td>https://reviews.femaledaily.com/products/clean...</td>\n",
       "      <td>Face Tonic</td>\n",
       "      <td>Viva Cosmetics</td>\n",
       "      <td>Toner</td>\n",
       "      <td>5000</td>\n",
       "      <td>3.7</td>\n",
       "      <td>['combination', 'oily']</td>\n",
       "      <td>35724</td>\n",
       "      <td>['acne', 'irritation', 'oiliness', 'pores', 'r...</td>\n",
       "      <td>['vitamin c', 'green tea']</td>\n",
       "      <td>['oil-control', 'refreshing', 'calming']</td>\n",
       "      <td>19 - 24</td>\n",
       "      <td>4.461538</td>\n",
       "    </tr>\n",
       "    <tr>\n",
       "      <th>3</th>\n",
       "      <td>https://reviews.femaledaily.com/products/treat...</td>\n",
       "      <td>Acne Lotion</td>\n",
       "      <td>Viva Cosmetics</td>\n",
       "      <td>Acne treatment</td>\n",
       "      <td>5150</td>\n",
       "      <td>3.7</td>\n",
       "      <td>['combination', 'oily']</td>\n",
       "      <td>17776</td>\n",
       "      <td>['acne', 'redness', 'oiliness', 'blackheads', ...</td>\n",
       "      <td>['zinc', 'tea tree', 'vitamin c']</td>\n",
       "      <td>['scar-fading', 'calming']</td>\n",
       "      <td>19 - 24</td>\n",
       "      <td>4.297030</td>\n",
       "    </tr>\n",
       "    <tr>\n",
       "      <th>4</th>\n",
       "      <td>https://reviews.femaledaily.com/products/clean...</td>\n",
       "      <td>Astringent</td>\n",
       "      <td>Viva Cosmetics</td>\n",
       "      <td>Toner</td>\n",
       "      <td>5300</td>\n",
       "      <td>3.8</td>\n",
       "      <td>['oily', 'combination']</td>\n",
       "      <td>131544</td>\n",
       "      <td>['acne', 'irritation', 'oiliness', 'pores', 'b...</td>\n",
       "      <td>['green tea']</td>\n",
       "      <td>['pore-minimizing', 'refreshing', 'calming', '...</td>\n",
       "      <td>19 - 24</td>\n",
       "      <td>4.342593</td>\n",
       "    </tr>\n",
       "  </tbody>\n",
       "</table>\n",
       "</div>"
      ],
      "text/plain": [
       "                                                 url product_name  \\\n",
       "0  https://reviews.femaledaily.com/products/clean...    Air Mawar   \n",
       "1  https://reviews.femaledaily.com/products/clean...   Face Tonic   \n",
       "2  https://reviews.femaledaily.com/products/clean...   Face Tonic   \n",
       "3  https://reviews.femaledaily.com/products/treat...  Acne Lotion   \n",
       "4  https://reviews.femaledaily.com/products/clean...   Astringent   \n",
       "\n",
       "            brand        category  price  rating                skin_type  \\\n",
       "0  Viva Cosmetics           Toner   4800     4.1  ['combination', 'oily']   \n",
       "1  Viva Cosmetics           Toner   5000     4.0   ['dry', 'combination']   \n",
       "2  Viva Cosmetics           Toner   5000     3.7  ['combination', 'oily']   \n",
       "3  Viva Cosmetics  Acne treatment   5150     3.7  ['combination', 'oily']   \n",
       "4  Viva Cosmetics           Toner   5300     3.8  ['oily', 'combination']   \n",
       "\n",
       "   total_reviews                                       skin_concern  \\\n",
       "0         741820  ['irritation', 'dryness', 'acne', 'sensitive',...   \n",
       "1          66944  ['pores', 'acne', 'irritation', 'sensitive', '...   \n",
       "2          35724  ['acne', 'irritation', 'oiliness', 'pores', 'r...   \n",
       "3          17776  ['acne', 'redness', 'oiliness', 'blackheads', ...   \n",
       "4         131544  ['acne', 'irritation', 'oiliness', 'pores', 'b...   \n",
       "\n",
       "                                         ingredients  \\\n",
       "0  ['aha', 'bha', 'hyaluronic acid', 'green tea',...   \n",
       "1                         ['aloe vera', 'green tea']   \n",
       "2                         ['vitamin c', 'green tea']   \n",
       "3                  ['zinc', 'tea tree', 'vitamin c']   \n",
       "4                                      ['green tea']   \n",
       "\n",
       "                                           skin_goal      age  rating_star  \n",
       "0  ['calming', 'refreshing', 'glowing', 'fast-abs...  19 - 24     4.786207  \n",
       "1  ['nourishing', 'refreshing', 'anti-aging', 'ca...  19 - 24     4.484375  \n",
       "2           ['oil-control', 'refreshing', 'calming']  19 - 24     4.461538  \n",
       "3                         ['scar-fading', 'calming']  19 - 24     4.297030  \n",
       "4  ['pore-minimizing', 'refreshing', 'calming', '...  19 - 24     4.342593  "
      ]
     },
     "execution_count": 67,
     "metadata": {},
     "output_type": "execute_result"
    }
   ],
   "source": [
    "# Load CSV\n",
    "df = pd.read_excel(\"../data/products_integrated_features.xlsx\")\n",
    "\n",
    "# Tampilkan beberapa baris awal\n",
    "df.head()"
   ]
  },
  {
   "cell_type": "code",
   "execution_count": 68,
   "id": "33fe6a10",
   "metadata": {},
   "outputs": [
    {
     "data": {
      "text/plain": [
       "Index(['url', 'product_name', 'brand', 'category', 'price', 'rating',\n",
       "       'skin_type', 'total_reviews', 'skin_concern', 'ingredients',\n",
       "       'skin_goal', 'age', 'rating_star'],\n",
       "      dtype='object')"
      ]
     },
     "execution_count": 68,
     "metadata": {},
     "output_type": "execute_result"
    }
   ],
   "source": [
    "# Cek kolom yang tersedia\n",
    "df.columns"
   ]
  },
  {
   "cell_type": "code",
   "execution_count": 69,
   "id": "2f759d3d",
   "metadata": {},
   "outputs": [
    {
     "data": {
      "text/html": [
       "<div>\n",
       "<style scoped>\n",
       "    .dataframe tbody tr th:only-of-type {\n",
       "        vertical-align: middle;\n",
       "    }\n",
       "\n",
       "    .dataframe tbody tr th {\n",
       "        vertical-align: top;\n",
       "    }\n",
       "\n",
       "    .dataframe thead th {\n",
       "        text-align: right;\n",
       "    }\n",
       "</style>\n",
       "<table border=\"1\" class=\"dataframe\">\n",
       "  <thead>\n",
       "    <tr style=\"text-align: right;\">\n",
       "      <th></th>\n",
       "      <th>product_name</th>\n",
       "      <th>brand</th>\n",
       "      <th>age</th>\n",
       "      <th>review_score</th>\n",
       "      <th>price</th>\n",
       "      <th>category</th>\n",
       "      <th>ingredients</th>\n",
       "    </tr>\n",
       "  </thead>\n",
       "  <tbody>\n",
       "    <tr>\n",
       "      <th>0</th>\n",
       "      <td>Air Mawar</td>\n",
       "      <td>Viva Cosmetics</td>\n",
       "      <td>19 - 24</td>\n",
       "      <td>3041462.0</td>\n",
       "      <td>4800</td>\n",
       "      <td>Toner</td>\n",
       "      <td>['aha', 'bha', 'hyaluronic acid', 'green tea',...</td>\n",
       "    </tr>\n",
       "    <tr>\n",
       "      <th>1</th>\n",
       "      <td>Face Tonic</td>\n",
       "      <td>Viva Cosmetics</td>\n",
       "      <td>19 - 24</td>\n",
       "      <td>267776.0</td>\n",
       "      <td>5000</td>\n",
       "      <td>Toner</td>\n",
       "      <td>['aloe vera', 'green tea']</td>\n",
       "    </tr>\n",
       "    <tr>\n",
       "      <th>2</th>\n",
       "      <td>Face Tonic</td>\n",
       "      <td>Viva Cosmetics</td>\n",
       "      <td>19 - 24</td>\n",
       "      <td>132178.8</td>\n",
       "      <td>5000</td>\n",
       "      <td>Toner</td>\n",
       "      <td>['vitamin c', 'green tea']</td>\n",
       "    </tr>\n",
       "    <tr>\n",
       "      <th>3</th>\n",
       "      <td>Acne Lotion</td>\n",
       "      <td>Viva Cosmetics</td>\n",
       "      <td>19 - 24</td>\n",
       "      <td>65771.2</td>\n",
       "      <td>5150</td>\n",
       "      <td>Acne treatment</td>\n",
       "      <td>['zinc', 'tea tree', 'vitamin c']</td>\n",
       "    </tr>\n",
       "    <tr>\n",
       "      <th>4</th>\n",
       "      <td>Astringent</td>\n",
       "      <td>Viva Cosmetics</td>\n",
       "      <td>19 - 24</td>\n",
       "      <td>499867.2</td>\n",
       "      <td>5300</td>\n",
       "      <td>Toner</td>\n",
       "      <td>['green tea']</td>\n",
       "    </tr>\n",
       "  </tbody>\n",
       "</table>\n",
       "</div>"
      ],
      "text/plain": [
       "  product_name           brand      age  review_score  price        category  \\\n",
       "0    Air Mawar  Viva Cosmetics  19 - 24     3041462.0   4800           Toner   \n",
       "1   Face Tonic  Viva Cosmetics  19 - 24      267776.0   5000           Toner   \n",
       "2   Face Tonic  Viva Cosmetics  19 - 24      132178.8   5000           Toner   \n",
       "3  Acne Lotion  Viva Cosmetics  19 - 24       65771.2   5150  Acne treatment   \n",
       "4   Astringent  Viva Cosmetics  19 - 24      499867.2   5300           Toner   \n",
       "\n",
       "                                         ingredients  \n",
       "0  ['aha', 'bha', 'hyaluronic acid', 'green tea',...  \n",
       "1                         ['aloe vera', 'green tea']  \n",
       "2                         ['vitamin c', 'green tea']  \n",
       "3                  ['zinc', 'tea tree', 'vitamin c']  \n",
       "4                                      ['green tea']  "
      ]
     },
     "execution_count": 69,
     "metadata": {},
     "output_type": "execute_result"
    }
   ],
   "source": [
    "# Buat kolom review_score = rating * total_reviews\n",
    "df[\"review_score\"] = df[\"rating\"] * df[\"total_reviews\"]\n",
    "\n",
    "# Ambil kolom yang dibutuhkan untuk rekomendasi\n",
    "columns_used = [\"product_name\", \"brand\", \"age\", \"review_score\", \"price\", \"category\", \"ingredients\"]\n",
    "df_filtered = df[columns_used].copy()\n",
    "\n",
    "df_filtered.head()"
   ]
  },
  {
   "cell_type": "code",
   "execution_count": 70,
   "id": "aa4115e7",
   "metadata": {},
   "outputs": [
    {
     "name": "stdout",
     "output_type": "stream",
     "text": [
      "Shape: (918, 7)\n"
     ]
    }
   ],
   "source": [
    "# Cek jumlah baris & kolom\n",
    "print(\"Shape:\", df_filtered.shape)"
   ]
  },
  {
   "cell_type": "code",
   "execution_count": 71,
   "id": "c86ca8c4",
   "metadata": {},
   "outputs": [
    {
     "name": "stdout",
     "output_type": "stream",
     "text": [
      "<class 'pandas.core.frame.DataFrame'>\n",
      "RangeIndex: 918 entries, 0 to 917\n",
      "Data columns (total 7 columns):\n",
      " #   Column        Non-Null Count  Dtype  \n",
      "---  ------        --------------  -----  \n",
      " 0   product_name  918 non-null    object \n",
      " 1   brand         918 non-null    object \n",
      " 2   age           918 non-null    object \n",
      " 3   review_score  918 non-null    float64\n",
      " 4   price         918 non-null    int64  \n",
      " 5   category      918 non-null    object \n",
      " 6   ingredients   918 non-null    object \n",
      "dtypes: float64(1), int64(1), object(5)\n",
      "memory usage: 50.3+ KB\n"
     ]
    }
   ],
   "source": [
    "# Info tipe data & missing value\n",
    "df_filtered.info()"
   ]
  },
  {
   "cell_type": "code",
   "execution_count": 72,
   "id": "268a1151",
   "metadata": {},
   "outputs": [
    {
     "data": {
      "text/html": [
       "<div>\n",
       "<style scoped>\n",
       "    .dataframe tbody tr th:only-of-type {\n",
       "        vertical-align: middle;\n",
       "    }\n",
       "\n",
       "    .dataframe tbody tr th {\n",
       "        vertical-align: top;\n",
       "    }\n",
       "\n",
       "    .dataframe thead th {\n",
       "        text-align: right;\n",
       "    }\n",
       "</style>\n",
       "<table border=\"1\" class=\"dataframe\">\n",
       "  <thead>\n",
       "    <tr style=\"text-align: right;\">\n",
       "      <th></th>\n",
       "      <th>review_score</th>\n",
       "      <th>price</th>\n",
       "    </tr>\n",
       "  </thead>\n",
       "  <tbody>\n",
       "    <tr>\n",
       "      <th>count</th>\n",
       "      <td>9.180000e+02</td>\n",
       "      <td>9.180000e+02</td>\n",
       "    </tr>\n",
       "    <tr>\n",
       "      <th>mean</th>\n",
       "      <td>3.441919e+05</td>\n",
       "      <td>1.322162e+05</td>\n",
       "    </tr>\n",
       "    <tr>\n",
       "      <th>std</th>\n",
       "      <td>7.444030e+05</td>\n",
       "      <td>1.740087e+05</td>\n",
       "    </tr>\n",
       "    <tr>\n",
       "      <th>min</th>\n",
       "      <td>5.600000e+01</td>\n",
       "      <td>4.800000e+03</td>\n",
       "    </tr>\n",
       "    <tr>\n",
       "      <th>25%</th>\n",
       "      <td>4.072370e+04</td>\n",
       "      <td>3.257500e+04</td>\n",
       "    </tr>\n",
       "    <tr>\n",
       "      <th>50%</th>\n",
       "      <td>1.492143e+05</td>\n",
       "      <td>8.500000e+04</td>\n",
       "    </tr>\n",
       "    <tr>\n",
       "      <th>75%</th>\n",
       "      <td>3.517618e+05</td>\n",
       "      <td>1.600000e+05</td>\n",
       "    </tr>\n",
       "    <tr>\n",
       "      <th>max</th>\n",
       "      <td>1.020715e+07</td>\n",
       "      <td>1.825000e+06</td>\n",
       "    </tr>\n",
       "  </tbody>\n",
       "</table>\n",
       "</div>"
      ],
      "text/plain": [
       "       review_score         price\n",
       "count  9.180000e+02  9.180000e+02\n",
       "mean   3.441919e+05  1.322162e+05\n",
       "std    7.444030e+05  1.740087e+05\n",
       "min    5.600000e+01  4.800000e+03\n",
       "25%    4.072370e+04  3.257500e+04\n",
       "50%    1.492143e+05  8.500000e+04\n",
       "75%    3.517618e+05  1.600000e+05\n",
       "max    1.020715e+07  1.825000e+06"
      ]
     },
     "execution_count": 72,
     "metadata": {},
     "output_type": "execute_result"
    }
   ],
   "source": [
    "# Statistik ringkasan numerik\n",
    "df_filtered.describe()"
   ]
  },
  {
   "cell_type": "code",
   "execution_count": 73,
   "id": "b93345d0",
   "metadata": {},
   "outputs": [
    {
     "name": "stdout",
     "output_type": "stream",
     "text": [
      "Missing values per column:\n",
      "product_name    0\n",
      "brand           0\n",
      "age             0\n",
      "review_score    0\n",
      "price           0\n",
      "category        0\n",
      "ingredients     0\n",
      "dtype: int64\n"
     ]
    }
   ],
   "source": [
    "# Jumlah missing value per kolom\n",
    "print(\"Missing values per column:\")\n",
    "print(df_filtered.isnull().sum())"
   ]
  },
  {
   "cell_type": "code",
   "execution_count": 74,
   "id": "9a6673c3",
   "metadata": {},
   "outputs": [
    {
     "data": {
      "text/plain": [
       "category\n",
       "Moisturizer Gel       97\n",
       "Sun Protection        97\n",
       "Facial Wash           96\n",
       "Toner                 94\n",
       "Serum & Essence       94\n",
       "Peeling               93\n",
       "Acne treatment        91\n",
       "Exfoliator            91\n",
       "Moisturizer Lotion    85\n",
       "Moisturizer Cream     80\n",
       "Name: count, dtype: int64"
      ]
     },
     "execution_count": 74,
     "metadata": {},
     "output_type": "execute_result"
    }
   ],
   "source": [
    "# Cek data unik untuk kategori\n",
    "df_filtered[\"category\"].value_counts()"
   ]
  },
  {
   "cell_type": "code",
   "execution_count": 75,
   "id": "779f902c",
   "metadata": {},
   "outputs": [
    {
     "name": "stdout",
     "output_type": "stream",
     "text": [
      "Ingredients format example:\n"
     ]
    },
    {
     "data": {
      "text/plain": [
       "0    ['aha', 'bha', 'hyaluronic acid', 'green tea',...\n",
       "1                           ['aloe vera', 'green tea']\n",
       "2                           ['vitamin c', 'green tea']\n",
       "3                    ['zinc', 'tea tree', 'vitamin c']\n",
       "4                                        ['green tea']\n",
       "Name: ingredients, dtype: object"
      ]
     },
     "execution_count": 75,
     "metadata": {},
     "output_type": "execute_result"
    }
   ],
   "source": [
    "# Cek format ingredients\n",
    "print(\"Ingredients format example:\")\n",
    "df_filtered[\"ingredients\"].iloc[0:5]"
   ]
  },
  {
   "cell_type": "markdown",
   "id": "b1e80c28",
   "metadata": {},
   "source": [
    "# Preprocessing Data"
   ]
  },
  {
   "cell_type": "code",
   "execution_count": 76,
   "id": "50b7b67d",
   "metadata": {},
   "outputs": [
    {
     "name": "stdout",
     "output_type": "stream",
     "text": [
      "Ingredients column type: <class 'str'>\n"
     ]
    }
   ],
   "source": [
    "# Cek tipe data kolom ingredients\n",
    "print(\"Ingredients column type:\", type(df_filtered['ingredients'].iloc[0]))"
   ]
  },
  {
   "cell_type": "code",
   "execution_count": 77,
   "id": "2985c4ba",
   "metadata": {},
   "outputs": [
    {
     "name": "stdout",
     "output_type": "stream",
     "text": [
      "Contoh 5 baris hasil konversi:\n"
     ]
    },
    {
     "data": {
      "text/html": [
       "<div>\n",
       "<style scoped>\n",
       "    .dataframe tbody tr th:only-of-type {\n",
       "        vertical-align: middle;\n",
       "    }\n",
       "\n",
       "    .dataframe tbody tr th {\n",
       "        vertical-align: top;\n",
       "    }\n",
       "\n",
       "    .dataframe thead th {\n",
       "        text-align: right;\n",
       "    }\n",
       "</style>\n",
       "<table border=\"1\" class=\"dataframe\">\n",
       "  <thead>\n",
       "    <tr style=\"text-align: right;\">\n",
       "      <th></th>\n",
       "      <th>product_name</th>\n",
       "      <th>ingredients</th>\n",
       "    </tr>\n",
       "  </thead>\n",
       "  <tbody>\n",
       "    <tr>\n",
       "      <th>0</th>\n",
       "      <td>Air Mawar</td>\n",
       "      <td>[aha, bha, hyaluronic acid, green tea, vitamin e]</td>\n",
       "    </tr>\n",
       "    <tr>\n",
       "      <th>1</th>\n",
       "      <td>Face Tonic</td>\n",
       "      <td>[aloe vera, green tea]</td>\n",
       "    </tr>\n",
       "    <tr>\n",
       "      <th>2</th>\n",
       "      <td>Face Tonic</td>\n",
       "      <td>[vitamin c, green tea]</td>\n",
       "    </tr>\n",
       "    <tr>\n",
       "      <th>3</th>\n",
       "      <td>Acne Lotion</td>\n",
       "      <td>[zinc, tea tree, vitamin c]</td>\n",
       "    </tr>\n",
       "    <tr>\n",
       "      <th>4</th>\n",
       "      <td>Astringent</td>\n",
       "      <td>[green tea]</td>\n",
       "    </tr>\n",
       "  </tbody>\n",
       "</table>\n",
       "</div>"
      ],
      "text/plain": [
       "  product_name                                        ingredients\n",
       "0    Air Mawar  [aha, bha, hyaluronic acid, green tea, vitamin e]\n",
       "1   Face Tonic                             [aloe vera, green tea]\n",
       "2   Face Tonic                             [vitamin c, green tea]\n",
       "3  Acne Lotion                        [zinc, tea tree, vitamin c]\n",
       "4   Astringent                                        [green tea]"
      ]
     },
     "execution_count": 77,
     "metadata": {},
     "output_type": "execute_result"
    }
   ],
   "source": [
    "# Konversi string ingredients → list (pakai ast.literal_eval)\n",
    "df_filtered['ingredients'] = df_filtered['ingredients'].apply(lambda x: ast.literal_eval(x) if isinstance(x, str) else x)\n",
    "\n",
    "# Cek apakah berhasil\n",
    "print(\"Contoh 5 baris hasil konversi:\")\n",
    "df_filtered[['product_name', 'ingredients']].head()"
   ]
  },
  {
   "cell_type": "code",
   "execution_count": 78,
   "id": "0557000c",
   "metadata": {},
   "outputs": [
    {
     "name": "stdout",
     "output_type": "stream",
     "text": [
      "\n",
      "Tipe data ingredients setelah konversi: <class 'list'>\n"
     ]
    }
   ],
   "source": [
    "# Tipe data ingredients sekarang\n",
    "print(\"\\nTipe data ingredients setelah konversi:\", type(df_filtered['ingredients'].iloc[0]))"
   ]
  },
  {
   "cell_type": "markdown",
   "id": "e66ee08c",
   "metadata": {},
   "source": [
    "## Recommendation System"
   ]
  },
  {
   "cell_type": "code",
   "execution_count": 79,
   "id": "6394a61e",
   "metadata": {},
   "outputs": [],
   "source": [
    "def recommend_products(df, user_age, user_price_min, user_price_max, user_category, user_ingredients, top_k=5):\n",
    "    \"\"\"\n",
    "    Function to recommend products based on user preferences.\n",
    "    \"\"\"\n",
    "    # Filter by age\n",
    "    df_age = df[df[\"age\"] == user_age]\n",
    "\n",
    "    # Filter by category\n",
    "    df_cat = df_age[df_age[\"category\"] == user_category]\n",
    "\n",
    "    # Filter by price range\n",
    "    df_price = df_cat[(df_cat[\"price\"] >= user_price_min) & (df_cat[\"price\"] <= user_price_max)]\n",
    "\n",
    "    # Filter if at least one ingredient matches\n",
    "    def has_matching_ingredient(product_ingredients):\n",
    "        return any(ing in product_ingredients for ing in user_ingredients)\n",
    "\n",
    "    df_final = df_price[df_price[\"ingredients\"].apply(has_matching_ingredient)]\n",
    "\n",
    "    # Urutkan berdasarkan review_score\n",
    "    df_sorted = df_final.sort_values(by=\"review_score\", ascending=False)\n",
    "\n",
    "    # Ambil top k\n",
    "    return df_sorted.head(top_k)\n"
   ]
  },
  {
   "cell_type": "code",
   "execution_count": 80,
   "id": "3e6e363c",
   "metadata": {},
   "outputs": [
    {
     "data": {
      "text/html": [
       "<div>\n",
       "<style scoped>\n",
       "    .dataframe tbody tr th:only-of-type {\n",
       "        vertical-align: middle;\n",
       "    }\n",
       "\n",
       "    .dataframe tbody tr th {\n",
       "        vertical-align: top;\n",
       "    }\n",
       "\n",
       "    .dataframe thead th {\n",
       "        text-align: right;\n",
       "    }\n",
       "</style>\n",
       "<table border=\"1\" class=\"dataframe\">\n",
       "  <thead>\n",
       "    <tr style=\"text-align: right;\">\n",
       "      <th></th>\n",
       "      <th>product_name</th>\n",
       "      <th>brand</th>\n",
       "      <th>age</th>\n",
       "      <th>review_score</th>\n",
       "      <th>price</th>\n",
       "      <th>category</th>\n",
       "      <th>ingredients</th>\n",
       "    </tr>\n",
       "  </thead>\n",
       "  <tbody>\n",
       "    <tr>\n",
       "      <th>571</th>\n",
       "      <td>Glycolic Bright Peeling Toner</td>\n",
       "      <td>L'Oreal Paris</td>\n",
       "      <td>25 - 29</td>\n",
       "      <td>252902.4</td>\n",
       "      <td>125000</td>\n",
       "      <td>Toner</td>\n",
       "      <td>[aha, bha, glycerin, panthenol, salicylic acid...</td>\n",
       "    </tr>\n",
       "    <tr>\n",
       "      <th>453</th>\n",
       "      <td>Marigold Clearings Petal Toner</td>\n",
       "      <td>NPURE</td>\n",
       "      <td>25 - 29</td>\n",
       "      <td>243485.9</td>\n",
       "      <td>85000</td>\n",
       "      <td>Toner</td>\n",
       "      <td>[aha, allantoin, glycerin, niacinamide, panthe...</td>\n",
       "    </tr>\n",
       "    <tr>\n",
       "      <th>592</th>\n",
       "      <td>Licorice pH Balancing Toner</td>\n",
       "      <td>ACWELL</td>\n",
       "      <td>25 - 29</td>\n",
       "      <td>226528.3</td>\n",
       "      <td>130000</td>\n",
       "      <td>Toner</td>\n",
       "      <td>[licorice, aha, vitamin c, green tea, pha, ret...</td>\n",
       "    </tr>\n",
       "    <tr>\n",
       "      <th>706</th>\n",
       "      <td>Probiome Skin Tonic</td>\n",
       "      <td>Studio Tropik</td>\n",
       "      <td>25 - 29</td>\n",
       "      <td>153260.6</td>\n",
       "      <td>180000</td>\n",
       "      <td>Toner</td>\n",
       "      <td>[ceramide, hyaluronic acid, niacinamide, aha, ...</td>\n",
       "    </tr>\n",
       "    <tr>\n",
       "      <th>730</th>\n",
       "      <td>Skin Ready Hydrating Booster</td>\n",
       "      <td>BHUMI</td>\n",
       "      <td>25 - 29</td>\n",
       "      <td>140400.0</td>\n",
       "      <td>197000</td>\n",
       "      <td>Toner</td>\n",
       "      <td>[centella asiatica, ceramide, glycerin, hyalur...</td>\n",
       "    </tr>\n",
       "  </tbody>\n",
       "</table>\n",
       "</div>"
      ],
      "text/plain": [
       "                       product_name          brand      age  review_score  \\\n",
       "571   Glycolic Bright Peeling Toner  L'Oreal Paris  25 - 29      252902.4   \n",
       "453  Marigold Clearings Petal Toner          NPURE  25 - 29      243485.9   \n",
       "592     Licorice pH Balancing Toner         ACWELL  25 - 29      226528.3   \n",
       "706             Probiome Skin Tonic  Studio Tropik  25 - 29      153260.6   \n",
       "730    Skin Ready Hydrating Booster          BHUMI  25 - 29      140400.0   \n",
       "\n",
       "      price category                                        ingredients  \n",
       "571  125000    Toner  [aha, bha, glycerin, panthenol, salicylic acid...  \n",
       "453   85000    Toner  [aha, allantoin, glycerin, niacinamide, panthe...  \n",
       "592  130000    Toner  [licorice, aha, vitamin c, green tea, pha, ret...  \n",
       "706  180000    Toner  [ceramide, hyaluronic acid, niacinamide, aha, ...  \n",
       "730  197000    Toner  [centella asiatica, ceramide, glycerin, hyalur...  "
      ]
     },
     "execution_count": 80,
     "metadata": {},
     "output_type": "execute_result"
    }
   ],
   "source": [
    "# Contoh input user\n",
    "user_input = {\n",
    "    \"age\": \"25 - 29\",\n",
    "    \"price_min\": 50000,\n",
    "    \"price_max\": 200000,\n",
    "    \"category\": \"Toner\",\n",
    "    \"ingredients\": [\"niacinamide\", \"aha\"]\n",
    "}\n",
    "\n",
    "# Rekomendasi\n",
    "top_products = recommend_products(\n",
    "    df_filtered,\n",
    "    user_age=user_input[\"age\"],\n",
    "    user_price_min=user_input[\"price_min\"],\n",
    "    user_price_max=user_input[\"price_max\"],\n",
    "    user_category=user_input[\"category\"],\n",
    "    user_ingredients=user_input[\"ingredients\"],\n",
    "    top_k=5\n",
    ")\n",
    "\n",
    "top_products\n"
   ]
  }
 ],
 "metadata": {
  "kernelspec": {
   "display_name": "3.11.4",
   "language": "python",
   "name": "python3"
  },
  "language_info": {
   "codemirror_mode": {
    "name": "ipython",
    "version": 3
   },
   "file_extension": ".py",
   "mimetype": "text/x-python",
   "name": "python",
   "nbconvert_exporter": "python",
   "pygments_lexer": "ipython3",
   "version": "3.11.4"
  }
 },
 "nbformat": 4,
 "nbformat_minor": 5
}
