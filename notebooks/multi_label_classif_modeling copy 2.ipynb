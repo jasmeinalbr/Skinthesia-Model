{
  "cells": [
    {
      "cell_type": "markdown",
      "metadata": {},
      "source": [
        "## Skinthesia Classification Model"
      ]
    },
    {
      "cell_type": "markdown",
      "metadata": {},
      "source": [
        "## Import Library"
      ]
    },
    {
      "cell_type": "code",
      "execution_count": 4,
      "metadata": {},
      "outputs": [
        {
          "name": "stdout",
          "output_type": "stream",
          "text": [
            "Requirement already satisfied: numpy==1.26.4 in /Users/jasmein/.pyenv/versions/3.11.4/lib/python3.11/site-packages (1.26.4)\n",
            "\n",
            "\u001b[1m[\u001b[0m\u001b[34;49mnotice\u001b[0m\u001b[1;39;49m]\u001b[0m\u001b[39;49m A new release of pip is available: \u001b[0m\u001b[31;49m24.3.1\u001b[0m\u001b[39;49m -> \u001b[0m\u001b[32;49m25.1.1\u001b[0m\n",
            "\u001b[1m[\u001b[0m\u001b[34;49mnotice\u001b[0m\u001b[1;39;49m]\u001b[0m\u001b[39;49m To update, run: \u001b[0m\u001b[32;49mpip install --upgrade pip\u001b[0m\n"
          ]
        }
      ],
      "source": [
        "!pip install numpy==1.26.4"
      ]
    },
    {
      "cell_type": "code",
      "execution_count": 6,
      "metadata": {},
      "outputs": [
        {
          "name": "stdout",
          "output_type": "stream",
          "text": [
            "Requirement already satisfied: pip in /Users/jasmein/.pyenv/versions/3.11.4/lib/python3.11/site-packages (24.3.1)\n",
            "Collecting pip\n",
            "  Downloading pip-25.1.1-py3-none-any.whl.metadata (3.6 kB)\n",
            "Requirement already satisfied: setuptools in /Users/jasmein/.pyenv/versions/3.11.4/lib/python3.11/site-packages (65.5.0)\n",
            "Collecting setuptools\n",
            "  Using cached setuptools-80.9.0-py3-none-any.whl.metadata (6.6 kB)\n",
            "Requirement already satisfied: wheel in /Users/jasmein/.pyenv/versions/3.11.4/lib/python3.11/site-packages (0.43.0)\n",
            "Collecting wheel\n",
            "  Using cached wheel-0.45.1-py3-none-any.whl.metadata (2.3 kB)\n",
            "Downloading pip-25.1.1-py3-none-any.whl (1.8 MB)\n",
            "\u001b[2K   \u001b[90m━━━━━━━━━━━━━━━━━━━━━━━━━━━━━━━━━━━━━━━━\u001b[0m \u001b[32m1.8/1.8 MB\u001b[0m \u001b[31m1.7 MB/s\u001b[0m eta \u001b[36m0:00:00\u001b[0ma \u001b[36m0:00:01\u001b[0m\n",
            "\u001b[?25hUsing cached setuptools-80.9.0-py3-none-any.whl (1.2 MB)\n",
            "Using cached wheel-0.45.1-py3-none-any.whl (72 kB)\n",
            "Installing collected packages: wheel, setuptools, pip\n",
            "  Attempting uninstall: wheel\n",
            "    Found existing installation: wheel 0.43.0\n",
            "    Uninstalling wheel-0.43.0:\n",
            "      Successfully uninstalled wheel-0.43.0\n",
            "  Attempting uninstall: setuptools\n",
            "    Found existing installation: setuptools 65.5.0\n",
            "    Uninstalling setuptools-65.5.0:\n",
            "      Successfully uninstalled setuptools-65.5.0\n",
            "  Attempting uninstall: pip\n",
            "    Found existing installation: pip 24.3.1\n",
            "    Uninstalling pip-24.3.1:\n",
            "      Successfully uninstalled pip-24.3.1\n",
            "\u001b[31mERROR: pip's dependency resolver does not currently take into account all the packages that are installed. This behaviour is the source of the following dependency conflicts.\n",
            "tensorflow 2.16.2 requires ml-dtypes~=0.3.1, but you have ml-dtypes 0.5.0 which is incompatible.\n",
            "tensorflow 2.16.2 requires protobuf!=4.21.0,!=4.21.1,!=4.21.2,!=4.21.3,!=4.21.4,!=4.21.5,<5.0.0dev,>=3.20.3, but you have protobuf 5.29.3 which is incompatible.\u001b[0m\u001b[31m\n",
            "\u001b[0mSuccessfully installed pip-25.1.1 setuptools-80.9.0 wheel-0.45.1\n"
          ]
        }
      ],
      "source": [
        "!pip install --upgrade pip setuptools wheel\n"
      ]
    },
    {
      "cell_type": "code",
      "execution_count": 7,
      "metadata": {},
      "outputs": [
        {
          "name": "stdout",
          "output_type": "stream",
          "text": [
            "Collecting tensorflowjs\n",
            "  Using cached tensorflowjs-4.22.0-py3-none-any.whl.metadata (3.2 kB)\n",
            "Collecting flax>=0.7.2 (from tensorflowjs)\n",
            "  Using cached flax-0.10.6-py3-none-any.whl.metadata (11 kB)\n",
            "Requirement already satisfied: importlib_resources>=5.9.0 in /Users/jasmein/.pyenv/versions/3.11.4/lib/python3.11/site-packages (from tensorflowjs) (6.5.2)\n",
            "Requirement already satisfied: jax>=0.4.13 in /Users/jasmein/.pyenv/versions/3.11.4/lib/python3.11/site-packages (from tensorflowjs) (0.4.35)\n",
            "Requirement already satisfied: jaxlib>=0.4.13 in /Users/jasmein/.pyenv/versions/3.11.4/lib/python3.11/site-packages (from tensorflowjs) (0.4.35)\n",
            "Requirement already satisfied: tensorflow<3,>=2.13.0 in /Users/jasmein/.pyenv/versions/3.11.4/lib/python3.11/site-packages (from tensorflowjs) (2.16.2)\n",
            "Requirement already satisfied: tf-keras>=2.13.0 in /Users/jasmein/.pyenv/versions/3.11.4/lib/python3.11/site-packages (from tensorflowjs) (2.16.0)\n",
            "Collecting tensorflow-decision-forests>=1.5.0 (from tensorflowjs)\n",
            "  Using cached tensorflow_decision_forests-1.9.0-cp311-cp311-macosx_10_15_x86_64.whl.metadata (6.0 kB)\n",
            "Requirement already satisfied: six<2,>=1.16.0 in /Users/jasmein/.pyenv/versions/3.11.4/lib/python3.11/site-packages (from tensorflowjs) (1.16.0)\n",
            "Requirement already satisfied: tensorflow-hub>=0.16.1 in /Users/jasmein/.pyenv/versions/3.11.4/lib/python3.11/site-packages (from tensorflowjs) (0.16.1)\n",
            "Collecting packaging~=23.1 (from tensorflowjs)\n",
            "  Using cached packaging-23.2-py3-none-any.whl.metadata (3.2 kB)\n",
            "Requirement already satisfied: absl-py>=1.0.0 in /Users/jasmein/.pyenv/versions/3.11.4/lib/python3.11/site-packages (from tensorflow<3,>=2.13.0->tensorflowjs) (2.1.0)\n",
            "Requirement already satisfied: astunparse>=1.6.0 in /Users/jasmein/.pyenv/versions/3.11.4/lib/python3.11/site-packages (from tensorflow<3,>=2.13.0->tensorflowjs) (1.6.3)\n",
            "Requirement already satisfied: flatbuffers>=23.5.26 in /Users/jasmein/.pyenv/versions/3.11.4/lib/python3.11/site-packages (from tensorflow<3,>=2.13.0->tensorflowjs) (24.3.25)\n",
            "Requirement already satisfied: gast!=0.5.0,!=0.5.1,!=0.5.2,>=0.2.1 in /Users/jasmein/.pyenv/versions/3.11.4/lib/python3.11/site-packages (from tensorflow<3,>=2.13.0->tensorflowjs) (0.5.4)\n",
            "Requirement already satisfied: google-pasta>=0.1.1 in /Users/jasmein/.pyenv/versions/3.11.4/lib/python3.11/site-packages (from tensorflow<3,>=2.13.0->tensorflowjs) (0.2.0)\n",
            "Requirement already satisfied: h5py>=3.10.0 in /Users/jasmein/.pyenv/versions/3.11.4/lib/python3.11/site-packages (from tensorflow<3,>=2.13.0->tensorflowjs) (3.11.0)\n",
            "Requirement already satisfied: libclang>=13.0.0 in /Users/jasmein/.pyenv/versions/3.11.4/lib/python3.11/site-packages (from tensorflow<3,>=2.13.0->tensorflowjs) (18.1.1)\n",
            "Collecting ml-dtypes~=0.3.1 (from tensorflow<3,>=2.13.0->tensorflowjs)\n",
            "  Using cached ml_dtypes-0.3.2-cp311-cp311-macosx_10_9_universal2.whl.metadata (20 kB)\n",
            "Requirement already satisfied: opt-einsum>=2.3.2 in /Users/jasmein/.pyenv/versions/3.11.4/lib/python3.11/site-packages (from tensorflow<3,>=2.13.0->tensorflowjs) (3.3.0)\n",
            "Collecting protobuf!=4.21.0,!=4.21.1,!=4.21.2,!=4.21.3,!=4.21.4,!=4.21.5,<5.0.0dev,>=3.20.3 (from tensorflow<3,>=2.13.0->tensorflowjs)\n",
            "  Using cached protobuf-4.25.8-cp37-abi3-macosx_10_9_universal2.whl.metadata (541 bytes)\n",
            "Requirement already satisfied: requests<3,>=2.21.0 in /Users/jasmein/.pyenv/versions/3.11.4/lib/python3.11/site-packages (from tensorflow<3,>=2.13.0->tensorflowjs) (2.32.3)\n",
            "Requirement already satisfied: setuptools in /Users/jasmein/.pyenv/versions/3.11.4/lib/python3.11/site-packages (from tensorflow<3,>=2.13.0->tensorflowjs) (80.9.0)\n",
            "Requirement already satisfied: termcolor>=1.1.0 in /Users/jasmein/.pyenv/versions/3.11.4/lib/python3.11/site-packages (from tensorflow<3,>=2.13.0->tensorflowjs) (2.4.0)\n",
            "Requirement already satisfied: typing-extensions>=3.6.6 in /Users/jasmein/.pyenv/versions/3.11.4/lib/python3.11/site-packages (from tensorflow<3,>=2.13.0->tensorflowjs) (4.12.2)\n",
            "Requirement already satisfied: wrapt>=1.11.0 in /Users/jasmein/.pyenv/versions/3.11.4/lib/python3.11/site-packages (from tensorflow<3,>=2.13.0->tensorflowjs) (1.16.0)\n",
            "Requirement already satisfied: grpcio<2.0,>=1.24.3 in /Users/jasmein/.pyenv/versions/3.11.4/lib/python3.11/site-packages (from tensorflow<3,>=2.13.0->tensorflowjs) (1.64.1)\n",
            "Requirement already satisfied: tensorboard<2.17,>=2.16 in /Users/jasmein/.pyenv/versions/3.11.4/lib/python3.11/site-packages (from tensorflow<3,>=2.13.0->tensorflowjs) (2.16.2)\n",
            "Requirement already satisfied: keras>=3.0.0 in /Users/jasmein/.pyenv/versions/3.11.4/lib/python3.11/site-packages (from tensorflow<3,>=2.13.0->tensorflowjs) (3.6.0)\n",
            "Requirement already satisfied: tensorflow-io-gcs-filesystem>=0.23.1 in /Users/jasmein/.pyenv/versions/3.11.4/lib/python3.11/site-packages (from tensorflow<3,>=2.13.0->tensorflowjs) (0.37.0)\n",
            "Requirement already satisfied: numpy<2.0.0,>=1.23.5 in /Users/jasmein/.pyenv/versions/3.11.4/lib/python3.11/site-packages (from tensorflow<3,>=2.13.0->tensorflowjs) (1.26.4)\n",
            "Requirement already satisfied: charset-normalizer<4,>=2 in /Users/jasmein/.pyenv/versions/3.11.4/lib/python3.11/site-packages (from requests<3,>=2.21.0->tensorflow<3,>=2.13.0->tensorflowjs) (3.3.2)\n",
            "Requirement already satisfied: idna<4,>=2.5 in /Users/jasmein/.pyenv/versions/3.11.4/lib/python3.11/site-packages (from requests<3,>=2.21.0->tensorflow<3,>=2.13.0->tensorflowjs) (3.7)\n",
            "Requirement already satisfied: urllib3<3,>=1.21.1 in /Users/jasmein/.pyenv/versions/3.11.4/lib/python3.11/site-packages (from requests<3,>=2.21.0->tensorflow<3,>=2.13.0->tensorflowjs) (2.3.0)\n",
            "Requirement already satisfied: certifi>=2017.4.17 in /Users/jasmein/.pyenv/versions/3.11.4/lib/python3.11/site-packages (from requests<3,>=2.21.0->tensorflow<3,>=2.13.0->tensorflowjs) (2024.6.2)\n",
            "Requirement already satisfied: markdown>=2.6.8 in /Users/jasmein/.pyenv/versions/3.11.4/lib/python3.11/site-packages (from tensorboard<2.17,>=2.16->tensorflow<3,>=2.13.0->tensorflowjs) (3.6)\n",
            "Requirement already satisfied: tensorboard-data-server<0.8.0,>=0.7.0 in /Users/jasmein/.pyenv/versions/3.11.4/lib/python3.11/site-packages (from tensorboard<2.17,>=2.16->tensorflow<3,>=2.13.0->tensorflowjs) (0.7.2)\n",
            "Requirement already satisfied: werkzeug>=1.0.1 in /Users/jasmein/.pyenv/versions/3.11.4/lib/python3.11/site-packages (from tensorboard<2.17,>=2.16->tensorflow<3,>=2.13.0->tensorflowjs) (3.0.3)\n",
            "Requirement already satisfied: wheel<1.0,>=0.23.0 in /Users/jasmein/.pyenv/versions/3.11.4/lib/python3.11/site-packages (from astunparse>=1.6.0->tensorflow<3,>=2.13.0->tensorflowjs) (0.45.1)\n",
            "Collecting jax>=0.4.13 (from tensorflowjs)\n",
            "  Using cached jax-0.6.1-py3-none-any.whl.metadata (13 kB)\n",
            "Requirement already satisfied: msgpack in /Users/jasmein/.pyenv/versions/3.11.4/lib/python3.11/site-packages (from flax>=0.7.2->tensorflowjs) (1.1.0)\n",
            "Collecting optax (from flax>=0.7.2->tensorflowjs)\n",
            "  Using cached optax-0.2.4-py3-none-any.whl.metadata (8.3 kB)\n",
            "Collecting orbax-checkpoint (from flax>=0.7.2->tensorflowjs)\n",
            "  Using cached orbax_checkpoint-0.11.13-py3-none-any.whl.metadata (2.0 kB)\n",
            "Collecting tensorstore (from flax>=0.7.2->tensorflowjs)\n",
            "  Using cached tensorstore-0.1.75-cp311-cp311-macosx_10_14_x86_64.whl.metadata (21 kB)\n",
            "Requirement already satisfied: rich>=11.1 in /Users/jasmein/.pyenv/versions/3.11.4/lib/python3.11/site-packages (from flax>=0.7.2->tensorflowjs) (13.7.1)\n",
            "Requirement already satisfied: PyYAML>=5.4.1 in /Users/jasmein/.pyenv/versions/3.11.4/lib/python3.11/site-packages (from flax>=0.7.2->tensorflowjs) (6.0.2)\n",
            "Collecting treescope>=0.1.7 (from flax>=0.7.2->tensorflowjs)\n",
            "  Using cached treescope-0.1.9-py3-none-any.whl.metadata (6.6 kB)\n",
            "INFO: pip is looking at multiple versions of jax to determine which version is compatible with other requirements. This could take a while.\n",
            "Collecting jax>=0.4.13 (from tensorflowjs)\n",
            "  Using cached jax-0.6.0-py3-none-any.whl.metadata (22 kB)\n",
            "  Using cached jax-0.5.3-py3-none-any.whl.metadata (22 kB)\n",
            "  Using cached jax-0.5.2-py3-none-any.whl.metadata (22 kB)\n",
            "  Using cached jax-0.5.1-py3-none-any.whl.metadata (22 kB)\n",
            "Collecting importlib_resources>=5.9.0 (from tensorflowjs)\n",
            "  Using cached importlib_resources-6.5.2-py3-none-any.whl.metadata (3.9 kB)\n",
            "INFO: pip is still looking at multiple versions of jax to determine which version is compatible with other requirements. This could take a while.\n",
            "Collecting h5py>=3.10.0 (from tensorflow<3,>=2.13.0->tensorflowjs)\n",
            "  Using cached h5py-3.14.0-cp311-cp311-macosx_10_9_x86_64.whl.metadata (2.7 kB)\n",
            "INFO: This is taking longer than usual. You might need to provide the dependency resolver with stricter constraints to reduce runtime. See https://pip.pypa.io/warnings/backtracking for guidance. If you want to abort this run, press Ctrl + C.\n",
            "Collecting google-pasta>=0.1.1 (from tensorflow<3,>=2.13.0->tensorflowjs)\n",
            "  Downloading google_pasta-0.2.0-py3-none-any.whl.metadata (814 bytes)\n",
            "Collecting gast!=0.5.0,!=0.5.1,!=0.5.2,>=0.2.1 (from tensorflow<3,>=2.13.0->tensorflowjs)\n",
            "  Downloading gast-0.6.0-py3-none-any.whl.metadata (1.3 kB)\n",
            "Collecting flax>=0.7.2 (from tensorflowjs)\n",
            "  Using cached flax-0.10.5-py3-none-any.whl.metadata (11 kB)\n",
            "Collecting jax>=0.4.13 (from tensorflowjs)\n",
            "  Downloading jax-0.5.0-py3-none-any.whl.metadata (22 kB)\n",
            "  Downloading jax-0.4.38-py3-none-any.whl.metadata (22 kB)\n",
            "Collecting jaxlib>=0.4.13 (from tensorflowjs)\n",
            "  Downloading jaxlib-0.4.38-cp311-cp311-macosx_10_14_x86_64.whl.metadata (1.0 kB)\n",
            "Collecting jax>=0.4.13 (from tensorflowjs)\n",
            "  Downloading jax-0.4.37-py3-none-any.whl.metadata (22 kB)\n",
            "Collecting jaxlib>=0.4.13 (from tensorflowjs)\n",
            "  Downloading jaxlib-0.4.36-cp311-cp311-macosx_10_14_x86_64.whl.metadata (1.0 kB)\n",
            "Collecting jax>=0.4.13 (from tensorflowjs)\n",
            "  Downloading jax-0.4.36-py3-none-any.whl.metadata (22 kB)\n",
            "  Downloading jax-0.4.34-py3-none-any.whl.metadata (22 kB)\n",
            "Collecting jaxlib>=0.4.13 (from tensorflowjs)\n",
            "  Downloading jaxlib-0.4.34-cp311-cp311-macosx_10_14_x86_64.whl.metadata (983 bytes)\n",
            "Requirement already satisfied: scipy>=1.10 in /Users/jasmein/.pyenv/versions/3.11.4/lib/python3.11/site-packages (from jax>=0.4.13->tensorflowjs) (1.14.1)\n",
            "Collecting flax>=0.7.2 (from tensorflowjs)\n",
            "  Using cached flax-0.10.4-py3-none-any.whl.metadata (11 kB)\n",
            "Requirement already satisfied: namex in /Users/jasmein/.pyenv/versions/3.11.4/lib/python3.11/site-packages (from keras>=3.0.0->tensorflow<3,>=2.13.0->tensorflowjs) (0.0.8)\n",
            "Requirement already satisfied: optree in /Users/jasmein/.pyenv/versions/3.11.4/lib/python3.11/site-packages (from keras>=3.0.0->tensorflow<3,>=2.13.0->tensorflowjs) (0.11.0)\n",
            "Requirement already satisfied: markdown-it-py>=2.2.0 in /Users/jasmein/.pyenv/versions/3.11.4/lib/python3.11/site-packages (from rich>=11.1->flax>=0.7.2->tensorflowjs) (3.0.0)\n",
            "Requirement already satisfied: pygments<3.0.0,>=2.13.0 in /Users/jasmein/.pyenv/versions/3.11.4/lib/python3.11/site-packages (from rich>=11.1->flax>=0.7.2->tensorflowjs) (2.18.0)\n",
            "Requirement already satisfied: mdurl~=0.1 in /Users/jasmein/.pyenv/versions/3.11.4/lib/python3.11/site-packages (from markdown-it-py>=2.2.0->rich>=11.1->flax>=0.7.2->tensorflowjs) (0.1.2)\n",
            "Requirement already satisfied: pandas in /Users/jasmein/.pyenv/versions/3.11.4/lib/python3.11/site-packages (from tensorflow-decision-forests>=1.5.0->tensorflowjs) (2.2.3)\n",
            "Collecting wurlitzer (from tensorflow-decision-forests>=1.5.0->tensorflowjs)\n",
            "  Using cached wurlitzer-3.1.1-py3-none-any.whl.metadata (2.5 kB)\n",
            "Requirement already satisfied: MarkupSafe>=2.1.1 in /Users/jasmein/.pyenv/versions/3.11.4/lib/python3.11/site-packages (from werkzeug>=1.0.1->tensorboard<2.17,>=2.16->tensorflow<3,>=2.13.0->tensorflowjs) (2.1.5)\n",
            "Collecting chex>=0.1.87 (from optax->flax>=0.7.2->tensorflowjs)\n",
            "  Downloading chex-0.1.89-py3-none-any.whl.metadata (17 kB)\n",
            "Collecting etils[epy] (from optax->flax>=0.7.2->tensorflowjs)\n",
            "  Downloading etils-1.12.2-py3-none-any.whl.metadata (6.5 kB)\n",
            "Collecting toolz>=0.9.0 (from chex>=0.1.87->optax->flax>=0.7.2->tensorflowjs)\n",
            "  Downloading toolz-1.0.0-py3-none-any.whl.metadata (5.1 kB)\n",
            "Requirement already satisfied: nest_asyncio in /Users/jasmein/.pyenv/versions/3.11.4/lib/python3.11/site-packages (from orbax-checkpoint->flax>=0.7.2->tensorflowjs) (1.6.0)\n",
            "Collecting humanize (from orbax-checkpoint->flax>=0.7.2->tensorflowjs)\n",
            "  Downloading humanize-4.12.3-py3-none-any.whl.metadata (7.8 kB)\n",
            "Collecting simplejson>=3.16.0 (from orbax-checkpoint->flax>=0.7.2->tensorflowjs)\n",
            "  Downloading simplejson-3.20.1-cp311-cp311-macosx_10_9_x86_64.whl.metadata (3.3 kB)\n",
            "Collecting orbax-checkpoint (from flax>=0.7.2->tensorflowjs)\n",
            "  Downloading orbax_checkpoint-0.11.12-py3-none-any.whl.metadata (2.0 kB)\n",
            "  Downloading orbax_checkpoint-0.11.11-py3-none-any.whl.metadata (2.0 kB)\n",
            "  Downloading orbax_checkpoint-0.11.10-py3-none-any.whl.metadata (2.0 kB)\n",
            "  Downloading orbax_checkpoint-0.11.9-py3-none-any.whl.metadata (2.0 kB)\n",
            "  Downloading orbax_checkpoint-0.11.8-py3-none-any.whl.metadata (2.0 kB)\n",
            "  Downloading orbax_checkpoint-0.11.7-py3-none-any.whl.metadata (2.0 kB)\n",
            "  Downloading orbax_checkpoint-0.11.6-py3-none-any.whl.metadata (1.9 kB)\n",
            "  Downloading orbax_checkpoint-0.11.5-py3-none-any.whl.metadata (1.9 kB)\n",
            "INFO: pip is looking at multiple versions of tensorstore to determine which version is compatible with other requirements. This could take a while.\n",
            "Collecting tensorstore (from flax>=0.7.2->tensorflowjs)\n",
            "  Downloading tensorstore-0.1.74-cp311-cp311-macosx_10_14_x86_64.whl.metadata (21 kB)\n",
            "Requirement already satisfied: fsspec in /Users/jasmein/.pyenv/versions/3.11.4/lib/python3.11/site-packages (from etils[epy]->optax->flax>=0.7.2->tensorflowjs) (2025.2.0)\n",
            "Requirement already satisfied: zipp in /Users/jasmein/.pyenv/versions/3.11.4/lib/python3.11/site-packages (from etils[epy]->optax->flax>=0.7.2->tensorflowjs) (3.21.0)\n",
            "Requirement already satisfied: python-dateutil>=2.8.2 in /Users/jasmein/.pyenv/versions/3.11.4/lib/python3.11/site-packages (from pandas->tensorflow-decision-forests>=1.5.0->tensorflowjs) (2.9.0.post0)\n",
            "Requirement already satisfied: pytz>=2020.1 in /Users/jasmein/.pyenv/versions/3.11.4/lib/python3.11/site-packages (from pandas->tensorflow-decision-forests>=1.5.0->tensorflowjs) (2024.2)\n",
            "Requirement already satisfied: tzdata>=2022.7 in /Users/jasmein/.pyenv/versions/3.11.4/lib/python3.11/site-packages (from pandas->tensorflow-decision-forests>=1.5.0->tensorflowjs) (2024.2)\n",
            "Downloading tensorflowjs-4.22.0-py3-none-any.whl (89 kB)\n",
            "Downloading packaging-23.2-py3-none-any.whl (53 kB)\n",
            "Using cached ml_dtypes-0.3.2-cp311-cp311-macosx_10_9_universal2.whl (389 kB)\n",
            "Downloading protobuf-4.25.8-cp37-abi3-macosx_10_9_universal2.whl (394 kB)\n",
            "Downloading jax-0.4.34-py3-none-any.whl (2.1 MB)\n",
            "\u001b[2K   \u001b[90m━━━━━━━━━━━━━━━━━━━━━━━━━━━━━━━━━━━━━━━━\u001b[0m \u001b[32m2.1/2.1 MB\u001b[0m \u001b[31m1.6 MB/s\u001b[0m eta \u001b[36m0:00:00\u001b[0ma \u001b[36m0:00:01\u001b[0m\n",
            "\u001b[?25hDownloading jaxlib-0.4.34-cp311-cp311-macosx_10_14_x86_64.whl (87.4 MB)\n",
            "\u001b[2K   \u001b[90m━━━━━━━━━━━━━━━━━━━━━━━━━━━━━━━━━━━━━━━━\u001b[0m \u001b[32m87.4/87.4 MB\u001b[0m \u001b[31m2.3 MB/s\u001b[0m eta \u001b[36m0:00:00\u001b[0m00:01\u001b[0m00:01\u001b[0m\n",
            "\u001b[?25hDownloading flax-0.10.4-py3-none-any.whl (451 kB)\n",
            "Downloading tensorflow_decision_forests-1.9.0-cp311-cp311-macosx_10_15_x86_64.whl (12.6 MB)\n",
            "\u001b[2K   \u001b[90m━━━━━━━━━━━━━━━━━━━━━━━━━━━━━━━━━━━━━━━━\u001b[0m \u001b[32m12.6/12.6 MB\u001b[0m \u001b[31m2.1 MB/s\u001b[0m eta \u001b[36m0:00:00\u001b[0m00:01\u001b[0m00:01\u001b[0m\n",
            "\u001b[?25hDownloading treescope-0.1.9-py3-none-any.whl (182 kB)\n",
            "Downloading optax-0.2.4-py3-none-any.whl (319 kB)\n",
            "Downloading chex-0.1.89-py3-none-any.whl (99 kB)\n",
            "Downloading toolz-1.0.0-py3-none-any.whl (56 kB)\n",
            "Downloading etils-1.12.2-py3-none-any.whl (167 kB)\n",
            "Downloading orbax_checkpoint-0.11.5-py3-none-any.whl (342 kB)\n",
            "Downloading simplejson-3.20.1-cp311-cp311-macosx_10_9_x86_64.whl (74 kB)\n",
            "Downloading tensorstore-0.1.74-cp311-cp311-macosx_10_14_x86_64.whl (15.3 MB)\n",
            "\u001b[2K   \u001b[90m━━━━━━━━━━━━━━━━━━━━━━━━━━━━━━━━━━━━━━━━\u001b[0m \u001b[32m15.3/15.3 MB\u001b[0m \u001b[31m1.9 MB/s\u001b[0m eta \u001b[36m0:00:00\u001b[0m00:01\u001b[0m00:01\u001b[0m\n",
            "\u001b[?25hDownloading humanize-4.12.3-py3-none-any.whl (128 kB)\n",
            "Downloading wurlitzer-3.1.1-py3-none-any.whl (8.6 kB)\n",
            "Installing collected packages: wurlitzer, treescope, toolz, simplejson, protobuf, packaging, ml-dtypes, humanize, etils, tensorstore, jaxlib, jax, orbax-checkpoint, chex, optax, tensorflow-decision-forests, flax, tensorflowjs\n",
            "\u001b[2K  Attempting uninstall: protobufm━━━━━━━━━━━━━━━━━━━━━━━━━━━━━━━━━\u001b[0m \u001b[32m 3/18\u001b[0m [simplejson]\n",
            "\u001b[2K    Found existing installation: protobuf 5.29.3━━━━━━━━━━━━━━\u001b[0m \u001b[32m 3/18\u001b[0m [simplejson]\n",
            "\u001b[2K    Uninstalling protobuf-5.29.3:━━━━━━━━━━━━━━━━━━━━━━━━━━━━━\u001b[0m \u001b[32m 3/18\u001b[0m [simplejson]\n",
            "\u001b[2K      Successfully uninstalled protobuf-5.29.3━━━━━━━━━━━━━━━━\u001b[0m \u001b[32m 3/18\u001b[0m [simplejson]\n",
            "\u001b[2K  Attempting uninstall: packaging0m━━━━━━━━━━━━━━━━━━━━━━━━━━━━━━━\u001b[0m \u001b[32m 4/18\u001b[0m [protobuf]\n",
            "\u001b[2K    Found existing installation: packaging 24.1━━━━━━━━━━━━━━━\u001b[0m \u001b[32m 4/18\u001b[0m [protobuf]\n",
            "\u001b[2K    Uninstalling packaging-24.1:━━━━━━━━━━━━━━━━━━━━━━━━━━━━━━\u001b[0m \u001b[32m 4/18\u001b[0m [protobuf]\n",
            "\u001b[2K      Successfully uninstalled packaging-24.1━━━━━━━━━━━━━━━━━\u001b[0m \u001b[32m 4/18\u001b[0m [protobuf]\n",
            "\u001b[2K  Attempting uninstall: ml-dtypes\u001b[90m━━━━━━━━━━━━━━━━━━━━━━━━━━━━\u001b[0m \u001b[32m 5/18\u001b[0m [packaging]\n",
            "\u001b[2K    Found existing installation: ml_dtypes 0.5.0━━━━━━━━━━━━━━\u001b[0m \u001b[32m 5/18\u001b[0m [packaging]\n",
            "\u001b[2K    Uninstalling ml_dtypes-0.5.0:m━━━━━━━━━━━━━━━━━━━━━━━━━━━━\u001b[0m \u001b[32m 5/18\u001b[0m [packaging]\n",
            "\u001b[2K      Successfully uninstalled ml_dtypes-0.5.0━━━━━━━━━━━━━━━━\u001b[0m \u001b[32m 5/18\u001b[0m [packaging]\n",
            "\u001b[2K  Attempting uninstall: jaxlib0m\u001b[90m╺\u001b[0m\u001b[90m━━━━━━━━━━━━━━━━━━━\u001b[0m \u001b[32m 9/18\u001b[0m [tensorstore]\n",
            "\u001b[2K    Found existing installation: jaxlib 0.4.35━━━━━━━━━━━━━━━━\u001b[0m \u001b[32m 9/18\u001b[0m [tensorstore]\n",
            "\u001b[2K    Uninstalling jaxlib-0.4.35:[0m\u001b[90m╺\u001b[0m\u001b[90m━━━━━━━━━━━━━━━━━\u001b[0m \u001b[32m10/18\u001b[0m [jaxlib]]\n",
            "\u001b[2K      Successfully uninstalled jaxlib-0.4.35m━━━━━━━━━━━━━━━━━\u001b[0m \u001b[32m10/18\u001b[0m [jaxlib]\n",
            "\u001b[2K  Attempting uninstall: jax━━━\u001b[0m\u001b[90m╺\u001b[0m\u001b[90m━━━━━━━━━━━━━━━━━\u001b[0m \u001b[32m10/18\u001b[0m [jaxlib]\n",
            "\u001b[2K    Found existing installation: jax 0.4.350m━━━━━━━━━━━━━━━━━\u001b[0m \u001b[32m10/18\u001b[0m [jaxlib]\n",
            "\u001b[2K    Uninstalling jax-0.4.35:━━━━\u001b[0m\u001b[90m╺\u001b[0m\u001b[90m━━━━━━━━━━━━━━━\u001b[0m \u001b[32m11/18\u001b[0m [jax]\n",
            "\u001b[2K      Successfully uninstalled jax-0.4.35m\u001b[90m━━━━━━━━━━━━━━━\u001b[0m \u001b[32m11/18\u001b[0m [jax]\n",
            "\u001b[2K   \u001b[90m━━━━━━━━━━━━━━━━━━━━━━━━━━━━━━━━━━━━━━━━\u001b[0m \u001b[32m18/18\u001b[0m [tensorflowjs][0m [tensorflowjs]cision-forests]\n",
            "\u001b[1A\u001b[2K\u001b[31mERROR: pip's dependency resolver does not currently take into account all the packages that are installed. This behaviour is the source of the following dependency conflicts.\n",
            "opentelemetry-proto 1.30.0 requires protobuf<6.0,>=5.0, but you have protobuf 4.25.8 which is incompatible.\u001b[0m\u001b[31m\n",
            "\u001b[0mSuccessfully installed chex-0.1.89 etils-1.12.2 flax-0.10.4 humanize-4.12.3 jax-0.4.34 jaxlib-0.4.34 ml-dtypes-0.3.2 optax-0.2.4 orbax-checkpoint-0.11.5 packaging-23.2 protobuf-4.25.8 simplejson-3.20.1 tensorflow-decision-forests-1.9.0 tensorflowjs-4.22.0 tensorstore-0.1.74 toolz-1.0.0 treescope-0.1.9 wurlitzer-3.1.1\n"
          ]
        }
      ],
      "source": [
        "!pip install --no-build-isolation tensorflowjs\n"
      ]
    },
    {
      "cell_type": "code",
      "execution_count": 9,
      "metadata": {
        "id": "s7a7sh7qsO1Z"
      },
      "outputs": [],
      "source": [
        "import re\n",
        "import ast\n",
        "import json \n",
        "import pickle\n",
        "from collections import Counter\n",
        "\n",
        "import numpy as np\n",
        "import pandas as pd\n",
        "import matplotlib.pyplot as plt\n",
        "\n",
        "from sklearn.preprocessing import MultiLabelBinarizer\n",
        "from sklearn.model_selection import train_test_split\n",
        "from sklearn.utils import shuffle\n",
        "from sklearn.metrics import classification_report, accuracy_score, f1_score, hamming_loss, jaccard_score\n",
        "\n",
        "import tensorflow as tf\n",
        "import tensorflowjs as tfjs\n",
        "from tensorflow.keras import backend as K\n",
        "from tensorflow.keras.models import Sequential, load_model\n",
        "from tensorflow.keras.layers import Input, Dense, Dropout, BatchNormalization\n",
        "from tensorflow.keras.callbacks import EarlyStopping, ReduceLROnPlateau"
      ]
    },
    {
      "cell_type": "markdown",
      "metadata": {
        "id": "gmItR1V6wyqS"
      },
      "source": [
        "## Load Data"
      ]
    },
    {
      "cell_type": "code",
      "execution_count": 10,
      "metadata": {
        "colab": {
          "base_uri": "https://localhost:8080/",
          "height": 504
        },
        "id": "jKGKXx-BPUqn",
        "outputId": "c3f0438b-6919-4f24-de49-79dfcbb3dda1"
      },
      "outputs": [
        {
          "data": {
            "text/html": [
              "<div>\n",
              "<style scoped>\n",
              "    .dataframe tbody tr th:only-of-type {\n",
              "        vertical-align: middle;\n",
              "    }\n",
              "\n",
              "    .dataframe tbody tr th {\n",
              "        vertical-align: top;\n",
              "    }\n",
              "\n",
              "    .dataframe thead th {\n",
              "        text-align: right;\n",
              "    }\n",
              "</style>\n",
              "<table border=\"1\" class=\"dataframe\">\n",
              "  <thead>\n",
              "    <tr style=\"text-align: right;\">\n",
              "      <th></th>\n",
              "      <th>url</th>\n",
              "      <th>image</th>\n",
              "      <th>product_name</th>\n",
              "      <th>brand</th>\n",
              "      <th>category</th>\n",
              "      <th>price</th>\n",
              "      <th>rating</th>\n",
              "      <th>skin_type</th>\n",
              "      <th>total_reviews</th>\n",
              "      <th>skin_concern</th>\n",
              "      <th>ingredients</th>\n",
              "      <th>ingredient_category</th>\n",
              "      <th>skin_goal</th>\n",
              "      <th>age</th>\n",
              "      <th>rating_star</th>\n",
              "    </tr>\n",
              "  </thead>\n",
              "  <tbody>\n",
              "    <tr>\n",
              "      <th>0</th>\n",
              "      <td>https://reviews.femaledaily.com/products/treat...</td>\n",
              "      <td>https://image.femaledaily.com/dyn/210/images/p...</td>\n",
              "      <td>Acne Gel</td>\n",
              "      <td>Verile</td>\n",
              "      <td>Acne treatment</td>\n",
              "      <td>20000</td>\n",
              "      <td>3.7</td>\n",
              "      <td>['combination', 'oily']</td>\n",
              "      <td>81477</td>\n",
              "      <td>['acne', 'blackheads']</td>\n",
              "      <td>['niacinamide', 'licorice, niacinamide', 'niac...</td>\n",
              "      <td>['acne', 'brightening']</td>\n",
              "      <td>['brightening', 'hydrating']</td>\n",
              "      <td>19 - 24</td>\n",
              "      <td>4.343434</td>\n",
              "    </tr>\n",
              "    <tr>\n",
              "      <th>1</th>\n",
              "      <td>https://reviews.femaledaily.com/products/treat...</td>\n",
              "      <td>https://image.femaledaily.com/dyn/300/remaster...</td>\n",
              "      <td>Acne Patch</td>\n",
              "      <td>Derma Angel</td>\n",
              "      <td>Acne treatment</td>\n",
              "      <td>43000</td>\n",
              "      <td>4.1</td>\n",
              "      <td>['combination', 'oily']</td>\n",
              "      <td>131694</td>\n",
              "      <td>['sensitive', 'irritation']</td>\n",
              "      <td>['niacinamide', 'tea tree', 'salicylic acid']</td>\n",
              "      <td>['acne', 'brightening']</td>\n",
              "      <td>['hydrating', 'smoothing']</td>\n",
              "      <td>19 - 24</td>\n",
              "      <td>4.695035</td>\n",
              "    </tr>\n",
              "    <tr>\n",
              "      <th>2</th>\n",
              "      <td>https://reviews.femaledaily.com/products/clean...</td>\n",
              "      <td>https://image.femaledaily.com/dyn/210/images/p...</td>\n",
              "      <td>Bright Complete Brightening Face Wash Foam</td>\n",
              "      <td>Garnier</td>\n",
              "      <td>Facial Wash</td>\n",
              "      <td>27000</td>\n",
              "      <td>3.2</td>\n",
              "      <td>['combination', 'normal']</td>\n",
              "      <td>127058</td>\n",
              "      <td>['acne', 'redness']</td>\n",
              "      <td>['salicylic acid, vitamin c', 'vitamin c', 'sa...</td>\n",
              "      <td>['acne', 'brightening']</td>\n",
              "      <td>['calming', 'fast-absorbing']</td>\n",
              "      <td>19 - 24</td>\n",
              "      <td>4.316832</td>\n",
              "    </tr>\n",
              "    <tr>\n",
              "      <th>3</th>\n",
              "      <td>https://reviews.femaledaily.com/products/treat...</td>\n",
              "      <td>https://image.femaledaily.com/dyn/210/images/p...</td>\n",
              "      <td>CL</td>\n",
              "      <td>Benzolac</td>\n",
              "      <td>Acne treatment</td>\n",
              "      <td>32000</td>\n",
              "      <td>3.8</td>\n",
              "      <td>['combination', 'oily']</td>\n",
              "      <td>22718</td>\n",
              "      <td>['pores', 'blackheads']</td>\n",
              "      <td>['niacinamide', 'niacinamide, salicylic acid',...</td>\n",
              "      <td>['acne', 'brightening']</td>\n",
              "      <td>['pore-minimizing', 'brightening']</td>\n",
              "      <td>19 - 24</td>\n",
              "      <td>4.405405</td>\n",
              "    </tr>\n",
              "    <tr>\n",
              "      <th>4</th>\n",
              "      <td>https://reviews.femaledaily.com/products/treat...</td>\n",
              "      <td>https://image.femaledaily.com/dyn/210/images/p...</td>\n",
              "      <td>Acne Care Lotion</td>\n",
              "      <td>Sariayu</td>\n",
              "      <td>Acne treatment</td>\n",
              "      <td>48000</td>\n",
              "      <td>3.6</td>\n",
              "      <td>['combination', 'oily']</td>\n",
              "      <td>4998</td>\n",
              "      <td>['dryness', 'sensitive']</td>\n",
              "      <td>['bha', 'tea tree', 'retinol', 'centella asiat...</td>\n",
              "      <td>['acne', 'calming']</td>\n",
              "      <td>['barrier-repair', 'calming']</td>\n",
              "      <td>25 - 29</td>\n",
              "      <td>4.264706</td>\n",
              "    </tr>\n",
              "  </tbody>\n",
              "</table>\n",
              "</div>"
            ],
            "text/plain": [
              "                                                 url  \\\n",
              "0  https://reviews.femaledaily.com/products/treat...   \n",
              "1  https://reviews.femaledaily.com/products/treat...   \n",
              "2  https://reviews.femaledaily.com/products/clean...   \n",
              "3  https://reviews.femaledaily.com/products/treat...   \n",
              "4  https://reviews.femaledaily.com/products/treat...   \n",
              "\n",
              "                                               image  \\\n",
              "0  https://image.femaledaily.com/dyn/210/images/p...   \n",
              "1  https://image.femaledaily.com/dyn/300/remaster...   \n",
              "2  https://image.femaledaily.com/dyn/210/images/p...   \n",
              "3  https://image.femaledaily.com/dyn/210/images/p...   \n",
              "4  https://image.femaledaily.com/dyn/210/images/p...   \n",
              "\n",
              "                                 product_name        brand        category  \\\n",
              "0                                    Acne Gel       Verile  Acne treatment   \n",
              "1                                  Acne Patch  Derma Angel  Acne treatment   \n",
              "2  Bright Complete Brightening Face Wash Foam      Garnier     Facial Wash   \n",
              "3                                          CL     Benzolac  Acne treatment   \n",
              "4                            Acne Care Lotion      Sariayu  Acne treatment   \n",
              "\n",
              "   price  rating                  skin_type  total_reviews  \\\n",
              "0  20000     3.7    ['combination', 'oily']          81477   \n",
              "1  43000     4.1    ['combination', 'oily']         131694   \n",
              "2  27000     3.2  ['combination', 'normal']         127058   \n",
              "3  32000     3.8    ['combination', 'oily']          22718   \n",
              "4  48000     3.6    ['combination', 'oily']           4998   \n",
              "\n",
              "                  skin_concern  \\\n",
              "0       ['acne', 'blackheads']   \n",
              "1  ['sensitive', 'irritation']   \n",
              "2          ['acne', 'redness']   \n",
              "3      ['pores', 'blackheads']   \n",
              "4     ['dryness', 'sensitive']   \n",
              "\n",
              "                                         ingredients      ingredient_category  \\\n",
              "0  ['niacinamide', 'licorice, niacinamide', 'niac...  ['acne', 'brightening']   \n",
              "1      ['niacinamide', 'tea tree', 'salicylic acid']  ['acne', 'brightening']   \n",
              "2  ['salicylic acid, vitamin c', 'vitamin c', 'sa...  ['acne', 'brightening']   \n",
              "3  ['niacinamide', 'niacinamide, salicylic acid',...  ['acne', 'brightening']   \n",
              "4  ['bha', 'tea tree', 'retinol', 'centella asiat...      ['acne', 'calming']   \n",
              "\n",
              "                            skin_goal      age  rating_star  \n",
              "0        ['brightening', 'hydrating']  19 - 24     4.343434  \n",
              "1          ['hydrating', 'smoothing']  19 - 24     4.695035  \n",
              "2       ['calming', 'fast-absorbing']  19 - 24     4.316832  \n",
              "3  ['pore-minimizing', 'brightening']  19 - 24     4.405405  \n",
              "4       ['barrier-repair', 'calming']  25 - 29     4.264706  "
            ]
          },
          "execution_count": 10,
          "metadata": {},
          "output_type": "execute_result"
        }
      ],
      "source": [
        "# Load the CSV file\n",
        "df = pd.read_csv('../data/products_integrated_features.csv', encoding='ISO-8859-1')\n",
        "df.head()"
      ]
    },
    {
      "cell_type": "markdown",
      "metadata": {},
      "source": [
        "## Data Selection"
      ]
    },
    {
      "cell_type": "code",
      "execution_count": 11,
      "metadata": {
        "colab": {
          "base_uri": "https://localhost:8080/",
          "height": 293
        },
        "id": "mSFjsdNmtSp5",
        "outputId": "921a8af5-fc06-4e3b-da8c-69aca62bf37a"
      },
      "outputs": [
        {
          "data": {
            "text/html": [
              "<div>\n",
              "<style scoped>\n",
              "    .dataframe tbody tr th:only-of-type {\n",
              "        vertical-align: middle;\n",
              "    }\n",
              "\n",
              "    .dataframe tbody tr th {\n",
              "        vertical-align: top;\n",
              "    }\n",
              "\n",
              "    .dataframe thead th {\n",
              "        text-align: right;\n",
              "    }\n",
              "</style>\n",
              "<table border=\"1\" class=\"dataframe\">\n",
              "  <thead>\n",
              "    <tr style=\"text-align: right;\">\n",
              "      <th></th>\n",
              "      <th>skin_type</th>\n",
              "      <th>skin_concern</th>\n",
              "      <th>skin_goal</th>\n",
              "      <th>ingredient_category</th>\n",
              "    </tr>\n",
              "  </thead>\n",
              "  <tbody>\n",
              "    <tr>\n",
              "      <th>0</th>\n",
              "      <td>['combination', 'oily']</td>\n",
              "      <td>['acne', 'blackheads']</td>\n",
              "      <td>['brightening', 'hydrating']</td>\n",
              "      <td>['acne', 'brightening']</td>\n",
              "    </tr>\n",
              "    <tr>\n",
              "      <th>1</th>\n",
              "      <td>['combination', 'oily']</td>\n",
              "      <td>['sensitive', 'irritation']</td>\n",
              "      <td>['hydrating', 'smoothing']</td>\n",
              "      <td>['acne', 'brightening']</td>\n",
              "    </tr>\n",
              "    <tr>\n",
              "      <th>2</th>\n",
              "      <td>['combination', 'normal']</td>\n",
              "      <td>['acne', 'redness']</td>\n",
              "      <td>['calming', 'fast-absorbing']</td>\n",
              "      <td>['acne', 'brightening']</td>\n",
              "    </tr>\n",
              "    <tr>\n",
              "      <th>3</th>\n",
              "      <td>['combination', 'oily']</td>\n",
              "      <td>['pores', 'blackheads']</td>\n",
              "      <td>['pore-minimizing', 'brightening']</td>\n",
              "      <td>['acne', 'brightening']</td>\n",
              "    </tr>\n",
              "    <tr>\n",
              "      <th>4</th>\n",
              "      <td>['combination', 'oily']</td>\n",
              "      <td>['dryness', 'sensitive']</td>\n",
              "      <td>['barrier-repair', 'calming']</td>\n",
              "      <td>['acne', 'calming']</td>\n",
              "    </tr>\n",
              "  </tbody>\n",
              "</table>\n",
              "</div>"
            ],
            "text/plain": [
              "                   skin_type                 skin_concern  \\\n",
              "0    ['combination', 'oily']       ['acne', 'blackheads']   \n",
              "1    ['combination', 'oily']  ['sensitive', 'irritation']   \n",
              "2  ['combination', 'normal']          ['acne', 'redness']   \n",
              "3    ['combination', 'oily']      ['pores', 'blackheads']   \n",
              "4    ['combination', 'oily']     ['dryness', 'sensitive']   \n",
              "\n",
              "                            skin_goal      ingredient_category  \n",
              "0        ['brightening', 'hydrating']  ['acne', 'brightening']  \n",
              "1          ['hydrating', 'smoothing']  ['acne', 'brightening']  \n",
              "2       ['calming', 'fast-absorbing']  ['acne', 'brightening']  \n",
              "3  ['pore-minimizing', 'brightening']  ['acne', 'brightening']  \n",
              "4       ['barrier-repair', 'calming']      ['acne', 'calming']  "
            ]
          },
          "execution_count": 11,
          "metadata": {},
          "output_type": "execute_result"
        }
      ],
      "source": [
        "# Mengambil kolom yang relevan\n",
        "df = df[['skin_type','skin_concern','skin_goal','ingredient_category']]\n",
        "df.head()"
      ]
    },
    {
      "cell_type": "code",
      "execution_count": 12,
      "metadata": {
        "colab": {
          "base_uri": "https://localhost:8080/"
        },
        "id": "jZknzgUgsvoG",
        "outputId": "6621b488-78c7-4a02-fdb8-39a29671b6e9"
      },
      "outputs": [
        {
          "name": "stdout",
          "output_type": "stream",
          "text": [
            "<class 'pandas.core.frame.DataFrame'>\n",
            "RangeIndex: 908 entries, 0 to 907\n",
            "Data columns (total 4 columns):\n",
            " #   Column               Non-Null Count  Dtype \n",
            "---  ------               --------------  ----- \n",
            " 0   skin_type            908 non-null    object\n",
            " 1   skin_concern         908 non-null    object\n",
            " 2   skin_goal            908 non-null    object\n",
            " 3   ingredient_category  885 non-null    object\n",
            "dtypes: object(4)\n",
            "memory usage: 28.5+ KB\n"
          ]
        }
      ],
      "source": [
        "# Information about the DataFrame\n",
        "df.info()"
      ]
    },
    {
      "cell_type": "markdown",
      "metadata": {},
      "source": [
        "## Data Cleaning & Parsing"
      ]
    },
    {
      "cell_type": "code",
      "execution_count": 13,
      "metadata": {
        "id": "ROS0DMmwuJca"
      },
      "outputs": [],
      "source": [
        "# Menggunakan ast untuk evaluasi literal\n",
        "# Fungsi flatten list\n",
        "def flatten_list(nested_lst):\n",
        "    flat = []\n",
        "    for item in nested_lst:\n",
        "        if isinstance(item, list):\n",
        "            flat.extend(flatten_list(item))\n",
        "        else:\n",
        "            flat.append(item)\n",
        "    return flat\n",
        "\n",
        "# Fungsi untuk parsing dan membersihkan data\n",
        "def parse_and_clean(cell):\n",
        "    # Cek kalau sudah list langsung pakai\n",
        "    if isinstance(cell, list):\n",
        "        lst = cell\n",
        "    # Kalau string, coba literal_eval ke list Python\n",
        "    elif isinstance(cell, str):\n",
        "        try:\n",
        "            lst = ast.literal_eval(cell)\n",
        "        except:\n",
        "            lst = [cell]\n",
        "    # Tangani nilai NaN\n",
        "    elif pd.isna(cell):\n",
        "        return []\n",
        "    else:\n",
        "        # Kalau bukan list/string/NaN, jadikan string dalam list\n",
        "        lst = [str(cell)]\n",
        "\n",
        "    # Flatten nested list\n",
        "    flat_list = flatten_list(lst)\n",
        "\n",
        "    # Split elemen dengan koma\n",
        "    split_list = []\n",
        "    for item in flat_list:\n",
        "        if isinstance(item, str):\n",
        "            parts = [part.strip() for part in item.split(',')]\n",
        "            split_list.extend(parts)\n",
        "        else:\n",
        "            split_list.append(str(item).strip())\n",
        "\n",
        "    # Normalisasi dan hapus duplikat\n",
        "    seen = set()\n",
        "    result = []\n",
        "    for item in split_list:\n",
        "        item_norm = re.sub(r'[\\[\\]\\'\\\"]', '', item.lower().strip())\n",
        "        if item_norm and item_norm not in seen:\n",
        "            seen.add(item_norm)\n",
        "            result.append(item_norm)\n",
        "\n",
        "    return result\n"
      ]
    },
    {
      "cell_type": "code",
      "execution_count": 14,
      "metadata": {
        "colab": {
          "base_uri": "https://localhost:8080/",
          "height": 293
        },
        "id": "PyZe8gCzmcqZ",
        "outputId": "2c143360-9451-428d-a24c-9fa6cac6f784"
      },
      "outputs": [
        {
          "data": {
            "text/html": [
              "<div>\n",
              "<style scoped>\n",
              "    .dataframe tbody tr th:only-of-type {\n",
              "        vertical-align: middle;\n",
              "    }\n",
              "\n",
              "    .dataframe tbody tr th {\n",
              "        vertical-align: top;\n",
              "    }\n",
              "\n",
              "    .dataframe thead th {\n",
              "        text-align: right;\n",
              "    }\n",
              "</style>\n",
              "<table border=\"1\" class=\"dataframe\">\n",
              "  <thead>\n",
              "    <tr style=\"text-align: right;\">\n",
              "      <th></th>\n",
              "      <th>skin_type</th>\n",
              "      <th>skin_concern</th>\n",
              "      <th>skin_goal</th>\n",
              "      <th>ingredient_category</th>\n",
              "    </tr>\n",
              "  </thead>\n",
              "  <tbody>\n",
              "    <tr>\n",
              "      <th>0</th>\n",
              "      <td>[combination, oily]</td>\n",
              "      <td>[acne, blackheads]</td>\n",
              "      <td>[brightening, hydrating]</td>\n",
              "      <td>[acne, brightening]</td>\n",
              "    </tr>\n",
              "    <tr>\n",
              "      <th>1</th>\n",
              "      <td>[combination, oily]</td>\n",
              "      <td>[sensitive, irritation]</td>\n",
              "      <td>[hydrating, smoothing]</td>\n",
              "      <td>[acne, brightening]</td>\n",
              "    </tr>\n",
              "    <tr>\n",
              "      <th>2</th>\n",
              "      <td>[combination, normal]</td>\n",
              "      <td>[acne, redness]</td>\n",
              "      <td>[calming, fast-absorbing]</td>\n",
              "      <td>[acne, brightening]</td>\n",
              "    </tr>\n",
              "    <tr>\n",
              "      <th>3</th>\n",
              "      <td>[combination, oily]</td>\n",
              "      <td>[pores, blackheads]</td>\n",
              "      <td>[pore-minimizing, brightening]</td>\n",
              "      <td>[acne, brightening]</td>\n",
              "    </tr>\n",
              "    <tr>\n",
              "      <th>4</th>\n",
              "      <td>[combination, oily]</td>\n",
              "      <td>[dryness, sensitive]</td>\n",
              "      <td>[barrier-repair, calming]</td>\n",
              "      <td>[acne, calming]</td>\n",
              "    </tr>\n",
              "  </tbody>\n",
              "</table>\n",
              "</div>"
            ],
            "text/plain": [
              "               skin_type             skin_concern  \\\n",
              "0    [combination, oily]       [acne, blackheads]   \n",
              "1    [combination, oily]  [sensitive, irritation]   \n",
              "2  [combination, normal]          [acne, redness]   \n",
              "3    [combination, oily]      [pores, blackheads]   \n",
              "4    [combination, oily]     [dryness, sensitive]   \n",
              "\n",
              "                        skin_goal  ingredient_category  \n",
              "0        [brightening, hydrating]  [acne, brightening]  \n",
              "1          [hydrating, smoothing]  [acne, brightening]  \n",
              "2       [calming, fast-absorbing]  [acne, brightening]  \n",
              "3  [pore-minimizing, brightening]  [acne, brightening]  \n",
              "4       [barrier-repair, calming]      [acne, calming]  "
            ]
          },
          "execution_count": 14,
          "metadata": {},
          "output_type": "execute_result"
        }
      ],
      "source": [
        "# Apply the parsing and cleaning function to each column\n",
        "cols = df.columns\n",
        "for col in cols:\n",
        "    df[col] = df[col].apply(parse_and_clean)\n",
        "\n",
        "df.head()"
      ]
    },
    {
      "cell_type": "code",
      "execution_count": 15,
      "metadata": {
        "colab": {
          "base_uri": "https://localhost:8080/"
        },
        "id": "URI4XvrGv-Wa",
        "outputId": "39de67b2-f640-48ef-fb81-7d309ecbfeac"
      },
      "outputs": [
        {
          "name": "stdout",
          "output_type": "stream",
          "text": [
            "skin_type: 0 list kosong\n",
            "skin_concern: 0 list kosong\n",
            "skin_goal: 0 list kosong\n",
            "ingredient_category: 23 list kosong\n",
            "\n",
            "skin_type: 0 baris (0.00%) mengandung 'unknown'\n",
            "skin_concern: 0 baris (0.00%) mengandung 'unknown'\n",
            "skin_goal: 0 baris (0.00%) mengandung 'unknown'\n",
            "ingredient_category: 0 baris (0.00%) mengandung 'unknown'\n"
          ]
        }
      ],
      "source": [
        "# Cek berapa banyak list kosong di tiap kolom\n",
        "for col in df.columns:\n",
        "    empty_count = df[col].apply(lambda x: isinstance(x, list) and len(x) == 0).sum()\n",
        "    print(f\"{col}: {empty_count} list kosong\")\n",
        "print()\n",
        "\n",
        "# Cek jumlah unknown\n",
        "total = len(df)\n",
        "for col in cols:\n",
        "    count = df[col].apply(lambda x: 'unknown' in x).sum()\n",
        "    percent = count / total * 100\n",
        "    print(f\"{col}: {count} baris ({percent:.2f}%) mengandung 'unknown'\")"
      ]
    },
    {
      "cell_type": "code",
      "execution_count": 34,
      "metadata": {
        "colab": {
          "base_uri": "https://localhost:8080/",
          "height": 293
        },
        "id": "GbfqrjVLwTAT",
        "outputId": "7ba1ca05-4c00-4f06-9237-56f9ea739d8c"
      },
      "outputs": [
        {
          "data": {
            "text/html": [
              "<div>\n",
              "<style scoped>\n",
              "    .dataframe tbody tr th:only-of-type {\n",
              "        vertical-align: middle;\n",
              "    }\n",
              "\n",
              "    .dataframe tbody tr th {\n",
              "        vertical-align: top;\n",
              "    }\n",
              "\n",
              "    .dataframe thead th {\n",
              "        text-align: right;\n",
              "    }\n",
              "</style>\n",
              "<table border=\"1\" class=\"dataframe\">\n",
              "  <thead>\n",
              "    <tr style=\"text-align: right;\">\n",
              "      <th></th>\n",
              "      <th>skin_type</th>\n",
              "      <th>skin_concern</th>\n",
              "      <th>skin_goal</th>\n",
              "      <th>ingredient_category</th>\n",
              "    </tr>\n",
              "  </thead>\n",
              "  <tbody>\n",
              "    <tr>\n",
              "      <th>0</th>\n",
              "      <td>[combination, oily]</td>\n",
              "      <td>[acne, blackheads]</td>\n",
              "      <td>[brightening, hydrating]</td>\n",
              "      <td>[acne, brightening]</td>\n",
              "    </tr>\n",
              "    <tr>\n",
              "      <th>1</th>\n",
              "      <td>[combination, oily]</td>\n",
              "      <td>[sensitive, irritation]</td>\n",
              "      <td>[hydrating, smoothing]</td>\n",
              "      <td>[acne, brightening]</td>\n",
              "    </tr>\n",
              "    <tr>\n",
              "      <th>2</th>\n",
              "      <td>[combination, normal]</td>\n",
              "      <td>[acne, redness]</td>\n",
              "      <td>[calming, fast-absorbing]</td>\n",
              "      <td>[acne, brightening]</td>\n",
              "    </tr>\n",
              "    <tr>\n",
              "      <th>3</th>\n",
              "      <td>[combination, oily]</td>\n",
              "      <td>[pores, blackheads]</td>\n",
              "      <td>[pore-minimizing, brightening]</td>\n",
              "      <td>[acne, brightening]</td>\n",
              "    </tr>\n",
              "    <tr>\n",
              "      <th>4</th>\n",
              "      <td>[combination, oily]</td>\n",
              "      <td>[dryness, sensitive]</td>\n",
              "      <td>[barrier-repair, calming]</td>\n",
              "      <td>[acne, calming]</td>\n",
              "    </tr>\n",
              "  </tbody>\n",
              "</table>\n",
              "</div>"
            ],
            "text/plain": [
              "               skin_type             skin_concern  \\\n",
              "0    [combination, oily]       [acne, blackheads]   \n",
              "1    [combination, oily]  [sensitive, irritation]   \n",
              "2  [combination, normal]          [acne, redness]   \n",
              "3    [combination, oily]      [pores, blackheads]   \n",
              "4    [combination, oily]     [dryness, sensitive]   \n",
              "\n",
              "                        skin_goal  ingredient_category  \n",
              "0        [brightening, hydrating]  [acne, brightening]  \n",
              "1          [hydrating, smoothing]  [acne, brightening]  \n",
              "2       [calming, fast-absorbing]  [acne, brightening]  \n",
              "3  [pore-minimizing, brightening]  [acne, brightening]  \n",
              "4       [barrier-repair, calming]      [acne, calming]  "
            ]
          },
          "execution_count": 34,
          "metadata": {},
          "output_type": "execute_result"
        }
      ],
      "source": [
        "# Hapus baris yang nan atau kosong di kolom ingredients category\n",
        "df_cleaned = df.dropna(subset=['ingredient_category'])\n",
        "\n",
        "df_cleaned.head()"
      ]
    },
    {
      "cell_type": "markdown",
      "metadata": {},
      "source": [
        "## Visualisasi Data"
      ]
    },
    {
      "cell_type": "code",
      "execution_count": 35,
      "metadata": {},
      "outputs": [
        {
          "name": "stdout",
          "output_type": "stream",
          "text": [
            "Jumlah unik ingredient categories: 6\n",
            "Jumlah unik skin types: 4\n",
            "Jumlah unik skin concerns: 15\n",
            "Jumlah unik skin goals: 20\n"
          ]
        }
      ],
      "source": [
        "# Flatten semua list di kolom ingredients, ingredient_category, skin_type, skin_concern, dan skin_goal\n",
        "all_ingredients_category = [item for sublist in df_cleaned['ingredient_category'] for item in sublist]\n",
        "all_skin_types = [item for sublist in df_cleaned['skin_type'] for item in sublist]\n",
        "all_skin_concerns = [item for sublist in df_cleaned['skin_concern'] for item in sublist]\n",
        "all_skin_goals = [item for sublist in df_cleaned['skin_goal'] for item in sublist]\n",
        "\n",
        "# Hitung frekuensi kemunculan setiap ingredient category, ingredient, skin type, skin concern, dan skin goal\n",
        "ingredient_category_counts = Counter(all_ingredients_category)\n",
        "skin_type_counts = Counter(all_skin_types)\n",
        "skin_concern_counts = Counter(all_skin_concerns)\n",
        "skin_goal_counts = Counter(all_skin_goals)\n",
        "\n",
        "# Tampilkan berapa banyak tiap kategori, ingredient, skin type, skin concern, dan skin goal yang unik\n",
        "print(f\"Jumlah unik ingredient categories: {len(ingredient_category_counts)}\")\n",
        "print(f\"Jumlah unik skin types: {len(skin_type_counts)}\")\n",
        "print(f\"Jumlah unik skin concerns: {len(skin_concern_counts)}\")\n",
        "print(f\"Jumlah unik skin goals: {len(skin_goal_counts)}\")"
      ]
    },
    {
      "cell_type": "code",
      "execution_count": 36,
      "metadata": {},
      "outputs": [
        {
          "name": "stdout",
          "output_type": "stream",
          "text": [
            "\n",
            "Jumlah kemunculan tiap ingredient category:\n",
            "acne: 94 kali\n",
            "brightening: 472 kali\n",
            "calming: 128 kali\n",
            "exfoliant: 81 kali\n",
            "hydrating: 397 kali\n",
            "anti_aging: 74 kali\n"
          ]
        }
      ],
      "source": [
        "# Tampilkan jumlah kemunculan tiap kategori, ingredient, skin type, skin concern, dan skin goal\n",
        "print(\"\\nJumlah kemunculan tiap ingredient category:\")\n",
        "for ingredient_category, count in ingredient_category_counts.items():\n",
        "    print(f\"{ingredient_category}: {count} kali\")"
      ]
    },
    {
      "cell_type": "code",
      "execution_count": 37,
      "metadata": {},
      "outputs": [
        {
          "name": "stdout",
          "output_type": "stream",
          "text": [
            "\n",
            "Jumlah kemunculan tiap skin type:\n",
            "combination: 891 kali\n",
            "oily: 635 kali\n",
            "normal: 118 kali\n",
            "dry: 169 kali\n"
          ]
        }
      ],
      "source": [
        "print(\"\\nJumlah kemunculan tiap skin type:\")\n",
        "for skin_type, count in skin_type_counts.items():\n",
        "    print(f\"{skin_type}: {count} kali\")\n"
      ]
    },
    {
      "cell_type": "code",
      "execution_count": 38,
      "metadata": {},
      "outputs": [
        {
          "name": "stdout",
          "output_type": "stream",
          "text": [
            "\n",
            "Jumlah kemunculan tiap skin concern:\n",
            "acne: 595 kali\n",
            "blackheads: 84 kali\n",
            "sensitive: 377 kali\n",
            "irritation: 138 kali\n",
            "redness: 73 kali\n",
            "pores: 100 kali\n",
            "dryness: 219 kali\n",
            "fine lines: 34 kali\n",
            "wrinkles: 22 kali\n",
            "oiliness: 64 kali\n",
            "hyperpigmentation: 8 kali\n",
            "tiny bumps: 19 kali\n",
            "dark spots: 22 kali\n",
            "whiteheads: 3 kali\n",
            "dull skin: 41 kali\n"
          ]
        }
      ],
      "source": [
        "print(\"\\nJumlah kemunculan tiap skin concern:\")\n",
        "for skin_concern, count in skin_concern_counts.items():\n",
        "    print(f\"{skin_concern}: {count} kali\")\n"
      ]
    },
    {
      "cell_type": "code",
      "execution_count": 39,
      "metadata": {},
      "outputs": [
        {
          "name": "stdout",
          "output_type": "stream",
          "text": [
            "\n",
            "Jumlah kemunculan tiap skin goal:\n",
            "brightening: 391 kali\n",
            "hydrating: 539 kali\n",
            "smoothing: 51 kali\n",
            "calming: 298 kali\n",
            "fast-absorbing: 110 kali\n",
            "pore-minimizing: 14 kali\n",
            "barrier-repair: 25 kali\n",
            "tone-evening: 24 kali\n",
            "glowing: 63 kali\n",
            "oil-control: 65 kali\n",
            "non-comedogenic: 5 kali\n",
            "nourishing: 24 kali\n",
            "scar-fading: 31 kali\n",
            "refreshing: 23 kali\n",
            "regenerating: 20 kali\n",
            "plumping: 30 kali\n",
            "healthy: 13 kali\n",
            "lightweight: 11 kali\n",
            "anti-aging: 29 kali\n",
            "firming: 7 kali\n"
          ]
        }
      ],
      "source": [
        "print(\"\\nJumlah kemunculan tiap skin goal:\")\n",
        "for skin_goal, count in skin_goal_counts.items():\n",
        "    print(f\"{skin_goal}: {count} kali\")"
      ]
    },
    {
      "cell_type": "code",
      "execution_count": 40,
      "metadata": {},
      "outputs": [
        {
          "data": {
            "image/png": "[encoded data removed]",
            "text/plain": [
              "<Figure size 1000x500 with 1 Axes>"
            ]
          },
          "metadata": {},
          "output_type": "display_data"
        },
        {
          "data": {
            "image/png": "[encoded data removed]",
            "text/plain": [
              "<Figure size 1000x500 with 1 Axes>"
            ]
          },
          "metadata": {},
          "output_type": "display_data"
        },
        {
          "data": {
            "image/png": "[encoded data removed]",
            "text/plain": [
              "<Figure size 1000x500 with 1 Axes>"
            ]
          },
          "metadata": {},
          "output_type": "display_data"
        },
        {
          "data": {
            "image/png": "[encoded data removed]",
            "text/plain": [
              "<Figure size 1000x500 with 1 Axes>"
            ]
          },
          "metadata": {},
          "output_type": "display_data"
        }
      ],
      "source": [
        "# Visualisasi distribusi skin types, concerns, dan goals\n",
        "def plot_distribution(data, title, xlabel, ylabel):\n",
        "    counts = Counter(data)\n",
        "    # Urutkan berdasarkan nilai (frekuensi), descending\n",
        "    sorted_items = sorted(counts.items(), key=lambda x: x[1], reverse=True)\n",
        "    labels, values = zip(*sorted_items)\n",
        "    \n",
        "    plt.figure(figsize=(10, 5))\n",
        "    plt.bar(labels, values, color='skyblue')\n",
        "    plt.title(title)\n",
        "    plt.xlabel(xlabel)\n",
        "    plt.ylabel(ylabel)\n",
        "    plt.xticks(rotation=70)\n",
        "    plt.tight_layout()\n",
        "    plt.show()\n",
        "    \n",
        "plot_distribution(all_ingredients_category, 'Distribusi Ingredient Categories', 'Ingredient Category', 'Frekuensi')\n",
        "plot_distribution(all_skin_types, 'Distribusi Skin Types', 'Skin Type', 'Frekuensi')\n",
        "plot_distribution(all_skin_concerns, 'Distribusi Skin Concerns', 'Skin Concern', 'Frekuensi')\n",
        "plot_distribution(all_skin_goals, 'Distribusi Skin Goals', 'Skin Goal', 'Frekuensi')"
      ]
    },
    {
      "cell_type": "markdown",
      "metadata": {},
      "source": [
        "## Preprocesing Data & Encoding"
      ]
    },
    {
      "cell_type": "code",
      "execution_count": 41,
      "metadata": {},
      "outputs": [
        {
          "name": "stdout",
          "output_type": "stream",
          "text": [
            "Shape fitur input: (908, 39)\n",
            "Shape label (ingredients): (908, 6)\n"
          ]
        }
      ],
      "source": [
        "# Inisialisasi MultiLabelBinarizer untuk tiap fitur dan label\n",
        "mlb_skin_type = MultiLabelBinarizer()\n",
        "mlb_skin_concern = MultiLabelBinarizer()\n",
        "mlb_skin_goal = MultiLabelBinarizer()\n",
        "mlb_ingredients_category = MultiLabelBinarizer()\n",
        "\n",
        "# Fit-transform fitur input dan label (ubah jadi multi-hot vectors)\n",
        "X_skin_type = mlb_skin_type.fit_transform(df_cleaned['skin_type'])\n",
        "X_skin_concern = mlb_skin_concern.fit_transform(df_cleaned['skin_concern'])\n",
        "X_skin_goal = mlb_skin_goal.fit_transform(df_cleaned['skin_goal'])\n",
        "Y_ingredient_category = mlb_ingredients_category.fit_transform(df_cleaned['ingredient_category'])\n",
        "\n",
        "# Gabungkan semua fitur input jadi satu matriks fitur\n",
        "X = np.hstack([X_skin_type, X_skin_concern, X_skin_goal])\n",
        "\n",
        "print(\"Shape fitur input:\", X.shape)\n",
        "print(\"Shape label (ingredients):\", Y_ingredient_category.shape)"
      ]
    },
    {
      "cell_type": "markdown",
      "metadata": {},
      "source": [
        "## Data Splitting"
      ]
    },
    {
      "cell_type": "code",
      "execution_count": 42,
      "metadata": {},
      "outputs": [
        {
          "name": "stdout",
          "output_type": "stream",
          "text": [
            "Train set: (635, 39), (635, 6)\n",
            "Validation set: (136, 39), (136, 6)\n",
            "Test set: (137, 39), (137, 6)\n"
          ]
        }
      ],
      "source": [
        "# Split data jadi train/val/test (70:15:15)\n",
        "X_train, X_temp, y_train, y_temp = train_test_split(\n",
        "    X, Y_ingredient_category, test_size=0.3, random_state=42, shuffle=True)\n",
        "\n",
        "X_val, X_test, y_val, y_test = train_test_split(\n",
        "    X_temp, y_temp, test_size=0.5, random_state=42, shuffle=True)\n",
        "\n",
        "print(f\"Train set: {X_train.shape}, {y_train.shape}\")\n",
        "print(f\"Validation set: {X_val.shape}, {y_val.shape}\")\n",
        "print(f\"Test set: {X_test.shape}, {y_test.shape}\")"
      ]
    },
    {
      "cell_type": "markdown",
      "metadata": {},
      "source": [
        "## Data Augmentation"
      ]
    },
    {
      "cell_type": "code",
      "execution_count": 43,
      "metadata": {},
      "outputs": [
        {
          "name": "stdout",
          "output_type": "stream",
          "text": [
            "Jumlah tiap label di train set:\n",
            "  Ingredient Category  Count_in_train\n",
            "1          anti_aging              54\n",
            "4           exfoliant              55\n",
            "0                acne              67\n",
            "3             calming              89\n",
            "5           hydrating             282\n",
            "2         brightening             324\n"
          ]
        }
      ],
      "source": [
        "# Hitung jumlah sampel tiap label di y_train (multi-label)\n",
        "print(\"Jumlah tiap label di train set:\")\n",
        "label_counts = y_train.sum(axis=0)\n",
        "label_names = mlb_ingredients_category.classes_\n",
        "\n",
        "df_label_counts = pd.DataFrame({\n",
        "    'Ingredient Category': label_names,\n",
        "    'Count_in_train': label_counts\n",
        "}).sort_values(by='Count_in_train')\n",
        "\n",
        "print(df_label_counts)"
      ]
    },
    {
      "cell_type": "code",
      "execution_count": 44,
      "metadata": {},
      "outputs": [],
      "source": [
        "# Fungsi untuk menghitung jumlah label per sampel\n",
        "def count_labels_per_sample(y_matrix):\n",
        "    return y_matrix.sum(axis=1)\n",
        "\n",
        "# Hitung jumlah label per kategori\n",
        "label_counts = y_train.sum(axis=0).astype(int)\n",
        "target_per_label = 300  # target baru\n",
        "label_total = label_counts.copy()\n",
        "\n",
        "X_aug = []\n",
        "y_aug = []"
      ]
    },
    {
      "cell_type": "code",
      "execution_count": 45,
      "metadata": {},
      "outputs": [
        {
          "name": "stdout",
          "output_type": "stream",
          "text": [
            "Oversample label 'acne' → +233 data\n",
            "Oversample label 'anti_aging' → +235 data\n",
            "Oversample label 'calming' → +107 data\n",
            "Oversample label 'exfoliant' → +168 data\n",
            "\n",
            "✅ Setelah oversampling saja dengan max 2 label per data:\n",
            "X_final: (1378, 39)\n",
            "y_final: (1378, 6)\n",
            "\n",
            "Distribusi label baru:\n",
            "acne: 309\n",
            "anti_aging: 301\n",
            "brightening: 355\n",
            "calming: 302\n",
            "exfoliant: 300\n",
            "hydrating: 301\n"
          ]
        }
      ],
      "source": [
        "# --- Oversample untuk label minor saja (yang < target_per_label) ---\n",
        "for i, count in enumerate(label_counts):\n",
        "    if label_total[i] >= target_per_label:\n",
        "        continue  # label ini sudah cukup jumlahnya\n",
        "\n",
        "    gap = target_per_label - label_total[i]\n",
        "    idx = np.where(y_train[:, i] == 1)[0]\n",
        "    valid_idx = [j for j in idx if y_train[j].sum() <= 2]\n",
        "\n",
        "    added = 0\n",
        "    ptr = 0\n",
        "\n",
        "    while added < gap and ptr < len(valid_idx) * 100:\n",
        "        j = valid_idx[ptr % len(valid_idx)]\n",
        "        new_y = y_train[j].copy()\n",
        "        label_indices = np.where(new_y == 1)[0]\n",
        "\n",
        "        if (\n",
        "            all(label_total[k] < target_per_label for k in label_indices)\n",
        "            or (len(label_indices) == 1 and label_indices[0] == i)\n",
        "            or (label_total[i] < 0.5 * target_per_label)\n",
        "        ):\n",
        "            X_aug.append(X_train[j])\n",
        "            y_aug.append(new_y)\n",
        "            for k in label_indices:\n",
        "                label_total[k] += 1\n",
        "            added += 1\n",
        "        ptr += 1\n",
        "\n",
        "    print(f\"Oversample label '{label_names[i]}' → +{added} data\")\n",
        "\n",
        "# Gabungkan data original + data augmentasi\n",
        "X_all = np.vstack([X_train] + X_aug)\n",
        "y_all = np.vstack([y_train] + y_aug)\n",
        "\n",
        "# Validasi max 2 label per sample\n",
        "valid_mask = np.sum(y_all, axis=1) <= 2\n",
        "X_final = X_all[valid_mask]\n",
        "y_final = y_all[valid_mask]\n",
        "\n",
        "# Shuffle\n",
        "X_final, y_final = shuffle(X_final, y_final, random_state=42)\n",
        "\n",
        "# Print hasil akhir\n",
        "print(\"\\n✅ Setelah oversampling saja dengan max 2 label per data:\")\n",
        "print(\"X_final:\", X_final.shape)\n",
        "print(\"y_final:\", y_final.shape)\n",
        "\n",
        "new_counts = y_final.sum(axis=0)\n",
        "print(\"\\nDistribusi label baru:\")\n",
        "for i, count in enumerate(new_counts):\n",
        "    print(f\"{label_names[i]}: {int(count)}\")"
      ]
    },
    {
      "cell_type": "markdown",
      "metadata": {},
      "source": [
        "## Modelling Pipeline"
      ]
    },
    {
      "cell_type": "code",
      "execution_count": 46,
      "metadata": {},
      "outputs": [
        {
          "name": "stdout",
          "output_type": "stream",
          "text": [
            "Class weights: [0.97087379 0.99667774 0.84507042 0.99337748 1.         0.99667774]\n"
          ]
        }
      ],
      "source": [
        "# Gunakan hasil augmentasi\n",
        "input_dim = X_final.shape[1]\n",
        "output_dim = y_final.shape[1]\n",
        "\n",
        "# Hitung class weights (inverse frequency) dari y_final\n",
        "freq = np.sum(y_final, axis=0)\n",
        "total = y_final.shape[0]\n",
        "class_weights_np = total / (freq + 1e-6)\n",
        "class_weights_np = class_weights_np / np.max(class_weights_np)  # Normalisasi\n",
        "class_weights_tf = tf.constant(class_weights_np, dtype=tf.float32)\n",
        "\n",
        "print(\"Class weights:\", class_weights_np)"
      ]
    },
    {
      "cell_type": "code",
      "execution_count": 47,
      "metadata": {},
      "outputs": [],
      "source": [
        "# Loss function dengan class weights\n",
        "def weighted_binary_crossentropy(y_true, y_pred):\n",
        "    bce = K.binary_crossentropy(y_true, y_pred)\n",
        "    weight_vector = y_true * class_weights_tf + (1 - y_true) * 1.0\n",
        "    weighted_bce = bce * weight_vector\n",
        "    return K.mean(weighted_bce)"
      ]
    },
    {
      "cell_type": "code",
      "execution_count": 48,
      "metadata": {},
      "outputs": [],
      "source": [
        "# Focal loss function\n",
        "def binary_focal_loss(gamma=2., alpha=0.25):\n",
        "    def focal_loss(y_true, y_pred):\n",
        "        epsilon = K.epsilon()\n",
        "        y_pred = K.clip(y_pred, epsilon, 1. - epsilon)\n",
        "\n",
        "        p_t = y_true * y_pred + (1 - y_true) * (1 - y_pred)\n",
        "        alpha_factor = y_true * alpha + (1 - y_true) * (1 - alpha)\n",
        "        modulating_factor = K.pow(1. - p_t, gamma)\n",
        "\n",
        "        return K.mean(-alpha_factor * modulating_factor * K.log(p_t))\n",
        "    return focal_loss"
      ]
    },
    {
      "cell_type": "code",
      "execution_count": 49,
      "metadata": {},
      "outputs": [
        {
          "data": {
            "text/html": [
              "<pre style=\"white-space:pre;overflow-x:auto;line-height:normal;font-family:Menlo,'DejaVu Sans Mono',consolas,'Courier New',monospace\"><span style=\"font-weight: bold\">Model: \"sequential_2\"</span>\n",
              "</pre>\n"
            ],
            "text/plain": [
              "\u001b[1mModel: \"sequential_2\"\u001b[0m\n"
            ]
          },
          "metadata": {},
          "output_type": "display_data"
        },
        {
          "data": {
            "text/html": [
              "<pre style=\"white-space:pre;overflow-x:auto;line-height:normal;font-family:Menlo,'DejaVu Sans Mono',consolas,'Courier New',monospace\">┏━━━━━━━━━━━━━━━━━━━━━━━━━━━━━━━━━┳━━━━━━━━━━━━━━━━━━━━━━━━┳━━━━━━━━━━━━━━━┓\n",
              "┃<span style=\"font-weight: bold\"> Layer (type)                    </span>┃<span style=\"font-weight: bold\"> Output Shape           </span>┃<span style=\"font-weight: bold\">       Param # </span>┃\n",
              "┡━━━━━━━━━━━━━━━━━━━━━━━━━━━━━━━━━╇━━━━━━━━━━━━━━━━━━━━━━━━╇━━━━━━━━━━━━━━━┩\n",
              "│ dense_8 (<span style=\"color: #0087ff; text-decoration-color: #0087ff\">Dense</span>)                 │ (<span style=\"color: #00d7ff; text-decoration-color: #00d7ff\">None</span>, <span style=\"color: #00af00; text-decoration-color: #00af00\">256</span>)            │        <span style=\"color: #00af00; text-decoration-color: #00af00\">10,240</span> │\n",
              "├─────────────────────────────────┼────────────────────────┼───────────────┤\n",
              "│ batch_normalization_6           │ (<span style=\"color: #00d7ff; text-decoration-color: #00d7ff\">None</span>, <span style=\"color: #00af00; text-decoration-color: #00af00\">256</span>)            │         <span style=\"color: #00af00; text-decoration-color: #00af00\">1,024</span> │\n",
              "│ (<span style=\"color: #0087ff; text-decoration-color: #0087ff\">BatchNormalization</span>)            │                        │               │\n",
              "├─────────────────────────────────┼────────────────────────┼───────────────┤\n",
              "│ dropout_6 (<span style=\"color: #0087ff; text-decoration-color: #0087ff\">Dropout</span>)             │ (<span style=\"color: #00d7ff; text-decoration-color: #00d7ff\">None</span>, <span style=\"color: #00af00; text-decoration-color: #00af00\">256</span>)            │             <span style=\"color: #00af00; text-decoration-color: #00af00\">0</span> │\n",
              "├─────────────────────────────────┼────────────────────────┼───────────────┤\n",
              "│ dense_9 (<span style=\"color: #0087ff; text-decoration-color: #0087ff\">Dense</span>)                 │ (<span style=\"color: #00d7ff; text-decoration-color: #00d7ff\">None</span>, <span style=\"color: #00af00; text-decoration-color: #00af00\">128</span>)            │        <span style=\"color: #00af00; text-decoration-color: #00af00\">32,896</span> │\n",
              "├─────────────────────────────────┼────────────────────────┼───────────────┤\n",
              "│ batch_normalization_7           │ (<span style=\"color: #00d7ff; text-decoration-color: #00d7ff\">None</span>, <span style=\"color: #00af00; text-decoration-color: #00af00\">128</span>)            │           <span style=\"color: #00af00; text-decoration-color: #00af00\">512</span> │\n",
              "│ (<span style=\"color: #0087ff; text-decoration-color: #0087ff\">BatchNormalization</span>)            │                        │               │\n",
              "├─────────────────────────────────┼────────────────────────┼───────────────┤\n",
              "│ dropout_7 (<span style=\"color: #0087ff; text-decoration-color: #0087ff\">Dropout</span>)             │ (<span style=\"color: #00d7ff; text-decoration-color: #00d7ff\">None</span>, <span style=\"color: #00af00; text-decoration-color: #00af00\">128</span>)            │             <span style=\"color: #00af00; text-decoration-color: #00af00\">0</span> │\n",
              "├─────────────────────────────────┼────────────────────────┼───────────────┤\n",
              "│ dense_10 (<span style=\"color: #0087ff; text-decoration-color: #0087ff\">Dense</span>)                │ (<span style=\"color: #00d7ff; text-decoration-color: #00d7ff\">None</span>, <span style=\"color: #00af00; text-decoration-color: #00af00\">64</span>)             │         <span style=\"color: #00af00; text-decoration-color: #00af00\">8,256</span> │\n",
              "├─────────────────────────────────┼────────────────────────┼───────────────┤\n",
              "│ batch_normalization_8           │ (<span style=\"color: #00d7ff; text-decoration-color: #00d7ff\">None</span>, <span style=\"color: #00af00; text-decoration-color: #00af00\">64</span>)             │           <span style=\"color: #00af00; text-decoration-color: #00af00\">256</span> │\n",
              "│ (<span style=\"color: #0087ff; text-decoration-color: #0087ff\">BatchNormalization</span>)            │                        │               │\n",
              "├─────────────────────────────────┼────────────────────────┼───────────────┤\n",
              "│ dropout_8 (<span style=\"color: #0087ff; text-decoration-color: #0087ff\">Dropout</span>)             │ (<span style=\"color: #00d7ff; text-decoration-color: #00d7ff\">None</span>, <span style=\"color: #00af00; text-decoration-color: #00af00\">64</span>)             │             <span style=\"color: #00af00; text-decoration-color: #00af00\">0</span> │\n",
              "├─────────────────────────────────┼────────────────────────┼───────────────┤\n",
              "│ dense_11 (<span style=\"color: #0087ff; text-decoration-color: #0087ff\">Dense</span>)                │ (<span style=\"color: #00d7ff; text-decoration-color: #00d7ff\">None</span>, <span style=\"color: #00af00; text-decoration-color: #00af00\">6</span>)              │           <span style=\"color: #00af00; text-decoration-color: #00af00\">390</span> │\n",
              "└─────────────────────────────────┴────────────────────────┴───────────────┘\n",
              "</pre>\n"
            ],
            "text/plain": [
              "┏━━━━━━━━━━━━━━━━━━━━━━━━━━━━━━━━━┳━━━━━━━━━━━━━━━━━━━━━━━━┳━━━━━━━━━━━━━━━┓\n",
              "┃\u001b[1m \u001b[0m\u001b[1mLayer (type)                   \u001b[0m\u001b[1m \u001b[0m┃\u001b[1m \u001b[0m\u001b[1mOutput Shape          \u001b[0m\u001b[1m \u001b[0m┃\u001b[1m \u001b[0m\u001b[1m      Param #\u001b[0m\u001b[1m \u001b[0m┃\n",
              "┡━━━━━━━━━━━━━━━━━━━━━━━━━━━━━━━━━╇━━━━━━━━━━━━━━━━━━━━━━━━╇━━━━━━━━━━━━━━━┩\n",
              "│ dense_8 (\u001b[38;5;33mDense\u001b[0m)                 │ (\u001b[38;5;45mNone\u001b[0m, \u001b[38;5;34m256\u001b[0m)            │        \u001b[38;5;34m10,240\u001b[0m │\n",
              "├─────────────────────────────────┼────────────────────────┼───────────────┤\n",
              "│ batch_normalization_6           │ (\u001b[38;5;45mNone\u001b[0m, \u001b[38;5;34m256\u001b[0m)            │         \u001b[38;5;34m1,024\u001b[0m │\n",
              "│ (\u001b[38;5;33mBatchNormalization\u001b[0m)            │                        │               │\n",
              "├─────────────────────────────────┼────────────────────────┼───────────────┤\n",
              "│ dropout_6 (\u001b[38;5;33mDropout\u001b[0m)             │ (\u001b[38;5;45mNone\u001b[0m, \u001b[38;5;34m256\u001b[0m)            │             \u001b[38;5;34m0\u001b[0m │\n",
              "├─────────────────────────────────┼────────────────────────┼───────────────┤\n",
              "│ dense_9 (\u001b[38;5;33mDense\u001b[0m)                 │ (\u001b[38;5;45mNone\u001b[0m, \u001b[38;5;34m128\u001b[0m)            │        \u001b[38;5;34m32,896\u001b[0m │\n",
              "├─────────────────────────────────┼────────────────────────┼───────────────┤\n",
              "│ batch_normalization_7           │ (\u001b[38;5;45mNone\u001b[0m, \u001b[38;5;34m128\u001b[0m)            │           \u001b[38;5;34m512\u001b[0m │\n",
              "│ (\u001b[38;5;33mBatchNormalization\u001b[0m)            │                        │               │\n",
              "├─────────────────────────────────┼────────────────────────┼───────────────┤\n",
              "│ dropout_7 (\u001b[38;5;33mDropout\u001b[0m)             │ (\u001b[38;5;45mNone\u001b[0m, \u001b[38;5;34m128\u001b[0m)            │             \u001b[38;5;34m0\u001b[0m │\n",
              "├─────────────────────────────────┼────────────────────────┼───────────────┤\n",
              "│ dense_10 (\u001b[38;5;33mDense\u001b[0m)                │ (\u001b[38;5;45mNone\u001b[0m, \u001b[38;5;34m64\u001b[0m)             │         \u001b[38;5;34m8,256\u001b[0m │\n",
              "├─────────────────────────────────┼────────────────────────┼───────────────┤\n",
              "│ batch_normalization_8           │ (\u001b[38;5;45mNone\u001b[0m, \u001b[38;5;34m64\u001b[0m)             │           \u001b[38;5;34m256\u001b[0m │\n",
              "│ (\u001b[38;5;33mBatchNormalization\u001b[0m)            │                        │               │\n",
              "├─────────────────────────────────┼────────────────────────┼───────────────┤\n",
              "│ dropout_8 (\u001b[38;5;33mDropout\u001b[0m)             │ (\u001b[38;5;45mNone\u001b[0m, \u001b[38;5;34m64\u001b[0m)             │             \u001b[38;5;34m0\u001b[0m │\n",
              "├─────────────────────────────────┼────────────────────────┼───────────────┤\n",
              "│ dense_11 (\u001b[38;5;33mDense\u001b[0m)                │ (\u001b[38;5;45mNone\u001b[0m, \u001b[38;5;34m6\u001b[0m)              │           \u001b[38;5;34m390\u001b[0m │\n",
              "└─────────────────────────────────┴────────────────────────┴───────────────┘\n"
            ]
          },
          "metadata": {},
          "output_type": "display_data"
        },
        {
          "data": {
            "text/html": [
              "<pre style=\"white-space:pre;overflow-x:auto;line-height:normal;font-family:Menlo,'DejaVu Sans Mono',consolas,'Courier New',monospace\"><span style=\"font-weight: bold\"> Total params: </span><span style=\"color: #00af00; text-decoration-color: #00af00\">53,574</span> (209.27 KB)\n",
              "</pre>\n"
            ],
            "text/plain": [
              "\u001b[1m Total params: \u001b[0m\u001b[38;5;34m53,574\u001b[0m (209.27 KB)\n"
            ]
          },
          "metadata": {},
          "output_type": "display_data"
        },
        {
          "data": {
            "text/html": [
              "<pre style=\"white-space:pre;overflow-x:auto;line-height:normal;font-family:Menlo,'DejaVu Sans Mono',consolas,'Courier New',monospace\"><span style=\"font-weight: bold\"> Trainable params: </span><span style=\"color: #00af00; text-decoration-color: #00af00\">52,678</span> (205.77 KB)\n",
              "</pre>\n"
            ],
            "text/plain": [
              "\u001b[1m Trainable params: \u001b[0m\u001b[38;5;34m52,678\u001b[0m (205.77 KB)\n"
            ]
          },
          "metadata": {},
          "output_type": "display_data"
        },
        {
          "data": {
            "text/html": [
              "<pre style=\"white-space:pre;overflow-x:auto;line-height:normal;font-family:Menlo,'DejaVu Sans Mono',consolas,'Courier New',monospace\"><span style=\"font-weight: bold\"> Non-trainable params: </span><span style=\"color: #00af00; text-decoration-color: #00af00\">896</span> (3.50 KB)\n",
              "</pre>\n"
            ],
            "text/plain": [
              "\u001b[1m Non-trainable params: \u001b[0m\u001b[38;5;34m896\u001b[0m (3.50 KB)\n"
            ]
          },
          "metadata": {},
          "output_type": "display_data"
        }
      ],
      "source": [
        "# Build model\n",
        "def build_model(input_dim, output_dim, lr=0.001, dropout_rate=0.4): \n",
        "    model = Sequential([\n",
        "        Input(shape=(input_dim,)),\n",
        "\n",
        "        Dense(256, activation='relu'),\n",
        "        BatchNormalization(),\n",
        "        Dropout(dropout_rate),\n",
        "\n",
        "        Dense(128, activation='relu'),\n",
        "        BatchNormalization(),\n",
        "        Dropout(dropout_rate),\n",
        "\n",
        "        Dense(64, activation='relu'),\n",
        "        BatchNormalization(),\n",
        "        Dropout(dropout_rate),\n",
        "\n",
        "        Dense(output_dim, activation='sigmoid')\n",
        "    ])\n",
        "    \n",
        "    optimizer = tf.keras.optimizers.Adam(learning_rate=lr)\n",
        "    model.compile(\n",
        "        loss=weighted_binary_crossentropy,\n",
        "        optimizer=optimizer,\n",
        "        metrics=[\n",
        "            tf.keras.metrics.BinaryAccuracy(name='binary_accuracy'),\n",
        "            tf.keras.metrics.AUC(name='auc'),\n",
        "            tf.keras.metrics.Precision(name='precision'),\n",
        "            tf.keras.metrics.Recall(name='recall')\n",
        "        ]\n",
        "    )\n",
        "    return model\n",
        "\n",
        "# Model summary\n",
        "model = build_model(input_dim, output_dim)\n",
        "model.summary()"
      ]
    },
    {
      "cell_type": "code",
      "execution_count": 58,
      "metadata": {},
      "outputs": [
        {
          "name": "stdout",
          "output_type": "stream",
          "text": [
            "\n",
            "==============================================\n",
            "Training model with lr=0.001, batch_size=32\n",
            "==============================================\n",
            "\n",
            "Epoch 1/200\n",
            "\u001b[1m35/35\u001b[0m \u001b[32m━━━━━━━━━━━━━━━━━━━━\u001b[0m\u001b[37m\u001b[0m \u001b[1m10s\u001b[0m 60ms/step - auc: 0.5421 - binary_accuracy: 0.5296 - loss: 0.9039 - precision: 0.2496 - recall: 0.5442 - val_auc: 0.5758 - val_binary_accuracy: 0.5930 - val_loss: 0.6668 - val_precision: 0.2840 - val_recall: 0.5026\n",
            "Epoch 2/200\n",
            "\u001b[1m35/35\u001b[0m \u001b[32m━━━━━━━━━━━━━━━━━━━━\u001b[0m\u001b[37m\u001b[0m \u001b[1m1s\u001b[0m 16ms/step - auc: 0.6154 - binary_accuracy: 0.5795 - loss: 0.7528 - precision: 0.2855 - recall: 0.5816 - val_auc: 0.5843 - val_binary_accuracy: 0.6256 - val_loss: 0.6565 - val_precision: 0.3023 - val_recall: 0.4764\n",
            "Epoch 3/200\n",
            "\u001b[1m35/35\u001b[0m \u001b[32m━━━━━━━━━━━━━━━━━━━━\u001b[0m\u001b[37m\u001b[0m \u001b[1m1s\u001b[0m 17ms/step - auc: 0.6733 - binary_accuracy: 0.6471 - loss: 0.6603 - precision: 0.3382 - recall: 0.6103 - val_auc: 0.6077 - val_binary_accuracy: 0.6963 - val_loss: 0.6386 - val_precision: 0.3634 - val_recall: 0.4215\n",
            "Epoch 4/200\n",
            "\u001b[1m35/35\u001b[0m \u001b[32m━━━━━━━━━━━━━━━━━━━━\u001b[0m\u001b[37m\u001b[0m \u001b[1m1s\u001b[0m 23ms/step - auc: 0.7157 - binary_accuracy: 0.6876 - loss: 0.5899 - precision: 0.3774 - recall: 0.6008 - val_auc: 0.6243 - val_binary_accuracy: 0.6981 - val_loss: 0.6071 - val_precision: 0.3472 - val_recall: 0.3508\n",
            "Epoch 5/200\n",
            "\u001b[1m35/35\u001b[0m \u001b[32m━━━━━━━━━━━━━━━━━━━━\u001b[0m\u001b[37m\u001b[0m \u001b[1m1s\u001b[0m 15ms/step - auc: 0.7069 - binary_accuracy: 0.6977 - loss: 0.5737 - precision: 0.3765 - recall: 0.5403 - val_auc: 0.6441 - val_binary_accuracy: 0.7095 - val_loss: 0.5796 - val_precision: 0.3477 - val_recall: 0.2958\n",
            "Epoch 6/200\n",
            "\u001b[1m35/35\u001b[0m \u001b[32m━━━━━━━━━━━━━━━━━━━━\u001b[0m\u001b[37m\u001b[0m \u001b[1m0s\u001b[0m 13ms/step - auc: 0.7472 - binary_accuracy: 0.7429 - loss: 0.5224 - precision: 0.4465 - recall: 0.5571 - val_auc: 0.6756 - val_binary_accuracy: 0.7560 - val_loss: 0.5495 - val_precision: 0.4534 - val_recall: 0.2801\n",
            "Epoch 7/200\n",
            "\u001b[1m35/35\u001b[0m \u001b[32m━━━━━━━━━━━━━━━━━━━━\u001b[0m\u001b[37m\u001b[0m \u001b[1m0s\u001b[0m 10ms/step - auc: 0.7460 - binary_accuracy: 0.7585 - loss: 0.4947 - precision: 0.4595 - recall: 0.4949 - val_auc: 0.7129 - val_binary_accuracy: 0.7929 - val_loss: 0.5219 - val_precision: 0.6258 - val_recall: 0.2539\n",
            "Epoch 8/200\n",
            "\u001b[1m35/35\u001b[0m \u001b[32m━━━━━━━━━━━━━━━━━━━━\u001b[0m\u001b[37m\u001b[0m \u001b[1m1s\u001b[0m 13ms/step - auc: 0.7584 - binary_accuracy: 0.7788 - loss: 0.4689 - precision: 0.5058 - recall: 0.4541 - val_auc: 0.7483 - val_binary_accuracy: 0.8050 - val_loss: 0.4955 - val_precision: 0.7611 - val_recall: 0.2251\n",
            "Epoch 9/200\n",
            "\u001b[1m35/35\u001b[0m \u001b[32m━━━━━━━━━━━━━━━━━━━━\u001b[0m\u001b[37m\u001b[0m \u001b[1m1s\u001b[0m 23ms/step - auc: 0.7651 - binary_accuracy: 0.7857 - loss: 0.4531 - precision: 0.5197 - recall: 0.4356 - val_auc: 0.7835 - val_binary_accuracy: 0.8134 - val_loss: 0.4698 - val_precision: 0.8349 - val_recall: 0.2382\n",
            "Epoch 10/200\n",
            "\u001b[1m35/35\u001b[0m \u001b[32m━━━━━━━━━━━━━━━━━━━━\u001b[0m\u001b[37m\u001b[0m \u001b[1m1s\u001b[0m 15ms/step - auc: 0.7827 - binary_accuracy: 0.7947 - loss: 0.4369 - precision: 0.5568 - recall: 0.4108 - val_auc: 0.8105 - val_binary_accuracy: 0.8140 - val_loss: 0.4449 - val_precision: 0.8246 - val_recall: 0.2461\n",
            "Epoch 11/200\n",
            "\u001b[1m35/35\u001b[0m \u001b[32m━━━━━━━━━━━━━━━━━━━━\u001b[0m\u001b[37m\u001b[0m \u001b[1m0s\u001b[0m 10ms/step - auc: 0.7983 - binary_accuracy: 0.8144 - loss: 0.4164 - precision: 0.6217 - recall: 0.4214 - val_auc: 0.8302 - val_binary_accuracy: 0.8225 - val_loss: 0.4230 - val_precision: 0.8667 - val_recall: 0.2723\n",
            "Epoch 12/200\n",
            "\u001b[1m35/35\u001b[0m \u001b[32m━━━━━━━━━━━━━━━━━━━━\u001b[0m\u001b[37m\u001b[0m \u001b[1m0s\u001b[0m 9ms/step - auc: 0.8095 - binary_accuracy: 0.8111 - loss: 0.4104 - precision: 0.6229 - recall: 0.4229 - val_auc: 0.8453 - val_binary_accuracy: 0.8382 - val_loss: 0.4014 - val_precision: 0.9130 - val_recall: 0.3298\n",
            "Epoch 13/200\n",
            "\u001b[1m35/35\u001b[0m \u001b[32m━━━━━━━━━━━━━━━━━━━━\u001b[0m\u001b[37m\u001b[0m \u001b[1m0s\u001b[0m 8ms/step - auc: 0.8289 - binary_accuracy: 0.8225 - loss: 0.3911 - precision: 0.6628 - recall: 0.4184 - val_auc: 0.8542 - val_binary_accuracy: 0.8442 - val_loss: 0.3880 - val_precision: 0.9133 - val_recall: 0.3586\n",
            "Epoch 14/200\n",
            "\u001b[1m35/35\u001b[0m \u001b[32m━━━━━━━━━━━━━━━━━━━━\u001b[0m\u001b[37m\u001b[0m \u001b[1m0s\u001b[0m 9ms/step - auc: 0.8320 - binary_accuracy: 0.8275 - loss: 0.3821 - precision: 0.6721 - recall: 0.4359 - val_auc: 0.8578 - val_binary_accuracy: 0.8454 - val_loss: 0.3752 - val_precision: 0.8663 - val_recall: 0.3901\n",
            "Epoch 15/200\n",
            "\u001b[1m35/35\u001b[0m \u001b[32m━━━━━━━━━━━━━━━━━━━━\u001b[0m\u001b[37m\u001b[0m \u001b[1m0s\u001b[0m 10ms/step - auc: 0.8473 - binary_accuracy: 0.8341 - loss: 0.3692 - precision: 0.6961 - recall: 0.4641 - val_auc: 0.8676 - val_binary_accuracy: 0.8490 - val_loss: 0.3645 - val_precision: 0.8587 - val_recall: 0.4136\n",
            "Epoch 16/200\n",
            "\u001b[1m35/35\u001b[0m \u001b[32m━━━━━━━━━━━━━━━━━━━━\u001b[0m\u001b[37m\u001b[0m \u001b[1m0s\u001b[0m 11ms/step - auc: 0.8369 - binary_accuracy: 0.8248 - loss: 0.3836 - precision: 0.6814 - recall: 0.4381 - val_auc: 0.8786 - val_binary_accuracy: 0.8539 - val_loss: 0.3502 - val_precision: 0.8465 - val_recall: 0.4476\n",
            "Epoch 17/200\n",
            "\u001b[1m35/35\u001b[0m \u001b[32m━━━━━━━━━━━━━━━━━━━━\u001b[0m\u001b[37m\u001b[0m \u001b[1m0s\u001b[0m 11ms/step - auc: 0.8437 - binary_accuracy: 0.8295 - loss: 0.3760 - precision: 0.6881 - recall: 0.4415 - val_auc: 0.8872 - val_binary_accuracy: 0.8521 - val_loss: 0.3385 - val_precision: 0.8216 - val_recall: 0.4581\n",
            "Epoch 18/200\n",
            "\u001b[1m35/35\u001b[0m \u001b[32m━━━━━━━━━━━━━━━━━━━━\u001b[0m\u001b[37m\u001b[0m \u001b[1m0s\u001b[0m 12ms/step - auc: 0.8601 - binary_accuracy: 0.8461 - loss: 0.3563 - precision: 0.7313 - recall: 0.4922 - val_auc: 0.8950 - val_binary_accuracy: 0.8569 - val_loss: 0.3269 - val_precision: 0.8311 - val_recall: 0.4764\n",
            "Epoch 19/200\n",
            "\u001b[1m35/35\u001b[0m \u001b[32m━━━━━━━━━━━━━━━━━━━━\u001b[0m\u001b[37m\u001b[0m \u001b[1m0s\u001b[0m 12ms/step - auc: 0.8770 - binary_accuracy: 0.8435 - loss: 0.3442 - precision: 0.7393 - recall: 0.4893 - val_auc: 0.8963 - val_binary_accuracy: 0.8593 - val_loss: 0.3208 - val_precision: 0.8170 - val_recall: 0.5026\n",
            "Epoch 20/200\n",
            "\u001b[1m35/35\u001b[0m \u001b[32m━━━━━━━━━━━━━━━━━━━━\u001b[0m\u001b[37m\u001b[0m \u001b[1m0s\u001b[0m 11ms/step - auc: 0.8710 - binary_accuracy: 0.8454 - loss: 0.3440 - precision: 0.7213 - recall: 0.5078 - val_auc: 0.9024 - val_binary_accuracy: 0.8587 - val_loss: 0.3130 - val_precision: 0.8058 - val_recall: 0.5105\n",
            "Epoch 21/200\n",
            "\u001b[1m35/35\u001b[0m \u001b[32m━━━━━━━━━━━━━━━━━━━━\u001b[0m\u001b[37m\u001b[0m \u001b[1m0s\u001b[0m 10ms/step - auc: 0.8848 - binary_accuracy: 0.8498 - loss: 0.3304 - precision: 0.7241 - recall: 0.5338 - val_auc: 0.9033 - val_binary_accuracy: 0.8557 - val_loss: 0.3107 - val_precision: 0.7849 - val_recall: 0.5157\n",
            "Epoch 22/200\n",
            "\u001b[1m35/35\u001b[0m \u001b[32m━━━━━━━━━━━━━━━━━━━━\u001b[0m\u001b[37m\u001b[0m \u001b[1m0s\u001b[0m 10ms/step - auc: 0.8728 - binary_accuracy: 0.8434 - loss: 0.3449 - precision: 0.7207 - recall: 0.5053 - val_auc: 0.9032 - val_binary_accuracy: 0.8581 - val_loss: 0.3067 - val_precision: 0.7976 - val_recall: 0.5157\n",
            "Epoch 23/200\n",
            "\u001b[1m35/35\u001b[0m \u001b[32m━━━━━━━━━━━━━━━━━━━━\u001b[0m\u001b[37m\u001b[0m \u001b[1m0s\u001b[0m 12ms/step - auc: 0.8744 - binary_accuracy: 0.8424 - loss: 0.3407 - precision: 0.7062 - recall: 0.5175 - val_auc: 0.9030 - val_binary_accuracy: 0.8611 - val_loss: 0.3061 - val_precision: 0.7879 - val_recall: 0.5445\n",
            "Epoch 24/200\n",
            "\u001b[1m35/35\u001b[0m \u001b[32m━━━━━━━━━━━━━━━━━━━━\u001b[0m\u001b[37m\u001b[0m \u001b[1m1s\u001b[0m 18ms/step - auc: 0.8962 - binary_accuracy: 0.8631 - loss: 0.3133 - precision: 0.7731 - recall: 0.5499 - val_auc: 0.9026 - val_binary_accuracy: 0.8629 - val_loss: 0.3054 - val_precision: 0.7992 - val_recall: 0.5419\n",
            "Epoch 25/200\n",
            "\u001b[1m35/35\u001b[0m \u001b[32m━━━━━━━━━━━━━━━━━━━━\u001b[0m\u001b[37m\u001b[0m \u001b[1m0s\u001b[0m 9ms/step - auc: 0.9016 - binary_accuracy: 0.8601 - loss: 0.3083 - precision: 0.7527 - recall: 0.5509 - val_auc: 0.9025 - val_binary_accuracy: 0.8599 - val_loss: 0.3038 - val_precision: 0.7841 - val_recall: 0.5419\n",
            "Epoch 26/200\n",
            "\u001b[1m35/35\u001b[0m \u001b[32m━━━━━━━━━━━━━━━━━━━━\u001b[0m\u001b[37m\u001b[0m \u001b[1m0s\u001b[0m 8ms/step - auc: 0.8926 - binary_accuracy: 0.8537 - loss: 0.3198 - precision: 0.7341 - recall: 0.5528 - val_auc: 0.9012 - val_binary_accuracy: 0.8581 - val_loss: 0.3038 - val_precision: 0.7774 - val_recall: 0.5393\n",
            "Epoch 27/200\n",
            "\u001b[1m35/35\u001b[0m \u001b[32m━━━━━━━━━━━━━━━━━━━━\u001b[0m\u001b[37m\u001b[0m \u001b[1m1s\u001b[0m 10ms/step - auc: 0.8992 - binary_accuracy: 0.8620 - loss: 0.3097 - precision: 0.7459 - recall: 0.5751 - val_auc: 0.9052 - val_binary_accuracy: 0.8671 - val_loss: 0.3015 - val_precision: 0.7914 - val_recall: 0.5759\n",
            "Epoch 28/200\n",
            "\u001b[1m35/35\u001b[0m \u001b[32m━━━━━━━━━━━━━━━━━━━━\u001b[0m\u001b[37m\u001b[0m \u001b[1m0s\u001b[0m 10ms/step - auc: 0.9006 - binary_accuracy: 0.8708 - loss: 0.3069 - precision: 0.7798 - recall: 0.5897 - val_auc: 0.9059 - val_binary_accuracy: 0.8726 - val_loss: 0.2978 - val_precision: 0.8132 - val_recall: 0.5812\n",
            "Epoch 29/200\n",
            "\u001b[1m35/35\u001b[0m \u001b[32m━━━━━━━━━━━━━━━━━━━━\u001b[0m\u001b[37m\u001b[0m \u001b[1m0s\u001b[0m 7ms/step - auc: 0.9034 - binary_accuracy: 0.8623 - loss: 0.3034 - precision: 0.7468 - recall: 0.5601 - val_auc: 0.9071 - val_binary_accuracy: 0.8671 - val_loss: 0.2970 - val_precision: 0.8068 - val_recall: 0.5576\n",
            "Epoch 30/200\n",
            "\u001b[1m35/35\u001b[0m \u001b[32m━━━━━━━━━━━━━━━━━━━━\u001b[0m\u001b[37m\u001b[0m \u001b[1m0s\u001b[0m 11ms/step - auc: 0.9019 - binary_accuracy: 0.8625 - loss: 0.3041 - precision: 0.7503 - recall: 0.5634 - val_auc: 0.9101 - val_binary_accuracy: 0.8732 - val_loss: 0.2922 - val_precision: 0.8094 - val_recall: 0.5890\n",
            "Epoch 31/200\n",
            "\u001b[1m35/35\u001b[0m \u001b[32m━━━━━━━━━━━━━━━━━━━━\u001b[0m\u001b[37m\u001b[0m \u001b[1m0s\u001b[0m 11ms/step - auc: 0.9071 - binary_accuracy: 0.8620 - loss: 0.2981 - precision: 0.7507 - recall: 0.5780 - val_auc: 0.9111 - val_binary_accuracy: 0.8696 - val_loss: 0.2904 - val_precision: 0.8074 - val_recall: 0.5707\n",
            "Epoch 32/200\n",
            "\u001b[1m35/35\u001b[0m \u001b[32m━━━━━━━━━━━━━━━━━━━━\u001b[0m\u001b[37m\u001b[0m \u001b[1m0s\u001b[0m 13ms/step - auc: 0.9151 - binary_accuracy: 0.8647 - loss: 0.2916 - precision: 0.7623 - recall: 0.5774 - val_auc: 0.9139 - val_binary_accuracy: 0.8756 - val_loss: 0.2858 - val_precision: 0.8259 - val_recall: 0.5838\n",
            "Epoch 33/200\n",
            "\u001b[1m35/35\u001b[0m \u001b[32m━━━━━━━━━━━━━━━━━━━━\u001b[0m\u001b[37m\u001b[0m \u001b[1m0s\u001b[0m 9ms/step - auc: 0.9095 - binary_accuracy: 0.8705 - loss: 0.2945 - precision: 0.7782 - recall: 0.5918 - val_auc: 0.9115 - val_binary_accuracy: 0.8720 - val_loss: 0.2896 - val_precision: 0.8195 - val_recall: 0.5707\n",
            "Epoch 34/200\n",
            "\u001b[1m35/35\u001b[0m \u001b[32m━━━━━━━━━━━━━━━━━━━━\u001b[0m\u001b[37m\u001b[0m \u001b[1m0s\u001b[0m 11ms/step - auc: 0.9197 - binary_accuracy: 0.8743 - loss: 0.2803 - precision: 0.7678 - recall: 0.6202 - val_auc: 0.9132 - val_binary_accuracy: 0.8732 - val_loss: 0.2858 - val_precision: 0.8094 - val_recall: 0.5890\n",
            "Epoch 35/200\n",
            "\u001b[1m35/35\u001b[0m \u001b[32m━━━━━━━━━━━━━━━━━━━━\u001b[0m\u001b[37m\u001b[0m \u001b[1m0s\u001b[0m 8ms/step - auc: 0.9067 - binary_accuracy: 0.8674 - loss: 0.2995 - precision: 0.7550 - recall: 0.6083 - val_auc: 0.9120 - val_binary_accuracy: 0.8702 - val_loss: 0.2870 - val_precision: 0.7951 - val_recall: 0.5890\n",
            "Epoch 36/200\n",
            "\u001b[1m35/35\u001b[0m \u001b[32m━━━━━━━━━━━━━━━━━━━━\u001b[0m\u001b[37m\u001b[0m \u001b[1m0s\u001b[0m 8ms/step - auc: 0.9060 - binary_accuracy: 0.8584 - loss: 0.2987 - precision: 0.7430 - recall: 0.5650 - val_auc: 0.9108 - val_binary_accuracy: 0.8671 - val_loss: 0.2871 - val_precision: 0.7893 - val_recall: 0.5785\n",
            "Epoch 37/200\n",
            "\u001b[1m35/35\u001b[0m \u001b[32m━━━━━━━━━━━━━━━━━━━━\u001b[0m\u001b[37m\u001b[0m \u001b[1m0s\u001b[0m 10ms/step - auc: 0.9121 - binary_accuracy: 0.8673 - loss: 0.2912 - precision: 0.7549 - recall: 0.5962 - val_auc: 0.9140 - val_binary_accuracy: 0.8756 - val_loss: 0.2825 - val_precision: 0.8259 - val_recall: 0.5838\n",
            "Epoch 38/200\n",
            "\u001b[1m35/35\u001b[0m \u001b[32m━━━━━━━━━━━━━━━━━━━━\u001b[0m\u001b[37m\u001b[0m \u001b[1m0s\u001b[0m 10ms/step - auc: 0.9193 - binary_accuracy: 0.8773 - loss: 0.2803 - precision: 0.7927 - recall: 0.6159 - val_auc: 0.9148 - val_binary_accuracy: 0.8762 - val_loss: 0.2821 - val_precision: 0.8172 - val_recall: 0.5969\n",
            "Epoch 39/200\n",
            "\u001b[1m35/35\u001b[0m \u001b[32m━━━━━━━━━━━━━━━━━━━━\u001b[0m\u001b[37m\u001b[0m \u001b[1m0s\u001b[0m 10ms/step - auc: 0.9194 - binary_accuracy: 0.8771 - loss: 0.2781 - precision: 0.7799 - recall: 0.6116 - val_auc: 0.9114 - val_binary_accuracy: 0.8708 - val_loss: 0.2885 - val_precision: 0.8022 - val_recall: 0.5838\n",
            "Epoch 40/200\n",
            "\u001b[1m35/35\u001b[0m \u001b[32m━━━━━━━━━━━━━━━━━━━━\u001b[0m\u001b[37m\u001b[0m \u001b[1m0s\u001b[0m 8ms/step - auc: 0.9212 - binary_accuracy: 0.8797 - loss: 0.2745 - precision: 0.7962 - recall: 0.6251 - val_auc: 0.9157 - val_binary_accuracy: 0.8738 - val_loss: 0.2821 - val_precision: 0.7952 - val_recall: 0.6099\n",
            "Epoch 41/200\n",
            "\u001b[1m35/35\u001b[0m \u001b[32m━━━━━━━━━━━━━━━━━━━━\u001b[0m\u001b[37m\u001b[0m \u001b[1m0s\u001b[0m 8ms/step - auc: 0.9206 - binary_accuracy: 0.8735 - loss: 0.2794 - precision: 0.7766 - recall: 0.6206 - val_auc: 0.9149 - val_binary_accuracy: 0.8714 - val_loss: 0.2841 - val_precision: 0.7944 - val_recall: 0.5969\n",
            "Epoch 42/200\n",
            "\u001b[1m35/35\u001b[0m \u001b[32m━━━━━━━━━━━━━━━━━━━━\u001b[0m\u001b[37m\u001b[0m \u001b[1m0s\u001b[0m 9ms/step - auc: 0.9295 - binary_accuracy: 0.8852 - loss: 0.2639 - precision: 0.8098 - recall: 0.6334 - val_auc: 0.9155 - val_binary_accuracy: 0.8720 - val_loss: 0.2844 - val_precision: 0.7972 - val_recall: 0.5969\n",
            "Epoch 43/200\n",
            "\u001b[1m35/35\u001b[0m \u001b[32m━━━━━━━━━━━━━━━━━━━━\u001b[0m\u001b[37m\u001b[0m \u001b[1m0s\u001b[0m 9ms/step - auc: 0.9255 - binary_accuracy: 0.8770 - loss: 0.2681 - precision: 0.7841 - recall: 0.6226 - val_auc: 0.9129 - val_binary_accuracy: 0.8708 - val_loss: 0.2863 - val_precision: 0.7763 - val_recall: 0.6178\n",
            "Epoch 44/200\n",
            "\u001b[1m35/35\u001b[0m \u001b[32m━━━━━━━━━━━━━━━━━━━━\u001b[0m\u001b[37m\u001b[0m \u001b[1m0s\u001b[0m 9ms/step - auc: 0.9263 - binary_accuracy: 0.8796 - loss: 0.2728 - precision: 0.7881 - recall: 0.6444 - val_auc: 0.9151 - val_binary_accuracy: 0.8732 - val_loss: 0.2818 - val_precision: 0.7925 - val_recall: 0.6099\n",
            "Epoch 45/200\n",
            "\u001b[1m35/35\u001b[0m \u001b[32m━━━━━━━━━━━━━━━━━━━━\u001b[0m\u001b[37m\u001b[0m \u001b[1m0s\u001b[0m 11ms/step - auc: 0.9217 - binary_accuracy: 0.8758 - loss: 0.2734 - precision: 0.7727 - recall: 0.6243 - val_auc: 0.9182 - val_binary_accuracy: 0.8696 - val_loss: 0.2801 - val_precision: 0.7748 - val_recall: 0.6126\n",
            "Epoch 46/200\n",
            "\u001b[1m35/35\u001b[0m \u001b[32m━━━━━━━━━━━━━━━━━━━━\u001b[0m\u001b[37m\u001b[0m \u001b[1m0s\u001b[0m 8ms/step - auc: 0.9250 - binary_accuracy: 0.8801 - loss: 0.2703 - precision: 0.7996 - recall: 0.6159 - val_auc: 0.9192 - val_binary_accuracy: 0.8726 - val_loss: 0.2767 - val_precision: 0.7822 - val_recall: 0.6204\n",
            "Epoch 47/200\n",
            "\u001b[1m35/35\u001b[0m \u001b[32m━━━━━━━━━━━━━━━━━━━━\u001b[0m\u001b[37m\u001b[0m \u001b[1m1s\u001b[0m 15ms/step - auc: 0.9356 - binary_accuracy: 0.8889 - loss: 0.2539 - precision: 0.8197 - recall: 0.6579 - val_auc: 0.9170 - val_binary_accuracy: 0.8726 - val_loss: 0.2810 - val_precision: 0.7898 - val_recall: 0.6099\n",
            "Epoch 48/200\n",
            "\u001b[1m35/35\u001b[0m \u001b[32m━━━━━━━━━━━━━━━━━━━━\u001b[0m\u001b[37m\u001b[0m \u001b[1m0s\u001b[0m 10ms/step - auc: 0.9256 - binary_accuracy: 0.8758 - loss: 0.2695 - precision: 0.7738 - recall: 0.6291 - val_auc: 0.9169 - val_binary_accuracy: 0.8726 - val_loss: 0.2794 - val_precision: 0.8021 - val_recall: 0.5942\n",
            "Epoch 49/200\n",
            "\u001b[1m35/35\u001b[0m \u001b[32m━━━━━━━━━━━━━━━━━━━━\u001b[0m\u001b[37m\u001b[0m \u001b[1m0s\u001b[0m 8ms/step - auc: 0.9344 - binary_accuracy: 0.8892 - loss: 0.2556 - precision: 0.8164 - recall: 0.6560 - val_auc: 0.9197 - val_binary_accuracy: 0.8738 - val_loss: 0.2768 - val_precision: 0.8014 - val_recall: 0.6021\n",
            "Epoch 50/200\n",
            "\u001b[1m35/35\u001b[0m \u001b[32m━━━━━━━━━━━━━━━━━━━━\u001b[0m\u001b[37m\u001b[0m \u001b[1m0s\u001b[0m 9ms/step - auc: 0.9338 - binary_accuracy: 0.8800 - loss: 0.2570 - precision: 0.7886 - recall: 0.6343 - val_auc: 0.9163 - val_binary_accuracy: 0.8678 - val_loss: 0.2826 - val_precision: 0.7744 - val_recall: 0.6021\n",
            "Epoch 51/200\n",
            "\u001b[1m35/35\u001b[0m \u001b[32m━━━━━━━━━━━━━━━━━━━━\u001b[0m\u001b[37m\u001b[0m \u001b[1m0s\u001b[0m 10ms/step - auc: 0.9256 - binary_accuracy: 0.8778 - loss: 0.2686 - precision: 0.7844 - recall: 0.6275 - val_auc: 0.9152 - val_binary_accuracy: 0.8659 - val_loss: 0.2847 - val_precision: 0.7817 - val_recall: 0.5812\n",
            "Epoch 52/200\n",
            "\u001b[1m35/35\u001b[0m \u001b[32m━━━━━━━━━━━━━━━━━━━━\u001b[0m\u001b[37m\u001b[0m \u001b[1m0s\u001b[0m 10ms/step - auc: 0.9302 - binary_accuracy: 0.8789 - loss: 0.2627 - precision: 0.7947 - recall: 0.6251 - val_auc: 0.9137 - val_binary_accuracy: 0.8690 - val_loss: 0.2874 - val_precision: 0.7759 - val_recall: 0.6073\n",
            "Epoch 53/200\n",
            "\u001b[1m35/35\u001b[0m \u001b[32m━━━━━━━━━━━━━━━━━━━━\u001b[0m\u001b[37m\u001b[0m \u001b[1m0s\u001b[0m 7ms/step - auc: 0.9396 - binary_accuracy: 0.8856 - loss: 0.2491 - precision: 0.8253 - recall: 0.6392 - val_auc: 0.9147 - val_binary_accuracy: 0.8714 - val_loss: 0.2863 - val_precision: 0.7789 - val_recall: 0.6178\n",
            "Epoch 54/200\n",
            "\u001b[1m35/35\u001b[0m \u001b[32m━━━━━━━━━━━━━━━━━━━━\u001b[0m\u001b[37m\u001b[0m \u001b[1m0s\u001b[0m 9ms/step - auc: 0.9424 - binary_accuracy: 0.8914 - loss: 0.2422 - precision: 0.8165 - recall: 0.6715 - val_auc: 0.9189 - val_binary_accuracy: 0.8744 - val_loss: 0.2780 - val_precision: 0.8000 - val_recall: 0.6073\n",
            "Epoch 55/200\n",
            "\u001b[1m35/35\u001b[0m \u001b[32m━━━━━━━━━━━━━━━━━━━━\u001b[0m\u001b[37m\u001b[0m \u001b[1m1s\u001b[0m 14ms/step - auc: 0.9366 - binary_accuracy: 0.8862 - loss: 0.2516 - precision: 0.8050 - recall: 0.6565 - val_auc: 0.9200 - val_binary_accuracy: 0.8780 - val_loss: 0.2769 - val_precision: 0.8041 - val_recall: 0.6230\n",
            "Epoch 56/200\n",
            "\u001b[1m35/35\u001b[0m \u001b[32m━━━━━━━━━━━━━━━━━━━━\u001b[0m\u001b[37m\u001b[0m \u001b[1m1s\u001b[0m 9ms/step - auc: 0.9420 - binary_accuracy: 0.8935 - loss: 0.2394 - precision: 0.8276 - recall: 0.6620 - val_auc: 0.9203 - val_binary_accuracy: 0.8744 - val_loss: 0.2759 - val_precision: 0.7979 - val_recall: 0.6099\n",
            "Epoch 57/200\n",
            "\u001b[1m35/35\u001b[0m \u001b[32m━━━━━━━━━━━━━━━━━━━━\u001b[0m\u001b[37m\u001b[0m \u001b[1m0s\u001b[0m 9ms/step - auc: 0.9356 - binary_accuracy: 0.8875 - loss: 0.2509 - precision: 0.8096 - recall: 0.6597 - val_auc: 0.9189 - val_binary_accuracy: 0.8732 - val_loss: 0.2806 - val_precision: 0.7945 - val_recall: 0.6073\n",
            "Epoch 58/200\n",
            "\u001b[1m35/35\u001b[0m \u001b[32m━━━━━━━━━━━━━━━━━━━━\u001b[0m\u001b[37m\u001b[0m \u001b[1m0s\u001b[0m 9ms/step - auc: 0.9420 - binary_accuracy: 0.8928 - loss: 0.2402 - precision: 0.8174 - recall: 0.6769 - val_auc: 0.9186 - val_binary_accuracy: 0.8750 - val_loss: 0.2801 - val_precision: 0.8070 - val_recall: 0.6021\n",
            "Epoch 59/200\n",
            "\u001b[1m35/35\u001b[0m \u001b[32m━━━━━━━━━━━━━━━━━━━━\u001b[0m\u001b[37m\u001b[0m \u001b[1m0s\u001b[0m 8ms/step - auc: 0.9345 - binary_accuracy: 0.8901 - loss: 0.2523 - precision: 0.8138 - recall: 0.6501 - val_auc: 0.9208 - val_binary_accuracy: 0.8816 - val_loss: 0.2763 - val_precision: 0.8370 - val_recall: 0.6047\n",
            "Epoch 60/200\n",
            "\u001b[1m35/35\u001b[0m \u001b[32m━━━━━━━━━━━━━━━━━━━━\u001b[0m\u001b[37m\u001b[0m \u001b[1m0s\u001b[0m 8ms/step - auc: 0.9313 - binary_accuracy: 0.8831 - loss: 0.2576 - precision: 0.8057 - recall: 0.6255 - val_auc: 0.9220 - val_binary_accuracy: 0.8804 - val_loss: 0.2754 - val_precision: 0.8262 - val_recall: 0.6099\n",
            "Epoch 61/200\n",
            "\u001b[1m35/35\u001b[0m \u001b[32m━━━━━━━━━━━━━━━━━━━━\u001b[0m\u001b[37m\u001b[0m \u001b[1m0s\u001b[0m 10ms/step - auc: 0.9387 - binary_accuracy: 0.8847 - loss: 0.2484 - precision: 0.8129 - recall: 0.6425 - val_auc: 0.9216 - val_binary_accuracy: 0.8768 - val_loss: 0.2755 - val_precision: 0.8112 - val_recall: 0.6073\n",
            "Epoch 62/200\n",
            "\u001b[1m35/35\u001b[0m \u001b[32m━━━━━━━━━━━━━━━━━━━━\u001b[0m\u001b[37m\u001b[0m \u001b[1m0s\u001b[0m 7ms/step - auc: 0.9411 - binary_accuracy: 0.8946 - loss: 0.2421 - precision: 0.8199 - recall: 0.6721 - val_auc: 0.9232 - val_binary_accuracy: 0.8792 - val_loss: 0.2719 - val_precision: 0.8138 - val_recall: 0.6178\n",
            "Epoch 63/200\n",
            "\u001b[1m35/35\u001b[0m \u001b[32m━━━━━━━━━━━━━━━━━━━━\u001b[0m\u001b[37m\u001b[0m \u001b[1m0s\u001b[0m 11ms/step - auc: 0.9435 - binary_accuracy: 0.8916 - loss: 0.2384 - precision: 0.8217 - recall: 0.6636 - val_auc: 0.9177 - val_binary_accuracy: 0.8744 - val_loss: 0.2800 - val_precision: 0.7919 - val_recall: 0.6178\n",
            "Epoch 64/200\n",
            "\u001b[1m35/35\u001b[0m \u001b[32m━━━━━━━━━━━━━━━━━━━━\u001b[0m\u001b[37m\u001b[0m \u001b[1m0s\u001b[0m 9ms/step - auc: 0.9458 - binary_accuracy: 0.8971 - loss: 0.2340 - precision: 0.8197 - recall: 0.6904 - val_auc: 0.9226 - val_binary_accuracy: 0.8750 - val_loss: 0.2736 - val_precision: 0.7869 - val_recall: 0.6283\n",
            "Epoch 65/200\n",
            "\u001b[1m35/35\u001b[0m \u001b[32m━━━━━━━━━━━━━━━━━━━━\u001b[0m\u001b[37m\u001b[0m \u001b[1m0s\u001b[0m 8ms/step - auc: 0.9417 - binary_accuracy: 0.8920 - loss: 0.2407 - precision: 0.8198 - recall: 0.6691 - val_auc: 0.9197 - val_binary_accuracy: 0.8774 - val_loss: 0.2776 - val_precision: 0.7878 - val_recall: 0.6414\n",
            "Epoch 66/200\n",
            "\u001b[1m35/35\u001b[0m \u001b[32m━━━━━━━━━━━━━━━━━━━━\u001b[0m\u001b[37m\u001b[0m \u001b[1m0s\u001b[0m 9ms/step - auc: 0.9431 - binary_accuracy: 0.8942 - loss: 0.2380 - precision: 0.8175 - recall: 0.6811 - val_auc: 0.9188 - val_binary_accuracy: 0.8762 - val_loss: 0.2818 - val_precision: 0.7792 - val_recall: 0.6466\n",
            "Epoch 67/200\n",
            "\u001b[1m35/35\u001b[0m \u001b[32m━━━━━━━━━━━━━━━━━━━━\u001b[0m\u001b[37m\u001b[0m \u001b[1m0s\u001b[0m 9ms/step - auc: 0.9437 - binary_accuracy: 0.8908 - loss: 0.2396 - precision: 0.8146 - recall: 0.6680 - val_auc: 0.9193 - val_binary_accuracy: 0.8792 - val_loss: 0.2780 - val_precision: 0.8160 - val_recall: 0.6152\n",
            "Epoch 68/200\n",
            "\u001b[1m35/35\u001b[0m \u001b[32m━━━━━━━━━━━━━━━━━━━━\u001b[0m\u001b[37m\u001b[0m \u001b[1m0s\u001b[0m 9ms/step - auc: 0.9391 - binary_accuracy: 0.8925 - loss: 0.2422 - precision: 0.8294 - recall: 0.6505 - val_auc: 0.9182 - val_binary_accuracy: 0.8804 - val_loss: 0.2789 - val_precision: 0.8108 - val_recall: 0.6283\n",
            "Epoch 69/200\n",
            "\u001b[1m35/35\u001b[0m \u001b[32m━━━━━━━━━━━━━━━━━━━━\u001b[0m\u001b[37m\u001b[0m \u001b[1m1s\u001b[0m 14ms/step - auc: 0.9491 - binary_accuracy: 0.8910 - loss: 0.2312 - precision: 0.8283 - recall: 0.6671 - val_auc: 0.9208 - val_binary_accuracy: 0.8792 - val_loss: 0.2770 - val_precision: 0.8033 - val_recall: 0.6309\n",
            "Epoch 70/200\n",
            "\u001b[1m35/35\u001b[0m \u001b[32m━━━━━━━━━━━━━━━━━━━━\u001b[0m\u001b[37m\u001b[0m \u001b[1m1s\u001b[0m 14ms/step - auc: 0.9434 - binary_accuracy: 0.8962 - loss: 0.2378 - precision: 0.8344 - recall: 0.6757 - val_auc: 0.9199 - val_binary_accuracy: 0.8804 - val_loss: 0.2755 - val_precision: 0.8151 - val_recall: 0.6230\n",
            "Epoch 71/200\n",
            "\u001b[1m35/35\u001b[0m \u001b[32m━━━━━━━━━━━━━━━━━━━━\u001b[0m\u001b[37m\u001b[0m \u001b[1m0s\u001b[0m 9ms/step - auc: 0.9449 - binary_accuracy: 0.8925 - loss: 0.2353 - precision: 0.8197 - recall: 0.6737 - val_auc: 0.9212 - val_binary_accuracy: 0.8816 - val_loss: 0.2750 - val_precision: 0.7962 - val_recall: 0.6545\n",
            "Epoch 72/200\n",
            "\u001b[1m35/35\u001b[0m \u001b[32m━━━━━━━━━━━━━━━━━━━━\u001b[0m\u001b[37m\u001b[0m \u001b[1m0s\u001b[0m 10ms/step - auc: 0.9508 - binary_accuracy: 0.8999 - loss: 0.2255 - precision: 0.8314 - recall: 0.7030 - val_auc: 0.9213 - val_binary_accuracy: 0.8768 - val_loss: 0.2750 - val_precision: 0.7799 - val_recall: 0.6492\n",
            "\u001b[1m5/5\u001b[0m \u001b[32m━━━━━━━━━━━━━━━━━━━━\u001b[0m\u001b[37m\u001b[0m \u001b[1m0s\u001b[0m 33ms/step\n",
            "Best thresholds per class: [0.7500000000000002, 0.1, 0.1, 0.7000000000000002, 0.40000000000000013, 0.20000000000000004]\n",
            "F1 macro score on test: 0.3620\n",
            "\n",
            "==============================================\n",
            "Training model with lr=0.001, batch_size=64\n",
            "==============================================\n",
            "\n",
            "Epoch 1/200\n",
            "\u001b[1m18/18\u001b[0m \u001b[32m━━━━━━━━━━━━━━━━━━━━\u001b[0m\u001b[37m\u001b[0m \u001b[1m5s\u001b[0m 52ms/step - auc: 0.5314 - binary_accuracy: 0.5175 - loss: 0.8993 - precision: 0.2338 - recall: 0.5129 - val_auc: 0.6522 - val_binary_accuracy: 0.7277 - val_loss: 0.6621 - val_precision: 0.3647 - val_recall: 0.2435\n",
            "Epoch 2/200\n",
            "\u001b[1m18/18\u001b[0m \u001b[32m━━━━━━━━━━━━━━━━━━━━\u001b[0m\u001b[37m\u001b[0m \u001b[1m0s\u001b[0m 10ms/step - auc: 0.6173 - binary_accuracy: 0.5770 - loss: 0.7610 - precision: 0.2840 - recall: 0.5892 - val_auc: 0.6590 - val_binary_accuracy: 0.7512 - val_loss: 0.6496 - val_precision: 0.4219 - val_recall: 0.2120\n",
            "Epoch 3/200\n",
            "\u001b[1m18/18\u001b[0m \u001b[32m━━━━━━━━━━━━━━━━━━━━\u001b[0m\u001b[37m\u001b[0m \u001b[1m0s\u001b[0m 9ms/step - auc: 0.6596 - binary_accuracy: 0.6147 - loss: 0.7093 - precision: 0.3137 - recall: 0.6224 - val_auc: 0.6514 - val_binary_accuracy: 0.7470 - val_loss: 0.6385 - val_precision: 0.4089 - val_recall: 0.2173\n",
            "Epoch 4/200\n",
            "\u001b[1m18/18\u001b[0m \u001b[32m━━━━━━━━━━━━━━━━━━━━\u001b[0m\u001b[37m\u001b[0m \u001b[1m0s\u001b[0m 11ms/step - auc: 0.6760 - binary_accuracy: 0.6320 - loss: 0.6646 - precision: 0.3254 - recall: 0.6046 - val_auc: 0.6456 - val_binary_accuracy: 0.7409 - val_loss: 0.6277 - val_precision: 0.3917 - val_recall: 0.2225\n",
            "Epoch 5/200\n",
            "\u001b[1m18/18\u001b[0m \u001b[32m━━━━━━━━━━━━━━━━━━━━\u001b[0m\u001b[37m\u001b[0m \u001b[1m0s\u001b[0m 13ms/step - auc: 0.6859 - binary_accuracy: 0.6560 - loss: 0.6307 - precision: 0.3467 - recall: 0.5905 - val_auc: 0.6466 - val_binary_accuracy: 0.7403 - val_loss: 0.6162 - val_precision: 0.3889 - val_recall: 0.2199\n",
            "Epoch 6/200\n",
            "\u001b[1m18/18\u001b[0m \u001b[32m━━━━━━━━━━━━━━━━━━━━\u001b[0m\u001b[37m\u001b[0m \u001b[1m0s\u001b[0m 11ms/step - auc: 0.7203 - binary_accuracy: 0.6781 - loss: 0.5953 - precision: 0.3706 - recall: 0.6038 - val_auc: 0.6576 - val_binary_accuracy: 0.7434 - val_loss: 0.6022 - val_precision: 0.3886 - val_recall: 0.1963\n",
            "Epoch 7/200\n",
            "\u001b[1m18/18\u001b[0m \u001b[32m━━━━━━━━━━━━━━━━━━━━\u001b[0m\u001b[37m\u001b[0m \u001b[1m0s\u001b[0m 10ms/step - auc: 0.7448 - binary_accuracy: 0.7107 - loss: 0.5625 - precision: 0.4033 - recall: 0.6145 - val_auc: 0.6627 - val_binary_accuracy: 0.7446 - val_loss: 0.5906 - val_precision: 0.3990 - val_recall: 0.2120\n",
            "Epoch 8/200\n",
            "\u001b[1m18/18\u001b[0m \u001b[32m━━━━━━━━━━━━━━━━━━━━\u001b[0m\u001b[37m\u001b[0m \u001b[1m0s\u001b[0m 24ms/step - auc: 0.7292 - binary_accuracy: 0.7076 - loss: 0.5534 - precision: 0.3959 - recall: 0.5674 - val_auc: 0.6645 - val_binary_accuracy: 0.7554 - val_loss: 0.5760 - val_precision: 0.4303 - val_recall: 0.1859\n",
            "Epoch 9/200\n",
            "\u001b[1m18/18\u001b[0m \u001b[32m━━━━━━━━━━━━━━━━━━━━\u001b[0m\u001b[37m\u001b[0m \u001b[1m0s\u001b[0m 11ms/step - auc: 0.7666 - binary_accuracy: 0.7426 - loss: 0.5163 - precision: 0.4426 - recall: 0.5815 - val_auc: 0.6729 - val_binary_accuracy: 0.7579 - val_loss: 0.5616 - val_precision: 0.4354 - val_recall: 0.1675\n",
            "Epoch 10/200\n",
            "\u001b[1m18/18\u001b[0m \u001b[32m━━━━━━━━━━━━━━━━━━━━\u001b[0m\u001b[37m\u001b[0m \u001b[1m0s\u001b[0m 10ms/step - auc: 0.7593 - binary_accuracy: 0.7450 - loss: 0.5063 - precision: 0.4491 - recall: 0.5302 - val_auc: 0.6773 - val_binary_accuracy: 0.7591 - val_loss: 0.5476 - val_precision: 0.4341 - val_recall: 0.1466\n",
            "\u001b[1m5/5\u001b[0m \u001b[32m━━━━━━━━━━━━━━━━━━━━\u001b[0m\u001b[37m\u001b[0m \u001b[1m0s\u001b[0m 37ms/step\n",
            "Best thresholds per class: [0.45000000000000007, 0.1, 0.1, 0.5000000000000001, 0.45000000000000007, 0.1]\n",
            "F1 macro score on test: 0.3696\n",
            "\n",
            "==============================================\n",
            "Training model with lr=0.0005, batch_size=32\n",
            "==============================================\n",
            "\n",
            "Epoch 1/200\n",
            "\u001b[1m35/35\u001b[0m \u001b[32m━━━━━━━━━━━━━━━━━━━━\u001b[0m\u001b[37m\u001b[0m \u001b[1m6s\u001b[0m 34ms/step - auc: 0.5375 - binary_accuracy: 0.5230 - loss: 0.8912 - precision: 0.2450 - recall: 0.5456 - val_auc: 0.5427 - val_binary_accuracy: 0.6618 - val_loss: 0.6626 - val_precision: 0.2646 - val_recall: 0.2618\n",
            "Epoch 2/200\n",
            "\u001b[1m35/35\u001b[0m \u001b[32m━━━━━━━━━━━━━━━━━━━━\u001b[0m\u001b[37m\u001b[0m \u001b[1m0s\u001b[0m 11ms/step - auc: 0.6004 - binary_accuracy: 0.5688 - loss: 0.7824 - precision: 0.2823 - recall: 0.5924 - val_auc: 0.5491 - val_binary_accuracy: 0.7023 - val_loss: 0.6359 - val_precision: 0.3053 - val_recall: 0.2277\n",
            "Epoch 3/200\n",
            "\u001b[1m35/35\u001b[0m \u001b[32m━━━━━━━━━━━━━━━━━━━━\u001b[0m\u001b[37m\u001b[0m \u001b[1m0s\u001b[0m 10ms/step - auc: 0.6329 - binary_accuracy: 0.5926 - loss: 0.7289 - precision: 0.2951 - recall: 0.6031 - val_auc: 0.5577 - val_binary_accuracy: 0.7440 - val_loss: 0.6147 - val_precision: 0.3807 - val_recall: 0.1754\n",
            "Epoch 4/200\n",
            "\u001b[1m35/35\u001b[0m \u001b[32m━━━━━━━━━━━━━━━━━━━━\u001b[0m\u001b[37m\u001b[0m \u001b[1m0s\u001b[0m 9ms/step - auc: 0.6793 - binary_accuracy: 0.6300 - loss: 0.6669 - precision: 0.3298 - recall: 0.6216 - val_auc: 0.5687 - val_binary_accuracy: 0.7458 - val_loss: 0.5998 - val_precision: 0.3597 - val_recall: 0.1309\n",
            "Epoch 5/200\n",
            "\u001b[1m35/35\u001b[0m \u001b[32m━━━━━━━━━━━━━━━━━━━━\u001b[0m\u001b[37m\u001b[0m \u001b[1m0s\u001b[0m 10ms/step - auc: 0.6599 - binary_accuracy: 0.6272 - loss: 0.6566 - precision: 0.3143 - recall: 0.5678 - val_auc: 0.5904 - val_binary_accuracy: 0.7627 - val_loss: 0.5865 - val_precision: 0.4553 - val_recall: 0.1466\n",
            "Epoch 6/200\n",
            "\u001b[1m35/35\u001b[0m \u001b[32m━━━━━━━━━━━━━━━━━━━━\u001b[0m\u001b[37m\u001b[0m \u001b[1m0s\u001b[0m 9ms/step - auc: 0.6730 - binary_accuracy: 0.6566 - loss: 0.6352 - precision: 0.3438 - recall: 0.5694 - val_auc: 0.6263 - val_binary_accuracy: 0.7723 - val_loss: 0.5698 - val_precision: 0.5248 - val_recall: 0.1387\n",
            "Epoch 7/200\n",
            "\u001b[1m35/35\u001b[0m \u001b[32m━━━━━━━━━━━━━━━━━━━━\u001b[0m\u001b[37m\u001b[0m \u001b[1m0s\u001b[0m 8ms/step - auc: 0.7025 - binary_accuracy: 0.6737 - loss: 0.6019 - precision: 0.3608 - recall: 0.5758 - val_auc: 0.6689 - val_binary_accuracy: 0.7808 - val_loss: 0.5531 - val_precision: 0.5888 - val_recall: 0.1649\n",
            "Epoch 8/200\n",
            "\u001b[1m35/35\u001b[0m \u001b[32m━━━━━━━━━━━━━━━━━━━━\u001b[0m\u001b[37m\u001b[0m \u001b[1m0s\u001b[0m 9ms/step - auc: 0.6986 - binary_accuracy: 0.6879 - loss: 0.5856 - precision: 0.3667 - recall: 0.5601 - val_auc: 0.7124 - val_binary_accuracy: 0.7850 - val_loss: 0.5364 - val_precision: 0.6327 - val_recall: 0.1623\n",
            "Epoch 9/200\n",
            "\u001b[1m35/35\u001b[0m \u001b[32m━━━━━━━━━━━━━━━━━━━━\u001b[0m\u001b[37m\u001b[0m \u001b[1m0s\u001b[0m 9ms/step - auc: 0.7258 - binary_accuracy: 0.7131 - loss: 0.5496 - precision: 0.3999 - recall: 0.5380 - val_auc: 0.7379 - val_binary_accuracy: 0.7893 - val_loss: 0.5205 - val_precision: 0.6387 - val_recall: 0.1990\n",
            "Epoch 10/200\n",
            "\u001b[1m35/35\u001b[0m \u001b[32m━━━━━━━━━━━━━━━━━━━━\u001b[0m\u001b[37m\u001b[0m \u001b[1m0s\u001b[0m 9ms/step - auc: 0.7196 - binary_accuracy: 0.7192 - loss: 0.5463 - precision: 0.4086 - recall: 0.5223 - val_auc: 0.7629 - val_binary_accuracy: 0.7941 - val_loss: 0.5028 - val_precision: 0.6640 - val_recall: 0.2173\n",
            "\u001b[1m5/5\u001b[0m \u001b[32m━━━━━━━━━━━━━━━━━━━━\u001b[0m\u001b[37m\u001b[0m \u001b[1m0s\u001b[0m 33ms/step\n",
            "Best thresholds per class: [0.5000000000000001, 0.40000000000000013, 0.1, 0.5000000000000001, 0.45000000000000007, 0.1]\n",
            "F1 macro score on test: 0.3608\n",
            "\n",
            "==============================================\n",
            "Training model with lr=0.0005, batch_size=64\n",
            "==============================================\n",
            "\n",
            "Epoch 1/200\n",
            "\u001b[1m18/18\u001b[0m \u001b[32m━━━━━━━━━━━━━━━━━━━━\u001b[0m\u001b[37m\u001b[0m \u001b[1m5s\u001b[0m 48ms/step - auc: 0.5203 - binary_accuracy: 0.5102 - loss: 0.9242 - precision: 0.2357 - recall: 0.5124 - val_auc: 0.5195 - val_binary_accuracy: 0.5954 - val_loss: 0.6740 - val_precision: 0.2143 - val_recall: 0.2827\n",
            "Epoch 2/200\n",
            "\u001b[1m18/18\u001b[0m \u001b[32m━━━━━━━━━━━━━━━━━━━━\u001b[0m\u001b[37m\u001b[0m \u001b[1m0s\u001b[0m 11ms/step - auc: 0.5950 - binary_accuracy: 0.5598 - loss: 0.8239 - precision: 0.2735 - recall: 0.5778 - val_auc: 0.5455 - val_binary_accuracy: 0.6184 - val_loss: 0.6569 - val_precision: 0.2702 - val_recall: 0.3848\n",
            "Epoch 3/200\n",
            "\u001b[1m18/18\u001b[0m \u001b[32m━━━━━━━━━━━━━━━━━━━━\u001b[0m\u001b[37m\u001b[0m \u001b[1m0s\u001b[0m 10ms/step - auc: 0.6112 - binary_accuracy: 0.5779 - loss: 0.7768 - precision: 0.2857 - recall: 0.5940 - val_auc: 0.5483 - val_binary_accuracy: 0.6389 - val_loss: 0.6442 - val_precision: 0.2796 - val_recall: 0.3586\n",
            "Epoch 4/200\n",
            "\u001b[1m18/18\u001b[0m \u001b[32m━━━━━━━━━━━━━━━━━━━━\u001b[0m\u001b[37m\u001b[0m \u001b[1m0s\u001b[0m 10ms/step - auc: 0.6296 - binary_accuracy: 0.5861 - loss: 0.7434 - precision: 0.3011 - recall: 0.6106 - val_auc: 0.5497 - val_binary_accuracy: 0.6461 - val_loss: 0.6367 - val_precision: 0.2848 - val_recall: 0.3534\n",
            "Epoch 5/200\n",
            "\u001b[1m18/18\u001b[0m \u001b[32m━━━━━━━━━━━━━━━━━━━━\u001b[0m\u001b[37m\u001b[0m \u001b[1m0s\u001b[0m 9ms/step - auc: 0.6461 - binary_accuracy: 0.5994 - loss: 0.7264 - precision: 0.3048 - recall: 0.6145 - val_auc: 0.5517 - val_binary_accuracy: 0.6606 - val_loss: 0.6307 - val_precision: 0.3009 - val_recall: 0.3560\n",
            "Epoch 6/200\n",
            "\u001b[1m18/18\u001b[0m \u001b[32m━━━━━━━━━━━━━━━━━━━━\u001b[0m\u001b[37m\u001b[0m \u001b[1m0s\u001b[0m 10ms/step - auc: 0.6574 - binary_accuracy: 0.6123 - loss: 0.7010 - precision: 0.3139 - recall: 0.6022 - val_auc: 0.5565 - val_binary_accuracy: 0.6691 - val_loss: 0.6240 - val_precision: 0.3061 - val_recall: 0.3429\n",
            "Epoch 7/200\n",
            "\u001b[1m18/18\u001b[0m \u001b[32m━━━━━━━━━━━━━━━━━━━━\u001b[0m\u001b[37m\u001b[0m \u001b[1m0s\u001b[0m 11ms/step - auc: 0.6914 - binary_accuracy: 0.6344 - loss: 0.6484 - precision: 0.3312 - recall: 0.6185 - val_auc: 0.5634 - val_binary_accuracy: 0.6739 - val_loss: 0.6163 - val_precision: 0.3092 - val_recall: 0.3351\n",
            "Epoch 8/200\n",
            "\u001b[1m18/18\u001b[0m \u001b[32m━━━━━━━━━━━━━━━━━━━━\u001b[0m\u001b[37m\u001b[0m \u001b[1m0s\u001b[0m 10ms/step - auc: 0.6898 - binary_accuracy: 0.6490 - loss: 0.6523 - precision: 0.3528 - recall: 0.6363 - val_auc: 0.5715 - val_binary_accuracy: 0.6902 - val_loss: 0.6056 - val_precision: 0.3299 - val_recall: 0.3325\n",
            "Epoch 9/200\n",
            "\u001b[1m18/18\u001b[0m \u001b[32m━━━━━━━━━━━━━━━━━━━━\u001b[0m\u001b[37m\u001b[0m \u001b[1m0s\u001b[0m 10ms/step - auc: 0.6849 - binary_accuracy: 0.6447 - loss: 0.6475 - precision: 0.3379 - recall: 0.6010 - val_auc: 0.5816 - val_binary_accuracy: 0.6914 - val_loss: 0.5974 - val_precision: 0.3298 - val_recall: 0.3272\n",
            "Epoch 10/200\n",
            "\u001b[1m18/18\u001b[0m \u001b[32m━━━━━━━━━━━━━━━━━━━━\u001b[0m\u001b[37m\u001b[0m \u001b[1m0s\u001b[0m 11ms/step - auc: 0.7076 - binary_accuracy: 0.6706 - loss: 0.6220 - precision: 0.3620 - recall: 0.6282 - val_auc: 0.5905 - val_binary_accuracy: 0.7107 - val_loss: 0.5865 - val_precision: 0.3517 - val_recall: 0.3010\n",
            "\u001b[1m5/5\u001b[0m \u001b[32m━━━━━━━━━━━━━━━━━━━━\u001b[0m\u001b[37m\u001b[0m \u001b[1m2s\u001b[0m 334ms/step\n",
            "Best thresholds per class: [0.5500000000000002, 0.1, 0.1, 0.1, 0.1, 0.1]\n",
            "F1 macro score on test: 0.3836\n"
          ]
        }
      ],
      "source": [
        "# Callbacks\n",
        "early_stop = EarlyStopping(monitor='val_loss', patience=10, restore_best_weights=True)\n",
        "reduce_lr = ReduceLROnPlateau(monitor='val_loss', factor=0.5, patience=5, min_lr=1e-6)\n",
        "\n",
        "# Manual hyperparameter tuning\n",
        "best_f1 = 0\n",
        "best_params = {}\n",
        "\n",
        "for lr in [0.001, 0.0005]:\n",
        "    for batch_size in [32, 64]:\n",
        "        print(f\"\\n==============================================\")\n",
        "        print(f\"Training model with lr={lr}, batch_size={batch_size}\")\n",
        "        print(f\"==============================================\\n\")\n",
        "        \n",
        "        model = build_model(input_dim, output_dim, lr=lr, dropout_rate=0.3)\n",
        "        history = model.fit(\n",
        "            X_final, y_final,\n",
        "            epochs=200,\n",
        "            batch_size=batch_size,\n",
        "            validation_split=0.2,\n",
        "            callbacks=[early_stop],\n",
        "            verbose=1\n",
        "        )\n",
        "\n",
        "        # Evaluasi di test set\n",
        "        y_pred_probs = model.predict(X_test)\n",
        "\n",
        "        # Cari threshold terbaik per class\n",
        "        thresholds = np.arange(0.1, 0.9, 0.05)\n",
        "        best_thresholds = []\n",
        "        for i in range(output_dim):\n",
        "            f1_scores = []\n",
        "            for t in thresholds:\n",
        "                preds = (y_pred_probs[:, i] > t).astype(int)\n",
        "                f1 = f1_score(y_test[:, i], preds)\n",
        "                f1_scores.append(f1)\n",
        "            best_t = thresholds[np.argmax(f1_scores)]\n",
        "            best_thresholds.append(best_t)\n",
        "\n",
        "        print(\"Best thresholds per class:\", best_thresholds)\n",
        "\n",
        "        y_pred = np.zeros_like(y_pred_probs, dtype=int)\n",
        "        for i in range(output_dim):\n",
        "            y_pred[:, i] = (y_pred_probs[:, i] > best_thresholds[i]).astype(int)\n",
        "\n",
        "        f1_macro = f1_score(y_test, y_pred, average='macro')\n",
        "        print(f\"F1 macro score on test: {f1_macro:.4f}\")\n",
        "\n",
        "        if f1_macro > best_f1:\n",
        "            best_f1 = f1_macro\n",
        "            best_params = {'lr': lr, 'batch_size': batch_size, 'thresholds': best_thresholds}\n",
        "            best_model = model\n",
        "            best_y_pred = y_pred"
      ]
    },
    {
      "cell_type": "code",
      "execution_count": 59,
      "metadata": {},
      "outputs": [
        {
          "name": "stdout",
          "output_type": "stream",
          "text": [
            "\n",
            "=== ✅ Best Hyperparameters ===\n",
            "{'lr': 0.0005, 'batch_size': 64, 'thresholds': [0.5500000000000002, 0.1, 0.1, 0.1, 0.1, 0.1]}\n",
            "Best F1 macro score: 0.3836\n"
          ]
        }
      ],
      "source": [
        "print(\"\\n=== ✅ Best Hyperparameters ===\")\n",
        "print(best_params)\n",
        "print(f\"Best F1 macro score: {best_f1:.4f}\")"
      ]
    },
    {
      "cell_type": "markdown",
      "metadata": {},
      "source": [
        "## Evaluation"
      ]
    },
    {
      "cell_type": "code",
      "execution_count": 60,
      "metadata": {},
      "outputs": [
        {
          "name": "stdout",
          "output_type": "stream",
          "text": [
            "\n",
            "🔍 Evaluating final model on test set...\n",
            "\u001b[1m5/5\u001b[0m \u001b[32m━━━━━━━━━━━━━━━━━━━━\u001b[0m\u001b[37m\u001b[0m \u001b[1m0s\u001b[0m 3ms/step \n",
            "\n",
            "📊 Final classification report:\n",
            "              precision    recall  f1-score   support\n",
            "\n",
            "           0       0.62      0.36      0.45        14\n",
            "           1       0.07      1.00      0.12         9\n",
            "           2       0.58      1.00      0.74        80\n",
            "           3       0.12      1.00      0.21        16\n",
            "           4       0.09      1.00      0.16        12\n",
            "           5       0.45      1.00      0.62        61\n",
            "\n",
            "   micro avg       0.26      0.95      0.41       192\n",
            "   macro avg       0.32      0.89      0.38       192\n",
            "weighted avg       0.45      0.95      0.57       192\n",
            " samples avg       0.26      0.93      0.40       192\n",
            "\n"
          ]
        }
      ],
      "source": [
        "# Evaluasi final model di test set\n",
        "print(\"\\n🔍 Evaluating final model on test set...\")\n",
        "\n",
        "final_probs = best_model.predict(X_test)\n",
        "final_pred = np.zeros_like(final_probs, dtype=int)\n",
        "for i in range(output_dim):\n",
        "    final_pred[:, i] = (final_probs[:, i] > best_params['thresholds'][i]).astype(int)\n",
        "\n",
        "print(\"\\n📊 Final classification report:\")\n",
        "print(classification_report(y_test, final_pred, zero_division=0))"
      ]
    },
    {
      "cell_type": "code",
      "execution_count": 61,
      "metadata": {},
      "outputs": [
        {
          "name": "stdout",
          "output_type": "stream",
          "text": [
            "\n",
            "📈 Final Metrics:\n",
            "🎯 Accuracy Score (subset accuracy): 0.0\n",
            "🤝 F1 Score (macro): 0.38359101386346345\n",
            "🤝 F1 Score (micro): 0.4135593220338983\n",
            "🤝 F1 Score (weighted): 0.5693986991697743\n",
            "⚖️ Hamming Loss: 0.6313868613138686\n",
            "📏 Jaccard Score (samples): 0.26277372262773724\n"
          ]
        }
      ],
      "source": [
        "# Print final metrics\n",
        "print(\"\\n📈 Final Metrics:\")\n",
        "print(\"🎯 Accuracy Score (subset accuracy):\", accuracy_score(y_test, best_y_pred))\n",
        "print(\"🤝 F1 Score (macro):\", f1_score(y_test, best_y_pred, average='macro'))\n",
        "print(\"🤝 F1 Score (micro):\", f1_score(y_test, best_y_pred, average='micro'))\n",
        "print(\"🤝 F1 Score (weighted):\", f1_score(y_test, best_y_pred, average='weighted'))\n",
        "print(\"⚖️ Hamming Loss:\", hamming_loss(y_test, best_y_pred))\n",
        "print(\"📏 Jaccard Score (samples):\", jaccard_score(y_test, best_y_pred, average='samples'))"
      ]
    },
    {
      "cell_type": "code",
      "execution_count": 62,
      "metadata": {},
      "outputs": [
        {
          "data": {
            "image/png": "[encoded data removed]",
            "text/plain": [
              "<Figure size 1200x500 with 2 Axes>"
            ]
          },
          "metadata": {},
          "output_type": "display_data"
        }
      ],
      "source": [
        "# Plot training history\n",
        "def plot_training_history(history):\n",
        "    plt.figure(figsize=(12, 5))\n",
        "\n",
        "    # Loss\n",
        "    plt.subplot(1, 2, 1)\n",
        "    plt.plot(history.history['loss'], label='Train Loss')\n",
        "    plt.plot(history.history['val_loss'], label='Val Loss')\n",
        "    plt.title('Loss')\n",
        "    plt.xlabel('Epochs')\n",
        "    plt.ylabel('Loss')\n",
        "    plt.legend()\n",
        "\n",
        "    # Accuracy\n",
        "    plt.subplot(1, 2, 2)\n",
        "    plt.plot(history.history['binary_accuracy'], label='Train Accuracy')\n",
        "    plt.plot(history.history['val_binary_accuracy'], label='Val Accuracy')\n",
        "    plt.title('Binary Accuracy')\n",
        "    plt.xlabel('Epochs')\n",
        "    plt.ylabel('Accuracy')\n",
        "    plt.legend()\n",
        "\n",
        "    plt.tight_layout()\n",
        "    plt.show()\n",
        "\n",
        "plot_training_history(history)"
      ]
    },
    {
      "cell_type": "markdown",
      "metadata": {
        "id": "MKNvxlIz2qED"
      },
      "source": [
        "## Save Model"
      ]
    },
    {
      "cell_type": "code",
      "execution_count": 63,
      "metadata": {
        "id": "rpNYUmDZqB3_"
      },
      "outputs": [
        {
          "name": "stderr",
          "output_type": "stream",
          "text": [
            "WARNING:absl:You are saving your model as an HDF5 file via `model.save()` or `keras.saving.save_model(model)`. This file format is considered legacy. We recommend using instead the native Keras format, e.g. `model.save('my_model.keras')` or `keras.saving.save_model(model, 'my_model.keras')`. \n"
          ]
        },
        {
          "name": "stdout",
          "output_type": "stream",
          "text": [
            "failed to lookup keras version from the file,\n",
            "    this is likely a weight only file\n",
            "Model saved to ../src/models/model_tfjs\n",
            "MLB classes saved to ../src/models/mlb_classes.json\n"
          ]
        }
      ],
      "source": [
        "# Simpan model TensorFlow ke folder models\n",
        "tfjs.converters.save_keras_model(best_model, '../src/models/model_tfjs')\n",
        "\n",
        "# Simpan MultiLabelBinarizer ke JSON (bukan pickle)\n",
        "mlb_classes = {\n",
        "    'ingredient_category': mlb_ingredients_category.classes_.tolist(),\n",
        "    'skin_type': mlb_skin_type.classes_.tolist(),\n",
        "    'skin_concern': mlb_skin_concern.classes_.tolist(),\n",
        "    'skin_goal': mlb_skin_goal.classes_.tolist()\n",
        "}\n",
        "with open('../src/models/mlb_classes.json', 'w') as f:\n",
        "    json.dump(mlb_classes, f, indent=2)\n",
        "\n",
        "print(\"Model saved to ../src/models/model_tfjs\")\n",
        "print(\"MLB classes saved to ../src/models/mlb_classes.json\")"
      ]
    },
    {
      "cell_type": "markdown",
      "metadata": {
        "id": "FN6dMgV3oHJp"
      },
      "source": [
        "## Inference Model"
      ]
    },
    {
      "cell_type": "code",
      "execution_count": 65,
      "metadata": {
        "id": "O-FiIhIl5C8e"
      },
      "outputs": [],
      "source": [
        "def clean_input(lst):\n",
        "    if isinstance(lst, str):\n",
        "        lst = [lst]\n",
        "    seen = set()\n",
        "    result = []\n",
        "    for item in lst:\n",
        "        item_norm = re.sub(r\"[\\\\[\\\\]\\'\\\"]\", \"\", item.lower().strip())\n",
        "        if item_norm and item_norm not in seen:\n",
        "            seen.add(item_norm)\n",
        "            result.append(item_norm)\n",
        "    return result\n",
        "\n",
        "# --- LOAD MLB CLASSES DARI JSON (BUKAN PICKLE) ---\n",
        "with open(\"../src/models/mlb_classes.json\", \"r\") as f:\n",
        "    mlb_classes = json.load(f)\n",
        "mlb_skin_type_classes = mlb_classes['skin_type']\n",
        "mlb_skin_concern_classes = mlb_classes['skin_concern']\n",
        "mlb_skin_goal_classes = mlb_classes['skin_goal']\n",
        "mlb_ingredient_category_classes = mlb_classes['ingredient_category']\n",
        "\n",
        "# --- FUNGSI UNTUK INFERENCE ---\n",
        "def predict_ingredient_categories(skin_type, skin_concern, skin_goal, threshold=0.3):\n",
        "    # Normalisasi input\n",
        "    skin_type = clean_input(skin_type)\n",
        "    skin_concern = clean_input(skin_concern)\n",
        "    skin_goal = clean_input(skin_goal)\n",
        "\n",
        "    # Buat vector multi-hot per fitur\n",
        "    vec_skin_type = np.array([1 if c in skin_type else 0 for c in mlb_skin_type_classes])\n",
        "    vec_skin_concern = np.array([1 if c in skin_concern else 0 for c in mlb_skin_concern_classes])\n",
        "    vec_skin_goal = np.array([1 if c in skin_goal else 0 for c in mlb_skin_goal_classes])\n",
        "\n",
        "    # Gabungkan semua fitur jadi input vector\n",
        "    input_vector = np.concatenate([vec_skin_type, vec_skin_concern, vec_skin_goal]).reshape(1, -1).astype(np.float32)\n",
        "\n",
        "    # Load model (buat tes di Python, nanti di Hapi pake TensorFlow.js)\n",
        "    model = load_model(\"../src/models/ingredients_category_classification_model.keras\",\n",
        "                       custom_objects={'weighted_binary_crossentropy': weighted_binary_crossentropy})\n",
        "\n",
        "    # Prediksi\n",
        "    probs = model.predict(input_vector)[0]\n",
        "\n",
        "    # Ambil label kategori bahan aktif dengan probabilitas >= threshold\n",
        "    predicted_labels = [label for label, prob in zip(mlb_ingredient_category_classes, probs) if prob >= threshold]\n",
        "\n",
        "    return predicted_labels\n"
      ]
    },
    {
      "cell_type": "code",
      "execution_count": 66,
      "metadata": {
        "colab": {
          "base_uri": "https://localhost:8080/"
        },
        "id": "zZn3mDVuoNRg",
        "outputId": "a0296c90-36e3-4036-def6-e08c38c22d81"
      },
      "outputs": [
        {
          "ename": "ValueError",
          "evalue": "Exception encountered when calling Sequential.call().\n\n\u001b[1mInput 0 of layer \"dense_213\" is incompatible with the layer: expected axis -1 of input shape to have value 60, but received input with shape (1, 39)\u001b[0m\n\nArguments received by Sequential.call():\n  • inputs=tf.Tensor(shape=(1, 39), dtype=float32)\n  • training=False\n  • mask=None",
          "output_type": "error",
          "traceback": [
            "\u001b[0;31m---------------------------------------------------------------------------\u001b[0m",
            "\u001b[0;31mValueError\u001b[0m                                Traceback (most recent call last)",
            "Cell \u001b[0;32mIn[66], line 2\u001b[0m\n\u001b[1;32m      1\u001b[0m \u001b[38;5;66;03m# Tes inference\u001b[39;00m\n\u001b[0;32m----> 2\u001b[0m result \u001b[38;5;241m=\u001b[39m \u001b[43mpredict_ingredient_categories\u001b[49m\u001b[43m(\u001b[49m\n\u001b[1;32m      3\u001b[0m \u001b[43m    \u001b[49m\u001b[43mskin_type\u001b[49m\u001b[38;5;241;43m=\u001b[39;49m\u001b[43m[\u001b[49m\u001b[38;5;124;43m'\u001b[39;49m\u001b[38;5;124;43mdry\u001b[39;49m\u001b[38;5;124;43m'\u001b[39;49m\u001b[43m]\u001b[49m\u001b[43m,\u001b[49m\n\u001b[1;32m      4\u001b[0m \u001b[43m    \u001b[49m\u001b[43mskin_concern\u001b[49m\u001b[38;5;241;43m=\u001b[39;49m\u001b[43m[\u001b[49m\u001b[38;5;124;43m'\u001b[39;49m\u001b[38;5;124;43macne\u001b[39;49m\u001b[38;5;124;43m'\u001b[39;49m\u001b[43m]\u001b[49m\u001b[43m,\u001b[49m\n\u001b[1;32m      5\u001b[0m \u001b[43m    \u001b[49m\u001b[43mskin_goal\u001b[49m\u001b[38;5;241;43m=\u001b[39;49m\u001b[43m[\u001b[49m\u001b[38;5;124;43m'\u001b[39;49m\u001b[38;5;124;43mhydration\u001b[39;49m\u001b[38;5;124;43m'\u001b[39;49m\u001b[43m]\u001b[49m\n\u001b[1;32m      6\u001b[0m \u001b[43m)\u001b[49m\n\u001b[1;32m      7\u001b[0m \u001b[38;5;28mprint\u001b[39m(\u001b[38;5;124m\"\u001b[39m\u001b[38;5;124mRekomendasi ingredients:\u001b[39m\u001b[38;5;124m\"\u001b[39m, result)\n",
            "Cell \u001b[0;32mIn[65], line 41\u001b[0m, in \u001b[0;36mpredict_ingredient_categories\u001b[0;34m(skin_type, skin_concern, skin_goal, threshold)\u001b[0m\n\u001b[1;32m     37\u001b[0m model \u001b[38;5;241m=\u001b[39m load_model(\u001b[38;5;124m\"\u001b[39m\u001b[38;5;124m../src/models/ingredients_category_classification_model.keras\u001b[39m\u001b[38;5;124m\"\u001b[39m,\n\u001b[1;32m     38\u001b[0m                    custom_objects\u001b[38;5;241m=\u001b[39m{\u001b[38;5;124m'\u001b[39m\u001b[38;5;124mweighted_binary_crossentropy\u001b[39m\u001b[38;5;124m'\u001b[39m: weighted_binary_crossentropy})\n\u001b[1;32m     40\u001b[0m \u001b[38;5;66;03m# Prediksi\u001b[39;00m\n\u001b[0;32m---> 41\u001b[0m probs \u001b[38;5;241m=\u001b[39m \u001b[43mmodel\u001b[49m\u001b[38;5;241;43m.\u001b[39;49m\u001b[43mpredict\u001b[49m\u001b[43m(\u001b[49m\u001b[43minput_vector\u001b[49m\u001b[43m)\u001b[49m[\u001b[38;5;241m0\u001b[39m]\n\u001b[1;32m     43\u001b[0m \u001b[38;5;66;03m# Ambil label kategori bahan aktif dengan probabilitas >= threshold\u001b[39;00m\n\u001b[1;32m     44\u001b[0m predicted_labels \u001b[38;5;241m=\u001b[39m [label \u001b[38;5;28;01mfor\u001b[39;00m label, prob \u001b[38;5;129;01min\u001b[39;00m \u001b[38;5;28mzip\u001b[39m(mlb_ingredient_category_classes, probs) \u001b[38;5;28;01mif\u001b[39;00m prob \u001b[38;5;241m>\u001b[39m\u001b[38;5;241m=\u001b[39m threshold]\n",
            "File \u001b[0;32m~/.pyenv/versions/3.11.4/lib/python3.11/site-packages/keras/src/utils/traceback_utils.py:122\u001b[0m, in \u001b[0;36mfilter_traceback.<locals>.error_handler\u001b[0;34m(*args, **kwargs)\u001b[0m\n\u001b[1;32m    119\u001b[0m     filtered_tb \u001b[38;5;241m=\u001b[39m _process_traceback_frames(e\u001b[38;5;241m.\u001b[39m__traceback__)\n\u001b[1;32m    120\u001b[0m     \u001b[38;5;66;03m# To get the full stack trace, call:\u001b[39;00m\n\u001b[1;32m    121\u001b[0m     \u001b[38;5;66;03m# `keras.config.disable_traceback_filtering()`\u001b[39;00m\n\u001b[0;32m--> 122\u001b[0m     \u001b[38;5;28;01mraise\u001b[39;00m e\u001b[38;5;241m.\u001b[39mwith_traceback(filtered_tb) \u001b[38;5;28;01mfrom\u001b[39;00m \u001b[38;5;28;01mNone\u001b[39;00m\n\u001b[1;32m    123\u001b[0m \u001b[38;5;28;01mfinally\u001b[39;00m:\n\u001b[1;32m    124\u001b[0m     \u001b[38;5;28;01mdel\u001b[39;00m filtered_tb\n",
            "File \u001b[0;32m~/.pyenv/versions/3.11.4/lib/python3.11/site-packages/keras/src/layers/input_spec.py:227\u001b[0m, in \u001b[0;36massert_input_compatibility\u001b[0;34m(input_spec, inputs, layer_name)\u001b[0m\n\u001b[1;32m    222\u001b[0m     \u001b[38;5;28;01mfor\u001b[39;00m axis, value \u001b[38;5;129;01min\u001b[39;00m spec\u001b[38;5;241m.\u001b[39maxes\u001b[38;5;241m.\u001b[39mitems():\n\u001b[1;32m    223\u001b[0m         \u001b[38;5;28;01mif\u001b[39;00m value \u001b[38;5;129;01mis\u001b[39;00m \u001b[38;5;129;01mnot\u001b[39;00m \u001b[38;5;28;01mNone\u001b[39;00m \u001b[38;5;129;01mand\u001b[39;00m shape[axis] \u001b[38;5;129;01mnot\u001b[39;00m \u001b[38;5;129;01min\u001b[39;00m {\n\u001b[1;32m    224\u001b[0m             value,\n\u001b[1;32m    225\u001b[0m             \u001b[38;5;28;01mNone\u001b[39;00m,\n\u001b[1;32m    226\u001b[0m         }:\n\u001b[0;32m--> 227\u001b[0m             \u001b[38;5;28;01mraise\u001b[39;00m \u001b[38;5;167;01mValueError\u001b[39;00m(\n\u001b[1;32m    228\u001b[0m                 \u001b[38;5;124mf\u001b[39m\u001b[38;5;124m'\u001b[39m\u001b[38;5;124mInput \u001b[39m\u001b[38;5;132;01m{\u001b[39;00minput_index\u001b[38;5;132;01m}\u001b[39;00m\u001b[38;5;124m of layer \u001b[39m\u001b[38;5;124m\"\u001b[39m\u001b[38;5;132;01m{\u001b[39;00mlayer_name\u001b[38;5;132;01m}\u001b[39;00m\u001b[38;5;124m\"\u001b[39m\u001b[38;5;124m is \u001b[39m\u001b[38;5;124m'\u001b[39m\n\u001b[1;32m    229\u001b[0m                 \u001b[38;5;124mf\u001b[39m\u001b[38;5;124m\"\u001b[39m\u001b[38;5;124mincompatible with the layer: expected axis \u001b[39m\u001b[38;5;132;01m{\u001b[39;00maxis\u001b[38;5;132;01m}\u001b[39;00m\u001b[38;5;124m \u001b[39m\u001b[38;5;124m\"\u001b[39m\n\u001b[1;32m    230\u001b[0m                 \u001b[38;5;124mf\u001b[39m\u001b[38;5;124m\"\u001b[39m\u001b[38;5;124mof input shape to have value \u001b[39m\u001b[38;5;132;01m{\u001b[39;00mvalue\u001b[38;5;132;01m}\u001b[39;00m\u001b[38;5;124m, \u001b[39m\u001b[38;5;124m\"\u001b[39m\n\u001b[1;32m    231\u001b[0m                 \u001b[38;5;124m\"\u001b[39m\u001b[38;5;124mbut received input with \u001b[39m\u001b[38;5;124m\"\u001b[39m\n\u001b[1;32m    232\u001b[0m                 \u001b[38;5;124mf\u001b[39m\u001b[38;5;124m\"\u001b[39m\u001b[38;5;124mshape \u001b[39m\u001b[38;5;132;01m{\u001b[39;00mshape\u001b[38;5;132;01m}\u001b[39;00m\u001b[38;5;124m\"\u001b[39m\n\u001b[1;32m    233\u001b[0m             )\n\u001b[1;32m    234\u001b[0m \u001b[38;5;66;03m# Check shape.\u001b[39;00m\n\u001b[1;32m    235\u001b[0m \u001b[38;5;28;01mif\u001b[39;00m spec\u001b[38;5;241m.\u001b[39mshape \u001b[38;5;129;01mis\u001b[39;00m \u001b[38;5;129;01mnot\u001b[39;00m \u001b[38;5;28;01mNone\u001b[39;00m:\n",
            "\u001b[0;31mValueError\u001b[0m: Exception encountered when calling Sequential.call().\n\n\u001b[1mInput 0 of layer \"dense_213\" is incompatible with the layer: expected axis -1 of input shape to have value 60, but received input with shape (1, 39)\u001b[0m\n\nArguments received by Sequential.call():\n  • inputs=tf.Tensor(shape=(1, 39), dtype=float32)\n  • training=False\n  • mask=None"
          ]
        }
      ],
      "source": [
        "# Tes inference\n",
        "result = predict_ingredient_categories(\n",
        "    skin_type=['dry'],\n",
        "    skin_concern=['acne'],\n",
        "    skin_goal=['hydration']\n",
        ")\n",
        "print(\"Rekomendasi ingredients:\", result)"
      ]
    }
  ],
  "metadata": {
    "colab": {
      "provenance": [],
      "toc_visible": true
    },
    "kernelspec": {
      "display_name": "3.11.4",
      "language": "python",
      "name": "python3"
    },
    "language_info": {
      "codemirror_mode": {
        "name": "ipython",
        "version": 3
      },
      "file_extension": ".py",
      "mimetype": "text/x-python",
      "name": "python",
      "nbconvert_exporter": "python",
      "pygments_lexer": "ipython3",
      "version": "3.11.4"
    }
  },
  "nbformat": 4,
  "nbformat_minor": 0
}
