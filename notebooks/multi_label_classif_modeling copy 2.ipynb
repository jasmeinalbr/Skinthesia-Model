{
  "cells": [
    {
      "cell_type": "markdown",
      "metadata": {},
      "source": [
        "## Skinthesia Classification Model"
      ]
    },
    {
      "cell_type": "markdown",
      "metadata": {},
      "source": [
        "## Import Library"
      ]
    },
    {
      "cell_type": "code",
      "execution_count": 1,
      "metadata": {
        "id": "s7a7sh7qsO1Z"
      },
      "outputs": [],
      "source": [
        "import re\n",
        "import ast\n",
        "import pickle\n",
        "from collections import Counter\n",
        "\n",
        "import numpy as np\n",
        "import pandas as pd\n",
        "import matplotlib.pyplot as plt\n",
        "\n",
        "from sklearn.preprocessing import MultiLabelBinarizer\n",
        "from sklearn.model_selection import train_test_split\n",
        "from sklearn.utils import shuffle\n",
        "from sklearn.metrics import classification_report, accuracy_score, f1_score, hamming_loss, jaccard_score\n",
        "\n",
        "import tensorflow as tf\n",
        "from tensorflow.keras import backend as K\n",
        "from tensorflow.keras.models import Sequential, load_model\n",
        "from tensorflow.keras.layers import Input, Dense, Dropout, BatchNormalization\n",
        "from tensorflow.keras.callbacks import EarlyStopping, ReduceLROnPlateau"
      ]
    },
    {
      "cell_type": "markdown",
      "metadata": {
        "id": "gmItR1V6wyqS"
      },
      "source": [
        "## Load Data"
      ]
    },
    {
      "cell_type": "code",
      "execution_count": 2,
      "metadata": {
        "colab": {
          "base_uri": "https://localhost:8080/",
          "height": 504
        },
        "id": "jKGKXx-BPUqn",
        "outputId": "c3f0438b-6919-4f24-de49-79dfcbb3dda1"
      },
      "outputs": [
        {
          "data": {
            "application/vnd.microsoft.datawrangler.viewer.v0+json": {
              "columns": [
                {
                  "name": "index",
                  "rawType": "int64",
                  "type": "integer"
                },
                {
                  "name": "url",
                  "rawType": "object",
                  "type": "string"
                },
                {
                  "name": "image",
                  "rawType": "object",
                  "type": "string"
                },
                {
                  "name": "product_name",
                  "rawType": "object",
                  "type": "string"
                },
                {
                  "name": "brand",
                  "rawType": "object",
                  "type": "string"
                },
                {
                  "name": "category",
                  "rawType": "object",
                  "type": "string"
                },
                {
                  "name": "price",
                  "rawType": "int64",
                  "type": "integer"
                },
                {
                  "name": "rating",
                  "rawType": "float64",
                  "type": "float"
                },
                {
                  "name": "skin_type",
                  "rawType": "object",
                  "type": "string"
                },
                {
                  "name": "total_reviews",
                  "rawType": "int64",
                  "type": "integer"
                },
                {
                  "name": "skin_concern",
                  "rawType": "object",
                  "type": "string"
                },
                {
                  "name": "ingredients",
                  "rawType": "object",
                  "type": "string"
                },
                {
                  "name": "ingredient_category",
                  "rawType": "object",
                  "type": "string"
                },
                {
                  "name": "skin_goal",
                  "rawType": "object",
                  "type": "string"
                },
                {
                  "name": "age",
                  "rawType": "object",
                  "type": "string"
                },
                {
                  "name": "rating_star",
                  "rawType": "float64",
                  "type": "float"
                }
              ],
              "ref": "105af37e-0aa8-448e-bd59-7bda9accd13f",
              "rows": [
                [
                  "0",
                  "https://reviews.femaledaily.com/products/treatment/acne-treatment/verile/acne-gel-80",
                  "https://image.femaledaily.com/dyn/210/images/prod-pics/1469581283_lg.jpg",
                  "Acne Gel",
                  "Verile",
                  "Acne treatment",
                  "20000",
                  "3.7",
                  "['combination', 'oily']",
                  "81477",
                  "['acne', 'blackheads']",
                  "['niacinamide', 'licorice, niacinamide', 'niacinamide, salicylic acid', 'salicylic acid']",
                  "['acne', 'brightening']",
                  "['brightening', 'hydrating']",
                  "19 - 24",
                  "4.343434343434343"
                ],
                [
                  "1",
                  "https://reviews.femaledaily.com/products/treatment/acne-treatment/derma-angel/acne-patch-1-clearing",
                  "https://image.femaledaily.com/dyn/300/remastering-data/production/product/product-1716357203321-",
                  "Acne Patch",
                  "Derma Angel",
                  "Acne treatment",
                  "43000",
                  "4.1",
                  "['combination', 'oily']",
                  "131694",
                  "['sensitive', 'irritation']",
                  "['niacinamide', 'tea tree', 'salicylic acid']",
                  "['acne', 'brightening']",
                  "['hydrating', 'smoothing']",
                  "19 - 24",
                  "4.695035460992908"
                ],
                [
                  "2",
                  "https://reviews.femaledaily.com/products/cleanser/facial-wash/garnier/light-complete-white-speed-brightening-foam",
                  "https://image.femaledaily.com/dyn/210/images/prod-pics/product_1626929241_8991380700_800x800.jpg",
                  "Bright Complete Brightening Face Wash Foam",
                  "Garnier",
                  "Facial Wash",
                  "27000",
                  "3.2",
                  "['combination', 'normal']",
                  "127058",
                  "['acne', 'redness']",
                  "['salicylic acid, vitamin c', 'vitamin c', 'salicylic acid']",
                  "['acne', 'brightening']",
                  "['calming', 'fast-absorbing']",
                  "19 - 24",
                  "4.316831683168317"
                ],
                [
                  "3",
                  "https://reviews.femaledaily.com/products/treatment/acne-treatment/benzolac/benzolac-cl",
                  "https://image.femaledaily.com/dyn/210/images/prod-pics/product_1588050072_benzolac_c_800x800.jpg",
                  "CL",
                  "Benzolac",
                  "Acne treatment",
                  "32000",
                  "3.8",
                  "['combination', 'oily']",
                  "22718",
                  "['pores', 'blackheads']",
                  "['niacinamide', 'niacinamide, salicylic acid', 'salicylic acid']",
                  "['acne', 'brightening']",
                  "['pore-minimizing', 'brightening']",
                  "19 - 24",
                  "4.405405405405405"
                ],
                [
                  "4",
                  "https://reviews.femaledaily.com/products/treatment/acne-treatment/sariayu/acne-care-lotion",
                  "https://image.femaledaily.com/dyn/210/images/prod-pics/1469862841_lg.jpg",
                  "Acne Care Lotion",
                  "Sariayu",
                  "Acne treatment",
                  "48000",
                  "3.6",
                  "['combination', 'oily']",
                  "4998",
                  "['dryness', 'sensitive']",
                  "['bha', 'tea tree', 'retinol', 'centella asiatica']",
                  "['acne', 'calming']",
                  "['barrier-repair', 'calming']",
                  "25 - 29",
                  "4.264705882352941"
                ]
              ],
              "shape": {
                "columns": 15,
                "rows": 5
              }
            },
            "text/html": [
              "<div>\n",
              "<style scoped>\n",
              "    .dataframe tbody tr th:only-of-type {\n",
              "        vertical-align: middle;\n",
              "    }\n",
              "\n",
              "    .dataframe tbody tr th {\n",
              "        vertical-align: top;\n",
              "    }\n",
              "\n",
              "    .dataframe thead th {\n",
              "        text-align: right;\n",
              "    }\n",
              "</style>\n",
              "<table border=\"1\" class=\"dataframe\">\n",
              "  <thead>\n",
              "    <tr style=\"text-align: right;\">\n",
              "      <th></th>\n",
              "      <th>url</th>\n",
              "      <th>image</th>\n",
              "      <th>product_name</th>\n",
              "      <th>brand</th>\n",
              "      <th>category</th>\n",
              "      <th>price</th>\n",
              "      <th>rating</th>\n",
              "      <th>skin_type</th>\n",
              "      <th>total_reviews</th>\n",
              "      <th>skin_concern</th>\n",
              "      <th>ingredients</th>\n",
              "      <th>ingredient_category</th>\n",
              "      <th>skin_goal</th>\n",
              "      <th>age</th>\n",
              "      <th>rating_star</th>\n",
              "    </tr>\n",
              "  </thead>\n",
              "  <tbody>\n",
              "    <tr>\n",
              "      <th>0</th>\n",
              "      <td>https://reviews.femaledaily.com/products/treat...</td>\n",
              "      <td>https://image.femaledaily.com/dyn/210/images/p...</td>\n",
              "      <td>Acne Gel</td>\n",
              "      <td>Verile</td>\n",
              "      <td>Acne treatment</td>\n",
              "      <td>20000</td>\n",
              "      <td>3.7</td>\n",
              "      <td>['combination', 'oily']</td>\n",
              "      <td>81477</td>\n",
              "      <td>['acne', 'blackheads']</td>\n",
              "      <td>['niacinamide', 'licorice, niacinamide', 'niac...</td>\n",
              "      <td>['acne', 'brightening']</td>\n",
              "      <td>['brightening', 'hydrating']</td>\n",
              "      <td>19 - 24</td>\n",
              "      <td>4.343434</td>\n",
              "    </tr>\n",
              "    <tr>\n",
              "      <th>1</th>\n",
              "      <td>https://reviews.femaledaily.com/products/treat...</td>\n",
              "      <td>https://image.femaledaily.com/dyn/300/remaster...</td>\n",
              "      <td>Acne Patch</td>\n",
              "      <td>Derma Angel</td>\n",
              "      <td>Acne treatment</td>\n",
              "      <td>43000</td>\n",
              "      <td>4.1</td>\n",
              "      <td>['combination', 'oily']</td>\n",
              "      <td>131694</td>\n",
              "      <td>['sensitive', 'irritation']</td>\n",
              "      <td>['niacinamide', 'tea tree', 'salicylic acid']</td>\n",
              "      <td>['acne', 'brightening']</td>\n",
              "      <td>['hydrating', 'smoothing']</td>\n",
              "      <td>19 - 24</td>\n",
              "      <td>4.695035</td>\n",
              "    </tr>\n",
              "    <tr>\n",
              "      <th>2</th>\n",
              "      <td>https://reviews.femaledaily.com/products/clean...</td>\n",
              "      <td>https://image.femaledaily.com/dyn/210/images/p...</td>\n",
              "      <td>Bright Complete Brightening Face Wash Foam</td>\n",
              "      <td>Garnier</td>\n",
              "      <td>Facial Wash</td>\n",
              "      <td>27000</td>\n",
              "      <td>3.2</td>\n",
              "      <td>['combination', 'normal']</td>\n",
              "      <td>127058</td>\n",
              "      <td>['acne', 'redness']</td>\n",
              "      <td>['salicylic acid, vitamin c', 'vitamin c', 'sa...</td>\n",
              "      <td>['acne', 'brightening']</td>\n",
              "      <td>['calming', 'fast-absorbing']</td>\n",
              "      <td>19 - 24</td>\n",
              "      <td>4.316832</td>\n",
              "    </tr>\n",
              "    <tr>\n",
              "      <th>3</th>\n",
              "      <td>https://reviews.femaledaily.com/products/treat...</td>\n",
              "      <td>https://image.femaledaily.com/dyn/210/images/p...</td>\n",
              "      <td>CL</td>\n",
              "      <td>Benzolac</td>\n",
              "      <td>Acne treatment</td>\n",
              "      <td>32000</td>\n",
              "      <td>3.8</td>\n",
              "      <td>['combination', 'oily']</td>\n",
              "      <td>22718</td>\n",
              "      <td>['pores', 'blackheads']</td>\n",
              "      <td>['niacinamide', 'niacinamide, salicylic acid',...</td>\n",
              "      <td>['acne', 'brightening']</td>\n",
              "      <td>['pore-minimizing', 'brightening']</td>\n",
              "      <td>19 - 24</td>\n",
              "      <td>4.405405</td>\n",
              "    </tr>\n",
              "    <tr>\n",
              "      <th>4</th>\n",
              "      <td>https://reviews.femaledaily.com/products/treat...</td>\n",
              "      <td>https://image.femaledaily.com/dyn/210/images/p...</td>\n",
              "      <td>Acne Care Lotion</td>\n",
              "      <td>Sariayu</td>\n",
              "      <td>Acne treatment</td>\n",
              "      <td>48000</td>\n",
              "      <td>3.6</td>\n",
              "      <td>['combination', 'oily']</td>\n",
              "      <td>4998</td>\n",
              "      <td>['dryness', 'sensitive']</td>\n",
              "      <td>['bha', 'tea tree', 'retinol', 'centella asiat...</td>\n",
              "      <td>['acne', 'calming']</td>\n",
              "      <td>['barrier-repair', 'calming']</td>\n",
              "      <td>25 - 29</td>\n",
              "      <td>4.264706</td>\n",
              "    </tr>\n",
              "  </tbody>\n",
              "</table>\n",
              "</div>"
            ],
            "text/plain": [
              "                                                 url  \\\n",
              "0  https://reviews.femaledaily.com/products/treat...   \n",
              "1  https://reviews.femaledaily.com/products/treat...   \n",
              "2  https://reviews.femaledaily.com/products/clean...   \n",
              "3  https://reviews.femaledaily.com/products/treat...   \n",
              "4  https://reviews.femaledaily.com/products/treat...   \n",
              "\n",
              "                                               image  \\\n",
              "0  https://image.femaledaily.com/dyn/210/images/p...   \n",
              "1  https://image.femaledaily.com/dyn/300/remaster...   \n",
              "2  https://image.femaledaily.com/dyn/210/images/p...   \n",
              "3  https://image.femaledaily.com/dyn/210/images/p...   \n",
              "4  https://image.femaledaily.com/dyn/210/images/p...   \n",
              "\n",
              "                                 product_name        brand        category  \\\n",
              "0                                    Acne Gel       Verile  Acne treatment   \n",
              "1                                  Acne Patch  Derma Angel  Acne treatment   \n",
              "2  Bright Complete Brightening Face Wash Foam      Garnier     Facial Wash   \n",
              "3                                          CL     Benzolac  Acne treatment   \n",
              "4                            Acne Care Lotion      Sariayu  Acne treatment   \n",
              "\n",
              "   price  rating                  skin_type  total_reviews  \\\n",
              "0  20000     3.7    ['combination', 'oily']          81477   \n",
              "1  43000     4.1    ['combination', 'oily']         131694   \n",
              "2  27000     3.2  ['combination', 'normal']         127058   \n",
              "3  32000     3.8    ['combination', 'oily']          22718   \n",
              "4  48000     3.6    ['combination', 'oily']           4998   \n",
              "\n",
              "                  skin_concern  \\\n",
              "0       ['acne', 'blackheads']   \n",
              "1  ['sensitive', 'irritation']   \n",
              "2          ['acne', 'redness']   \n",
              "3      ['pores', 'blackheads']   \n",
              "4     ['dryness', 'sensitive']   \n",
              "\n",
              "                                         ingredients      ingredient_category  \\\n",
              "0  ['niacinamide', 'licorice, niacinamide', 'niac...  ['acne', 'brightening']   \n",
              "1      ['niacinamide', 'tea tree', 'salicylic acid']  ['acne', 'brightening']   \n",
              "2  ['salicylic acid, vitamin c', 'vitamin c', 'sa...  ['acne', 'brightening']   \n",
              "3  ['niacinamide', 'niacinamide, salicylic acid',...  ['acne', 'brightening']   \n",
              "4  ['bha', 'tea tree', 'retinol', 'centella asiat...      ['acne', 'calming']   \n",
              "\n",
              "                            skin_goal      age  rating_star  \n",
              "0        ['brightening', 'hydrating']  19 - 24     4.343434  \n",
              "1          ['hydrating', 'smoothing']  19 - 24     4.695035  \n",
              "2       ['calming', 'fast-absorbing']  19 - 24     4.316832  \n",
              "3  ['pore-minimizing', 'brightening']  19 - 24     4.405405  \n",
              "4       ['barrier-repair', 'calming']  25 - 29     4.264706  "
            ]
          },
          "execution_count": 2,
          "metadata": {},
          "output_type": "execute_result"
        }
      ],
      "source": [
        "# Load the CSV file\n",
        "df = pd.read_csv('../data/products_integrated_features.csv', encoding='ISO-8859-1')\n",
        "df.head()"
      ]
    },
    {
      "cell_type": "markdown",
      "metadata": {},
      "source": [
        "## Data Selection"
      ]
    },
    {
      "cell_type": "code",
      "execution_count": 3,
      "metadata": {
        "colab": {
          "base_uri": "https://localhost:8080/",
          "height": 293
        },
        "id": "mSFjsdNmtSp5",
        "outputId": "921a8af5-fc06-4e3b-da8c-69aca62bf37a"
      },
      "outputs": [
        {
          "data": {
            "application/vnd.microsoft.datawrangler.viewer.v0+json": {
              "columns": [
                {
                  "name": "index",
                  "rawType": "int64",
                  "type": "integer"
                },
                {
                  "name": "skin_type",
                  "rawType": "object",
                  "type": "string"
                },
                {
                  "name": "skin_concern",
                  "rawType": "object",
                  "type": "string"
                },
                {
                  "name": "skin_goal",
                  "rawType": "object",
                  "type": "string"
                },
                {
                  "name": "ingredients",
                  "rawType": "object",
                  "type": "string"
                },
                {
                  "name": "ingredient_category",
                  "rawType": "object",
                  "type": "string"
                }
              ],
              "ref": "6d6e9aad-0b4b-470c-be12-a9572210bea4",
              "rows": [
                [
                  "0",
                  "['combination', 'oily']",
                  "['acne', 'blackheads']",
                  "['brightening', 'hydrating']",
                  "['niacinamide', 'licorice, niacinamide', 'niacinamide, salicylic acid', 'salicylic acid']",
                  "['acne', 'brightening']"
                ],
                [
                  "1",
                  "['combination', 'oily']",
                  "['sensitive', 'irritation']",
                  "['hydrating', 'smoothing']",
                  "['niacinamide', 'tea tree', 'salicylic acid']",
                  "['acne', 'brightening']"
                ],
                [
                  "2",
                  "['combination', 'normal']",
                  "['acne', 'redness']",
                  "['calming', 'fast-absorbing']",
                  "['salicylic acid, vitamin c', 'vitamin c', 'salicylic acid']",
                  "['acne', 'brightening']"
                ],
                [
                  "3",
                  "['combination', 'oily']",
                  "['pores', 'blackheads']",
                  "['pore-minimizing', 'brightening']",
                  "['niacinamide', 'niacinamide, salicylic acid', 'salicylic acid']",
                  "['acne', 'brightening']"
                ],
                [
                  "4",
                  "['combination', 'oily']",
                  "['dryness', 'sensitive']",
                  "['barrier-repair', 'calming']",
                  "['bha', 'tea tree', 'retinol', 'centella asiatica']",
                  "['acne', 'calming']"
                ]
              ],
              "shape": {
                "columns": 5,
                "rows": 5
              }
            },
            "text/html": [
              "<div>\n",
              "<style scoped>\n",
              "    .dataframe tbody tr th:only-of-type {\n",
              "        vertical-align: middle;\n",
              "    }\n",
              "\n",
              "    .dataframe tbody tr th {\n",
              "        vertical-align: top;\n",
              "    }\n",
              "\n",
              "    .dataframe thead th {\n",
              "        text-align: right;\n",
              "    }\n",
              "</style>\n",
              "<table border=\"1\" class=\"dataframe\">\n",
              "  <thead>\n",
              "    <tr style=\"text-align: right;\">\n",
              "      <th></th>\n",
              "      <th>skin_type</th>\n",
              "      <th>skin_concern</th>\n",
              "      <th>skin_goal</th>\n",
              "      <th>ingredients</th>\n",
              "      <th>ingredient_category</th>\n",
              "    </tr>\n",
              "  </thead>\n",
              "  <tbody>\n",
              "    <tr>\n",
              "      <th>0</th>\n",
              "      <td>['combination', 'oily']</td>\n",
              "      <td>['acne', 'blackheads']</td>\n",
              "      <td>['brightening', 'hydrating']</td>\n",
              "      <td>['niacinamide', 'licorice, niacinamide', 'niac...</td>\n",
              "      <td>['acne', 'brightening']</td>\n",
              "    </tr>\n",
              "    <tr>\n",
              "      <th>1</th>\n",
              "      <td>['combination', 'oily']</td>\n",
              "      <td>['sensitive', 'irritation']</td>\n",
              "      <td>['hydrating', 'smoothing']</td>\n",
              "      <td>['niacinamide', 'tea tree', 'salicylic acid']</td>\n",
              "      <td>['acne', 'brightening']</td>\n",
              "    </tr>\n",
              "    <tr>\n",
              "      <th>2</th>\n",
              "      <td>['combination', 'normal']</td>\n",
              "      <td>['acne', 'redness']</td>\n",
              "      <td>['calming', 'fast-absorbing']</td>\n",
              "      <td>['salicylic acid, vitamin c', 'vitamin c', 'sa...</td>\n",
              "      <td>['acne', 'brightening']</td>\n",
              "    </tr>\n",
              "    <tr>\n",
              "      <th>3</th>\n",
              "      <td>['combination', 'oily']</td>\n",
              "      <td>['pores', 'blackheads']</td>\n",
              "      <td>['pore-minimizing', 'brightening']</td>\n",
              "      <td>['niacinamide', 'niacinamide, salicylic acid',...</td>\n",
              "      <td>['acne', 'brightening']</td>\n",
              "    </tr>\n",
              "    <tr>\n",
              "      <th>4</th>\n",
              "      <td>['combination', 'oily']</td>\n",
              "      <td>['dryness', 'sensitive']</td>\n",
              "      <td>['barrier-repair', 'calming']</td>\n",
              "      <td>['bha', 'tea tree', 'retinol', 'centella asiat...</td>\n",
              "      <td>['acne', 'calming']</td>\n",
              "    </tr>\n",
              "  </tbody>\n",
              "</table>\n",
              "</div>"
            ],
            "text/plain": [
              "                   skin_type                 skin_concern  \\\n",
              "0    ['combination', 'oily']       ['acne', 'blackheads']   \n",
              "1    ['combination', 'oily']  ['sensitive', 'irritation']   \n",
              "2  ['combination', 'normal']          ['acne', 'redness']   \n",
              "3    ['combination', 'oily']      ['pores', 'blackheads']   \n",
              "4    ['combination', 'oily']     ['dryness', 'sensitive']   \n",
              "\n",
              "                            skin_goal  \\\n",
              "0        ['brightening', 'hydrating']   \n",
              "1          ['hydrating', 'smoothing']   \n",
              "2       ['calming', 'fast-absorbing']   \n",
              "3  ['pore-minimizing', 'brightening']   \n",
              "4       ['barrier-repair', 'calming']   \n",
              "\n",
              "                                         ingredients      ingredient_category  \n",
              "0  ['niacinamide', 'licorice, niacinamide', 'niac...  ['acne', 'brightening']  \n",
              "1      ['niacinamide', 'tea tree', 'salicylic acid']  ['acne', 'brightening']  \n",
              "2  ['salicylic acid, vitamin c', 'vitamin c', 'sa...  ['acne', 'brightening']  \n",
              "3  ['niacinamide', 'niacinamide, salicylic acid',...  ['acne', 'brightening']  \n",
              "4  ['bha', 'tea tree', 'retinol', 'centella asiat...      ['acne', 'calming']  "
            ]
          },
          "execution_count": 3,
          "metadata": {},
          "output_type": "execute_result"
        }
      ],
      "source": [
        "# Mengambil kolom yang relevan\n",
        "df = df[['skin_type','skin_concern','skin_goal','ingredients', 'ingredient_category']]\n",
        "df.head()"
      ]
    },
    {
      "cell_type": "code",
      "execution_count": 4,
      "metadata": {
        "colab": {
          "base_uri": "https://localhost:8080/"
        },
        "id": "jZknzgUgsvoG",
        "outputId": "6621b488-78c7-4a02-fdb8-39a29671b6e9"
      },
      "outputs": [
        {
          "name": "stdout",
          "output_type": "stream",
          "text": [
            "<class 'pandas.core.frame.DataFrame'>\n",
            "RangeIndex: 908 entries, 0 to 907\n",
            "Data columns (total 5 columns):\n",
            " #   Column               Non-Null Count  Dtype \n",
            "---  ------               --------------  ----- \n",
            " 0   skin_type            908 non-null    object\n",
            " 1   skin_concern         908 non-null    object\n",
            " 2   skin_goal            908 non-null    object\n",
            " 3   ingredients          908 non-null    object\n",
            " 4   ingredient_category  885 non-null    object\n",
            "dtypes: object(5)\n",
            "memory usage: 35.6+ KB\n"
          ]
        }
      ],
      "source": [
        "# Information about the DataFrame\n",
        "df.info()"
      ]
    },
    {
      "cell_type": "markdown",
      "metadata": {},
      "source": [
        "## Data Cleaning & Parsing"
      ]
    },
    {
      "cell_type": "code",
      "execution_count": 5,
      "metadata": {
        "id": "ROS0DMmwuJca"
      },
      "outputs": [],
      "source": [
        "# Menggunakan ast untuk evaluasi literal\n",
        "# Fungsi flatten list\n",
        "def flatten_list(nested_lst):\n",
        "    flat = []\n",
        "    for item in nested_lst:\n",
        "        if isinstance(item, list):\n",
        "            flat.extend(flatten_list(item))\n",
        "        else:\n",
        "            flat.append(item)\n",
        "    return flat\n",
        "\n",
        "# Fungsi untuk parsing dan membersihkan data\n",
        "def parse_and_clean(cell):\n",
        "    # Cek kalau sudah list langsung pakai\n",
        "    if isinstance(cell, list):\n",
        "        lst = cell\n",
        "    # Kalau string, coba literal_eval ke list Python\n",
        "    elif isinstance(cell, str):\n",
        "        try:\n",
        "            lst = ast.literal_eval(cell)\n",
        "        except:\n",
        "            lst = [cell]\n",
        "    # Tangani nilai NaN\n",
        "    elif pd.isna(cell):\n",
        "        return []\n",
        "    else:\n",
        "        # Kalau bukan list/string/NaN, jadikan string dalam list\n",
        "        lst = [str(cell)]\n",
        "\n",
        "    # Flatten nested list\n",
        "    flat_list = flatten_list(lst)\n",
        "\n",
        "    # Split elemen dengan koma\n",
        "    split_list = []\n",
        "    for item in flat_list:\n",
        "        if isinstance(item, str):\n",
        "            parts = [part.strip() for part in item.split(',')]\n",
        "            split_list.extend(parts)\n",
        "        else:\n",
        "            split_list.append(str(item).strip())\n",
        "\n",
        "    # Normalisasi dan hapus duplikat\n",
        "    seen = set()\n",
        "    result = []\n",
        "    for item in split_list:\n",
        "        item_norm = re.sub(r'[\\[\\]\\'\\\"]', '', item.lower().strip())\n",
        "        if item_norm and item_norm not in seen:\n",
        "            seen.add(item_norm)\n",
        "            result.append(item_norm)\n",
        "\n",
        "    return result\n"
      ]
    },
    {
      "cell_type": "code",
      "execution_count": 6,
      "metadata": {
        "colab": {
          "base_uri": "https://localhost:8080/",
          "height": 293
        },
        "id": "PyZe8gCzmcqZ",
        "outputId": "2c143360-9451-428d-a24c-9fa6cac6f784"
      },
      "outputs": [
        {
          "data": {
            "application/vnd.microsoft.datawrangler.viewer.v0+json": {
              "columns": [
                {
                  "name": "index",
                  "rawType": "int64",
                  "type": "integer"
                },
                {
                  "name": "skin_type",
                  "rawType": "object",
                  "type": "unknown"
                },
                {
                  "name": "skin_concern",
                  "rawType": "object",
                  "type": "unknown"
                },
                {
                  "name": "skin_goal",
                  "rawType": "object",
                  "type": "unknown"
                },
                {
                  "name": "ingredients",
                  "rawType": "object",
                  "type": "unknown"
                },
                {
                  "name": "ingredient_category",
                  "rawType": "object",
                  "type": "unknown"
                }
              ],
              "ref": "42decdc2-a955-41d0-867e-bfad55c7d20f",
              "rows": [
                [
                  "0",
                  "['combination', 'oily']",
                  "['acne', 'blackheads']",
                  "['brightening', 'hydrating']",
                  "['niacinamide', 'licorice', 'salicylic acid']",
                  "['acne', 'brightening']"
                ],
                [
                  "1",
                  "['combination', 'oily']",
                  "['sensitive', 'irritation']",
                  "['hydrating', 'smoothing']",
                  "['niacinamide', 'tea tree', 'salicylic acid']",
                  "['acne', 'brightening']"
                ],
                [
                  "2",
                  "['combination', 'normal']",
                  "['acne', 'redness']",
                  "['calming', 'fast-absorbing']",
                  "['salicylic acid', 'vitamin c']",
                  "['acne', 'brightening']"
                ],
                [
                  "3",
                  "['combination', 'oily']",
                  "['pores', 'blackheads']",
                  "['pore-minimizing', 'brightening']",
                  "['niacinamide', 'salicylic acid']",
                  "['acne', 'brightening']"
                ],
                [
                  "4",
                  "['combination', 'oily']",
                  "['dryness', 'sensitive']",
                  "['barrier-repair', 'calming']",
                  "['bha', 'tea tree', 'retinol', 'centella asiatica']",
                  "['acne', 'calming']"
                ]
              ],
              "shape": {
                "columns": 5,
                "rows": 5
              }
            },
            "text/html": [
              "<div>\n",
              "<style scoped>\n",
              "    .dataframe tbody tr th:only-of-type {\n",
              "        vertical-align: middle;\n",
              "    }\n",
              "\n",
              "    .dataframe tbody tr th {\n",
              "        vertical-align: top;\n",
              "    }\n",
              "\n",
              "    .dataframe thead th {\n",
              "        text-align: right;\n",
              "    }\n",
              "</style>\n",
              "<table border=\"1\" class=\"dataframe\">\n",
              "  <thead>\n",
              "    <tr style=\"text-align: right;\">\n",
              "      <th></th>\n",
              "      <th>skin_type</th>\n",
              "      <th>skin_concern</th>\n",
              "      <th>skin_goal</th>\n",
              "      <th>ingredients</th>\n",
              "      <th>ingredient_category</th>\n",
              "    </tr>\n",
              "  </thead>\n",
              "  <tbody>\n",
              "    <tr>\n",
              "      <th>0</th>\n",
              "      <td>[combination, oily]</td>\n",
              "      <td>[acne, blackheads]</td>\n",
              "      <td>[brightening, hydrating]</td>\n",
              "      <td>[niacinamide, licorice, salicylic acid]</td>\n",
              "      <td>[acne, brightening]</td>\n",
              "    </tr>\n",
              "    <tr>\n",
              "      <th>1</th>\n",
              "      <td>[combination, oily]</td>\n",
              "      <td>[sensitive, irritation]</td>\n",
              "      <td>[hydrating, smoothing]</td>\n",
              "      <td>[niacinamide, tea tree, salicylic acid]</td>\n",
              "      <td>[acne, brightening]</td>\n",
              "    </tr>\n",
              "    <tr>\n",
              "      <th>2</th>\n",
              "      <td>[combination, normal]</td>\n",
              "      <td>[acne, redness]</td>\n",
              "      <td>[calming, fast-absorbing]</td>\n",
              "      <td>[salicylic acid, vitamin c]</td>\n",
              "      <td>[acne, brightening]</td>\n",
              "    </tr>\n",
              "    <tr>\n",
              "      <th>3</th>\n",
              "      <td>[combination, oily]</td>\n",
              "      <td>[pores, blackheads]</td>\n",
              "      <td>[pore-minimizing, brightening]</td>\n",
              "      <td>[niacinamide, salicylic acid]</td>\n",
              "      <td>[acne, brightening]</td>\n",
              "    </tr>\n",
              "    <tr>\n",
              "      <th>4</th>\n",
              "      <td>[combination, oily]</td>\n",
              "      <td>[dryness, sensitive]</td>\n",
              "      <td>[barrier-repair, calming]</td>\n",
              "      <td>[bha, tea tree, retinol, centella asiatica]</td>\n",
              "      <td>[acne, calming]</td>\n",
              "    </tr>\n",
              "  </tbody>\n",
              "</table>\n",
              "</div>"
            ],
            "text/plain": [
              "               skin_type             skin_concern  \\\n",
              "0    [combination, oily]       [acne, blackheads]   \n",
              "1    [combination, oily]  [sensitive, irritation]   \n",
              "2  [combination, normal]          [acne, redness]   \n",
              "3    [combination, oily]      [pores, blackheads]   \n",
              "4    [combination, oily]     [dryness, sensitive]   \n",
              "\n",
              "                        skin_goal  \\\n",
              "0        [brightening, hydrating]   \n",
              "1          [hydrating, smoothing]   \n",
              "2       [calming, fast-absorbing]   \n",
              "3  [pore-minimizing, brightening]   \n",
              "4       [barrier-repair, calming]   \n",
              "\n",
              "                                   ingredients  ingredient_category  \n",
              "0      [niacinamide, licorice, salicylic acid]  [acne, brightening]  \n",
              "1      [niacinamide, tea tree, salicylic acid]  [acne, brightening]  \n",
              "2                  [salicylic acid, vitamin c]  [acne, brightening]  \n",
              "3                [niacinamide, salicylic acid]  [acne, brightening]  \n",
              "4  [bha, tea tree, retinol, centella asiatica]      [acne, calming]  "
            ]
          },
          "execution_count": 6,
          "metadata": {},
          "output_type": "execute_result"
        }
      ],
      "source": [
        "# Apply the parsing and cleaning function to each column\n",
        "cols = df.columns\n",
        "for col in cols:\n",
        "    df[col] = df[col].apply(parse_and_clean)\n",
        "\n",
        "df.head()"
      ]
    },
    {
      "cell_type": "code",
      "execution_count": 7,
      "metadata": {
        "colab": {
          "base_uri": "https://localhost:8080/"
        },
        "id": "URI4XvrGv-Wa",
        "outputId": "39de67b2-f640-48ef-fb81-7d309ecbfeac"
      },
      "outputs": [
        {
          "name": "stdout",
          "output_type": "stream",
          "text": [
            "skin_type: 0 list kosong\n",
            "skin_concern: 0 list kosong\n",
            "skin_goal: 0 list kosong\n",
            "ingredients: 0 list kosong\n",
            "ingredient_category: 23 list kosong\n",
            "\n",
            "skin_type: 0 baris (0.00%) mengandung 'unknown'\n",
            "skin_concern: 0 baris (0.00%) mengandung 'unknown'\n",
            "skin_goal: 0 baris (0.00%) mengandung 'unknown'\n",
            "ingredients: 73 baris (8.04%) mengandung 'unknown'\n",
            "ingredient_category: 0 baris (0.00%) mengandung 'unknown'\n"
          ]
        }
      ],
      "source": [
        "# Cek berapa banyak list kosong di tiap kolom\n",
        "for col in df.columns:\n",
        "    empty_count = df[col].apply(lambda x: isinstance(x, list) and len(x) == 0).sum()\n",
        "    print(f\"{col}: {empty_count} list kosong\")\n",
        "print()\n",
        "\n",
        "# Cek jumlah unknown\n",
        "total = len(df)\n",
        "for col in cols:\n",
        "    count = df[col].apply(lambda x: 'unknown' in x).sum()\n",
        "    percent = count / total * 100\n",
        "    print(f\"{col}: {count} baris ({percent:.2f}%) mengandung 'unknown'\")"
      ]
    },
    {
      "cell_type": "code",
      "execution_count": 8,
      "metadata": {
        "colab": {
          "base_uri": "https://localhost:8080/",
          "height": 293
        },
        "id": "GbfqrjVLwTAT",
        "outputId": "7ba1ca05-4c00-4f06-9237-56f9ea739d8c"
      },
      "outputs": [
        {
          "data": {
            "application/vnd.microsoft.datawrangler.viewer.v0+json": {
              "columns": [
                {
                  "name": "index",
                  "rawType": "int64",
                  "type": "integer"
                },
                {
                  "name": "skin_type",
                  "rawType": "object",
                  "type": "unknown"
                },
                {
                  "name": "skin_concern",
                  "rawType": "object",
                  "type": "unknown"
                },
                {
                  "name": "skin_goal",
                  "rawType": "object",
                  "type": "unknown"
                },
                {
                  "name": "ingredients",
                  "rawType": "object",
                  "type": "unknown"
                },
                {
                  "name": "ingredient_category",
                  "rawType": "object",
                  "type": "unknown"
                }
              ],
              "ref": "154496e1-e23f-40ef-872f-9287c63e2db1",
              "rows": [
                [
                  "0",
                  "['combination', 'oily']",
                  "['acne', 'blackheads']",
                  "['brightening', 'hydrating']",
                  "['niacinamide', 'licorice', 'salicylic acid']",
                  "['acne', 'brightening']"
                ],
                [
                  "1",
                  "['combination', 'oily']",
                  "['sensitive', 'irritation']",
                  "['hydrating', 'smoothing']",
                  "['niacinamide', 'tea tree', 'salicylic acid']",
                  "['acne', 'brightening']"
                ],
                [
                  "2",
                  "['combination', 'normal']",
                  "['acne', 'redness']",
                  "['calming', 'fast-absorbing']",
                  "['salicylic acid', 'vitamin c']",
                  "['acne', 'brightening']"
                ],
                [
                  "3",
                  "['combination', 'oily']",
                  "['pores', 'blackheads']",
                  "['pore-minimizing', 'brightening']",
                  "['niacinamide', 'salicylic acid']",
                  "['acne', 'brightening']"
                ],
                [
                  "4",
                  "['combination', 'oily']",
                  "['dryness', 'sensitive']",
                  "['barrier-repair', 'calming']",
                  "['bha', 'tea tree', 'retinol', 'centella asiatica']",
                  "['acne', 'calming']"
                ]
              ],
              "shape": {
                "columns": 5,
                "rows": 5
              }
            },
            "text/html": [
              "<div>\n",
              "<style scoped>\n",
              "    .dataframe tbody tr th:only-of-type {\n",
              "        vertical-align: middle;\n",
              "    }\n",
              "\n",
              "    .dataframe tbody tr th {\n",
              "        vertical-align: top;\n",
              "    }\n",
              "\n",
              "    .dataframe thead th {\n",
              "        text-align: right;\n",
              "    }\n",
              "</style>\n",
              "<table border=\"1\" class=\"dataframe\">\n",
              "  <thead>\n",
              "    <tr style=\"text-align: right;\">\n",
              "      <th></th>\n",
              "      <th>skin_type</th>\n",
              "      <th>skin_concern</th>\n",
              "      <th>skin_goal</th>\n",
              "      <th>ingredients</th>\n",
              "      <th>ingredient_category</th>\n",
              "    </tr>\n",
              "  </thead>\n",
              "  <tbody>\n",
              "    <tr>\n",
              "      <th>0</th>\n",
              "      <td>[combination, oily]</td>\n",
              "      <td>[acne, blackheads]</td>\n",
              "      <td>[brightening, hydrating]</td>\n",
              "      <td>[niacinamide, licorice, salicylic acid]</td>\n",
              "      <td>[acne, brightening]</td>\n",
              "    </tr>\n",
              "    <tr>\n",
              "      <th>1</th>\n",
              "      <td>[combination, oily]</td>\n",
              "      <td>[sensitive, irritation]</td>\n",
              "      <td>[hydrating, smoothing]</td>\n",
              "      <td>[niacinamide, tea tree, salicylic acid]</td>\n",
              "      <td>[acne, brightening]</td>\n",
              "    </tr>\n",
              "    <tr>\n",
              "      <th>2</th>\n",
              "      <td>[combination, normal]</td>\n",
              "      <td>[acne, redness]</td>\n",
              "      <td>[calming, fast-absorbing]</td>\n",
              "      <td>[salicylic acid, vitamin c]</td>\n",
              "      <td>[acne, brightening]</td>\n",
              "    </tr>\n",
              "    <tr>\n",
              "      <th>3</th>\n",
              "      <td>[combination, oily]</td>\n",
              "      <td>[pores, blackheads]</td>\n",
              "      <td>[pore-minimizing, brightening]</td>\n",
              "      <td>[niacinamide, salicylic acid]</td>\n",
              "      <td>[acne, brightening]</td>\n",
              "    </tr>\n",
              "    <tr>\n",
              "      <th>4</th>\n",
              "      <td>[combination, oily]</td>\n",
              "      <td>[dryness, sensitive]</td>\n",
              "      <td>[barrier-repair, calming]</td>\n",
              "      <td>[bha, tea tree, retinol, centella asiatica]</td>\n",
              "      <td>[acne, calming]</td>\n",
              "    </tr>\n",
              "  </tbody>\n",
              "</table>\n",
              "</div>"
            ],
            "text/plain": [
              "               skin_type             skin_concern  \\\n",
              "0    [combination, oily]       [acne, blackheads]   \n",
              "1    [combination, oily]  [sensitive, irritation]   \n",
              "2  [combination, normal]          [acne, redness]   \n",
              "3    [combination, oily]      [pores, blackheads]   \n",
              "4    [combination, oily]     [dryness, sensitive]   \n",
              "\n",
              "                        skin_goal  \\\n",
              "0        [brightening, hydrating]   \n",
              "1          [hydrating, smoothing]   \n",
              "2       [calming, fast-absorbing]   \n",
              "3  [pore-minimizing, brightening]   \n",
              "4       [barrier-repair, calming]   \n",
              "\n",
              "                                   ingredients  ingredient_category  \n",
              "0      [niacinamide, licorice, salicylic acid]  [acne, brightening]  \n",
              "1      [niacinamide, tea tree, salicylic acid]  [acne, brightening]  \n",
              "2                  [salicylic acid, vitamin c]  [acne, brightening]  \n",
              "3                [niacinamide, salicylic acid]  [acne, brightening]  \n",
              "4  [bha, tea tree, retinol, centella asiatica]      [acne, calming]  "
            ]
          },
          "execution_count": 8,
          "metadata": {},
          "output_type": "execute_result"
        }
      ],
      "source": [
        "# Hapus baris yang hanya mengandung 'unknown' di kolom ingredients\n",
        "df_cleaned = df[df['ingredients'].apply(lambda x: x != ['unknown'])].reset_index(drop=True)\n",
        "\n",
        "# Hapus baris yang nan atau kosong di kolom ingredients category\n",
        "df_cleaned = df_cleaned[df_cleaned['ingredient_category'].apply(lambda x: isinstance(x, list) and len(x) > 0)].reset_index(drop=True)\n",
        "\n",
        "df_cleaned.head()"
      ]
    },
    {
      "cell_type": "markdown",
      "metadata": {},
      "source": [
        "## Visualisasi Data"
      ]
    },
    {
      "cell_type": "code",
      "execution_count": 9,
      "metadata": {},
      "outputs": [
        {
          "name": "stdout",
          "output_type": "stream",
          "text": [
            "Jumlah unik ingredient categories: 6\n",
            "Jumlah unik ingredients: 21\n",
            "Jumlah unik skin types: 4\n",
            "Jumlah unik skin concerns: 15\n",
            "Jumlah unik skin goals: 20\n"
          ]
        }
      ],
      "source": [
        "# Flatten semua list di kolom ingredients, ingredient_category, skin_type, skin_concern, dan skin_goal\n",
        "all_ingredients_category = [item for sublist in df_cleaned['ingredient_category'] for item in sublist]\n",
        "all_ingredients = [item for sublist in df_cleaned['ingredients'] for item in sublist]\n",
        "all_skin_types = [item for sublist in df_cleaned['skin_type'] for item in sublist]\n",
        "all_skin_concerns = [item for sublist in df_cleaned['skin_concern'] for item in sublist]\n",
        "all_skin_goals = [item for sublist in df_cleaned['skin_goal'] for item in sublist]\n",
        "\n",
        "# Hitung frekuensi kemunculan setiap ingredient category, ingredient, skin type, skin concern, dan skin goal\n",
        "ingredient_category_counts = Counter(all_ingredients_category)\n",
        "ingredient_counts = Counter(all_ingredients)\n",
        "skin_type_counts = Counter(all_skin_types)\n",
        "skin_concern_counts = Counter(all_skin_concerns)\n",
        "skin_goal_counts = Counter(all_skin_goals)\n",
        "\n",
        "# Tampilkan berapa banyak tiap kategori, ingredient, skin type, skin concern, dan skin goal yang unik\n",
        "print(f\"Jumlah unik ingredient categories: {len(ingredient_category_counts)}\")\n",
        "print(f\"Jumlah unik ingredients: {len(ingredient_counts)}\")\n",
        "print(f\"Jumlah unik skin types: {len(skin_type_counts)}\")\n",
        "print(f\"Jumlah unik skin concerns: {len(skin_concern_counts)}\")\n",
        "print(f\"Jumlah unik skin goals: {len(skin_goal_counts)}\")"
      ]
    },
    {
      "cell_type": "code",
      "execution_count": 10,
      "metadata": {},
      "outputs": [
        {
          "name": "stdout",
          "output_type": "stream",
          "text": [
            "\n",
            "Jumlah kemunculan tiap ingredient category:\n",
            "acne: 89 kali\n",
            "brightening: 454 kali\n",
            "calming: 120 kali\n",
            "exfoliant: 80 kali\n",
            "hydrating: 383 kali\n",
            "anti_aging: 59 kali\n"
          ]
        }
      ],
      "source": [
        "# Tampilkan jumlah kemunculan tiap kategori, ingredient, skin type, skin concern, dan skin goal\n",
        "print(\"\\nJumlah kemunculan tiap ingredient category:\")\n",
        "for ingredient_category, count in ingredient_category_counts.items():\n",
        "    print(f\"{ingredient_category}: {count} kali\")"
      ]
    },
    {
      "cell_type": "code",
      "execution_count": 11,
      "metadata": {},
      "outputs": [
        {
          "name": "stdout",
          "output_type": "stream",
          "text": [
            "\n",
            "Jumlah kemunculan tiap ingredient:\n",
            "niacinamide: 329 kali\n",
            "licorice: 69 kali\n",
            "salicylic acid: 175 kali\n",
            "tea tree: 126 kali\n",
            "vitamin c: 256 kali\n",
            "bha: 230 kali\n",
            "retinol: 222 kali\n",
            "centella asiatica: 164 kali\n",
            "green tea: 96 kali\n",
            "aha: 226 kali\n",
            "glycolic acid: 57 kali\n",
            "aloe vera: 142 kali\n",
            "glycerin: 309 kali\n",
            "lactic acid: 54 kali\n",
            "pha: 69 kali\n",
            "ceramide: 108 kali\n",
            "hyaluronic acid: 166 kali\n",
            "vitamin e: 49 kali\n",
            "arbutin: 69 kali\n",
            "zinc: 72 kali\n",
            "mandelic acid: 9 kali\n"
          ]
        }
      ],
      "source": [
        "\n",
        "print(\"\\nJumlah kemunculan tiap ingredient:\")\n",
        "for ingredient, count in ingredient_counts.items():\n",
        "    print(f\"{ingredient}: {count} kali\")\n"
      ]
    },
    {
      "cell_type": "code",
      "execution_count": 12,
      "metadata": {},
      "outputs": [
        {
          "name": "stdout",
          "output_type": "stream",
          "text": [
            "\n",
            "Jumlah kemunculan tiap skin type:\n",
            "combination: 820 kali\n",
            "oily: 595 kali\n",
            "normal: 105 kali\n",
            "dry: 147 kali\n"
          ]
        }
      ],
      "source": [
        "print(\"\\nJumlah kemunculan tiap skin type:\")\n",
        "for skin_type, count in skin_type_counts.items():\n",
        "    print(f\"{skin_type}: {count} kali\")\n"
      ]
    },
    {
      "cell_type": "code",
      "execution_count": 13,
      "metadata": {},
      "outputs": [
        {
          "name": "stdout",
          "output_type": "stream",
          "text": [
            "\n",
            "Jumlah kemunculan tiap skin concern:\n",
            "acne: 543 kali\n",
            "blackheads: 76 kali\n",
            "sensitive: 345 kali\n",
            "irritation: 123 kali\n",
            "redness: 68 kali\n",
            "pores: 93 kali\n",
            "dryness: 208 kali\n",
            "fine lines: 32 kali\n",
            "wrinkles: 21 kali\n",
            "oiliness: 58 kali\n",
            "hyperpigmentation: 7 kali\n",
            "tiny bumps: 18 kali\n",
            "dark spots: 20 kali\n",
            "whiteheads: 3 kali\n",
            "dull skin: 38 kali\n"
          ]
        }
      ],
      "source": [
        "print(\"\\nJumlah kemunculan tiap skin concern:\")\n",
        "for skin_concern, count in skin_concern_counts.items():\n",
        "    print(f\"{skin_concern}: {count} kali\")\n"
      ]
    },
    {
      "cell_type": "code",
      "execution_count": 14,
      "metadata": {},
      "outputs": [
        {
          "name": "stdout",
          "output_type": "stream",
          "text": [
            "\n",
            "Jumlah kemunculan tiap skin goal:\n",
            "brightening: 358 kali\n",
            "hydrating: 493 kali\n",
            "smoothing: 48 kali\n",
            "calming: 274 kali\n",
            "fast-absorbing: 104 kali\n",
            "pore-minimizing: 13 kali\n",
            "barrier-repair: 21 kali\n",
            "tone-evening: 23 kali\n",
            "glowing: 57 kali\n",
            "oil-control: 61 kali\n",
            "non-comedogenic: 5 kali\n",
            "nourishing: 24 kali\n",
            "scar-fading: 27 kali\n",
            "refreshing: 22 kali\n",
            "regenerating: 18 kali\n",
            "plumping: 26 kali\n",
            "healthy: 10 kali\n",
            "lightweight: 11 kali\n",
            "anti-aging: 27 kali\n",
            "firming: 7 kali\n"
          ]
        }
      ],
      "source": [
        "print(\"\\nJumlah kemunculan tiap skin goal:\")\n",
        "for skin_goal, count in skin_goal_counts.items():\n",
        "    print(f\"{skin_goal}: {count} kali\")"
      ]
    },
    {
      "cell_type": "code",
      "execution_count": 15,
      "metadata": {},
      "outputs": [
        {
          "data": {
            "image/png": "[encoded data removed]",
            "text/plain": [
              "<Figure size 1000x500 with 1 Axes>"
            ]
          },
          "metadata": {},
          "output_type": "display_data"
        },
        {
          "data": {
            "image/png": "[encoded data removed]",
            "text/plain": [
              "<Figure size 1000x500 with 1 Axes>"
            ]
          },
          "metadata": {},
          "output_type": "display_data"
        },
        {
          "data": {
            "image/png": "[encoded data removed]",
            "text/plain": [
              "<Figure size 1000x500 with 1 Axes>"
            ]
          },
          "metadata": {},
          "output_type": "display_data"
        },
        {
          "data": {
            "image/png": "[encoded data removed]",
            "text/plain": [
              "<Figure size 1000x500 with 1 Axes>"
            ]
          },
          "metadata": {},
          "output_type": "display_data"
        },
        {
          "data": {
            "image/png": "[encoded data removed]",
            "text/plain": [
              "<Figure size 1000x500 with 1 Axes>"
            ]
          },
          "metadata": {},
          "output_type": "display_data"
        }
      ],
      "source": [
        "# Visualisasi distribusi skin types, concerns, dan goals\n",
        "def plot_distribution(data, title, xlabel, ylabel):\n",
        "    counts = Counter(data)\n",
        "    # Urutkan berdasarkan nilai (frekuensi), descending\n",
        "    sorted_items = sorted(counts.items(), key=lambda x: x[1], reverse=True)\n",
        "    labels, values = zip(*sorted_items)\n",
        "    \n",
        "    plt.figure(figsize=(10, 5))\n",
        "    plt.bar(labels, values, color='skyblue')\n",
        "    plt.title(title)\n",
        "    plt.xlabel(xlabel)\n",
        "    plt.ylabel(ylabel)\n",
        "    plt.xticks(rotation=70)\n",
        "    plt.tight_layout()\n",
        "    plt.show()\n",
        "    \n",
        "plot_distribution(all_ingredients_category, 'Distribusi Ingredient Categories', 'Ingredient Category', 'Frekuensi')\n",
        "plot_distribution(all_ingredients, 'Distribusi Ingredients', 'Ingredient', 'Frekuensi')\n",
        "plot_distribution(all_skin_types, 'Distribusi Skin Types', 'Skin Type', 'Frekuensi')\n",
        "plot_distribution(all_skin_concerns, 'Distribusi Skin Concerns', 'Skin Concern', 'Frekuensi')\n",
        "plot_distribution(all_skin_goals, 'Distribusi Skin Goals', 'Skin Goal', 'Frekuensi')"
      ]
    },
    {
      "cell_type": "markdown",
      "metadata": {},
      "source": [
        "## Preprocesing Data & Encoding"
      ]
    },
    {
      "cell_type": "code",
      "execution_count": 16,
      "metadata": {},
      "outputs": [
        {
          "name": "stdout",
          "output_type": "stream",
          "text": [
            "Shape fitur input: (835, 39)\n",
            "Shape label (ingredients): (835, 6)\n"
          ]
        }
      ],
      "source": [
        "# Inisialisasi MultiLabelBinarizer untuk tiap fitur dan label\n",
        "mlb_skin_type = MultiLabelBinarizer()\n",
        "mlb_skin_concern = MultiLabelBinarizer()\n",
        "mlb_skin_goal = MultiLabelBinarizer()\n",
        "mlb_ingredients = MultiLabelBinarizer()\n",
        "mlb_ingredients_category = MultiLabelBinarizer()\n",
        "\n",
        "# Fit-transform fitur input dan label (ubah jadi multi-hot vectors)\n",
        "X_skin_type = mlb_skin_type.fit_transform(df_cleaned['skin_type'])\n",
        "X_skin_concern = mlb_skin_concern.fit_transform(df_cleaned['skin_concern'])\n",
        "X_skin_goal = mlb_skin_goal.fit_transform(df_cleaned['skin_goal'])\n",
        "# X_ingredients = mlb_ingredients.fit_transform(df_cleaned['ingredients'])\n",
        "Y_ingredient_category = mlb_ingredients_category.fit_transform(df_cleaned['ingredient_category'])\n",
        "\n",
        "# Gabungkan semua fitur input jadi satu matriks fitur\n",
        "# X = np.hstack([X_skin_type, X_skin_concern, X_skin_goal, X_ingredients])\n",
        "X = np.hstack([X_skin_type, X_skin_concern, X_skin_goal])\n",
        "\n",
        "print(\"Shape fitur input:\", X.shape)\n",
        "print(\"Shape label (ingredients):\", Y_ingredient_category.shape)"
      ]
    },
    {
      "cell_type": "markdown",
      "metadata": {},
      "source": [
        "## Data Splitting"
      ]
    },
    {
      "cell_type": "code",
      "execution_count": 17,
      "metadata": {},
      "outputs": [
        {
          "name": "stdout",
          "output_type": "stream",
          "text": [
            "Train set: (584, 39), (584, 6)\n",
            "Validation set: (125, 39), (125, 6)\n",
            "Test set: (126, 39), (126, 6)\n"
          ]
        }
      ],
      "source": [
        "# Split data jadi train/val/test (70:15:15)\n",
        "X_train, X_temp, y_train, y_temp = train_test_split(\n",
        "    X, Y_ingredient_category, test_size=0.3, random_state=42, shuffle=True)\n",
        "\n",
        "X_val, X_test, y_val, y_test = train_test_split(\n",
        "    X_temp, y_temp, test_size=0.5, random_state=42, shuffle=True)\n",
        "\n",
        "print(f\"Train set: {X_train.shape}, {y_train.shape}\")\n",
        "print(f\"Validation set: {X_val.shape}, {y_val.shape}\")\n",
        "print(f\"Test set: {X_test.shape}, {y_test.shape}\")"
      ]
    },
    {
      "cell_type": "markdown",
      "metadata": {},
      "source": [
        "## Data Augmentation"
      ]
    },
    {
      "cell_type": "code",
      "execution_count": 18,
      "metadata": {},
      "outputs": [
        {
          "name": "stdout",
          "output_type": "stream",
          "text": [
            "Jumlah tiap label di train set:\n",
            "  Ingredient Category  Count_in_train\n",
            "1          anti_aging              38\n",
            "4           exfoliant              61\n",
            "0                acne              64\n",
            "3             calming              77\n",
            "5           hydrating             269\n",
            "2         brightening             320\n"
          ]
        }
      ],
      "source": [
        "# Hitung jumlah sampel tiap label di y_train (multi-label)\n",
        "print(\"Jumlah tiap label di train set:\")\n",
        "label_counts = y_train.sum(axis=0)\n",
        "label_names = mlb_ingredients_category.classes_\n",
        "\n",
        "df_label_counts = pd.DataFrame({\n",
        "    'Ingredient Category': label_names,\n",
        "    'Count_in_train': label_counts\n",
        "}).sort_values(by='Count_in_train')\n",
        "\n",
        "print(df_label_counts)"
      ]
    },
    {
      "cell_type": "code",
      "execution_count": 19,
      "metadata": {},
      "outputs": [],
      "source": [
        "# Fungsi untuk menghitung jumlah label per sampel\n",
        "def count_labels_per_sample(y_matrix):\n",
        "    return y_matrix.sum(axis=1)\n",
        "\n",
        "# Hitung jumlah label per kategori\n",
        "label_counts = y_train.sum(axis=0).astype(int)\n",
        "target_per_label = 300  # target baru\n",
        "label_total = label_counts.copy()\n",
        "\n",
        "X_aug = []\n",
        "y_aug = []"
      ]
    },
    {
      "cell_type": "code",
      "execution_count": 20,
      "metadata": {},
      "outputs": [
        {
          "name": "stdout",
          "output_type": "stream",
          "text": [
            "Oversample label 'acne' → +236 data\n",
            "Oversample label 'anti_aging' → +258 data\n",
            "Oversample label 'calming' → +104 data\n",
            "Oversample label 'exfoliant' → +152 data\n",
            "\n",
            "✅ Setelah oversampling saja dengan max 2 label per data:\n",
            "X_final: (1334, 39)\n",
            "y_final: (1334, 6)\n",
            "\n",
            "Distribusi label baru:\n",
            "acne: 304\n",
            "anti_aging: 300\n",
            "brightening: 344\n",
            "calming: 300\n",
            "exfoliant: 300\n",
            "hydrating: 300\n"
          ]
        }
      ],
      "source": [
        "# --- Oversample untuk label minor saja (yang < target_per_label) ---\n",
        "for i, count in enumerate(label_counts):\n",
        "    if label_total[i] >= target_per_label:\n",
        "        continue  # label ini sudah cukup jumlahnya\n",
        "\n",
        "    gap = target_per_label - label_total[i]\n",
        "    idx = np.where(y_train[:, i] == 1)[0]\n",
        "    valid_idx = [j for j in idx if y_train[j].sum() <= 2]\n",
        "\n",
        "    added = 0\n",
        "    ptr = 0\n",
        "\n",
        "    while added < gap and ptr < len(valid_idx) * 100:\n",
        "        j = valid_idx[ptr % len(valid_idx)]\n",
        "        new_y = y_train[j].copy()\n",
        "        label_indices = np.where(new_y == 1)[0]\n",
        "\n",
        "        if (\n",
        "            all(label_total[k] < target_per_label for k in label_indices)\n",
        "            or (len(label_indices) == 1 and label_indices[0] == i)\n",
        "            or (label_total[i] < 0.5 * target_per_label)\n",
        "        ):\n",
        "            X_aug.append(X_train[j])\n",
        "            y_aug.append(new_y)\n",
        "            for k in label_indices:\n",
        "                label_total[k] += 1\n",
        "            added += 1\n",
        "        ptr += 1\n",
        "\n",
        "    print(f\"Oversample label '{label_names[i]}' → +{added} data\")\n",
        "\n",
        "# Gabungkan data original + data augmentasi\n",
        "X_all = np.vstack([X_train] + X_aug)\n",
        "y_all = np.vstack([y_train] + y_aug)\n",
        "\n",
        "# Validasi max 2 label per sample\n",
        "valid_mask = np.sum(y_all, axis=1) <= 2\n",
        "X_final = X_all[valid_mask]\n",
        "y_final = y_all[valid_mask]\n",
        "\n",
        "# Shuffle\n",
        "X_final, y_final = shuffle(X_final, y_final, random_state=42)\n",
        "\n",
        "# Print hasil akhir\n",
        "print(\"\\n✅ Setelah oversampling saja dengan max 2 label per data:\")\n",
        "print(\"X_final:\", X_final.shape)\n",
        "print(\"y_final:\", y_final.shape)\n",
        "\n",
        "new_counts = y_final.sum(axis=0)\n",
        "print(\"\\nDistribusi label baru:\")\n",
        "for i, count in enumerate(new_counts):\n",
        "    print(f\"{label_names[i]}: {int(count)}\")"
      ]
    },
    {
      "cell_type": "markdown",
      "metadata": {},
      "source": [
        "## Modelling Pipeline"
      ]
    },
    {
      "cell_type": "code",
      "execution_count": 21,
      "metadata": {},
      "outputs": [
        {
          "name": "stdout",
          "output_type": "stream",
          "text": [
            "Class weights: [0.98684211 1.         0.87209302 1.         1.         1.        ]\n"
          ]
        }
      ],
      "source": [
        "# Gunakan hasil augmentasi\n",
        "input_dim = X_final.shape[1]\n",
        "output_dim = y_final.shape[1]\n",
        "\n",
        "# Hitung class weights (inverse frequency) dari y_final\n",
        "freq = np.sum(y_final, axis=0)\n",
        "total = y_final.shape[0]\n",
        "class_weights_np = total / (freq + 1e-6)\n",
        "class_weights_np = class_weights_np / np.max(class_weights_np)  # Normalisasi\n",
        "class_weights_tf = tf.constant(class_weights_np, dtype=tf.float32)\n",
        "\n",
        "print(\"Class weights:\", class_weights_np)"
      ]
    },
    {
      "cell_type": "code",
      "execution_count": 22,
      "metadata": {},
      "outputs": [],
      "source": [
        "# Loss function dengan class weights\n",
        "def weighted_binary_crossentropy(y_true, y_pred):\n",
        "    bce = K.binary_crossentropy(y_true, y_pred)\n",
        "    weight_vector = y_true * class_weights_tf + (1 - y_true) * 1.0\n",
        "    weighted_bce = bce * weight_vector\n",
        "    return K.mean(weighted_bce)"
      ]
    },
    {
      "cell_type": "code",
      "execution_count": 23,
      "metadata": {},
      "outputs": [],
      "source": [
        "# Focal loss function\n",
        "def binary_focal_loss(gamma=2., alpha=0.25):\n",
        "    def focal_loss(y_true, y_pred):\n",
        "        epsilon = K.epsilon()\n",
        "        y_pred = K.clip(y_pred, epsilon, 1. - epsilon)\n",
        "\n",
        "        p_t = y_true * y_pred + (1 - y_true) * (1 - y_pred)\n",
        "        alpha_factor = y_true * alpha + (1 - y_true) * (1 - alpha)\n",
        "        modulating_factor = K.pow(1. - p_t, gamma)\n",
        "\n",
        "        return K.mean(-alpha_factor * modulating_factor * K.log(p_t))\n",
        "    return focal_loss"
      ]
    },
    {
      "cell_type": "code",
      "execution_count": 24,
      "metadata": {},
      "outputs": [
        {
          "data": {
            "text/html": [
              "<pre style=\"white-space:pre;overflow-x:auto;line-height:normal;font-family:Menlo,'DejaVu Sans Mono',consolas,'Courier New',monospace\"><span style=\"font-weight: bold\">Model: \"sequential\"</span>\n",
              "</pre>\n"
            ],
            "text/plain": [
              "\u001b[1mModel: \"sequential\"\u001b[0m\n"
            ]
          },
          "metadata": {},
          "output_type": "display_data"
        },
        {
          "data": {
            "text/html": [
              "<pre style=\"white-space:pre;overflow-x:auto;line-height:normal;font-family:Menlo,'DejaVu Sans Mono',consolas,'Courier New',monospace\">┏━━━━━━━━━━━━━━━━━━━━━━━━━━━━━━━━━┳━━━━━━━━━━━━━━━━━━━━━━━━┳━━━━━━━━━━━━━━━┓\n",
              "┃<span style=\"font-weight: bold\"> Layer (type)                    </span>┃<span style=\"font-weight: bold\"> Output Shape           </span>┃<span style=\"font-weight: bold\">       Param # </span>┃\n",
              "┡━━━━━━━━━━━━━━━━━━━━━━━━━━━━━━━━━╇━━━━━━━━━━━━━━━━━━━━━━━━╇━━━━━━━━━━━━━━━┩\n",
              "│ dense (<span style=\"color: #0087ff; text-decoration-color: #0087ff\">Dense</span>)                   │ (<span style=\"color: #00d7ff; text-decoration-color: #00d7ff\">None</span>, <span style=\"color: #00af00; text-decoration-color: #00af00\">256</span>)            │        <span style=\"color: #00af00; text-decoration-color: #00af00\">10,240</span> │\n",
              "├─────────────────────────────────┼────────────────────────┼───────────────┤\n",
              "│ batch_normalization             │ (<span style=\"color: #00d7ff; text-decoration-color: #00d7ff\">None</span>, <span style=\"color: #00af00; text-decoration-color: #00af00\">256</span>)            │         <span style=\"color: #00af00; text-decoration-color: #00af00\">1,024</span> │\n",
              "│ (<span style=\"color: #0087ff; text-decoration-color: #0087ff\">BatchNormalization</span>)            │                        │               │\n",
              "├─────────────────────────────────┼────────────────────────┼───────────────┤\n",
              "│ dropout (<span style=\"color: #0087ff; text-decoration-color: #0087ff\">Dropout</span>)               │ (<span style=\"color: #00d7ff; text-decoration-color: #00d7ff\">None</span>, <span style=\"color: #00af00; text-decoration-color: #00af00\">256</span>)            │             <span style=\"color: #00af00; text-decoration-color: #00af00\">0</span> │\n",
              "├─────────────────────────────────┼────────────────────────┼───────────────┤\n",
              "│ dense_1 (<span style=\"color: #0087ff; text-decoration-color: #0087ff\">Dense</span>)                 │ (<span style=\"color: #00d7ff; text-decoration-color: #00d7ff\">None</span>, <span style=\"color: #00af00; text-decoration-color: #00af00\">128</span>)            │        <span style=\"color: #00af00; text-decoration-color: #00af00\">32,896</span> │\n",
              "├─────────────────────────────────┼────────────────────────┼───────────────┤\n",
              "│ batch_normalization_1           │ (<span style=\"color: #00d7ff; text-decoration-color: #00d7ff\">None</span>, <span style=\"color: #00af00; text-decoration-color: #00af00\">128</span>)            │           <span style=\"color: #00af00; text-decoration-color: #00af00\">512</span> │\n",
              "│ (<span style=\"color: #0087ff; text-decoration-color: #0087ff\">BatchNormalization</span>)            │                        │               │\n",
              "├─────────────────────────────────┼────────────────────────┼───────────────┤\n",
              "│ dropout_1 (<span style=\"color: #0087ff; text-decoration-color: #0087ff\">Dropout</span>)             │ (<span style=\"color: #00d7ff; text-decoration-color: #00d7ff\">None</span>, <span style=\"color: #00af00; text-decoration-color: #00af00\">128</span>)            │             <span style=\"color: #00af00; text-decoration-color: #00af00\">0</span> │\n",
              "├─────────────────────────────────┼────────────────────────┼───────────────┤\n",
              "│ dense_2 (<span style=\"color: #0087ff; text-decoration-color: #0087ff\">Dense</span>)                 │ (<span style=\"color: #00d7ff; text-decoration-color: #00d7ff\">None</span>, <span style=\"color: #00af00; text-decoration-color: #00af00\">64</span>)             │         <span style=\"color: #00af00; text-decoration-color: #00af00\">8,256</span> │\n",
              "├─────────────────────────────────┼────────────────────────┼───────────────┤\n",
              "│ batch_normalization_2           │ (<span style=\"color: #00d7ff; text-decoration-color: #00d7ff\">None</span>, <span style=\"color: #00af00; text-decoration-color: #00af00\">64</span>)             │           <span style=\"color: #00af00; text-decoration-color: #00af00\">256</span> │\n",
              "│ (<span style=\"color: #0087ff; text-decoration-color: #0087ff\">BatchNormalization</span>)            │                        │               │\n",
              "├─────────────────────────────────┼────────────────────────┼───────────────┤\n",
              "│ dropout_2 (<span style=\"color: #0087ff; text-decoration-color: #0087ff\">Dropout</span>)             │ (<span style=\"color: #00d7ff; text-decoration-color: #00d7ff\">None</span>, <span style=\"color: #00af00; text-decoration-color: #00af00\">64</span>)             │             <span style=\"color: #00af00; text-decoration-color: #00af00\">0</span> │\n",
              "├─────────────────────────────────┼────────────────────────┼───────────────┤\n",
              "│ dense_3 (<span style=\"color: #0087ff; text-decoration-color: #0087ff\">Dense</span>)                 │ (<span style=\"color: #00d7ff; text-decoration-color: #00d7ff\">None</span>, <span style=\"color: #00af00; text-decoration-color: #00af00\">6</span>)              │           <span style=\"color: #00af00; text-decoration-color: #00af00\">390</span> │\n",
              "└─────────────────────────────────┴────────────────────────┴───────────────┘\n",
              "</pre>\n"
            ],
            "text/plain": [
              "┏━━━━━━━━━━━━━━━━━━━━━━━━━━━━━━━━━┳━━━━━━━━━━━━━━━━━━━━━━━━┳━━━━━━━━━━━━━━━┓\n",
              "┃\u001b[1m \u001b[0m\u001b[1mLayer (type)                   \u001b[0m\u001b[1m \u001b[0m┃\u001b[1m \u001b[0m\u001b[1mOutput Shape          \u001b[0m\u001b[1m \u001b[0m┃\u001b[1m \u001b[0m\u001b[1m      Param #\u001b[0m\u001b[1m \u001b[0m┃\n",
              "┡━━━━━━━━━━━━━━━━━━━━━━━━━━━━━━━━━╇━━━━━━━━━━━━━━━━━━━━━━━━╇━━━━━━━━━━━━━━━┩\n",
              "│ dense (\u001b[38;5;33mDense\u001b[0m)                   │ (\u001b[38;5;45mNone\u001b[0m, \u001b[38;5;34m256\u001b[0m)            │        \u001b[38;5;34m10,240\u001b[0m │\n",
              "├─────────────────────────────────┼────────────────────────┼───────────────┤\n",
              "│ batch_normalization             │ (\u001b[38;5;45mNone\u001b[0m, \u001b[38;5;34m256\u001b[0m)            │         \u001b[38;5;34m1,024\u001b[0m │\n",
              "│ (\u001b[38;5;33mBatchNormalization\u001b[0m)            │                        │               │\n",
              "├─────────────────────────────────┼────────────────────────┼───────────────┤\n",
              "│ dropout (\u001b[38;5;33mDropout\u001b[0m)               │ (\u001b[38;5;45mNone\u001b[0m, \u001b[38;5;34m256\u001b[0m)            │             \u001b[38;5;34m0\u001b[0m │\n",
              "├─────────────────────────────────┼────────────────────────┼───────────────┤\n",
              "│ dense_1 (\u001b[38;5;33mDense\u001b[0m)                 │ (\u001b[38;5;45mNone\u001b[0m, \u001b[38;5;34m128\u001b[0m)            │        \u001b[38;5;34m32,896\u001b[0m │\n",
              "├─────────────────────────────────┼────────────────────────┼───────────────┤\n",
              "│ batch_normalization_1           │ (\u001b[38;5;45mNone\u001b[0m, \u001b[38;5;34m128\u001b[0m)            │           \u001b[38;5;34m512\u001b[0m │\n",
              "│ (\u001b[38;5;33mBatchNormalization\u001b[0m)            │                        │               │\n",
              "├─────────────────────────────────┼────────────────────────┼───────────────┤\n",
              "│ dropout_1 (\u001b[38;5;33mDropout\u001b[0m)             │ (\u001b[38;5;45mNone\u001b[0m, \u001b[38;5;34m128\u001b[0m)            │             \u001b[38;5;34m0\u001b[0m │\n",
              "├─────────────────────────────────┼────────────────────────┼───────────────┤\n",
              "│ dense_2 (\u001b[38;5;33mDense\u001b[0m)                 │ (\u001b[38;5;45mNone\u001b[0m, \u001b[38;5;34m64\u001b[0m)             │         \u001b[38;5;34m8,256\u001b[0m │\n",
              "├─────────────────────────────────┼────────────────────────┼───────────────┤\n",
              "│ batch_normalization_2           │ (\u001b[38;5;45mNone\u001b[0m, \u001b[38;5;34m64\u001b[0m)             │           \u001b[38;5;34m256\u001b[0m │\n",
              "│ (\u001b[38;5;33mBatchNormalization\u001b[0m)            │                        │               │\n",
              "├─────────────────────────────────┼────────────────────────┼───────────────┤\n",
              "│ dropout_2 (\u001b[38;5;33mDropout\u001b[0m)             │ (\u001b[38;5;45mNone\u001b[0m, \u001b[38;5;34m64\u001b[0m)             │             \u001b[38;5;34m0\u001b[0m │\n",
              "├─────────────────────────────────┼────────────────────────┼───────────────┤\n",
              "│ dense_3 (\u001b[38;5;33mDense\u001b[0m)                 │ (\u001b[38;5;45mNone\u001b[0m, \u001b[38;5;34m6\u001b[0m)              │           \u001b[38;5;34m390\u001b[0m │\n",
              "└─────────────────────────────────┴────────────────────────┴───────────────┘\n"
            ]
          },
          "metadata": {},
          "output_type": "display_data"
        },
        {
          "data": {
            "text/html": [
              "<pre style=\"white-space:pre;overflow-x:auto;line-height:normal;font-family:Menlo,'DejaVu Sans Mono',consolas,'Courier New',monospace\"><span style=\"font-weight: bold\"> Total params: </span><span style=\"color: #00af00; text-decoration-color: #00af00\">53,574</span> (209.27 KB)\n",
              "</pre>\n"
            ],
            "text/plain": [
              "\u001b[1m Total params: \u001b[0m\u001b[38;5;34m53,574\u001b[0m (209.27 KB)\n"
            ]
          },
          "metadata": {},
          "output_type": "display_data"
        },
        {
          "data": {
            "text/html": [
              "<pre style=\"white-space:pre;overflow-x:auto;line-height:normal;font-family:Menlo,'DejaVu Sans Mono',consolas,'Courier New',monospace\"><span style=\"font-weight: bold\"> Trainable params: </span><span style=\"color: #00af00; text-decoration-color: #00af00\">52,678</span> (205.77 KB)\n",
              "</pre>\n"
            ],
            "text/plain": [
              "\u001b[1m Trainable params: \u001b[0m\u001b[38;5;34m52,678\u001b[0m (205.77 KB)\n"
            ]
          },
          "metadata": {},
          "output_type": "display_data"
        },
        {
          "data": {
            "text/html": [
              "<pre style=\"white-space:pre;overflow-x:auto;line-height:normal;font-family:Menlo,'DejaVu Sans Mono',consolas,'Courier New',monospace\"><span style=\"font-weight: bold\"> Non-trainable params: </span><span style=\"color: #00af00; text-decoration-color: #00af00\">896</span> (3.50 KB)\n",
              "</pre>\n"
            ],
            "text/plain": [
              "\u001b[1m Non-trainable params: \u001b[0m\u001b[38;5;34m896\u001b[0m (3.50 KB)\n"
            ]
          },
          "metadata": {},
          "output_type": "display_data"
        }
      ],
      "source": [
        "# Build model\n",
        "def build_model(input_dim, output_dim, lr=0.001, dropout_rate=0.4): \n",
        "    model = Sequential([\n",
        "        Input(shape=(input_dim,)),\n",
        "\n",
        "        Dense(256, activation='relu'),\n",
        "        BatchNormalization(),\n",
        "        Dropout(dropout_rate),\n",
        "\n",
        "        Dense(128, activation='relu'),\n",
        "        BatchNormalization(),\n",
        "        Dropout(dropout_rate),\n",
        "\n",
        "        Dense(64, activation='relu'),\n",
        "        BatchNormalization(),\n",
        "        Dropout(dropout_rate),\n",
        "\n",
        "        Dense(output_dim, activation='sigmoid')\n",
        "    ])\n",
        "    \n",
        "    optimizer = tf.keras.optimizers.Adam(learning_rate=lr)\n",
        "    model.compile(\n",
        "        loss=weighted_binary_crossentropy,\n",
        "        optimizer=optimizer,\n",
        "        metrics=[\n",
        "            tf.keras.metrics.BinaryAccuracy(name='binary_accuracy'),\n",
        "            tf.keras.metrics.AUC(name='auc'),\n",
        "            tf.keras.metrics.Precision(name='precision'),\n",
        "            tf.keras.metrics.Recall(name='recall')\n",
        "        ]\n",
        "    )\n",
        "    return model\n",
        "\n",
        "# Model summary\n",
        "model = build_model(input_dim, output_dim)\n",
        "model.summary()"
      ]
    },
    {
      "cell_type": "code",
      "execution_count": 25,
      "metadata": {},
      "outputs": [
        {
          "name": "stdout",
          "output_type": "stream",
          "text": [
            "\n",
            "==============================================\n",
            "Training model with lr=0.001, batch_size=32\n",
            "==============================================\n",
            "\n",
            "Epoch 1/50\n",
            "\u001b[1m34/34\u001b[0m \u001b[32m━━━━━━━━━━━━━━━━━━━━\u001b[0m\u001b[37m\u001b[0m \u001b[1m9s\u001b[0m 50ms/step - auc: 0.5370 - binary_accuracy: 0.5206 - loss: 0.8686 - precision: 0.2475 - recall: 0.5171 - val_auc: 0.5801 - val_binary_accuracy: 0.7447 - val_loss: 0.6389 - val_precision: 0.3254 - val_recall: 0.1123\n",
            "Epoch 2/50\n",
            "\u001b[1m34/34\u001b[0m \u001b[32m━━━━━━━━━━━━━━━━━━━━\u001b[0m\u001b[37m\u001b[0m \u001b[1m0s\u001b[0m 12ms/step - auc: 0.6460 - binary_accuracy: 0.6064 - loss: 0.7239 - precision: 0.3183 - recall: 0.6036 - val_auc: 0.5911 - val_binary_accuracy: 0.7797 - val_loss: 0.5956 - val_precision: 0.8000 - val_recall: 0.0438\n",
            "Epoch 3/50\n",
            "\u001b[1m34/34\u001b[0m \u001b[32m━━━━━━━━━━━━━━━━━━━━\u001b[0m\u001b[37m\u001b[0m \u001b[1m0s\u001b[0m 13ms/step - auc: 0.6933 - binary_accuracy: 0.6591 - loss: 0.6346 - precision: 0.3569 - recall: 0.6006 - val_auc: 0.6213 - val_binary_accuracy: 0.7747 - val_loss: 0.5621 - val_precision: 0.7000 - val_recall: 0.0192\n",
            "Epoch 4/50\n",
            "\u001b[1m34/34\u001b[0m \u001b[32m━━━━━━━━━━━━━━━━━━━━\u001b[0m\u001b[37m\u001b[0m \u001b[1m0s\u001b[0m 11ms/step - auc: 0.7150 - binary_accuracy: 0.6949 - loss: 0.5856 - precision: 0.3901 - recall: 0.5866 - val_auc: 0.6472 - val_binary_accuracy: 0.7715 - val_loss: 0.5373 - val_precision: 0.4000 - val_recall: 0.0055\n",
            "Epoch 5/50\n",
            "\u001b[1m34/34\u001b[0m \u001b[32m━━━━━━━━━━━━━━━━━━━━\u001b[0m\u001b[37m\u001b[0m \u001b[1m0s\u001b[0m 13ms/step - auc: 0.7417 - binary_accuracy: 0.7275 - loss: 0.5446 - precision: 0.4320 - recall: 0.5569 - val_auc: 0.6741 - val_binary_accuracy: 0.7734 - val_loss: 0.5174 - val_precision: 1.0000 - val_recall: 0.0055\n",
            "Epoch 6/50\n",
            "\u001b[1m34/34\u001b[0m \u001b[32m━━━━━━━━━━━━━━━━━━━━\u001b[0m\u001b[37m\u001b[0m \u001b[1m0s\u001b[0m 12ms/step - auc: 0.7760 - binary_accuracy: 0.7667 - loss: 0.4932 - precision: 0.4963 - recall: 0.5675 - val_auc: 0.7032 - val_binary_accuracy: 0.7740 - val_loss: 0.4990 - val_precision: 1.0000 - val_recall: 0.0082\n",
            "Epoch 7/50\n",
            "\u001b[1m34/34\u001b[0m \u001b[32m━━━━━━━━━━━━━━━━━━━━\u001b[0m\u001b[37m\u001b[0m \u001b[1m0s\u001b[0m 13ms/step - auc: 0.7695 - binary_accuracy: 0.7719 - loss: 0.4815 - precision: 0.5123 - recall: 0.5159 - val_auc: 0.7198 - val_binary_accuracy: 0.7747 - val_loss: 0.4880 - val_precision: 1.0000 - val_recall: 0.0110\n",
            "Epoch 8/50\n",
            "\u001b[1m34/34\u001b[0m \u001b[32m━━━━━━━━━━━━━━━━━━━━\u001b[0m\u001b[37m\u001b[0m \u001b[1m0s\u001b[0m 12ms/step - auc: 0.7795 - binary_accuracy: 0.7801 - loss: 0.4603 - precision: 0.5224 - recall: 0.4677 - val_auc: 0.7651 - val_binary_accuracy: 0.7772 - val_loss: 0.4703 - val_precision: 0.7857 - val_recall: 0.0301\n",
            "Epoch 9/50\n",
            "\u001b[1m34/34\u001b[0m \u001b[32m━━━━━━━━━━━━━━━━━━━━\u001b[0m\u001b[37m\u001b[0m \u001b[1m1s\u001b[0m 14ms/step - auc: 0.7958 - binary_accuracy: 0.7967 - loss: 0.4394 - precision: 0.5688 - recall: 0.4838 - val_auc: 0.8015 - val_binary_accuracy: 0.7803 - val_loss: 0.4534 - val_precision: 0.8421 - val_recall: 0.0438\n",
            "Epoch 10/50\n",
            "\u001b[1m34/34\u001b[0m \u001b[32m━━━━━━━━━━━━━━━━━━━━\u001b[0m\u001b[37m\u001b[0m \u001b[1m1s\u001b[0m 13ms/step - auc: 0.8047 - binary_accuracy: 0.8088 - loss: 0.4266 - precision: 0.6241 - recall: 0.4633 - val_auc: 0.8349 - val_binary_accuracy: 0.7840 - val_loss: 0.4341 - val_precision: 0.7879 - val_recall: 0.0712\n",
            "Epoch 11/50\n",
            "\u001b[1m34/34\u001b[0m \u001b[32m━━━━━━━━━━━━━━━━━━━━\u001b[0m\u001b[37m\u001b[0m \u001b[1m0s\u001b[0m 13ms/step - auc: 0.8200 - binary_accuracy: 0.8140 - loss: 0.4069 - precision: 0.6309 - recall: 0.4793 - val_auc: 0.8567 - val_binary_accuracy: 0.7878 - val_loss: 0.4175 - val_precision: 0.7907 - val_recall: 0.0932\n",
            "Epoch 12/50\n",
            "\u001b[1m34/34\u001b[0m \u001b[32m━━━━━━━━━━━━━━━━━━━━\u001b[0m\u001b[37m\u001b[0m \u001b[1m0s\u001b[0m 12ms/step - auc: 0.8334 - binary_accuracy: 0.8240 - loss: 0.3969 - precision: 0.6896 - recall: 0.4590 - val_auc: 0.8705 - val_binary_accuracy: 0.8027 - val_loss: 0.3996 - val_precision: 0.8451 - val_recall: 0.1644\n",
            "Epoch 13/50\n",
            "\u001b[1m34/34\u001b[0m \u001b[32m━━━━━━━━━━━━━━━━━━━━\u001b[0m\u001b[37m\u001b[0m \u001b[1m0s\u001b[0m 12ms/step - auc: 0.8334 - binary_accuracy: 0.8266 - loss: 0.3898 - precision: 0.6831 - recall: 0.4676 - val_auc: 0.8809 - val_binary_accuracy: 0.8290 - val_loss: 0.3800 - val_precision: 0.8957 - val_recall: 0.2822\n",
            "Epoch 14/50\n",
            "\u001b[1m34/34\u001b[0m \u001b[32m━━━━━━━━━━━━━━━━━━━━\u001b[0m\u001b[37m\u001b[0m \u001b[1m0s\u001b[0m 12ms/step - auc: 0.8487 - binary_accuracy: 0.8326 - loss: 0.3743 - precision: 0.7054 - recall: 0.4887 - val_auc: 0.8865 - val_binary_accuracy: 0.8433 - val_loss: 0.3624 - val_precision: 0.8608 - val_recall: 0.3726\n",
            "Epoch 15/50\n",
            "\u001b[1m34/34\u001b[0m \u001b[32m━━━━━━━━━━━━━━━━━━━━\u001b[0m\u001b[37m\u001b[0m \u001b[1m0s\u001b[0m 13ms/step - auc: 0.8625 - binary_accuracy: 0.8403 - loss: 0.3621 - precision: 0.7023 - recall: 0.5337 - val_auc: 0.8933 - val_binary_accuracy: 0.8483 - val_loss: 0.3497 - val_precision: 0.8588 - val_recall: 0.4000\n",
            "Epoch 16/50\n",
            "\u001b[1m34/34\u001b[0m \u001b[32m━━━━━━━━━━━━━━━━━━━━\u001b[0m\u001b[37m\u001b[0m \u001b[1m1s\u001b[0m 14ms/step - auc: 0.8665 - binary_accuracy: 0.8331 - loss: 0.3592 - precision: 0.6938 - recall: 0.5013 - val_auc: 0.8982 - val_binary_accuracy: 0.8502 - val_loss: 0.3392 - val_precision: 0.8342 - val_recall: 0.4274\n",
            "Epoch 17/50\n",
            "\u001b[1m34/34\u001b[0m \u001b[32m━━━━━━━━━━━━━━━━━━━━\u001b[0m\u001b[37m\u001b[0m \u001b[1m1s\u001b[0m 14ms/step - auc: 0.8723 - binary_accuracy: 0.8436 - loss: 0.3505 - precision: 0.7143 - recall: 0.5259 - val_auc: 0.8978 - val_binary_accuracy: 0.8589 - val_loss: 0.3345 - val_precision: 0.8424 - val_recall: 0.4685\n",
            "Epoch 18/50\n",
            "\u001b[1m34/34\u001b[0m \u001b[32m━━━━━━━━━━━━━━━━━━━━\u001b[0m\u001b[37m\u001b[0m \u001b[1m0s\u001b[0m 12ms/step - auc: 0.8773 - binary_accuracy: 0.8489 - loss: 0.3458 - precision: 0.7304 - recall: 0.5450 - val_auc: 0.9061 - val_binary_accuracy: 0.8614 - val_loss: 0.3210 - val_precision: 0.8265 - val_recall: 0.4959\n",
            "Epoch 19/50\n",
            "\u001b[1m34/34\u001b[0m \u001b[32m━━━━━━━━━━━━━━━━━━━━\u001b[0m\u001b[37m\u001b[0m \u001b[1m0s\u001b[0m 12ms/step - auc: 0.8802 - binary_accuracy: 0.8501 - loss: 0.3412 - precision: 0.7559 - recall: 0.5390 - val_auc: 0.9022 - val_binary_accuracy: 0.8589 - val_loss: 0.3208 - val_precision: 0.7932 - val_recall: 0.5151\n",
            "Epoch 20/50\n",
            "\u001b[1m34/34\u001b[0m \u001b[32m━━━━━━━━━━━━━━━━━━━━\u001b[0m\u001b[37m\u001b[0m \u001b[1m0s\u001b[0m 11ms/step - auc: 0.8899 - binary_accuracy: 0.8550 - loss: 0.3292 - precision: 0.7475 - recall: 0.5602 - val_auc: 0.9029 - val_binary_accuracy: 0.8658 - val_loss: 0.3165 - val_precision: 0.8000 - val_recall: 0.5479\n",
            "Epoch 21/50\n",
            "\u001b[1m34/34\u001b[0m \u001b[32m━━━━━━━━━━━━━━━━━━━━\u001b[0m\u001b[37m\u001b[0m \u001b[1m0s\u001b[0m 11ms/step - auc: 0.8892 - binary_accuracy: 0.8508 - loss: 0.3321 - precision: 0.7459 - recall: 0.5505 - val_auc: 0.9035 - val_binary_accuracy: 0.8658 - val_loss: 0.3137 - val_precision: 0.7717 - val_recall: 0.5836\n",
            "Epoch 22/50\n",
            "\u001b[1m34/34\u001b[0m \u001b[32m━━━━━━━━━━━━━━━━━━━━\u001b[0m\u001b[37m\u001b[0m \u001b[1m0s\u001b[0m 11ms/step - auc: 0.8971 - binary_accuracy: 0.8560 - loss: 0.3250 - precision: 0.7574 - recall: 0.5710 - val_auc: 0.9033 - val_binary_accuracy: 0.8695 - val_loss: 0.3090 - val_precision: 0.7847 - val_recall: 0.5890\n",
            "Epoch 23/50\n",
            "\u001b[1m34/34\u001b[0m \u001b[32m━━━━━━━━━━━━━━━━━━━━\u001b[0m\u001b[37m\u001b[0m \u001b[1m0s\u001b[0m 12ms/step - auc: 0.8910 - binary_accuracy: 0.8583 - loss: 0.3245 - precision: 0.7541 - recall: 0.5742 - val_auc: 0.9076 - val_binary_accuracy: 0.8670 - val_loss: 0.3048 - val_precision: 0.7836 - val_recall: 0.5753\n",
            "Epoch 24/50\n",
            "\u001b[1m34/34\u001b[0m \u001b[32m━━━━━━━━━━━━━━━━━━━━\u001b[0m\u001b[37m\u001b[0m \u001b[1m0s\u001b[0m 12ms/step - auc: 0.9007 - binary_accuracy: 0.8562 - loss: 0.3164 - precision: 0.7406 - recall: 0.5854 - val_auc: 0.9062 - val_binary_accuracy: 0.8702 - val_loss: 0.3020 - val_precision: 0.7875 - val_recall: 0.5890\n",
            "Epoch 25/50\n",
            "\u001b[1m34/34\u001b[0m \u001b[32m━━━━━━━━━━━━━━━━━━━━\u001b[0m\u001b[37m\u001b[0m \u001b[1m0s\u001b[0m 11ms/step - auc: 0.9038 - binary_accuracy: 0.8686 - loss: 0.3103 - precision: 0.7871 - recall: 0.5938 - val_auc: 0.9035 - val_binary_accuracy: 0.8670 - val_loss: 0.3056 - val_precision: 0.7695 - val_recall: 0.5945\n",
            "Epoch 26/50\n",
            "\u001b[1m34/34\u001b[0m \u001b[32m━━━━━━━━━━━━━━━━━━━━\u001b[0m\u001b[37m\u001b[0m \u001b[1m0s\u001b[0m 12ms/step - auc: 0.9114 - binary_accuracy: 0.8740 - loss: 0.2976 - precision: 0.7915 - recall: 0.6097 - val_auc: 0.9094 - val_binary_accuracy: 0.8708 - val_loss: 0.2982 - val_precision: 0.7862 - val_recall: 0.5945\n",
            "Epoch 27/50\n",
            "\u001b[1m34/34\u001b[0m \u001b[32m━━━━━━━━━━━━━━━━━━━━\u001b[0m\u001b[37m\u001b[0m \u001b[1m0s\u001b[0m 11ms/step - auc: 0.9139 - binary_accuracy: 0.8617 - loss: 0.2969 - precision: 0.7549 - recall: 0.5907 - val_auc: 0.9104 - val_binary_accuracy: 0.8658 - val_loss: 0.2965 - val_precision: 0.7698 - val_recall: 0.5863\n",
            "Epoch 28/50\n",
            "\u001b[1m34/34\u001b[0m \u001b[32m━━━━━━━━━━━━━━━━━━━━\u001b[0m\u001b[37m\u001b[0m \u001b[1m0s\u001b[0m 13ms/step - auc: 0.9049 - binary_accuracy: 0.8631 - loss: 0.3115 - precision: 0.7579 - recall: 0.6057 - val_auc: 0.9121 - val_binary_accuracy: 0.8664 - val_loss: 0.2952 - val_precision: 0.7726 - val_recall: 0.5863\n",
            "Epoch 29/50\n",
            "\u001b[1m34/34\u001b[0m \u001b[32m━━━━━━━━━━━━━━━━━━━━\u001b[0m\u001b[37m\u001b[0m \u001b[1m0s\u001b[0m 12ms/step - auc: 0.9191 - binary_accuracy: 0.8718 - loss: 0.2888 - precision: 0.7780 - recall: 0.6186 - val_auc: 0.9133 - val_binary_accuracy: 0.8733 - val_loss: 0.2943 - val_precision: 0.7852 - val_recall: 0.6110\n",
            "Epoch 30/50\n",
            "\u001b[1m34/34\u001b[0m \u001b[32m━━━━━━━━━━━━━━━━━━━━\u001b[0m\u001b[37m\u001b[0m \u001b[1m0s\u001b[0m 13ms/step - auc: 0.9090 - binary_accuracy: 0.8695 - loss: 0.3036 - precision: 0.7733 - recall: 0.6142 - val_auc: 0.9126 - val_binary_accuracy: 0.8683 - val_loss: 0.2953 - val_precision: 0.7619 - val_recall: 0.6137\n",
            "Epoch 31/50\n",
            "\u001b[1m34/34\u001b[0m \u001b[32m━━━━━━━━━━━━━━━━━━━━\u001b[0m\u001b[37m\u001b[0m \u001b[1m0s\u001b[0m 12ms/step - auc: 0.9068 - binary_accuracy: 0.8659 - loss: 0.3072 - precision: 0.7648 - recall: 0.6080 - val_auc: 0.9133 - val_binary_accuracy: 0.8770 - val_loss: 0.2936 - val_precision: 0.7857 - val_recall: 0.6329\n",
            "Epoch 32/50\n",
            "\u001b[1m34/34\u001b[0m \u001b[32m━━━━━━━━━━━━━━━━━━━━\u001b[0m\u001b[37m\u001b[0m \u001b[1m0s\u001b[0m 12ms/step - auc: 0.9121 - binary_accuracy: 0.8645 - loss: 0.2986 - precision: 0.7617 - recall: 0.5917 - val_auc: 0.9113 - val_binary_accuracy: 0.8677 - val_loss: 0.2963 - val_precision: 0.7398 - val_recall: 0.6466\n",
            "Epoch 33/50\n",
            "\u001b[1m34/34\u001b[0m \u001b[32m━━━━━━━━━━━━━━━━━━━━\u001b[0m\u001b[37m\u001b[0m \u001b[1m0s\u001b[0m 12ms/step - auc: 0.9182 - binary_accuracy: 0.8744 - loss: 0.2882 - precision: 0.7889 - recall: 0.6355 - val_auc: 0.9136 - val_binary_accuracy: 0.8770 - val_loss: 0.2959 - val_precision: 0.8043 - val_recall: 0.6082\n",
            "Epoch 34/50\n",
            "\u001b[1m34/34\u001b[0m \u001b[32m━━━━━━━━━━━━━━━━━━━━\u001b[0m\u001b[37m\u001b[0m \u001b[1m0s\u001b[0m 12ms/step - auc: 0.9260 - binary_accuracy: 0.8871 - loss: 0.2714 - precision: 0.8102 - recall: 0.6594 - val_auc: 0.9139 - val_binary_accuracy: 0.8752 - val_loss: 0.2944 - val_precision: 0.7875 - val_recall: 0.6192\n",
            "Epoch 35/50\n",
            "\u001b[1m34/34\u001b[0m \u001b[32m━━━━━━━━━━━━━━━━━━━━\u001b[0m\u001b[37m\u001b[0m \u001b[1m0s\u001b[0m 11ms/step - auc: 0.9242 - binary_accuracy: 0.8821 - loss: 0.2816 - precision: 0.8093 - recall: 0.6411 - val_auc: 0.9184 - val_binary_accuracy: 0.8783 - val_loss: 0.2850 - val_precision: 0.8058 - val_recall: 0.6137\n",
            "Epoch 36/50\n",
            "\u001b[1m34/34\u001b[0m \u001b[32m━━━━━━━━━━━━━━━━━━━━\u001b[0m\u001b[37m\u001b[0m \u001b[1m0s\u001b[0m 12ms/step - auc: 0.9220 - binary_accuracy: 0.8794 - loss: 0.2830 - precision: 0.7855 - recall: 0.6530 - val_auc: 0.9194 - val_binary_accuracy: 0.8801 - val_loss: 0.2842 - val_precision: 0.8014 - val_recall: 0.6301\n",
            "Epoch 37/50\n",
            "\u001b[1m34/34\u001b[0m \u001b[32m━━━━━━━━━━━━━━━━━━━━\u001b[0m\u001b[37m\u001b[0m \u001b[1m0s\u001b[0m 11ms/step - auc: 0.9206 - binary_accuracy: 0.8754 - loss: 0.2860 - precision: 0.7966 - recall: 0.6374 - val_auc: 0.9164 - val_binary_accuracy: 0.8783 - val_loss: 0.2890 - val_precision: 0.7872 - val_recall: 0.6384\n",
            "Epoch 38/50\n",
            "\u001b[1m34/34\u001b[0m \u001b[32m━━━━━━━━━━━━━━━━━━━━\u001b[0m\u001b[37m\u001b[0m \u001b[1m0s\u001b[0m 11ms/step - auc: 0.9192 - binary_accuracy: 0.8782 - loss: 0.2854 - precision: 0.7938 - recall: 0.6411 - val_auc: 0.9161 - val_binary_accuracy: 0.8764 - val_loss: 0.2897 - val_precision: 0.7972 - val_recall: 0.6137\n",
            "Epoch 39/50\n",
            "\u001b[1m34/34\u001b[0m \u001b[32m━━━━━━━━━━━━━━━━━━━━\u001b[0m\u001b[37m\u001b[0m \u001b[1m1s\u001b[0m 13ms/step - auc: 0.9326 - binary_accuracy: 0.8820 - loss: 0.2628 - precision: 0.7965 - recall: 0.6540 - val_auc: 0.9142 - val_binary_accuracy: 0.8752 - val_loss: 0.2938 - val_precision: 0.7653 - val_recall: 0.6521\n",
            "Epoch 40/50\n",
            "\u001b[1m34/34\u001b[0m \u001b[32m━━━━━━━━━━━━━━━━━━━━\u001b[0m\u001b[37m\u001b[0m \u001b[1m0s\u001b[0m 13ms/step - auc: 0.9297 - binary_accuracy: 0.8802 - loss: 0.2711 - precision: 0.7946 - recall: 0.6568 - val_auc: 0.9136 - val_binary_accuracy: 0.8808 - val_loss: 0.2943 - val_precision: 0.8021 - val_recall: 0.6329\n",
            "Epoch 41/50\n",
            "\u001b[1m34/34\u001b[0m \u001b[32m━━━━━━━━━━━━━━━━━━━━\u001b[0m\u001b[37m\u001b[0m \u001b[1m1s\u001b[0m 14ms/step - auc: 0.9296 - binary_accuracy: 0.8863 - loss: 0.2665 - precision: 0.8215 - recall: 0.6508 - val_auc: 0.9159 - val_binary_accuracy: 0.8826 - val_loss: 0.2898 - val_precision: 0.8195 - val_recall: 0.6219\n",
            "Epoch 42/50\n",
            "\u001b[1m34/34\u001b[0m \u001b[32m━━━━━━━━━━━━━━━━━━━━\u001b[0m\u001b[37m\u001b[0m \u001b[1m1s\u001b[0m 14ms/step - auc: 0.9339 - binary_accuracy: 0.8839 - loss: 0.2634 - precision: 0.8037 - recall: 0.6715 - val_auc: 0.9180 - val_binary_accuracy: 0.8783 - val_loss: 0.2886 - val_precision: 0.7872 - val_recall: 0.6384\n",
            "Epoch 43/50\n",
            "\u001b[1m34/34\u001b[0m \u001b[32m━━━━━━━━━━━━━━━━━━━━\u001b[0m\u001b[37m\u001b[0m \u001b[1m1s\u001b[0m 15ms/step - auc: 0.9325 - binary_accuracy: 0.8848 - loss: 0.2663 - precision: 0.8091 - recall: 0.6633 - val_auc: 0.9221 - val_binary_accuracy: 0.8739 - val_loss: 0.2808 - val_precision: 0.7782 - val_recall: 0.6247\n",
            "Epoch 44/50\n",
            "\u001b[1m34/34\u001b[0m \u001b[32m━━━━━━━━━━━━━━━━━━━━\u001b[0m\u001b[37m\u001b[0m \u001b[1m1s\u001b[0m 14ms/step - auc: 0.9392 - binary_accuracy: 0.8843 - loss: 0.2555 - precision: 0.8030 - recall: 0.6616 - val_auc: 0.9197 - val_binary_accuracy: 0.8733 - val_loss: 0.2830 - val_precision: 0.7647 - val_recall: 0.6411\n",
            "Epoch 45/50\n",
            "\u001b[1m34/34\u001b[0m \u001b[32m━━━━━━━━━━━━━━━━━━━━\u001b[0m\u001b[37m\u001b[0m \u001b[1m1s\u001b[0m 15ms/step - auc: 0.9293 - binary_accuracy: 0.8826 - loss: 0.2689 - precision: 0.7959 - recall: 0.6651 - val_auc: 0.9155 - val_binary_accuracy: 0.8708 - val_loss: 0.2927 - val_precision: 0.7743 - val_recall: 0.6110\n",
            "Epoch 46/50\n",
            "\u001b[1m34/34\u001b[0m \u001b[32m━━━━━━━━━━━━━━━━━━━━\u001b[0m\u001b[37m\u001b[0m \u001b[1m1s\u001b[0m 14ms/step - auc: 0.9358 - binary_accuracy: 0.8861 - loss: 0.2591 - precision: 0.7967 - recall: 0.6765 - val_auc: 0.9170 - val_binary_accuracy: 0.8745 - val_loss: 0.2903 - val_precision: 0.7733 - val_recall: 0.6356\n",
            "Epoch 47/50\n",
            "\u001b[1m34/34\u001b[0m \u001b[32m━━━━━━━━━━━━━━━━━━━━\u001b[0m\u001b[37m\u001b[0m \u001b[1m1s\u001b[0m 13ms/step - auc: 0.9398 - binary_accuracy: 0.8906 - loss: 0.2481 - precision: 0.8170 - recall: 0.6782 - val_auc: 0.9164 - val_binary_accuracy: 0.8720 - val_loss: 0.2939 - val_precision: 0.7685 - val_recall: 0.6274\n",
            "Epoch 48/50\n",
            "\u001b[1m34/34\u001b[0m \u001b[32m━━━━━━━━━━━━━━━━━━━━\u001b[0m\u001b[37m\u001b[0m \u001b[1m0s\u001b[0m 13ms/step - auc: 0.9323 - binary_accuracy: 0.8778 - loss: 0.2684 - precision: 0.7718 - recall: 0.6704 - val_auc: 0.9192 - val_binary_accuracy: 0.8708 - val_loss: 0.2862 - val_precision: 0.7687 - val_recall: 0.6192\n",
            "Epoch 49/50\n",
            "\u001b[1m34/34\u001b[0m \u001b[32m━━━━━━━━━━━━━━━━━━━━\u001b[0m\u001b[37m\u001b[0m \u001b[1m0s\u001b[0m 12ms/step - auc: 0.9347 - binary_accuracy: 0.8849 - loss: 0.2598 - precision: 0.8022 - recall: 0.6675 - val_auc: 0.9190 - val_binary_accuracy: 0.8733 - val_loss: 0.2843 - val_precision: 0.7682 - val_recall: 0.6356\n",
            "Epoch 50/50\n",
            "\u001b[1m34/34\u001b[0m \u001b[32m━━━━━━━━━━━━━━━━━━━━\u001b[0m\u001b[37m\u001b[0m \u001b[1m0s\u001b[0m 13ms/step - auc: 0.9361 - binary_accuracy: 0.8847 - loss: 0.2550 - precision: 0.7986 - recall: 0.6685 - val_auc: 0.9185 - val_binary_accuracy: 0.8733 - val_loss: 0.2867 - val_precision: 0.7700 - val_recall: 0.6329\n",
            "\u001b[1m4/4\u001b[0m \u001b[32m━━━━━━━━━━━━━━━━━━━━\u001b[0m\u001b[37m\u001b[0m \u001b[1m1s\u001b[0m 94ms/step\n",
            "Best thresholds per class: [np.float64(0.6000000000000002), np.float64(0.3500000000000001), np.float64(0.15000000000000002), np.float64(0.15000000000000002), np.float64(0.5500000000000002), np.float64(0.1)]\n",
            "F1 macro score on test: 0.3756\n",
            "\n",
            "==============================================\n",
            "Training model with lr=0.001, batch_size=64\n",
            "==============================================\n",
            "\n",
            "Epoch 1/50\n",
            "\u001b[1m17/17\u001b[0m \u001b[32m━━━━━━━━━━━━━━━━━━━━\u001b[0m\u001b[37m\u001b[0m \u001b[1m8s\u001b[0m 96ms/step - auc: 0.5297 - binary_accuracy: 0.5078 - loss: 0.8978 - precision: 0.2410 - recall: 0.5303 - val_auc: 0.5997 - val_binary_accuracy: 0.5424 - val_loss: 0.6801 - val_precision: 0.2767 - val_recall: 0.6247\n",
            "Epoch 2/50\n",
            "\u001b[1m17/17\u001b[0m \u001b[32m━━━━━━━━━━━━━━━━━━━━\u001b[0m\u001b[37m\u001b[0m \u001b[1m0s\u001b[0m 23ms/step - auc: 0.6285 - binary_accuracy: 0.5906 - loss: 0.7689 - precision: 0.3152 - recall: 0.6399 - val_auc: 0.6153 - val_binary_accuracy: 0.5418 - val_loss: 0.6785 - val_precision: 0.2708 - val_recall: 0.5973\n",
            "Epoch 3/50\n",
            "\u001b[1m17/17\u001b[0m \u001b[32m━━━━━━━━━━━━━━━━━━━━\u001b[0m\u001b[37m\u001b[0m \u001b[1m0s\u001b[0m 19ms/step - auc: 0.6592 - binary_accuracy: 0.6009 - loss: 0.7155 - precision: 0.3166 - recall: 0.6274 - val_auc: 0.6310 - val_binary_accuracy: 0.5880 - val_loss: 0.6696 - val_precision: 0.2966 - val_recall: 0.5890\n",
            "Epoch 4/50\n",
            "\u001b[1m17/17\u001b[0m \u001b[32m━━━━━━━━━━━━━━━━━━━━\u001b[0m\u001b[37m\u001b[0m \u001b[1m0s\u001b[0m 17ms/step - auc: 0.7209 - binary_accuracy: 0.6438 - loss: 0.6414 - precision: 0.3561 - recall: 0.6703 - val_auc: 0.6504 - val_binary_accuracy: 0.6623 - val_loss: 0.6569 - val_precision: 0.3514 - val_recall: 0.5699\n",
            "Epoch 5/50\n",
            "\u001b[1m17/17\u001b[0m \u001b[32m━━━━━━━━━━━━━━━━━━━━\u001b[0m\u001b[37m\u001b[0m \u001b[1m0s\u001b[0m 17ms/step - auc: 0.7202 - binary_accuracy: 0.6606 - loss: 0.6221 - precision: 0.3698 - recall: 0.6473 - val_auc: 0.6691 - val_binary_accuracy: 0.6941 - val_loss: 0.6412 - val_precision: 0.3583 - val_recall: 0.4329\n",
            "Epoch 6/50\n",
            "\u001b[1m17/17\u001b[0m \u001b[32m━━━━━━━━━━━━━━━━━━━━\u001b[0m\u001b[37m\u001b[0m \u001b[1m0s\u001b[0m 18ms/step - auc: 0.7246 - binary_accuracy: 0.6700 - loss: 0.5984 - precision: 0.3751 - recall: 0.6304 - val_auc: 0.6949 - val_binary_accuracy: 0.7497 - val_loss: 0.6251 - val_precision: 0.4419 - val_recall: 0.3753\n",
            "Epoch 7/50\n",
            "\u001b[1m17/17\u001b[0m \u001b[32m━━━━━━━━━━━━━━━━━━━━\u001b[0m\u001b[37m\u001b[0m \u001b[1m0s\u001b[0m 17ms/step - auc: 0.7565 - binary_accuracy: 0.7021 - loss: 0.5654 - precision: 0.4159 - recall: 0.6519 - val_auc: 0.7123 - val_binary_accuracy: 0.7640 - val_loss: 0.6088 - val_precision: 0.4726 - val_recall: 0.3068\n",
            "Epoch 8/50\n",
            "\u001b[1m17/17\u001b[0m \u001b[32m━━━━━━━━━━━━━━━━━━━━\u001b[0m\u001b[37m\u001b[0m \u001b[1m0s\u001b[0m 18ms/step - auc: 0.7674 - binary_accuracy: 0.7223 - loss: 0.5409 - precision: 0.4333 - recall: 0.6455 - val_auc: 0.7130 - val_binary_accuracy: 0.7684 - val_loss: 0.5937 - val_precision: 0.4864 - val_recall: 0.2932\n",
            "Epoch 9/50\n",
            "\u001b[1m17/17\u001b[0m \u001b[32m━━━━━━━━━━━━━━━━━━━━\u001b[0m\u001b[37m\u001b[0m \u001b[1m0s\u001b[0m 18ms/step - auc: 0.7914 - binary_accuracy: 0.7508 - loss: 0.5095 - precision: 0.4761 - recall: 0.6588 - val_auc: 0.7185 - val_binary_accuracy: 0.7759 - val_loss: 0.5800 - val_precision: 0.5143 - val_recall: 0.2959\n",
            "Epoch 10/50\n",
            "\u001b[1m17/17\u001b[0m \u001b[32m━━━━━━━━━━━━━━━━━━━━\u001b[0m\u001b[37m\u001b[0m \u001b[1m0s\u001b[0m 19ms/step - auc: 0.8028 - binary_accuracy: 0.7624 - loss: 0.4907 - precision: 0.4955 - recall: 0.6463 - val_auc: 0.7232 - val_binary_accuracy: 0.7853 - val_loss: 0.5629 - val_precision: 0.5629 - val_recall: 0.2575\n",
            "Epoch 11/50\n",
            "\u001b[1m17/17\u001b[0m \u001b[32m━━━━━━━━━━━━━━━━━━━━\u001b[0m\u001b[37m\u001b[0m \u001b[1m0s\u001b[0m 20ms/step - auc: 0.7949 - binary_accuracy: 0.7662 - loss: 0.4867 - precision: 0.4933 - recall: 0.6103 - val_auc: 0.7324 - val_binary_accuracy: 0.7909 - val_loss: 0.5446 - val_precision: 0.5974 - val_recall: 0.2521\n",
            "Epoch 12/50\n",
            "\u001b[1m17/17\u001b[0m \u001b[32m━━━━━━━━━━━━━━━━━━━━\u001b[0m\u001b[37m\u001b[0m \u001b[1m0s\u001b[0m 19ms/step - auc: 0.8253 - binary_accuracy: 0.7843 - loss: 0.4479 - precision: 0.5302 - recall: 0.5941 - val_auc: 0.7555 - val_binary_accuracy: 0.7990 - val_loss: 0.5291 - val_precision: 0.6593 - val_recall: 0.2438\n",
            "Epoch 13/50\n",
            "\u001b[1m17/17\u001b[0m \u001b[32m━━━━━━━━━━━━━━━━━━━━\u001b[0m\u001b[37m\u001b[0m \u001b[1m0s\u001b[0m 17ms/step - auc: 0.8200 - binary_accuracy: 0.7901 - loss: 0.4424 - precision: 0.5425 - recall: 0.5902 - val_auc: 0.7719 - val_binary_accuracy: 0.8071 - val_loss: 0.5123 - val_precision: 0.7373 - val_recall: 0.2384\n",
            "Epoch 14/50\n",
            "\u001b[1m17/17\u001b[0m \u001b[32m━━━━━━━━━━━━━━━━━━━━\u001b[0m\u001b[37m\u001b[0m \u001b[1m0s\u001b[0m 17ms/step - auc: 0.8207 - binary_accuracy: 0.8002 - loss: 0.4319 - precision: 0.5746 - recall: 0.5540 - val_auc: 0.7924 - val_binary_accuracy: 0.8096 - val_loss: 0.4990 - val_precision: 0.7632 - val_recall: 0.2384\n",
            "Epoch 15/50\n",
            "\u001b[1m17/17\u001b[0m \u001b[32m━━━━━━━━━━━━━━━━━━━━\u001b[0m\u001b[37m\u001b[0m \u001b[1m0s\u001b[0m 18ms/step - auc: 0.8372 - binary_accuracy: 0.8228 - loss: 0.4089 - precision: 0.6286 - recall: 0.5896 - val_auc: 0.8132 - val_binary_accuracy: 0.8096 - val_loss: 0.4840 - val_precision: 0.7500 - val_recall: 0.2466\n",
            "Epoch 16/50\n",
            "\u001b[1m17/17\u001b[0m \u001b[32m━━━━━━━━━━━━━━━━━━━━\u001b[0m\u001b[37m\u001b[0m \u001b[1m0s\u001b[0m 24ms/step - auc: 0.8421 - binary_accuracy: 0.8246 - loss: 0.3961 - precision: 0.6355 - recall: 0.5632 - val_auc: 0.8289 - val_binary_accuracy: 0.8190 - val_loss: 0.4689 - val_precision: 0.8319 - val_recall: 0.2575\n",
            "Epoch 17/50\n",
            "\u001b[1m17/17\u001b[0m \u001b[32m━━━━━━━━━━━━━━━━━━━━\u001b[0m\u001b[37m\u001b[0m \u001b[1m0s\u001b[0m 19ms/step - auc: 0.8513 - binary_accuracy: 0.8296 - loss: 0.3863 - precision: 0.6523 - recall: 0.5519 - val_auc: 0.8399 - val_binary_accuracy: 0.8196 - val_loss: 0.4561 - val_precision: 0.8167 - val_recall: 0.2685\n",
            "Epoch 18/50\n",
            "\u001b[1m17/17\u001b[0m \u001b[32m━━━━━━━━━━━━━━━━━━━━\u001b[0m\u001b[37m\u001b[0m \u001b[1m0s\u001b[0m 20ms/step - auc: 0.8560 - binary_accuracy: 0.8230 - loss: 0.3785 - precision: 0.6432 - recall: 0.5237 - val_auc: 0.8504 - val_binary_accuracy: 0.8252 - val_loss: 0.4417 - val_precision: 0.8244 - val_recall: 0.2959\n",
            "Epoch 19/50\n",
            "\u001b[1m17/17\u001b[0m \u001b[32m━━━━━━━━━━━━━━━━━━━━\u001b[0m\u001b[37m\u001b[0m \u001b[1m0s\u001b[0m 19ms/step - auc: 0.8666 - binary_accuracy: 0.8375 - loss: 0.3631 - precision: 0.6750 - recall: 0.5549 - val_auc: 0.8563 - val_binary_accuracy: 0.8221 - val_loss: 0.4287 - val_precision: 0.8125 - val_recall: 0.2849\n",
            "Epoch 20/50\n",
            "\u001b[1m17/17\u001b[0m \u001b[32m━━━━━━━━━━━━━━━━━━━━\u001b[0m\u001b[37m\u001b[0m \u001b[1m0s\u001b[0m 18ms/step - auc: 0.8767 - binary_accuracy: 0.8441 - loss: 0.3523 - precision: 0.7148 - recall: 0.5443 - val_auc: 0.8596 - val_binary_accuracy: 0.8321 - val_loss: 0.4190 - val_precision: 0.8380 - val_recall: 0.3260\n",
            "Epoch 21/50\n",
            "\u001b[1m17/17\u001b[0m \u001b[32m━━━━━━━━━━━━━━━━━━━━\u001b[0m\u001b[37m\u001b[0m \u001b[1m0s\u001b[0m 21ms/step - auc: 0.8809 - binary_accuracy: 0.8455 - loss: 0.3443 - precision: 0.7041 - recall: 0.5708 - val_auc: 0.8661 - val_binary_accuracy: 0.8290 - val_loss: 0.4105 - val_precision: 0.7692 - val_recall: 0.3562\n",
            "Epoch 22/50\n",
            "\u001b[1m17/17\u001b[0m \u001b[32m━━━━━━━━━━━━━━━━━━━━\u001b[0m\u001b[37m\u001b[0m \u001b[1m0s\u001b[0m 17ms/step - auc: 0.8698 - binary_accuracy: 0.8403 - loss: 0.3548 - precision: 0.7139 - recall: 0.5337 - val_auc: 0.8714 - val_binary_accuracy: 0.8283 - val_loss: 0.4003 - val_precision: 0.7473 - val_recall: 0.3726\n",
            "Epoch 23/50\n",
            "\u001b[1m17/17\u001b[0m \u001b[32m━━━━━━━━━━━━━━━━━━━━\u001b[0m\u001b[37m\u001b[0m \u001b[1m0s\u001b[0m 19ms/step - auc: 0.8812 - binary_accuracy: 0.8538 - loss: 0.3413 - precision: 0.7483 - recall: 0.5530 - val_auc: 0.8813 - val_binary_accuracy: 0.8352 - val_loss: 0.3854 - val_precision: 0.7617 - val_recall: 0.4027\n",
            "Epoch 24/50\n",
            "\u001b[1m17/17\u001b[0m \u001b[32m━━━━━━━━━━━━━━━━━━━━\u001b[0m\u001b[37m\u001b[0m \u001b[1m0s\u001b[0m 20ms/step - auc: 0.8912 - binary_accuracy: 0.8553 - loss: 0.3295 - precision: 0.7426 - recall: 0.5668 - val_auc: 0.8842 - val_binary_accuracy: 0.8427 - val_loss: 0.3754 - val_precision: 0.7604 - val_recall: 0.4521\n",
            "Epoch 25/50\n",
            "\u001b[1m17/17\u001b[0m \u001b[32m━━━━━━━━━━━━━━━━━━━━\u001b[0m\u001b[37m\u001b[0m \u001b[1m0s\u001b[0m 20ms/step - auc: 0.8852 - binary_accuracy: 0.8513 - loss: 0.3371 - precision: 0.7215 - recall: 0.5827 - val_auc: 0.8937 - val_binary_accuracy: 0.8458 - val_loss: 0.3640 - val_precision: 0.7634 - val_recall: 0.4685\n",
            "Epoch 26/50\n",
            "\u001b[1m17/17\u001b[0m \u001b[32m━━━━━━━━━━━━━━━━━━━━\u001b[0m\u001b[37m\u001b[0m \u001b[1m1s\u001b[0m 26ms/step - auc: 0.8998 - binary_accuracy: 0.8642 - loss: 0.3147 - precision: 0.7701 - recall: 0.5875 - val_auc: 0.8916 - val_binary_accuracy: 0.8558 - val_loss: 0.3579 - val_precision: 0.7746 - val_recall: 0.5178\n",
            "Epoch 27/50\n",
            "\u001b[1m17/17\u001b[0m \u001b[32m━━━━━━━━━━━━━━━━━━━━\u001b[0m\u001b[37m\u001b[0m \u001b[1m0s\u001b[0m 27ms/step - auc: 0.8995 - binary_accuracy: 0.8590 - loss: 0.3172 - precision: 0.7452 - recall: 0.5909 - val_auc: 0.8946 - val_binary_accuracy: 0.8571 - val_loss: 0.3498 - val_precision: 0.7764 - val_recall: 0.5233\n",
            "Epoch 28/50\n",
            "\u001b[1m17/17\u001b[0m \u001b[32m━━━━━━━━━━━━━━━━━━━━\u001b[0m\u001b[37m\u001b[0m \u001b[1m0s\u001b[0m 23ms/step - auc: 0.9059 - binary_accuracy: 0.8657 - loss: 0.3080 - precision: 0.7763 - recall: 0.5894 - val_auc: 0.9042 - val_binary_accuracy: 0.8602 - val_loss: 0.3361 - val_precision: 0.7809 - val_recall: 0.5370\n",
            "Epoch 29/50\n",
            "\u001b[1m17/17\u001b[0m \u001b[32m━━━━━━━━━━━━━━━━━━━━\u001b[0m\u001b[37m\u001b[0m \u001b[1m0s\u001b[0m 19ms/step - auc: 0.9054 - binary_accuracy: 0.8606 - loss: 0.3094 - precision: 0.7572 - recall: 0.5876 - val_auc: 0.9057 - val_binary_accuracy: 0.8633 - val_loss: 0.3302 - val_precision: 0.7852 - val_recall: 0.5507\n",
            "Epoch 30/50\n",
            "\u001b[1m17/17\u001b[0m \u001b[32m━━━━━━━━━━━━━━━━━━━━\u001b[0m\u001b[37m\u001b[0m \u001b[1m0s\u001b[0m 17ms/step - auc: 0.9086 - binary_accuracy: 0.8686 - loss: 0.3045 - precision: 0.7748 - recall: 0.6074 - val_auc: 0.9049 - val_binary_accuracy: 0.8633 - val_loss: 0.3263 - val_precision: 0.7829 - val_recall: 0.5534\n",
            "Epoch 31/50\n",
            "\u001b[1m17/17\u001b[0m \u001b[32m━━━━━━━━━━━━━━━━━━━━\u001b[0m\u001b[37m\u001b[0m \u001b[1m0s\u001b[0m 18ms/step - auc: 0.9145 - binary_accuracy: 0.8733 - loss: 0.2949 - precision: 0.7865 - recall: 0.6165 - val_auc: 0.9086 - val_binary_accuracy: 0.8664 - val_loss: 0.3182 - val_precision: 0.7915 - val_recall: 0.5616\n",
            "Epoch 32/50\n",
            "\u001b[1m17/17\u001b[0m \u001b[32m━━━━━━━━━━━━━━━━━━━━\u001b[0m\u001b[37m\u001b[0m \u001b[1m0s\u001b[0m 18ms/step - auc: 0.9206 - binary_accuracy: 0.8762 - loss: 0.2906 - precision: 0.7908 - recall: 0.6363 - val_auc: 0.9106 - val_binary_accuracy: 0.8664 - val_loss: 0.3129 - val_precision: 0.7766 - val_recall: 0.5808\n",
            "Epoch 33/50\n",
            "\u001b[1m17/17\u001b[0m \u001b[32m━━━━━━━━━━━━━━━━━━━━\u001b[0m\u001b[37m\u001b[0m \u001b[1m0s\u001b[0m 18ms/step - auc: 0.9204 - binary_accuracy: 0.8746 - loss: 0.2882 - precision: 0.7982 - recall: 0.6216 - val_auc: 0.9108 - val_binary_accuracy: 0.8652 - val_loss: 0.3089 - val_precision: 0.7690 - val_recall: 0.5836\n",
            "Epoch 34/50\n",
            "\u001b[1m17/17\u001b[0m \u001b[32m━━━━━━━━━━━━━━━━━━━━\u001b[0m\u001b[37m\u001b[0m \u001b[1m0s\u001b[0m 19ms/step - auc: 0.9209 - binary_accuracy: 0.8800 - loss: 0.2863 - precision: 0.7904 - recall: 0.6500 - val_auc: 0.9098 - val_binary_accuracy: 0.8658 - val_loss: 0.3096 - val_precision: 0.7534 - val_recall: 0.6110\n",
            "Epoch 35/50\n",
            "\u001b[1m17/17\u001b[0m \u001b[32m━━━━━━━━━━━━━━━━━━━━\u001b[0m\u001b[37m\u001b[0m \u001b[1m0s\u001b[0m 22ms/step - auc: 0.9248 - binary_accuracy: 0.8737 - loss: 0.2836 - precision: 0.7861 - recall: 0.6326 - val_auc: 0.9126 - val_binary_accuracy: 0.8695 - val_loss: 0.3033 - val_precision: 0.7500 - val_recall: 0.6411\n",
            "Epoch 36/50\n",
            "\u001b[1m17/17\u001b[0m \u001b[32m━━━━━━━━━━━━━━━━━━━━\u001b[0m\u001b[37m\u001b[0m \u001b[1m0s\u001b[0m 20ms/step - auc: 0.9221 - binary_accuracy: 0.8763 - loss: 0.2829 - precision: 0.7668 - recall: 0.6485 - val_auc: 0.9114 - val_binary_accuracy: 0.8695 - val_loss: 0.3014 - val_precision: 0.7566 - val_recall: 0.6301\n",
            "Epoch 37/50\n",
            "\u001b[1m17/17\u001b[0m \u001b[32m━━━━━━━━━━━━━━━━━━━━\u001b[0m\u001b[37m\u001b[0m \u001b[1m0s\u001b[0m 20ms/step - auc: 0.9162 - binary_accuracy: 0.8783 - loss: 0.2868 - precision: 0.7874 - recall: 0.6430 - val_auc: 0.9141 - val_binary_accuracy: 0.8670 - val_loss: 0.2985 - val_precision: 0.7585 - val_recall: 0.6110\n",
            "Epoch 38/50\n",
            "\u001b[1m17/17\u001b[0m \u001b[32m━━━━━━━━━━━━━━━━━━━━\u001b[0m\u001b[37m\u001b[0m \u001b[1m0s\u001b[0m 18ms/step - auc: 0.9174 - binary_accuracy: 0.8752 - loss: 0.2886 - precision: 0.7755 - recall: 0.6357 - val_auc: 0.9145 - val_binary_accuracy: 0.8683 - val_loss: 0.2968 - val_precision: 0.7584 - val_recall: 0.6192\n",
            "Epoch 39/50\n",
            "\u001b[1m17/17\u001b[0m \u001b[32m━━━━━━━━━━━━━━━━━━━━\u001b[0m\u001b[37m\u001b[0m \u001b[1m0s\u001b[0m 19ms/step - auc: 0.9274 - binary_accuracy: 0.8780 - loss: 0.2734 - precision: 0.7873 - recall: 0.6438 - val_auc: 0.9123 - val_binary_accuracy: 0.8677 - val_loss: 0.2995 - val_precision: 0.7444 - val_recall: 0.6384\n",
            "Epoch 40/50\n",
            "\u001b[1m17/17\u001b[0m \u001b[32m━━━━━━━━━━━━━━━━━━━━\u001b[0m\u001b[37m\u001b[0m \u001b[1m0s\u001b[0m 18ms/step - auc: 0.9310 - binary_accuracy: 0.8806 - loss: 0.2679 - precision: 0.7912 - recall: 0.6623 - val_auc: 0.9109 - val_binary_accuracy: 0.8695 - val_loss: 0.3020 - val_precision: 0.7532 - val_recall: 0.6356\n",
            "Epoch 41/50\n",
            "\u001b[1m17/17\u001b[0m \u001b[32m━━━━━━━━━━━━━━━━━━━━\u001b[0m\u001b[37m\u001b[0m \u001b[1m0s\u001b[0m 18ms/step - auc: 0.9227 - binary_accuracy: 0.8778 - loss: 0.2818 - precision: 0.7836 - recall: 0.6500 - val_auc: 0.9114 - val_binary_accuracy: 0.8727 - val_loss: 0.2980 - val_precision: 0.7674 - val_recall: 0.6329\n",
            "Epoch 42/50\n",
            "\u001b[1m17/17\u001b[0m \u001b[32m━━━━━━━━━━━━━━━━━━━━\u001b[0m\u001b[37m\u001b[0m \u001b[1m0s\u001b[0m 19ms/step - auc: 0.9202 - binary_accuracy: 0.8836 - loss: 0.2804 - precision: 0.8063 - recall: 0.6477 - val_auc: 0.9103 - val_binary_accuracy: 0.8608 - val_loss: 0.2978 - val_precision: 0.7219 - val_recall: 0.6329\n",
            "Epoch 43/50\n",
            "\u001b[1m17/17\u001b[0m \u001b[32m━━━━━━━━━━━━━━━━━━━━\u001b[0m\u001b[37m\u001b[0m \u001b[1m0s\u001b[0m 18ms/step - auc: 0.9290 - binary_accuracy: 0.8809 - loss: 0.2707 - precision: 0.7829 - recall: 0.6657 - val_auc: 0.9113 - val_binary_accuracy: 0.8633 - val_loss: 0.2969 - val_precision: 0.7281 - val_recall: 0.6384\n",
            "Epoch 44/50\n",
            "\u001b[1m17/17\u001b[0m \u001b[32m━━━━━━━━━━━━━━━━━━━━\u001b[0m\u001b[37m\u001b[0m \u001b[1m0s\u001b[0m 19ms/step - auc: 0.9328 - binary_accuracy: 0.8814 - loss: 0.2654 - precision: 0.7904 - recall: 0.6646 - val_auc: 0.9123 - val_binary_accuracy: 0.8689 - val_loss: 0.2946 - val_precision: 0.7592 - val_recall: 0.6219\n",
            "Epoch 45/50\n",
            "\u001b[1m17/17\u001b[0m \u001b[32m━━━━━━━━━━━━━━━━━━━━\u001b[0m\u001b[37m\u001b[0m \u001b[1m0s\u001b[0m 23ms/step - auc: 0.9336 - binary_accuracy: 0.8852 - loss: 0.2660 - precision: 0.8048 - recall: 0.6749 - val_auc: 0.9133 - val_binary_accuracy: 0.8683 - val_loss: 0.2922 - val_precision: 0.7550 - val_recall: 0.6247\n",
            "Epoch 46/50\n",
            "\u001b[1m17/17\u001b[0m \u001b[32m━━━━━━━━━━━━━━━━━━━━\u001b[0m\u001b[37m\u001b[0m \u001b[1m0s\u001b[0m 19ms/step - auc: 0.9361 - binary_accuracy: 0.8903 - loss: 0.2574 - precision: 0.8081 - recall: 0.6868 - val_auc: 0.9135 - val_binary_accuracy: 0.8727 - val_loss: 0.2916 - val_precision: 0.7462 - val_recall: 0.6685\n",
            "Epoch 47/50\n",
            "\u001b[1m17/17\u001b[0m \u001b[32m━━━━━━━━━━━━━━━━━━━━\u001b[0m\u001b[37m\u001b[0m \u001b[1m0s\u001b[0m 19ms/step - auc: 0.9366 - binary_accuracy: 0.8955 - loss: 0.2565 - precision: 0.8150 - recall: 0.7043 - val_auc: 0.9144 - val_binary_accuracy: 0.8695 - val_loss: 0.2914 - val_precision: 0.7500 - val_recall: 0.6411\n",
            "Epoch 48/50\n",
            "\u001b[1m17/17\u001b[0m \u001b[32m━━━━━━━━━━━━━━━━━━━━\u001b[0m\u001b[37m\u001b[0m \u001b[1m0s\u001b[0m 19ms/step - auc: 0.9328 - binary_accuracy: 0.8851 - loss: 0.2612 - precision: 0.8020 - recall: 0.6668 - val_auc: 0.9130 - val_binary_accuracy: 0.8689 - val_loss: 0.2936 - val_precision: 0.7414 - val_recall: 0.6521\n",
            "Epoch 49/50\n",
            "\u001b[1m17/17\u001b[0m \u001b[32m━━━━━━━━━━━━━━━━━━━━\u001b[0m\u001b[37m\u001b[0m \u001b[1m0s\u001b[0m 19ms/step - auc: 0.9353 - binary_accuracy: 0.8860 - loss: 0.2581 - precision: 0.8029 - recall: 0.6685 - val_auc: 0.9108 - val_binary_accuracy: 0.8733 - val_loss: 0.2985 - val_precision: 0.7613 - val_recall: 0.6466\n",
            "Epoch 50/50\n",
            "\u001b[1m17/17\u001b[0m \u001b[32m━━━━━━━━━━━━━━━━━━━━\u001b[0m\u001b[37m\u001b[0m \u001b[1m0s\u001b[0m 19ms/step - auc: 0.9352 - binary_accuracy: 0.8834 - loss: 0.2602 - precision: 0.7941 - recall: 0.6660 - val_auc: 0.9128 - val_binary_accuracy: 0.8639 - val_loss: 0.2991 - val_precision: 0.7276 - val_recall: 0.6438\n",
            "\u001b[1m4/4\u001b[0m \u001b[32m━━━━━━━━━━━━━━━━━━━━\u001b[0m\u001b[37m\u001b[0m \u001b[1m0s\u001b[0m 78ms/step\n",
            "Best thresholds per class: [np.float64(0.6000000000000002), np.float64(0.5000000000000001), np.float64(0.1), np.float64(0.1), np.float64(0.15000000000000002), np.float64(0.1)]\n",
            "F1 macro score on test: 0.3773\n",
            "\n",
            "==============================================\n",
            "Training model with lr=0.0005, batch_size=32\n",
            "==============================================\n",
            "\n",
            "Epoch 1/50\n",
            "\u001b[1m34/34\u001b[0m \u001b[32m━━━━━━━━━━━━━━━━━━━━\u001b[0m\u001b[37m\u001b[0m \u001b[1m8s\u001b[0m 47ms/step - auc: 0.5192 - binary_accuracy: 0.5133 - loss: 0.9370 - precision: 0.2411 - recall: 0.5220 - val_auc: 0.5714 - val_binary_accuracy: 0.5755 - val_loss: 0.6679 - val_precision: 0.2639 - val_recall: 0.4822\n",
            "Epoch 2/50\n",
            "\u001b[1m34/34\u001b[0m \u001b[32m━━━━━━━━━━━━━━━━━━━━\u001b[0m\u001b[37m\u001b[0m \u001b[1m0s\u001b[0m 12ms/step - auc: 0.6094 - binary_accuracy: 0.5642 - loss: 0.7884 - precision: 0.2860 - recall: 0.5918 - val_auc: 0.5754 - val_binary_accuracy: 0.5762 - val_loss: 0.6471 - val_precision: 0.2678 - val_recall: 0.4959\n",
            "Epoch 3/50\n",
            "\u001b[1m34/34\u001b[0m \u001b[32m━━━━━━━━━━━━━━━━━━━━\u001b[0m\u001b[37m\u001b[0m \u001b[1m0s\u001b[0m 13ms/step - auc: 0.6381 - binary_accuracy: 0.5941 - loss: 0.7427 - precision: 0.3108 - recall: 0.6048 - val_auc: 0.5844 - val_binary_accuracy: 0.5749 - val_loss: 0.6315 - val_precision: 0.2690 - val_recall: 0.5041\n",
            "Epoch 4/50\n",
            "\u001b[1m34/34\u001b[0m \u001b[32m━━━━━━━━━━━━━━━━━━━━\u001b[0m\u001b[37m\u001b[0m \u001b[1m0s\u001b[0m 12ms/step - auc: 0.6588 - binary_accuracy: 0.6203 - loss: 0.7084 - precision: 0.3313 - recall: 0.6236 - val_auc: 0.5928 - val_binary_accuracy: 0.6042 - val_loss: 0.6162 - val_precision: 0.2791 - val_recall: 0.4658\n",
            "Epoch 5/50\n",
            "\u001b[1m34/34\u001b[0m \u001b[32m━━━━━━━━━━━━━━━━━━━━\u001b[0m\u001b[37m\u001b[0m \u001b[1m1s\u001b[0m 22ms/step - auc: 0.6776 - binary_accuracy: 0.6289 - loss: 0.6652 - precision: 0.3256 - recall: 0.5896 - val_auc: 0.6066 - val_binary_accuracy: 0.6492 - val_loss: 0.5986 - val_precision: 0.3026 - val_recall: 0.4137\n",
            "Epoch 6/50\n",
            "\u001b[1m34/34\u001b[0m \u001b[32m━━━━━━━━━━━━━━━━━━━━\u001b[0m\u001b[37m\u001b[0m \u001b[1m1s\u001b[0m 14ms/step - auc: 0.7014 - binary_accuracy: 0.6695 - loss: 0.6235 - precision: 0.3682 - recall: 0.6094 - val_auc: 0.6231 - val_binary_accuracy: 0.6935 - val_loss: 0.5814 - val_precision: 0.3385 - val_recall: 0.3616\n",
            "Epoch 7/50\n",
            "\u001b[1m34/34\u001b[0m \u001b[32m━━━━━━━━━━━━━━━━━━━━\u001b[0m\u001b[37m\u001b[0m \u001b[1m0s\u001b[0m 11ms/step - auc: 0.7049 - binary_accuracy: 0.6776 - loss: 0.6082 - precision: 0.3761 - recall: 0.5791 - val_auc: 0.6450 - val_binary_accuracy: 0.7303 - val_loss: 0.5628 - val_precision: 0.3872 - val_recall: 0.3151\n",
            "Epoch 8/50\n",
            "\u001b[1m34/34\u001b[0m \u001b[32m━━━━━━━━━━━━━━━━━━━━\u001b[0m\u001b[37m\u001b[0m \u001b[1m0s\u001b[0m 13ms/step - auc: 0.7392 - binary_accuracy: 0.7103 - loss: 0.5768 - precision: 0.4223 - recall: 0.6368 - val_auc: 0.6771 - val_binary_accuracy: 0.7553 - val_loss: 0.5432 - val_precision: 0.4405 - val_recall: 0.2740\n",
            "Epoch 9/50\n",
            "\u001b[1m34/34\u001b[0m \u001b[32m━━━━━━━━━━━━━━━━━━━━\u001b[0m\u001b[37m\u001b[0m \u001b[1m0s\u001b[0m 13ms/step - auc: 0.7730 - binary_accuracy: 0.7312 - loss: 0.5339 - precision: 0.4455 - recall: 0.6251 - val_auc: 0.7109 - val_binary_accuracy: 0.7846 - val_loss: 0.5234 - val_precision: 0.5495 - val_recall: 0.3041\n",
            "Epoch 10/50\n",
            "\u001b[1m34/34\u001b[0m \u001b[32m━━━━━━━━━━━━━━━━━━━━\u001b[0m\u001b[37m\u001b[0m \u001b[1m1s\u001b[0m 18ms/step - auc: 0.7493 - binary_accuracy: 0.7325 - loss: 0.5376 - precision: 0.4397 - recall: 0.5783 - val_auc: 0.7449 - val_binary_accuracy: 0.7959 - val_loss: 0.5014 - val_precision: 0.6033 - val_recall: 0.3041\n",
            "Epoch 11/50\n",
            "\u001b[1m34/34\u001b[0m \u001b[32m━━━━━━━━━━━━━━━━━━━━\u001b[0m\u001b[37m\u001b[0m \u001b[1m1s\u001b[0m 15ms/step - auc: 0.7530 - binary_accuracy: 0.7339 - loss: 0.5253 - precision: 0.4469 - recall: 0.5416 - val_auc: 0.7807 - val_binary_accuracy: 0.8146 - val_loss: 0.4819 - val_precision: 0.6753 - val_recall: 0.3589\n",
            "Epoch 12/50\n",
            "\u001b[1m34/34\u001b[0m \u001b[32m━━━━━━━━━━━━━━━━━━━━\u001b[0m\u001b[37m\u001b[0m \u001b[1m1s\u001b[0m 14ms/step - auc: 0.7813 - binary_accuracy: 0.7537 - loss: 0.4959 - precision: 0.4773 - recall: 0.5593 - val_auc: 0.8033 - val_binary_accuracy: 0.8277 - val_loss: 0.4651 - val_precision: 0.7236 - val_recall: 0.3945\n",
            "Epoch 13/50\n",
            "\u001b[1m34/34\u001b[0m \u001b[32m━━━━━━━━━━━━━━━━━━━━\u001b[0m\u001b[37m\u001b[0m \u001b[1m0s\u001b[0m 13ms/step - auc: 0.7675 - binary_accuracy: 0.7606 - loss: 0.4852 - precision: 0.4822 - recall: 0.5203 - val_auc: 0.8238 - val_binary_accuracy: 0.8383 - val_loss: 0.4444 - val_precision: 0.7650 - val_recall: 0.4192\n",
            "Epoch 14/50\n",
            "\u001b[1m34/34\u001b[0m \u001b[32m━━━━━━━━━━━━━━━━━━━━\u001b[0m\u001b[37m\u001b[0m \u001b[1m0s\u001b[0m 12ms/step - auc: 0.7872 - binary_accuracy: 0.7759 - loss: 0.4694 - precision: 0.5201 - recall: 0.5442 - val_auc: 0.8386 - val_binary_accuracy: 0.8421 - val_loss: 0.4294 - val_precision: 0.7718 - val_recall: 0.4356\n",
            "Epoch 15/50\n",
            "\u001b[1m34/34\u001b[0m \u001b[32m━━━━━━━━━━━━━━━━━━━━\u001b[0m\u001b[37m\u001b[0m \u001b[1m0s\u001b[0m 11ms/step - auc: 0.8165 - binary_accuracy: 0.7990 - loss: 0.4397 - precision: 0.5658 - recall: 0.5712 - val_auc: 0.8487 - val_binary_accuracy: 0.8471 - val_loss: 0.4153 - val_precision: 0.7830 - val_recall: 0.4548\n",
            "Epoch 16/50\n",
            "\u001b[1m34/34\u001b[0m \u001b[32m━━━━━━━━━━━━━━━━━━━━\u001b[0m\u001b[37m\u001b[0m \u001b[1m0s\u001b[0m 12ms/step - auc: 0.8013 - binary_accuracy: 0.7982 - loss: 0.4449 - precision: 0.5745 - recall: 0.5246 - val_auc: 0.8577 - val_binary_accuracy: 0.8452 - val_loss: 0.4010 - val_precision: 0.7746 - val_recall: 0.4521\n",
            "Epoch 17/50\n",
            "\u001b[1m34/34\u001b[0m \u001b[32m━━━━━━━━━━━━━━━━━━━━\u001b[0m\u001b[37m\u001b[0m \u001b[1m0s\u001b[0m 13ms/step - auc: 0.8102 - binary_accuracy: 0.8063 - loss: 0.4301 - precision: 0.5895 - recall: 0.5237 - val_auc: 0.8628 - val_binary_accuracy: 0.8477 - val_loss: 0.3910 - val_precision: 0.7788 - val_recall: 0.4630\n",
            "Epoch 18/50\n",
            "\u001b[1m34/34\u001b[0m \u001b[32m━━━━━━━━━━━━━━━━━━━━\u001b[0m\u001b[37m\u001b[0m \u001b[1m0s\u001b[0m 12ms/step - auc: 0.8376 - binary_accuracy: 0.8202 - loss: 0.4019 - precision: 0.6382 - recall: 0.5371 - val_auc: 0.8661 - val_binary_accuracy: 0.8483 - val_loss: 0.3849 - val_precision: 0.7585 - val_recall: 0.4904\n",
            "Epoch 19/50\n",
            "\u001b[1m34/34\u001b[0m \u001b[32m━━━━━━━━━━━━━━━━━━━━\u001b[0m\u001b[37m\u001b[0m \u001b[1m0s\u001b[0m 12ms/step - auc: 0.8244 - binary_accuracy: 0.8138 - loss: 0.4138 - precision: 0.6238 - recall: 0.5090 - val_auc: 0.8703 - val_binary_accuracy: 0.8421 - val_loss: 0.3796 - val_precision: 0.7545 - val_recall: 0.4548\n",
            "Epoch 20/50\n",
            "\u001b[1m34/34\u001b[0m \u001b[32m━━━━━━━━━━━━━━━━━━━━\u001b[0m\u001b[37m\u001b[0m \u001b[1m0s\u001b[0m 13ms/step - auc: 0.8285 - binary_accuracy: 0.8203 - loss: 0.4047 - precision: 0.6470 - recall: 0.5136 - val_auc: 0.8760 - val_binary_accuracy: 0.8502 - val_loss: 0.3709 - val_precision: 0.7854 - val_recall: 0.4712\n",
            "Epoch 21/50\n",
            "\u001b[1m34/34\u001b[0m \u001b[32m━━━━━━━━━━━━━━━━━━━━\u001b[0m\u001b[37m\u001b[0m \u001b[1m1s\u001b[0m 13ms/step - auc: 0.8415 - binary_accuracy: 0.8277 - loss: 0.3913 - precision: 0.6575 - recall: 0.5269 - val_auc: 0.8774 - val_binary_accuracy: 0.8533 - val_loss: 0.3661 - val_precision: 0.7731 - val_recall: 0.5041\n",
            "Epoch 22/50\n",
            "\u001b[1m34/34\u001b[0m \u001b[32m━━━━━━━━━━━━━━━━━━━━\u001b[0m\u001b[37m\u001b[0m \u001b[1m0s\u001b[0m 13ms/step - auc: 0.8292 - binary_accuracy: 0.8235 - loss: 0.4045 - precision: 0.6554 - recall: 0.4993 - val_auc: 0.8774 - val_binary_accuracy: 0.8596 - val_loss: 0.3623 - val_precision: 0.8043 - val_recall: 0.5068\n",
            "Epoch 23/50\n",
            "\u001b[1m34/34\u001b[0m \u001b[32m━━━━━━━━━━━━━━━━━━━━\u001b[0m\u001b[37m\u001b[0m \u001b[1m1s\u001b[0m 15ms/step - auc: 0.8317 - binary_accuracy: 0.8245 - loss: 0.3967 - precision: 0.6575 - recall: 0.4956 - val_auc: 0.8796 - val_binary_accuracy: 0.8546 - val_loss: 0.3589 - val_precision: 0.7750 - val_recall: 0.5096\n",
            "Epoch 24/50\n",
            "\u001b[1m34/34\u001b[0m \u001b[32m━━━━━━━━━━━━━━━━━━━━\u001b[0m\u001b[37m\u001b[0m \u001b[1m0s\u001b[0m 12ms/step - auc: 0.8421 - binary_accuracy: 0.8206 - loss: 0.3917 - precision: 0.6566 - recall: 0.4893 - val_auc: 0.8813 - val_binary_accuracy: 0.8527 - val_loss: 0.3566 - val_precision: 0.7745 - val_recall: 0.4986\n",
            "Epoch 25/50\n",
            "\u001b[1m34/34\u001b[0m \u001b[32m━━━━━━━━━━━━━━━━━━━━\u001b[0m\u001b[37m\u001b[0m \u001b[1m0s\u001b[0m 12ms/step - auc: 0.8439 - binary_accuracy: 0.8341 - loss: 0.3817 - precision: 0.6957 - recall: 0.4969 - val_auc: 0.8865 - val_binary_accuracy: 0.8602 - val_loss: 0.3512 - val_precision: 0.8079 - val_recall: 0.5068\n",
            "Epoch 26/50\n",
            "\u001b[1m34/34\u001b[0m \u001b[32m━━━━━━━━━━━━━━━━━━━━\u001b[0m\u001b[37m\u001b[0m \u001b[1m0s\u001b[0m 12ms/step - auc: 0.8598 - binary_accuracy: 0.8397 - loss: 0.3663 - precision: 0.7123 - recall: 0.5156 - val_auc: 0.8875 - val_binary_accuracy: 0.8664 - val_loss: 0.3481 - val_precision: 0.8057 - val_recall: 0.5452\n",
            "Epoch 27/50\n",
            "\u001b[1m34/34\u001b[0m \u001b[32m━━━━━━━━━━━━━━━━━━━━\u001b[0m\u001b[37m\u001b[0m \u001b[1m0s\u001b[0m 12ms/step - auc: 0.8559 - binary_accuracy: 0.8330 - loss: 0.3703 - precision: 0.6947 - recall: 0.5088 - val_auc: 0.8878 - val_binary_accuracy: 0.8627 - val_loss: 0.3443 - val_precision: 0.8033 - val_recall: 0.5260\n",
            "Epoch 28/50\n",
            "\u001b[1m34/34\u001b[0m \u001b[32m━━━━━━━━━━━━━━━━━━━━\u001b[0m\u001b[37m\u001b[0m \u001b[1m0s\u001b[0m 11ms/step - auc: 0.8746 - binary_accuracy: 0.8435 - loss: 0.3508 - precision: 0.7096 - recall: 0.5460 - val_auc: 0.8912 - val_binary_accuracy: 0.8645 - val_loss: 0.3406 - val_precision: 0.8162 - val_recall: 0.5233\n",
            "Epoch 29/50\n",
            "\u001b[1m34/34\u001b[0m \u001b[32m━━━━━━━━━━━━━━━━━━━━\u001b[0m\u001b[37m\u001b[0m \u001b[1m0s\u001b[0m 11ms/step - auc: 0.8607 - binary_accuracy: 0.8441 - loss: 0.3599 - precision: 0.7209 - recall: 0.5262 - val_auc: 0.8909 - val_binary_accuracy: 0.8602 - val_loss: 0.3412 - val_precision: 0.7975 - val_recall: 0.5178\n",
            "Epoch 30/50\n",
            "\u001b[1m34/34\u001b[0m \u001b[32m━━━━━━━━━━━━━━━━━━━━\u001b[0m\u001b[37m\u001b[0m \u001b[1m0s\u001b[0m 12ms/step - auc: 0.8700 - binary_accuracy: 0.8448 - loss: 0.3527 - precision: 0.7130 - recall: 0.5369 - val_auc: 0.8944 - val_binary_accuracy: 0.8602 - val_loss: 0.3367 - val_precision: 0.7925 - val_recall: 0.5233\n",
            "Epoch 31/50\n",
            "\u001b[1m34/34\u001b[0m \u001b[32m━━━━━━━━━━━━━━━━━━━━\u001b[0m\u001b[37m\u001b[0m \u001b[1m0s\u001b[0m 12ms/step - auc: 0.8798 - binary_accuracy: 0.8499 - loss: 0.3436 - precision: 0.7410 - recall: 0.5455 - val_auc: 0.8948 - val_binary_accuracy: 0.8720 - val_loss: 0.3335 - val_precision: 0.7963 - val_recall: 0.5890\n",
            "Epoch 32/50\n",
            "\u001b[1m34/34\u001b[0m \u001b[32m━━━━━━━━━━━━━━━━━━━━\u001b[0m\u001b[37m\u001b[0m \u001b[1m0s\u001b[0m 11ms/step - auc: 0.8668 - binary_accuracy: 0.8455 - loss: 0.3548 - precision: 0.7186 - recall: 0.5445 - val_auc: 0.8947 - val_binary_accuracy: 0.8664 - val_loss: 0.3341 - val_precision: 0.7807 - val_recall: 0.5753\n",
            "Epoch 33/50\n",
            "\u001b[1m34/34\u001b[0m \u001b[32m━━━━━━━━━━━━━━━━━━━━\u001b[0m\u001b[37m\u001b[0m \u001b[1m0s\u001b[0m 12ms/step - auc: 0.8800 - binary_accuracy: 0.8525 - loss: 0.3397 - precision: 0.7420 - recall: 0.5533 - val_auc: 0.8956 - val_binary_accuracy: 0.8689 - val_loss: 0.3311 - val_precision: 0.7839 - val_recall: 0.5863\n",
            "Epoch 34/50\n",
            "\u001b[1m34/34\u001b[0m \u001b[32m━━━━━━━━━━━━━━━━━━━━\u001b[0m\u001b[37m\u001b[0m \u001b[1m0s\u001b[0m 11ms/step - auc: 0.8800 - binary_accuracy: 0.8486 - loss: 0.3406 - precision: 0.7430 - recall: 0.5398 - val_auc: 0.8973 - val_binary_accuracy: 0.8689 - val_loss: 0.3295 - val_precision: 0.7839 - val_recall: 0.5863\n",
            "Epoch 35/50\n",
            "\u001b[1m34/34\u001b[0m \u001b[32m━━━━━━━━━━━━━━━━━━━━\u001b[0m\u001b[37m\u001b[0m \u001b[1m0s\u001b[0m 12ms/step - auc: 0.8858 - binary_accuracy: 0.8510 - loss: 0.3324 - precision: 0.7391 - recall: 0.5450 - val_auc: 0.8996 - val_binary_accuracy: 0.8677 - val_loss: 0.3276 - val_precision: 0.7762 - val_recall: 0.5890\n",
            "Epoch 36/50\n",
            "\u001b[1m34/34\u001b[0m \u001b[32m━━━━━━━━━━━━━━━━━━━━\u001b[0m\u001b[37m\u001b[0m \u001b[1m0s\u001b[0m 12ms/step - auc: 0.8919 - binary_accuracy: 0.8510 - loss: 0.3285 - precision: 0.7492 - recall: 0.5520 - val_auc: 0.8992 - val_binary_accuracy: 0.8664 - val_loss: 0.3277 - val_precision: 0.7706 - val_recall: 0.5890\n",
            "Epoch 37/50\n",
            "\u001b[1m34/34\u001b[0m \u001b[32m━━━━━━━━━━━━━━━━━━━━\u001b[0m\u001b[37m\u001b[0m \u001b[1m1s\u001b[0m 14ms/step - auc: 0.8810 - binary_accuracy: 0.8497 - loss: 0.3438 - precision: 0.7343 - recall: 0.5612 - val_auc: 0.9015 - val_binary_accuracy: 0.8714 - val_loss: 0.3242 - val_precision: 0.7978 - val_recall: 0.5836\n",
            "Epoch 38/50\n",
            "\u001b[1m34/34\u001b[0m \u001b[32m━━━━━━━━━━━━━━━━━━━━\u001b[0m\u001b[37m\u001b[0m \u001b[1m0s\u001b[0m 13ms/step - auc: 0.8956 - binary_accuracy: 0.8499 - loss: 0.3280 - precision: 0.7393 - recall: 0.5476 - val_auc: 0.9013 - val_binary_accuracy: 0.8733 - val_loss: 0.3216 - val_precision: 0.7893 - val_recall: 0.6055\n",
            "Epoch 39/50\n",
            "\u001b[1m34/34\u001b[0m \u001b[32m━━━━━━━━━━━━━━━━━━━━\u001b[0m\u001b[37m\u001b[0m \u001b[1m0s\u001b[0m 12ms/step - auc: 0.9053 - binary_accuracy: 0.8670 - loss: 0.3066 - precision: 0.7670 - recall: 0.6034 - val_auc: 0.9027 - val_binary_accuracy: 0.8745 - val_loss: 0.3214 - val_precision: 0.7887 - val_recall: 0.6137\n",
            "Epoch 40/50\n",
            "\u001b[1m34/34\u001b[0m \u001b[32m━━━━━━━━━━━━━━━━━━━━\u001b[0m\u001b[37m\u001b[0m \u001b[1m0s\u001b[0m 12ms/step - auc: 0.9038 - binary_accuracy: 0.8559 - loss: 0.3148 - precision: 0.7427 - recall: 0.5801 - val_auc: 0.9002 - val_binary_accuracy: 0.8739 - val_loss: 0.3234 - val_precision: 0.7726 - val_recall: 0.6329\n",
            "Epoch 41/50\n",
            "\u001b[1m34/34\u001b[0m \u001b[32m━━━━━━━━━━━━━━━━━━━━\u001b[0m\u001b[37m\u001b[0m \u001b[1m0s\u001b[0m 11ms/step - auc: 0.9012 - binary_accuracy: 0.8621 - loss: 0.3150 - precision: 0.7626 - recall: 0.5826 - val_auc: 0.9023 - val_binary_accuracy: 0.8664 - val_loss: 0.3206 - val_precision: 0.7595 - val_recall: 0.6055\n",
            "Epoch 42/50\n",
            "\u001b[1m34/34\u001b[0m \u001b[32m━━━━━━━━━━━━━━━━━━━━\u001b[0m\u001b[37m\u001b[0m \u001b[1m0s\u001b[0m 11ms/step - auc: 0.9129 - binary_accuracy: 0.8706 - loss: 0.3015 - precision: 0.7712 - recall: 0.6187 - val_auc: 0.9013 - val_binary_accuracy: 0.8677 - val_loss: 0.3223 - val_precision: 0.7559 - val_recall: 0.6192\n",
            "Epoch 43/50\n",
            "\u001b[1m34/34\u001b[0m \u001b[32m━━━━━━━━━━━━━━━━━━━━\u001b[0m\u001b[37m\u001b[0m \u001b[1m0s\u001b[0m 12ms/step - auc: 0.9021 - binary_accuracy: 0.8602 - loss: 0.3177 - precision: 0.7609 - recall: 0.5966 - val_auc: 0.9021 - val_binary_accuracy: 0.8714 - val_loss: 0.3189 - val_precision: 0.7829 - val_recall: 0.6027\n",
            "Epoch 44/50\n",
            "\u001b[1m34/34\u001b[0m \u001b[32m━━━━━━━━━━━━━━━━━━━━\u001b[0m\u001b[37m\u001b[0m \u001b[1m0s\u001b[0m 12ms/step - auc: 0.9009 - binary_accuracy: 0.8640 - loss: 0.3154 - precision: 0.7670 - recall: 0.5963 - val_auc: 0.9052 - val_binary_accuracy: 0.8702 - val_loss: 0.3180 - val_precision: 0.7679 - val_recall: 0.6164\n",
            "Epoch 45/50\n",
            "\u001b[1m34/34\u001b[0m \u001b[32m━━━━━━━━━━━━━━━━━━━━\u001b[0m\u001b[37m\u001b[0m \u001b[1m0s\u001b[0m 11ms/step - auc: 0.9055 - binary_accuracy: 0.8644 - loss: 0.3086 - precision: 0.7675 - recall: 0.5925 - val_auc: 0.9045 - val_binary_accuracy: 0.8739 - val_loss: 0.3170 - val_precision: 0.7964 - val_recall: 0.6000\n",
            "Epoch 46/50\n",
            "\u001b[1m34/34\u001b[0m \u001b[32m━━━━━━━━━━━━━━━━━━━━\u001b[0m\u001b[37m\u001b[0m \u001b[1m0s\u001b[0m 12ms/step - auc: 0.9122 - binary_accuracy: 0.8687 - loss: 0.2979 - precision: 0.7815 - recall: 0.6013 - val_auc: 0.9073 - val_binary_accuracy: 0.8783 - val_loss: 0.3109 - val_precision: 0.7993 - val_recall: 0.6219\n",
            "Epoch 47/50\n",
            "\u001b[1m34/34\u001b[0m \u001b[32m━━━━━━━━━━━━━━━━━━━━\u001b[0m\u001b[37m\u001b[0m \u001b[1m0s\u001b[0m 12ms/step - auc: 0.9079 - binary_accuracy: 0.8707 - loss: 0.3013 - precision: 0.7723 - recall: 0.6113 - val_auc: 0.9079 - val_binary_accuracy: 0.8714 - val_loss: 0.3114 - val_precision: 0.7732 - val_recall: 0.6164\n",
            "Epoch 48/50\n",
            "\u001b[1m34/34\u001b[0m \u001b[32m━━━━━━━━━━━━━━━━━━━━\u001b[0m\u001b[37m\u001b[0m \u001b[1m0s\u001b[0m 12ms/step - auc: 0.9078 - binary_accuracy: 0.8671 - loss: 0.3018 - precision: 0.7710 - recall: 0.6003 - val_auc: 0.9069 - val_binary_accuracy: 0.8733 - val_loss: 0.3090 - val_precision: 0.7872 - val_recall: 0.6082\n",
            "Epoch 49/50\n",
            "\u001b[1m34/34\u001b[0m \u001b[32m━━━━━━━━━━━━━━━━━━━━\u001b[0m\u001b[37m\u001b[0m \u001b[1m0s\u001b[0m 12ms/step - auc: 0.9137 - binary_accuracy: 0.8695 - loss: 0.3001 - precision: 0.7892 - recall: 0.6014 - val_auc: 0.9067 - val_binary_accuracy: 0.8764 - val_loss: 0.3093 - val_precision: 0.7930 - val_recall: 0.6192\n",
            "Epoch 50/50\n",
            "\u001b[1m34/34\u001b[0m \u001b[32m━━━━━━━━━━━━━━━━━━━━\u001b[0m\u001b[37m\u001b[0m \u001b[1m0s\u001b[0m 13ms/step - auc: 0.9138 - binary_accuracy: 0.8679 - loss: 0.2985 - precision: 0.7722 - recall: 0.6125 - val_auc: 0.9093 - val_binary_accuracy: 0.8764 - val_loss: 0.3077 - val_precision: 0.7993 - val_recall: 0.6110\n",
            "WARNING:tensorflow:5 out of the last 9 calls to <function TensorFlowTrainer.make_predict_function.<locals>.one_step_on_data_distributed at 0x000001A68437BC40> triggered tf.function retracing. Tracing is expensive and the excessive number of tracings could be due to (1) creating @tf.function repeatedly in a loop, (2) passing tensors with different shapes, (3) passing Python objects instead of tensors. For (1), please define your @tf.function outside of the loop. For (2), @tf.function has reduce_retracing=True option that can avoid unnecessary retracing. For (3), please refer to https://www.tensorflow.org/guide/function#controlling_retracing and https://www.tensorflow.org/api_docs/python/tf/function for  more details.\n",
            "\u001b[1m1/4\u001b[0m \u001b[32m━━━━━\u001b[0m\u001b[37m━━━━━━━━━━━━━━━\u001b[0m \u001b[1m0s\u001b[0m 235ms/stepWARNING:tensorflow:6 out of the last 12 calls to <function TensorFlowTrainer.make_predict_function.<locals>.one_step_on_data_distributed at 0x000001A68437BC40> triggered tf.function retracing. Tracing is expensive and the excessive number of tracings could be due to (1) creating @tf.function repeatedly in a loop, (2) passing tensors with different shapes, (3) passing Python objects instead of tensors. For (1), please define your @tf.function outside of the loop. For (2), @tf.function has reduce_retracing=True option that can avoid unnecessary retracing. For (3), please refer to https://www.tensorflow.org/guide/function#controlling_retracing and https://www.tensorflow.org/api_docs/python/tf/function for  more details.\n",
            "\u001b[1m4/4\u001b[0m \u001b[32m━━━━━━━━━━━━━━━━━━━━\u001b[0m\u001b[37m\u001b[0m \u001b[1m0s\u001b[0m 69ms/step\n",
            "Best thresholds per class: [np.float64(0.5500000000000002), np.float64(0.3500000000000001), np.float64(0.15000000000000002), np.float64(0.1), np.float64(0.1), np.float64(0.1)]\n",
            "F1 macro score on test: 0.3580\n",
            "\n",
            "==============================================\n",
            "Training model with lr=0.0005, batch_size=64\n",
            "==============================================\n",
            "\n",
            "Epoch 1/50\n",
            "\u001b[1m17/17\u001b[0m \u001b[32m━━━━━━━━━━━━━━━━━━━━\u001b[0m\u001b[37m\u001b[0m \u001b[1m7s\u001b[0m 91ms/step - auc: 0.5103 - binary_accuracy: 0.4943 - loss: 0.9248 - precision: 0.2343 - recall: 0.5200 - val_auc: 0.5532 - val_binary_accuracy: 0.5418 - val_loss: 0.6829 - val_precision: 0.2601 - val_recall: 0.5479\n",
            "Epoch 2/50\n",
            "\u001b[1m17/17\u001b[0m \u001b[32m━━━━━━━━━━━━━━━━━━━━\u001b[0m\u001b[37m\u001b[0m \u001b[1m0s\u001b[0m 21ms/step - auc: 0.5920 - binary_accuracy: 0.5554 - loss: 0.8194 - precision: 0.2746 - recall: 0.5782 - val_auc: 0.5929 - val_binary_accuracy: 0.5462 - val_loss: 0.6790 - val_precision: 0.2782 - val_recall: 0.6219\n",
            "Epoch 3/50\n",
            "\u001b[1m17/17\u001b[0m \u001b[32m━━━━━━━━━━━━━━━━━━━━\u001b[0m\u001b[37m\u001b[0m \u001b[1m0s\u001b[0m 18ms/step - auc: 0.6177 - binary_accuracy: 0.5763 - loss: 0.7748 - precision: 0.2966 - recall: 0.5919 - val_auc: 0.6071 - val_binary_accuracy: 0.5424 - val_loss: 0.6736 - val_precision: 0.2783 - val_recall: 0.6329\n",
            "Epoch 4/50\n",
            "\u001b[1m17/17\u001b[0m \u001b[32m━━━━━━━━━━━━━━━━━━━━\u001b[0m\u001b[37m\u001b[0m \u001b[1m0s\u001b[0m 21ms/step - auc: 0.6732 - binary_accuracy: 0.6035 - loss: 0.7190 - precision: 0.3271 - recall: 0.6525 - val_auc: 0.6158 - val_binary_accuracy: 0.5587 - val_loss: 0.6658 - val_precision: 0.2791 - val_recall: 0.5918\n",
            "Epoch 5/50\n",
            "\u001b[1m17/17\u001b[0m \u001b[32m━━━━━━━━━━━━━━━━━━━━\u001b[0m\u001b[37m\u001b[0m \u001b[1m0s\u001b[0m 20ms/step - auc: 0.6742 - binary_accuracy: 0.6056 - loss: 0.6988 - precision: 0.3227 - recall: 0.6231 - val_auc: 0.6277 - val_binary_accuracy: 0.6205 - val_loss: 0.6586 - val_precision: 0.3110 - val_recall: 0.5479\n",
            "Epoch 6/50\n",
            "\u001b[1m17/17\u001b[0m \u001b[32m━━━━━━━━━━━━━━━━━━━━\u001b[0m\u001b[37m\u001b[0m \u001b[1m0s\u001b[0m 20ms/step - auc: 0.6873 - binary_accuracy: 0.6298 - loss: 0.6856 - precision: 0.3461 - recall: 0.6509 - val_auc: 0.6504 - val_binary_accuracy: 0.6629 - val_loss: 0.6503 - val_precision: 0.3484 - val_recall: 0.5507\n",
            "Epoch 7/50\n",
            "\u001b[1m17/17\u001b[0m \u001b[32m━━━━━━━━━━━━━━━━━━━━\u001b[0m\u001b[37m\u001b[0m \u001b[1m0s\u001b[0m 21ms/step - auc: 0.7098 - binary_accuracy: 0.6385 - loss: 0.6557 - precision: 0.3557 - recall: 0.6726 - val_auc: 0.6691 - val_binary_accuracy: 0.7122 - val_loss: 0.6397 - val_precision: 0.3974 - val_recall: 0.5096\n",
            "Epoch 8/50\n",
            "\u001b[1m17/17\u001b[0m \u001b[32m━━━━━━━━━━━━━━━━━━━━\u001b[0m\u001b[37m\u001b[0m \u001b[1m0s\u001b[0m 25ms/step - auc: 0.7190 - binary_accuracy: 0.6519 - loss: 0.6311 - precision: 0.3622 - recall: 0.6587 - val_auc: 0.6773 - val_binary_accuracy: 0.7247 - val_loss: 0.6297 - val_precision: 0.4064 - val_recall: 0.4521\n",
            "Epoch 9/50\n",
            "\u001b[1m17/17\u001b[0m \u001b[32m━━━━━━━━━━━━━━━━━━━━\u001b[0m\u001b[37m\u001b[0m \u001b[1m0s\u001b[0m 18ms/step - auc: 0.7141 - binary_accuracy: 0.6553 - loss: 0.6344 - precision: 0.3645 - recall: 0.6476 - val_auc: 0.6886 - val_binary_accuracy: 0.7609 - val_loss: 0.6188 - val_precision: 0.4724 - val_recall: 0.4219\n",
            "Epoch 10/50\n",
            "\u001b[1m17/17\u001b[0m \u001b[32m━━━━━━━━━━━━━━━━━━━━\u001b[0m\u001b[37m\u001b[0m \u001b[1m0s\u001b[0m 18ms/step - auc: 0.7519 - binary_accuracy: 0.6827 - loss: 0.5921 - precision: 0.3895 - recall: 0.6723 - val_auc: 0.7034 - val_binary_accuracy: 0.7884 - val_loss: 0.6082 - val_precision: 0.5455 - val_recall: 0.4274\n",
            "Epoch 11/50\n",
            "\u001b[1m17/17\u001b[0m \u001b[32m━━━━━━━━━━━━━━━━━━━━\u001b[0m\u001b[37m\u001b[0m \u001b[1m0s\u001b[0m 19ms/step - auc: 0.7441 - binary_accuracy: 0.6843 - loss: 0.5858 - precision: 0.3934 - recall: 0.6526 - val_auc: 0.7216 - val_binary_accuracy: 0.8015 - val_loss: 0.5963 - val_precision: 0.5959 - val_recall: 0.4000\n",
            "Epoch 12/50\n",
            "\u001b[1m17/17\u001b[0m \u001b[32m━━━━━━━━━━━━━━━━━━━━\u001b[0m\u001b[37m\u001b[0m \u001b[1m0s\u001b[0m 17ms/step - auc: 0.7533 - binary_accuracy: 0.7079 - loss: 0.5708 - precision: 0.4173 - recall: 0.6549 - val_auc: 0.7315 - val_binary_accuracy: 0.8084 - val_loss: 0.5845 - val_precision: 0.6239 - val_recall: 0.4000\n",
            "Epoch 13/50\n",
            "\u001b[1m17/17\u001b[0m \u001b[32m━━━━━━━━━━━━━━━━━━━━\u001b[0m\u001b[37m\u001b[0m \u001b[1m0s\u001b[0m 18ms/step - auc: 0.7610 - binary_accuracy: 0.7087 - loss: 0.5622 - precision: 0.4128 - recall: 0.6568 - val_auc: 0.7487 - val_binary_accuracy: 0.8208 - val_loss: 0.5713 - val_precision: 0.7097 - val_recall: 0.3616\n",
            "Epoch 14/50\n",
            "\u001b[1m17/17\u001b[0m \u001b[32m━━━━━━━━━━━━━━━━━━━━\u001b[0m\u001b[37m\u001b[0m \u001b[1m0s\u001b[0m 19ms/step - auc: 0.7723 - binary_accuracy: 0.7129 - loss: 0.5483 - precision: 0.4270 - recall: 0.6586 - val_auc: 0.7641 - val_binary_accuracy: 0.8246 - val_loss: 0.5573 - val_precision: 0.7471 - val_recall: 0.3479\n",
            "Epoch 15/50\n",
            "\u001b[1m17/17\u001b[0m \u001b[32m━━━━━━━━━━━━━━━━━━━━\u001b[0m\u001b[37m\u001b[0m \u001b[1m0s\u001b[0m 17ms/step - auc: 0.7864 - binary_accuracy: 0.7393 - loss: 0.5317 - precision: 0.4609 - recall: 0.6600 - val_auc: 0.7795 - val_binary_accuracy: 0.8246 - val_loss: 0.5437 - val_precision: 0.7658 - val_recall: 0.3315\n",
            "Epoch 16/50\n",
            "\u001b[1m17/17\u001b[0m \u001b[32m━━━━━━━━━━━━━━━━━━━━\u001b[0m\u001b[37m\u001b[0m \u001b[1m0s\u001b[0m 18ms/step - auc: 0.7672 - binary_accuracy: 0.7321 - loss: 0.5329 - precision: 0.4463 - recall: 0.6273 - val_auc: 0.7967 - val_binary_accuracy: 0.8240 - val_loss: 0.5296 - val_precision: 0.7748 - val_recall: 0.3205\n",
            "Epoch 17/50\n",
            "\u001b[1m17/17\u001b[0m \u001b[32m━━━━━━━━━━━━━━━━━━━━\u001b[0m\u001b[37m\u001b[0m \u001b[1m0s\u001b[0m 17ms/step - auc: 0.7847 - binary_accuracy: 0.7445 - loss: 0.5096 - precision: 0.4606 - recall: 0.6084 - val_auc: 0.8083 - val_binary_accuracy: 0.8290 - val_loss: 0.5151 - val_precision: 0.7935 - val_recall: 0.3370\n",
            "Epoch 18/50\n",
            "\u001b[1m17/17\u001b[0m \u001b[32m━━━━━━━━━━━━━━━━━━━━\u001b[0m\u001b[37m\u001b[0m \u001b[1m0s\u001b[0m 17ms/step - auc: 0.7940 - binary_accuracy: 0.7635 - loss: 0.4979 - precision: 0.4866 - recall: 0.6263 - val_auc: 0.8150 - val_binary_accuracy: 0.8296 - val_loss: 0.5037 - val_precision: 0.7949 - val_recall: 0.3397\n",
            "Epoch 19/50\n",
            "\u001b[1m17/17\u001b[0m \u001b[32m━━━━━━━━━━━━━━━━━━━━\u001b[0m\u001b[37m\u001b[0m \u001b[1m0s\u001b[0m 18ms/step - auc: 0.7880 - binary_accuracy: 0.7620 - loss: 0.4965 - precision: 0.4956 - recall: 0.6220 - val_auc: 0.8277 - val_binary_accuracy: 0.8327 - val_loss: 0.4924 - val_precision: 0.8012 - val_recall: 0.3534\n",
            "Epoch 20/50\n",
            "\u001b[1m17/17\u001b[0m \u001b[32m━━━━━━━━━━━━━━━━━━━━\u001b[0m\u001b[37m\u001b[0m \u001b[1m0s\u001b[0m 17ms/step - auc: 0.8107 - binary_accuracy: 0.7829 - loss: 0.4715 - precision: 0.5273 - recall: 0.6365 - val_auc: 0.8372 - val_binary_accuracy: 0.8333 - val_loss: 0.4797 - val_precision: 0.8141 - val_recall: 0.3479\n",
            "Epoch 21/50\n",
            "\u001b[1m17/17\u001b[0m \u001b[32m━━━━━━━━━━━━━━━━━━━━\u001b[0m\u001b[37m\u001b[0m \u001b[1m0s\u001b[0m 17ms/step - auc: 0.8069 - binary_accuracy: 0.7740 - loss: 0.4701 - precision: 0.5035 - recall: 0.6159 - val_auc: 0.8457 - val_binary_accuracy: 0.8365 - val_loss: 0.4676 - val_precision: 0.8160 - val_recall: 0.3644\n",
            "Epoch 22/50\n",
            "\u001b[1m17/17\u001b[0m \u001b[32m━━━━━━━━━━━━━━━━━━━━\u001b[0m\u001b[37m\u001b[0m \u001b[1m0s\u001b[0m 18ms/step - auc: 0.8232 - binary_accuracy: 0.7911 - loss: 0.4499 - precision: 0.5401 - recall: 0.6211 - val_auc: 0.8506 - val_binary_accuracy: 0.8352 - val_loss: 0.4559 - val_precision: 0.8176 - val_recall: 0.3562\n",
            "Epoch 23/50\n",
            "\u001b[1m17/17\u001b[0m \u001b[32m━━━━━━━━━━━━━━━━━━━━\u001b[0m\u001b[37m\u001b[0m \u001b[1m0s\u001b[0m 17ms/step - auc: 0.8186 - binary_accuracy: 0.7933 - loss: 0.4440 - precision: 0.5493 - recall: 0.6029 - val_auc: 0.8561 - val_binary_accuracy: 0.8408 - val_loss: 0.4427 - val_precision: 0.8235 - val_recall: 0.3836\n",
            "Epoch 24/50\n",
            "\u001b[1m17/17\u001b[0m \u001b[32m━━━━━━━━━━━━━━━━━━━━\u001b[0m\u001b[37m\u001b[0m \u001b[1m0s\u001b[0m 19ms/step - auc: 0.8175 - binary_accuracy: 0.7906 - loss: 0.4441 - precision: 0.5435 - recall: 0.5797 - val_auc: 0.8615 - val_binary_accuracy: 0.8396 - val_loss: 0.4324 - val_precision: 0.8253 - val_recall: 0.3753\n",
            "Epoch 25/50\n",
            "\u001b[1m17/17\u001b[0m \u001b[32m━━━━━━━━━━━━━━━━━━━━\u001b[0m\u001b[37m\u001b[0m \u001b[1m0s\u001b[0m 17ms/step - auc: 0.8415 - binary_accuracy: 0.8158 - loss: 0.4186 - precision: 0.6030 - recall: 0.6099 - val_auc: 0.8664 - val_binary_accuracy: 0.8458 - val_loss: 0.4219 - val_precision: 0.8278 - val_recall: 0.4082\n",
            "Epoch 26/50\n",
            "\u001b[1m17/17\u001b[0m \u001b[32m━━━━━━━━━━━━━━━━━━━━\u001b[0m\u001b[37m\u001b[0m \u001b[1m0s\u001b[0m 18ms/step - auc: 0.8336 - binary_accuracy: 0.8088 - loss: 0.4233 - precision: 0.5874 - recall: 0.5953 - val_auc: 0.8699 - val_binary_accuracy: 0.8502 - val_loss: 0.4130 - val_precision: 0.8453 - val_recall: 0.4192\n",
            "Epoch 27/50\n",
            "\u001b[1m17/17\u001b[0m \u001b[32m━━━━━━━━━━━━━━━━━━━━\u001b[0m\u001b[37m\u001b[0m \u001b[1m0s\u001b[0m 18ms/step - auc: 0.8302 - binary_accuracy: 0.8102 - loss: 0.4210 - precision: 0.5883 - recall: 0.5797 - val_auc: 0.8703 - val_binary_accuracy: 0.8502 - val_loss: 0.4050 - val_precision: 0.8307 - val_recall: 0.4301\n",
            "Epoch 28/50\n",
            "\u001b[1m17/17\u001b[0m \u001b[32m━━━━━━━━━━━━━━━━━━━━\u001b[0m\u001b[37m\u001b[0m \u001b[1m0s\u001b[0m 18ms/step - auc: 0.8379 - binary_accuracy: 0.8143 - loss: 0.4155 - precision: 0.6102 - recall: 0.5755 - val_auc: 0.8726 - val_binary_accuracy: 0.8489 - val_loss: 0.3955 - val_precision: 0.8090 - val_recall: 0.4411\n",
            "Epoch 29/50\n",
            "\u001b[1m17/17\u001b[0m \u001b[32m━━━━━━━━━━━━━━━━━━━━\u001b[0m\u001b[37m\u001b[0m \u001b[1m0s\u001b[0m 18ms/step - auc: 0.8380 - binary_accuracy: 0.8188 - loss: 0.4096 - precision: 0.6188 - recall: 0.5676 - val_auc: 0.8762 - val_binary_accuracy: 0.8539 - val_loss: 0.3868 - val_precision: 0.8259 - val_recall: 0.4548\n",
            "Epoch 30/50\n",
            "\u001b[1m17/17\u001b[0m \u001b[32m━━━━━━━━━━━━━━━━━━━━\u001b[0m\u001b[37m\u001b[0m \u001b[1m0s\u001b[0m 18ms/step - auc: 0.8520 - binary_accuracy: 0.8223 - loss: 0.3925 - precision: 0.6361 - recall: 0.5582 - val_auc: 0.8783 - val_binary_accuracy: 0.8571 - val_loss: 0.3795 - val_precision: 0.8148 - val_recall: 0.4822\n",
            "Epoch 31/50\n",
            "\u001b[1m17/17\u001b[0m \u001b[32m━━━━━━━━━━━━━━━━━━━━\u001b[0m\u001b[37m\u001b[0m \u001b[1m0s\u001b[0m 17ms/step - auc: 0.8466 - binary_accuracy: 0.8267 - loss: 0.3913 - precision: 0.6463 - recall: 0.5532 - val_auc: 0.8825 - val_binary_accuracy: 0.8614 - val_loss: 0.3720 - val_precision: 0.8421 - val_recall: 0.4822\n",
            "Epoch 32/50\n",
            "\u001b[1m17/17\u001b[0m \u001b[32m━━━━━━━━━━━━━━━━━━━━\u001b[0m\u001b[37m\u001b[0m \u001b[1m0s\u001b[0m 16ms/step - auc: 0.8450 - binary_accuracy: 0.8310 - loss: 0.3897 - precision: 0.6550 - recall: 0.5626 - val_auc: 0.8872 - val_binary_accuracy: 0.8664 - val_loss: 0.3659 - val_precision: 0.8416 - val_recall: 0.5096\n",
            "Epoch 33/50\n",
            "\u001b[1m17/17\u001b[0m \u001b[32m━━━━━━━━━━━━━━━━━━━━\u001b[0m\u001b[37m\u001b[0m \u001b[1m0s\u001b[0m 18ms/step - auc: 0.8551 - binary_accuracy: 0.8339 - loss: 0.3848 - precision: 0.6661 - recall: 0.5558 - val_auc: 0.8887 - val_binary_accuracy: 0.8658 - val_loss: 0.3617 - val_precision: 0.8319 - val_recall: 0.5151\n",
            "Epoch 34/50\n",
            "\u001b[1m17/17\u001b[0m \u001b[32m━━━━━━━━━━━━━━━━━━━━\u001b[0m\u001b[37m\u001b[0m \u001b[1m0s\u001b[0m 18ms/step - auc: 0.8748 - binary_accuracy: 0.8407 - loss: 0.3618 - precision: 0.6928 - recall: 0.5784 - val_auc: 0.8919 - val_binary_accuracy: 0.8589 - val_loss: 0.3550 - val_precision: 0.7837 - val_recall: 0.5260\n",
            "Epoch 35/50\n",
            "\u001b[1m17/17\u001b[0m \u001b[32m━━━━━━━━━━━━━━━━━━━━\u001b[0m\u001b[37m\u001b[0m \u001b[1m0s\u001b[0m 18ms/step - auc: 0.8674 - binary_accuracy: 0.8314 - loss: 0.3673 - precision: 0.6584 - recall: 0.5605 - val_auc: 0.8937 - val_binary_accuracy: 0.8639 - val_loss: 0.3492 - val_precision: 0.7928 - val_recall: 0.5452\n",
            "Epoch 36/50\n",
            "\u001b[1m17/17\u001b[0m \u001b[32m━━━━━━━━━━━━━━━━━━━━\u001b[0m\u001b[37m\u001b[0m \u001b[1m0s\u001b[0m 18ms/step - auc: 0.8738 - binary_accuracy: 0.8462 - loss: 0.3558 - precision: 0.6956 - recall: 0.5800 - val_auc: 0.8972 - val_binary_accuracy: 0.8614 - val_loss: 0.3427 - val_precision: 0.7782 - val_recall: 0.5479\n",
            "Epoch 37/50\n",
            "\u001b[1m17/17\u001b[0m \u001b[32m━━━━━━━━━━━━━━━━━━━━\u001b[0m\u001b[37m\u001b[0m \u001b[1m0s\u001b[0m 17ms/step - auc: 0.8611 - binary_accuracy: 0.8353 - loss: 0.3694 - precision: 0.6797 - recall: 0.5447 - val_auc: 0.8951 - val_binary_accuracy: 0.8633 - val_loss: 0.3408 - val_precision: 0.7897 - val_recall: 0.5452\n",
            "Epoch 38/50\n",
            "\u001b[1m17/17\u001b[0m \u001b[32m━━━━━━━━━━━━━━━━━━━━\u001b[0m\u001b[37m\u001b[0m \u001b[1m0s\u001b[0m 18ms/step - auc: 0.8639 - binary_accuracy: 0.8354 - loss: 0.3684 - precision: 0.6812 - recall: 0.5524 - val_auc: 0.8971 - val_binary_accuracy: 0.8652 - val_loss: 0.3365 - val_precision: 0.8016 - val_recall: 0.5425\n",
            "Epoch 39/50\n",
            "\u001b[1m17/17\u001b[0m \u001b[32m━━━━━━━━━━━━━━━━━━━━\u001b[0m\u001b[37m\u001b[0m \u001b[1m0s\u001b[0m 22ms/step - auc: 0.8816 - binary_accuracy: 0.8477 - loss: 0.3462 - precision: 0.7103 - recall: 0.5706 - val_auc: 0.8990 - val_binary_accuracy: 0.8614 - val_loss: 0.3319 - val_precision: 0.7895 - val_recall: 0.5342\n",
            "Epoch 40/50\n",
            "\u001b[1m17/17\u001b[0m \u001b[32m━━━━━━━━━━━━━━━━━━━━\u001b[0m\u001b[37m\u001b[0m \u001b[1m0s\u001b[0m 17ms/step - auc: 0.8827 - binary_accuracy: 0.8470 - loss: 0.3472 - precision: 0.7154 - recall: 0.5637 - val_auc: 0.8990 - val_binary_accuracy: 0.8627 - val_loss: 0.3292 - val_precision: 0.7984 - val_recall: 0.5315\n",
            "Epoch 41/50\n",
            "\u001b[1m17/17\u001b[0m \u001b[32m━━━━━━━━━━━━━━━━━━━━\u001b[0m\u001b[37m\u001b[0m \u001b[1m0s\u001b[0m 17ms/step - auc: 0.8756 - binary_accuracy: 0.8457 - loss: 0.3526 - precision: 0.7073 - recall: 0.5663 - val_auc: 0.9005 - val_binary_accuracy: 0.8614 - val_loss: 0.3262 - val_precision: 0.7918 - val_recall: 0.5315\n",
            "Epoch 42/50\n",
            "\u001b[1m17/17\u001b[0m \u001b[32m━━━━━━━━━━━━━━━━━━━━\u001b[0m\u001b[37m\u001b[0m \u001b[1m0s\u001b[0m 18ms/step - auc: 0.8817 - binary_accuracy: 0.8502 - loss: 0.3431 - precision: 0.7430 - recall: 0.5460 - val_auc: 0.9002 - val_binary_accuracy: 0.8652 - val_loss: 0.3240 - val_precision: 0.7899 - val_recall: 0.5562\n",
            "Epoch 43/50\n",
            "\u001b[1m17/17\u001b[0m \u001b[32m━━━━━━━━━━━━━━━━━━━━\u001b[0m\u001b[37m\u001b[0m \u001b[1m0s\u001b[0m 21ms/step - auc: 0.8776 - binary_accuracy: 0.8427 - loss: 0.3483 - precision: 0.7083 - recall: 0.5547 - val_auc: 0.8993 - val_binary_accuracy: 0.8620 - val_loss: 0.3232 - val_precision: 0.7687 - val_recall: 0.5644\n",
            "Epoch 44/50\n",
            "\u001b[1m17/17\u001b[0m \u001b[32m━━━━━━━━━━━━━━━━━━━━\u001b[0m\u001b[37m\u001b[0m \u001b[1m0s\u001b[0m 18ms/step - auc: 0.8880 - binary_accuracy: 0.8577 - loss: 0.3342 - precision: 0.7463 - recall: 0.5870 - val_auc: 0.9025 - val_binary_accuracy: 0.8639 - val_loss: 0.3195 - val_precision: 0.7732 - val_recall: 0.5699\n",
            "Epoch 45/50\n",
            "\u001b[1m17/17\u001b[0m \u001b[32m━━━━━━━━━━━━━━━━━━━━\u001b[0m\u001b[37m\u001b[0m \u001b[1m0s\u001b[0m 21ms/step - auc: 0.8883 - binary_accuracy: 0.8567 - loss: 0.3355 - precision: 0.7393 - recall: 0.5814 - val_auc: 0.9047 - val_binary_accuracy: 0.8658 - val_loss: 0.3163 - val_precision: 0.7622 - val_recall: 0.5973\n",
            "Epoch 46/50\n",
            "\u001b[1m17/17\u001b[0m \u001b[32m━━━━━━━━━━━━━━━━━━━━\u001b[0m\u001b[37m\u001b[0m \u001b[1m0s\u001b[0m 19ms/step - auc: 0.8947 - binary_accuracy: 0.8527 - loss: 0.3250 - precision: 0.7299 - recall: 0.5829 - val_auc: 0.9056 - val_binary_accuracy: 0.8664 - val_loss: 0.3150 - val_precision: 0.7706 - val_recall: 0.5890\n",
            "Epoch 47/50\n",
            "\u001b[1m17/17\u001b[0m \u001b[32m━━━━━━━━━━━━━━━━━━━━\u001b[0m\u001b[37m\u001b[0m \u001b[1m0s\u001b[0m 19ms/step - auc: 0.8964 - binary_accuracy: 0.8518 - loss: 0.3231 - precision: 0.7332 - recall: 0.5602 - val_auc: 0.9085 - val_binary_accuracy: 0.8620 - val_loss: 0.3099 - val_precision: 0.7483 - val_recall: 0.5945\n",
            "Epoch 48/50\n",
            "\u001b[1m17/17\u001b[0m \u001b[32m━━━━━━━━━━━━━━━━━━━━\u001b[0m\u001b[37m\u001b[0m \u001b[1m0s\u001b[0m 24ms/step - auc: 0.8895 - binary_accuracy: 0.8508 - loss: 0.3300 - precision: 0.7261 - recall: 0.5584 - val_auc: 0.9092 - val_binary_accuracy: 0.8652 - val_loss: 0.3087 - val_precision: 0.7690 - val_recall: 0.5836\n",
            "Epoch 49/50\n",
            "\u001b[1m17/17\u001b[0m \u001b[32m━━━━━━━━━━━━━━━━━━━━\u001b[0m\u001b[37m\u001b[0m \u001b[1m1s\u001b[0m 42ms/step - auc: 0.8954 - binary_accuracy: 0.8613 - loss: 0.3225 - precision: 0.7517 - recall: 0.5899 - val_auc: 0.9101 - val_binary_accuracy: 0.8677 - val_loss: 0.3063 - val_precision: 0.7762 - val_recall: 0.5890\n",
            "Epoch 50/50\n",
            "\u001b[1m17/17\u001b[0m \u001b[32m━━━━━━━━━━━━━━━━━━━━\u001b[0m\u001b[37m\u001b[0m \u001b[1m1s\u001b[0m 23ms/step - auc: 0.8987 - binary_accuracy: 0.8592 - loss: 0.3212 - precision: 0.7466 - recall: 0.6026 - val_auc: 0.9101 - val_binary_accuracy: 0.8702 - val_loss: 0.3060 - val_precision: 0.7794 - val_recall: 0.6000\n",
            "\u001b[1m4/4\u001b[0m \u001b[32m━━━━━━━━━━━━━━━━━━━━\u001b[0m\u001b[37m\u001b[0m \u001b[1m1s\u001b[0m 103ms/step\n",
            "Best thresholds per class: [np.float64(0.6500000000000001), np.float64(0.45000000000000007), np.float64(0.1), np.float64(0.15000000000000002), np.float64(0.1), np.float64(0.1)]\n",
            "F1 macro score on test: 0.4020\n"
          ]
        }
      ],
      "source": [
        "# Callbacks\n",
        "early_stop = EarlyStopping(monitor='val_loss', patience=10, restore_best_weights=True)\n",
        "reduce_lr = ReduceLROnPlateau(monitor='val_loss', factor=0.5, patience=5, min_lr=1e-6)\n",
        "\n",
        "# Manual hyperparameter tuning\n",
        "best_f1 = 0\n",
        "best_params = {}\n",
        "\n",
        "for lr in [0.001, 0.0005]:\n",
        "    for batch_size in [32, 64]:\n",
        "        print(f\"\\n==============================================\")\n",
        "        print(f\"Training model with lr={lr}, batch_size={batch_size}\")\n",
        "        print(f\"==============================================\\n\")\n",
        "        \n",
        "        model = build_model(input_dim, output_dim, lr=lr, dropout_rate=0.3)\n",
        "        history = model.fit(\n",
        "            X_final, y_final,\n",
        "            epochs=50,\n",
        "            batch_size=batch_size,\n",
        "            validation_split=0.2,\n",
        "            callbacks=[early_stop],\n",
        "            verbose=1\n",
        "        )\n",
        "\n",
        "        # Evaluasi di test set\n",
        "        y_pred_probs = model.predict(X_test)\n",
        "\n",
        "        # Cari threshold terbaik per class\n",
        "        thresholds = np.arange(0.1, 0.9, 0.05)\n",
        "        best_thresholds = []\n",
        "        for i in range(output_dim):\n",
        "            f1_scores = []\n",
        "            for t in thresholds:\n",
        "                preds = (y_pred_probs[:, i] > t).astype(int)\n",
        "                f1 = f1_score(y_test[:, i], preds)\n",
        "                f1_scores.append(f1)\n",
        "            best_t = thresholds[np.argmax(f1_scores)]\n",
        "            best_thresholds.append(best_t)\n",
        "\n",
        "        print(\"Best thresholds per class:\", best_thresholds)\n",
        "\n",
        "        y_pred = np.zeros_like(y_pred_probs, dtype=int)\n",
        "        for i in range(output_dim):\n",
        "            y_pred[:, i] = (y_pred_probs[:, i] > best_thresholds[i]).astype(int)\n",
        "\n",
        "        f1_macro = f1_score(y_test, y_pred, average='macro')\n",
        "        print(f\"F1 macro score on test: {f1_macro:.4f}\")\n",
        "\n",
        "        if f1_macro > best_f1:\n",
        "            best_f1 = f1_macro\n",
        "            best_params = {'lr': lr, 'batch_size': batch_size, 'thresholds': best_thresholds}\n",
        "            best_model = model\n",
        "            best_y_pred = y_pred"
      ]
    },
    {
      "cell_type": "code",
      "execution_count": 26,
      "metadata": {},
      "outputs": [
        {
          "name": "stdout",
          "output_type": "stream",
          "text": [
            "\n",
            "=== ✅ Best Hyperparameters ===\n",
            "{'lr': 0.0005, 'batch_size': 64, 'thresholds': [np.float64(0.6500000000000001), np.float64(0.45000000000000007), np.float64(0.1), np.float64(0.15000000000000002), np.float64(0.1), np.float64(0.1)]}\n",
            "Best F1 macro score: 0.4020\n"
          ]
        }
      ],
      "source": [
        "print(\"\\n=== ✅ Best Hyperparameters ===\")\n",
        "print(best_params)\n",
        "print(f\"Best F1 macro score: {best_f1:.4f}\")"
      ]
    },
    {
      "cell_type": "markdown",
      "metadata": {},
      "source": [
        "## Evaluation"
      ]
    },
    {
      "cell_type": "code",
      "execution_count": 27,
      "metadata": {},
      "outputs": [
        {
          "name": "stdout",
          "output_type": "stream",
          "text": [
            "\n",
            "🔍 Evaluating final model on test set...\n",
            "\u001b[1m4/4\u001b[0m \u001b[32m━━━━━━━━━━━━━━━━━━━━\u001b[0m\u001b[37m\u001b[0m \u001b[1m0s\u001b[0m 18ms/step\n",
            "\n",
            "📊 Final classification report:\n",
            "              precision    recall  f1-score   support\n",
            "\n",
            "           0       0.69      0.50      0.58        18\n",
            "           1       0.06      0.10      0.07        10\n",
            "           2       0.48      0.84      0.61        61\n",
            "           3       0.20      0.50      0.29        20\n",
            "           4       0.11      0.80      0.20        10\n",
            "           5       0.51      0.94      0.66        63\n",
            "\n",
            "   micro avg       0.37      0.76      0.50       182\n",
            "   macro avg       0.34      0.61      0.40       182\n",
            "weighted avg       0.44      0.76      0.54       182\n",
            " samples avg       0.38      0.77      0.49       182\n",
            "\n"
          ]
        }
      ],
      "source": [
        "# Evaluasi final model di test set\n",
        "print(\"\\n🔍 Evaluating final model on test set...\")\n",
        "\n",
        "final_probs = best_model.predict(X_test)\n",
        "final_pred = np.zeros_like(final_probs, dtype=int)\n",
        "for i in range(output_dim):\n",
        "    final_pred[:, i] = (final_probs[:, i] > best_params['thresholds'][i]).astype(int)\n",
        "\n",
        "print(\"\\n📊 Final classification report:\")\n",
        "print(classification_report(y_test, final_pred, zero_division=0))"
      ]
    },
    {
      "cell_type": "code",
      "execution_count": 28,
      "metadata": {},
      "outputs": [
        {
          "name": "stdout",
          "output_type": "stream",
          "text": [
            "\n",
            "📈 Final Metrics:\n",
            "🎯 Accuracy Score (subset accuracy): 0.047619047619047616\n",
            "🤝 F1 Score (macro): 0.40198752089856776\n",
            "🤝 F1 Score (micro): 0.4981949458483754\n",
            "🤝 F1 Score (weighted): 0.5370945678775287\n",
            "⚖️ Hamming Loss: 0.36772486772486773\n",
            "📏 Jaccard Score (samples): 0.3630952380952381\n"
          ]
        }
      ],
      "source": [
        "# Print final metrics\n",
        "print(\"\\n📈 Final Metrics:\")\n",
        "print(\"🎯 Accuracy Score (subset accuracy):\", accuracy_score(y_test, best_y_pred))\n",
        "print(\"🤝 F1 Score (macro):\", f1_score(y_test, best_y_pred, average='macro'))\n",
        "print(\"🤝 F1 Score (micro):\", f1_score(y_test, best_y_pred, average='micro'))\n",
        "print(\"🤝 F1 Score (weighted):\", f1_score(y_test, best_y_pred, average='weighted'))\n",
        "print(\"⚖️ Hamming Loss:\", hamming_loss(y_test, best_y_pred))\n",
        "print(\"📏 Jaccard Score (samples):\", jaccard_score(y_test, best_y_pred, average='samples'))"
      ]
    },
    {
      "cell_type": "code",
      "execution_count": 29,
      "metadata": {},
      "outputs": [
        {
          "data": {
            "image/png": "[encoded data removed]",
            "text/plain": [
              "<Figure size 1200x500 with 2 Axes>"
            ]
          },
          "metadata": {},
          "output_type": "display_data"
        }
      ],
      "source": [
        "# Plot training history\n",
        "def plot_training_history(history):\n",
        "    plt.figure(figsize=(12, 5))\n",
        "\n",
        "    # Loss\n",
        "    plt.subplot(1, 2, 1)\n",
        "    plt.plot(history.history['loss'], label='Train Loss')\n",
        "    plt.plot(history.history['val_loss'], label='Val Loss')\n",
        "    plt.title('Loss')\n",
        "    plt.xlabel('Epochs')\n",
        "    plt.ylabel('Loss')\n",
        "    plt.legend()\n",
        "\n",
        "    # Accuracy\n",
        "    plt.subplot(1, 2, 2)\n",
        "    plt.plot(history.history['binary_accuracy'], label='Train Accuracy')\n",
        "    plt.plot(history.history['val_binary_accuracy'], label='Val Accuracy')\n",
        "    plt.title('Binary Accuracy')\n",
        "    plt.xlabel('Epochs')\n",
        "    plt.ylabel('Accuracy')\n",
        "    plt.legend()\n",
        "\n",
        "    plt.tight_layout()\n",
        "    plt.show()\n",
        "\n",
        "plot_training_history(history)"
      ]
    },
    {
      "cell_type": "markdown",
      "metadata": {
        "id": "MKNvxlIz2qED"
      },
      "source": [
        "## Save Model"
      ]
    },
    {
      "cell_type": "code",
      "execution_count": 30,
      "metadata": {
        "id": "rpNYUmDZqB3_"
      },
      "outputs": [],
      "source": [
        "# Simpan model TensorFlow ke folder models\n",
        "model.save('../src/models/ingredients_category_classification_model.keras')\n",
        "\n",
        "# Simpan MultiLabelBinarizer pakai pickle\n",
        "with open('../src/models/ingredients_category_mlb.pkl', 'wb') as f:\n",
        "    pickle.dump(mlb_ingredients_category, f)"
      ]
    },
    {
      "cell_type": "markdown",
      "metadata": {
        "id": "FN6dMgV3oHJp"
      },
      "source": [
        "## Inference Model"
      ]
    },
    {
      "cell_type": "code",
      "execution_count": 31,
      "metadata": {
        "id": "O-FiIhIl5C8e"
      },
      "outputs": [],
      "source": [
        "# --- LOAD MODEL DAN ENCODER ---\n",
        "model = load_model(\"../src/models/ingredients_category_classification_model.keras\",\n",
        "                   custom_objects={'weighted_binary_crossentropy': weighted_binary_crossentropy})  \n",
        "with open(\"../src/models/ingredients_category_mlb.pkl\", \"rb\") as f:\n",
        "    mlb = pickle.load(f)\n",
        "\n",
        "# --- HELPER UNTUK NORMALISASI INPUT ---\n",
        "def clean_input(lst):\n",
        "    if isinstance(lst, str):\n",
        "        lst = [lst]\n",
        "    seen = set()\n",
        "    result = []\n",
        "    for item in lst:\n",
        "        item_norm = re.sub(r\"[\\\\[\\\\]\\'\\\"]\", \"\", item.lower().strip())\n",
        "        if item_norm and item_norm not in seen:\n",
        "            seen.add(item_norm)\n",
        "            result.append(item_norm)\n",
        "    return result\n",
        "\n",
        "# --- FUNGSI UNTUK INFERENCE ---\n",
        "# def predict_ingredient_categories(skin_type, skin_concern, skin_goal, ingredients, threshold=0.3):\n",
        "def predict_ingredient_categories(skin_type, skin_concern, skin_goal, threshold=0.3):\n",
        "    # Normalisasi input\n",
        "    skin_type = clean_input(skin_type)\n",
        "    skin_concern = clean_input(skin_concern)\n",
        "    skin_goal = clean_input(skin_goal)\n",
        "    # ingredients = clean_input(ingredients)\n",
        "\n",
        "    # Buat vector multi-hot per fitur\n",
        "    vec_skin_type = np.array([1 if c in skin_type else 0 for c in mlb_skin_type.classes_])\n",
        "    vec_skin_concern = np.array([1 if c in skin_concern else 0 for c in mlb_skin_concern.classes_])\n",
        "    vec_skin_goal = np.array([1 if c in skin_goal else 0 for c in mlb_skin_goal.classes_])\n",
        "    # vec_ingredients = np.array([1 if c in ingredients else 0 for c in mlb_ingredients.classes_])\n",
        "\n",
        "    # Gabungkan semua fitur jadi input vector sepanjang 60\n",
        "    # input_vector = np.concatenate([vec_skin_type, vec_skin_concern, vec_skin_goal, vec_ingredients]).reshape(1, -1).astype(np.float32)\n",
        "    input_vector = np.concatenate([vec_skin_type, vec_skin_concern, vec_skin_goal]).reshape(1, -1).astype(np.float32)\n",
        "\n",
        "    # Prediksi\n",
        "    probs = model.predict(input_vector)[0]\n",
        "\n",
        "    # Ambil label kategori bahan aktif dengan probabilitas >= threshold\n",
        "    predicted_labels = [label for label, prob in zip(mlb_ingredients_category.classes_, probs) if prob >= threshold]\n",
        "\n",
        "    return predicted_labels"
      ]
    },
    {
      "cell_type": "code",
      "execution_count": 32,
      "metadata": {
        "colab": {
          "base_uri": "https://localhost:8080/"
        },
        "id": "zZn3mDVuoNRg",
        "outputId": "a0296c90-36e3-4036-def6-e08c38c22d81"
      },
      "outputs": [
        {
          "name": "stdout",
          "output_type": "stream",
          "text": [
            "\u001b[1m1/1\u001b[0m \u001b[32m━━━━━━━━━━━━━━━━━━━━\u001b[0m\u001b[37m\u001b[0m \u001b[1m0s\u001b[0m 248ms/step\n",
            "Rekomendasi ingredients: ['anti_aging']\n"
          ]
        }
      ],
      "source": [
        "result = predict_ingredient_categories(\n",
        "    skin_type=['dry'],\n",
        "    skin_concern=['acne'],\n",
        "    skin_goal=['hydration'],\n",
        "    # ingredients=['salicylic acid', 'hyaluronic acid']\n",
        ")\n",
        "\n",
        "print(\"Rekomendasi ingredients:\", result)"
      ]
    }
  ],
  "metadata": {
    "colab": {
      "provenance": [],
      "toc_visible": true
    },
    "kernelspec": {
      "display_name": "Python 3",
      "language": "python",
      "name": "python3"
    },
    "language_info": {
      "codemirror_mode": {
        "name": "ipython",
        "version": 3
      },
      "file_extension": ".py",
      "mimetype": "text/x-python",
      "name": "python",
      "nbconvert_exporter": "python",
      "pygments_lexer": "ipython3",
      "version": "3.11.0"
    }
  },
  "nbformat": 4,
  "nbformat_minor": 0
}
