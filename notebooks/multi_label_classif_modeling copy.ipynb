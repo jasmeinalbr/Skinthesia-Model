{
  "cells": [
    {
      "cell_type": "markdown",
      "metadata": {},
      "source": [
        "## Skinthesia Classification Model"
      ]
    },
    {
      "cell_type": "markdown",
      "metadata": {},
      "source": [
        "## Import Library"
      ]
    },
    {
      "cell_type": "code",
      "execution_count": 329,
      "metadata": {
        "id": "s7a7sh7qsO1Z"
      },
      "outputs": [],
      "source": [
        "import re\n",
        "import ast\n",
        "import pickle\n",
        "from collections import Counter\n",
        "\n",
        "import numpy as np\n",
        "import pandas as pd\n",
        "import matplotlib.pyplot as plt\n",
        "\n",
        "from sklearn.preprocessing import MultiLabelBinarizer\n",
        "from sklearn.model_selection import train_test_split\n",
        "from sklearn.utils import shuffle\n",
        "from sklearn.metrics import classification_report, accuracy_score, f1_score, hamming_loss, jaccard_score\n",
        "\n",
        "import tensorflow as tf\n",
        "from tensorflow.keras import backend as K\n",
        "from tensorflow.keras.models import Sequential, load_model\n",
        "from tensorflow.keras.layers import Input, Dense, Dropout, BatchNormalization\n",
        "from tensorflow.keras.callbacks import EarlyStopping, ReduceLROnPlateau"
      ]
    },
    {
      "cell_type": "markdown",
      "metadata": {
        "id": "gmItR1V6wyqS"
      },
      "source": [
        "## Load Data"
      ]
    },
    {
      "cell_type": "code",
      "execution_count": 330,
      "metadata": {
        "colab": {
          "base_uri": "https://localhost:8080/",
          "height": 504
        },
        "id": "jKGKXx-BPUqn",
        "outputId": "c3f0438b-6919-4f24-de49-79dfcbb3dda1"
      },
      "outputs": [
        {
          "data": {
            "text/html": [
              "<div>\n",
              "<style scoped>\n",
              "    .dataframe tbody tr th:only-of-type {\n",
              "        vertical-align: middle;\n",
              "    }\n",
              "\n",
              "    .dataframe tbody tr th {\n",
              "        vertical-align: top;\n",
              "    }\n",
              "\n",
              "    .dataframe thead th {\n",
              "        text-align: right;\n",
              "    }\n",
              "</style>\n",
              "<table border=\"1\" class=\"dataframe\">\n",
              "  <thead>\n",
              "    <tr style=\"text-align: right;\">\n",
              "      <th></th>\n",
              "      <th>url</th>\n",
              "      <th>image</th>\n",
              "      <th>product_name</th>\n",
              "      <th>brand</th>\n",
              "      <th>category</th>\n",
              "      <th>price</th>\n",
              "      <th>rating</th>\n",
              "      <th>skin_type</th>\n",
              "      <th>total_reviews</th>\n",
              "      <th>skin_concern</th>\n",
              "      <th>ingredients</th>\n",
              "      <th>ingredient_category</th>\n",
              "      <th>skin_goal</th>\n",
              "      <th>age</th>\n",
              "      <th>rating_star</th>\n",
              "    </tr>\n",
              "  </thead>\n",
              "  <tbody>\n",
              "    <tr>\n",
              "      <th>0</th>\n",
              "      <td>https://reviews.femaledaily.com/products/treat...</td>\n",
              "      <td>https://image.femaledaily.com/dyn/210/images/p...</td>\n",
              "      <td>Acne Gel</td>\n",
              "      <td>Verile</td>\n",
              "      <td>Acne treatment</td>\n",
              "      <td>20000</td>\n",
              "      <td>3.7</td>\n",
              "      <td>['combination', 'oily']</td>\n",
              "      <td>81477</td>\n",
              "      <td>['acne', 'blackheads']</td>\n",
              "      <td>['niacinamide', 'licorice, niacinamide', 'niac...</td>\n",
              "      <td>['acne', 'brightening']</td>\n",
              "      <td>['brightening', 'hydrating']</td>\n",
              "      <td>19 - 24</td>\n",
              "      <td>4.343434</td>\n",
              "    </tr>\n",
              "    <tr>\n",
              "      <th>1</th>\n",
              "      <td>https://reviews.femaledaily.com/products/treat...</td>\n",
              "      <td>https://image.femaledaily.com/dyn/300/remaster...</td>\n",
              "      <td>Acne Patch</td>\n",
              "      <td>Derma Angel</td>\n",
              "      <td>Acne treatment</td>\n",
              "      <td>43000</td>\n",
              "      <td>4.1</td>\n",
              "      <td>['combination', 'oily']</td>\n",
              "      <td>131694</td>\n",
              "      <td>['sensitive', 'irritation']</td>\n",
              "      <td>['niacinamide', 'tea tree', 'salicylic acid']</td>\n",
              "      <td>['acne', 'brightening']</td>\n",
              "      <td>['hydrating', 'smoothing']</td>\n",
              "      <td>19 - 24</td>\n",
              "      <td>4.695035</td>\n",
              "    </tr>\n",
              "    <tr>\n",
              "      <th>2</th>\n",
              "      <td>https://reviews.femaledaily.com/products/clean...</td>\n",
              "      <td>https://image.femaledaily.com/dyn/210/images/p...</td>\n",
              "      <td>Bright Complete Brightening Face Wash Foam</td>\n",
              "      <td>Garnier</td>\n",
              "      <td>Facial Wash</td>\n",
              "      <td>27000</td>\n",
              "      <td>3.2</td>\n",
              "      <td>['combination', 'normal']</td>\n",
              "      <td>127058</td>\n",
              "      <td>['acne', 'redness']</td>\n",
              "      <td>['salicylic acid, vitamin c', 'vitamin c', 'sa...</td>\n",
              "      <td>['acne', 'brightening']</td>\n",
              "      <td>['calming', 'fast-absorbing']</td>\n",
              "      <td>19 - 24</td>\n",
              "      <td>4.316832</td>\n",
              "    </tr>\n",
              "    <tr>\n",
              "      <th>3</th>\n",
              "      <td>https://reviews.femaledaily.com/products/treat...</td>\n",
              "      <td>https://image.femaledaily.com/dyn/210/images/p...</td>\n",
              "      <td>CL</td>\n",
              "      <td>Benzolac</td>\n",
              "      <td>Acne treatment</td>\n",
              "      <td>32000</td>\n",
              "      <td>3.8</td>\n",
              "      <td>['combination', 'oily']</td>\n",
              "      <td>22718</td>\n",
              "      <td>['pores', 'blackheads']</td>\n",
              "      <td>['niacinamide', 'niacinamide, salicylic acid',...</td>\n",
              "      <td>['acne', 'brightening']</td>\n",
              "      <td>['pore-minimizing', 'brightening']</td>\n",
              "      <td>19 - 24</td>\n",
              "      <td>4.405405</td>\n",
              "    </tr>\n",
              "    <tr>\n",
              "      <th>4</th>\n",
              "      <td>https://reviews.femaledaily.com/products/treat...</td>\n",
              "      <td>https://image.femaledaily.com/dyn/210/images/p...</td>\n",
              "      <td>Acne Care Lotion</td>\n",
              "      <td>Sariayu</td>\n",
              "      <td>Acne treatment</td>\n",
              "      <td>48000</td>\n",
              "      <td>3.6</td>\n",
              "      <td>['combination', 'oily']</td>\n",
              "      <td>4998</td>\n",
              "      <td>['dryness', 'sensitive']</td>\n",
              "      <td>['bha', 'tea tree', 'retinol', 'centella asiat...</td>\n",
              "      <td>['acne', 'calming']</td>\n",
              "      <td>['barrier-repair', 'calming']</td>\n",
              "      <td>25 - 29</td>\n",
              "      <td>4.264706</td>\n",
              "    </tr>\n",
              "  </tbody>\n",
              "</table>\n",
              "</div>"
            ],
            "text/plain": [
              "                                                 url  \\\n",
              "0  https://reviews.femaledaily.com/products/treat...   \n",
              "1  https://reviews.femaledaily.com/products/treat...   \n",
              "2  https://reviews.femaledaily.com/products/clean...   \n",
              "3  https://reviews.femaledaily.com/products/treat...   \n",
              "4  https://reviews.femaledaily.com/products/treat...   \n",
              "\n",
              "                                               image  \\\n",
              "0  https://image.femaledaily.com/dyn/210/images/p...   \n",
              "1  https://image.femaledaily.com/dyn/300/remaster...   \n",
              "2  https://image.femaledaily.com/dyn/210/images/p...   \n",
              "3  https://image.femaledaily.com/dyn/210/images/p...   \n",
              "4  https://image.femaledaily.com/dyn/210/images/p...   \n",
              "\n",
              "                                 product_name        brand        category  \\\n",
              "0                                    Acne Gel       Verile  Acne treatment   \n",
              "1                                  Acne Patch  Derma Angel  Acne treatment   \n",
              "2  Bright Complete Brightening Face Wash Foam      Garnier     Facial Wash   \n",
              "3                                          CL     Benzolac  Acne treatment   \n",
              "4                            Acne Care Lotion      Sariayu  Acne treatment   \n",
              "\n",
              "   price  rating                  skin_type  total_reviews  \\\n",
              "0  20000     3.7    ['combination', 'oily']          81477   \n",
              "1  43000     4.1    ['combination', 'oily']         131694   \n",
              "2  27000     3.2  ['combination', 'normal']         127058   \n",
              "3  32000     3.8    ['combination', 'oily']          22718   \n",
              "4  48000     3.6    ['combination', 'oily']           4998   \n",
              "\n",
              "                  skin_concern  \\\n",
              "0       ['acne', 'blackheads']   \n",
              "1  ['sensitive', 'irritation']   \n",
              "2          ['acne', 'redness']   \n",
              "3      ['pores', 'blackheads']   \n",
              "4     ['dryness', 'sensitive']   \n",
              "\n",
              "                                         ingredients      ingredient_category  \\\n",
              "0  ['niacinamide', 'licorice, niacinamide', 'niac...  ['acne', 'brightening']   \n",
              "1      ['niacinamide', 'tea tree', 'salicylic acid']  ['acne', 'brightening']   \n",
              "2  ['salicylic acid, vitamin c', 'vitamin c', 'sa...  ['acne', 'brightening']   \n",
              "3  ['niacinamide', 'niacinamide, salicylic acid',...  ['acne', 'brightening']   \n",
              "4  ['bha', 'tea tree', 'retinol', 'centella asiat...      ['acne', 'calming']   \n",
              "\n",
              "                            skin_goal      age  rating_star  \n",
              "0        ['brightening', 'hydrating']  19 - 24     4.343434  \n",
              "1          ['hydrating', 'smoothing']  19 - 24     4.695035  \n",
              "2       ['calming', 'fast-absorbing']  19 - 24     4.316832  \n",
              "3  ['pore-minimizing', 'brightening']  19 - 24     4.405405  \n",
              "4       ['barrier-repair', 'calming']  25 - 29     4.264706  "
            ]
          },
          "execution_count": 330,
          "metadata": {},
          "output_type": "execute_result"
        }
      ],
      "source": [
        "# Load the CSV file\n",
        "df = pd.read_csv('../data/products_integrated_features.csv', encoding='ISO-8859-1')\n",
        "df.head()"
      ]
    },
    {
      "cell_type": "markdown",
      "metadata": {},
      "source": [
        "## Data Selection"
      ]
    },
    {
      "cell_type": "code",
      "execution_count": 331,
      "metadata": {
        "colab": {
          "base_uri": "https://localhost:8080/",
          "height": 293
        },
        "id": "mSFjsdNmtSp5",
        "outputId": "921a8af5-fc06-4e3b-da8c-69aca62bf37a"
      },
      "outputs": [
        {
          "data": {
            "text/html": [
              "<div>\n",
              "<style scoped>\n",
              "    .dataframe tbody tr th:only-of-type {\n",
              "        vertical-align: middle;\n",
              "    }\n",
              "\n",
              "    .dataframe tbody tr th {\n",
              "        vertical-align: top;\n",
              "    }\n",
              "\n",
              "    .dataframe thead th {\n",
              "        text-align: right;\n",
              "    }\n",
              "</style>\n",
              "<table border=\"1\" class=\"dataframe\">\n",
              "  <thead>\n",
              "    <tr style=\"text-align: right;\">\n",
              "      <th></th>\n",
              "      <th>skin_type</th>\n",
              "      <th>skin_concern</th>\n",
              "      <th>skin_goal</th>\n",
              "      <th>ingredient_category</th>\n",
              "    </tr>\n",
              "  </thead>\n",
              "  <tbody>\n",
              "    <tr>\n",
              "      <th>0</th>\n",
              "      <td>['combination', 'oily']</td>\n",
              "      <td>['acne', 'blackheads']</td>\n",
              "      <td>['brightening', 'hydrating']</td>\n",
              "      <td>['acne', 'brightening']</td>\n",
              "    </tr>\n",
              "    <tr>\n",
              "      <th>1</th>\n",
              "      <td>['combination', 'oily']</td>\n",
              "      <td>['sensitive', 'irritation']</td>\n",
              "      <td>['hydrating', 'smoothing']</td>\n",
              "      <td>['acne', 'brightening']</td>\n",
              "    </tr>\n",
              "    <tr>\n",
              "      <th>2</th>\n",
              "      <td>['combination', 'normal']</td>\n",
              "      <td>['acne', 'redness']</td>\n",
              "      <td>['calming', 'fast-absorbing']</td>\n",
              "      <td>['acne', 'brightening']</td>\n",
              "    </tr>\n",
              "    <tr>\n",
              "      <th>3</th>\n",
              "      <td>['combination', 'oily']</td>\n",
              "      <td>['pores', 'blackheads']</td>\n",
              "      <td>['pore-minimizing', 'brightening']</td>\n",
              "      <td>['acne', 'brightening']</td>\n",
              "    </tr>\n",
              "    <tr>\n",
              "      <th>4</th>\n",
              "      <td>['combination', 'oily']</td>\n",
              "      <td>['dryness', 'sensitive']</td>\n",
              "      <td>['barrier-repair', 'calming']</td>\n",
              "      <td>['acne', 'calming']</td>\n",
              "    </tr>\n",
              "  </tbody>\n",
              "</table>\n",
              "</div>"
            ],
            "text/plain": [
              "                   skin_type                 skin_concern  \\\n",
              "0    ['combination', 'oily']       ['acne', 'blackheads']   \n",
              "1    ['combination', 'oily']  ['sensitive', 'irritation']   \n",
              "2  ['combination', 'normal']          ['acne', 'redness']   \n",
              "3    ['combination', 'oily']      ['pores', 'blackheads']   \n",
              "4    ['combination', 'oily']     ['dryness', 'sensitive']   \n",
              "\n",
              "                            skin_goal      ingredient_category  \n",
              "0        ['brightening', 'hydrating']  ['acne', 'brightening']  \n",
              "1          ['hydrating', 'smoothing']  ['acne', 'brightening']  \n",
              "2       ['calming', 'fast-absorbing']  ['acne', 'brightening']  \n",
              "3  ['pore-minimizing', 'brightening']  ['acne', 'brightening']  \n",
              "4       ['barrier-repair', 'calming']      ['acne', 'calming']  "
            ]
          },
          "execution_count": 331,
          "metadata": {},
          "output_type": "execute_result"
        }
      ],
      "source": [
        "# Mengambil kolom yang relevan\n",
        "# df = df[['skin_type','skin_concern','skin_goal','ingredients', 'ingredient_category']]\n",
        "df = df[['skin_type','skin_concern','skin_goal','ingredient_category']]\n",
        "df.head()"
      ]
    },
    {
      "cell_type": "code",
      "execution_count": 332,
      "metadata": {
        "colab": {
          "base_uri": "https://localhost:8080/"
        },
        "id": "jZknzgUgsvoG",
        "outputId": "6621b488-78c7-4a02-fdb8-39a29671b6e9"
      },
      "outputs": [
        {
          "name": "stdout",
          "output_type": "stream",
          "text": [
            "<class 'pandas.core.frame.DataFrame'>\n",
            "RangeIndex: 908 entries, 0 to 907\n",
            "Data columns (total 4 columns):\n",
            " #   Column               Non-Null Count  Dtype \n",
            "---  ------               --------------  ----- \n",
            " 0   skin_type            908 non-null    object\n",
            " 1   skin_concern         908 non-null    object\n",
            " 2   skin_goal            908 non-null    object\n",
            " 3   ingredient_category  885 non-null    object\n",
            "dtypes: object(4)\n",
            "memory usage: 28.5+ KB\n"
          ]
        }
      ],
      "source": [
        "# Information about the DataFrame\n",
        "df.info()"
      ]
    },
    {
      "cell_type": "markdown",
      "metadata": {},
      "source": [
        "## Data Cleaning & Parsing"
      ]
    },
    {
      "cell_type": "code",
      "execution_count": 333,
      "metadata": {
        "id": "ROS0DMmwuJca"
      },
      "outputs": [],
      "source": [
        "# Menggunakan ast untuk evaluasi literal\n",
        "# Fungsi flatten list\n",
        "def flatten_list(nested_lst):\n",
        "    flat = []\n",
        "    for item in nested_lst:\n",
        "        if isinstance(item, list):\n",
        "            flat.extend(flatten_list(item))\n",
        "        else:\n",
        "            flat.append(item)\n",
        "    return flat\n",
        "\n",
        "# Fungsi untuk parsing dan membersihkan data\n",
        "def parse_and_clean(cell):\n",
        "    # Cek kalau sudah list langsung pakai\n",
        "    if isinstance(cell, list):\n",
        "        lst = cell\n",
        "    # Kalau string, coba literal_eval ke list Python\n",
        "    elif isinstance(cell, str):\n",
        "        try:\n",
        "            lst = ast.literal_eval(cell)\n",
        "        except:\n",
        "            lst = [cell]\n",
        "    # Tangani nilai NaN\n",
        "    elif pd.isna(cell):\n",
        "        return []\n",
        "    else:\n",
        "        # Kalau bukan list/string/NaN, jadikan string dalam list\n",
        "        lst = [str(cell)]\n",
        "\n",
        "    # Flatten nested list\n",
        "    flat_list = flatten_list(lst)\n",
        "\n",
        "    # Split elemen dengan koma\n",
        "    split_list = []\n",
        "    for item in flat_list:\n",
        "        if isinstance(item, str):\n",
        "            parts = [part.strip() for part in item.split(',')]\n",
        "            split_list.extend(parts)\n",
        "        else:\n",
        "            split_list.append(str(item).strip())\n",
        "\n",
        "    # Normalisasi dan hapus duplikat\n",
        "    seen = set()\n",
        "    result = []\n",
        "    for item in split_list:\n",
        "        item_norm = re.sub(r'[\\[\\]\\'\\\"]', '', item.lower().strip())\n",
        "        if item_norm and item_norm not in seen:\n",
        "            seen.add(item_norm)\n",
        "            result.append(item_norm)\n",
        "\n",
        "    return result\n"
      ]
    },
    {
      "cell_type": "code",
      "execution_count": 334,
      "metadata": {
        "colab": {
          "base_uri": "https://localhost:8080/",
          "height": 293
        },
        "id": "PyZe8gCzmcqZ",
        "outputId": "2c143360-9451-428d-a24c-9fa6cac6f784"
      },
      "outputs": [
        {
          "data": {
            "text/html": [
              "<div>\n",
              "<style scoped>\n",
              "    .dataframe tbody tr th:only-of-type {\n",
              "        vertical-align: middle;\n",
              "    }\n",
              "\n",
              "    .dataframe tbody tr th {\n",
              "        vertical-align: top;\n",
              "    }\n",
              "\n",
              "    .dataframe thead th {\n",
              "        text-align: right;\n",
              "    }\n",
              "</style>\n",
              "<table border=\"1\" class=\"dataframe\">\n",
              "  <thead>\n",
              "    <tr style=\"text-align: right;\">\n",
              "      <th></th>\n",
              "      <th>skin_type</th>\n",
              "      <th>skin_concern</th>\n",
              "      <th>skin_goal</th>\n",
              "      <th>ingredient_category</th>\n",
              "    </tr>\n",
              "  </thead>\n",
              "  <tbody>\n",
              "    <tr>\n",
              "      <th>0</th>\n",
              "      <td>[combination, oily]</td>\n",
              "      <td>[acne, blackheads]</td>\n",
              "      <td>[brightening, hydrating]</td>\n",
              "      <td>[acne, brightening]</td>\n",
              "    </tr>\n",
              "    <tr>\n",
              "      <th>1</th>\n",
              "      <td>[combination, oily]</td>\n",
              "      <td>[sensitive, irritation]</td>\n",
              "      <td>[hydrating, smoothing]</td>\n",
              "      <td>[acne, brightening]</td>\n",
              "    </tr>\n",
              "    <tr>\n",
              "      <th>2</th>\n",
              "      <td>[combination, normal]</td>\n",
              "      <td>[acne, redness]</td>\n",
              "      <td>[calming, fast-absorbing]</td>\n",
              "      <td>[acne, brightening]</td>\n",
              "    </tr>\n",
              "    <tr>\n",
              "      <th>3</th>\n",
              "      <td>[combination, oily]</td>\n",
              "      <td>[pores, blackheads]</td>\n",
              "      <td>[pore-minimizing, brightening]</td>\n",
              "      <td>[acne, brightening]</td>\n",
              "    </tr>\n",
              "    <tr>\n",
              "      <th>4</th>\n",
              "      <td>[combination, oily]</td>\n",
              "      <td>[dryness, sensitive]</td>\n",
              "      <td>[barrier-repair, calming]</td>\n",
              "      <td>[acne, calming]</td>\n",
              "    </tr>\n",
              "  </tbody>\n",
              "</table>\n",
              "</div>"
            ],
            "text/plain": [
              "               skin_type             skin_concern  \\\n",
              "0    [combination, oily]       [acne, blackheads]   \n",
              "1    [combination, oily]  [sensitive, irritation]   \n",
              "2  [combination, normal]          [acne, redness]   \n",
              "3    [combination, oily]      [pores, blackheads]   \n",
              "4    [combination, oily]     [dryness, sensitive]   \n",
              "\n",
              "                        skin_goal  ingredient_category  \n",
              "0        [brightening, hydrating]  [acne, brightening]  \n",
              "1          [hydrating, smoothing]  [acne, brightening]  \n",
              "2       [calming, fast-absorbing]  [acne, brightening]  \n",
              "3  [pore-minimizing, brightening]  [acne, brightening]  \n",
              "4       [barrier-repair, calming]      [acne, calming]  "
            ]
          },
          "execution_count": 334,
          "metadata": {},
          "output_type": "execute_result"
        }
      ],
      "source": [
        "# Apply the parsing and cleaning function to each column\n",
        "cols = df.columns\n",
        "for col in cols:\n",
        "    df[col] = df[col].apply(parse_and_clean)\n",
        "\n",
        "df.head()"
      ]
    },
    {
      "cell_type": "code",
      "execution_count": 335,
      "metadata": {
        "colab": {
          "base_uri": "https://localhost:8080/"
        },
        "id": "URI4XvrGv-Wa",
        "outputId": "39de67b2-f640-48ef-fb81-7d309ecbfeac"
      },
      "outputs": [
        {
          "name": "stdout",
          "output_type": "stream",
          "text": [
            "skin_type: 0 list kosong\n",
            "skin_concern: 0 list kosong\n",
            "skin_goal: 0 list kosong\n",
            "ingredient_category: 23 list kosong\n",
            "\n",
            "skin_type: 0 baris (0.00%) mengandung 'unknown'\n",
            "skin_concern: 0 baris (0.00%) mengandung 'unknown'\n",
            "skin_goal: 0 baris (0.00%) mengandung 'unknown'\n",
            "ingredient_category: 0 baris (0.00%) mengandung 'unknown'\n"
          ]
        }
      ],
      "source": [
        "# Cek berapa banyak list kosong di tiap kolom\n",
        "for col in df.columns:\n",
        "    empty_count = df[col].apply(lambda x: isinstance(x, list) and len(x) == 0).sum()\n",
        "    print(f\"{col}: {empty_count} list kosong\")\n",
        "print()\n",
        "\n",
        "# Cek jumlah unknown\n",
        "total = len(df)\n",
        "for col in cols:\n",
        "    count = df[col].apply(lambda x: 'unknown' in x).sum()\n",
        "    percent = count / total * 100\n",
        "    print(f\"{col}: {count} baris ({percent:.2f}%) mengandung 'unknown'\")"
      ]
    },
    {
      "cell_type": "code",
      "execution_count": 336,
      "metadata": {
        "colab": {
          "base_uri": "https://localhost:8080/",
          "height": 293
        },
        "id": "GbfqrjVLwTAT",
        "outputId": "7ba1ca05-4c00-4f06-9237-56f9ea739d8c"
      },
      "outputs": [
        {
          "data": {
            "text/html": [
              "<div>\n",
              "<style scoped>\n",
              "    .dataframe tbody tr th:only-of-type {\n",
              "        vertical-align: middle;\n",
              "    }\n",
              "\n",
              "    .dataframe tbody tr th {\n",
              "        vertical-align: top;\n",
              "    }\n",
              "\n",
              "    .dataframe thead th {\n",
              "        text-align: right;\n",
              "    }\n",
              "</style>\n",
              "<table border=\"1\" class=\"dataframe\">\n",
              "  <thead>\n",
              "    <tr style=\"text-align: right;\">\n",
              "      <th></th>\n",
              "      <th>skin_type</th>\n",
              "      <th>skin_concern</th>\n",
              "      <th>skin_goal</th>\n",
              "      <th>ingredient_category</th>\n",
              "    </tr>\n",
              "  </thead>\n",
              "  <tbody>\n",
              "    <tr>\n",
              "      <th>0</th>\n",
              "      <td>[combination, oily]</td>\n",
              "      <td>[acne, blackheads]</td>\n",
              "      <td>[brightening, hydrating]</td>\n",
              "      <td>[acne, brightening]</td>\n",
              "    </tr>\n",
              "    <tr>\n",
              "      <th>1</th>\n",
              "      <td>[combination, oily]</td>\n",
              "      <td>[sensitive, irritation]</td>\n",
              "      <td>[hydrating, smoothing]</td>\n",
              "      <td>[acne, brightening]</td>\n",
              "    </tr>\n",
              "    <tr>\n",
              "      <th>2</th>\n",
              "      <td>[combination, normal]</td>\n",
              "      <td>[acne, redness]</td>\n",
              "      <td>[calming, fast-absorbing]</td>\n",
              "      <td>[acne, brightening]</td>\n",
              "    </tr>\n",
              "    <tr>\n",
              "      <th>3</th>\n",
              "      <td>[combination, oily]</td>\n",
              "      <td>[pores, blackheads]</td>\n",
              "      <td>[pore-minimizing, brightening]</td>\n",
              "      <td>[acne, brightening]</td>\n",
              "    </tr>\n",
              "    <tr>\n",
              "      <th>4</th>\n",
              "      <td>[combination, oily]</td>\n",
              "      <td>[dryness, sensitive]</td>\n",
              "      <td>[barrier-repair, calming]</td>\n",
              "      <td>[acne, calming]</td>\n",
              "    </tr>\n",
              "  </tbody>\n",
              "</table>\n",
              "</div>"
            ],
            "text/plain": [
              "               skin_type             skin_concern  \\\n",
              "0    [combination, oily]       [acne, blackheads]   \n",
              "1    [combination, oily]  [sensitive, irritation]   \n",
              "2  [combination, normal]          [acne, redness]   \n",
              "3    [combination, oily]      [pores, blackheads]   \n",
              "4    [combination, oily]     [dryness, sensitive]   \n",
              "\n",
              "                        skin_goal  ingredient_category  \n",
              "0        [brightening, hydrating]  [acne, brightening]  \n",
              "1          [hydrating, smoothing]  [acne, brightening]  \n",
              "2       [calming, fast-absorbing]  [acne, brightening]  \n",
              "3  [pore-minimizing, brightening]  [acne, brightening]  \n",
              "4       [barrier-repair, calming]      [acne, calming]  "
            ]
          },
          "execution_count": 336,
          "metadata": {},
          "output_type": "execute_result"
        }
      ],
      "source": [
        "# # Hapus baris yang hanya mengandung 'unknown' di kolom ingredients\n",
        "# df_cleaned = df[df['ingredients'].apply(lambda x: x != ['unknown'])].reset_index(drop=True)\n",
        "\n",
        "# Hapus baris yang nan atau kosong di kolom ingredients category\n",
        "# df_cleaned = df_cleaned[df_cleaned['ingredient_category'].apply(lambda x: isinstance(x, list) and len(x) > 0)].reset_index(drop=True)\n",
        "df_cleaned = df[df['ingredient_category'].apply(lambda x: isinstance(x, list) and len(x) > 0)].reset_index(drop=True)\n",
        "\n",
        "\n",
        "df_cleaned.head()"
      ]
    },
    {
      "cell_type": "markdown",
      "metadata": {},
      "source": [
        "## Visualisasi Data"
      ]
    },
    {
      "cell_type": "code",
      "execution_count": 337,
      "metadata": {},
      "outputs": [
        {
          "name": "stdout",
          "output_type": "stream",
          "text": [
            "Jumlah unik ingredient categories: 6\n",
            "Jumlah unik skin types: 4\n",
            "Jumlah unik skin concerns: 15\n",
            "Jumlah unik skin goals: 20\n"
          ]
        }
      ],
      "source": [
        "# Flatten semua list di kolom ingredients, ingredient_category, skin_type, skin_concern, dan skin_goal\n",
        "all_ingredients_category = [item for sublist in df_cleaned['ingredient_category'] for item in sublist]\n",
        "# all_ingredients = [item for sublist in df_cleaned['ingredients'] for item in sublist]\n",
        "all_skin_types = [item for sublist in df_cleaned['skin_type'] for item in sublist]\n",
        "all_skin_concerns = [item for sublist in df_cleaned['skin_concern'] for item in sublist]\n",
        "all_skin_goals = [item for sublist in df_cleaned['skin_goal'] for item in sublist]\n",
        "\n",
        "# Hitung frekuensi kemunculan setiap ingredient category, ingredient, skin type, skin concern, dan skin goal\n",
        "ingredient_category_counts = Counter(all_ingredients_category)\n",
        "# ingredient_counts = Counter(all_ingredients)\n",
        "skin_type_counts = Counter(all_skin_types)\n",
        "skin_concern_counts = Counter(all_skin_concerns)\n",
        "skin_goal_counts = Counter(all_skin_goals)\n",
        "\n",
        "# Tampilkan berapa banyak tiap kategori, ingredient, skin type, skin concern, dan skin goal yang unik\n",
        "print(f\"Jumlah unik ingredient categories: {len(ingredient_category_counts)}\")\n",
        "# print(f\"Jumlah unik ingredients: {len(ingredient_counts)}\")\n",
        "print(f\"Jumlah unik skin types: {len(skin_type_counts)}\")\n",
        "print(f\"Jumlah unik skin concerns: {len(skin_concern_counts)}\")\n",
        "print(f\"Jumlah unik skin goals: {len(skin_goal_counts)}\")"
      ]
    },
    {
      "cell_type": "code",
      "execution_count": 338,
      "metadata": {},
      "outputs": [
        {
          "name": "stdout",
          "output_type": "stream",
          "text": [
            "\n",
            "Jumlah kemunculan tiap ingredient category:\n",
            "acne: 94 kali\n",
            "brightening: 472 kali\n",
            "calming: 128 kali\n",
            "exfoliant: 81 kali\n",
            "hydrating: 397 kali\n",
            "anti_aging: 74 kali\n"
          ]
        }
      ],
      "source": [
        "# Tampilkan jumlah kemunculan tiap kategori, ingredient, skin type, skin concern, dan skin goal\n",
        "print(\"\\nJumlah kemunculan tiap ingredient category:\")\n",
        "for ingredient_category, count in ingredient_category_counts.items():\n",
        "    print(f\"{ingredient_category}: {count} kali\")"
      ]
    },
    {
      "cell_type": "code",
      "execution_count": 339,
      "metadata": {},
      "outputs": [],
      "source": [
        "\n",
        "# print(\"\\nJumlah kemunculan tiap ingredient:\")\n",
        "# for ingredient, count in ingredient_counts.items():\n",
        "#     print(f\"{ingredient}: {count} kali\")\n"
      ]
    },
    {
      "cell_type": "code",
      "execution_count": 340,
      "metadata": {},
      "outputs": [
        {
          "name": "stdout",
          "output_type": "stream",
          "text": [
            "\n",
            "Jumlah kemunculan tiap skin type:\n",
            "combination: 870 kali\n",
            "oily: 621 kali\n",
            "normal: 114 kali\n",
            "dry: 162 kali\n"
          ]
        }
      ],
      "source": [
        "print(\"\\nJumlah kemunculan tiap skin type:\")\n",
        "for skin_type, count in skin_type_counts.items():\n",
        "    print(f\"{skin_type}: {count} kali\")\n"
      ]
    },
    {
      "cell_type": "code",
      "execution_count": 341,
      "metadata": {},
      "outputs": [
        {
          "name": "stdout",
          "output_type": "stream",
          "text": [
            "\n",
            "Jumlah kemunculan tiap skin concern:\n",
            "acne: 579 kali\n",
            "blackheads: 82 kali\n",
            "sensitive: 367 kali\n",
            "irritation: 135 kali\n",
            "redness: 73 kali\n",
            "pores: 97 kali\n",
            "dryness: 214 kali\n",
            "fine lines: 33 kali\n",
            "wrinkles: 21 kali\n",
            "oiliness: 62 kali\n",
            "hyperpigmentation: 8 kali\n",
            "tiny bumps: 19 kali\n",
            "dark spots: 21 kali\n",
            "whiteheads: 3 kali\n",
            "dull skin: 39 kali\n"
          ]
        }
      ],
      "source": [
        "print(\"\\nJumlah kemunculan tiap skin concern:\")\n",
        "for skin_concern, count in skin_concern_counts.items():\n",
        "    print(f\"{skin_concern}: {count} kali\")\n"
      ]
    },
    {
      "cell_type": "code",
      "execution_count": 342,
      "metadata": {},
      "outputs": [
        {
          "name": "stdout",
          "output_type": "stream",
          "text": [
            "\n",
            "Jumlah kemunculan tiap skin goal:\n",
            "brightening: 374 kali\n",
            "hydrating: 526 kali\n",
            "smoothing: 50 kali\n",
            "calming: 295 kali\n",
            "fast-absorbing: 107 kali\n",
            "pore-minimizing: 13 kali\n",
            "barrier-repair: 23 kali\n",
            "tone-evening: 24 kali\n",
            "glowing: 62 kali\n",
            "oil-control: 64 kali\n",
            "non-comedogenic: 5 kali\n",
            "nourishing: 24 kali\n",
            "scar-fading: 30 kali\n",
            "refreshing: 23 kali\n",
            "regenerating: 19 kali\n",
            "plumping: 29 kali\n",
            "healthy: 13 kali\n",
            "lightweight: 11 kali\n",
            "anti-aging: 28 kali\n",
            "firming: 7 kali\n"
          ]
        }
      ],
      "source": [
        "print(\"\\nJumlah kemunculan tiap skin goal:\")\n",
        "for skin_goal, count in skin_goal_counts.items():\n",
        "    print(f\"{skin_goal}: {count} kali\")"
      ]
    },
    {
      "cell_type": "code",
      "execution_count": 343,
      "metadata": {},
      "outputs": [
        {
          "data": {
            "image/png": "[encoded data removed]",
            "text/plain": [
              "<Figure size 1000x500 with 1 Axes>"
            ]
          },
          "metadata": {},
          "output_type": "display_data"
        },
        {
          "data": {
            "image/png": "[encoded data removed]",
            "text/plain": [
              "<Figure size 1000x500 with 1 Axes>"
            ]
          },
          "metadata": {},
          "output_type": "display_data"
        },
        {
          "data": {
            "image/png": "[encoded data removed]",
            "text/plain": [
              "<Figure size 1000x500 with 1 Axes>"
            ]
          },
          "metadata": {},
          "output_type": "display_data"
        },
        {
          "data": {
            "image/png": "[encoded data removed]",
            "text/plain": [
              "<Figure size 1000x500 with 1 Axes>"
            ]
          },
          "metadata": {},
          "output_type": "display_data"
        }
      ],
      "source": [
        "# Visualisasi distribusi skin types, concerns, dan goals\n",
        "def plot_distribution(data, title, xlabel, ylabel):\n",
        "    counts = Counter(data)\n",
        "    # Urutkan berdasarkan nilai (frekuensi), descending\n",
        "    sorted_items = sorted(counts.items(), key=lambda x: x[1], reverse=True)\n",
        "    labels, values = zip(*sorted_items)\n",
        "    \n",
        "    plt.figure(figsize=(10, 5))\n",
        "    plt.bar(labels, values, color='skyblue')\n",
        "    plt.title(title)\n",
        "    plt.xlabel(xlabel)\n",
        "    plt.ylabel(ylabel)\n",
        "    plt.xticks(rotation=70)\n",
        "    plt.tight_layout()\n",
        "    plt.show()\n",
        "    \n",
        "plot_distribution(all_ingredients_category, 'Distribusi Ingredient Categories', 'Ingredient Category', 'Frekuensi')\n",
        "# plot_distribution(all_ingredients, 'Distribusi Ingredients', 'Ingredient', 'Frekuensi')\n",
        "plot_distribution(all_skin_types, 'Distribusi Skin Types', 'Skin Type', 'Frekuensi')\n",
        "plot_distribution(all_skin_concerns, 'Distribusi Skin Concerns', 'Skin Concern', 'Frekuensi')\n",
        "plot_distribution(all_skin_goals, 'Distribusi Skin Goals', 'Skin Goal', 'Frekuensi')"
      ]
    },
    {
      "cell_type": "markdown",
      "metadata": {},
      "source": [
        "## Preprocesing Data & Encoding"
      ]
    },
    {
      "cell_type": "code",
      "execution_count": 344,
      "metadata": {},
      "outputs": [
        {
          "name": "stdout",
          "output_type": "stream",
          "text": [
            "Shape fitur input: (885, 39)\n",
            "Shape label (ingredients): (885, 6)\n"
          ]
        }
      ],
      "source": [
        "# Inisialisasi MultiLabelBinarizer untuk tiap fitur dan label\n",
        "mlb_skin_type = MultiLabelBinarizer()\n",
        "mlb_skin_concern = MultiLabelBinarizer()\n",
        "mlb_skin_goal = MultiLabelBinarizer()\n",
        "# mlb_ingredients = MultiLabelBinarizer()\n",
        "mlb_ingredients_category = MultiLabelBinarizer()\n",
        "\n",
        "# Fit-transform fitur input dan label (ubah jadi multi-hot vectors)\n",
        "X_skin_type = mlb_skin_type.fit_transform(df_cleaned['skin_type'])\n",
        "X_skin_concern = mlb_skin_concern.fit_transform(df_cleaned['skin_concern'])\n",
        "X_skin_goal = mlb_skin_goal.fit_transform(df_cleaned['skin_goal'])\n",
        "# X_ingredients = mlb_ingredients.fit_transform(df_cleaned['ingredients'])\n",
        "Y_ingredient_category = mlb_ingredients_category.fit_transform(df_cleaned['ingredient_category'])\n",
        "\n",
        "# Gabungkan semua fitur input jadi satu matriks fitur\n",
        "# X = np.hstack([X_skin_type, X_skin_concern, X_skin_goal, X_ingredients])\n",
        "X = np.hstack([X_skin_type, X_skin_concern, X_skin_goal])\n",
        "\n",
        "print(\"Shape fitur input:\", X.shape)\n",
        "print(\"Shape label (ingredients):\", Y_ingredient_category.shape)"
      ]
    },
    {
      "cell_type": "code",
      "execution_count": 345,
      "metadata": {},
      "outputs": [],
      "source": [
        "from sklearn.preprocessing import MultiLabelBinarizer\n",
        "from tensorflow.keras.preprocessing.sequence import pad_sequences\n",
        "import numpy as np\n",
        "\n",
        "# Buat vocab (index mapping)\n",
        "def make_vocab(col):\n",
        "    vocab = set([item for sublist in col for item in sublist])\n",
        "    return {v: i+1 for i, v in enumerate(sorted(vocab))}  # padding=0\n",
        "\n",
        "vocab_skin_type = make_vocab(df_cleaned['skin_type'])\n",
        "vocab_skin_concern = make_vocab(df_cleaned['skin_concern'])\n",
        "vocab_skin_goal = make_vocab(df_cleaned['skin_goal'])\n",
        "\n",
        "def encode_sequence(col, vocab):\n",
        "    return col.apply(lambda x: [vocab[i] for i in x if i in vocab])\n",
        "\n",
        "X_skin_type = encode_sequence(df_cleaned['skin_type'], vocab_skin_type)\n",
        "X_skin_concern = encode_sequence(df_cleaned['skin_concern'], vocab_skin_concern)\n",
        "X_skin_goal = encode_sequence(df_cleaned['skin_goal'], vocab_skin_goal)\n",
        "\n",
        "# Pad sequences (top-2, jadi maxlen=2)\n",
        "X_skin_type = pad_sequences(X_skin_type, maxlen=2)\n",
        "X_skin_concern = pad_sequences(X_skin_concern, maxlen=2)\n",
        "X_skin_goal = pad_sequences(X_skin_goal, maxlen=2)\n",
        "\n",
        "# Label (Y tetap pakai MultiLabelBinarizer)\n",
        "mlb_ingredient_category = MultiLabelBinarizer()\n",
        "y_final = mlb_ingredient_category.fit_transform(df_cleaned['ingredient_category'])"
      ]
    },
    {
      "cell_type": "code",
      "execution_count": 346,
      "metadata": {},
      "outputs": [],
      "source": [
        "X_train_type, X_test_type, \\\n",
        "X_train_concern, X_test_concern, \\\n",
        "X_train_goal, X_test_goal, \\\n",
        "y_train, y_test = train_test_split(\n",
        "    X_skin_type, X_skin_concern, X_skin_goal, y_final,\n",
        "    test_size=0.2, random_state=42\n",
        ")"
      ]
    },
    {
      "cell_type": "code",
      "execution_count": 347,
      "metadata": {},
      "outputs": [],
      "source": [
        "import numpy as np\n",
        "from sklearn.utils import shuffle\n",
        "\n",
        "def duplicate_minority_to_target(Xs, y, target_count=300):\n",
        "    \"\"\"\n",
        "    Duplicate samples from minority classes to reach at least target_count positives per class.\n",
        "    \n",
        "    Parameters:\n",
        "    - Xs: list of input arrays (e.g., [X_type, X_concern, X_goal])\n",
        "    - y: multilabel binary matrix (shape: n_samples, n_classes)\n",
        "    - target_count: int, desired minimum count per class\n",
        "    \n",
        "    Returns:\n",
        "    - tuple: (X1_aug, X2_aug, ..., y_aug)\n",
        "    \"\"\"\n",
        "    Xs_aug = [x.copy() for x in Xs]\n",
        "    y_aug = y.copy()\n",
        "\n",
        "    for i in range(y.shape[1]):\n",
        "        current_count = np.sum(y_aug[:, i])\n",
        "        if current_count >= target_count:\n",
        "            continue  # skip label already meeting the target\n",
        "\n",
        "        # cari index yang punya label positif (1)\n",
        "        idxs = np.where(y[:, i] == 1)[0]\n",
        "        if len(idxs) == 0:\n",
        "            continue  # skip if no positive example at all\n",
        "\n",
        "        needed = int(target_count - current_count)\n",
        "        repeats = (needed // len(idxs)) + 1\n",
        "\n",
        "        for _ in range(repeats):\n",
        "            for j in idxs:\n",
        "                if np.sum(y_aug[:, i]) >= target_count:\n",
        "                    break\n",
        "                for k in range(len(Xs)):\n",
        "                    Xs_aug[k] = np.concatenate([Xs_aug[k], Xs[k][j][None]], axis=0)\n",
        "                y_aug = np.vstack([y_aug, y[j][None]])\n",
        "\n",
        "    # shuffle before returning\n",
        "    shuffled = shuffle(*Xs_aug, y_aug, random_state=42)\n",
        "    Xs_aug = shuffled[:-1]  # semua kecuali terakhir (fitur)\n",
        "    y_aug = shuffled[-1]    # label di posisi terakhir\n",
        "    return tuple(Xs_aug) + (y_aug,)\n",
        "\n"
      ]
    },
    {
      "cell_type": "code",
      "execution_count": 348,
      "metadata": {},
      "outputs": [
        {
          "name": "stdout",
          "output_type": "stream",
          "text": [
            "Shape X_train_type_aug: (1444, 2)\n",
            "Shape X_train_concern_aug: (1444, 2)\n",
            "Shape X_train_goal_aug: (1444, 2)\n",
            "Shape y_train_aug: (1444, 6)\n",
            "\n",
            "Distribusi label setelah augmentasi:\n",
            "Label 0 (acne): 377 kali\n",
            "Label 1 (anti_aging): 318 kali\n",
            "Label 2 (brightening): 509 kali\n",
            "Label 3 (calming): 316 kali\n",
            "Label 4 (exfoliant): 300 kali\n",
            "Label 5 (hydrating): 361 kali\n"
          ]
        }
      ],
      "source": [
        "X_train_type_aug, X_train_concern_aug, X_train_goal_aug, y_train_aug = duplicate_minority_to_target(\n",
        "    [X_train_type, X_train_concern, X_train_goal], y_train, target_count=300\n",
        ")\n",
        "\n",
        "print(\"Shape X_train_type_aug:\", X_train_type_aug.shape)\n",
        "print(\"Shape X_train_concern_aug:\", X_train_concern_aug.shape)\n",
        "print(\"Shape X_train_goal_aug:\", X_train_goal_aug.shape)\n",
        "print(\"Shape y_train_aug:\", y_train_aug.shape)\n",
        "\n",
        "# Distribusi label\n",
        "print(\"\\nDistribusi label setelah augmentasi:\")\n",
        "for i in range(y_train_aug.shape[1]):\n",
        "    count = np.sum(y_train_aug[:, i])\n",
        "    print(f\"Label {i} ({mlb_ingredient_category.classes_[i]}): {count} kali\")\n"
      ]
    },
    {
      "cell_type": "code",
      "execution_count": 350,
      "metadata": {},
      "outputs": [],
      "source": [
        "from sklearn.utils.class_weight import compute_class_weight\n",
        "import numpy as np\n",
        "\n",
        "class_weights = {}\n",
        "for i, col in enumerate(mlb_ingredient_category.classes_):\n",
        "    weights = compute_class_weight(\n",
        "        class_weight='balanced',\n",
        "        classes=np.array([0, 1]),  # fix: ubah jadi numpy array\n",
        "        y=y_train_aug[:, i]\n",
        "    )\n",
        "    class_weights[i] = weights[1]  # ambil weight untuk kelas 1 (positif)\n"
      ]
    },
    {
      "cell_type": "code",
      "execution_count": 362,
      "metadata": {},
      "outputs": [
        {
          "data": {
            "text/html": [
              "<pre style=\"white-space:pre;overflow-x:auto;line-height:normal;font-family:Menlo,'DejaVu Sans Mono',consolas,'Courier New',monospace\"><span style=\"font-weight: bold\">Model: \"functional_132\"</span>\n",
              "</pre>\n"
            ],
            "text/plain": [
              "\u001b[1mModel: \"functional_132\"\u001b[0m\n"
            ]
          },
          "metadata": {},
          "output_type": "display_data"
        },
        {
          "data": {
            "text/html": [
              "<pre style=\"white-space:pre;overflow-x:auto;line-height:normal;font-family:Menlo,'DejaVu Sans Mono',consolas,'Courier New',monospace\">┏━━━━━━━━━━━━━━━━━━━━━┳━━━━━━━━━━━━━━━━━━━┳━━━━━━━━━━━━┳━━━━━━━━━━━━━━━━━━━┓\n",
              "┃<span style=\"font-weight: bold\"> Layer (type)        </span>┃<span style=\"font-weight: bold\"> Output Shape      </span>┃<span style=\"font-weight: bold\">    Param # </span>┃<span style=\"font-weight: bold\"> Connected to      </span>┃\n",
              "┡━━━━━━━━━━━━━━━━━━━━━╇━━━━━━━━━━━━━━━━━━━╇━━━━━━━━━━━━╇━━━━━━━━━━━━━━━━━━━┩\n",
              "│ skin_type_input     │ (<span style=\"color: #00d7ff; text-decoration-color: #00d7ff\">None</span>, <span style=\"color: #00af00; text-decoration-color: #00af00\">2</span>)         │          <span style=\"color: #00af00; text-decoration-color: #00af00\">0</span> │ -                 │\n",
              "│ (<span style=\"color: #0087ff; text-decoration-color: #0087ff\">InputLayer</span>)        │                   │            │                   │\n",
              "├─────────────────────┼───────────────────┼────────────┼───────────────────┤\n",
              "│ concern_input       │ (<span style=\"color: #00d7ff; text-decoration-color: #00d7ff\">None</span>, <span style=\"color: #00af00; text-decoration-color: #00af00\">2</span>)         │          <span style=\"color: #00af00; text-decoration-color: #00af00\">0</span> │ -                 │\n",
              "│ (<span style=\"color: #0087ff; text-decoration-color: #0087ff\">InputLayer</span>)        │                   │            │                   │\n",
              "├─────────────────────┼───────────────────┼────────────┼───────────────────┤\n",
              "│ goal_input          │ (<span style=\"color: #00d7ff; text-decoration-color: #00d7ff\">None</span>, <span style=\"color: #00af00; text-decoration-color: #00af00\">2</span>)         │          <span style=\"color: #00af00; text-decoration-color: #00af00\">0</span> │ -                 │\n",
              "│ (<span style=\"color: #0087ff; text-decoration-color: #0087ff\">InputLayer</span>)        │                   │            │                   │\n",
              "├─────────────────────┼───────────────────┼────────────┼───────────────────┤\n",
              "│ embedding_13        │ (<span style=\"color: #00d7ff; text-decoration-color: #00d7ff\">None</span>, <span style=\"color: #00af00; text-decoration-color: #00af00\">2</span>, <span style=\"color: #00af00; text-decoration-color: #00af00\">8</span>)      │         <span style=\"color: #00af00; text-decoration-color: #00af00\">40</span> │ skin_type_input[<span style=\"color: #00af00; text-decoration-color: #00af00\">…</span> │\n",
              "│ (<span style=\"color: #0087ff; text-decoration-color: #0087ff\">Embedding</span>)         │                   │            │                   │\n",
              "├─────────────────────┼───────────────────┼────────────┼───────────────────┤\n",
              "│ embedding_14        │ (<span style=\"color: #00d7ff; text-decoration-color: #00d7ff\">None</span>, <span style=\"color: #00af00; text-decoration-color: #00af00\">2</span>, <span style=\"color: #00af00; text-decoration-color: #00af00\">8</span>)      │        <span style=\"color: #00af00; text-decoration-color: #00af00\">128</span> │ concern_input[<span style=\"color: #00af00; text-decoration-color: #00af00\">0</span>]… │\n",
              "│ (<span style=\"color: #0087ff; text-decoration-color: #0087ff\">Embedding</span>)         │                   │            │                   │\n",
              "├─────────────────────┼───────────────────┼────────────┼───────────────────┤\n",
              "│ embedding_15        │ (<span style=\"color: #00d7ff; text-decoration-color: #00d7ff\">None</span>, <span style=\"color: #00af00; text-decoration-color: #00af00\">2</span>, <span style=\"color: #00af00; text-decoration-color: #00af00\">8</span>)      │        <span style=\"color: #00af00; text-decoration-color: #00af00\">168</span> │ goal_input[<span style=\"color: #00af00; text-decoration-color: #00af00\">0</span>][<span style=\"color: #00af00; text-decoration-color: #00af00\">0</span>]  │\n",
              "│ (<span style=\"color: #0087ff; text-decoration-color: #0087ff\">Embedding</span>)         │                   │            │                   │\n",
              "├─────────────────────┼───────────────────┼────────────┼───────────────────┤\n",
              "│ flatten_12          │ (<span style=\"color: #00d7ff; text-decoration-color: #00d7ff\">None</span>, <span style=\"color: #00af00; text-decoration-color: #00af00\">16</span>)        │          <span style=\"color: #00af00; text-decoration-color: #00af00\">0</span> │ embedding_13[<span style=\"color: #00af00; text-decoration-color: #00af00\">0</span>][<span style=\"color: #00af00; text-decoration-color: #00af00\">…</span> │\n",
              "│ (<span style=\"color: #0087ff; text-decoration-color: #0087ff\">Flatten</span>)           │                   │            │                   │\n",
              "├─────────────────────┼───────────────────┼────────────┼───────────────────┤\n",
              "│ flatten_13          │ (<span style=\"color: #00d7ff; text-decoration-color: #00d7ff\">None</span>, <span style=\"color: #00af00; text-decoration-color: #00af00\">16</span>)        │          <span style=\"color: #00af00; text-decoration-color: #00af00\">0</span> │ embedding_14[<span style=\"color: #00af00; text-decoration-color: #00af00\">0</span>][<span style=\"color: #00af00; text-decoration-color: #00af00\">…</span> │\n",
              "│ (<span style=\"color: #0087ff; text-decoration-color: #0087ff\">Flatten</span>)           │                   │            │                   │\n",
              "├─────────────────────┼───────────────────┼────────────┼───────────────────┤\n",
              "│ flatten_14          │ (<span style=\"color: #00d7ff; text-decoration-color: #00d7ff\">None</span>, <span style=\"color: #00af00; text-decoration-color: #00af00\">16</span>)        │          <span style=\"color: #00af00; text-decoration-color: #00af00\">0</span> │ embedding_15[<span style=\"color: #00af00; text-decoration-color: #00af00\">0</span>][<span style=\"color: #00af00; text-decoration-color: #00af00\">…</span> │\n",
              "│ (<span style=\"color: #0087ff; text-decoration-color: #0087ff\">Flatten</span>)           │                   │            │                   │\n",
              "├─────────────────────┼───────────────────┼────────────┼───────────────────┤\n",
              "│ concatenate_4       │ (<span style=\"color: #00d7ff; text-decoration-color: #00d7ff\">None</span>, <span style=\"color: #00af00; text-decoration-color: #00af00\">48</span>)        │          <span style=\"color: #00af00; text-decoration-color: #00af00\">0</span> │ flatten_12[<span style=\"color: #00af00; text-decoration-color: #00af00\">0</span>][<span style=\"color: #00af00; text-decoration-color: #00af00\">0</span>], │\n",
              "│ (<span style=\"color: #0087ff; text-decoration-color: #0087ff\">Concatenate</span>)       │                   │            │ flatten_13[<span style=\"color: #00af00; text-decoration-color: #00af00\">0</span>][<span style=\"color: #00af00; text-decoration-color: #00af00\">0</span>], │\n",
              "│                     │                   │            │ flatten_14[<span style=\"color: #00af00; text-decoration-color: #00af00\">0</span>][<span style=\"color: #00af00; text-decoration-color: #00af00\">0</span>]  │\n",
              "├─────────────────────┼───────────────────┼────────────┼───────────────────┤\n",
              "│ dense_298 (<span style=\"color: #0087ff; text-decoration-color: #0087ff\">Dense</span>)   │ (<span style=\"color: #00d7ff; text-decoration-color: #00d7ff\">None</span>, <span style=\"color: #00af00; text-decoration-color: #00af00\">64</span>)        │      <span style=\"color: #00af00; text-decoration-color: #00af00\">3,136</span> │ concatenate_4[<span style=\"color: #00af00; text-decoration-color: #00af00\">0</span>]… │\n",
              "├─────────────────────┼───────────────────┼────────────┼───────────────────┤\n",
              "│ dense_299 (<span style=\"color: #0087ff; text-decoration-color: #0087ff\">Dense</span>)   │ (<span style=\"color: #00d7ff; text-decoration-color: #00d7ff\">None</span>, <span style=\"color: #00af00; text-decoration-color: #00af00\">6</span>)         │        <span style=\"color: #00af00; text-decoration-color: #00af00\">390</span> │ dense_298[<span style=\"color: #00af00; text-decoration-color: #00af00\">0</span>][<span style=\"color: #00af00; text-decoration-color: #00af00\">0</span>]   │\n",
              "└─────────────────────┴───────────────────┴────────────┴───────────────────┘\n",
              "</pre>\n"
            ],
            "text/plain": [
              "┏━━━━━━━━━━━━━━━━━━━━━┳━━━━━━━━━━━━━━━━━━━┳━━━━━━━━━━━━┳━━━━━━━━━━━━━━━━━━━┓\n",
              "┃\u001b[1m \u001b[0m\u001b[1mLayer (type)       \u001b[0m\u001b[1m \u001b[0m┃\u001b[1m \u001b[0m\u001b[1mOutput Shape     \u001b[0m\u001b[1m \u001b[0m┃\u001b[1m \u001b[0m\u001b[1m   Param #\u001b[0m\u001b[1m \u001b[0m┃\u001b[1m \u001b[0m\u001b[1mConnected to     \u001b[0m\u001b[1m \u001b[0m┃\n",
              "┡━━━━━━━━━━━━━━━━━━━━━╇━━━━━━━━━━━━━━━━━━━╇━━━━━━━━━━━━╇━━━━━━━━━━━━━━━━━━━┩\n",
              "│ skin_type_input     │ (\u001b[38;5;45mNone\u001b[0m, \u001b[38;5;34m2\u001b[0m)         │          \u001b[38;5;34m0\u001b[0m │ -                 │\n",
              "│ (\u001b[38;5;33mInputLayer\u001b[0m)        │                   │            │                   │\n",
              "├─────────────────────┼───────────────────┼────────────┼───────────────────┤\n",
              "│ concern_input       │ (\u001b[38;5;45mNone\u001b[0m, \u001b[38;5;34m2\u001b[0m)         │          \u001b[38;5;34m0\u001b[0m │ -                 │\n",
              "│ (\u001b[38;5;33mInputLayer\u001b[0m)        │                   │            │                   │\n",
              "├─────────────────────┼───────────────────┼────────────┼───────────────────┤\n",
              "│ goal_input          │ (\u001b[38;5;45mNone\u001b[0m, \u001b[38;5;34m2\u001b[0m)         │          \u001b[38;5;34m0\u001b[0m │ -                 │\n",
              "│ (\u001b[38;5;33mInputLayer\u001b[0m)        │                   │            │                   │\n",
              "├─────────────────────┼───────────────────┼────────────┼───────────────────┤\n",
              "│ embedding_13        │ (\u001b[38;5;45mNone\u001b[0m, \u001b[38;5;34m2\u001b[0m, \u001b[38;5;34m8\u001b[0m)      │         \u001b[38;5;34m40\u001b[0m │ skin_type_input[\u001b[38;5;34m…\u001b[0m │\n",
              "│ (\u001b[38;5;33mEmbedding\u001b[0m)         │                   │            │                   │\n",
              "├─────────────────────┼───────────────────┼────────────┼───────────────────┤\n",
              "│ embedding_14        │ (\u001b[38;5;45mNone\u001b[0m, \u001b[38;5;34m2\u001b[0m, \u001b[38;5;34m8\u001b[0m)      │        \u001b[38;5;34m128\u001b[0m │ concern_input[\u001b[38;5;34m0\u001b[0m]… │\n",
              "│ (\u001b[38;5;33mEmbedding\u001b[0m)         │                   │            │                   │\n",
              "├─────────────────────┼───────────────────┼────────────┼───────────────────┤\n",
              "│ embedding_15        │ (\u001b[38;5;45mNone\u001b[0m, \u001b[38;5;34m2\u001b[0m, \u001b[38;5;34m8\u001b[0m)      │        \u001b[38;5;34m168\u001b[0m │ goal_input[\u001b[38;5;34m0\u001b[0m][\u001b[38;5;34m0\u001b[0m]  │\n",
              "│ (\u001b[38;5;33mEmbedding\u001b[0m)         │                   │            │                   │\n",
              "├─────────────────────┼───────────────────┼────────────┼───────────────────┤\n",
              "│ flatten_12          │ (\u001b[38;5;45mNone\u001b[0m, \u001b[38;5;34m16\u001b[0m)        │          \u001b[38;5;34m0\u001b[0m │ embedding_13[\u001b[38;5;34m0\u001b[0m][\u001b[38;5;34m…\u001b[0m │\n",
              "│ (\u001b[38;5;33mFlatten\u001b[0m)           │                   │            │                   │\n",
              "├─────────────────────┼───────────────────┼────────────┼───────────────────┤\n",
              "│ flatten_13          │ (\u001b[38;5;45mNone\u001b[0m, \u001b[38;5;34m16\u001b[0m)        │          \u001b[38;5;34m0\u001b[0m │ embedding_14[\u001b[38;5;34m0\u001b[0m][\u001b[38;5;34m…\u001b[0m │\n",
              "│ (\u001b[38;5;33mFlatten\u001b[0m)           │                   │            │                   │\n",
              "├─────────────────────┼───────────────────┼────────────┼───────────────────┤\n",
              "│ flatten_14          │ (\u001b[38;5;45mNone\u001b[0m, \u001b[38;5;34m16\u001b[0m)        │          \u001b[38;5;34m0\u001b[0m │ embedding_15[\u001b[38;5;34m0\u001b[0m][\u001b[38;5;34m…\u001b[0m │\n",
              "│ (\u001b[38;5;33mFlatten\u001b[0m)           │                   │            │                   │\n",
              "├─────────────────────┼───────────────────┼────────────┼───────────────────┤\n",
              "│ concatenate_4       │ (\u001b[38;5;45mNone\u001b[0m, \u001b[38;5;34m48\u001b[0m)        │          \u001b[38;5;34m0\u001b[0m │ flatten_12[\u001b[38;5;34m0\u001b[0m][\u001b[38;5;34m0\u001b[0m], │\n",
              "│ (\u001b[38;5;33mConcatenate\u001b[0m)       │                   │            │ flatten_13[\u001b[38;5;34m0\u001b[0m][\u001b[38;5;34m0\u001b[0m], │\n",
              "│                     │                   │            │ flatten_14[\u001b[38;5;34m0\u001b[0m][\u001b[38;5;34m0\u001b[0m]  │\n",
              "├─────────────────────┼───────────────────┼────────────┼───────────────────┤\n",
              "│ dense_298 (\u001b[38;5;33mDense\u001b[0m)   │ (\u001b[38;5;45mNone\u001b[0m, \u001b[38;5;34m64\u001b[0m)        │      \u001b[38;5;34m3,136\u001b[0m │ concatenate_4[\u001b[38;5;34m0\u001b[0m]… │\n",
              "├─────────────────────┼───────────────────┼────────────┼───────────────────┤\n",
              "│ dense_299 (\u001b[38;5;33mDense\u001b[0m)   │ (\u001b[38;5;45mNone\u001b[0m, \u001b[38;5;34m6\u001b[0m)         │        \u001b[38;5;34m390\u001b[0m │ dense_298[\u001b[38;5;34m0\u001b[0m][\u001b[38;5;34m0\u001b[0m]   │\n",
              "└─────────────────────┴───────────────────┴────────────┴───────────────────┘\n"
            ]
          },
          "metadata": {},
          "output_type": "display_data"
        },
        {
          "data": {
            "text/html": [
              "<pre style=\"white-space:pre;overflow-x:auto;line-height:normal;font-family:Menlo,'DejaVu Sans Mono',consolas,'Courier New',monospace\"><span style=\"font-weight: bold\"> Total params: </span><span style=\"color: #00af00; text-decoration-color: #00af00\">3,862</span> (15.09 KB)\n",
              "</pre>\n"
            ],
            "text/plain": [
              "\u001b[1m Total params: \u001b[0m\u001b[38;5;34m3,862\u001b[0m (15.09 KB)\n"
            ]
          },
          "metadata": {},
          "output_type": "display_data"
        },
        {
          "data": {
            "text/html": [
              "<pre style=\"white-space:pre;overflow-x:auto;line-height:normal;font-family:Menlo,'DejaVu Sans Mono',consolas,'Courier New',monospace\"><span style=\"font-weight: bold\"> Trainable params: </span><span style=\"color: #00af00; text-decoration-color: #00af00\">3,862</span> (15.09 KB)\n",
              "</pre>\n"
            ],
            "text/plain": [
              "\u001b[1m Trainable params: \u001b[0m\u001b[38;5;34m3,862\u001b[0m (15.09 KB)\n"
            ]
          },
          "metadata": {},
          "output_type": "display_data"
        },
        {
          "data": {
            "text/html": [
              "<pre style=\"white-space:pre;overflow-x:auto;line-height:normal;font-family:Menlo,'DejaVu Sans Mono',consolas,'Courier New',monospace\"><span style=\"font-weight: bold\"> Non-trainable params: </span><span style=\"color: #00af00; text-decoration-color: #00af00\">0</span> (0.00 B)\n",
              "</pre>\n"
            ],
            "text/plain": [
              "\u001b[1m Non-trainable params: \u001b[0m\u001b[38;5;34m0\u001b[0m (0.00 B)\n"
            ]
          },
          "metadata": {},
          "output_type": "display_data"
        }
      ],
      "source": [
        "from tensorflow.keras.models import Model\n",
        "from tensorflow.keras.layers import Input, Embedding, Flatten, Dense, Concatenate\n",
        "from tensorflow.keras.optimizers import Adam\n",
        "from tensorflow.keras.losses import BinaryCrossentropy\n",
        "import tensorflow as tf\n",
        "\n",
        "# Parameter\n",
        "embedding_dim = 8\n",
        "num_classes = y_train_aug.shape[1]\n",
        "\n",
        "input_type = Input(shape=(2,), name='skin_type_input')\n",
        "input_concern = Input(shape=(2,), name='concern_input')\n",
        "input_goal = Input(shape=(2,), name='goal_input')\n",
        "\n",
        "embed_type = Embedding(input_dim=len(vocab_skin_type) + 1, output_dim=embedding_dim)(input_type)\n",
        "embed_concern = Embedding(input_dim=len(vocab_skin_concern) + 1, output_dim=embedding_dim)(input_concern)\n",
        "embed_goal = Embedding(input_dim=len(vocab_skin_goal) + 1, output_dim=embedding_dim)(input_goal)\n",
        "\n",
        "flat_type = Flatten()(embed_type)\n",
        "flat_concern = Flatten()(embed_concern)\n",
        "flat_goal = Flatten()(embed_goal)\n",
        "\n",
        "concat = Concatenate()([flat_type, flat_concern, flat_goal])\n",
        "dense = Dense(64, activation='relu')(concat)\n",
        "output = Dense(num_classes, activation='sigmoid')(dense)\n",
        "\n",
        "model = Model(inputs=[input_type, input_concern, input_goal], outputs=output)\n",
        "model.compile(\n",
        "    optimizer=Adam(learning_rate=0.001),\n",
        "    loss=BinaryCrossentropy(),\n",
        "    metrics=['accuracy']\n",
        ")\n",
        "model.summary()\n",
        "\n"
      ]
    },
    {
      "cell_type": "code",
      "execution_count": 363,
      "metadata": {},
      "outputs": [
        {
          "name": "stdout",
          "output_type": "stream",
          "text": [
            "Epoch 1/20\n"
          ]
        },
        {
          "name": "stderr",
          "output_type": "stream",
          "text": [
            "/Users/jasmein/.pyenv/versions/3.11.4/lib/python3.11/site-packages/keras/src/models/functional.py:225: UserWarning: The structure of `inputs` doesn't match the expected structure: ['skin_type_input', 'concern_input', 'goal_input']. Received: the structure of inputs={'skin_type_input': '*', 'concern_input': '*', 'goal_input': '*'}\n",
            "  warnings.warn(\n",
            "2025-06-08 09:07:20.410077: W tensorflow/core/framework/local_rendezvous.cc:404] Local rendezvous is aborting with status: INVALID_ARGUMENT: indices[0,1] = 7 is not in [0, 5)\n",
            "\t [[{{function_node __inference_one_step_on_data_1536943}}{{node functional_132_1/embedding_13_1/GatherV2}}]]\n"
          ]
        },
        {
          "ename": "InvalidArgumentError",
          "evalue": "Graph execution error:\n\nDetected at node functional_132_1/embedding_13_1/GatherV2 defined at (most recent call last):\n  File \"<frozen runpy>\", line 198, in _run_module_as_main\n\n  File \"<frozen runpy>\", line 88, in _run_code\n\n  File \"/Users/jasmein/.pyenv/versions/3.11.4/lib/python3.11/site-packages/ipykernel_launcher.py\", line 18, in <module>\n\n  File \"/Users/jasmein/.pyenv/versions/3.11.4/lib/python3.11/site-packages/traitlets/config/application.py\", line 1075, in launch_instance\n\n  File \"/Users/jasmein/.pyenv/versions/3.11.4/lib/python3.11/site-packages/ipykernel/kernelapp.py\", line 739, in start\n\n  File \"/Users/jasmein/.pyenv/versions/3.11.4/lib/python3.11/site-packages/tornado/platform/asyncio.py\", line 205, in start\n\n  File \"/Users/jasmein/.pyenv/versions/3.11.4/lib/python3.11/asyncio/base_events.py\", line 607, in run_forever\n\n  File \"/Users/jasmein/.pyenv/versions/3.11.4/lib/python3.11/asyncio/base_events.py\", line 1922, in _run_once\n\n  File \"/Users/jasmein/.pyenv/versions/3.11.4/lib/python3.11/asyncio/events.py\", line 80, in _run\n\n  File \"/Users/jasmein/.pyenv/versions/3.11.4/lib/python3.11/site-packages/ipykernel/kernelbase.py\", line 545, in dispatch_queue\n\n  File \"/Users/jasmein/.pyenv/versions/3.11.4/lib/python3.11/site-packages/ipykernel/kernelbase.py\", line 534, in process_one\n\n  File \"/Users/jasmein/.pyenv/versions/3.11.4/lib/python3.11/site-packages/ipykernel/kernelbase.py\", line 437, in dispatch_shell\n\n  File \"/Users/jasmein/.pyenv/versions/3.11.4/lib/python3.11/site-packages/ipykernel/ipkernel.py\", line 362, in execute_request\n\n  File \"/Users/jasmein/.pyenv/versions/3.11.4/lib/python3.11/site-packages/ipykernel/kernelbase.py\", line 778, in execute_request\n\n  File \"/Users/jasmein/.pyenv/versions/3.11.4/lib/python3.11/site-packages/ipykernel/ipkernel.py\", line 449, in do_execute\n\n  File \"/Users/jasmein/.pyenv/versions/3.11.4/lib/python3.11/site-packages/ipykernel/zmqshell.py\", line 549, in run_cell\n\n  File \"/Users/jasmein/.pyenv/versions/3.11.4/lib/python3.11/site-packages/IPython/core/interactiveshell.py\", line 3009, in run_cell\n\n  File \"/Users/jasmein/.pyenv/versions/3.11.4/lib/python3.11/site-packages/IPython/core/interactiveshell.py\", line 3064, in _run_cell\n\n  File \"/Users/jasmein/.pyenv/versions/3.11.4/lib/python3.11/site-packages/IPython/core/async_helpers.py\", line 129, in _pseudo_sync_runner\n\n  File \"/Users/jasmein/.pyenv/versions/3.11.4/lib/python3.11/site-packages/IPython/core/interactiveshell.py\", line 3269, in run_cell_async\n\n  File \"/Users/jasmein/.pyenv/versions/3.11.4/lib/python3.11/site-packages/IPython/core/interactiveshell.py\", line 3448, in run_ast_nodes\n\n  File \"/Users/jasmein/.pyenv/versions/3.11.4/lib/python3.11/site-packages/IPython/core/interactiveshell.py\", line 3508, in run_code\n\n  File \"/var/folders/pv/hl8lt53s3212m50jmr0nb5q00000gp/T/ipykernel_20834/525365496.py\", line 7, in <module>\n\n  File \"/Users/jasmein/.pyenv/versions/3.11.4/lib/python3.11/site-packages/keras/src/utils/traceback_utils.py\", line 117, in error_handler\n\n  File \"/Users/jasmein/.pyenv/versions/3.11.4/lib/python3.11/site-packages/keras/src/backend/tensorflow/trainer.py\", line 320, in fit\n\n  File \"/Users/jasmein/.pyenv/versions/3.11.4/lib/python3.11/site-packages/keras/src/backend/tensorflow/trainer.py\", line 121, in one_step_on_iterator\n\n  File \"/Users/jasmein/.pyenv/versions/3.11.4/lib/python3.11/site-packages/keras/src/backend/tensorflow/trainer.py\", line 108, in one_step_on_data\n\n  File \"/Users/jasmein/.pyenv/versions/3.11.4/lib/python3.11/site-packages/keras/src/backend/tensorflow/trainer.py\", line 51, in train_step\n\n  File \"/Users/jasmein/.pyenv/versions/3.11.4/lib/python3.11/site-packages/keras/src/utils/traceback_utils.py\", line 117, in error_handler\n\n  File \"/Users/jasmein/.pyenv/versions/3.11.4/lib/python3.11/site-packages/keras/src/layers/layer.py\", line 899, in __call__\n\n  File \"/Users/jasmein/.pyenv/versions/3.11.4/lib/python3.11/site-packages/keras/src/utils/traceback_utils.py\", line 117, in error_handler\n\n  File \"/Users/jasmein/.pyenv/versions/3.11.4/lib/python3.11/site-packages/keras/src/ops/operation.py\", line 46, in __call__\n\n  File \"/Users/jasmein/.pyenv/versions/3.11.4/lib/python3.11/site-packages/keras/src/utils/traceback_utils.py\", line 156, in error_handler\n\n  File \"/Users/jasmein/.pyenv/versions/3.11.4/lib/python3.11/site-packages/keras/src/models/functional.py\", line 182, in call\n\n  File \"/Users/jasmein/.pyenv/versions/3.11.4/lib/python3.11/site-packages/keras/src/ops/function.py\", line 171, in _run_through_graph\n\n  File \"/Users/jasmein/.pyenv/versions/3.11.4/lib/python3.11/site-packages/keras/src/models/functional.py\", line 584, in call\n\n  File \"/Users/jasmein/.pyenv/versions/3.11.4/lib/python3.11/site-packages/keras/src/utils/traceback_utils.py\", line 117, in error_handler\n\n  File \"/Users/jasmein/.pyenv/versions/3.11.4/lib/python3.11/site-packages/keras/src/layers/layer.py\", line 899, in __call__\n\n  File \"/Users/jasmein/.pyenv/versions/3.11.4/lib/python3.11/site-packages/keras/src/utils/traceback_utils.py\", line 117, in error_handler\n\n  File \"/Users/jasmein/.pyenv/versions/3.11.4/lib/python3.11/site-packages/keras/src/ops/operation.py\", line 46, in __call__\n\n  File \"/Users/jasmein/.pyenv/versions/3.11.4/lib/python3.11/site-packages/keras/src/utils/traceback_utils.py\", line 156, in error_handler\n\n  File \"/Users/jasmein/.pyenv/versions/3.11.4/lib/python3.11/site-packages/keras/src/layers/core/embedding.py\", line 140, in call\n\n  File \"/Users/jasmein/.pyenv/versions/3.11.4/lib/python3.11/site-packages/keras/src/ops/numpy.py\", line 5206, in take\n\n  File \"/Users/jasmein/.pyenv/versions/3.11.4/lib/python3.11/site-packages/keras/src/backend/tensorflow/numpy.py\", line 2029, in take\n\nindices[0,1] = 7 is not in [0, 5)\n\t [[{{node functional_132_1/embedding_13_1/GatherV2}}]] [Op:__inference_one_step_on_iterator_1537002]",
          "output_type": "error",
          "traceback": [
            "\u001b[0;31m---------------------------------------------------------------------------\u001b[0m",
            "\u001b[0;31mInvalidArgumentError\u001b[0m                      Traceback (most recent call last)",
            "Cell \u001b[0;32mIn[363], line 7\u001b[0m\n\u001b[1;32m      3\u001b[0m \u001b[38;5;28;01mfor\u001b[39;00m i \u001b[38;5;129;01min\u001b[39;00m \u001b[38;5;28mrange\u001b[39m(num_classes):\n\u001b[1;32m      4\u001b[0m     sample_weights \u001b[38;5;241m+\u001b[39m\u001b[38;5;241m=\u001b[39m y_train_aug[:, i] \u001b[38;5;241m*\u001b[39m class_weights[i]\n\u001b[0;32m----> 7\u001b[0m history \u001b[38;5;241m=\u001b[39m \u001b[43mmodel\u001b[49m\u001b[38;5;241;43m.\u001b[39;49m\u001b[43mfit\u001b[49m\u001b[43m(\u001b[49m\n\u001b[1;32m      8\u001b[0m \u001b[43m    \u001b[49m\u001b[43mx\u001b[49m\u001b[38;5;241;43m=\u001b[39;49m\u001b[43m{\u001b[49m\n\u001b[1;32m      9\u001b[0m \u001b[43m        \u001b[49m\u001b[38;5;124;43m'\u001b[39;49m\u001b[38;5;124;43mskin_type_input\u001b[39;49m\u001b[38;5;124;43m'\u001b[39;49m\u001b[43m:\u001b[49m\u001b[43m \u001b[49m\u001b[43mX_train_type_aug\u001b[49m\u001b[43m,\u001b[49m\n\u001b[1;32m     10\u001b[0m \u001b[43m        \u001b[49m\u001b[38;5;124;43m'\u001b[39;49m\u001b[38;5;124;43mconcern_input\u001b[39;49m\u001b[38;5;124;43m'\u001b[39;49m\u001b[43m:\u001b[49m\u001b[43m \u001b[49m\u001b[43mX_train_concern_aug\u001b[49m\u001b[43m,\u001b[49m\n\u001b[1;32m     11\u001b[0m \u001b[43m        \u001b[49m\u001b[38;5;124;43m'\u001b[39;49m\u001b[38;5;124;43mgoal_input\u001b[39;49m\u001b[38;5;124;43m'\u001b[39;49m\u001b[43m:\u001b[49m\u001b[43m \u001b[49m\u001b[43mX_train_goal_aug\u001b[49m\u001b[43m,\u001b[49m\n\u001b[1;32m     12\u001b[0m \u001b[43m    \u001b[49m\u001b[43m}\u001b[49m\u001b[43m,\u001b[49m\n\u001b[1;32m     13\u001b[0m \u001b[43m    \u001b[49m\u001b[43my\u001b[49m\u001b[38;5;241;43m=\u001b[39;49m\u001b[43my_train_aug\u001b[49m\u001b[43m,\u001b[49m\n\u001b[1;32m     14\u001b[0m \u001b[43m    \u001b[49m\u001b[43msample_weight\u001b[49m\u001b[38;5;241;43m=\u001b[39;49m\u001b[43msample_weights\u001b[49m\u001b[43m,\u001b[49m\n\u001b[1;32m     15\u001b[0m \u001b[43m    \u001b[49m\u001b[43mvalidation_split\u001b[49m\u001b[38;5;241;43m=\u001b[39;49m\u001b[38;5;241;43m0.2\u001b[39;49m\u001b[43m,\u001b[49m\n\u001b[1;32m     16\u001b[0m \u001b[43m    \u001b[49m\u001b[43mepochs\u001b[49m\u001b[38;5;241;43m=\u001b[39;49m\u001b[38;5;241;43m20\u001b[39;49m\u001b[43m,\u001b[49m\n\u001b[1;32m     17\u001b[0m \u001b[43m    \u001b[49m\u001b[43mbatch_size\u001b[49m\u001b[38;5;241;43m=\u001b[39;49m\u001b[38;5;241;43m32\u001b[39;49m\u001b[43m,\u001b[49m\n\u001b[1;32m     18\u001b[0m \u001b[43m    \u001b[49m\u001b[43mverbose\u001b[49m\u001b[38;5;241;43m=\u001b[39;49m\u001b[38;5;241;43m1\u001b[39;49m\n\u001b[1;32m     19\u001b[0m \u001b[43m)\u001b[49m\n",
            "File \u001b[0;32m~/.pyenv/versions/3.11.4/lib/python3.11/site-packages/keras/src/utils/traceback_utils.py:122\u001b[0m, in \u001b[0;36mfilter_traceback.<locals>.error_handler\u001b[0;34m(*args, **kwargs)\u001b[0m\n\u001b[1;32m    119\u001b[0m     filtered_tb \u001b[38;5;241m=\u001b[39m _process_traceback_frames(e\u001b[38;5;241m.\u001b[39m__traceback__)\n\u001b[1;32m    120\u001b[0m     \u001b[38;5;66;03m# To get the full stack trace, call:\u001b[39;00m\n\u001b[1;32m    121\u001b[0m     \u001b[38;5;66;03m# `keras.config.disable_traceback_filtering()`\u001b[39;00m\n\u001b[0;32m--> 122\u001b[0m     \u001b[38;5;28;01mraise\u001b[39;00m e\u001b[38;5;241m.\u001b[39mwith_traceback(filtered_tb) \u001b[38;5;28;01mfrom\u001b[39;00m \u001b[38;5;28;01mNone\u001b[39;00m\n\u001b[1;32m    123\u001b[0m \u001b[38;5;28;01mfinally\u001b[39;00m:\n\u001b[1;32m    124\u001b[0m     \u001b[38;5;28;01mdel\u001b[39;00m filtered_tb\n",
            "File \u001b[0;32m~/.pyenv/versions/3.11.4/lib/python3.11/site-packages/tensorflow/python/eager/execute.py:53\u001b[0m, in \u001b[0;36mquick_execute\u001b[0;34m(op_name, num_outputs, inputs, attrs, ctx, name)\u001b[0m\n\u001b[1;32m     51\u001b[0m \u001b[38;5;28;01mtry\u001b[39;00m:\n\u001b[1;32m     52\u001b[0m   ctx\u001b[38;5;241m.\u001b[39mensure_initialized()\n\u001b[0;32m---> 53\u001b[0m   tensors \u001b[38;5;241m=\u001b[39m pywrap_tfe\u001b[38;5;241m.\u001b[39mTFE_Py_Execute(ctx\u001b[38;5;241m.\u001b[39m_handle, device_name, op_name,\n\u001b[1;32m     54\u001b[0m                                       inputs, attrs, num_outputs)\n\u001b[1;32m     55\u001b[0m \u001b[38;5;28;01mexcept\u001b[39;00m core\u001b[38;5;241m.\u001b[39m_NotOkStatusException \u001b[38;5;28;01mas\u001b[39;00m e:\n\u001b[1;32m     56\u001b[0m   \u001b[38;5;28;01mif\u001b[39;00m name \u001b[38;5;129;01mis\u001b[39;00m \u001b[38;5;129;01mnot\u001b[39;00m \u001b[38;5;28;01mNone\u001b[39;00m:\n",
            "\u001b[0;31mInvalidArgumentError\u001b[0m: Graph execution error:\n\nDetected at node functional_132_1/embedding_13_1/GatherV2 defined at (most recent call last):\n  File \"<frozen runpy>\", line 198, in _run_module_as_main\n\n  File \"<frozen runpy>\", line 88, in _run_code\n\n  File \"/Users/jasmein/.pyenv/versions/3.11.4/lib/python3.11/site-packages/ipykernel_launcher.py\", line 18, in <module>\n\n  File \"/Users/jasmein/.pyenv/versions/3.11.4/lib/python3.11/site-packages/traitlets/config/application.py\", line 1075, in launch_instance\n\n  File \"/Users/jasmein/.pyenv/versions/3.11.4/lib/python3.11/site-packages/ipykernel/kernelapp.py\", line 739, in start\n\n  File \"/Users/jasmein/.pyenv/versions/3.11.4/lib/python3.11/site-packages/tornado/platform/asyncio.py\", line 205, in start\n\n  File \"/Users/jasmein/.pyenv/versions/3.11.4/lib/python3.11/asyncio/base_events.py\", line 607, in run_forever\n\n  File \"/Users/jasmein/.pyenv/versions/3.11.4/lib/python3.11/asyncio/base_events.py\", line 1922, in _run_once\n\n  File \"/Users/jasmein/.pyenv/versions/3.11.4/lib/python3.11/asyncio/events.py\", line 80, in _run\n\n  File \"/Users/jasmein/.pyenv/versions/3.11.4/lib/python3.11/site-packages/ipykernel/kernelbase.py\", line 545, in dispatch_queue\n\n  File \"/Users/jasmein/.pyenv/versions/3.11.4/lib/python3.11/site-packages/ipykernel/kernelbase.py\", line 534, in process_one\n\n  File \"/Users/jasmein/.pyenv/versions/3.11.4/lib/python3.11/site-packages/ipykernel/kernelbase.py\", line 437, in dispatch_shell\n\n  File \"/Users/jasmein/.pyenv/versions/3.11.4/lib/python3.11/site-packages/ipykernel/ipkernel.py\", line 362, in execute_request\n\n  File \"/Users/jasmein/.pyenv/versions/3.11.4/lib/python3.11/site-packages/ipykernel/kernelbase.py\", line 778, in execute_request\n\n  File \"/Users/jasmein/.pyenv/versions/3.11.4/lib/python3.11/site-packages/ipykernel/ipkernel.py\", line 449, in do_execute\n\n  File \"/Users/jasmein/.pyenv/versions/3.11.4/lib/python3.11/site-packages/ipykernel/zmqshell.py\", line 549, in run_cell\n\n  File \"/Users/jasmein/.pyenv/versions/3.11.4/lib/python3.11/site-packages/IPython/core/interactiveshell.py\", line 3009, in run_cell\n\n  File \"/Users/jasmein/.pyenv/versions/3.11.4/lib/python3.11/site-packages/IPython/core/interactiveshell.py\", line 3064, in _run_cell\n\n  File \"/Users/jasmein/.pyenv/versions/3.11.4/lib/python3.11/site-packages/IPython/core/async_helpers.py\", line 129, in _pseudo_sync_runner\n\n  File \"/Users/jasmein/.pyenv/versions/3.11.4/lib/python3.11/site-packages/IPython/core/interactiveshell.py\", line 3269, in run_cell_async\n\n  File \"/Users/jasmein/.pyenv/versions/3.11.4/lib/python3.11/site-packages/IPython/core/interactiveshell.py\", line 3448, in run_ast_nodes\n\n  File \"/Users/jasmein/.pyenv/versions/3.11.4/lib/python3.11/site-packages/IPython/core/interactiveshell.py\", line 3508, in run_code\n\n  File \"/var/folders/pv/hl8lt53s3212m50jmr0nb5q00000gp/T/ipykernel_20834/525365496.py\", line 7, in <module>\n\n  File \"/Users/jasmein/.pyenv/versions/3.11.4/lib/python3.11/site-packages/keras/src/utils/traceback_utils.py\", line 117, in error_handler\n\n  File \"/Users/jasmein/.pyenv/versions/3.11.4/lib/python3.11/site-packages/keras/src/backend/tensorflow/trainer.py\", line 320, in fit\n\n  File \"/Users/jasmein/.pyenv/versions/3.11.4/lib/python3.11/site-packages/keras/src/backend/tensorflow/trainer.py\", line 121, in one_step_on_iterator\n\n  File \"/Users/jasmein/.pyenv/versions/3.11.4/lib/python3.11/site-packages/keras/src/backend/tensorflow/trainer.py\", line 108, in one_step_on_data\n\n  File \"/Users/jasmein/.pyenv/versions/3.11.4/lib/python3.11/site-packages/keras/src/backend/tensorflow/trainer.py\", line 51, in train_step\n\n  File \"/Users/jasmein/.pyenv/versions/3.11.4/lib/python3.11/site-packages/keras/src/utils/traceback_utils.py\", line 117, in error_handler\n\n  File \"/Users/jasmein/.pyenv/versions/3.11.4/lib/python3.11/site-packages/keras/src/layers/layer.py\", line 899, in __call__\n\n  File \"/Users/jasmein/.pyenv/versions/3.11.4/lib/python3.11/site-packages/keras/src/utils/traceback_utils.py\", line 117, in error_handler\n\n  File \"/Users/jasmein/.pyenv/versions/3.11.4/lib/python3.11/site-packages/keras/src/ops/operation.py\", line 46, in __call__\n\n  File \"/Users/jasmein/.pyenv/versions/3.11.4/lib/python3.11/site-packages/keras/src/utils/traceback_utils.py\", line 156, in error_handler\n\n  File \"/Users/jasmein/.pyenv/versions/3.11.4/lib/python3.11/site-packages/keras/src/models/functional.py\", line 182, in call\n\n  File \"/Users/jasmein/.pyenv/versions/3.11.4/lib/python3.11/site-packages/keras/src/ops/function.py\", line 171, in _run_through_graph\n\n  File \"/Users/jasmein/.pyenv/versions/3.11.4/lib/python3.11/site-packages/keras/src/models/functional.py\", line 584, in call\n\n  File \"/Users/jasmein/.pyenv/versions/3.11.4/lib/python3.11/site-packages/keras/src/utils/traceback_utils.py\", line 117, in error_handler\n\n  File \"/Users/jasmein/.pyenv/versions/3.11.4/lib/python3.11/site-packages/keras/src/layers/layer.py\", line 899, in __call__\n\n  File \"/Users/jasmein/.pyenv/versions/3.11.4/lib/python3.11/site-packages/keras/src/utils/traceback_utils.py\", line 117, in error_handler\n\n  File \"/Users/jasmein/.pyenv/versions/3.11.4/lib/python3.11/site-packages/keras/src/ops/operation.py\", line 46, in __call__\n\n  File \"/Users/jasmein/.pyenv/versions/3.11.4/lib/python3.11/site-packages/keras/src/utils/traceback_utils.py\", line 156, in error_handler\n\n  File \"/Users/jasmein/.pyenv/versions/3.11.4/lib/python3.11/site-packages/keras/src/layers/core/embedding.py\", line 140, in call\n\n  File \"/Users/jasmein/.pyenv/versions/3.11.4/lib/python3.11/site-packages/keras/src/ops/numpy.py\", line 5206, in take\n\n  File \"/Users/jasmein/.pyenv/versions/3.11.4/lib/python3.11/site-packages/keras/src/backend/tensorflow/numpy.py\", line 2029, in take\n\nindices[0,1] = 7 is not in [0, 5)\n\t [[{{node functional_132_1/embedding_13_1/GatherV2}}]] [Op:__inference_one_step_on_iterator_1537002]"
          ]
        }
      ],
      "source": [
        "# Hitung sample weight manual untuk setiap label positif\n",
        "sample_weights = np.ones(y_train_aug.shape[0], dtype=np.float32)\n",
        "for i in range(num_classes):\n",
        "    sample_weights += y_train_aug[:, i] * class_weights[i]\n",
        "\n",
        "\n",
        "history = model.fit(\n",
        "    x={\n",
        "        'skin_type_input': X_train_type_aug,\n",
        "        'concern_input': X_train_concern_aug,\n",
        "        'goal_input': X_train_goal_aug,\n",
        "    },\n",
        "    y=y_train_aug,\n",
        "    sample_weight=sample_weights,\n",
        "    validation_split=0.2,\n",
        "    epochs=20,\n",
        "    batch_size=32,\n",
        "    verbose=1\n",
        ")\n",
        "\n"
      ]
    },
    {
      "cell_type": "code",
      "execution_count": null,
      "metadata": {},
      "outputs": [],
      "source": [
        "from sklearn.metrics import classification_report\n",
        "\n",
        "y_pred_proba = model.predict([X_test_type, X_test_concern, X_test_goal])\n",
        "y_pred = (y_pred_proba >= 0.5).astype(int)\n",
        "\n",
        "print(\"Classification Report:\\n\")\n",
        "print(classification_report(y_test, y_pred, target_names=mlb_ingredient_category.classes_))\n",
        "\n",
        "# metrics\n",
        "def calculate_metrics(y_true, y_pred):\n",
        "    accuracy = accuracy_score(y_true, y_pred)\n",
        "    f1 = f1_score(y_true, y_pred, average='weighted')\n",
        "    hamming = hamming_loss(y_true, y_pred)\n",
        "    jaccard = jaccard_score(y_true, y_pred, average='weighted')\n",
        "\n",
        "    return {\n",
        "        'accuracy': accuracy,\n",
        "        'f1_score': f1,\n",
        "        'hamming_loss': hamming,\n",
        "        'jaccard_score': jaccard\n",
        "    }\n",
        "metrics = calculate_metrics(y_test, y_pred)\n",
        "print(\"\\nMetrics:\")\n",
        "for metric, value in metrics.items():\n",
        "    print(f\"{metric}: {value:.4f}\")"
      ]
    },
    {
      "cell_type": "code",
      "execution_count": 316,
      "metadata": {},
      "outputs": [
        {
          "data": {
            "text/html": [
              "<pre style=\"white-space:pre;overflow-x:auto;line-height:normal;font-family:Menlo,'DejaVu Sans Mono',consolas,'Courier New',monospace\"><span style=\"font-weight: bold\">Model: \"functional_128\"</span>\n",
              "</pre>\n"
            ],
            "text/plain": [
              "\u001b[1mModel: \"functional_128\"\u001b[0m\n"
            ]
          },
          "metadata": {},
          "output_type": "display_data"
        },
        {
          "data": {
            "text/html": [
              "<pre style=\"white-space:pre;overflow-x:auto;line-height:normal;font-family:Menlo,'DejaVu Sans Mono',consolas,'Courier New',monospace\">┏━━━━━━━━━━━━━━━━━━━━━┳━━━━━━━━━━━━━━━━━━━┳━━━━━━━━━━━━┳━━━━━━━━━━━━━━━━━━━┓\n",
              "┃<span style=\"font-weight: bold\"> Layer (type)        </span>┃<span style=\"font-weight: bold\"> Output Shape      </span>┃<span style=\"font-weight: bold\">    Param # </span>┃<span style=\"font-weight: bold\"> Connected to      </span>┃\n",
              "┡━━━━━━━━━━━━━━━━━━━━━╇━━━━━━━━━━━━━━━━━━━╇━━━━━━━━━━━━╇━━━━━━━━━━━━━━━━━━━┩\n",
              "│ skin_type           │ (<span style=\"color: #00d7ff; text-decoration-color: #00d7ff\">None</span>, <span style=\"color: #00af00; text-decoration-color: #00af00\">2</span>)         │          <span style=\"color: #00af00; text-decoration-color: #00af00\">0</span> │ -                 │\n",
              "│ (<span style=\"color: #0087ff; text-decoration-color: #0087ff\">InputLayer</span>)        │                   │            │                   │\n",
              "├─────────────────────┼───────────────────┼────────────┼───────────────────┤\n",
              "│ skin_concern        │ (<span style=\"color: #00d7ff; text-decoration-color: #00d7ff\">None</span>, <span style=\"color: #00af00; text-decoration-color: #00af00\">2</span>)         │          <span style=\"color: #00af00; text-decoration-color: #00af00\">0</span> │ -                 │\n",
              "│ (<span style=\"color: #0087ff; text-decoration-color: #0087ff\">InputLayer</span>)        │                   │            │                   │\n",
              "├─────────────────────┼───────────────────┼────────────┼───────────────────┤\n",
              "│ skin_goal           │ (<span style=\"color: #00d7ff; text-decoration-color: #00d7ff\">None</span>, <span style=\"color: #00af00; text-decoration-color: #00af00\">2</span>)         │          <span style=\"color: #00af00; text-decoration-color: #00af00\">0</span> │ -                 │\n",
              "│ (<span style=\"color: #0087ff; text-decoration-color: #0087ff\">InputLayer</span>)        │                   │            │                   │\n",
              "├─────────────────────┼───────────────────┼────────────┼───────────────────┤\n",
              "│ embedding           │ (<span style=\"color: #00d7ff; text-decoration-color: #00d7ff\">None</span>, <span style=\"color: #00af00; text-decoration-color: #00af00\">2</span>, <span style=\"color: #00af00; text-decoration-color: #00af00\">8</span>)      │         <span style=\"color: #00af00; text-decoration-color: #00af00\">40</span> │ skin_type[<span style=\"color: #00af00; text-decoration-color: #00af00\">0</span>][<span style=\"color: #00af00; text-decoration-color: #00af00\">0</span>]   │\n",
              "│ (<span style=\"color: #0087ff; text-decoration-color: #0087ff\">Embedding</span>)         │                   │            │                   │\n",
              "├─────────────────────┼───────────────────┼────────────┼───────────────────┤\n",
              "│ embedding_1         │ (<span style=\"color: #00d7ff; text-decoration-color: #00d7ff\">None</span>, <span style=\"color: #00af00; text-decoration-color: #00af00\">2</span>, <span style=\"color: #00af00; text-decoration-color: #00af00\">8</span>)      │        <span style=\"color: #00af00; text-decoration-color: #00af00\">128</span> │ skin_concern[<span style=\"color: #00af00; text-decoration-color: #00af00\">0</span>][<span style=\"color: #00af00; text-decoration-color: #00af00\">…</span> │\n",
              "│ (<span style=\"color: #0087ff; text-decoration-color: #0087ff\">Embedding</span>)         │                   │            │                   │\n",
              "├─────────────────────┼───────────────────┼────────────┼───────────────────┤\n",
              "│ embedding_2         │ (<span style=\"color: #00d7ff; text-decoration-color: #00d7ff\">None</span>, <span style=\"color: #00af00; text-decoration-color: #00af00\">2</span>, <span style=\"color: #00af00; text-decoration-color: #00af00\">8</span>)      │        <span style=\"color: #00af00; text-decoration-color: #00af00\">168</span> │ skin_goal[<span style=\"color: #00af00; text-decoration-color: #00af00\">0</span>][<span style=\"color: #00af00; text-decoration-color: #00af00\">0</span>]   │\n",
              "│ (<span style=\"color: #0087ff; text-decoration-color: #0087ff\">Embedding</span>)         │                   │            │                   │\n",
              "├─────────────────────┼───────────────────┼────────────┼───────────────────┤\n",
              "│ flatten (<span style=\"color: #0087ff; text-decoration-color: #0087ff\">Flatten</span>)   │ (<span style=\"color: #00d7ff; text-decoration-color: #00d7ff\">None</span>, <span style=\"color: #00af00; text-decoration-color: #00af00\">16</span>)        │          <span style=\"color: #00af00; text-decoration-color: #00af00\">0</span> │ embedding[<span style=\"color: #00af00; text-decoration-color: #00af00\">0</span>][<span style=\"color: #00af00; text-decoration-color: #00af00\">0</span>]   │\n",
              "├─────────────────────┼───────────────────┼────────────┼───────────────────┤\n",
              "│ flatten_1 (<span style=\"color: #0087ff; text-decoration-color: #0087ff\">Flatten</span>) │ (<span style=\"color: #00d7ff; text-decoration-color: #00d7ff\">None</span>, <span style=\"color: #00af00; text-decoration-color: #00af00\">16</span>)        │          <span style=\"color: #00af00; text-decoration-color: #00af00\">0</span> │ embedding_1[<span style=\"color: #00af00; text-decoration-color: #00af00\">0</span>][<span style=\"color: #00af00; text-decoration-color: #00af00\">0</span>] │\n",
              "├─────────────────────┼───────────────────┼────────────┼───────────────────┤\n",
              "│ flatten_2 (<span style=\"color: #0087ff; text-decoration-color: #0087ff\">Flatten</span>) │ (<span style=\"color: #00d7ff; text-decoration-color: #00d7ff\">None</span>, <span style=\"color: #00af00; text-decoration-color: #00af00\">16</span>)        │          <span style=\"color: #00af00; text-decoration-color: #00af00\">0</span> │ embedding_2[<span style=\"color: #00af00; text-decoration-color: #00af00\">0</span>][<span style=\"color: #00af00; text-decoration-color: #00af00\">0</span>] │\n",
              "├─────────────────────┼───────────────────┼────────────┼───────────────────┤\n",
              "│ concatenate         │ (<span style=\"color: #00d7ff; text-decoration-color: #00d7ff\">None</span>, <span style=\"color: #00af00; text-decoration-color: #00af00\">48</span>)        │          <span style=\"color: #00af00; text-decoration-color: #00af00\">0</span> │ flatten[<span style=\"color: #00af00; text-decoration-color: #00af00\">0</span>][<span style=\"color: #00af00; text-decoration-color: #00af00\">0</span>],    │\n",
              "│ (<span style=\"color: #0087ff; text-decoration-color: #0087ff\">Concatenate</span>)       │                   │            │ flatten_1[<span style=\"color: #00af00; text-decoration-color: #00af00\">0</span>][<span style=\"color: #00af00; text-decoration-color: #00af00\">0</span>],  │\n",
              "│                     │                   │            │ flatten_2[<span style=\"color: #00af00; text-decoration-color: #00af00\">0</span>][<span style=\"color: #00af00; text-decoration-color: #00af00\">0</span>]   │\n",
              "├─────────────────────┼───────────────────┼────────────┼───────────────────┤\n",
              "│ dense_289 (<span style=\"color: #0087ff; text-decoration-color: #0087ff\">Dense</span>)   │ (<span style=\"color: #00d7ff; text-decoration-color: #00d7ff\">None</span>, <span style=\"color: #00af00; text-decoration-color: #00af00\">128</span>)       │      <span style=\"color: #00af00; text-decoration-color: #00af00\">6,272</span> │ concatenate[<span style=\"color: #00af00; text-decoration-color: #00af00\">0</span>][<span style=\"color: #00af00; text-decoration-color: #00af00\">0</span>] │\n",
              "├─────────────────────┼───────────────────┼────────────┼───────────────────┤\n",
              "│ batch_normalizatio… │ (<span style=\"color: #00d7ff; text-decoration-color: #00d7ff\">None</span>, <span style=\"color: #00af00; text-decoration-color: #00af00\">128</span>)       │        <span style=\"color: #00af00; text-decoration-color: #00af00\">512</span> │ dense_289[<span style=\"color: #00af00; text-decoration-color: #00af00\">0</span>][<span style=\"color: #00af00; text-decoration-color: #00af00\">0</span>]   │\n",
              "│ (<span style=\"color: #0087ff; text-decoration-color: #0087ff\">BatchNormalizatio…</span> │                   │            │                   │\n",
              "├─────────────────────┼───────────────────┼────────────┼───────────────────┤\n",
              "│ dropout_211         │ (<span style=\"color: #00d7ff; text-decoration-color: #00d7ff\">None</span>, <span style=\"color: #00af00; text-decoration-color: #00af00\">128</span>)       │          <span style=\"color: #00af00; text-decoration-color: #00af00\">0</span> │ batch_normalizat… │\n",
              "│ (<span style=\"color: #0087ff; text-decoration-color: #0087ff\">Dropout</span>)           │                   │            │                   │\n",
              "├─────────────────────┼───────────────────┼────────────┼───────────────────┤\n",
              "│ dense_290 (<span style=\"color: #0087ff; text-decoration-color: #0087ff\">Dense</span>)   │ (<span style=\"color: #00d7ff; text-decoration-color: #00d7ff\">None</span>, <span style=\"color: #00af00; text-decoration-color: #00af00\">64</span>)        │      <span style=\"color: #00af00; text-decoration-color: #00af00\">8,256</span> │ dropout_211[<span style=\"color: #00af00; text-decoration-color: #00af00\">0</span>][<span style=\"color: #00af00; text-decoration-color: #00af00\">0</span>] │\n",
              "├─────────────────────┼───────────────────┼────────────┼───────────────────┤\n",
              "│ batch_normalizatio… │ (<span style=\"color: #00d7ff; text-decoration-color: #00d7ff\">None</span>, <span style=\"color: #00af00; text-decoration-color: #00af00\">64</span>)        │        <span style=\"color: #00af00; text-decoration-color: #00af00\">256</span> │ dense_290[<span style=\"color: #00af00; text-decoration-color: #00af00\">0</span>][<span style=\"color: #00af00; text-decoration-color: #00af00\">0</span>]   │\n",
              "│ (<span style=\"color: #0087ff; text-decoration-color: #0087ff\">BatchNormalizatio…</span> │                   │            │                   │\n",
              "├─────────────────────┼───────────────────┼────────────┼───────────────────┤\n",
              "│ dropout_212         │ (<span style=\"color: #00d7ff; text-decoration-color: #00d7ff\">None</span>, <span style=\"color: #00af00; text-decoration-color: #00af00\">64</span>)        │          <span style=\"color: #00af00; text-decoration-color: #00af00\">0</span> │ batch_normalizat… │\n",
              "│ (<span style=\"color: #0087ff; text-decoration-color: #0087ff\">Dropout</span>)           │                   │            │                   │\n",
              "├─────────────────────┼───────────────────┼────────────┼───────────────────┤\n",
              "│ dense_291 (<span style=\"color: #0087ff; text-decoration-color: #0087ff\">Dense</span>)   │ (<span style=\"color: #00d7ff; text-decoration-color: #00d7ff\">None</span>, <span style=\"color: #00af00; text-decoration-color: #00af00\">6</span>)         │        <span style=\"color: #00af00; text-decoration-color: #00af00\">390</span> │ dropout_212[<span style=\"color: #00af00; text-decoration-color: #00af00\">0</span>][<span style=\"color: #00af00; text-decoration-color: #00af00\">0</span>] │\n",
              "└─────────────────────┴───────────────────┴────────────┴───────────────────┘\n",
              "</pre>\n"
            ],
            "text/plain": [
              "┏━━━━━━━━━━━━━━━━━━━━━┳━━━━━━━━━━━━━━━━━━━┳━━━━━━━━━━━━┳━━━━━━━━━━━━━━━━━━━┓\n",
              "┃\u001b[1m \u001b[0m\u001b[1mLayer (type)       \u001b[0m\u001b[1m \u001b[0m┃\u001b[1m \u001b[0m\u001b[1mOutput Shape     \u001b[0m\u001b[1m \u001b[0m┃\u001b[1m \u001b[0m\u001b[1m   Param #\u001b[0m\u001b[1m \u001b[0m┃\u001b[1m \u001b[0m\u001b[1mConnected to     \u001b[0m\u001b[1m \u001b[0m┃\n",
              "┡━━━━━━━━━━━━━━━━━━━━━╇━━━━━━━━━━━━━━━━━━━╇━━━━━━━━━━━━╇━━━━━━━━━━━━━━━━━━━┩\n",
              "│ skin_type           │ (\u001b[38;5;45mNone\u001b[0m, \u001b[38;5;34m2\u001b[0m)         │          \u001b[38;5;34m0\u001b[0m │ -                 │\n",
              "│ (\u001b[38;5;33mInputLayer\u001b[0m)        │                   │            │                   │\n",
              "├─────────────────────┼───────────────────┼────────────┼───────────────────┤\n",
              "│ skin_concern        │ (\u001b[38;5;45mNone\u001b[0m, \u001b[38;5;34m2\u001b[0m)         │          \u001b[38;5;34m0\u001b[0m │ -                 │\n",
              "│ (\u001b[38;5;33mInputLayer\u001b[0m)        │                   │            │                   │\n",
              "├─────────────────────┼───────────────────┼────────────┼───────────────────┤\n",
              "│ skin_goal           │ (\u001b[38;5;45mNone\u001b[0m, \u001b[38;5;34m2\u001b[0m)         │          \u001b[38;5;34m0\u001b[0m │ -                 │\n",
              "│ (\u001b[38;5;33mInputLayer\u001b[0m)        │                   │            │                   │\n",
              "├─────────────────────┼───────────────────┼────────────┼───────────────────┤\n",
              "│ embedding           │ (\u001b[38;5;45mNone\u001b[0m, \u001b[38;5;34m2\u001b[0m, \u001b[38;5;34m8\u001b[0m)      │         \u001b[38;5;34m40\u001b[0m │ skin_type[\u001b[38;5;34m0\u001b[0m][\u001b[38;5;34m0\u001b[0m]   │\n",
              "│ (\u001b[38;5;33mEmbedding\u001b[0m)         │                   │            │                   │\n",
              "├─────────────────────┼───────────────────┼────────────┼───────────────────┤\n",
              "│ embedding_1         │ (\u001b[38;5;45mNone\u001b[0m, \u001b[38;5;34m2\u001b[0m, \u001b[38;5;34m8\u001b[0m)      │        \u001b[38;5;34m128\u001b[0m │ skin_concern[\u001b[38;5;34m0\u001b[0m][\u001b[38;5;34m…\u001b[0m │\n",
              "│ (\u001b[38;5;33mEmbedding\u001b[0m)         │                   │            │                   │\n",
              "├─────────────────────┼───────────────────┼────────────┼───────────────────┤\n",
              "│ embedding_2         │ (\u001b[38;5;45mNone\u001b[0m, \u001b[38;5;34m2\u001b[0m, \u001b[38;5;34m8\u001b[0m)      │        \u001b[38;5;34m168\u001b[0m │ skin_goal[\u001b[38;5;34m0\u001b[0m][\u001b[38;5;34m0\u001b[0m]   │\n",
              "│ (\u001b[38;5;33mEmbedding\u001b[0m)         │                   │            │                   │\n",
              "├─────────────────────┼───────────────────┼────────────┼───────────────────┤\n",
              "│ flatten (\u001b[38;5;33mFlatten\u001b[0m)   │ (\u001b[38;5;45mNone\u001b[0m, \u001b[38;5;34m16\u001b[0m)        │          \u001b[38;5;34m0\u001b[0m │ embedding[\u001b[38;5;34m0\u001b[0m][\u001b[38;5;34m0\u001b[0m]   │\n",
              "├─────────────────────┼───────────────────┼────────────┼───────────────────┤\n",
              "│ flatten_1 (\u001b[38;5;33mFlatten\u001b[0m) │ (\u001b[38;5;45mNone\u001b[0m, \u001b[38;5;34m16\u001b[0m)        │          \u001b[38;5;34m0\u001b[0m │ embedding_1[\u001b[38;5;34m0\u001b[0m][\u001b[38;5;34m0\u001b[0m] │\n",
              "├─────────────────────┼───────────────────┼────────────┼───────────────────┤\n",
              "│ flatten_2 (\u001b[38;5;33mFlatten\u001b[0m) │ (\u001b[38;5;45mNone\u001b[0m, \u001b[38;5;34m16\u001b[0m)        │          \u001b[38;5;34m0\u001b[0m │ embedding_2[\u001b[38;5;34m0\u001b[0m][\u001b[38;5;34m0\u001b[0m] │\n",
              "├─────────────────────┼───────────────────┼────────────┼───────────────────┤\n",
              "│ concatenate         │ (\u001b[38;5;45mNone\u001b[0m, \u001b[38;5;34m48\u001b[0m)        │          \u001b[38;5;34m0\u001b[0m │ flatten[\u001b[38;5;34m0\u001b[0m][\u001b[38;5;34m0\u001b[0m],    │\n",
              "│ (\u001b[38;5;33mConcatenate\u001b[0m)       │                   │            │ flatten_1[\u001b[38;5;34m0\u001b[0m][\u001b[38;5;34m0\u001b[0m],  │\n",
              "│                     │                   │            │ flatten_2[\u001b[38;5;34m0\u001b[0m][\u001b[38;5;34m0\u001b[0m]   │\n",
              "├─────────────────────┼───────────────────┼────────────┼───────────────────┤\n",
              "│ dense_289 (\u001b[38;5;33mDense\u001b[0m)   │ (\u001b[38;5;45mNone\u001b[0m, \u001b[38;5;34m128\u001b[0m)       │      \u001b[38;5;34m6,272\u001b[0m │ concatenate[\u001b[38;5;34m0\u001b[0m][\u001b[38;5;34m0\u001b[0m] │\n",
              "├─────────────────────┼───────────────────┼────────────┼───────────────────┤\n",
              "│ batch_normalizatio… │ (\u001b[38;5;45mNone\u001b[0m, \u001b[38;5;34m128\u001b[0m)       │        \u001b[38;5;34m512\u001b[0m │ dense_289[\u001b[38;5;34m0\u001b[0m][\u001b[38;5;34m0\u001b[0m]   │\n",
              "│ (\u001b[38;5;33mBatchNormalizatio…\u001b[0m │                   │            │                   │\n",
              "├─────────────────────┼───────────────────┼────────────┼───────────────────┤\n",
              "│ dropout_211         │ (\u001b[38;5;45mNone\u001b[0m, \u001b[38;5;34m128\u001b[0m)       │          \u001b[38;5;34m0\u001b[0m │ batch_normalizat… │\n",
              "│ (\u001b[38;5;33mDropout\u001b[0m)           │                   │            │                   │\n",
              "├─────────────────────┼───────────────────┼────────────┼───────────────────┤\n",
              "│ dense_290 (\u001b[38;5;33mDense\u001b[0m)   │ (\u001b[38;5;45mNone\u001b[0m, \u001b[38;5;34m64\u001b[0m)        │      \u001b[38;5;34m8,256\u001b[0m │ dropout_211[\u001b[38;5;34m0\u001b[0m][\u001b[38;5;34m0\u001b[0m] │\n",
              "├─────────────────────┼───────────────────┼────────────┼───────────────────┤\n",
              "│ batch_normalizatio… │ (\u001b[38;5;45mNone\u001b[0m, \u001b[38;5;34m64\u001b[0m)        │        \u001b[38;5;34m256\u001b[0m │ dense_290[\u001b[38;5;34m0\u001b[0m][\u001b[38;5;34m0\u001b[0m]   │\n",
              "│ (\u001b[38;5;33mBatchNormalizatio…\u001b[0m │                   │            │                   │\n",
              "├─────────────────────┼───────────────────┼────────────┼───────────────────┤\n",
              "│ dropout_212         │ (\u001b[38;5;45mNone\u001b[0m, \u001b[38;5;34m64\u001b[0m)        │          \u001b[38;5;34m0\u001b[0m │ batch_normalizat… │\n",
              "│ (\u001b[38;5;33mDropout\u001b[0m)           │                   │            │                   │\n",
              "├─────────────────────┼───────────────────┼────────────┼───────────────────┤\n",
              "│ dense_291 (\u001b[38;5;33mDense\u001b[0m)   │ (\u001b[38;5;45mNone\u001b[0m, \u001b[38;5;34m6\u001b[0m)         │        \u001b[38;5;34m390\u001b[0m │ dropout_212[\u001b[38;5;34m0\u001b[0m][\u001b[38;5;34m0\u001b[0m] │\n",
              "└─────────────────────┴───────────────────┴────────────┴───────────────────┘\n"
            ]
          },
          "metadata": {},
          "output_type": "display_data"
        },
        {
          "data": {
            "text/html": [
              "<pre style=\"white-space:pre;overflow-x:auto;line-height:normal;font-family:Menlo,'DejaVu Sans Mono',consolas,'Courier New',monospace\"><span style=\"font-weight: bold\"> Total params: </span><span style=\"color: #00af00; text-decoration-color: #00af00\">16,022</span> (62.59 KB)\n",
              "</pre>\n"
            ],
            "text/plain": [
              "\u001b[1m Total params: \u001b[0m\u001b[38;5;34m16,022\u001b[0m (62.59 KB)\n"
            ]
          },
          "metadata": {},
          "output_type": "display_data"
        },
        {
          "data": {
            "text/html": [
              "<pre style=\"white-space:pre;overflow-x:auto;line-height:normal;font-family:Menlo,'DejaVu Sans Mono',consolas,'Courier New',monospace\"><span style=\"font-weight: bold\"> Trainable params: </span><span style=\"color: #00af00; text-decoration-color: #00af00\">15,638</span> (61.09 KB)\n",
              "</pre>\n"
            ],
            "text/plain": [
              "\u001b[1m Trainable params: \u001b[0m\u001b[38;5;34m15,638\u001b[0m (61.09 KB)\n"
            ]
          },
          "metadata": {},
          "output_type": "display_data"
        },
        {
          "data": {
            "text/html": [
              "<pre style=\"white-space:pre;overflow-x:auto;line-height:normal;font-family:Menlo,'DejaVu Sans Mono',consolas,'Courier New',monospace\"><span style=\"font-weight: bold\"> Non-trainable params: </span><span style=\"color: #00af00; text-decoration-color: #00af00\">384</span> (1.50 KB)\n",
              "</pre>\n"
            ],
            "text/plain": [
              "\u001b[1m Non-trainable params: \u001b[0m\u001b[38;5;34m384\u001b[0m (1.50 KB)\n"
            ]
          },
          "metadata": {},
          "output_type": "display_data"
        }
      ],
      "source": [
        "from tensorflow.keras.models import Model\n",
        "from tensorflow.keras.layers import Input, Embedding, Flatten, Concatenate, Dense, Dropout, BatchNormalization\n",
        "from tensorflow.keras.optimizers import Adam\n",
        "\n",
        "# Input dimension dari masing-masing vocab\n",
        "vocab_size_type = len(vocab_skin_type) + 1\n",
        "vocab_size_concern = len(vocab_skin_concern) + 1\n",
        "vocab_size_goal = len(vocab_skin_goal) + 1\n",
        "\n",
        "embedding_dim = 8  # bisa dituning\n",
        "\n",
        "# Input layers\n",
        "input_type = Input(shape=(2,), name='skin_type')\n",
        "input_concern = Input(shape=(2,), name='skin_concern')\n",
        "input_goal = Input(shape=(2,), name='skin_goal')\n",
        "\n",
        "# Embedding + Flatten\n",
        "embed_type = Embedding(vocab_size_type, embedding_dim)(input_type)\n",
        "embed_concern = Embedding(vocab_size_concern, embedding_dim)(input_concern)\n",
        "embed_goal = Embedding(vocab_size_goal, embedding_dim)(input_goal)\n",
        "\n",
        "flat_type = Flatten()(embed_type)\n",
        "flat_concern = Flatten()(embed_concern)\n",
        "flat_goal = Flatten()(embed_goal)\n",
        "\n",
        "# Gabungkan semua\n",
        "merged = Concatenate()([flat_type, flat_concern, flat_goal])\n",
        "\n",
        "# Dense layers\n",
        "x = Dense(128, activation='relu')(merged)\n",
        "x = BatchNormalization()(x)\n",
        "x = Dropout(0.3)(x)\n",
        "\n",
        "x = Dense(64, activation='relu')(x)\n",
        "x = BatchNormalization()(x)\n",
        "x = Dropout(0.3)(x)\n",
        "\n",
        "output = Dense(y_final.shape[1], activation='sigmoid')(x)\n",
        "\n",
        "# Compile\n",
        "model = Model(inputs=[input_type, input_concern, input_goal], outputs=output)\n",
        "model.compile(\n",
        "    optimizer=Adam(0.001),\n",
        "    loss='binary_crossentropy',\n",
        "    metrics=['binary_accuracy']\n",
        ")\n",
        "model.summary()\n"
      ]
    },
    {
      "cell_type": "code",
      "execution_count": 319,
      "metadata": {},
      "outputs": [
        {
          "name": "stdout",
          "output_type": "stream",
          "text": [
            "Epoch 1/100\n",
            "\u001b[1m18/18\u001b[0m \u001b[32m━━━━━━━━━━━━━━━━━━━━\u001b[0m\u001b[37m\u001b[0m \u001b[1m0s\u001b[0m 22ms/step - binary_accuracy: 0.8458 - loss: 0.3478 - val_binary_accuracy: 0.7653 - val_loss: 0.4900\n",
            "Epoch 2/100\n",
            "\u001b[1m18/18\u001b[0m \u001b[32m━━━━━━━━━━━━━━━━━━━━\u001b[0m\u001b[37m\u001b[0m \u001b[1m0s\u001b[0m 18ms/step - binary_accuracy: 0.8432 - loss: 0.3535 - val_binary_accuracy: 0.7746 - val_loss: 0.4901\n",
            "Epoch 3/100\n",
            "\u001b[1m18/18\u001b[0m \u001b[32m━━━━━━━━━━━━━━━━━━━━\u001b[0m\u001b[37m\u001b[0m \u001b[1m1s\u001b[0m 15ms/step - binary_accuracy: 0.8477 - loss: 0.3263 - val_binary_accuracy: 0.7700 - val_loss: 0.4932\n",
            "Epoch 4/100\n",
            "\u001b[1m18/18\u001b[0m \u001b[32m━━━━━━━━━━━━━━━━━━━━\u001b[0m\u001b[37m\u001b[0m \u001b[1m0s\u001b[0m 15ms/step - binary_accuracy: 0.8581 - loss: 0.3294 - val_binary_accuracy: 0.7700 - val_loss: 0.4926\n",
            "Epoch 5/100\n",
            "\u001b[1m18/18\u001b[0m \u001b[32m━━━━━━━━━━━━━━━━━━━━\u001b[0m\u001b[37m\u001b[0m \u001b[1m0s\u001b[0m 13ms/step - binary_accuracy: 0.8550 - loss: 0.3272 - val_binary_accuracy: 0.7664 - val_loss: 0.4979\n",
            "Epoch 6/100\n",
            "\u001b[1m18/18\u001b[0m \u001b[32m━━━━━━━━━━━━━━━━━━━━\u001b[0m\u001b[37m\u001b[0m \u001b[1m0s\u001b[0m 15ms/step - binary_accuracy: 0.8521 - loss: 0.3364 - val_binary_accuracy: 0.7629 - val_loss: 0.5024\n",
            "Epoch 7/100\n",
            "\u001b[1m18/18\u001b[0m \u001b[32m━━━━━━━━━━━━━━━━━━━━\u001b[0m\u001b[37m\u001b[0m \u001b[1m0s\u001b[0m 10ms/step - binary_accuracy: 0.8533 - loss: 0.3295 - val_binary_accuracy: 0.7582 - val_loss: 0.5099\n",
            "Epoch 8/100\n",
            "\u001b[1m18/18\u001b[0m \u001b[32m━━━━━━━━━━━━━━━━━━━━\u001b[0m\u001b[37m\u001b[0m \u001b[1m1s\u001b[0m 28ms/step - binary_accuracy: 0.8426 - loss: 0.3366 - val_binary_accuracy: 0.7606 - val_loss: 0.5185\n",
            "Epoch 9/100\n",
            "\u001b[1m18/18\u001b[0m \u001b[32m━━━━━━━━━━━━━━━━━━━━\u001b[0m\u001b[37m\u001b[0m \u001b[1m1s\u001b[0m 27ms/step - binary_accuracy: 0.8544 - loss: 0.3230 - val_binary_accuracy: 0.7594 - val_loss: 0.5197\n",
            "Epoch 10/100\n",
            "\u001b[1m18/18\u001b[0m \u001b[32m━━━━━━━━━━━━━━━━━━━━\u001b[0m\u001b[37m\u001b[0m \u001b[1m1s\u001b[0m 22ms/step - binary_accuracy: 0.8580 - loss: 0.3233 - val_binary_accuracy: 0.7559 - val_loss: 0.5224\n",
            "Epoch 11/100\n",
            "\u001b[1m18/18\u001b[0m \u001b[32m━━━━━━━━━━━━━━━━━━━━\u001b[0m\u001b[37m\u001b[0m \u001b[1m0s\u001b[0m 7ms/step - binary_accuracy: 0.8552 - loss: 0.3272 - val_binary_accuracy: 0.7547 - val_loss: 0.5219\n",
            "Epoch 12/100\n",
            "\u001b[1m18/18\u001b[0m \u001b[32m━━━━━━━━━━━━━━━━━━━━\u001b[0m\u001b[37m\u001b[0m \u001b[1m0s\u001b[0m 6ms/step - binary_accuracy: 0.8604 - loss: 0.3091 - val_binary_accuracy: 0.7512 - val_loss: 0.5305\n",
            "Epoch 13/100\n",
            "\u001b[1m18/18\u001b[0m \u001b[32m━━━━━━━━━━━━━━━━━━━━\u001b[0m\u001b[37m\u001b[0m \u001b[1m0s\u001b[0m 5ms/step - binary_accuracy: 0.8544 - loss: 0.3127 - val_binary_accuracy: 0.7523 - val_loss: 0.5374\n",
            "Epoch 14/100\n",
            "\u001b[1m18/18\u001b[0m \u001b[32m━━━━━━━━━━━━━━━━━━━━\u001b[0m\u001b[37m\u001b[0m \u001b[1m0s\u001b[0m 5ms/step - binary_accuracy: 0.8730 - loss: 0.2988 - val_binary_accuracy: 0.7512 - val_loss: 0.5373\n",
            "Epoch 15/100\n",
            "\u001b[1m18/18\u001b[0m \u001b[32m━━━━━━━━━━━━━━━━━━━━\u001b[0m\u001b[37m\u001b[0m \u001b[1m0s\u001b[0m 7ms/step - binary_accuracy: 0.8596 - loss: 0.3139 - val_binary_accuracy: 0.7500 - val_loss: 0.5461\n",
            "Epoch 16/100\n",
            "\u001b[1m18/18\u001b[0m \u001b[32m━━━━━━━━━━━━━━━━━━━━\u001b[0m\u001b[37m\u001b[0m \u001b[1m0s\u001b[0m 11ms/step - binary_accuracy: 0.8707 - loss: 0.2980 - val_binary_accuracy: 0.7547 - val_loss: 0.5483\n",
            "Epoch 17/100\n",
            "\u001b[1m18/18\u001b[0m \u001b[32m━━━━━━━━━━━━━━━━━━━━\u001b[0m\u001b[37m\u001b[0m \u001b[1m0s\u001b[0m 8ms/step - binary_accuracy: 0.8590 - loss: 0.3127 - val_binary_accuracy: 0.7477 - val_loss: 0.5495\n",
            "Epoch 18/100\n",
            "\u001b[1m18/18\u001b[0m \u001b[32m━━━━━━━━━━━━━━━━━━━━\u001b[0m\u001b[37m\u001b[0m \u001b[1m0s\u001b[0m 10ms/step - binary_accuracy: 0.8678 - loss: 0.3125 - val_binary_accuracy: 0.7512 - val_loss: 0.5543\n",
            "Epoch 19/100\n",
            "\u001b[1m18/18\u001b[0m \u001b[32m━━━━━━━━━━━━━━━━━━━━\u001b[0m\u001b[37m\u001b[0m \u001b[1m0s\u001b[0m 11ms/step - binary_accuracy: 0.8690 - loss: 0.3018 - val_binary_accuracy: 0.7477 - val_loss: 0.5632\n",
            "Epoch 20/100\n",
            "\u001b[1m18/18\u001b[0m \u001b[32m━━━━━━━━━━━━━━━━━━━━\u001b[0m\u001b[37m\u001b[0m \u001b[1m0s\u001b[0m 7ms/step - binary_accuracy: 0.8552 - loss: 0.3093 - val_binary_accuracy: 0.7453 - val_loss: 0.5692\n",
            "Epoch 21/100\n",
            "\u001b[1m18/18\u001b[0m \u001b[32m━━━━━━━━━━━━━━━━━━━━\u001b[0m\u001b[37m\u001b[0m \u001b[1m0s\u001b[0m 6ms/step - binary_accuracy: 0.8758 - loss: 0.2873 - val_binary_accuracy: 0.7441 - val_loss: 0.5776\n",
            "Epoch 22/100\n",
            "\u001b[1m18/18\u001b[0m \u001b[32m━━━━━━━━━━━━━━━━━━━━\u001b[0m\u001b[37m\u001b[0m \u001b[1m0s\u001b[0m 6ms/step - binary_accuracy: 0.8818 - loss: 0.2777 - val_binary_accuracy: 0.7394 - val_loss: 0.5809\n",
            "Epoch 23/100\n",
            "\u001b[1m18/18\u001b[0m \u001b[32m━━━━━━━━━━━━━━━━━━━━\u001b[0m\u001b[37m\u001b[0m \u001b[1m0s\u001b[0m 10ms/step - binary_accuracy: 0.8608 - loss: 0.3071 - val_binary_accuracy: 0.7430 - val_loss: 0.5745\n",
            "Epoch 24/100\n",
            "\u001b[1m18/18\u001b[0m \u001b[32m━━━━━━━━━━━━━━━━━━━━\u001b[0m\u001b[37m\u001b[0m \u001b[1m0s\u001b[0m 6ms/step - binary_accuracy: 0.8719 - loss: 0.2866 - val_binary_accuracy: 0.7465 - val_loss: 0.5857\n",
            "Epoch 25/100\n",
            "\u001b[1m18/18\u001b[0m \u001b[32m━━━━━━━━━━━━━━━━━━━━\u001b[0m\u001b[37m\u001b[0m \u001b[1m0s\u001b[0m 6ms/step - binary_accuracy: 0.8772 - loss: 0.2790 - val_binary_accuracy: 0.7418 - val_loss: 0.5874\n",
            "Epoch 26/100\n",
            "\u001b[1m18/18\u001b[0m \u001b[32m━━━━━━━━━━━━━━━━━━━━\u001b[0m\u001b[37m\u001b[0m \u001b[1m0s\u001b[0m 9ms/step - binary_accuracy: 0.8702 - loss: 0.2908 - val_binary_accuracy: 0.7383 - val_loss: 0.5878\n",
            "Epoch 27/100\n",
            "\u001b[1m18/18\u001b[0m \u001b[32m━━━━━━━━━━━━━━━━━━━━\u001b[0m\u001b[37m\u001b[0m \u001b[1m0s\u001b[0m 12ms/step - binary_accuracy: 0.8724 - loss: 0.2877 - val_binary_accuracy: 0.7453 - val_loss: 0.5826\n",
            "Epoch 28/100\n",
            "\u001b[1m18/18\u001b[0m \u001b[32m━━━━━━━━━━━━━━━━━━━━\u001b[0m\u001b[37m\u001b[0m \u001b[1m0s\u001b[0m 5ms/step - binary_accuracy: 0.8728 - loss: 0.2793 - val_binary_accuracy: 0.7418 - val_loss: 0.5843\n",
            "Epoch 29/100\n",
            "\u001b[1m18/18\u001b[0m \u001b[32m━━━━━━━━━━━━━━━━━━━━\u001b[0m\u001b[37m\u001b[0m \u001b[1m0s\u001b[0m 5ms/step - binary_accuracy: 0.8824 - loss: 0.2776 - val_binary_accuracy: 0.7453 - val_loss: 0.5883\n",
            "Epoch 30/100\n",
            "\u001b[1m18/18\u001b[0m \u001b[32m━━━━━━━━━━━━━━━━━━━━\u001b[0m\u001b[37m\u001b[0m \u001b[1m0s\u001b[0m 11ms/step - binary_accuracy: 0.8711 - loss: 0.2876 - val_binary_accuracy: 0.7488 - val_loss: 0.5995\n",
            "Epoch 31/100\n",
            "\u001b[1m18/18\u001b[0m \u001b[32m━━━━━━━━━━━━━━━━━━━━\u001b[0m\u001b[37m\u001b[0m \u001b[1m0s\u001b[0m 7ms/step - binary_accuracy: 0.8771 - loss: 0.2809 - val_binary_accuracy: 0.7512 - val_loss: 0.5911\n",
            "Epoch 32/100\n",
            "\u001b[1m18/18\u001b[0m \u001b[32m━━━━━━━━━━━━━━━━━━━━\u001b[0m\u001b[37m\u001b[0m \u001b[1m0s\u001b[0m 10ms/step - binary_accuracy: 0.8866 - loss: 0.2782 - val_binary_accuracy: 0.7477 - val_loss: 0.5900\n",
            "Epoch 33/100\n",
            "\u001b[1m18/18\u001b[0m \u001b[32m━━━━━━━━━━━━━━━━━━━━\u001b[0m\u001b[37m\u001b[0m \u001b[1m0s\u001b[0m 8ms/step - binary_accuracy: 0.8767 - loss: 0.2812 - val_binary_accuracy: 0.7477 - val_loss: 0.5976\n",
            "Epoch 34/100\n",
            "\u001b[1m18/18\u001b[0m \u001b[32m━━━━━━━━━━━━━━━━━━━━\u001b[0m\u001b[37m\u001b[0m \u001b[1m0s\u001b[0m 10ms/step - binary_accuracy: 0.8726 - loss: 0.2859 - val_binary_accuracy: 0.7430 - val_loss: 0.6044\n",
            "Epoch 35/100\n",
            "\u001b[1m18/18\u001b[0m \u001b[32m━━━━━━━━━━━━━━━━━━━━\u001b[0m\u001b[37m\u001b[0m \u001b[1m0s\u001b[0m 7ms/step - binary_accuracy: 0.8963 - loss: 0.2625 - val_binary_accuracy: 0.7430 - val_loss: 0.6159\n",
            "Epoch 36/100\n",
            "\u001b[1m18/18\u001b[0m \u001b[32m━━━━━━━━━━━━━━━━━━━━\u001b[0m\u001b[37m\u001b[0m \u001b[1m0s\u001b[0m 8ms/step - binary_accuracy: 0.8895 - loss: 0.2538 - val_binary_accuracy: 0.7453 - val_loss: 0.6288\n",
            "Epoch 37/100\n",
            "\u001b[1m18/18\u001b[0m \u001b[32m━━━━━━━━━━━━━━━━━━━━\u001b[0m\u001b[37m\u001b[0m \u001b[1m0s\u001b[0m 5ms/step - binary_accuracy: 0.8833 - loss: 0.2664 - val_binary_accuracy: 0.7406 - val_loss: 0.6388\n",
            "Epoch 38/100\n",
            "\u001b[1m18/18\u001b[0m \u001b[32m━━━━━━━━━━━━━━━━━━━━\u001b[0m\u001b[37m\u001b[0m \u001b[1m0s\u001b[0m 5ms/step - binary_accuracy: 0.8822 - loss: 0.2644 - val_binary_accuracy: 0.7500 - val_loss: 0.6317\n",
            "Epoch 39/100\n",
            "\u001b[1m18/18\u001b[0m \u001b[32m━━━━━━━━━━━━━━━━━━━━\u001b[0m\u001b[37m\u001b[0m \u001b[1m0s\u001b[0m 5ms/step - binary_accuracy: 0.8938 - loss: 0.2506 - val_binary_accuracy: 0.7500 - val_loss: 0.6245\n",
            "Epoch 40/100\n",
            "\u001b[1m18/18\u001b[0m \u001b[32m━━━━━━━━━━━━━━━━━━━━\u001b[0m\u001b[37m\u001b[0m \u001b[1m0s\u001b[0m 5ms/step - binary_accuracy: 0.8750 - loss: 0.2741 - val_binary_accuracy: 0.7500 - val_loss: 0.6335\n",
            "Epoch 41/100\n",
            "\u001b[1m18/18\u001b[0m \u001b[32m━━━━━━━━━━━━━━━━━━━━\u001b[0m\u001b[37m\u001b[0m \u001b[1m0s\u001b[0m 5ms/step - binary_accuracy: 0.8805 - loss: 0.2785 - val_binary_accuracy: 0.7441 - val_loss: 0.6406\n",
            "Epoch 42/100\n",
            "\u001b[1m18/18\u001b[0m \u001b[32m━━━━━━━━━━━━━━━━━━━━\u001b[0m\u001b[37m\u001b[0m \u001b[1m0s\u001b[0m 5ms/step - binary_accuracy: 0.8748 - loss: 0.2682 - val_binary_accuracy: 0.7500 - val_loss: 0.6359\n",
            "Epoch 43/100\n",
            "\u001b[1m18/18\u001b[0m \u001b[32m━━━━━━━━━━━━━━━━━━━━\u001b[0m\u001b[37m\u001b[0m \u001b[1m0s\u001b[0m 5ms/step - binary_accuracy: 0.8859 - loss: 0.2651 - val_binary_accuracy: 0.7453 - val_loss: 0.6366\n",
            "Epoch 44/100\n",
            "\u001b[1m18/18\u001b[0m \u001b[32m━━━━━━━━━━━━━━━━━━━━\u001b[0m\u001b[37m\u001b[0m \u001b[1m0s\u001b[0m 6ms/step - binary_accuracy: 0.8883 - loss: 0.2585 - val_binary_accuracy: 0.7347 - val_loss: 0.6412\n",
            "Epoch 45/100\n",
            "\u001b[1m18/18\u001b[0m \u001b[32m━━━━━━━━━━━━━━━━━━━━\u001b[0m\u001b[37m\u001b[0m \u001b[1m0s\u001b[0m 5ms/step - binary_accuracy: 0.8913 - loss: 0.2525 - val_binary_accuracy: 0.7441 - val_loss: 0.6444\n",
            "Epoch 46/100\n",
            "\u001b[1m18/18\u001b[0m \u001b[32m━━━━━━━━━━━━━━━━━━━━\u001b[0m\u001b[37m\u001b[0m \u001b[1m0s\u001b[0m 8ms/step - binary_accuracy: 0.8933 - loss: 0.2502 - val_binary_accuracy: 0.7406 - val_loss: 0.6483\n",
            "Epoch 47/100\n",
            "\u001b[1m18/18\u001b[0m \u001b[32m━━━━━━━━━━━━━━━━━━━━\u001b[0m\u001b[37m\u001b[0m \u001b[1m0s\u001b[0m 5ms/step - binary_accuracy: 0.8942 - loss: 0.2573 - val_binary_accuracy: 0.7394 - val_loss: 0.6542\n",
            "Epoch 48/100\n",
            "\u001b[1m18/18\u001b[0m \u001b[32m━━━━━━━━━━━━━━━━━━━━\u001b[0m\u001b[37m\u001b[0m \u001b[1m0s\u001b[0m 6ms/step - binary_accuracy: 0.9058 - loss: 0.2251 - val_binary_accuracy: 0.7523 - val_loss: 0.6672\n",
            "Epoch 49/100\n",
            "\u001b[1m18/18\u001b[0m \u001b[32m━━━━━━━━━━━━━━━━━━━━\u001b[0m\u001b[37m\u001b[0m \u001b[1m0s\u001b[0m 5ms/step - binary_accuracy: 0.8915 - loss: 0.2500 - val_binary_accuracy: 0.7289 - val_loss: 0.6774\n",
            "Epoch 50/100\n",
            "\u001b[1m18/18\u001b[0m \u001b[32m━━━━━━━━━━━━━━━━━━━━\u001b[0m\u001b[37m\u001b[0m \u001b[1m0s\u001b[0m 5ms/step - binary_accuracy: 0.8934 - loss: 0.2428 - val_binary_accuracy: 0.7312 - val_loss: 0.6607\n",
            "Epoch 51/100\n",
            "\u001b[1m18/18\u001b[0m \u001b[32m━━━━━━━━━━━━━━━━━━━━\u001b[0m\u001b[37m\u001b[0m \u001b[1m0s\u001b[0m 5ms/step - binary_accuracy: 0.9049 - loss: 0.2294 - val_binary_accuracy: 0.7430 - val_loss: 0.6751\n",
            "Epoch 52/100\n",
            "\u001b[1m18/18\u001b[0m \u001b[32m━━━━━━━━━━━━━━━━━━━━\u001b[0m\u001b[37m\u001b[0m \u001b[1m0s\u001b[0m 5ms/step - binary_accuracy: 0.8851 - loss: 0.2667 - val_binary_accuracy: 0.7418 - val_loss: 0.6649\n",
            "Epoch 53/100\n",
            "\u001b[1m18/18\u001b[0m \u001b[32m━━━━━━━━━━━━━━━━━━━━\u001b[0m\u001b[37m\u001b[0m \u001b[1m0s\u001b[0m 5ms/step - binary_accuracy: 0.8966 - loss: 0.2449 - val_binary_accuracy: 0.7383 - val_loss: 0.6785\n",
            "Epoch 54/100\n",
            "\u001b[1m18/18\u001b[0m \u001b[32m━━━━━━━━━━━━━━━━━━━━\u001b[0m\u001b[37m\u001b[0m \u001b[1m0s\u001b[0m 6ms/step - binary_accuracy: 0.8865 - loss: 0.2536 - val_binary_accuracy: 0.7359 - val_loss: 0.6666\n",
            "Epoch 55/100\n",
            "\u001b[1m18/18\u001b[0m \u001b[32m━━━━━━━━━━━━━━━━━━━━\u001b[0m\u001b[37m\u001b[0m \u001b[1m0s\u001b[0m 8ms/step - binary_accuracy: 0.9096 - loss: 0.2244 - val_binary_accuracy: 0.7336 - val_loss: 0.6702\n",
            "Epoch 56/100\n",
            "\u001b[1m18/18\u001b[0m \u001b[32m━━━━━━━━━━━━━━━━━━━━\u001b[0m\u001b[37m\u001b[0m \u001b[1m0s\u001b[0m 5ms/step - binary_accuracy: 0.9067 - loss: 0.2336 - val_binary_accuracy: 0.7430 - val_loss: 0.6680\n",
            "Epoch 57/100\n",
            "\u001b[1m18/18\u001b[0m \u001b[32m━━━━━━━━━━━━━━━━━━━━\u001b[0m\u001b[37m\u001b[0m \u001b[1m0s\u001b[0m 7ms/step - binary_accuracy: 0.8826 - loss: 0.2506 - val_binary_accuracy: 0.7383 - val_loss: 0.6692\n",
            "Epoch 58/100\n",
            "\u001b[1m18/18\u001b[0m \u001b[32m━━━━━━━━━━━━━━━━━━━━\u001b[0m\u001b[37m\u001b[0m \u001b[1m0s\u001b[0m 5ms/step - binary_accuracy: 0.8955 - loss: 0.2420 - val_binary_accuracy: 0.7371 - val_loss: 0.6794\n",
            "Epoch 59/100\n",
            "\u001b[1m18/18\u001b[0m \u001b[32m━━━━━━━━━━━━━━━━━━━━\u001b[0m\u001b[37m\u001b[0m \u001b[1m0s\u001b[0m 6ms/step - binary_accuracy: 0.8872 - loss: 0.2432 - val_binary_accuracy: 0.7406 - val_loss: 0.6839\n",
            "Epoch 60/100\n",
            "\u001b[1m18/18\u001b[0m \u001b[32m━━━━━━━━━━━━━━━━━━━━\u001b[0m\u001b[37m\u001b[0m \u001b[1m0s\u001b[0m 6ms/step - binary_accuracy: 0.9005 - loss: 0.2195 - val_binary_accuracy: 0.7406 - val_loss: 0.6917\n",
            "Epoch 61/100\n",
            "\u001b[1m18/18\u001b[0m \u001b[32m━━━━━━━━━━━━━━━━━━━━\u001b[0m\u001b[37m\u001b[0m \u001b[1m0s\u001b[0m 6ms/step - binary_accuracy: 0.8987 - loss: 0.2401 - val_binary_accuracy: 0.7441 - val_loss: 0.6912\n",
            "Epoch 62/100\n",
            "\u001b[1m18/18\u001b[0m \u001b[32m━━━━━━━━━━━━━━━━━━━━\u001b[0m\u001b[37m\u001b[0m \u001b[1m0s\u001b[0m 5ms/step - binary_accuracy: 0.8996 - loss: 0.2301 - val_binary_accuracy: 0.7359 - val_loss: 0.6945\n",
            "Epoch 63/100\n",
            "\u001b[1m18/18\u001b[0m \u001b[32m━━━━━━━━━━━━━━━━━━━━\u001b[0m\u001b[37m\u001b[0m \u001b[1m0s\u001b[0m 5ms/step - binary_accuracy: 0.9064 - loss: 0.2220 - val_binary_accuracy: 0.7406 - val_loss: 0.7010\n",
            "Epoch 64/100\n",
            "\u001b[1m18/18\u001b[0m \u001b[32m━━━━━━━━━━━━━━━━━━━━\u001b[0m\u001b[37m\u001b[0m \u001b[1m0s\u001b[0m 5ms/step - binary_accuracy: 0.9011 - loss: 0.2372 - val_binary_accuracy: 0.7418 - val_loss: 0.7003\n",
            "Epoch 65/100\n",
            "\u001b[1m18/18\u001b[0m \u001b[32m━━━━━━━━━━━━━━━━━━━━\u001b[0m\u001b[37m\u001b[0m \u001b[1m0s\u001b[0m 5ms/step - binary_accuracy: 0.8998 - loss: 0.2286 - val_binary_accuracy: 0.7453 - val_loss: 0.7058\n",
            "Epoch 66/100\n",
            "\u001b[1m18/18\u001b[0m \u001b[32m━━━━━━━━━━━━━━━━━━━━\u001b[0m\u001b[37m\u001b[0m \u001b[1m0s\u001b[0m 8ms/step - binary_accuracy: 0.9043 - loss: 0.2185 - val_binary_accuracy: 0.7453 - val_loss: 0.6949\n",
            "Epoch 67/100\n",
            "\u001b[1m18/18\u001b[0m \u001b[32m━━━━━━━━━━━━━━━━━━━━\u001b[0m\u001b[37m\u001b[0m \u001b[1m0s\u001b[0m 5ms/step - binary_accuracy: 0.9018 - loss: 0.2268 - val_binary_accuracy: 0.7477 - val_loss: 0.7064\n",
            "Epoch 68/100\n",
            "\u001b[1m18/18\u001b[0m \u001b[32m━━━━━━━━━━━━━━━━━━━━\u001b[0m\u001b[37m\u001b[0m \u001b[1m0s\u001b[0m 7ms/step - binary_accuracy: 0.8988 - loss: 0.2160 - val_binary_accuracy: 0.7488 - val_loss: 0.7091\n",
            "Epoch 69/100\n",
            "\u001b[1m18/18\u001b[0m \u001b[32m━━━━━━━━━━━━━━━━━━━━\u001b[0m\u001b[37m\u001b[0m \u001b[1m0s\u001b[0m 13ms/step - binary_accuracy: 0.9040 - loss: 0.2305 - val_binary_accuracy: 0.7347 - val_loss: 0.6985\n",
            "Epoch 70/100\n",
            "\u001b[1m18/18\u001b[0m \u001b[32m━━━━━━━━━━━━━━━━━━━━\u001b[0m\u001b[37m\u001b[0m \u001b[1m0s\u001b[0m 5ms/step - binary_accuracy: 0.9085 - loss: 0.2177 - val_binary_accuracy: 0.7406 - val_loss: 0.7079\n",
            "Epoch 71/100\n",
            "\u001b[1m18/18\u001b[0m \u001b[32m━━━━━━━━━━━━━━━━━━━━\u001b[0m\u001b[37m\u001b[0m \u001b[1m0s\u001b[0m 9ms/step - binary_accuracy: 0.9095 - loss: 0.2124 - val_binary_accuracy: 0.7394 - val_loss: 0.7310\n",
            "Epoch 72/100\n",
            "\u001b[1m18/18\u001b[0m \u001b[32m━━━━━━━━━━━━━━━━━━━━\u001b[0m\u001b[37m\u001b[0m \u001b[1m0s\u001b[0m 9ms/step - binary_accuracy: 0.9056 - loss: 0.2206 - val_binary_accuracy: 0.7500 - val_loss: 0.7122\n",
            "Epoch 73/100\n",
            "\u001b[1m18/18\u001b[0m \u001b[32m━━━━━━━━━━━━━━━━━━━━\u001b[0m\u001b[37m\u001b[0m \u001b[1m0s\u001b[0m 5ms/step - binary_accuracy: 0.9080 - loss: 0.2251 - val_binary_accuracy: 0.7406 - val_loss: 0.7207\n",
            "Epoch 74/100\n",
            "\u001b[1m18/18\u001b[0m \u001b[32m━━━━━━━━━━━━━━━━━━━━\u001b[0m\u001b[37m\u001b[0m \u001b[1m0s\u001b[0m 5ms/step - binary_accuracy: 0.9042 - loss: 0.2207 - val_binary_accuracy: 0.7406 - val_loss: 0.7416\n",
            "Epoch 75/100\n",
            "\u001b[1m18/18\u001b[0m \u001b[32m━━━━━━━━━━━━━━━━━━━━\u001b[0m\u001b[37m\u001b[0m \u001b[1m0s\u001b[0m 7ms/step - binary_accuracy: 0.9021 - loss: 0.2225 - val_binary_accuracy: 0.7383 - val_loss: 0.7456\n",
            "Epoch 76/100\n",
            "\u001b[1m18/18\u001b[0m \u001b[32m━━━━━━━━━━━━━━━━━━━━\u001b[0m\u001b[37m\u001b[0m \u001b[1m0s\u001b[0m 5ms/step - binary_accuracy: 0.9146 - loss: 0.1990 - val_binary_accuracy: 0.7453 - val_loss: 0.7419\n",
            "Epoch 77/100\n",
            "\u001b[1m18/18\u001b[0m \u001b[32m━━━━━━━━━━━━━━━━━━━━\u001b[0m\u001b[37m\u001b[0m \u001b[1m0s\u001b[0m 6ms/step - binary_accuracy: 0.9119 - loss: 0.2134 - val_binary_accuracy: 0.7418 - val_loss: 0.7560\n",
            "Epoch 78/100\n",
            "\u001b[1m18/18\u001b[0m \u001b[32m━━━━━━━━━━━━━━━━━━━━\u001b[0m\u001b[37m\u001b[0m \u001b[1m0s\u001b[0m 5ms/step - binary_accuracy: 0.9079 - loss: 0.2233 - val_binary_accuracy: 0.7453 - val_loss: 0.7382\n",
            "Epoch 79/100\n",
            "\u001b[1m18/18\u001b[0m \u001b[32m━━━━━━━━━━━━━━━━━━━━\u001b[0m\u001b[37m\u001b[0m \u001b[1m0s\u001b[0m 5ms/step - binary_accuracy: 0.9071 - loss: 0.2107 - val_binary_accuracy: 0.7359 - val_loss: 0.7338\n",
            "Epoch 80/100\n",
            "\u001b[1m18/18\u001b[0m \u001b[32m━━━━━━━━━━━━━━━━━━━━\u001b[0m\u001b[37m\u001b[0m \u001b[1m0s\u001b[0m 5ms/step - binary_accuracy: 0.9020 - loss: 0.2153 - val_binary_accuracy: 0.7477 - val_loss: 0.7394\n",
            "Epoch 81/100\n",
            "\u001b[1m18/18\u001b[0m \u001b[32m━━━━━━━━━━━━━━━━━━━━\u001b[0m\u001b[37m\u001b[0m \u001b[1m0s\u001b[0m 5ms/step - binary_accuracy: 0.9194 - loss: 0.2036 - val_binary_accuracy: 0.7465 - val_loss: 0.7495\n",
            "Epoch 82/100\n",
            "\u001b[1m18/18\u001b[0m \u001b[32m━━━━━━━━━━━━━━━━━━━━\u001b[0m\u001b[37m\u001b[0m \u001b[1m0s\u001b[0m 6ms/step - binary_accuracy: 0.9028 - loss: 0.2103 - val_binary_accuracy: 0.7394 - val_loss: 0.7661\n",
            "Epoch 83/100\n",
            "\u001b[1m18/18\u001b[0m \u001b[32m━━━━━━━━━━━━━━━━━━━━\u001b[0m\u001b[37m\u001b[0m \u001b[1m0s\u001b[0m 7ms/step - binary_accuracy: 0.9104 - loss: 0.2065 - val_binary_accuracy: 0.7394 - val_loss: 0.7727\n",
            "Epoch 84/100\n",
            "\u001b[1m18/18\u001b[0m \u001b[32m━━━━━━━━━━━━━━━━━━━━\u001b[0m\u001b[37m\u001b[0m \u001b[1m0s\u001b[0m 7ms/step - binary_accuracy: 0.9102 - loss: 0.2175 - val_binary_accuracy: 0.7383 - val_loss: 0.7660\n",
            "Epoch 85/100\n",
            "\u001b[1m18/18\u001b[0m \u001b[32m━━━━━━━━━━━━━━━━━━━━\u001b[0m\u001b[37m\u001b[0m \u001b[1m0s\u001b[0m 8ms/step - binary_accuracy: 0.9178 - loss: 0.1997 - val_binary_accuracy: 0.7406 - val_loss: 0.7577\n",
            "Epoch 86/100\n",
            "\u001b[1m18/18\u001b[0m \u001b[32m━━━━━━━━━━━━━━━━━━━━\u001b[0m\u001b[37m\u001b[0m \u001b[1m0s\u001b[0m 6ms/step - binary_accuracy: 0.9123 - loss: 0.2182 - val_binary_accuracy: 0.7371 - val_loss: 0.7545\n",
            "Epoch 87/100\n",
            "\u001b[1m18/18\u001b[0m \u001b[32m━━━━━━━━━━━━━━━━━━━━\u001b[0m\u001b[37m\u001b[0m \u001b[1m0s\u001b[0m 6ms/step - binary_accuracy: 0.9123 - loss: 0.2031 - val_binary_accuracy: 0.7453 - val_loss: 0.7587\n",
            "Epoch 88/100\n",
            "\u001b[1m18/18\u001b[0m \u001b[32m━━━━━━━━━━━━━━━━━━━━\u001b[0m\u001b[37m\u001b[0m \u001b[1m0s\u001b[0m 5ms/step - binary_accuracy: 0.9111 - loss: 0.2067 - val_binary_accuracy: 0.7465 - val_loss: 0.7556\n",
            "Epoch 89/100\n",
            "\u001b[1m18/18\u001b[0m \u001b[32m━━━━━━━━━━━━━━━━━━━━\u001b[0m\u001b[37m\u001b[0m \u001b[1m0s\u001b[0m 5ms/step - binary_accuracy: 0.9021 - loss: 0.2204 - val_binary_accuracy: 0.7441 - val_loss: 0.7509\n",
            "Epoch 90/100\n",
            "\u001b[1m18/18\u001b[0m \u001b[32m━━━━━━━━━━━━━━━━━━━━\u001b[0m\u001b[37m\u001b[0m \u001b[1m0s\u001b[0m 6ms/step - binary_accuracy: 0.9123 - loss: 0.2084 - val_binary_accuracy: 0.7441 - val_loss: 0.7513\n",
            "Epoch 91/100\n",
            "\u001b[1m18/18\u001b[0m \u001b[32m━━━━━━━━━━━━━━━━━━━━\u001b[0m\u001b[37m\u001b[0m \u001b[1m0s\u001b[0m 5ms/step - binary_accuracy: 0.9157 - loss: 0.2052 - val_binary_accuracy: 0.7465 - val_loss: 0.7653\n",
            "Epoch 92/100\n",
            "\u001b[1m18/18\u001b[0m \u001b[32m━━━━━━━━━━━━━━━━━━━━\u001b[0m\u001b[37m\u001b[0m \u001b[1m0s\u001b[0m 5ms/step - binary_accuracy: 0.9068 - loss: 0.2191 - val_binary_accuracy: 0.7594 - val_loss: 0.7617\n",
            "Epoch 93/100\n",
            "\u001b[1m18/18\u001b[0m \u001b[32m━━━━━━━━━━━━━━━━━━━━\u001b[0m\u001b[37m\u001b[0m \u001b[1m0s\u001b[0m 5ms/step - binary_accuracy: 0.9057 - loss: 0.2245 - val_binary_accuracy: 0.7512 - val_loss: 0.7633\n",
            "Epoch 94/100\n",
            "\u001b[1m18/18\u001b[0m \u001b[32m━━━━━━━━━━━━━━━━━━━━\u001b[0m\u001b[37m\u001b[0m \u001b[1m0s\u001b[0m 8ms/step - binary_accuracy: 0.9251 - loss: 0.1850 - val_binary_accuracy: 0.7441 - val_loss: 0.7950\n",
            "Epoch 95/100\n",
            "\u001b[1m18/18\u001b[0m \u001b[32m━━━━━━━━━━━━━━━━━━━━\u001b[0m\u001b[37m\u001b[0m \u001b[1m0s\u001b[0m 5ms/step - binary_accuracy: 0.9098 - loss: 0.2206 - val_binary_accuracy: 0.7488 - val_loss: 0.7636\n",
            "Epoch 96/100\n",
            "\u001b[1m18/18\u001b[0m \u001b[32m━━━━━━━━━━━━━━━━━━━━\u001b[0m\u001b[37m\u001b[0m \u001b[1m0s\u001b[0m 6ms/step - binary_accuracy: 0.9178 - loss: 0.2040 - val_binary_accuracy: 0.7523 - val_loss: 0.7561\n",
            "Epoch 97/100\n",
            "\u001b[1m18/18\u001b[0m \u001b[32m━━━━━━━━━━━━━━━━━━━━\u001b[0m\u001b[37m\u001b[0m \u001b[1m0s\u001b[0m 5ms/step - binary_accuracy: 0.9168 - loss: 0.2013 - val_binary_accuracy: 0.7512 - val_loss: 0.7816\n",
            "Epoch 98/100\n",
            "\u001b[1m18/18\u001b[0m \u001b[32m━━━━━━━━━━━━━━━━━━━━\u001b[0m\u001b[37m\u001b[0m \u001b[1m0s\u001b[0m 6ms/step - binary_accuracy: 0.9205 - loss: 0.1912 - val_binary_accuracy: 0.7465 - val_loss: 0.7940\n",
            "Epoch 99/100\n",
            "\u001b[1m18/18\u001b[0m \u001b[32m━━━━━━━━━━━━━━━━━━━━\u001b[0m\u001b[37m\u001b[0m \u001b[1m0s\u001b[0m 5ms/step - binary_accuracy: 0.9147 - loss: 0.2002 - val_binary_accuracy: 0.7383 - val_loss: 0.7733\n",
            "Epoch 100/100\n",
            "\u001b[1m18/18\u001b[0m \u001b[32m━━━━━━━━━━━━━━━━━━━━\u001b[0m\u001b[37m\u001b[0m \u001b[1m0s\u001b[0m 5ms/step - binary_accuracy: 0.9245 - loss: 0.1968 - val_binary_accuracy: 0.7418 - val_loss: 0.7837\n"
          ]
        }
      ],
      "source": [
        "from sklearn.model_selection import train_test_split\n",
        "\n",
        "X_train_type, X_test_type, \\\n",
        "X_train_concern, X_test_concern, \\\n",
        "X_train_goal, X_test_goal, \\\n",
        "y_train, y_test = train_test_split(\n",
        "    X_skin_type, X_skin_concern, X_skin_goal, y_final,\n",
        "    test_size=0.2, random_state=42\n",
        ")\n",
        "\n",
        "history = model.fit(\n",
        "    [X_train_type, X_train_concern, X_train_goal], y_train,\n",
        "    validation_split=0.2,\n",
        "    epochs=100,\n",
        "    batch_size=32,\n",
        "    verbose=1\n",
        ")\n"
      ]
    },
    {
      "cell_type": "code",
      "execution_count": 320,
      "metadata": {},
      "outputs": [
        {
          "name": "stdout",
          "output_type": "stream",
          "text": [
            "\n",
            "🔍 Evaluating final model on test set...\n",
            "\u001b[1m6/6\u001b[0m \u001b[32m━━━━━━━━━━━━━━━━━━━━\u001b[0m\u001b[37m\u001b[0m \u001b[1m0s\u001b[0m 2ms/step \n",
            "\n",
            "Classification Report:\n",
            "              precision    recall  f1-score   support\n",
            "\n",
            "        acne       0.18      0.26      0.21        19\n",
            "  anti_aging       0.00      0.00      0.00        15\n",
            " brightening       0.56      0.57      0.57        95\n",
            "     calming       0.00      0.00      0.00        29\n",
            "   exfoliant       0.00      0.00      0.00        19\n",
            "   hydrating       0.38      0.43      0.40        67\n",
            "\n",
            "   micro avg       0.40      0.36      0.38       244\n",
            "   macro avg       0.19      0.21      0.20       244\n",
            "weighted avg       0.34      0.36      0.35       244\n",
            " samples avg       0.36      0.37      0.35       244\n",
            "\n",
            "\n",
            "Evaluation Metrics:\n",
            "Accuracy: 0.1695\n",
            "F1 Score: 0.3473\n",
            "Hamming Loss: 0.2702\n",
            "Jaccard Score: 0.2320\n"
          ]
        },
        {
          "name": "stderr",
          "output_type": "stream",
          "text": [
            "/Users/jasmein/.pyenv/versions/3.11.4/lib/python3.11/site-packages/sklearn/metrics/_classification.py:1531: UndefinedMetricWarning: Precision is ill-defined and being set to 0.0 in samples with no predicted labels. Use `zero_division` parameter to control this behavior.\n",
            "  _warn_prf(average, modifier, f\"{metric.capitalize()} is\", len(result))\n"
          ]
        }
      ],
      "source": [
        "# Evaluasi final model di test set\n",
        "print(\"\\n🔍 Evaluating final model on test set...\")\n",
        "\n",
        "y_pred = model.predict([X_test_type, X_test_concern, X_test_goal])\n",
        "\n",
        "# Thresholding untuk binary classification\n",
        "threshold = 0.5\n",
        "y_pred_binary = (y_pred > threshold).astype(int)\n",
        "# Print classification report   \n",
        "print(\"\\nClassification Report:\")\n",
        "print(classification_report(y_test, y_pred_binary, target_names=mlb_ingredients_category.classes_))\n",
        "\n",
        "# Hitung metrik evaluasi\n",
        "accuracy = accuracy_score(y_test, y_pred_binary)\n",
        "f1 = f1_score(y_test, y_pred_binary, average='weighted')\n",
        "hamming = hamming_loss(y_test, y_pred_binary)\n",
        "jaccard = jaccard_score(y_test, y_pred_binary, average='weighted')\n",
        "print(\"\\nEvaluation Metrics:\")\n",
        "print(f\"Accuracy: {accuracy:.4f}\")\n",
        "print(f\"F1 Score: {f1:.4f}\")\n",
        "print(f\"Hamming Loss: {hamming:.4f}\")\n",
        "print(f\"Jaccard Score: {jaccard:.4f}\")"
      ]
    },
    {
      "cell_type": "markdown",
      "metadata": {},
      "source": [
        "## Data Splitting"
      ]
    },
    {
      "cell_type": "code",
      "execution_count": 280,
      "metadata": {},
      "outputs": [
        {
          "name": "stdout",
          "output_type": "stream",
          "text": [
            "Train set: (619, 39), (619, 6)\n",
            "Validation set: (133, 39), (133, 6)\n",
            "Test set: (133, 39), (133, 6)\n"
          ]
        }
      ],
      "source": [
        "# Split data jadi train/val/test (70:15:15)\n",
        "X_train, X_temp, y_train, y_temp = train_test_split(\n",
        "    X, Y_ingredient_category, test_size=0.3, random_state=42, shuffle=True)\n",
        "\n",
        "X_val, X_test, y_val, y_test = train_test_split(\n",
        "    X_temp, y_temp, test_size=0.5, random_state=42, shuffle=True)\n",
        "\n",
        "print(f\"Train set: {X_train.shape}, {y_train.shape}\")\n",
        "print(f\"Validation set: {X_val.shape}, {y_val.shape}\")\n",
        "print(f\"Test set: {X_test.shape}, {y_test.shape}\")"
      ]
    },
    {
      "cell_type": "markdown",
      "metadata": {},
      "source": [
        "## Data Augmentation"
      ]
    },
    {
      "cell_type": "code",
      "execution_count": 281,
      "metadata": {},
      "outputs": [
        {
          "name": "stdout",
          "output_type": "stream",
          "text": [
            "Jumlah tiap label di train set:\n",
            "  Ingredient Category  Count_in_train\n",
            "1          anti_aging              54\n",
            "4           exfoliant              55\n",
            "0                acne              69\n",
            "3             calming              85\n",
            "5           hydrating             283\n",
            "2         brightening             326\n"
          ]
        }
      ],
      "source": [
        "# Hitung jumlah sampel tiap label di y_train (multi-label)\n",
        "print(\"Jumlah tiap label di train set:\")\n",
        "label_counts = y_train.sum(axis=0)\n",
        "label_names = mlb_ingredients_category.classes_\n",
        "\n",
        "df_label_counts = pd.DataFrame({\n",
        "    'Ingredient Category': label_names,\n",
        "    'Count_in_train': label_counts\n",
        "}).sort_values(by='Count_in_train')\n",
        "\n",
        "print(df_label_counts)"
      ]
    },
    {
      "cell_type": "code",
      "execution_count": 282,
      "metadata": {},
      "outputs": [],
      "source": [
        "# Fungsi untuk menghitung jumlah label per sampel\n",
        "def count_labels_per_sample(y_matrix):\n",
        "    return y_matrix.sum(axis=1)\n",
        "\n",
        "# Hitung jumlah label per kategori\n",
        "label_counts = y_train.sum(axis=0).astype(int)\n",
        "target_per_label = 300  # target baru\n",
        "label_total = label_counts.copy()\n",
        "\n",
        "X_aug = []\n",
        "y_aug = []"
      ]
    },
    {
      "cell_type": "code",
      "execution_count": 283,
      "metadata": {},
      "outputs": [
        {
          "name": "stdout",
          "output_type": "stream",
          "text": [
            "Oversample label 'acne' → +231 data\n",
            "Oversample label 'anti_aging' → +235 data\n",
            "Oversample label 'calming' → +115 data\n",
            "Oversample label 'exfoliant' → +159 data\n",
            "\n",
            "✅ Setelah oversampling saja dengan max 2 label per data:\n",
            "X_final: (1359, 39)\n",
            "y_final: (1359, 6)\n",
            "\n",
            "Distribusi label baru:\n",
            "acne: 310\n",
            "anti_aging: 300\n",
            "brightening: 353\n",
            "calming: 301\n",
            "exfoliant: 300\n",
            "hydrating: 300\n"
          ]
        }
      ],
      "source": [
        "# --- Oversample untuk label minor saja (yang < target_per_label) ---\n",
        "for i, count in enumerate(label_counts):\n",
        "    if label_total[i] >= target_per_label:\n",
        "        continue  # label ini sudah cukup jumlahnya\n",
        "\n",
        "    gap = target_per_label - label_total[i]\n",
        "    idx = np.where(y_train[:, i] == 1)[0]\n",
        "    valid_idx = [j for j in idx if y_train[j].sum() <= 2]\n",
        "\n",
        "    added = 0\n",
        "    ptr = 0\n",
        "\n",
        "    while added < gap and ptr < len(valid_idx) * 100:\n",
        "        j = valid_idx[ptr % len(valid_idx)]\n",
        "        new_y = y_train[j].copy()\n",
        "        label_indices = np.where(new_y == 1)[0]\n",
        "\n",
        "        if (\n",
        "            all(label_total[k] < target_per_label for k in label_indices)\n",
        "            or (len(label_indices) == 1 and label_indices[0] == i)\n",
        "            or (label_total[i] < 0.5 * target_per_label)\n",
        "        ):\n",
        "            X_aug.append(X_train[j])\n",
        "            y_aug.append(new_y)\n",
        "            for k in label_indices:\n",
        "                label_total[k] += 1\n",
        "            added += 1\n",
        "        ptr += 1\n",
        "\n",
        "    print(f\"Oversample label '{label_names[i]}' → +{added} data\")\n",
        "\n",
        "# Gabungkan data original + data augmentasi\n",
        "X_all = np.vstack([X_train] + X_aug)\n",
        "y_all = np.vstack([y_train] + y_aug)\n",
        "\n",
        "# Validasi max 2 label per sample\n",
        "valid_mask = np.sum(y_all, axis=1) <= 2\n",
        "X_final = X_all[valid_mask]\n",
        "y_final = y_all[valid_mask]\n",
        "\n",
        "# Shuffle\n",
        "X_final, y_final = shuffle(X_final, y_final, random_state=42)\n",
        "\n",
        "# Print hasil akhir\n",
        "print(\"\\n✅ Setelah oversampling saja dengan max 2 label per data:\")\n",
        "print(\"X_final:\", X_final.shape)\n",
        "print(\"y_final:\", y_final.shape)\n",
        "\n",
        "new_counts = y_final.sum(axis=0)\n",
        "print(\"\\nDistribusi label baru:\")\n",
        "for i, count in enumerate(new_counts):\n",
        "    print(f\"{label_names[i]}: {int(count)}\")"
      ]
    },
    {
      "cell_type": "markdown",
      "metadata": {},
      "source": [
        "## Modelling Pipeline"
      ]
    },
    {
      "cell_type": "code",
      "execution_count": 284,
      "metadata": {},
      "outputs": [
        {
          "name": "stdout",
          "output_type": "stream",
          "text": [
            "Class weights: [0.96774194 1.         0.84985836 0.99667774 1.         1.        ]\n"
          ]
        }
      ],
      "source": [
        "# Gunakan hasil augmentasi\n",
        "input_dim = X_final.shape[1]\n",
        "output_dim = y_final.shape[1]\n",
        "\n",
        "# Hitung class weights (inverse frequency) dari y_final\n",
        "freq = np.sum(y_final, axis=0)\n",
        "total = y_final.shape[0]\n",
        "class_weights_np = total / (freq + 1e-6)\n",
        "class_weights_np = class_weights_np / np.max(class_weights_np)  # Normalisasi\n",
        "class_weights_tf = tf.constant(class_weights_np, dtype=tf.float32)\n",
        "\n",
        "print(\"Class weights:\", class_weights_np)"
      ]
    },
    {
      "cell_type": "code",
      "execution_count": 285,
      "metadata": {},
      "outputs": [],
      "source": [
        "# Loss function dengan class weights\n",
        "def weighted_binary_crossentropy(y_true, y_pred):\n",
        "    bce = K.binary_crossentropy(y_true, y_pred)\n",
        "    weight_vector = y_true * class_weights_tf + (1 - y_true) * 1.0\n",
        "    weighted_bce = bce * weight_vector\n",
        "    return K.mean(weighted_bce)"
      ]
    },
    {
      "cell_type": "code",
      "execution_count": 259,
      "metadata": {},
      "outputs": [],
      "source": [
        "# Focal loss function\n",
        "def binary_focal_loss(gamma=2., alpha=0.25):\n",
        "    def focal_loss(y_true, y_pred):\n",
        "        epsilon = K.epsilon()\n",
        "        y_pred = K.clip(y_pred, epsilon, 1. - epsilon)\n",
        "\n",
        "        p_t = y_true * y_pred + (1 - y_true) * (1 - y_pred)\n",
        "        alpha_factor = y_true * alpha + (1 - y_true) * (1 - alpha)\n",
        "        modulating_factor = K.pow(1. - p_t, gamma)\n",
        "\n",
        "        return K.mean(-alpha_factor * modulating_factor * K.log(p_t))\n",
        "    return focal_loss"
      ]
    },
    {
      "cell_type": "code",
      "execution_count": 286,
      "metadata": {},
      "outputs": [
        {
          "data": {
            "text/html": [
              "<pre style=\"white-space:pre;overflow-x:auto;line-height:normal;font-family:Menlo,'DejaVu Sans Mono',consolas,'Courier New',monospace\"><span style=\"font-weight: bold\">Model: \"sequential_65\"</span>\n",
              "</pre>\n"
            ],
            "text/plain": [
              "\u001b[1mModel: \"sequential_65\"\u001b[0m\n"
            ]
          },
          "metadata": {},
          "output_type": "display_data"
        },
        {
          "data": {
            "text/html": [
              "<pre style=\"white-space:pre;overflow-x:auto;line-height:normal;font-family:Menlo,'DejaVu Sans Mono',consolas,'Courier New',monospace\">┏━━━━━━━━━━━━━━━━━━━━━━━━━━━━━━━━━┳━━━━━━━━━━━━━━━━━━━━━━━━┳━━━━━━━━━━━━━━━┓\n",
              "┃<span style=\"font-weight: bold\"> Layer (type)                    </span>┃<span style=\"font-weight: bold\"> Output Shape           </span>┃<span style=\"font-weight: bold\">       Param # </span>┃\n",
              "┡━━━━━━━━━━━━━━━━━━━━━━━━━━━━━━━━━╇━━━━━━━━━━━━━━━━━━━━━━━━╇━━━━━━━━━━━━━━━┩\n",
              "│ dense_237 (<span style=\"color: #0087ff; text-decoration-color: #0087ff\">Dense</span>)               │ (<span style=\"color: #00d7ff; text-decoration-color: #00d7ff\">None</span>, <span style=\"color: #00af00; text-decoration-color: #00af00\">256</span>)            │        <span style=\"color: #00af00; text-decoration-color: #00af00\">10,240</span> │\n",
              "├─────────────────────────────────┼────────────────────────┼───────────────┤\n",
              "│ batch_normalization_172         │ (<span style=\"color: #00d7ff; text-decoration-color: #00d7ff\">None</span>, <span style=\"color: #00af00; text-decoration-color: #00af00\">256</span>)            │         <span style=\"color: #00af00; text-decoration-color: #00af00\">1,024</span> │\n",
              "│ (<span style=\"color: #0087ff; text-decoration-color: #0087ff\">BatchNormalization</span>)            │                        │               │\n",
              "├─────────────────────────────────┼────────────────────────┼───────────────┤\n",
              "│ dropout_172 (<span style=\"color: #0087ff; text-decoration-color: #0087ff\">Dropout</span>)           │ (<span style=\"color: #00d7ff; text-decoration-color: #00d7ff\">None</span>, <span style=\"color: #00af00; text-decoration-color: #00af00\">256</span>)            │             <span style=\"color: #00af00; text-decoration-color: #00af00\">0</span> │\n",
              "├─────────────────────────────────┼────────────────────────┼───────────────┤\n",
              "│ dense_238 (<span style=\"color: #0087ff; text-decoration-color: #0087ff\">Dense</span>)               │ (<span style=\"color: #00d7ff; text-decoration-color: #00d7ff\">None</span>, <span style=\"color: #00af00; text-decoration-color: #00af00\">128</span>)            │        <span style=\"color: #00af00; text-decoration-color: #00af00\">32,896</span> │\n",
              "├─────────────────────────────────┼────────────────────────┼───────────────┤\n",
              "│ batch_normalization_173         │ (<span style=\"color: #00d7ff; text-decoration-color: #00d7ff\">None</span>, <span style=\"color: #00af00; text-decoration-color: #00af00\">128</span>)            │           <span style=\"color: #00af00; text-decoration-color: #00af00\">512</span> │\n",
              "│ (<span style=\"color: #0087ff; text-decoration-color: #0087ff\">BatchNormalization</span>)            │                        │               │\n",
              "├─────────────────────────────────┼────────────────────────┼───────────────┤\n",
              "│ dropout_173 (<span style=\"color: #0087ff; text-decoration-color: #0087ff\">Dropout</span>)           │ (<span style=\"color: #00d7ff; text-decoration-color: #00d7ff\">None</span>, <span style=\"color: #00af00; text-decoration-color: #00af00\">128</span>)            │             <span style=\"color: #00af00; text-decoration-color: #00af00\">0</span> │\n",
              "├─────────────────────────────────┼────────────────────────┼───────────────┤\n",
              "│ dense_239 (<span style=\"color: #0087ff; text-decoration-color: #0087ff\">Dense</span>)               │ (<span style=\"color: #00d7ff; text-decoration-color: #00d7ff\">None</span>, <span style=\"color: #00af00; text-decoration-color: #00af00\">64</span>)             │         <span style=\"color: #00af00; text-decoration-color: #00af00\">8,256</span> │\n",
              "├─────────────────────────────────┼────────────────────────┼───────────────┤\n",
              "│ batch_normalization_174         │ (<span style=\"color: #00d7ff; text-decoration-color: #00d7ff\">None</span>, <span style=\"color: #00af00; text-decoration-color: #00af00\">64</span>)             │           <span style=\"color: #00af00; text-decoration-color: #00af00\">256</span> │\n",
              "│ (<span style=\"color: #0087ff; text-decoration-color: #0087ff\">BatchNormalization</span>)            │                        │               │\n",
              "├─────────────────────────────────┼────────────────────────┼───────────────┤\n",
              "│ dropout_174 (<span style=\"color: #0087ff; text-decoration-color: #0087ff\">Dropout</span>)           │ (<span style=\"color: #00d7ff; text-decoration-color: #00d7ff\">None</span>, <span style=\"color: #00af00; text-decoration-color: #00af00\">64</span>)             │             <span style=\"color: #00af00; text-decoration-color: #00af00\">0</span> │\n",
              "├─────────────────────────────────┼────────────────────────┼───────────────┤\n",
              "│ dense_240 (<span style=\"color: #0087ff; text-decoration-color: #0087ff\">Dense</span>)               │ (<span style=\"color: #00d7ff; text-decoration-color: #00d7ff\">None</span>, <span style=\"color: #00af00; text-decoration-color: #00af00\">6</span>)              │           <span style=\"color: #00af00; text-decoration-color: #00af00\">390</span> │\n",
              "└─────────────────────────────────┴────────────────────────┴───────────────┘\n",
              "</pre>\n"
            ],
            "text/plain": [
              "┏━━━━━━━━━━━━━━━━━━━━━━━━━━━━━━━━━┳━━━━━━━━━━━━━━━━━━━━━━━━┳━━━━━━━━━━━━━━━┓\n",
              "┃\u001b[1m \u001b[0m\u001b[1mLayer (type)                   \u001b[0m\u001b[1m \u001b[0m┃\u001b[1m \u001b[0m\u001b[1mOutput Shape          \u001b[0m\u001b[1m \u001b[0m┃\u001b[1m \u001b[0m\u001b[1m      Param #\u001b[0m\u001b[1m \u001b[0m┃\n",
              "┡━━━━━━━━━━━━━━━━━━━━━━━━━━━━━━━━━╇━━━━━━━━━━━━━━━━━━━━━━━━╇━━━━━━━━━━━━━━━┩\n",
              "│ dense_237 (\u001b[38;5;33mDense\u001b[0m)               │ (\u001b[38;5;45mNone\u001b[0m, \u001b[38;5;34m256\u001b[0m)            │        \u001b[38;5;34m10,240\u001b[0m │\n",
              "├─────────────────────────────────┼────────────────────────┼───────────────┤\n",
              "│ batch_normalization_172         │ (\u001b[38;5;45mNone\u001b[0m, \u001b[38;5;34m256\u001b[0m)            │         \u001b[38;5;34m1,024\u001b[0m │\n",
              "│ (\u001b[38;5;33mBatchNormalization\u001b[0m)            │                        │               │\n",
              "├─────────────────────────────────┼────────────────────────┼───────────────┤\n",
              "│ dropout_172 (\u001b[38;5;33mDropout\u001b[0m)           │ (\u001b[38;5;45mNone\u001b[0m, \u001b[38;5;34m256\u001b[0m)            │             \u001b[38;5;34m0\u001b[0m │\n",
              "├─────────────────────────────────┼────────────────────────┼───────────────┤\n",
              "│ dense_238 (\u001b[38;5;33mDense\u001b[0m)               │ (\u001b[38;5;45mNone\u001b[0m, \u001b[38;5;34m128\u001b[0m)            │        \u001b[38;5;34m32,896\u001b[0m │\n",
              "├─────────────────────────────────┼────────────────────────┼───────────────┤\n",
              "│ batch_normalization_173         │ (\u001b[38;5;45mNone\u001b[0m, \u001b[38;5;34m128\u001b[0m)            │           \u001b[38;5;34m512\u001b[0m │\n",
              "│ (\u001b[38;5;33mBatchNormalization\u001b[0m)            │                        │               │\n",
              "├─────────────────────────────────┼────────────────────────┼───────────────┤\n",
              "│ dropout_173 (\u001b[38;5;33mDropout\u001b[0m)           │ (\u001b[38;5;45mNone\u001b[0m, \u001b[38;5;34m128\u001b[0m)            │             \u001b[38;5;34m0\u001b[0m │\n",
              "├─────────────────────────────────┼────────────────────────┼───────────────┤\n",
              "│ dense_239 (\u001b[38;5;33mDense\u001b[0m)               │ (\u001b[38;5;45mNone\u001b[0m, \u001b[38;5;34m64\u001b[0m)             │         \u001b[38;5;34m8,256\u001b[0m │\n",
              "├─────────────────────────────────┼────────────────────────┼───────────────┤\n",
              "│ batch_normalization_174         │ (\u001b[38;5;45mNone\u001b[0m, \u001b[38;5;34m64\u001b[0m)             │           \u001b[38;5;34m256\u001b[0m │\n",
              "│ (\u001b[38;5;33mBatchNormalization\u001b[0m)            │                        │               │\n",
              "├─────────────────────────────────┼────────────────────────┼───────────────┤\n",
              "│ dropout_174 (\u001b[38;5;33mDropout\u001b[0m)           │ (\u001b[38;5;45mNone\u001b[0m, \u001b[38;5;34m64\u001b[0m)             │             \u001b[38;5;34m0\u001b[0m │\n",
              "├─────────────────────────────────┼────────────────────────┼───────────────┤\n",
              "│ dense_240 (\u001b[38;5;33mDense\u001b[0m)               │ (\u001b[38;5;45mNone\u001b[0m, \u001b[38;5;34m6\u001b[0m)              │           \u001b[38;5;34m390\u001b[0m │\n",
              "└─────────────────────────────────┴────────────────────────┴───────────────┘\n"
            ]
          },
          "metadata": {},
          "output_type": "display_data"
        },
        {
          "data": {
            "text/html": [
              "<pre style=\"white-space:pre;overflow-x:auto;line-height:normal;font-family:Menlo,'DejaVu Sans Mono',consolas,'Courier New',monospace\"><span style=\"font-weight: bold\"> Total params: </span><span style=\"color: #00af00; text-decoration-color: #00af00\">53,574</span> (209.27 KB)\n",
              "</pre>\n"
            ],
            "text/plain": [
              "\u001b[1m Total params: \u001b[0m\u001b[38;5;34m53,574\u001b[0m (209.27 KB)\n"
            ]
          },
          "metadata": {},
          "output_type": "display_data"
        },
        {
          "data": {
            "text/html": [
              "<pre style=\"white-space:pre;overflow-x:auto;line-height:normal;font-family:Menlo,'DejaVu Sans Mono',consolas,'Courier New',monospace\"><span style=\"font-weight: bold\"> Trainable params: </span><span style=\"color: #00af00; text-decoration-color: #00af00\">52,678</span> (205.77 KB)\n",
              "</pre>\n"
            ],
            "text/plain": [
              "\u001b[1m Trainable params: \u001b[0m\u001b[38;5;34m52,678\u001b[0m (205.77 KB)\n"
            ]
          },
          "metadata": {},
          "output_type": "display_data"
        },
        {
          "data": {
            "text/html": [
              "<pre style=\"white-space:pre;overflow-x:auto;line-height:normal;font-family:Menlo,'DejaVu Sans Mono',consolas,'Courier New',monospace\"><span style=\"font-weight: bold\"> Non-trainable params: </span><span style=\"color: #00af00; text-decoration-color: #00af00\">896</span> (3.50 KB)\n",
              "</pre>\n"
            ],
            "text/plain": [
              "\u001b[1m Non-trainable params: \u001b[0m\u001b[38;5;34m896\u001b[0m (3.50 KB)\n"
            ]
          },
          "metadata": {},
          "output_type": "display_data"
        }
      ],
      "source": [
        "# Build model\n",
        "def build_model(input_dim, output_dim, lr=0.001, dropout_rate=0.4): \n",
        "    model = Sequential([\n",
        "        Input(shape=(input_dim,)),\n",
        "\n",
        "        Dense(256, activation='relu'),\n",
        "        BatchNormalization(),\n",
        "        Dropout(dropout_rate),\n",
        "\n",
        "        Dense(128, activation='relu'),\n",
        "        BatchNormalization(),\n",
        "        Dropout(dropout_rate),\n",
        "\n",
        "        Dense(64, activation='relu'),\n",
        "        BatchNormalization(),\n",
        "        Dropout(dropout_rate),\n",
        "\n",
        "        Dense(output_dim, activation='sigmoid')\n",
        "    ])\n",
        "    \n",
        "    optimizer = tf.keras.optimizers.Adam(learning_rate=lr)\n",
        "    model.compile(\n",
        "        loss=weighted_binary_crossentropy,\n",
        "        optimizer=optimizer,\n",
        "        metrics=[\n",
        "            tf.keras.metrics.BinaryAccuracy(name='binary_accuracy'),\n",
        "            tf.keras.metrics.AUC(name='auc'),\n",
        "            tf.keras.metrics.Precision(name='precision'),\n",
        "            tf.keras.metrics.Recall(name='recall')\n",
        "        ]\n",
        "    )\n",
        "    return model\n",
        "\n",
        "# Model summary\n",
        "model = build_model(input_dim, output_dim)\n",
        "model.summary()"
      ]
    },
    {
      "cell_type": "code",
      "execution_count": 296,
      "metadata": {},
      "outputs": [
        {
          "name": "stdout",
          "output_type": "stream",
          "text": [
            "\n",
            "==============================================\n",
            "Training model with lr=0.001, batch_size=32\n",
            "==============================================\n",
            "\n",
            "Epoch 1/500\n",
            "\u001b[1m34/34\u001b[0m \u001b[32m━━━━━━━━━━━━━━━━━━━━\u001b[0m\u001b[37m\u001b[0m \u001b[1m11s\u001b[0m 42ms/step - auc: 0.5432 - binary_accuracy: 0.5216 - loss: 0.8747 - precision: 0.2419 - recall: 0.5251 - val_auc: 0.6077 - val_binary_accuracy: 0.7310 - val_loss: 0.6386 - val_precision: 0.3038 - val_recall: 0.1273\n",
            "Epoch 2/500\n",
            "\u001b[1m34/34\u001b[0m \u001b[32m━━━━━━━━━━━━━━━━━━━━\u001b[0m\u001b[37m\u001b[0m \u001b[1m0s\u001b[0m 12ms/step - auc: 0.6475 - binary_accuracy: 0.6052 - loss: 0.7072 - precision: 0.3142 - recall: 0.6132 - val_auc: 0.6371 - val_binary_accuracy: 0.7665 - val_loss: 0.6039 - val_precision: 0.4524 - val_recall: 0.0504\n",
            "Epoch 3/500\n",
            "\u001b[1m34/34\u001b[0m \u001b[32m━━━━━━━━━━━━━━━━━━━━\u001b[0m\u001b[37m\u001b[0m \u001b[1m0s\u001b[0m 10ms/step - auc: 0.6843 - binary_accuracy: 0.6433 - loss: 0.6554 - precision: 0.3480 - recall: 0.6216 - val_auc: 0.6520 - val_binary_accuracy: 0.7770 - val_loss: 0.5761 - val_precision: 0.7407 - val_recall: 0.0531\n",
            "Epoch 4/500\n",
            "\u001b[1m34/34\u001b[0m \u001b[32m━━━━━━━━━━━━━━━━━━━━\u001b[0m\u001b[37m\u001b[0m \u001b[1m0s\u001b[0m 7ms/step - auc: 0.7125 - binary_accuracy: 0.6853 - loss: 0.5991 - precision: 0.3794 - recall: 0.5992 - val_auc: 0.6591 - val_binary_accuracy: 0.7770 - val_loss: 0.5568 - val_precision: 0.9333 - val_recall: 0.0371\n",
            "Epoch 5/500\n",
            "\u001b[1m34/34\u001b[0m \u001b[32m━━━━━━━━━━━━━━━━━━━━\u001b[0m\u001b[37m\u001b[0m \u001b[1m0s\u001b[0m 6ms/step - auc: 0.7376 - binary_accuracy: 0.7142 - loss: 0.5511 - precision: 0.4082 - recall: 0.5744 - val_auc: 0.6743 - val_binary_accuracy: 0.7739 - val_loss: 0.5390 - val_precision: 0.6818 - val_recall: 0.0398\n",
            "Epoch 6/500\n",
            "\u001b[1m34/34\u001b[0m \u001b[32m━━━━━━━━━━━━━━━━━━━━\u001b[0m\u001b[37m\u001b[0m \u001b[1m0s\u001b[0m 13ms/step - auc: 0.7441 - binary_accuracy: 0.7419 - loss: 0.5220 - precision: 0.4474 - recall: 0.5441 - val_auc: 0.6949 - val_binary_accuracy: 0.7770 - val_loss: 0.5207 - val_precision: 0.7826 - val_recall: 0.0477\n",
            "Epoch 7/500\n",
            "\u001b[1m34/34\u001b[0m \u001b[32m━━━━━━━━━━━━━━━━━━━━\u001b[0m\u001b[37m\u001b[0m \u001b[1m0s\u001b[0m 8ms/step - auc: 0.7708 - binary_accuracy: 0.7600 - loss: 0.4861 - precision: 0.4740 - recall: 0.5320 - val_auc: 0.7219 - val_binary_accuracy: 0.7788 - val_loss: 0.4990 - val_precision: 1.0000 - val_recall: 0.0424\n",
            "Epoch 8/500\n",
            "\u001b[1m34/34\u001b[0m \u001b[32m━━━━━━━━━━━━━━━━━━━━\u001b[0m\u001b[37m\u001b[0m \u001b[1m0s\u001b[0m 9ms/step - auc: 0.7826 - binary_accuracy: 0.7847 - loss: 0.4572 - precision: 0.5276 - recall: 0.5047 - val_auc: 0.7536 - val_binary_accuracy: 0.7831 - val_loss: 0.4799 - val_precision: 0.8966 - val_recall: 0.0690\n",
            "Epoch 9/500\n",
            "\u001b[1m34/34\u001b[0m \u001b[32m━━━━━━━━━━━━━━━━━━━━\u001b[0m\u001b[37m\u001b[0m \u001b[1m0s\u001b[0m 13ms/step - auc: 0.7918 - binary_accuracy: 0.7920 - loss: 0.4400 - precision: 0.5517 - recall: 0.4659 - val_auc: 0.7804 - val_binary_accuracy: 0.7862 - val_loss: 0.4617 - val_precision: 0.9118 - val_recall: 0.0822\n",
            "Epoch 10/500\n",
            "\u001b[1m34/34\u001b[0m \u001b[32m━━━━━━━━━━━━━━━━━━━━\u001b[0m\u001b[37m\u001b[0m \u001b[1m0s\u001b[0m 12ms/step - auc: 0.8100 - binary_accuracy: 0.8030 - loss: 0.4184 - precision: 0.5854 - recall: 0.4591 - val_auc: 0.8035 - val_binary_accuracy: 0.7929 - val_loss: 0.4443 - val_precision: 0.8824 - val_recall: 0.1194\n",
            "Epoch 11/500\n",
            "\u001b[1m34/34\u001b[0m \u001b[32m━━━━━━━━━━━━━━━━━━━━\u001b[0m\u001b[37m\u001b[0m \u001b[1m0s\u001b[0m 9ms/step - auc: 0.8126 - binary_accuracy: 0.8064 - loss: 0.4105 - precision: 0.6043 - recall: 0.4460 - val_auc: 0.8201 - val_binary_accuracy: 0.8033 - val_loss: 0.4275 - val_precision: 0.8684 - val_recall: 0.1751\n",
            "Epoch 12/500\n",
            "\u001b[1m34/34\u001b[0m \u001b[32m━━━━━━━━━━━━━━━━━━━━\u001b[0m\u001b[37m\u001b[0m \u001b[1m1s\u001b[0m 15ms/step - auc: 0.8213 - binary_accuracy: 0.8183 - loss: 0.4027 - precision: 0.6427 - recall: 0.4631 - val_auc: 0.8371 - val_binary_accuracy: 0.8107 - val_loss: 0.4119 - val_precision: 0.8617 - val_recall: 0.2149\n",
            "Epoch 13/500\n",
            "\u001b[1m34/34\u001b[0m \u001b[32m━━━━━━━━━━━━━━━━━━━━\u001b[0m\u001b[37m\u001b[0m \u001b[1m1s\u001b[0m 19ms/step - auc: 0.8321 - binary_accuracy: 0.8218 - loss: 0.3933 - precision: 0.6752 - recall: 0.4504 - val_auc: 0.8483 - val_binary_accuracy: 0.8186 - val_loss: 0.3963 - val_precision: 0.8522 - val_recall: 0.2599\n",
            "Epoch 14/500\n",
            "\u001b[1m34/34\u001b[0m \u001b[32m━━━━━━━━━━━━━━━━━━━━\u001b[0m\u001b[37m\u001b[0m \u001b[1m0s\u001b[0m 7ms/step - auc: 0.8353 - binary_accuracy: 0.8311 - loss: 0.3829 - precision: 0.6902 - recall: 0.4618 - val_auc: 0.8614 - val_binary_accuracy: 0.8217 - val_loss: 0.3806 - val_precision: 0.7867 - val_recall: 0.3130\n",
            "Epoch 15/500\n",
            "\u001b[1m34/34\u001b[0m \u001b[32m━━━━━━━━━━━━━━━━━━━━\u001b[0m\u001b[37m\u001b[0m \u001b[1m0s\u001b[0m 7ms/step - auc: 0.8437 - binary_accuracy: 0.8243 - loss: 0.3799 - precision: 0.6659 - recall: 0.4487 - val_auc: 0.8687 - val_binary_accuracy: 0.8346 - val_loss: 0.3675 - val_precision: 0.7956 - val_recall: 0.3820\n",
            "Epoch 16/500\n",
            "\u001b[1m34/34\u001b[0m \u001b[32m━━━━━━━━━━━━━━━━━━━━\u001b[0m\u001b[37m\u001b[0m \u001b[1m0s\u001b[0m 12ms/step - auc: 0.8649 - binary_accuracy: 0.8399 - loss: 0.3562 - precision: 0.7085 - recall: 0.5046 - val_auc: 0.8775 - val_binary_accuracy: 0.8358 - val_loss: 0.3559 - val_precision: 0.7853 - val_recall: 0.3979\n",
            "Epoch 17/500\n",
            "\u001b[1m34/34\u001b[0m \u001b[32m━━━━━━━━━━━━━━━━━━━━\u001b[0m\u001b[37m\u001b[0m \u001b[1m0s\u001b[0m 7ms/step - auc: 0.8688 - binary_accuracy: 0.8521 - loss: 0.3475 - precision: 0.7461 - recall: 0.5223 - val_auc: 0.8802 - val_binary_accuracy: 0.8431 - val_loss: 0.3467 - val_precision: 0.8071 - val_recall: 0.4218\n",
            "Epoch 18/500\n",
            "\u001b[1m34/34\u001b[0m \u001b[32m━━━━━━━━━━━━━━━━━━━━\u001b[0m\u001b[37m\u001b[0m \u001b[1m0s\u001b[0m 12ms/step - auc: 0.8746 - binary_accuracy: 0.8476 - loss: 0.3449 - precision: 0.7362 - recall: 0.5255 - val_auc: 0.8863 - val_binary_accuracy: 0.8444 - val_loss: 0.3368 - val_precision: 0.7758 - val_recall: 0.4589\n",
            "Epoch 19/500\n",
            "\u001b[1m34/34\u001b[0m \u001b[32m━━━━━━━━━━━━━━━━━━━━\u001b[0m\u001b[37m\u001b[0m \u001b[1m0s\u001b[0m 11ms/step - auc: 0.8847 - binary_accuracy: 0.8512 - loss: 0.3294 - precision: 0.7307 - recall: 0.5360 - val_auc: 0.8886 - val_binary_accuracy: 0.8456 - val_loss: 0.3314 - val_precision: 0.7706 - val_recall: 0.4721\n",
            "Epoch 20/500\n",
            "\u001b[1m34/34\u001b[0m \u001b[32m━━━━━━━━━━━━━━━━━━━━\u001b[0m\u001b[37m\u001b[0m \u001b[1m0s\u001b[0m 11ms/step - auc: 0.8949 - binary_accuracy: 0.8626 - loss: 0.3164 - precision: 0.7711 - recall: 0.5720 - val_auc: 0.8903 - val_binary_accuracy: 0.8572 - val_loss: 0.3272 - val_precision: 0.7880 - val_recall: 0.5225\n",
            "Epoch 21/500\n",
            "\u001b[1m34/34\u001b[0m \u001b[32m━━━━━━━━━━━━━━━━━━━━\u001b[0m\u001b[37m\u001b[0m \u001b[1m0s\u001b[0m 13ms/step - auc: 0.8815 - binary_accuracy: 0.8473 - loss: 0.3351 - precision: 0.7350 - recall: 0.5305 - val_auc: 0.8946 - val_binary_accuracy: 0.8529 - val_loss: 0.3205 - val_precision: 0.7819 - val_recall: 0.5040\n",
            "Epoch 22/500\n",
            "\u001b[1m34/34\u001b[0m \u001b[32m━━━━━━━━━━━━━━━━━━━━\u001b[0m\u001b[37m\u001b[0m \u001b[1m1s\u001b[0m 15ms/step - auc: 0.8830 - binary_accuracy: 0.8517 - loss: 0.3332 - precision: 0.7454 - recall: 0.5279 - val_auc: 0.8938 - val_binary_accuracy: 0.8591 - val_loss: 0.3193 - val_precision: 0.7952 - val_recall: 0.5252\n",
            "Epoch 23/500\n",
            "\u001b[1m34/34\u001b[0m \u001b[32m━━━━━━━━━━━━━━━━━━━━\u001b[0m\u001b[37m\u001b[0m \u001b[1m1s\u001b[0m 14ms/step - auc: 0.9033 - binary_accuracy: 0.8668 - loss: 0.3025 - precision: 0.7680 - recall: 0.5741 - val_auc: 0.8981 - val_binary_accuracy: 0.8578 - val_loss: 0.3155 - val_precision: 0.7778 - val_recall: 0.5385\n",
            "Epoch 24/500\n",
            "\u001b[1m34/34\u001b[0m \u001b[32m━━━━━━━━━━━━━━━━━━━━\u001b[0m\u001b[37m\u001b[0m \u001b[1m0s\u001b[0m 8ms/step - auc: 0.9037 - binary_accuracy: 0.8673 - loss: 0.3079 - precision: 0.7836 - recall: 0.5842 - val_auc: 0.8979 - val_binary_accuracy: 0.8560 - val_loss: 0.3166 - val_precision: 0.7710 - val_recall: 0.5358\n",
            "Epoch 25/500\n",
            "\u001b[1m34/34\u001b[0m \u001b[32m━━━━━━━━━━━━━━━━━━━━\u001b[0m\u001b[37m\u001b[0m \u001b[1m0s\u001b[0m 7ms/step - auc: 0.8960 - binary_accuracy: 0.8516 - loss: 0.3196 - precision: 0.7368 - recall: 0.5467 - val_auc: 0.9040 - val_binary_accuracy: 0.8597 - val_loss: 0.3096 - val_precision: 0.7721 - val_recall: 0.5570\n",
            "Epoch 26/500\n",
            "\u001b[1m34/34\u001b[0m \u001b[32m━━━━━━━━━━━━━━━━━━━━\u001b[0m\u001b[37m\u001b[0m \u001b[1m0s\u001b[0m 7ms/step - auc: 0.9022 - binary_accuracy: 0.8649 - loss: 0.3128 - precision: 0.7739 - recall: 0.5855 - val_auc: 0.9067 - val_binary_accuracy: 0.8578 - val_loss: 0.3065 - val_precision: 0.7562 - val_recall: 0.5676\n",
            "Epoch 27/500\n",
            "\u001b[1m34/34\u001b[0m \u001b[32m━━━━━━━━━━━━━━━━━━━━\u001b[0m\u001b[37m\u001b[0m \u001b[1m0s\u001b[0m 7ms/step - auc: 0.9054 - binary_accuracy: 0.8667 - loss: 0.3051 - precision: 0.7699 - recall: 0.5995 - val_auc: 0.9076 - val_binary_accuracy: 0.8670 - val_loss: 0.3050 - val_precision: 0.7797 - val_recall: 0.5915\n",
            "Epoch 28/500\n",
            "\u001b[1m34/34\u001b[0m \u001b[32m━━━━━━━━━━━━━━━━━━━━\u001b[0m\u001b[37m\u001b[0m \u001b[1m0s\u001b[0m 7ms/step - auc: 0.9016 - binary_accuracy: 0.8612 - loss: 0.3102 - precision: 0.7585 - recall: 0.5803 - val_auc: 0.9100 - val_binary_accuracy: 0.8627 - val_loss: 0.3009 - val_precision: 0.7666 - val_recall: 0.5836\n",
            "Epoch 29/500\n",
            "\u001b[1m34/34\u001b[0m \u001b[32m━━━━━━━━━━━━━━━━━━━━\u001b[0m\u001b[37m\u001b[0m \u001b[1m0s\u001b[0m 6ms/step - auc: 0.9160 - binary_accuracy: 0.8771 - loss: 0.2870 - precision: 0.8018 - recall: 0.6068 - val_auc: 0.9091 - val_binary_accuracy: 0.8597 - val_loss: 0.3045 - val_precision: 0.7624 - val_recall: 0.5703\n",
            "Epoch 30/500\n",
            "\u001b[1m34/34\u001b[0m \u001b[32m━━━━━━━━━━━━━━━━━━━━\u001b[0m\u001b[37m\u001b[0m \u001b[1m0s\u001b[0m 7ms/step - auc: 0.9119 - binary_accuracy: 0.8763 - loss: 0.2941 - precision: 0.7854 - recall: 0.6281 - val_auc: 0.9095 - val_binary_accuracy: 0.8627 - val_loss: 0.3012 - val_precision: 0.7629 - val_recall: 0.5889\n",
            "Epoch 31/500\n",
            "\u001b[1m34/34\u001b[0m \u001b[32m━━━━━━━━━━━━━━━━━━━━\u001b[0m\u001b[37m\u001b[0m \u001b[1m0s\u001b[0m 7ms/step - auc: 0.9208 - binary_accuracy: 0.8769 - loss: 0.2821 - precision: 0.7832 - recall: 0.6332 - val_auc: 0.9064 - val_binary_accuracy: 0.8603 - val_loss: 0.3054 - val_precision: 0.7633 - val_recall: 0.5729\n",
            "Epoch 32/500\n",
            "\u001b[1m34/34\u001b[0m \u001b[32m━━━━━━━━━━━━━━━━━━━━\u001b[0m\u001b[37m\u001b[0m \u001b[1m0s\u001b[0m 9ms/step - auc: 0.9219 - binary_accuracy: 0.8755 - loss: 0.2807 - precision: 0.7722 - recall: 0.6377 - val_auc: 0.9117 - val_binary_accuracy: 0.8627 - val_loss: 0.3013 - val_precision: 0.7593 - val_recall: 0.5942\n",
            "Epoch 33/500\n",
            "\u001b[1m34/34\u001b[0m \u001b[32m━━━━━━━━━━━━━━━━━━━━\u001b[0m\u001b[37m\u001b[0m \u001b[1m0s\u001b[0m 6ms/step - auc: 0.9129 - binary_accuracy: 0.8761 - loss: 0.2938 - precision: 0.7898 - recall: 0.6288 - val_auc: 0.9113 - val_binary_accuracy: 0.8683 - val_loss: 0.3014 - val_precision: 0.7893 - val_recall: 0.5862\n",
            "Epoch 34/500\n",
            "\u001b[1m34/34\u001b[0m \u001b[32m━━━━━━━━━━━━━━━━━━━━\u001b[0m\u001b[37m\u001b[0m \u001b[1m0s\u001b[0m 7ms/step - auc: 0.9280 - binary_accuracy: 0.8815 - loss: 0.2688 - precision: 0.8137 - recall: 0.6294 - val_auc: 0.9153 - val_binary_accuracy: 0.8707 - val_loss: 0.2944 - val_precision: 0.7748 - val_recall: 0.6207\n",
            "Epoch 35/500\n",
            "\u001b[1m34/34\u001b[0m \u001b[32m━━━━━━━━━━━━━━━━━━━━\u001b[0m\u001b[37m\u001b[0m \u001b[1m0s\u001b[0m 8ms/step - auc: 0.9317 - binary_accuracy: 0.8864 - loss: 0.2633 - precision: 0.8137 - recall: 0.6511 - val_auc: 0.9140 - val_binary_accuracy: 0.8701 - val_loss: 0.2956 - val_precision: 0.7797 - val_recall: 0.6101\n",
            "Epoch 36/500\n",
            "\u001b[1m34/34\u001b[0m \u001b[32m━━━━━━━━━━━━━━━━━━━━\u001b[0m\u001b[37m\u001b[0m \u001b[1m0s\u001b[0m 7ms/step - auc: 0.9244 - binary_accuracy: 0.8806 - loss: 0.2766 - precision: 0.8051 - recall: 0.6293 - val_auc: 0.9171 - val_binary_accuracy: 0.8676 - val_loss: 0.2903 - val_precision: 0.7572 - val_recall: 0.6286\n",
            "Epoch 37/500\n",
            "\u001b[1m34/34\u001b[0m \u001b[32m━━━━━━━━━━━━━━━━━━━━\u001b[0m\u001b[37m\u001b[0m \u001b[1m0s\u001b[0m 10ms/step - auc: 0.9242 - binary_accuracy: 0.8842 - loss: 0.2760 - precision: 0.8025 - recall: 0.6609 - val_auc: 0.9191 - val_binary_accuracy: 0.8707 - val_loss: 0.2872 - val_precision: 0.7643 - val_recall: 0.6366\n",
            "Epoch 38/500\n",
            "\u001b[1m34/34\u001b[0m \u001b[32m━━━━━━━━━━━━━━━━━━━━\u001b[0m\u001b[37m\u001b[0m \u001b[1m0s\u001b[0m 8ms/step - auc: 0.9272 - binary_accuracy: 0.8856 - loss: 0.2706 - precision: 0.8006 - recall: 0.6632 - val_auc: 0.9205 - val_binary_accuracy: 0.8738 - val_loss: 0.2860 - val_precision: 0.7714 - val_recall: 0.6446\n",
            "Epoch 39/500\n",
            "\u001b[1m34/34\u001b[0m \u001b[32m━━━━━━━━━━━━━━━━━━━━\u001b[0m\u001b[37m\u001b[0m \u001b[1m0s\u001b[0m 10ms/step - auc: 0.9293 - binary_accuracy: 0.8828 - loss: 0.2641 - precision: 0.8045 - recall: 0.6388 - val_auc: 0.9206 - val_binary_accuracy: 0.8744 - val_loss: 0.2863 - val_precision: 0.7756 - val_recall: 0.6419\n",
            "Epoch 40/500\n",
            "\u001b[1m34/34\u001b[0m \u001b[32m━━━━━━━━━━━━━━━━━━━━\u001b[0m\u001b[37m\u001b[0m \u001b[1m0s\u001b[0m 7ms/step - auc: 0.9313 - binary_accuracy: 0.8846 - loss: 0.2681 - precision: 0.8030 - recall: 0.6636 - val_auc: 0.9218 - val_binary_accuracy: 0.8781 - val_loss: 0.2832 - val_precision: 0.7890 - val_recall: 0.6446\n",
            "Epoch 41/500\n",
            "\u001b[1m34/34\u001b[0m \u001b[32m━━━━━━━━━━━━━━━━━━━━\u001b[0m\u001b[37m\u001b[0m \u001b[1m0s\u001b[0m 8ms/step - auc: 0.9275 - binary_accuracy: 0.8830 - loss: 0.2728 - precision: 0.7981 - recall: 0.6541 - val_auc: 0.9208 - val_binary_accuracy: 0.8707 - val_loss: 0.2837 - val_precision: 0.7695 - val_recall: 0.6286\n",
            "Epoch 42/500\n",
            "\u001b[1m34/34\u001b[0m \u001b[32m━━━━━━━━━━━━━━━━━━━━\u001b[0m\u001b[37m\u001b[0m \u001b[1m0s\u001b[0m 6ms/step - auc: 0.9290 - binary_accuracy: 0.8832 - loss: 0.2665 - precision: 0.8133 - recall: 0.6415 - val_auc: 0.9174 - val_binary_accuracy: 0.8725 - val_loss: 0.2923 - val_precision: 0.7826 - val_recall: 0.6207\n",
            "Epoch 43/500\n",
            "\u001b[1m34/34\u001b[0m \u001b[32m━━━━━━━━━━━━━━━━━━━━\u001b[0m\u001b[37m\u001b[0m \u001b[1m0s\u001b[0m 7ms/step - auc: 0.9295 - binary_accuracy: 0.8870 - loss: 0.2652 - precision: 0.8075 - recall: 0.6604 - val_auc: 0.9204 - val_binary_accuracy: 0.8713 - val_loss: 0.2857 - val_precision: 0.7618 - val_recall: 0.6446\n",
            "Epoch 44/500\n",
            "\u001b[1m34/34\u001b[0m \u001b[32m━━━━━━━━━━━━━━━━━━━━\u001b[0m\u001b[37m\u001b[0m \u001b[1m0s\u001b[0m 8ms/step - auc: 0.9375 - binary_accuracy: 0.8879 - loss: 0.2526 - precision: 0.7943 - recall: 0.6733 - val_auc: 0.9236 - val_binary_accuracy: 0.8762 - val_loss: 0.2808 - val_precision: 0.7796 - val_recall: 0.6472\n",
            "Epoch 45/500\n",
            "\u001b[1m34/34\u001b[0m \u001b[32m━━━━━━━━━━━━━━━━━━━━\u001b[0m\u001b[37m\u001b[0m \u001b[1m0s\u001b[0m 6ms/step - auc: 0.9287 - binary_accuracy: 0.8928 - loss: 0.2627 - precision: 0.8129 - recall: 0.6822 - val_auc: 0.9204 - val_binary_accuracy: 0.8775 - val_loss: 0.2864 - val_precision: 0.7921 - val_recall: 0.6366\n",
            "Epoch 46/500\n",
            "\u001b[1m34/34\u001b[0m \u001b[32m━━━━━━━━━━━━━━━━━━━━\u001b[0m\u001b[37m\u001b[0m \u001b[1m0s\u001b[0m 8ms/step - auc: 0.9257 - binary_accuracy: 0.8865 - loss: 0.2705 - precision: 0.7996 - recall: 0.6714 - val_auc: 0.9189 - val_binary_accuracy: 0.8793 - val_loss: 0.2866 - val_precision: 0.8020 - val_recall: 0.6340\n",
            "Epoch 47/500\n",
            "\u001b[1m34/34\u001b[0m \u001b[32m━━━━━━━━━━━━━━━━━━━━\u001b[0m\u001b[37m\u001b[0m \u001b[1m0s\u001b[0m 7ms/step - auc: 0.9326 - binary_accuracy: 0.8821 - loss: 0.2573 - precision: 0.7875 - recall: 0.6526 - val_auc: 0.9192 - val_binary_accuracy: 0.8744 - val_loss: 0.2878 - val_precision: 0.7848 - val_recall: 0.6286\n",
            "Epoch 48/500\n",
            "\u001b[1m34/34\u001b[0m \u001b[32m━━━━━━━━━━━━━━━━━━━━\u001b[0m\u001b[37m\u001b[0m \u001b[1m0s\u001b[0m 7ms/step - auc: 0.9442 - binary_accuracy: 0.8961 - loss: 0.2387 - precision: 0.8276 - recall: 0.6876 - val_auc: 0.9206 - val_binary_accuracy: 0.8762 - val_loss: 0.2885 - val_precision: 0.7888 - val_recall: 0.6340\n",
            "Epoch 49/500\n",
            "\u001b[1m34/34\u001b[0m \u001b[32m━━━━━━━━━━━━━━━━━━━━\u001b[0m\u001b[37m\u001b[0m \u001b[1m0s\u001b[0m 7ms/step - auc: 0.9375 - binary_accuracy: 0.8917 - loss: 0.2505 - precision: 0.8058 - recall: 0.6814 - val_auc: 0.9215 - val_binary_accuracy: 0.8781 - val_loss: 0.2868 - val_precision: 0.8007 - val_recall: 0.6286\n",
            "Epoch 50/500\n",
            "\u001b[1m34/34\u001b[0m \u001b[32m━━━━━━━━━━━━━━━━━━━━\u001b[0m\u001b[37m\u001b[0m \u001b[1m0s\u001b[0m 8ms/step - auc: 0.9395 - binary_accuracy: 0.8955 - loss: 0.2466 - precision: 0.8222 - recall: 0.6839 - val_auc: 0.9227 - val_binary_accuracy: 0.8725 - val_loss: 0.2839 - val_precision: 0.7789 - val_recall: 0.6260\n",
            "Epoch 51/500\n",
            "\u001b[1m34/34\u001b[0m \u001b[32m━━━━━━━━━━━━━━━━━━━━\u001b[0m\u001b[37m\u001b[0m \u001b[1m0s\u001b[0m 7ms/step - auc: 0.9457 - binary_accuracy: 0.9006 - loss: 0.2353 - precision: 0.8423 - recall: 0.6971 - val_auc: 0.9213 - val_binary_accuracy: 0.8756 - val_loss: 0.2874 - val_precision: 0.7843 - val_recall: 0.6366\n",
            "Epoch 52/500\n",
            "\u001b[1m34/34\u001b[0m \u001b[32m━━━━━━━━━━━━━━━━━━━━\u001b[0m\u001b[37m\u001b[0m \u001b[1m0s\u001b[0m 8ms/step - auc: 0.9417 - binary_accuracy: 0.8940 - loss: 0.2444 - precision: 0.8259 - recall: 0.6768 - val_auc: 0.9202 - val_binary_accuracy: 0.8793 - val_loss: 0.2860 - val_precision: 0.8147 - val_recall: 0.6180\n",
            "Epoch 53/500\n",
            "\u001b[1m34/34\u001b[0m \u001b[32m━━━━━━━━━━━━━━━━━━━━\u001b[0m\u001b[37m\u001b[0m \u001b[1m0s\u001b[0m 7ms/step - auc: 0.9400 - binary_accuracy: 0.8851 - loss: 0.2498 - precision: 0.8059 - recall: 0.6695 - val_auc: 0.9212 - val_binary_accuracy: 0.8805 - val_loss: 0.2861 - val_precision: 0.8160 - val_recall: 0.6233\n",
            "Epoch 54/500\n",
            "\u001b[1m34/34\u001b[0m \u001b[32m━━━━━━━━━━━━━━━━━━━━\u001b[0m\u001b[37m\u001b[0m \u001b[1m1s\u001b[0m 16ms/step - auc: 0.9389 - binary_accuracy: 0.8983 - loss: 0.2460 - precision: 0.8256 - recall: 0.6958 - val_auc: 0.9231 - val_binary_accuracy: 0.8768 - val_loss: 0.2833 - val_precision: 0.7914 - val_recall: 0.6340\n",
            "\u001b[1m5/5\u001b[0m \u001b[32m━━━━━━━━━━━━━━━━━━━━\u001b[0m\u001b[37m\u001b[0m \u001b[1m0s\u001b[0m 31ms/step\n",
            "Best thresholds per class: [0.20000000000000004, 0.7500000000000002, 0.1, 0.20000000000000004, 0.1, 0.1]\n",
            "F1 macro score on test: 0.3914\n",
            "\n",
            "==============================================\n",
            "Training model with lr=0.001, batch_size=64\n",
            "==============================================\n",
            "\n",
            "Epoch 1/500\n",
            "\u001b[1m17/17\u001b[0m \u001b[32m━━━━━━━━━━━━━━━━━━━━\u001b[0m\u001b[37m\u001b[0m \u001b[1m6s\u001b[0m 58ms/step - auc: 0.5405 - binary_accuracy: 0.5280 - loss: 0.9038 - precision: 0.2550 - recall: 0.5437 - val_auc: 0.5940 - val_binary_accuracy: 0.7047 - val_loss: 0.6561 - val_precision: 0.3145 - val_recall: 0.2361\n",
            "Epoch 2/500\n",
            "\u001b[1m17/17\u001b[0m \u001b[32m━━━━━━━━━━━━━━━━━━━━\u001b[0m\u001b[37m\u001b[0m \u001b[1m0s\u001b[0m 9ms/step - auc: 0.6243 - binary_accuracy: 0.5809 - loss: 0.7725 - precision: 0.2894 - recall: 0.5963 - val_auc: 0.6194 - val_binary_accuracy: 0.7396 - val_loss: 0.6256 - val_precision: 0.3588 - val_recall: 0.1618\n",
            "Epoch 3/500\n",
            "\u001b[1m17/17\u001b[0m \u001b[32m━━━━━━━━━━━━━━━━━━━━\u001b[0m\u001b[37m\u001b[0m \u001b[1m0s\u001b[0m 9ms/step - auc: 0.6847 - binary_accuracy: 0.6261 - loss: 0.6857 - precision: 0.3342 - recall: 0.6441 - val_auc: 0.6251 - val_binary_accuracy: 0.7647 - val_loss: 0.6048 - val_precision: 0.4545 - val_recall: 0.0928\n",
            "Epoch 4/500\n",
            "\u001b[1m17/17\u001b[0m \u001b[32m━━━━━━━━━━━━━━━━━━━━\u001b[0m\u001b[37m\u001b[0m \u001b[1m0s\u001b[0m 9ms/step - auc: 0.7005 - binary_accuracy: 0.6506 - loss: 0.6429 - precision: 0.3513 - recall: 0.6224 - val_auc: 0.6320 - val_binary_accuracy: 0.7647 - val_loss: 0.5886 - val_precision: 0.4286 - val_recall: 0.0557\n",
            "Epoch 5/500\n",
            "\u001b[1m17/17\u001b[0m \u001b[32m━━━━━━━━━━━━━━━━━━━━\u001b[0m\u001b[37m\u001b[0m \u001b[1m0s\u001b[0m 11ms/step - auc: 0.7187 - binary_accuracy: 0.6675 - loss: 0.6179 - precision: 0.3663 - recall: 0.6344 - val_auc: 0.6438 - val_binary_accuracy: 0.7702 - val_loss: 0.5740 - val_precision: 0.5312 - val_recall: 0.0451\n",
            "Epoch 6/500\n",
            "\u001b[1m17/17\u001b[0m \u001b[32m━━━━━━━━━━━━━━━━━━━━\u001b[0m\u001b[37m\u001b[0m \u001b[1m0s\u001b[0m 9ms/step - auc: 0.7515 - binary_accuracy: 0.7020 - loss: 0.5739 - precision: 0.4093 - recall: 0.6445 - val_auc: 0.6464 - val_binary_accuracy: 0.7708 - val_loss: 0.5606 - val_precision: 0.5652 - val_recall: 0.0345\n",
            "Epoch 7/500\n",
            "\u001b[1m17/17\u001b[0m \u001b[32m━━━━━━━━━━━━━━━━━━━━\u001b[0m\u001b[37m\u001b[0m \u001b[1m0s\u001b[0m 13ms/step - auc: 0.7476 - binary_accuracy: 0.7064 - loss: 0.5618 - precision: 0.4076 - recall: 0.6268 - val_auc: 0.6447 - val_binary_accuracy: 0.7684 - val_loss: 0.5487 - val_precision: 0.4737 - val_recall: 0.0239\n",
            "Epoch 8/500\n",
            "\u001b[1m17/17\u001b[0m \u001b[32m━━━━━━━━━━━━━━━━━━━━\u001b[0m\u001b[37m\u001b[0m \u001b[1m0s\u001b[0m 10ms/step - auc: 0.7758 - binary_accuracy: 0.7353 - loss: 0.5255 - precision: 0.4405 - recall: 0.6176 - val_auc: 0.6469 - val_binary_accuracy: 0.7696 - val_loss: 0.5372 - val_precision: 0.5455 - val_recall: 0.0159\n",
            "Epoch 9/500\n",
            "\u001b[1m17/17\u001b[0m \u001b[32m━━━━━━━━━━━━━━━━━━━━\u001b[0m\u001b[37m\u001b[0m \u001b[1m0s\u001b[0m 9ms/step - auc: 0.7883 - binary_accuracy: 0.7582 - loss: 0.5026 - precision: 0.4861 - recall: 0.6264 - val_auc: 0.6564 - val_binary_accuracy: 0.7714 - val_loss: 0.5264 - val_precision: 0.8333 - val_recall: 0.0133\n",
            "Epoch 10/500\n",
            "\u001b[1m17/17\u001b[0m \u001b[32m━━━━━━━━━━━━━━━━━━━━\u001b[0m\u001b[37m\u001b[0m \u001b[1m0s\u001b[0m 10ms/step - auc: 0.7972 - binary_accuracy: 0.7664 - loss: 0.4782 - precision: 0.4916 - recall: 0.5828 - val_auc: 0.6638 - val_binary_accuracy: 0.7708 - val_loss: 0.5171 - val_precision: 0.8000 - val_recall: 0.0106\n",
            "\u001b[1m5/5\u001b[0m \u001b[32m━━━━━━━━━━━━━━━━━━━━\u001b[0m\u001b[37m\u001b[0m \u001b[1m0s\u001b[0m 31ms/step\n",
            "Best thresholds per class: [0.5000000000000001, 0.1, 0.1, 0.45000000000000007, 0.1, 0.45000000000000007]\n",
            "F1 macro score on test: 0.3836\n",
            "\n",
            "==============================================\n",
            "Training model with lr=0.0005, batch_size=32\n",
            "==============================================\n",
            "\n",
            "Epoch 1/500\n",
            "\u001b[1m34/34\u001b[0m \u001b[32m━━━━━━━━━━━━━━━━━━━━\u001b[0m\u001b[37m\u001b[0m \u001b[1m6s\u001b[0m 26ms/step - auc: 0.5450 - binary_accuracy: 0.5313 - loss: 0.8793 - precision: 0.2569 - recall: 0.5613 - val_auc: 0.5570 - val_binary_accuracy: 0.6060 - val_loss: 0.6702 - val_precision: 0.2691 - val_recall: 0.4111\n",
            "Epoch 2/500\n",
            "\u001b[1m34/34\u001b[0m \u001b[32m━━━━━━━━━━━━━━━━━━━━\u001b[0m\u001b[37m\u001b[0m \u001b[1m0s\u001b[0m 8ms/step - auc: 0.6087 - binary_accuracy: 0.5635 - loss: 0.7795 - precision: 0.2729 - recall: 0.5767 - val_auc: 0.5626 - val_binary_accuracy: 0.5662 - val_loss: 0.6720 - val_precision: 0.2598 - val_recall: 0.4748\n",
            "Epoch 3/500\n",
            "\u001b[1m34/34\u001b[0m \u001b[32m━━━━━━━━━━━━━━━━━━━━\u001b[0m\u001b[37m\u001b[0m \u001b[1m0s\u001b[0m 7ms/step - auc: 0.6278 - binary_accuracy: 0.5961 - loss: 0.7421 - precision: 0.3002 - recall: 0.5958 - val_auc: 0.5768 - val_binary_accuracy: 0.5790 - val_loss: 0.6682 - val_precision: 0.2666 - val_recall: 0.4695\n",
            "Epoch 4/500\n",
            "\u001b[1m34/34\u001b[0m \u001b[32m━━━━━━━━━━━━━━━━━━━━\u001b[0m\u001b[37m\u001b[0m \u001b[1m0s\u001b[0m 10ms/step - auc: 0.6640 - binary_accuracy: 0.6202 - loss: 0.6896 - precision: 0.3244 - recall: 0.6145 - val_auc: 0.5919 - val_binary_accuracy: 0.5980 - val_loss: 0.6594 - val_precision: 0.2817 - val_recall: 0.4775\n",
            "Epoch 5/500\n",
            "\u001b[1m34/34\u001b[0m \u001b[32m━━━━━━━━━━━━━━━━━━━━\u001b[0m\u001b[37m\u001b[0m \u001b[1m0s\u001b[0m 8ms/step - auc: 0.6832 - binary_accuracy: 0.6371 - loss: 0.6615 - precision: 0.3428 - recall: 0.6150 - val_auc: 0.6080 - val_binary_accuracy: 0.6091 - val_loss: 0.6458 - val_precision: 0.2905 - val_recall: 0.4801\n",
            "Epoch 6/500\n",
            "\u001b[1m34/34\u001b[0m \u001b[32m━━━━━━━━━━━━━━━━━━━━\u001b[0m\u001b[37m\u001b[0m \u001b[1m0s\u001b[0m 7ms/step - auc: 0.6875 - binary_accuracy: 0.6519 - loss: 0.6403 - precision: 0.3533 - recall: 0.6157 - val_auc: 0.6265 - val_binary_accuracy: 0.6477 - val_loss: 0.6240 - val_precision: 0.3251 - val_recall: 0.4881\n",
            "Epoch 7/500\n",
            "\u001b[1m34/34\u001b[0m \u001b[32m━━━━━━━━━━━━━━━━━━━━\u001b[0m\u001b[37m\u001b[0m \u001b[1m0s\u001b[0m 9ms/step - auc: 0.7052 - binary_accuracy: 0.6654 - loss: 0.6105 - precision: 0.3586 - recall: 0.5978 - val_auc: 0.6499 - val_binary_accuracy: 0.6703 - val_loss: 0.6029 - val_precision: 0.3412 - val_recall: 0.4589\n",
            "Epoch 8/500\n",
            "\u001b[1m34/34\u001b[0m \u001b[32m━━━━━━━━━━━━━━━━━━━━\u001b[0m\u001b[37m\u001b[0m \u001b[1m0s\u001b[0m 7ms/step - auc: 0.7134 - binary_accuracy: 0.6950 - loss: 0.5801 - precision: 0.3866 - recall: 0.5874 - val_auc: 0.6790 - val_binary_accuracy: 0.7065 - val_loss: 0.5775 - val_precision: 0.3774 - val_recall: 0.4164\n",
            "Epoch 9/500\n",
            "\u001b[1m34/34\u001b[0m \u001b[32m━━━━━━━━━━━━━━━━━━━━\u001b[0m\u001b[37m\u001b[0m \u001b[1m0s\u001b[0m 7ms/step - auc: 0.7390 - binary_accuracy: 0.7077 - loss: 0.5570 - precision: 0.4017 - recall: 0.5877 - val_auc: 0.7121 - val_binary_accuracy: 0.7494 - val_loss: 0.5538 - val_precision: 0.4540 - val_recall: 0.4191\n",
            "Epoch 10/500\n",
            "\u001b[1m34/34\u001b[0m \u001b[32m━━━━━━━━━━━━━━━━━━━━\u001b[0m\u001b[37m\u001b[0m \u001b[1m1s\u001b[0m 18ms/step - auc: 0.7388 - binary_accuracy: 0.7235 - loss: 0.5396 - precision: 0.4210 - recall: 0.5574 - val_auc: 0.7366 - val_binary_accuracy: 0.7794 - val_loss: 0.5319 - val_precision: 0.5290 - val_recall: 0.4111\n",
            "\u001b[1m5/5\u001b[0m \u001b[32m━━━━━━━━━━━━━━━━━━━━\u001b[0m\u001b[37m\u001b[0m \u001b[1m0s\u001b[0m 46ms/step\n",
            "Best thresholds per class: [0.5500000000000002, 0.45000000000000007, 0.1, 0.40000000000000013, 0.5000000000000001, 0.1]\n",
            "F1 macro score on test: 0.4049\n",
            "\n",
            "==============================================\n",
            "Training model with lr=0.0005, batch_size=64\n",
            "==============================================\n",
            "\n",
            "Epoch 1/500\n",
            "\u001b[1m17/17\u001b[0m \u001b[32m━━━━━━━━━━━━━━━━━━━━\u001b[0m\u001b[37m\u001b[0m \u001b[1m6s\u001b[0m 64ms/step - auc: 0.5085 - binary_accuracy: 0.5070 - loss: 0.9290 - precision: 0.2306 - recall: 0.5041 - val_auc: 0.5507 - val_binary_accuracy: 0.6440 - val_loss: 0.6705 - val_precision: 0.2753 - val_recall: 0.3316\n",
            "Epoch 2/500\n",
            "\u001b[1m17/17\u001b[0m \u001b[32m━━━━━━━━━━━━━━━━━━━━\u001b[0m\u001b[37m\u001b[0m \u001b[1m0s\u001b[0m 15ms/step - auc: 0.5557 - binary_accuracy: 0.5330 - loss: 0.8450 - precision: 0.2486 - recall: 0.5212 - val_auc: 0.5722 - val_binary_accuracy: 0.7298 - val_loss: 0.6471 - val_precision: 0.3491 - val_recall: 0.1963\n",
            "Epoch 3/500\n",
            "\u001b[1m17/17\u001b[0m \u001b[32m━━━━━━━━━━━━━━━━━━━━\u001b[0m\u001b[37m\u001b[0m \u001b[1m0s\u001b[0m 12ms/step - auc: 0.6048 - binary_accuracy: 0.5695 - loss: 0.7788 - precision: 0.2772 - recall: 0.5715 - val_auc: 0.5795 - val_binary_accuracy: 0.7488 - val_loss: 0.6314 - val_precision: 0.4046 - val_recall: 0.1857\n",
            "Epoch 4/500\n",
            "\u001b[1m17/17\u001b[0m \u001b[32m━━━━━━━━━━━━━━━━━━━━\u001b[0m\u001b[37m\u001b[0m \u001b[1m0s\u001b[0m 9ms/step - auc: 0.6376 - binary_accuracy: 0.5908 - loss: 0.7370 - precision: 0.2968 - recall: 0.5890 - val_auc: 0.5839 - val_binary_accuracy: 0.7537 - val_loss: 0.6184 - val_precision: 0.4126 - val_recall: 0.1565\n",
            "Epoch 5/500\n",
            "\u001b[1m17/17\u001b[0m \u001b[32m━━━━━━━━━━━━━━━━━━━━\u001b[0m\u001b[37m\u001b[0m \u001b[1m0s\u001b[0m 10ms/step - auc: 0.6613 - binary_accuracy: 0.6053 - loss: 0.7118 - precision: 0.3198 - recall: 0.6382 - val_auc: 0.5945 - val_binary_accuracy: 0.7684 - val_loss: 0.6067 - val_precision: 0.4955 - val_recall: 0.1459\n",
            "Epoch 6/500\n",
            "\u001b[1m17/17\u001b[0m \u001b[32m━━━━━━━━━━━━━━━━━━━━\u001b[0m\u001b[37m\u001b[0m \u001b[1m0s\u001b[0m 12ms/step - auc: 0.6980 - binary_accuracy: 0.6405 - loss: 0.6604 - precision: 0.3446 - recall: 0.6377 - val_auc: 0.6058 - val_binary_accuracy: 0.7776 - val_loss: 0.5985 - val_precision: 0.5673 - val_recall: 0.1565\n",
            "Epoch 7/500\n",
            "\u001b[1m17/17\u001b[0m \u001b[32m━━━━━━━━━━━━━━━━━━━━\u001b[0m\u001b[37m\u001b[0m \u001b[1m0s\u001b[0m 20ms/step - auc: 0.6896 - binary_accuracy: 0.6386 - loss: 0.6586 - precision: 0.3385 - recall: 0.6154 - val_auc: 0.6198 - val_binary_accuracy: 0.7800 - val_loss: 0.5908 - val_precision: 0.5957 - val_recall: 0.1485\n",
            "Epoch 8/500\n",
            "\u001b[1m17/17\u001b[0m \u001b[32m━━━━━━━━━━━━━━━━━━━━\u001b[0m\u001b[37m\u001b[0m \u001b[1m0s\u001b[0m 24ms/step - auc: 0.6926 - binary_accuracy: 0.6448 - loss: 0.6516 - precision: 0.3486 - recall: 0.6264 - val_auc: 0.6384 - val_binary_accuracy: 0.7825 - val_loss: 0.5833 - val_precision: 0.6146 - val_recall: 0.1565\n",
            "Epoch 9/500\n",
            "\u001b[1m17/17\u001b[0m \u001b[32m━━━━━━━━━━━━━━━━━━━━\u001b[0m\u001b[37m\u001b[0m \u001b[1m0s\u001b[0m 14ms/step - auc: 0.7225 - binary_accuracy: 0.6604 - loss: 0.6165 - precision: 0.3624 - recall: 0.6457 - val_auc: 0.6527 - val_binary_accuracy: 0.7812 - val_loss: 0.5769 - val_precision: 0.6042 - val_recall: 0.1538\n",
            "Epoch 10/500\n",
            "\u001b[1m17/17\u001b[0m \u001b[32m━━━━━━━━━━━━━━━━━━━━\u001b[0m\u001b[37m\u001b[0m \u001b[1m0s\u001b[0m 12ms/step - auc: 0.7357 - binary_accuracy: 0.6807 - loss: 0.5991 - precision: 0.3829 - recall: 0.6531 - val_auc: 0.6633 - val_binary_accuracy: 0.7819 - val_loss: 0.5695 - val_precision: 0.6180 - val_recall: 0.1459\n",
            "\u001b[1m5/5\u001b[0m \u001b[32m━━━━━━━━━━━━━━━━━━━━\u001b[0m\u001b[37m\u001b[0m \u001b[1m0s\u001b[0m 37ms/step\n",
            "Best thresholds per class: [0.1, 0.45000000000000007, 0.1, 0.45000000000000007, 0.5000000000000001, 0.45000000000000007]\n",
            "F1 macro score on test: 0.3508\n"
          ]
        }
      ],
      "source": [
        "# Callbacks\n",
        "early_stop = EarlyStopping(monitor='val_loss', patience=10, restore_best_weights=True)\n",
        "reduce_lr = ReduceLROnPlateau(monitor='val_loss', factor=0.5, patience=5, min_lr=1e-6)\n",
        "\n",
        "# Manual hyperparameter tuning\n",
        "best_f1 = 0\n",
        "best_params = {}\n",
        "\n",
        "for lr in [0.001, 0.0005]:\n",
        "    for batch_size in [32, 64]:\n",
        "        print(f\"\\n==============================================\")\n",
        "        print(f\"Training model with lr={lr}, batch_size={batch_size}\")\n",
        "        print(f\"==============================================\\n\")\n",
        "        \n",
        "        model = build_model(input_dim, output_dim, lr=lr, dropout_rate=0.3)\n",
        "        history = model.fit(\n",
        "            X_final, y_final,\n",
        "            epochs=500,\n",
        "            batch_size=batch_size,\n",
        "            validation_split=0.2,\n",
        "            callbacks=[early_stop],\n",
        "            verbose=1\n",
        "        )\n",
        "\n",
        "        # Evaluasi di test set\n",
        "        y_pred_probs = model.predict(X_test)\n",
        "\n",
        "        # Cari threshold terbaik per class\n",
        "        thresholds = np.arange(0.1, 0.9, 0.05)\n",
        "        best_thresholds = []\n",
        "        for i in range(output_dim):\n",
        "            f1_scores = []\n",
        "            for t in thresholds:\n",
        "                preds = (y_pred_probs[:, i] > t).astype(int)\n",
        "                f1 = f1_score(y_test[:, i], preds)\n",
        "                f1_scores.append(f1)\n",
        "            best_t = thresholds[np.argmax(f1_scores)]\n",
        "            best_thresholds.append(best_t)\n",
        "\n",
        "        print(\"Best thresholds per class:\", best_thresholds)\n",
        "\n",
        "        y_pred = np.zeros_like(y_pred_probs, dtype=int)\n",
        "        for i in range(output_dim):\n",
        "            y_pred[:, i] = (y_pred_probs[:, i] > best_thresholds[i]).astype(int)\n",
        "\n",
        "        f1_macro = f1_score(y_test, y_pred, average='macro')\n",
        "        print(f\"F1 macro score on test: {f1_macro:.4f}\")\n",
        "\n",
        "        if f1_macro > best_f1:\n",
        "            best_f1 = f1_macro\n",
        "            best_params = {'lr': lr, 'batch_size': batch_size, 'thresholds': best_thresholds}\n",
        "            best_model = model\n",
        "            best_y_pred = y_pred"
      ]
    },
    {
      "cell_type": "code",
      "execution_count": 297,
      "metadata": {},
      "outputs": [
        {
          "name": "stdout",
          "output_type": "stream",
          "text": [
            "\n",
            "=== ✅ Best Hyperparameters ===\n",
            "{'lr': 0.0005, 'batch_size': 32, 'thresholds': [0.5500000000000002, 0.45000000000000007, 0.1, 0.40000000000000013, 0.5000000000000001, 0.1]}\n",
            "Best F1 macro score: 0.4049\n"
          ]
        }
      ],
      "source": [
        "print(\"\\n=== ✅ Best Hyperparameters ===\")\n",
        "print(best_params)\n",
        "print(f\"Best F1 macro score: {best_f1:.4f}\")"
      ]
    },
    {
      "cell_type": "markdown",
      "metadata": {},
      "source": [
        "## Evaluation"
      ]
    },
    {
      "cell_type": "code",
      "execution_count": 298,
      "metadata": {},
      "outputs": [
        {
          "name": "stdout",
          "output_type": "stream",
          "text": [
            "\n",
            "🔍 Evaluating final model on test set...\n",
            "\u001b[1m5/5\u001b[0m \u001b[32m━━━━━━━━━━━━━━━━━━━━\u001b[0m\u001b[37m\u001b[0m \u001b[1m0s\u001b[0m 2ms/step \n",
            "\n",
            "📊 Final classification report:\n",
            "              precision    recall  f1-score   support\n",
            "\n",
            "           0       0.56      0.33      0.42        15\n",
            "           1       0.16      0.54      0.24        13\n",
            "           2       0.48      1.00      0.65        64\n",
            "           3       0.21      0.91      0.34        23\n",
            "           4       0.12      0.57      0.20        14\n",
            "           5       0.41      1.00      0.58        54\n",
            "\n",
            "   micro avg       0.33      0.87      0.48       183\n",
            "   macro avg       0.32      0.73      0.40       183\n",
            "weighted avg       0.38      0.87      0.51       183\n",
            " samples avg       0.33      0.87      0.47       183\n",
            "\n"
          ]
        }
      ],
      "source": [
        "# Evaluasi final model di test set\n",
        "print(\"\\n🔍 Evaluating final model on test set...\")\n",
        "\n",
        "final_probs = best_model.predict(X_test)\n",
        "final_pred = np.zeros_like(final_probs, dtype=int)\n",
        "for i in range(output_dim):\n",
        "    final_pred[:, i] = (final_probs[:, i] > best_params['thresholds'][i]).astype(int)\n",
        "\n",
        "print(\"\\n📊 Final classification report:\")\n",
        "print(classification_report(y_test, final_pred, zero_division=0))"
      ]
    },
    {
      "cell_type": "code",
      "execution_count": 299,
      "metadata": {},
      "outputs": [
        {
          "name": "stdout",
          "output_type": "stream",
          "text": [
            "\n",
            "📈 Final Metrics:\n",
            "🎯 Accuracy Score (subset accuracy): 0.015037593984962405\n",
            "🤝 F1 Score (macro): 0.4049324286564557\n",
            "🤝 F1 Score (micro): 0.47604790419161674\n",
            "🤝 F1 Score (weighted): 0.5075239668958839\n",
            "⚖️ Hamming Loss: 0.43859649122807015\n",
            "📏 Jaccard Score (samples): 0.32944862155388466\n"
          ]
        }
      ],
      "source": [
        "# Print final metrics\n",
        "print(\"\\n📈 Final Metrics:\")\n",
        "print(\"🎯 Accuracy Score (subset accuracy):\", accuracy_score(y_test, best_y_pred))\n",
        "print(\"🤝 F1 Score (macro):\", f1_score(y_test, best_y_pred, average='macro'))\n",
        "print(\"🤝 F1 Score (micro):\", f1_score(y_test, best_y_pred, average='micro'))\n",
        "print(\"🤝 F1 Score (weighted):\", f1_score(y_test, best_y_pred, average='weighted'))\n",
        "print(\"⚖️ Hamming Loss:\", hamming_loss(y_test, best_y_pred))\n",
        "print(\"📏 Jaccard Score (samples):\", jaccard_score(y_test, best_y_pred, average='samples'))"
      ]
    },
    {
      "cell_type": "code",
      "execution_count": 291,
      "metadata": {},
      "outputs": [
        {
          "data": {
            "image/png": "[encoded data removed]",
            "text/plain": [
              "<Figure size 1200x500 with 2 Axes>"
            ]
          },
          "metadata": {},
          "output_type": "display_data"
        }
      ],
      "source": [
        "# Plot training history\n",
        "def plot_training_history(history):\n",
        "    plt.figure(figsize=(12, 5))\n",
        "\n",
        "    # Loss\n",
        "    plt.subplot(1, 2, 1)\n",
        "    plt.plot(history.history['loss'], label='Train Loss')\n",
        "    plt.plot(history.history['val_loss'], label='Val Loss')\n",
        "    plt.title('Loss')\n",
        "    plt.xlabel('Epochs')\n",
        "    plt.ylabel('Loss')\n",
        "    plt.legend()\n",
        "\n",
        "    # Accuracy\n",
        "    plt.subplot(1, 2, 2)\n",
        "    plt.plot(history.history['binary_accuracy'], label='Train Accuracy')\n",
        "    plt.plot(history.history['val_binary_accuracy'], label='Val Accuracy')\n",
        "    plt.title('Binary Accuracy')\n",
        "    plt.xlabel('Epochs')\n",
        "    plt.ylabel('Accuracy')\n",
        "    plt.legend()\n",
        "\n",
        "    plt.tight_layout()\n",
        "    plt.show()\n",
        "\n",
        "plot_training_history(history)"
      ]
    },
    {
      "cell_type": "markdown",
      "metadata": {
        "id": "MKNvxlIz2qED"
      },
      "source": [
        "## Save Model"
      ]
    },
    {
      "cell_type": "code",
      "execution_count": 216,
      "metadata": {
        "id": "rpNYUmDZqB3_"
      },
      "outputs": [],
      "source": [
        "# Simpan model TensorFlow ke folder models\n",
        "model.save('../src/models/ingredients_category_classification_model.keras')\n",
        "\n",
        "# Simpan MultiLabelBinarizer pakai pickle\n",
        "with open('../src/models/ingredients_category_mlb.pkl', 'wb') as f:\n",
        "    pickle.dump(mlb_ingredients_category, f)"
      ]
    },
    {
      "cell_type": "markdown",
      "metadata": {
        "id": "FN6dMgV3oHJp"
      },
      "source": [
        "## Inference Model"
      ]
    },
    {
      "cell_type": "code",
      "execution_count": 232,
      "metadata": {
        "id": "O-FiIhIl5C8e"
      },
      "outputs": [],
      "source": [
        "# --- LOAD MODEL DAN ENCODER ---\n",
        "model = load_model(\"../src/models/ingredients_category_classification_model.keras\",\n",
        "                   custom_objects={'weighted_binary_crossentropy': weighted_binary_crossentropy})  \n",
        "with open(\"../src/models/ingredients_category_mlb.pkl\", \"rb\") as f:\n",
        "    mlb = pickle.load(f)\n",
        "\n",
        "# --- HELPER UNTUK NORMALISASI INPUT ---\n",
        "def clean_input(lst):\n",
        "    if isinstance(lst, str):\n",
        "        lst = [lst]\n",
        "    seen = set()\n",
        "    result = []\n",
        "    for item in lst:\n",
        "        item_norm = re.sub(r\"[\\\\[\\\\]\\'\\\"]\", \"\", item.lower().strip())\n",
        "        if item_norm and item_norm not in seen:\n",
        "            seen.add(item_norm)\n",
        "            result.append(item_norm)\n",
        "    return result\n",
        "\n",
        "# --- FUNGSI UNTUK INFERENCE ---\n",
        "def predict_ingredient_categories(skin_type, skin_concern, skin_goal, ingredients, threshold=0.3):\n",
        "    # Normalisasi input\n",
        "    skin_type = clean_input(skin_type)\n",
        "    skin_concern = clean_input(skin_concern)\n",
        "    skin_goal = clean_input(skin_goal)\n",
        "    ingredients = clean_input(ingredients)\n",
        "\n",
        "    # Buat vector multi-hot per fitur\n",
        "    vec_skin_type = np.array([1 if c in skin_type else 0 for c in mlb_skin_type.classes_])\n",
        "    vec_skin_concern = np.array([1 if c in skin_concern else 0 for c in mlb_skin_concern.classes_])\n",
        "    vec_skin_goal = np.array([1 if c in skin_goal else 0 for c in mlb_skin_goal.classes_])\n",
        "    vec_ingredients = np.array([1 if c in ingredients else 0 for c in mlb_ingredients.classes_])\n",
        "\n",
        "    # Gabungkan semua fitur jadi input vector sepanjang 60\n",
        "    input_vector = np.concatenate([vec_skin_type, vec_skin_concern, vec_skin_goal, vec_ingredients]).reshape(1, -1).astype(np.float32)\n",
        "\n",
        "    # Prediksi\n",
        "    probs = model.predict(input_vector)[0]\n",
        "\n",
        "    # Ambil label kategori bahan aktif dengan probabilitas >= threshold\n",
        "    predicted_labels = [label for label, prob in zip(mlb_ingredients_category.classes_, probs) if prob >= threshold]\n",
        "\n",
        "    return predicted_labels"
      ]
    },
    {
      "cell_type": "code",
      "execution_count": 234,
      "metadata": {
        "colab": {
          "base_uri": "https://localhost:8080/"
        },
        "id": "zZn3mDVuoNRg",
        "outputId": "a0296c90-36e3-4036-def6-e08c38c22d81"
      },
      "outputs": [
        {
          "name": "stdout",
          "output_type": "stream",
          "text": [
            "\u001b[1m1/1\u001b[0m \u001b[32m━━━━━━━━━━━━━━━━━━━━\u001b[0m\u001b[37m\u001b[0m \u001b[1m0s\u001b[0m 329ms/step\n",
            "Rekomendasi ingredients: ['acne', 'anti_aging', 'brightening', 'calming', 'exfoliant', 'hydrating']\n"
          ]
        }
      ],
      "source": [
        "result = predict_ingredient_categories(\n",
        "    skin_type=['dry'],\n",
        "    skin_concern=['acne'],\n",
        "    skin_goal=['hydration'],\n",
        "    ingredients=['salicylic acid', 'hyaluronic acid']\n",
        ")\n",
        "\n",
        "print(\"Rekomendasi ingredients:\", result)"
      ]
    }
  ],
  "metadata": {
    "colab": {
      "provenance": [],
      "toc_visible": true
    },
    "kernelspec": {
      "display_name": "3.11.4",
      "language": "python",
      "name": "python3"
    },
    "language_info": {
      "codemirror_mode": {
        "name": "ipython",
        "version": 3
      },
      "file_extension": ".py",
      "mimetype": "text/x-python",
      "name": "python",
      "nbconvert_exporter": "python",
      "pygments_lexer": "ipython3",
      "version": "3.11.4"
    }
  },
  "nbformat": 4,
  "nbformat_minor": 0
}
