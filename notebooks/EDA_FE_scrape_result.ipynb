{
  "cells": [
    {
      "cell_type": "code",
      "execution_count": 1,
      "id": "fd6bdbe4",
      "metadata": {
        "id": "fd6bdbe4"
      },
      "outputs": [],
      "source": [
        "# Import necessary libraries\n",
        "import os\n",
        "import numpy as np\n",
        "import pandas as pd\n",
        "import seaborn as sns\n",
        "import matplotlib.pyplot as plt"
      ]
    },
    {
      "cell_type": "code",
      "execution_count": 2,
      "id": "125c29cb",
      "metadata": {
        "id": "125c29cb"
      },
      "outputs": [],
      "source": [
        "# Load the dataset\n",
        "products_list = pd.read_csv('../data/products_list.csv')\n",
        "products_details = pd.read_csv('../data/products_detail.csv')\n",
        "reviews = pd.read_csv('../data/reviews.csv')"
      ]
    },
    {
      "cell_type": "markdown",
      "id": "97bfc22d",
      "metadata": {
        "id": "97bfc22d"
      },
      "source": [
        "## Products List"
      ]
    },
    {
      "cell_type": "code",
      "execution_count": 3,
      "id": "b04df04f",
      "metadata": {
        "colab": {
          "base_uri": "https://localhost:8080/",
          "height": 452
        },
        "id": "b04df04f",
        "outputId": "9baec339-faa9-4ee1-8fbc-b0d847b35327"
      },
      "outputs": [
        {
          "data": {
            "application/vnd.microsoft.datawrangler.viewer.v0+json": {
              "columns": [
                {
                  "name": "index",
                  "rawType": "int64",
                  "type": "integer"
                },
                {
                  "name": "name",
                  "rawType": "object",
                  "type": "string"
                },
                {
                  "name": "brand",
                  "rawType": "object",
                  "type": "string"
                },
                {
                  "name": "image",
                  "rawType": "object",
                  "type": "string"
                },
                {
                  "name": "url",
                  "rawType": "object",
                  "type": "string"
                },
                {
                  "name": "rating",
                  "rawType": "float64",
                  "type": "float"
                },
                {
                  "name": "total_reviews",
                  "rawType": "int64",
                  "type": "integer"
                },
                {
                  "name": "category",
                  "rawType": "object",
                  "type": "string"
                }
              ],
              "ref": "7b767e95-3ef9-4b1b-8d93-4d8514fa3b46",
              "rows": [
                [
                  "0",
                  "Gokujyun Ultimate Moisturizing Lotion",
                  "Hada Labo",
                  "https://image.femaledaily.com/dyn/210/images/prod-pics/product_1646882806_bd885c87_e_800x800.png",
                  "https://reviews.femaledaily.com/products/cleanser/toner/hada-labo/gokujyun-ultimate-moisturizing-lotion-2",
                  "4.4",
                  "5928",
                  "Cleanser / Toner"
                ],
                [
                  "1",
                  "AHA BHA PHA 30 Days Miracle Toner",
                  "Some by Mi",
                  "https://image.femaledaily.com/dyn/210/images/prod-pics/product_1549596498_Some_By_Mi_800x800.png",
                  "https://reviews.femaledaily.com/products/cleanser/toner/some-by-mi/30-days-miracle-toner",
                  "3.6",
                  "5139",
                  "Cleanser / Toner"
                ],
                [
                  "2",
                  "Air Mawar",
                  "Viva Cosmetics",
                  "https://image.femaledaily.com/dyn/210/images/prod-pics/product_1630998319_307543_1_800x800.jpg",
                  "https://reviews.femaledaily.com/products/cleanser/toner/viva-cosmetics/air-mawar",
                  "4.1",
                  "5116",
                  "Cleanser / Toner"
                ],
                [
                  "3",
                  "AHA/BHA Clarifying Treatment Toner",
                  "Cosrx",
                  "https://image.femaledaily.com/dyn/210/images/prod-pics/product_1545204089_Cosrx_AHA__800x800.jpg",
                  "https://reviews.femaledaily.com/products/cleanser/toner/cosrx/aha-bha-clarifying-treatment-toner",
                  "4.0",
                  "4503",
                  "Cleanser / Toner"
                ],
                [
                  "4",
                  "Miraculous Refining Toner",
                  "AVOSKIN",
                  "https://image.femaledaily.com/dyn/210/images/prod-pics/product_1679552716_PDP_TEMPLA_800x800.jpg",
                  "https://reviews.femaledaily.com/products/cleanser/toner/avoskin/avoskin-miraculous-refining-toner-1",
                  "4.5",
                  "4298",
                  "Cleanser / Toner"
                ]
              ],
              "shape": {
                "columns": 7,
                "rows": 5
              }
            },
            "text/html": [
              "<div>\n",
              "<style scoped>\n",
              "    .dataframe tbody tr th:only-of-type {\n",
              "        vertical-align: middle;\n",
              "    }\n",
              "\n",
              "    .dataframe tbody tr th {\n",
              "        vertical-align: top;\n",
              "    }\n",
              "\n",
              "    .dataframe thead th {\n",
              "        text-align: right;\n",
              "    }\n",
              "</style>\n",
              "<table border=\"1\" class=\"dataframe\">\n",
              "  <thead>\n",
              "    <tr style=\"text-align: right;\">\n",
              "      <th></th>\n",
              "      <th>name</th>\n",
              "      <th>brand</th>\n",
              "      <th>image</th>\n",
              "      <th>url</th>\n",
              "      <th>rating</th>\n",
              "      <th>total_reviews</th>\n",
              "      <th>category</th>\n",
              "    </tr>\n",
              "  </thead>\n",
              "  <tbody>\n",
              "    <tr>\n",
              "      <th>0</th>\n",
              "      <td>Gokujyun Ultimate Moisturizing Lotion</td>\n",
              "      <td>Hada Labo</td>\n",
              "      <td>https://image.femaledaily.com/dyn/210/images/p...</td>\n",
              "      <td>https://reviews.femaledaily.com/products/clean...</td>\n",
              "      <td>4.4</td>\n",
              "      <td>5928</td>\n",
              "      <td>Cleanser / Toner</td>\n",
              "    </tr>\n",
              "    <tr>\n",
              "      <th>1</th>\n",
              "      <td>AHA BHA PHA 30 Days Miracle Toner</td>\n",
              "      <td>Some by Mi</td>\n",
              "      <td>https://image.femaledaily.com/dyn/210/images/p...</td>\n",
              "      <td>https://reviews.femaledaily.com/products/clean...</td>\n",
              "      <td>3.6</td>\n",
              "      <td>5139</td>\n",
              "      <td>Cleanser / Toner</td>\n",
              "    </tr>\n",
              "    <tr>\n",
              "      <th>2</th>\n",
              "      <td>Air Mawar</td>\n",
              "      <td>Viva Cosmetics</td>\n",
              "      <td>https://image.femaledaily.com/dyn/210/images/p...</td>\n",
              "      <td>https://reviews.femaledaily.com/products/clean...</td>\n",
              "      <td>4.1</td>\n",
              "      <td>5116</td>\n",
              "      <td>Cleanser / Toner</td>\n",
              "    </tr>\n",
              "    <tr>\n",
              "      <th>3</th>\n",
              "      <td>AHA/BHA Clarifying Treatment Toner</td>\n",
              "      <td>Cosrx</td>\n",
              "      <td>https://image.femaledaily.com/dyn/210/images/p...</td>\n",
              "      <td>https://reviews.femaledaily.com/products/clean...</td>\n",
              "      <td>4.0</td>\n",
              "      <td>4503</td>\n",
              "      <td>Cleanser / Toner</td>\n",
              "    </tr>\n",
              "    <tr>\n",
              "      <th>4</th>\n",
              "      <td>Miraculous Refining Toner</td>\n",
              "      <td>AVOSKIN</td>\n",
              "      <td>https://image.femaledaily.com/dyn/210/images/p...</td>\n",
              "      <td>https://reviews.femaledaily.com/products/clean...</td>\n",
              "      <td>4.5</td>\n",
              "      <td>4298</td>\n",
              "      <td>Cleanser / Toner</td>\n",
              "    </tr>\n",
              "  </tbody>\n",
              "</table>\n",
              "</div>"
            ],
            "text/plain": [
              "                                    name           brand  \\\n",
              "0  Gokujyun Ultimate Moisturizing Lotion       Hada Labo   \n",
              "1      AHA BHA PHA 30 Days Miracle Toner      Some by Mi   \n",
              "2                              Air Mawar  Viva Cosmetics   \n",
              "3     AHA/BHA Clarifying Treatment Toner           Cosrx   \n",
              "4              Miraculous Refining Toner         AVOSKIN   \n",
              "\n",
              "                                               image  \\\n",
              "0  https://image.femaledaily.com/dyn/210/images/p...   \n",
              "1  https://image.femaledaily.com/dyn/210/images/p...   \n",
              "2  https://image.femaledaily.com/dyn/210/images/p...   \n",
              "3  https://image.femaledaily.com/dyn/210/images/p...   \n",
              "4  https://image.femaledaily.com/dyn/210/images/p...   \n",
              "\n",
              "                                                 url  rating  total_reviews  \\\n",
              "0  https://reviews.femaledaily.com/products/clean...     4.4           5928   \n",
              "1  https://reviews.femaledaily.com/products/clean...     3.6           5139   \n",
              "2  https://reviews.femaledaily.com/products/clean...     4.1           5116   \n",
              "3  https://reviews.femaledaily.com/products/clean...     4.0           4503   \n",
              "4  https://reviews.femaledaily.com/products/clean...     4.5           4298   \n",
              "\n",
              "           category  \n",
              "0  Cleanser / Toner  \n",
              "1  Cleanser / Toner  \n",
              "2  Cleanser / Toner  \n",
              "3  Cleanser / Toner  \n",
              "4  Cleanser / Toner  "
            ]
          },
          "execution_count": 3,
          "metadata": {},
          "output_type": "execute_result"
        }
      ],
      "source": [
        "# Dataset products_list\n",
        "products_list.head(5)"
      ]
    },
    {
      "cell_type": "code",
      "execution_count": 4,
      "id": "a2c9e9b7",
      "metadata": {
        "colab": {
          "base_uri": "https://localhost:8080/"
        },
        "id": "a2c9e9b7",
        "outputId": "4679a884-3b63-4efe-873b-fffcba28bc6b"
      },
      "outputs": [
        {
          "name": "stdout",
          "output_type": "stream",
          "text": [
            "<class 'pandas.core.frame.DataFrame'>\n",
            "RangeIndex: 1000 entries, 0 to 999\n",
            "Data columns (total 7 columns):\n",
            " #   Column         Non-Null Count  Dtype  \n",
            "---  ------         --------------  -----  \n",
            " 0   name           1000 non-null   object \n",
            " 1   brand          1000 non-null   object \n",
            " 2   image          1000 non-null   object \n",
            " 3   url            1000 non-null   object \n",
            " 4   rating         1000 non-null   float64\n",
            " 5   total_reviews  1000 non-null   int64  \n",
            " 6   category       1000 non-null   object \n",
            "dtypes: float64(1), int64(1), object(5)\n",
            "memory usage: 54.8+ KB\n"
          ]
        }
      ],
      "source": [
        "# Cek info\n",
        "products_list.info()"
      ]
    },
    {
      "cell_type": "code",
      "execution_count": 5,
      "id": "d7137e79",
      "metadata": {
        "colab": {
          "base_uri": "https://localhost:8080/"
        },
        "id": "d7137e79",
        "outputId": "335538dd-a827-45cc-85c7-74cc7c58ecbc"
      },
      "outputs": [
        {
          "data": {
            "text/plain": [
              "(1000, 7)"
            ]
          },
          "execution_count": 5,
          "metadata": {},
          "output_type": "execute_result"
        }
      ],
      "source": [
        "# Cek jumlah data\n",
        "products_list.shape"
      ]
    },
    {
      "cell_type": "code",
      "execution_count": 6,
      "id": "4d723ec8",
      "metadata": {
        "colab": {
          "base_uri": "https://localhost:8080/",
          "height": 304
        },
        "id": "4d723ec8",
        "outputId": "ade7a7d5-bd53-4f5a-c7d3-db7bf275efec"
      },
      "outputs": [
        {
          "data": {
            "application/vnd.microsoft.datawrangler.viewer.v0+json": {
              "columns": [
                {
                  "name": "index",
                  "rawType": "object",
                  "type": "string"
                },
                {
                  "name": "0",
                  "rawType": "int64",
                  "type": "integer"
                }
              ],
              "ref": "84c4ebfc-3630-4075-b69f-259aeea804b5",
              "rows": [
                [
                  "name",
                  "0"
                ],
                [
                  "brand",
                  "0"
                ],
                [
                  "image",
                  "0"
                ],
                [
                  "url",
                  "0"
                ],
                [
                  "rating",
                  "0"
                ],
                [
                  "total_reviews",
                  "0"
                ],
                [
                  "category",
                  "0"
                ]
              ],
              "shape": {
                "columns": 1,
                "rows": 7
              }
            },
            "text/plain": [
              "name             0\n",
              "brand            0\n",
              "image            0\n",
              "url              0\n",
              "rating           0\n",
              "total_reviews    0\n",
              "category         0\n",
              "dtype: int64"
            ]
          },
          "execution_count": 6,
          "metadata": {},
          "output_type": "execute_result"
        }
      ],
      "source": [
        "# Cek missing values\n",
        "products_list.isnull().sum()"
      ]
    },
    {
      "cell_type": "code",
      "execution_count": 7,
      "id": "20ecda33",
      "metadata": {
        "colab": {
          "base_uri": "https://localhost:8080/"
        },
        "id": "20ecda33",
        "outputId": "4d475293-fcac-4840-9a5b-4f5c29dcf8ab"
      },
      "outputs": [
        {
          "data": {
            "text/plain": [
              "np.int64(0)"
            ]
          },
          "execution_count": 7,
          "metadata": {},
          "output_type": "execute_result"
        }
      ],
      "source": [
        "# Cek data duplikat\n",
        "products_list.duplicated().sum()"
      ]
    },
    {
      "cell_type": "code",
      "execution_count": 8,
      "id": "1cd4cf46",
      "metadata": {
        "colab": {
          "base_uri": "https://localhost:8080/",
          "height": 53
        },
        "id": "1cd4cf46",
        "outputId": "5ace5238-4249-4a10-99f1-9bb5fbd00863"
      },
      "outputs": [
        {
          "data": {
            "application/vnd.microsoft.datawrangler.viewer.v0+json": {
              "columns": [
                {
                  "name": "index",
                  "rawType": "int64",
                  "type": "integer"
                },
                {
                  "name": "name",
                  "rawType": "object",
                  "type": "string"
                },
                {
                  "name": "brand",
                  "rawType": "object",
                  "type": "string"
                },
                {
                  "name": "image",
                  "rawType": "object",
                  "type": "string"
                },
                {
                  "name": "url",
                  "rawType": "object",
                  "type": "string"
                },
                {
                  "name": "rating",
                  "rawType": "float64",
                  "type": "float"
                },
                {
                  "name": "total_reviews",
                  "rawType": "int64",
                  "type": "integer"
                },
                {
                  "name": "category",
                  "rawType": "object",
                  "type": "string"
                }
              ],
              "ref": "47525da8-6c6e-4ab8-9a19-22d1b7fbc6ed",
              "rows": [],
              "shape": {
                "columns": 7,
                "rows": 0
              }
            },
            "text/html": [
              "<div>\n",
              "<style scoped>\n",
              "    .dataframe tbody tr th:only-of-type {\n",
              "        vertical-align: middle;\n",
              "    }\n",
              "\n",
              "    .dataframe tbody tr th {\n",
              "        vertical-align: top;\n",
              "    }\n",
              "\n",
              "    .dataframe thead th {\n",
              "        text-align: right;\n",
              "    }\n",
              "</style>\n",
              "<table border=\"1\" class=\"dataframe\">\n",
              "  <thead>\n",
              "    <tr style=\"text-align: right;\">\n",
              "      <th></th>\n",
              "      <th>name</th>\n",
              "      <th>brand</th>\n",
              "      <th>image</th>\n",
              "      <th>url</th>\n",
              "      <th>rating</th>\n",
              "      <th>total_reviews</th>\n",
              "      <th>category</th>\n",
              "    </tr>\n",
              "  </thead>\n",
              "  <tbody>\n",
              "  </tbody>\n",
              "</table>\n",
              "</div>"
            ],
            "text/plain": [
              "Empty DataFrame\n",
              "Columns: [name, brand, image, url, rating, total_reviews, category]\n",
              "Index: []"
            ]
          },
          "execution_count": 8,
          "metadata": {},
          "output_type": "execute_result"
        }
      ],
      "source": [
        "# Show data duplikat\n",
        "products_list[products_list.duplicated()]"
      ]
    },
    {
      "cell_type": "markdown",
      "id": "16f8a319",
      "metadata": {
        "id": "16f8a319"
      },
      "source": [
        "## Products Details"
      ]
    },
    {
      "cell_type": "code",
      "execution_count": 9,
      "id": "9b59ae0d",
      "metadata": {
        "colab": {
          "base_uri": "https://localhost:8080/",
          "height": 467
        },
        "id": "9b59ae0d",
        "outputId": "8e411040-da5f-4413-cbd2-bdcdf345da64"
      },
      "outputs": [
        {
          "data": {
            "application/vnd.microsoft.datawrangler.viewer.v0+json": {
              "columns": [
                {
                  "name": "index",
                  "rawType": "int64",
                  "type": "integer"
                },
                {
                  "name": "url",
                  "rawType": "object",
                  "type": "string"
                },
                {
                  "name": "name",
                  "rawType": "object",
                  "type": "string"
                },
                {
                  "name": "brand",
                  "rawType": "object",
                  "type": "string"
                },
                {
                  "name": "price",
                  "rawType": "object",
                  "type": "unknown"
                },
                {
                  "name": "rating",
                  "rawType": "float64",
                  "type": "float"
                },
                {
                  "name": "description",
                  "rawType": "object",
                  "type": "string"
                }
              ],
              "ref": "a77c13e9-6a75-4810-8815-8188697e6954",
              "rows": [
                [
                  "0",
                  "https://reviews.femaledaily.com/products/cleanser/toner/hada-labo/gokujyun-ultimate-moisturizing-lotion-2",
                  "Gokujyun Ultimate Moisturizing Lotion",
                  "Hada Labo",
                  "Rp. 29.000",
                  "4.4",
                  "DESCRIPTION Hada Labo Gokujyun Ultimate Moisturizing Lotion adalah lotion pelembab yang mengandung 3 jenis Hyaluronic Acid untuk membantu meningkatkan kelembaban pada kulit dan mempertahankan keseimbangan serta kelembaban kulit. Lotion ini dapat mengunci kelembaban di dalam kulit sehingga kulit terhidrasi dengan baik. Kulit akan terasa lebih halus, lembut dan tetap elastis. Mengandung alkohol sebagai astringent yang mengurangi produksi minyak berlebih dan membuat kulit senantiasa terasa lebih segar.How To Use:Tuangkan lotion secukupnya pada telapak tangan, usapkan ke seluruh wajah dalam keadaan bersih secara merata. Tepuk-tepuk kulit wajah dengan lembut, lalu biarkan hingga meresap.Suitable For:Kulit berminyakIngredients:-"
                ],
                [
                  "1",
                  "https://reviews.femaledaily.com/products/cleanser/toner/some-by-mi/30-days-miracle-toner",
                  "AHA BHA PHA 30 Days Miracle Toner",
                  "Some by Mi",
                  "Rp. 189.000",
                  "3.6",
                  "DESCRIPTION Some by Mi AHA BHA PHA 30 Days Miracle Toner merupakan toner yang mengandung AHA, BHA, dan PHA untuk menghilangkan kotoran dan serpihan kering dari permukaan wajah, menghilangkan kotoran tersumbat dan sebum (minyak) pada pori-pori wajah, serta mencegah kulit kering dan menghancurkan sel kulit mati.How to use:Tuang produk secukupnya pada kapas. Usapkan pada wajah yang telah dibersihkanSuitable for:Kulit berjerawat, Kulit berminyakIngredients:-"
                ],
                [
                  "2",
                  "https://reviews.femaledaily.com/products/cleanser/toner/viva-cosmetics/air-mawar",
                  "Air Mawar",
                  "Viva Cosmetics",
                  "Rp. 4.800",
                  "4.1",
                  "DESCRIPTION Viva Cosmetics Air Mawar mengandung sari bunga mawar dan aroma bunga mawar yang biasa digunakan sebagai campuran bubuk masker dan lulur. Aromanya dapat menenangkan kulit wajah. Kemasannya praktis dan higienis sehingga mudah dibawa.How To Use:Gunakan Viva Air Mawar sebagai campuran masker atau lulur.Suitable For:Semua jenis kulitIngredients:-"
                ],
                [
                  "3",
                  "https://reviews.femaledaily.com/products/cleanser/toner/cosrx/aha-bha-clarifying-treatment-toner",
                  "AHA/BHA Clarifying Treatment Toner",
                  "Cosrx",
                  "Rp. 190.000",
                  "4.0",
                  "DESCRIPTION Cosrx AHA/BHA Clarifying Treatment Toner merupakan toner dengan kandungan bahan-bahan natural dan air mineral. Produk ini lebih dari sekedar toner biasa, karena memiliki kandungan AHA/BHA organik yang dapat berfungsi sebagai exfoliating toner.Selain membantu mengatasi masalah komedo (whiteheads, blackheads) dan jerawat, Cosrx AHA/BHA Clarifying Treatment Toner membantu menghidrasi dan meremajakan kulit sehingga dapat menjadikan kulit sehat dan flawless. How to use:Aplikasikan pada wajah yang sudah dibersihkan setiap pagi dan malam hari dengan menggunakan kapas.Suitable for:Semua jenis kulit.Ingredients:Mineral Water, Salix Alba (Willow) Bark Water, Pyrus Malus (Apple) Fruit Water, Butylene Glycol, 1,2-Hexanediol, Sodium Lactate, Glycolic Acid, Water, Betaine Salicylate, Allantoin, Panthenol, Ethyl Hexanediol"
                ],
                [
                  "4",
                  "https://reviews.femaledaily.com/products/cleanser/toner/avoskin/avoskin-miraculous-refining-toner-1",
                  "Miraculous Refining Toner",
                  "AVOSKIN",
                  null,
                  "4.2",
                  "DESCRIPTION Reformulation in 2022AVOSKIN Miraculous Refining Toner dikombinasikan dari AHA-BHA-PHA+ Niacinamide + 2% Tea Tree + Witch Hazel dan Aloe Vera yang bekerja secara efektif sebagai eksfoliator kulit dan mencerahkan kulit. How to Use :Setelah membersihkan wajah, tuang secukupnya pada kapas, usap dari area tengah wajah ke arah luar dengan gerakan ke atas dan biarkan menyerap. Hindari area mata. Tidak perlu dibilas. Gunakan dua kali sehari.Untuk hasil yang maksimal, gunakan Miraculous Refining Serum setelahnya.Ingredients :Water, Glycerin, Glycolic Acid, Butylene Glycol, Propylene Glycol, Gluconolactone, Melaleuca Alternifolia (Tea Tree) Leaf Extract, Hamamelis Virginiana (Witch Hazel) Leaf Extract, Niacinamide, Chamomilla Recutita (Matricaria) Flower Extract, Rubus Idaeus (Raspberry) Fruit Extract, Citrus Limon (Lemon) Fruit Extract, Salicylic Acid, Acer Saccharum (Sugar Maple) Extract, Portulaca Oleracea Extract, Aloe Barbadensis Leaf Juice, Amylopectin, Dextrin, Xanthan Gum, Tetrasodium EDTA, Sodium Hydroxymethylglycinate, Polyglutamic Acid."
                ]
              ],
              "shape": {
                "columns": 6,
                "rows": 5
              }
            },
            "text/html": [
              "<div>\n",
              "<style scoped>\n",
              "    .dataframe tbody tr th:only-of-type {\n",
              "        vertical-align: middle;\n",
              "    }\n",
              "\n",
              "    .dataframe tbody tr th {\n",
              "        vertical-align: top;\n",
              "    }\n",
              "\n",
              "    .dataframe thead th {\n",
              "        text-align: right;\n",
              "    }\n",
              "</style>\n",
              "<table border=\"1\" class=\"dataframe\">\n",
              "  <thead>\n",
              "    <tr style=\"text-align: right;\">\n",
              "      <th></th>\n",
              "      <th>url</th>\n",
              "      <th>name</th>\n",
              "      <th>brand</th>\n",
              "      <th>price</th>\n",
              "      <th>rating</th>\n",
              "      <th>description</th>\n",
              "    </tr>\n",
              "  </thead>\n",
              "  <tbody>\n",
              "    <tr>\n",
              "      <th>0</th>\n",
              "      <td>https://reviews.femaledaily.com/products/clean...</td>\n",
              "      <td>Gokujyun Ultimate Moisturizing Lotion</td>\n",
              "      <td>Hada Labo</td>\n",
              "      <td>Rp. 29.000</td>\n",
              "      <td>4.4</td>\n",
              "      <td>DESCRIPTION Hada Labo Gokujyun Ultimate Moistu...</td>\n",
              "    </tr>\n",
              "    <tr>\n",
              "      <th>1</th>\n",
              "      <td>https://reviews.femaledaily.com/products/clean...</td>\n",
              "      <td>AHA BHA PHA 30 Days Miracle Toner</td>\n",
              "      <td>Some by Mi</td>\n",
              "      <td>Rp. 189.000</td>\n",
              "      <td>3.6</td>\n",
              "      <td>DESCRIPTION Some by Mi AHA BHA PHA 30 Days Mir...</td>\n",
              "    </tr>\n",
              "    <tr>\n",
              "      <th>2</th>\n",
              "      <td>https://reviews.femaledaily.com/products/clean...</td>\n",
              "      <td>Air Mawar</td>\n",
              "      <td>Viva Cosmetics</td>\n",
              "      <td>Rp. 4.800</td>\n",
              "      <td>4.1</td>\n",
              "      <td>DESCRIPTION Viva Cosmetics Air Mawar mengandun...</td>\n",
              "    </tr>\n",
              "    <tr>\n",
              "      <th>3</th>\n",
              "      <td>https://reviews.femaledaily.com/products/clean...</td>\n",
              "      <td>AHA/BHA Clarifying Treatment Toner</td>\n",
              "      <td>Cosrx</td>\n",
              "      <td>Rp. 190.000</td>\n",
              "      <td>4.0</td>\n",
              "      <td>DESCRIPTION Cosrx AHA/BHA Clarifying Treatment...</td>\n",
              "    </tr>\n",
              "    <tr>\n",
              "      <th>4</th>\n",
              "      <td>https://reviews.femaledaily.com/products/clean...</td>\n",
              "      <td>Miraculous Refining Toner</td>\n",
              "      <td>AVOSKIN</td>\n",
              "      <td>NaN</td>\n",
              "      <td>4.2</td>\n",
              "      <td>DESCRIPTION Reformulation in 2022AVOSKIN Mirac...</td>\n",
              "    </tr>\n",
              "  </tbody>\n",
              "</table>\n",
              "</div>"
            ],
            "text/plain": [
              "                                                 url  \\\n",
              "0  https://reviews.femaledaily.com/products/clean...   \n",
              "1  https://reviews.femaledaily.com/products/clean...   \n",
              "2  https://reviews.femaledaily.com/products/clean...   \n",
              "3  https://reviews.femaledaily.com/products/clean...   \n",
              "4  https://reviews.femaledaily.com/products/clean...   \n",
              "\n",
              "                                    name           brand        price  rating  \\\n",
              "0  Gokujyun Ultimate Moisturizing Lotion       Hada Labo   Rp. 29.000     4.4   \n",
              "1      AHA BHA PHA 30 Days Miracle Toner      Some by Mi  Rp. 189.000     3.6   \n",
              "2                              Air Mawar  Viva Cosmetics    Rp. 4.800     4.1   \n",
              "3     AHA/BHA Clarifying Treatment Toner           Cosrx  Rp. 190.000     4.0   \n",
              "4              Miraculous Refining Toner         AVOSKIN          NaN     4.2   \n",
              "\n",
              "                                         description  \n",
              "0  DESCRIPTION Hada Labo Gokujyun Ultimate Moistu...  \n",
              "1  DESCRIPTION Some by Mi AHA BHA PHA 30 Days Mir...  \n",
              "2  DESCRIPTION Viva Cosmetics Air Mawar mengandun...  \n",
              "3  DESCRIPTION Cosrx AHA/BHA Clarifying Treatment...  \n",
              "4  DESCRIPTION Reformulation in 2022AVOSKIN Mirac...  "
            ]
          },
          "execution_count": 9,
          "metadata": {},
          "output_type": "execute_result"
        }
      ],
      "source": [
        "# Dataset products_details\n",
        "products_details.head(5)"
      ]
    },
    {
      "cell_type": "code",
      "execution_count": 10,
      "id": "c699d0c8",
      "metadata": {
        "colab": {
          "base_uri": "https://localhost:8080/"
        },
        "id": "c699d0c8",
        "outputId": "2855f4f2-89a6-469a-aa84-224ade04263a"
      },
      "outputs": [
        {
          "name": "stdout",
          "output_type": "stream",
          "text": [
            "<class 'pandas.core.frame.DataFrame'>\n",
            "RangeIndex: 213 entries, 0 to 212\n",
            "Data columns (total 6 columns):\n",
            " #   Column       Non-Null Count  Dtype  \n",
            "---  ------       --------------  -----  \n",
            " 0   url          213 non-null    object \n",
            " 1   name         202 non-null    object \n",
            " 2   brand        202 non-null    object \n",
            " 3   price        183 non-null    object \n",
            " 4   rating       202 non-null    float64\n",
            " 5   description  202 non-null    object \n",
            "dtypes: float64(1), object(5)\n",
            "memory usage: 10.1+ KB\n"
          ]
        }
      ],
      "source": [
        "products_details.info()"
      ]
    },
    {
      "cell_type": "code",
      "execution_count": 11,
      "id": "3fad16f5",
      "metadata": {
        "colab": {
          "base_uri": "https://localhost:8080/"
        },
        "id": "3fad16f5",
        "outputId": "e765aaeb-a788-4c95-8f2e-06e359706b65"
      },
      "outputs": [
        {
          "data": {
            "text/plain": [
              "(213, 6)"
            ]
          },
          "execution_count": 11,
          "metadata": {},
          "output_type": "execute_result"
        }
      ],
      "source": [
        "# Cek jumlah data\n",
        "products_details.shape"
      ]
    },
    {
      "cell_type": "code",
      "execution_count": 12,
      "id": "a8181fa9",
      "metadata": {
        "colab": {
          "base_uri": "https://localhost:8080/",
          "height": 272
        },
        "id": "a8181fa9",
        "outputId": "f295a3dc-a869-41a7-c1f8-a63070bb8752"
      },
      "outputs": [
        {
          "data": {
            "application/vnd.microsoft.datawrangler.viewer.v0+json": {
              "columns": [
                {
                  "name": "index",
                  "rawType": "object",
                  "type": "string"
                },
                {
                  "name": "0",
                  "rawType": "int64",
                  "type": "integer"
                }
              ],
              "ref": "16f1c6ea-9a3b-428a-a095-b09891226183",
              "rows": [
                [
                  "url",
                  "0"
                ],
                [
                  "name",
                  "11"
                ],
                [
                  "brand",
                  "11"
                ],
                [
                  "price",
                  "30"
                ],
                [
                  "rating",
                  "11"
                ],
                [
                  "description",
                  "11"
                ]
              ],
              "shape": {
                "columns": 1,
                "rows": 6
              }
            },
            "text/plain": [
              "url             0\n",
              "name           11\n",
              "brand          11\n",
              "price          30\n",
              "rating         11\n",
              "description    11\n",
              "dtype: int64"
            ]
          },
          "execution_count": 12,
          "metadata": {},
          "output_type": "execute_result"
        }
      ],
      "source": [
        "# Cek missing values\n",
        "products_details.isnull().sum()"
      ]
    },
    {
      "cell_type": "code",
      "execution_count": 13,
      "id": "0edad96d",
      "metadata": {
        "colab": {
          "base_uri": "https://localhost:8080/"
        },
        "id": "0edad96d",
        "outputId": "845251bc-c262-437b-aa39-1ff160e0491f"
      },
      "outputs": [
        {
          "data": {
            "text/plain": [
              "np.int64(0)"
            ]
          },
          "execution_count": 13,
          "metadata": {},
          "output_type": "execute_result"
        }
      ],
      "source": [
        "# Cek duplikat\n",
        "products_details.duplicated().sum()"
      ]
    },
    {
      "cell_type": "markdown",
      "id": "ac99c23d",
      "metadata": {
        "id": "ac99c23d"
      },
      "source": [
        "## Reviews"
      ]
    },
    {
      "cell_type": "code",
      "execution_count": 14,
      "id": "42bfe35e",
      "metadata": {
        "colab": {
          "base_uri": "https://localhost:8080/",
          "height": 678
        },
        "id": "42bfe35e",
        "outputId": "c8673961-a0ce-4bc6-95eb-fa65a611b778"
      },
      "outputs": [
        {
          "data": {
            "application/vnd.microsoft.datawrangler.viewer.v0+json": {
              "columns": [
                {
                  "name": "index",
                  "rawType": "int64",
                  "type": "integer"
                },
                {
                  "name": "username",
                  "rawType": "object",
                  "type": "string"
                },
                {
                  "name": "skin_type",
                  "rawType": "object",
                  "type": "string"
                },
                {
                  "name": "age",
                  "rawType": "object",
                  "type": "string"
                },
                {
                  "name": "rating_star",
                  "rawType": "object",
                  "type": "string"
                },
                {
                  "name": "recommended",
                  "rawType": "object",
                  "type": "string"
                },
                {
                  "name": "review",
                  "rawType": "object",
                  "type": "string"
                },
                {
                  "name": "review_date",
                  "rawType": "object",
                  "type": "string"
                },
                {
                  "name": "usage_period",
                  "rawType": "object",
                  "type": "string"
                },
                {
                  "name": "product_name",
                  "rawType": "object",
                  "type": "string"
                },
                {
                  "name": "product_url",
                  "rawType": "object",
                  "type": "string"
                }
              ],
              "ref": "260437b3-babe-400c-bcdc-85370cb4e567",
              "rows": [
                [
                  "0",
                  "nunabing",
                  "Dry",
                  "18 and Under",
                  "3",
                  "False",
                  "sorry aku kurang cocok sama produk ini, karena ini toner yang teksturnya cair jadi kurang ngaruh di kulit kering aku🥲 aku lebih cocok hadalabo gold premium toner karena teksturnya kental jadi super melembabkan kulit kering aku, mungkin ini lebih cocok buat kulit normal atau oily ya (?)",
                  "2 days ago",
                  "More than 1 year",
                  "Gokujyun Ultimate Moisturizing Lotion",
                  "https://reviews.femaledaily.com/products/cleanser/toner/hada-labo/gokujyun-ultimate-moisturizing-lotion-2"
                ],
                [
                  "1",
                  "itaaaafiryal_",
                  "Combination",
                  "19 - 24",
                  "5",
                  "True",
                  "dipake buat csm-an enak bgt, teksturnya cair, ngelembabinnya juaraa, buat dry skin pasti suka sih. kalo lagi ada jerawat yg mendem, dipakein ini pake metode csm jd cepet keluar matanya, abis itu pakein acne spot aja deh",
                  "5 days ago",
                  "3 months - 6 months",
                  "Gokujyun Ultimate Moisturizing Lotion",
                  "https://reviews.femaledaily.com/products/cleanser/toner/hada-labo/gokujyun-ultimate-moisturizing-lotion-2"
                ],
                [
                  "2",
                  "huwaidaamany",
                  "Combination",
                  "18 and Under",
                  "5",
                  "True",
                  "Luvvvv banget, calming muka kalo lagi rewel, lumayan hemat karena dia thick toner nya jadi make beberapa tetes aja bisa buat semuka, biasanya dipke abis exfo, ngebantu banget kalo lagi kemerahan juga intinya worth to try deh, oh iya klo make ini tuh sehabis cuci muka gausah di lap ya air nya, langsung aja pke toner ini, dia bakal terserap sempurna, semua toner dan moist yang ada kandungan Hyaluronic acid juga kyk gitu karena Hyaluronic acid itu mengikat air lalu terserap oleh kulit, intinya toner ini sangat amat bagussssss😍😍",
                  "5 days ago",
                  "More than 1 year",
                  "Gokujyun Ultimate Moisturizing Lotion",
                  "https://reviews.femaledaily.com/products/cleanser/toner/hada-labo/gokujyun-ultimate-moisturizing-lotion-2"
                ],
                [
                  "3",
                  "ghisti",
                  "Oily",
                  "18 and Under",
                  "3",
                  "False",
                  "produk ini tu menurut aku cocok nya buat yang kulit kering ya, karna memang buat ngelembabin tuh oke banget, sesuai sama claim nyaa. di kulit aku yang kombi to oily acne prone tu ngerasanya kureng yaa, karna di kulit aku sendiri sih malah bikin tambah becek dan lumayan lama nyerep nya ya. aku saranin sih yang kulitnya kering pake ini aja 👍👍",
                  "12 May 2025",
                  "3 months - 6 months",
                  "Gokujyun Ultimate Moisturizing Lotion",
                  "https://reviews.femaledaily.com/products/cleanser/toner/hada-labo/gokujyun-ultimate-moisturizing-lotion-2"
                ],
                [
                  "4",
                  "Namanya_Gibraltar",
                  "Dry",
                  "18 and Under",
                  "4",
                  "True",
                  "Di aku cukip bantu Lembab tapi g kyk yg, woww lembab bgt. tapi emang bagus buat dry skin cari yg murmerkandungan g neko2, cuma 3 jenis HAklo untuk sekelas toner lumayan thick kyk esensseklo kemasan ga ada yg gimana bgt di komensangat worth it",
                  "12 May 2025",
                  "6 months - 1 year",
                  "Gokujyun Ultimate Moisturizing Lotion",
                  "https://reviews.femaledaily.com/products/cleanser/toner/hada-labo/gokujyun-ultimate-moisturizing-lotion-2"
                ]
              ],
              "shape": {
                "columns": 10,
                "rows": 5
              }
            },
            "text/html": [
              "<div>\n",
              "<style scoped>\n",
              "    .dataframe tbody tr th:only-of-type {\n",
              "        vertical-align: middle;\n",
              "    }\n",
              "\n",
              "    .dataframe tbody tr th {\n",
              "        vertical-align: top;\n",
              "    }\n",
              "\n",
              "    .dataframe thead th {\n",
              "        text-align: right;\n",
              "    }\n",
              "</style>\n",
              "<table border=\"1\" class=\"dataframe\">\n",
              "  <thead>\n",
              "    <tr style=\"text-align: right;\">\n",
              "      <th></th>\n",
              "      <th>username</th>\n",
              "      <th>skin_type</th>\n",
              "      <th>age</th>\n",
              "      <th>rating_star</th>\n",
              "      <th>recommended</th>\n",
              "      <th>review</th>\n",
              "      <th>review_date</th>\n",
              "      <th>usage_period</th>\n",
              "      <th>product_name</th>\n",
              "      <th>product_url</th>\n",
              "    </tr>\n",
              "  </thead>\n",
              "  <tbody>\n",
              "    <tr>\n",
              "      <th>0</th>\n",
              "      <td>nunabing</td>\n",
              "      <td>Dry</td>\n",
              "      <td>18 and Under</td>\n",
              "      <td>3</td>\n",
              "      <td>False</td>\n",
              "      <td>sorry aku kurang cocok sama produk ini, karena...</td>\n",
              "      <td>2 days ago</td>\n",
              "      <td>More than 1 year</td>\n",
              "      <td>Gokujyun Ultimate Moisturizing Lotion</td>\n",
              "      <td>https://reviews.femaledaily.com/products/clean...</td>\n",
              "    </tr>\n",
              "    <tr>\n",
              "      <th>1</th>\n",
              "      <td>itaaaafiryal_</td>\n",
              "      <td>Combination</td>\n",
              "      <td>19 - 24</td>\n",
              "      <td>5</td>\n",
              "      <td>True</td>\n",
              "      <td>dipake buat csm-an enak bgt, teksturnya cair, ...</td>\n",
              "      <td>5 days ago</td>\n",
              "      <td>3 months - 6 months</td>\n",
              "      <td>Gokujyun Ultimate Moisturizing Lotion</td>\n",
              "      <td>https://reviews.femaledaily.com/products/clean...</td>\n",
              "    </tr>\n",
              "    <tr>\n",
              "      <th>2</th>\n",
              "      <td>huwaidaamany</td>\n",
              "      <td>Combination</td>\n",
              "      <td>18 and Under</td>\n",
              "      <td>5</td>\n",
              "      <td>True</td>\n",
              "      <td>Luvvvv banget, calming muka kalo lagi rewel, l...</td>\n",
              "      <td>5 days ago</td>\n",
              "      <td>More than 1 year</td>\n",
              "      <td>Gokujyun Ultimate Moisturizing Lotion</td>\n",
              "      <td>https://reviews.femaledaily.com/products/clean...</td>\n",
              "    </tr>\n",
              "    <tr>\n",
              "      <th>3</th>\n",
              "      <td>ghisti</td>\n",
              "      <td>Oily</td>\n",
              "      <td>18 and Under</td>\n",
              "      <td>3</td>\n",
              "      <td>False</td>\n",
              "      <td>produk ini tu menurut aku cocok nya buat yang ...</td>\n",
              "      <td>12 May 2025</td>\n",
              "      <td>3 months - 6 months</td>\n",
              "      <td>Gokujyun Ultimate Moisturizing Lotion</td>\n",
              "      <td>https://reviews.femaledaily.com/products/clean...</td>\n",
              "    </tr>\n",
              "    <tr>\n",
              "      <th>4</th>\n",
              "      <td>Namanya_Gibraltar</td>\n",
              "      <td>Dry</td>\n",
              "      <td>18 and Under</td>\n",
              "      <td>4</td>\n",
              "      <td>True</td>\n",
              "      <td>Di aku cukip bantu Lembab tapi g kyk yg, woww ...</td>\n",
              "      <td>12 May 2025</td>\n",
              "      <td>6 months - 1 year</td>\n",
              "      <td>Gokujyun Ultimate Moisturizing Lotion</td>\n",
              "      <td>https://reviews.femaledaily.com/products/clean...</td>\n",
              "    </tr>\n",
              "  </tbody>\n",
              "</table>\n",
              "</div>"
            ],
            "text/plain": [
              "            username    skin_type           age rating_star recommended  \\\n",
              "0           nunabing          Dry  18 and Under           3       False   \n",
              "1      itaaaafiryal_  Combination       19 - 24           5        True   \n",
              "2       huwaidaamany  Combination  18 and Under           5        True   \n",
              "3             ghisti         Oily  18 and Under           3       False   \n",
              "4  Namanya_Gibraltar          Dry  18 and Under           4        True   \n",
              "\n",
              "                                              review  review_date  \\\n",
              "0  sorry aku kurang cocok sama produk ini, karena...   2 days ago   \n",
              "1  dipake buat csm-an enak bgt, teksturnya cair, ...   5 days ago   \n",
              "2  Luvvvv banget, calming muka kalo lagi rewel, l...   5 days ago   \n",
              "3  produk ini tu menurut aku cocok nya buat yang ...  12 May 2025   \n",
              "4  Di aku cukip bantu Lembab tapi g kyk yg, woww ...  12 May 2025   \n",
              "\n",
              "          usage_period                           product_name  \\\n",
              "0     More than 1 year  Gokujyun Ultimate Moisturizing Lotion   \n",
              "1  3 months - 6 months  Gokujyun Ultimate Moisturizing Lotion   \n",
              "2     More than 1 year  Gokujyun Ultimate Moisturizing Lotion   \n",
              "3  3 months - 6 months  Gokujyun Ultimate Moisturizing Lotion   \n",
              "4    6 months - 1 year  Gokujyun Ultimate Moisturizing Lotion   \n",
              "\n",
              "                                         product_url  \n",
              "0  https://reviews.femaledaily.com/products/clean...  \n",
              "1  https://reviews.femaledaily.com/products/clean...  \n",
              "2  https://reviews.femaledaily.com/products/clean...  \n",
              "3  https://reviews.femaledaily.com/products/clean...  \n",
              "4  https://reviews.femaledaily.com/products/clean...  "
            ]
          },
          "execution_count": 14,
          "metadata": {},
          "output_type": "execute_result"
        }
      ],
      "source": [
        "# Dataset reviews\n",
        "reviews.head(5)"
      ]
    },
    {
      "cell_type": "code",
      "execution_count": 15,
      "id": "83c11011",
      "metadata": {
        "colab": {
          "base_uri": "https://localhost:8080/"
        },
        "id": "83c11011",
        "outputId": "fe0748f1-1f6a-46a5-fbc7-6aa9eaf6b8ce"
      },
      "outputs": [
        {
          "name": "stdout",
          "output_type": "stream",
          "text": [
            "<class 'pandas.core.frame.DataFrame'>\n",
            "RangeIndex: 29900 entries, 0 to 29899\n",
            "Data columns (total 10 columns):\n",
            " #   Column        Non-Null Count  Dtype \n",
            "---  ------        --------------  ----- \n",
            " 0   username      29900 non-null  object\n",
            " 1   skin_type     28752 non-null  object\n",
            " 2   age           29876 non-null  object\n",
            " 3   rating_star   29900 non-null  object\n",
            " 4   recommended   29179 non-null  object\n",
            " 5   review        29899 non-null  object\n",
            " 6   review_date   29898 non-null  object\n",
            " 7   usage_period  29886 non-null  object\n",
            " 8   product_name  29898 non-null  object\n",
            " 9   product_url   29898 non-null  object\n",
            "dtypes: object(10)\n",
            "memory usage: 2.3+ MB\n"
          ]
        }
      ],
      "source": [
        "reviews.info()"
      ]
    },
    {
      "cell_type": "code",
      "execution_count": 16,
      "id": "5b3c0080",
      "metadata": {
        "colab": {
          "base_uri": "https://localhost:8080/"
        },
        "id": "5b3c0080",
        "outputId": "676aa770-f67a-4330-8f0e-4bd51af13702"
      },
      "outputs": [
        {
          "data": {
            "text/plain": [
              "(29900, 10)"
            ]
          },
          "execution_count": 16,
          "metadata": {},
          "output_type": "execute_result"
        }
      ],
      "source": [
        "# Cek jumlah data\n",
        "reviews.shape"
      ]
    },
    {
      "cell_type": "code",
      "execution_count": 17,
      "id": "8c749bd4",
      "metadata": {
        "colab": {
          "base_uri": "https://localhost:8080/",
          "height": 398
        },
        "id": "8c749bd4",
        "outputId": "c6189b8f-0080-43d1-f8e0-46afcd555eee"
      },
      "outputs": [
        {
          "data": {
            "application/vnd.microsoft.datawrangler.viewer.v0+json": {
              "columns": [
                {
                  "name": "index",
                  "rawType": "object",
                  "type": "string"
                },
                {
                  "name": "0",
                  "rawType": "int64",
                  "type": "integer"
                }
              ],
              "ref": "c59f6815-632d-4ee4-9848-08c8bd625b24",
              "rows": [
                [
                  "username",
                  "0"
                ],
                [
                  "skin_type",
                  "1148"
                ],
                [
                  "age",
                  "24"
                ],
                [
                  "rating_star",
                  "0"
                ],
                [
                  "recommended",
                  "721"
                ],
                [
                  "review",
                  "1"
                ],
                [
                  "review_date",
                  "2"
                ],
                [
                  "usage_period",
                  "14"
                ],
                [
                  "product_name",
                  "2"
                ],
                [
                  "product_url",
                  "2"
                ]
              ],
              "shape": {
                "columns": 1,
                "rows": 10
              }
            },
            "text/plain": [
              "username           0\n",
              "skin_type       1148\n",
              "age               24\n",
              "rating_star        0\n",
              "recommended      721\n",
              "review             1\n",
              "review_date        2\n",
              "usage_period      14\n",
              "product_name       2\n",
              "product_url        2\n",
              "dtype: int64"
            ]
          },
          "execution_count": 17,
          "metadata": {},
          "output_type": "execute_result"
        }
      ],
      "source": [
        "# Cek missing values\n",
        "reviews.isnull().sum()"
      ]
    },
    {
      "cell_type": "code",
      "execution_count": 18,
      "id": "ba592138",
      "metadata": {
        "colab": {
          "base_uri": "https://localhost:8080/"
        },
        "id": "ba592138",
        "outputId": "89e37a71-0383-492f-cf48-afe909ab01ee"
      },
      "outputs": [
        {
          "data": {
            "text/plain": [
              "np.int64(0)"
            ]
          },
          "execution_count": 18,
          "metadata": {},
          "output_type": "execute_result"
        }
      ],
      "source": [
        "# Cek duplikat\n",
        "reviews.duplicated().sum()"
      ]
    },
    {
      "cell_type": "markdown",
      "id": "t8AaN5Efc7WN",
      "metadata": {
        "id": "t8AaN5Efc7WN"
      },
      "source": [
        "# Gabungkan Dataset"
      ]
    },
    {
      "cell_type": "code",
      "execution_count": 19,
      "id": "wuQaAlyPc-Fz",
      "metadata": {
        "id": "wuQaAlyPc-Fz"
      },
      "outputs": [],
      "source": [
        "# STEP 1 - Gabung product list & details\n",
        "df_products = products_list.merge(products_details, on='url', how='left', suffixes=('_list', '_details'))\n",
        "\n",
        "# STEP 2 - Rename kolom agar seragam & rapi\n",
        "df_products = df_products.rename(columns={\n",
        "    'name_list': 'product_name',\n",
        "    'brand_list': 'brand',\n",
        "    'rating_list': 'rating',\n",
        "    'description': 'description',\n",
        "    'price': 'price',\n",
        "    'category': 'category',\n",
        "    'total_reviews': 'total_reviews'\n",
        "})\n",
        "\n",
        "# STEP 3 - Pilih hanya kolom yang kita perlukan\n",
        "df_products = df_products[[\n",
        "    'product_name', 'brand', 'category', 'url',\n",
        "    'rating', 'total_reviews', 'price', 'description'\n",
        "]]"
      ]
    },
    {
      "cell_type": "code",
      "execution_count": 20,
      "id": "Fb3KrPrpmiQm",
      "metadata": {
        "colab": {
          "base_uri": "https://localhost:8080/",
          "height": 556
        },
        "id": "Fb3KrPrpmiQm",
        "outputId": "ef9060ed-bce9-49a2-a7b6-87023af1415a"
      },
      "outputs": [
        {
          "data": {
            "application/vnd.microsoft.datawrangler.viewer.v0+json": {
              "columns": [
                {
                  "name": "index",
                  "rawType": "int64",
                  "type": "integer"
                },
                {
                  "name": "url",
                  "rawType": "object",
                  "type": "string"
                },
                {
                  "name": "product_name",
                  "rawType": "object",
                  "type": "string"
                },
                {
                  "name": "brand",
                  "rawType": "object",
                  "type": "string"
                },
                {
                  "name": "category",
                  "rawType": "object",
                  "type": "string"
                },
                {
                  "name": "price",
                  "rawType": "object",
                  "type": "unknown"
                },
                {
                  "name": "rating",
                  "rawType": "float64",
                  "type": "float"
                },
                {
                  "name": "total_reviews",
                  "rawType": "int64",
                  "type": "integer"
                },
                {
                  "name": "description",
                  "rawType": "object",
                  "type": "unknown"
                },
                {
                  "name": "review",
                  "rawType": "object",
                  "type": "unknown"
                },
                {
                  "name": "skin_type",
                  "rawType": "object",
                  "type": "unknown"
                },
                {
                  "name": "age",
                  "rawType": "object",
                  "type": "unknown"
                },
                {
                  "name": "rating_star",
                  "rawType": "object",
                  "type": "unknown"
                }
              ],
              "ref": "e178cb97-d6df-4934-805e-428bc28a4a56",
              "rows": [
                [
                  "30575",
                  "https://reviews.femaledaily.com/products/body-wash/shower-gel-cream/palmolive/rich-moisture-25",
                  "Naturals Shower Milk",
                  "Palmolive",
                  "Moisturizer / Cream",
                  "Rp. 85.900",
                  "4.4",
                  "438",
                  "DESCRIPTION Palmolive Naturals menggunakan bahan-bahan terbaik dan alami untuk membuat kulit anda bersih dan terasa lebih lembut. Palmolive Naturals Milk & Honey diperkaya dengan manfaat protein susu dan ekstrak madu. Formulanya yang kaya mengandung mild cleansers yang membantu melembapkan dan merawat kulit dengan satu langkah mudah. Kulit menjadi lebih halus dan lebih lembut setiap kali mandi dengan Palmolive Naturals. 100% soap free, PH Balance yang sesuai dengan kulit, dermatologically tested, dan cukup untuk 200 kali mandi. Rasakan pengalaman mandi yang menyenangkan untuk setiap anggota keluarga anda. Cara Pakai : Tuang sabun ke tangan atau ke shower puff dengan menekan pump botol, lalu usapkan ke seluruh badan. Bilas hingga bersih dengan air. Kandungan : Water, Sodium Laureth Sulfate, Cocamidopropyl Betaine, Fragrance, Sodium Cholride, Cocamide MEA, Styrene / Acrylates Copolymer, Sodium Salicylate, Sodium Benzoate, Polyquaternium-7, Glycol Distearate, Tetrasodium EDTA, Citric Acid, Lactose, Poloxamer 124, Honey, Milk Protein, CI 19140, CI 16035",
                  "Aku suka sama wanginya palmolive yang ini, manis. Tapi kurang suka waktu dipake karena licin banget, jadi rasanya kurang bersih gitu. Udah gitu dia malah bikin jerawat punggung makin banyak😭 Aku beli waktu diskon di shopee sih jadi lumayan bgt harganya.",
                  "Combination",
                  "19 - 24",
                  "4"
                ],
                [
                  "32583",
                  "https://reviews.femaledaily.com/products/treatment/peeling/kravebeauty/kale-lalu-yaha-1",
                  "Kale-Lalu-yAHA",
                  "KraveBeauty",
                  "Treatment / Peeling",
                  "Rp. 423.000",
                  "4.5",
                  "225",
                  "DESCRIPTION KraveBeauty Kale-Lalu-yAHA merupakan exfoliating toner yang dapat mengangkat sel-sel kulit mati sehingga membuat kulit wajah tampak lebih muda dan sehat. Dapat mengatasi warna kulit yang tidak merata, kerusakan kulit akibat sinar matahari, dan garis-garis halus pada wajah. Mengandung Glycolic Acid 5.25% yang dapat mengeksfoliasi kulit secara lembut, Kale, Spinach, Parsley yang kaya akan antioksidan, serta kombinasi dari Aloe, Hyaluronic acid, dan Vitamin B5 yang dapat melembapkan dan menenangkan kulit. How to Use:Usapkan ke seluruh wajah secara merata menggunakan kapas. Gunakan 2-3x dalam seminggu pada malam hari. Untuk kulit yang sensitif, dianjurkan untuk mencoba menggunakan 1x dahulu dalam seminggu. Suitable for:Semua jenis kulitIngredients:Aloe Barbadensis Leaf Water, Water, Butylene glycol, Brassica Oleracea Acephala Leaf (Kale) Extract, Glycolic acid, 1,2-Hexanediol, Potassium Hydroxide, Glycerin, Spinacia Oleracea (Spinach) Leaf Extract, Carum Petroselinum (Parsley) Extract, Chlorella Minutissima Extract, Malus Domestica Fruit (Green apple) Extract, Panthenol (Vitamin B5), Betaine Salicylate, Sodium Hyaluronate, Allantoin, Pseudozyma Epicola/Camellia Sinensis Seed Oil/Glucose/Yeast Extract Ferment Filtrate, Dipotassium Glycyrrhizate, Bacillus/Folic acid/Soybean ferment extract, Coptis Japonica Root Extract, Malachite Extract, Polysorbate80, Disodium EDTA",
                  "dari zaman kuliah sampe sekarang, aku suka banget!!! Favoriteeee bangettt, kalau melihat efek nya rasanya ingin pakai tiap hari heheh tapi gak boleh. Aku pakai 2-3x seminggu di malam hari, lalu pagi nya kulit rasanya kinclong bagus bangett. Dan ini AHA pertama yg ku coba dan langsung cocok puaass",
                  "Dry",
                  "18 and Under",
                  "5"
                ],
                [
                  "2332",
                  "https://reviews.femaledaily.com/products/cleanser/toner/the-body-shop/tea-tree-toner-22",
                  "Tea Tree Skin Clearing Toner",
                  "The Body Shop",
                  "Cleanser / Toner",
                  "Rp. 159.000",
                  "3.6",
                  "1644",
                  "DESCRIPTION The Body Shop Tea Tree Toner merupakan toner penyegar untuk kulit berjerawat (blemished skin) dan memberikan hasil kulit yang matte dan berseri. Dapat digunakan untuk menghilangkan sisa make up, pembersih, dan kotoran. Terbukti secara klinis memberikan kulit yang terlihat lebih bersih.How To Use :Gunakan setelah memakai pembersih dan pelembab. Kocok dahulu untuk mengaktifkan bubuk matte dan tuangkan pada kapas bersih secukupnya. Sapukan pada wajah dan leher.Suitable For :Kulit berjerawat.Ingredients :Aqua (Solvent/Diluent), Alcohol Denat. (Solvent/Diluent), Corn Starch Modified (Skin Conditioning Agent), Caprylyl Glycol (Skin Conditioning Agent), PEG-40 Hydrogenated Castor Oil (Emulsifier), Glycerin (Humectant), Melaleuca Alternifolia Leaf Oil (Natural Additive), Salix Alba Bark Extract (Natural Additive), Allantoin (Skin Soothing Agent), Calophyllum Inophyllum Seed Oil (Skin Conditioning Agent), Limonene (Natural Additive), Hamamelis Virginiana Extract (Natural Additive), Sodium Hydroxide (pH Adjuster), t-Butyl Alcohol (Denaturant), Citral (Natural Additive), Leptospermum Petersonii Oil (Natural Additive), Denatonium Benzoate (Denaturant), Tocopherol (Antioxidant), Caramel (Colour), CI 19140 (Colour), CI 42090 (Colour).",
                  "diatuh bagus bgtt buat jerawatt, cocok bgt dikulitkuu, bcs kalo baru tumbuh jerawat malemnya pakein toner ini besoknya langsung kempes dehh suka!! tp diwajahku gabisa kalo dipake bener² sewajah.. jadi cekat cekit gituu ntrr jadi biasanya kalo ada jerawat aku kompres pake kapan 10-15menit an trs udahh deh pake toner hydra biasa lanjut step selanjutnyaa👍🏻👍🏻",
                  "Normal",
                  "18 and Under",
                  "3"
                ],
                [
                  "7942",
                  "https://reviews.femaledaily.com/products/cleanser/scrub-exfoliator/himalaya/purifying-neem-scrub",
                  "Purifying Neem Scrub",
                  "Himalaya",
                  "Cleanser / Scrub-Exfoliator",
                  "Rp. 21.000",
                  "3.7",
                  "813",
                  "DESCRIPTION Himalaya Purifying Neem Scrub didesain khusus untuk membuat wajah bersih dan terbebas dari masalah kulit. Produk ini mengandung Neem yang dikenal dengan manfaat antibakteri nya yang dapat menjernihkan kulit dengan menghilangkan masalah kulit yang disebabkan oleh bakteri. Produk ini juga diperkaya oleh Apricot, secara lembut mengangkat komedo dan sel kulit mati. Wajah pun tampak halus, bersih, segar, dan bebas dari masalah kulit.How To Use:Aplikasikan scrub ke seluruh wajah, hindari daerah mata. Bilas dengan air bersih.Suitable For:Kulit berminyakKey Ingredients:Neem, Apricot",
                  "lagi iseng2 cari scrub eh nemu ini karna penasaran nyoba deh. scrubnya dia besar2 agak kasar gitu. tapi kali aku sih it's okay. setiap habis cuci muka kerasa alus mukanya. cuman dia buat komedo di hidung dan dagu kurang bisa ngangkat. tapi lumayanlah buat ngangkat kotoran di muka kalo ngerasa kotor banget.",
                  "Combination",
                  "25 - 29",
                  "3"
                ],
                [
                  "6096",
                  "https://reviews.femaledaily.com/products/cleanser/facial-wash/true-to-skin/matcha-oat-gentle-cleanser",
                  "Matcha Oat Gentle Cleanser",
                  "True to Skin",
                  "Cleanser / Facial Wash",
                  null,
                  "4.2",
                  "763",
                  null,
                  null,
                  null,
                  null,
                  null
                ]
              ],
              "shape": {
                "columns": 12,
                "rows": 5
              }
            },
            "text/html": [
              "<div>\n",
              "<style scoped>\n",
              "    .dataframe tbody tr th:only-of-type {\n",
              "        vertical-align: middle;\n",
              "    }\n",
              "\n",
              "    .dataframe tbody tr th {\n",
              "        vertical-align: top;\n",
              "    }\n",
              "\n",
              "    .dataframe thead th {\n",
              "        text-align: right;\n",
              "    }\n",
              "</style>\n",
              "<table border=\"1\" class=\"dataframe\">\n",
              "  <thead>\n",
              "    <tr style=\"text-align: right;\">\n",
              "      <th></th>\n",
              "      <th>url</th>\n",
              "      <th>product_name</th>\n",
              "      <th>brand</th>\n",
              "      <th>category</th>\n",
              "      <th>price</th>\n",
              "      <th>rating</th>\n",
              "      <th>total_reviews</th>\n",
              "      <th>description</th>\n",
              "      <th>review</th>\n",
              "      <th>skin_type</th>\n",
              "      <th>age</th>\n",
              "      <th>rating_star</th>\n",
              "    </tr>\n",
              "  </thead>\n",
              "  <tbody>\n",
              "    <tr>\n",
              "      <th>30575</th>\n",
              "      <td>https://reviews.femaledaily.com/products/body-...</td>\n",
              "      <td>Naturals Shower Milk</td>\n",
              "      <td>Palmolive</td>\n",
              "      <td>Moisturizer / Cream</td>\n",
              "      <td>Rp. 85.900</td>\n",
              "      <td>4.4</td>\n",
              "      <td>438</td>\n",
              "      <td>DESCRIPTION Palmolive Naturals menggunakan bah...</td>\n",
              "      <td>Aku suka sama wanginya palmolive yang ini, man...</td>\n",
              "      <td>Combination</td>\n",
              "      <td>19 - 24</td>\n",
              "      <td>4</td>\n",
              "    </tr>\n",
              "    <tr>\n",
              "      <th>32583</th>\n",
              "      <td>https://reviews.femaledaily.com/products/treat...</td>\n",
              "      <td>Kale-Lalu-yAHA</td>\n",
              "      <td>KraveBeauty</td>\n",
              "      <td>Treatment / Peeling</td>\n",
              "      <td>Rp. 423.000</td>\n",
              "      <td>4.5</td>\n",
              "      <td>225</td>\n",
              "      <td>DESCRIPTION KraveBeauty Kale-Lalu-yAHA merupak...</td>\n",
              "      <td>dari zaman kuliah sampe sekarang, aku suka ban...</td>\n",
              "      <td>Dry</td>\n",
              "      <td>18 and Under</td>\n",
              "      <td>5</td>\n",
              "    </tr>\n",
              "    <tr>\n",
              "      <th>2332</th>\n",
              "      <td>https://reviews.femaledaily.com/products/clean...</td>\n",
              "      <td>Tea Tree Skin Clearing Toner</td>\n",
              "      <td>The Body Shop</td>\n",
              "      <td>Cleanser / Toner</td>\n",
              "      <td>Rp. 159.000</td>\n",
              "      <td>3.6</td>\n",
              "      <td>1644</td>\n",
              "      <td>DESCRIPTION The Body Shop Tea Tree Toner merup...</td>\n",
              "      <td>diatuh bagus bgtt buat jerawatt, cocok bgt dik...</td>\n",
              "      <td>Normal</td>\n",
              "      <td>18 and Under</td>\n",
              "      <td>3</td>\n",
              "    </tr>\n",
              "    <tr>\n",
              "      <th>7942</th>\n",
              "      <td>https://reviews.femaledaily.com/products/clean...</td>\n",
              "      <td>Purifying Neem Scrub</td>\n",
              "      <td>Himalaya</td>\n",
              "      <td>Cleanser / Scrub-Exfoliator</td>\n",
              "      <td>Rp. 21.000</td>\n",
              "      <td>3.7</td>\n",
              "      <td>813</td>\n",
              "      <td>DESCRIPTION Himalaya Purifying Neem Scrub dide...</td>\n",
              "      <td>lagi iseng2 cari scrub eh nemu ini karna penas...</td>\n",
              "      <td>Combination</td>\n",
              "      <td>25 - 29</td>\n",
              "      <td>3</td>\n",
              "    </tr>\n",
              "    <tr>\n",
              "      <th>6096</th>\n",
              "      <td>https://reviews.femaledaily.com/products/clean...</td>\n",
              "      <td>Matcha Oat Gentle Cleanser</td>\n",
              "      <td>True to Skin</td>\n",
              "      <td>Cleanser / Facial Wash</td>\n",
              "      <td>NaN</td>\n",
              "      <td>4.2</td>\n",
              "      <td>763</td>\n",
              "      <td>NaN</td>\n",
              "      <td>NaN</td>\n",
              "      <td>NaN</td>\n",
              "      <td>NaN</td>\n",
              "      <td>NaN</td>\n",
              "    </tr>\n",
              "  </tbody>\n",
              "</table>\n",
              "</div>"
            ],
            "text/plain": [
              "                                                     url  \\\n",
              "30575  https://reviews.femaledaily.com/products/body-...   \n",
              "32583  https://reviews.femaledaily.com/products/treat...   \n",
              "2332   https://reviews.femaledaily.com/products/clean...   \n",
              "7942   https://reviews.femaledaily.com/products/clean...   \n",
              "6096   https://reviews.femaledaily.com/products/clean...   \n",
              "\n",
              "                       product_name          brand  \\\n",
              "30575          Naturals Shower Milk      Palmolive   \n",
              "32583                Kale-Lalu-yAHA    KraveBeauty   \n",
              "2332   Tea Tree Skin Clearing Toner  The Body Shop   \n",
              "7942           Purifying Neem Scrub       Himalaya   \n",
              "6096     Matcha Oat Gentle Cleanser   True to Skin   \n",
              "\n",
              "                          category        price  rating  total_reviews  \\\n",
              "30575          Moisturizer / Cream   Rp. 85.900     4.4            438   \n",
              "32583          Treatment / Peeling  Rp. 423.000     4.5            225   \n",
              "2332              Cleanser / Toner  Rp. 159.000     3.6           1644   \n",
              "7942   Cleanser / Scrub-Exfoliator   Rp. 21.000     3.7            813   \n",
              "6096        Cleanser / Facial Wash          NaN     4.2            763   \n",
              "\n",
              "                                             description  \\\n",
              "30575  DESCRIPTION Palmolive Naturals menggunakan bah...   \n",
              "32583  DESCRIPTION KraveBeauty Kale-Lalu-yAHA merupak...   \n",
              "2332   DESCRIPTION The Body Shop Tea Tree Toner merup...   \n",
              "7942   DESCRIPTION Himalaya Purifying Neem Scrub dide...   \n",
              "6096                                                 NaN   \n",
              "\n",
              "                                                  review    skin_type  \\\n",
              "30575  Aku suka sama wanginya palmolive yang ini, man...  Combination   \n",
              "32583  dari zaman kuliah sampe sekarang, aku suka ban...          Dry   \n",
              "2332   diatuh bagus bgtt buat jerawatt, cocok bgt dik...       Normal   \n",
              "7942   lagi iseng2 cari scrub eh nemu ini karna penas...  Combination   \n",
              "6096                                                 NaN          NaN   \n",
              "\n",
              "                age rating_star  \n",
              "30575       19 - 24           4  \n",
              "32583  18 and Under           5  \n",
              "2332   18 and Under           3  \n",
              "7942        25 - 29           3  \n",
              "6096            NaN         NaN  "
            ]
          },
          "execution_count": 20,
          "metadata": {},
          "output_type": "execute_result"
        }
      ],
      "source": [
        "# Gabung dengan tabel review berdasarkan URL\n",
        "df_combined = df_products.merge(reviews, left_on='url', right_on='product_url', how='left', suffixes=('_products', '_reviews'))\n",
        "\n",
        "# Rename kolom agar seragam dan rapi\n",
        "df_combined = df_combined.rename(columns={\n",
        "    'product_name_products': 'product_name'})\n",
        "\n",
        "# Pilih hanya kolom yang dibutuhkan\n",
        "df_combined_used = df_combined[[\n",
        "    'url','product_name', 'brand', 'category', 'price', 'rating', 'total_reviews',\n",
        "    'description', 'review', 'skin_type', 'age', 'rating_star'\n",
        "]]\n",
        "\n",
        "df_combined_used.sample(5)"
      ]
    },
    {
      "cell_type": "code",
      "execution_count": 21,
      "id": "Pb5wZO8wm5l_",
      "metadata": {
        "colab": {
          "base_uri": "https://localhost:8080/"
        },
        "id": "Pb5wZO8wm5l_",
        "outputId": "9a58fdc0-022e-467b-ec8a-55a1c7ed0e0c"
      },
      "outputs": [
        {
          "name": "stdout",
          "output_type": "stream",
          "text": [
            "<class 'pandas.core.frame.DataFrame'>\n",
            "RangeIndex: 33844 entries, 0 to 33843\n",
            "Data columns (total 12 columns):\n",
            " #   Column         Non-Null Count  Dtype  \n",
            "---  ------         --------------  -----  \n",
            " 0   url            33844 non-null  object \n",
            " 1   product_name   33844 non-null  object \n",
            " 2   brand          33844 non-null  object \n",
            " 3   category       33844 non-null  object \n",
            " 4   price          28541 non-null  object \n",
            " 5   rating         33844 non-null  float64\n",
            " 6   total_reviews  33844 non-null  int64  \n",
            " 7   description    31398 non-null  object \n",
            " 8   review         33051 non-null  object \n",
            " 9   skin_type      31777 non-null  object \n",
            " 10  age            33027 non-null  object \n",
            " 11  rating_star    33051 non-null  object \n",
            "dtypes: float64(1), int64(1), object(10)\n",
            "memory usage: 3.1+ MB\n"
          ]
        }
      ],
      "source": [
        "df_combined_used.info()"
      ]
    },
    {
      "cell_type": "code",
      "execution_count": 22,
      "id": "AyOjNlhdnyUd",
      "metadata": {
        "id": "AyOjNlhdnyUd"
      },
      "outputs": [],
      "source": [
        "df_combined_used.to_csv('../data/products_used_features.csv', index=False)"
      ]
    },
    {
      "cell_type": "markdown",
      "id": "ykOweibJwGvv",
      "metadata": {
        "id": "ykOweibJwGvv"
      },
      "source": [
        "## Ekstraksi Fitur"
      ]
    },
    {
      "cell_type": "code",
      "execution_count": 23,
      "id": "EaqlrlIdrR_B",
      "metadata": {
        "id": "EaqlrlIdrR_B"
      },
      "outputs": [],
      "source": [
        "df_extracted = df_combined_used.copy()"
      ]
    },
    {
      "cell_type": "code",
      "execution_count": 24,
      "id": "vEuVY6HorK_m",
      "metadata": {
        "colab": {
          "base_uri": "https://localhost:8080/",
          "height": 557
        },
        "id": "vEuVY6HorK_m",
        "outputId": "76bf29d4-512a-4694-db6b-baf6e5d7ecf0"
      },
      "outputs": [
        {
          "data": {
            "application/vnd.microsoft.datawrangler.viewer.v0+json": {
              "columns": [
                {
                  "name": "index",
                  "rawType": "int64",
                  "type": "integer"
                },
                {
                  "name": "text_combined",
                  "rawType": "object",
                  "type": "string"
                },
                {
                  "name": "found_ingredients",
                  "rawType": "object",
                  "type": "string"
                },
                {
                  "name": "found_skin_concern",
                  "rawType": "object",
                  "type": "unknown"
                },
                {
                  "name": "found_skin_type",
                  "rawType": "object",
                  "type": "unknown"
                },
                {
                  "name": "found_skin_goal",
                  "rawType": "object",
                  "type": "unknown"
                }
              ],
              "ref": "6ed165e5-f5a9-48d4-876c-fc6de254c386",
              "rows": [
                [
                  "0",
                  "sorry aku kurang cocok sama produk ini, karena ini toner yang teksturnya cair jadi kurang ngaruh di kulit kering aku🥲 aku lebih cocok hadalabo gold premium toner karena teksturnya kental jadi super melembabkan kulit kering aku, mungkin ini lebih cocok buat kulit normal atau oily ya (?) description hada labo gokujyun ultimate moisturizing lotion adalah lotion pelembab yang mengandung 3 jenis hyaluronic acid untuk membantu meningkatkan kelembaban pada kulit dan mempertahankan keseimbangan serta kelembaban kulit. lotion ini dapat mengunci kelembaban di dalam kulit sehingga kulit terhidrasi dengan baik. kulit akan terasa lebih halus, lembut dan tetap elastis. mengandung alkohol sebagai astringent yang mengurangi produksi minyak berlebih dan membuat kulit senantiasa terasa lebih segar.how to use:tuangkan lotion secukupnya pada telapak tangan, usapkan ke seluruh wajah dalam keadaan bersih secara merata. tepuk-tepuk kulit wajah dengan lembut, lalu biarkan hingga meresap.suitable for:kulit berminyakingredients:-",
                  "hyaluronic acid",
                  "kulit kering",
                  "kulit normal, kulit kering",
                  "melembabkan"
                ],
                [
                  "1",
                  "dipake buat csm-an enak bgt, teksturnya cair, ngelembabinnya juaraa, buat dry skin pasti suka sih. kalo lagi ada jerawat yg mendem, dipakein ini pake metode csm jd cepet keluar matanya, abis itu pakein acne spot aja deh description hada labo gokujyun ultimate moisturizing lotion adalah lotion pelembab yang mengandung 3 jenis hyaluronic acid untuk membantu meningkatkan kelembaban pada kulit dan mempertahankan keseimbangan serta kelembaban kulit. lotion ini dapat mengunci kelembaban di dalam kulit sehingga kulit terhidrasi dengan baik. kulit akan terasa lebih halus, lembut dan tetap elastis. mengandung alkohol sebagai astringent yang mengurangi produksi minyak berlebih dan membuat kulit senantiasa terasa lebih segar.how to use:tuangkan lotion secukupnya pada telapak tangan, usapkan ke seluruh wajah dalam keadaan bersih secara merata. tepuk-tepuk kulit wajah dengan lembut, lalu biarkan hingga meresap.suitable for:kulit berminyakingredients:-",
                  "hyaluronic acid",
                  "acne, jerawat",
                  "dry skin",
                  null
                ],
                [
                  "2",
                  "luvvvv banget, calming muka kalo lagi rewel, lumayan hemat karena dia thick toner nya jadi make beberapa tetes aja bisa buat semuka, biasanya dipke abis exfo, ngebantu banget kalo lagi kemerahan juga intinya worth to try deh, oh iya klo make ini tuh sehabis cuci muka gausah di lap ya air nya, langsung aja pke toner ini, dia bakal terserap sempurna, semua toner dan moist yang ada kandungan hyaluronic acid juga kyk gitu karena hyaluronic acid itu mengikat air lalu terserap oleh kulit, intinya toner ini sangat amat bagussssss😍😍 description hada labo gokujyun ultimate moisturizing lotion adalah lotion pelembab yang mengandung 3 jenis hyaluronic acid untuk membantu meningkatkan kelembaban pada kulit dan mempertahankan keseimbangan serta kelembaban kulit. lotion ini dapat mengunci kelembaban di dalam kulit sehingga kulit terhidrasi dengan baik. kulit akan terasa lebih halus, lembut dan tetap elastis. mengandung alkohol sebagai astringent yang mengurangi produksi minyak berlebih dan membuat kulit senantiasa terasa lebih segar.how to use:tuangkan lotion secukupnya pada telapak tangan, usapkan ke seluruh wajah dalam keadaan bersih secara merata. tepuk-tepuk kulit wajah dengan lembut, lalu biarkan hingga meresap.suitable for:kulit berminyakingredients:-",
                  "hyaluronic acid",
                  "kemerahan",
                  null,
                  null
                ],
                [
                  "3",
                  "produk ini tu menurut aku cocok nya buat yang kulit kering ya, karna memang buat ngelembabin tuh oke banget, sesuai sama claim nyaa. di kulit aku yang kombi to oily acne prone tu ngerasanya kureng yaa, karna di kulit aku sendiri sih malah bikin tambah becek dan lumayan lama nyerep nya ya. aku saranin sih yang kulitnya kering pake ini aja 👍👍 description hada labo gokujyun ultimate moisturizing lotion adalah lotion pelembab yang mengandung 3 jenis hyaluronic acid untuk membantu meningkatkan kelembaban pada kulit dan mempertahankan keseimbangan serta kelembaban kulit. lotion ini dapat mengunci kelembaban di dalam kulit sehingga kulit terhidrasi dengan baik. kulit akan terasa lebih halus, lembut dan tetap elastis. mengandung alkohol sebagai astringent yang mengurangi produksi minyak berlebih dan membuat kulit senantiasa terasa lebih segar.how to use:tuangkan lotion secukupnya pada telapak tangan, usapkan ke seluruh wajah dalam keadaan bersih secara merata. tepuk-tepuk kulit wajah dengan lembut, lalu biarkan hingga meresap.suitable for:kulit berminyakingredients:-",
                  "hyaluronic acid",
                  "acne, kulit kering",
                  "kulit kering",
                  null
                ],
                [
                  "4",
                  "di aku cukip bantu lembab tapi g kyk yg, woww lembab bgt. tapi emang bagus buat dry skin cari yg murmerkandungan g neko2, cuma 3 jenis haklo untuk sekelas toner lumayan thick kyk esensseklo kemasan ga ada yg gimana bgt di komensangat worth it description hada labo gokujyun ultimate moisturizing lotion adalah lotion pelembab yang mengandung 3 jenis hyaluronic acid untuk membantu meningkatkan kelembaban pada kulit dan mempertahankan keseimbangan serta kelembaban kulit. lotion ini dapat mengunci kelembaban di dalam kulit sehingga kulit terhidrasi dengan baik. kulit akan terasa lebih halus, lembut dan tetap elastis. mengandung alkohol sebagai astringent yang mengurangi produksi minyak berlebih dan membuat kulit senantiasa terasa lebih segar.how to use:tuangkan lotion secukupnya pada telapak tangan, usapkan ke seluruh wajah dalam keadaan bersih secara merata. tepuk-tepuk kulit wajah dengan lembut, lalu biarkan hingga meresap.suitable for:kulit berminyakingredients:-",
                  "hyaluronic acid",
                  null,
                  "dry skin",
                  null
                ],
                [
                  "5",
                  "moisturizer yg ringan dan cepat meresap. pake ini bareng rangkaian fw dan moist milk nya. ga ada efek apapun sih sesuai claimnya aja wajah jd tenang ga neko2. terasa makin sehat dan bersih aja. dipake selang seling sih sama skincare lain dan aman aja. description hada labo gokujyun ultimate moisturizing lotion adalah lotion pelembab yang mengandung 3 jenis hyaluronic acid untuk membantu meningkatkan kelembaban pada kulit dan mempertahankan keseimbangan serta kelembaban kulit. lotion ini dapat mengunci kelembaban di dalam kulit sehingga kulit terhidrasi dengan baik. kulit akan terasa lebih halus, lembut dan tetap elastis. mengandung alkohol sebagai astringent yang mengurangi produksi minyak berlebih dan membuat kulit senantiasa terasa lebih segar.how to use:tuangkan lotion secukupnya pada telapak tangan, usapkan ke seluruh wajah dalam keadaan bersih secara merata. tepuk-tepuk kulit wajah dengan lembut, lalu biarkan hingga meresap.suitable for:kulit berminyakingredients:-",
                  "hyaluronic acid",
                  null,
                  null,
                  null
                ],
                [
                  "6",
                  "awalnya kulitku benar-benar kering & terasa kasar. tapi setelah hari rutin pakai hada labo lotion, hasilnya langsung terasa! even 3 hari langsung keliatan hasilnyaa. teksturnya ringan, cepat menyerap, dan bikin kulit terasa lebih kenyal dan lembap. selain itu, harganya juga terjangkau banget untuk hasil sebagus ini. recommended banget buat yang punya kulit kering! description hada labo gokujyun ultimate moisturizing lotion adalah lotion pelembab yang mengandung 3 jenis hyaluronic acid untuk membantu meningkatkan kelembaban pada kulit dan mempertahankan keseimbangan serta kelembaban kulit. lotion ini dapat mengunci kelembaban di dalam kulit sehingga kulit terhidrasi dengan baik. kulit akan terasa lebih halus, lembut dan tetap elastis. mengandung alkohol sebagai astringent yang mengurangi produksi minyak berlebih dan membuat kulit senantiasa terasa lebih segar.how to use:tuangkan lotion secukupnya pada telapak tangan, usapkan ke seluruh wajah dalam keadaan bersih secara merata. tepuk-tepuk kulit wajah dengan lembut, lalu biarkan hingga meresap.suitable for:kulit berminyakingredients:-",
                  "hyaluronic acid",
                  "kulit kering",
                  "kulit kering",
                  null
                ],
                [
                  "7",
                  "pakai secukupnya agar nyaman setelah pengaplikasian dikulit.lotionnya dipakai sebelum menggunakan varian milknya.tektur lotionnya cair bening.termasuk hydrating toner.tidak mengandung alkohol, parfum dan pewarna.packagingnya botol plastik.mengandung hyaluronic acid. description hada labo gokujyun ultimate moisturizing lotion adalah lotion pelembab yang mengandung 3 jenis hyaluronic acid untuk membantu meningkatkan kelembaban pada kulit dan mempertahankan keseimbangan serta kelembaban kulit. lotion ini dapat mengunci kelembaban di dalam kulit sehingga kulit terhidrasi dengan baik. kulit akan terasa lebih halus, lembut dan tetap elastis. mengandung alkohol sebagai astringent yang mengurangi produksi minyak berlebih dan membuat kulit senantiasa terasa lebih segar.how to use:tuangkan lotion secukupnya pada telapak tangan, usapkan ke seluruh wajah dalam keadaan bersih secara merata. tepuk-tepuk kulit wajah dengan lembut, lalu biarkan hingga meresap.suitable for:kulit berminyakingredients:-",
                  "hyaluronic acid",
                  null,
                  null,
                  null
                ],
                [
                  "8",
                  "uwoooooooooooghhhhhhhhhhhh moisturizer kecintaan yangg udah 8 tahunan kupake aaaaaaaaaaaaaaaaaaaaaaaaaaa,,, dia ringan banget kayak air, dan cepat diserap kulit. kalo buat di ruangan ber-ac tetep perlu reapply berulang ya. but this one's very good! description hada labo gokujyun ultimate moisturizing lotion adalah lotion pelembab yang mengandung 3 jenis hyaluronic acid untuk membantu meningkatkan kelembaban pada kulit dan mempertahankan keseimbangan serta kelembaban kulit. lotion ini dapat mengunci kelembaban di dalam kulit sehingga kulit terhidrasi dengan baik. kulit akan terasa lebih halus, lembut dan tetap elastis. mengandung alkohol sebagai astringent yang mengurangi produksi minyak berlebih dan membuat kulit senantiasa terasa lebih segar.how to use:tuangkan lotion secukupnya pada telapak tangan, usapkan ke seluruh wajah dalam keadaan bersih secara merata. tepuk-tepuk kulit wajah dengan lembut, lalu biarkan hingga meresap.suitable for:kulit berminyakingredients:-",
                  "hyaluronic acid",
                  null,
                  null,
                  null
                ],
                [
                  "9",
                  "beli yang minisize pas yxb. melembabkan parah, bukan yg bikin berminyak tapi lembab parah emang dia. muka jadi kenyal pake ini, akhirnya sampe sekarang pake varian hadalabo walaupun udah bukan yg ini lagi. hadalabo gaada yang gagal sih produknya. suka banget karena aman buat busui dan bumil description hada labo gokujyun ultimate moisturizing lotion adalah lotion pelembab yang mengandung 3 jenis hyaluronic acid untuk membantu meningkatkan kelembaban pada kulit dan mempertahankan keseimbangan serta kelembaban kulit. lotion ini dapat mengunci kelembaban di dalam kulit sehingga kulit terhidrasi dengan baik. kulit akan terasa lebih halus, lembut dan tetap elastis. mengandung alkohol sebagai astringent yang mengurangi produksi minyak berlebih dan membuat kulit senantiasa terasa lebih segar.how to use:tuangkan lotion secukupnya pada telapak tangan, usapkan ke seluruh wajah dalam keadaan bersih secara merata. tepuk-tepuk kulit wajah dengan lembut, lalu biarkan hingga meresap.suitable for:kulit berminyakingredients:-",
                  "hyaluronic acid",
                  null,
                  null,
                  "melembabkan"
                ]
              ],
              "shape": {
                "columns": 5,
                "rows": 10
              }
            },
            "text/html": [
              "<div>\n",
              "<style scoped>\n",
              "    .dataframe tbody tr th:only-of-type {\n",
              "        vertical-align: middle;\n",
              "    }\n",
              "\n",
              "    .dataframe tbody tr th {\n",
              "        vertical-align: top;\n",
              "    }\n",
              "\n",
              "    .dataframe thead th {\n",
              "        text-align: right;\n",
              "    }\n",
              "</style>\n",
              "<table border=\"1\" class=\"dataframe\">\n",
              "  <thead>\n",
              "    <tr style=\"text-align: right;\">\n",
              "      <th></th>\n",
              "      <th>text_combined</th>\n",
              "      <th>found_ingredients</th>\n",
              "      <th>found_skin_concern</th>\n",
              "      <th>found_skin_type</th>\n",
              "      <th>found_skin_goal</th>\n",
              "    </tr>\n",
              "  </thead>\n",
              "  <tbody>\n",
              "    <tr>\n",
              "      <th>0</th>\n",
              "      <td>sorry aku kurang cocok sama produk ini, karena...</td>\n",
              "      <td>hyaluronic acid</td>\n",
              "      <td>kulit kering</td>\n",
              "      <td>kulit normal, kulit kering</td>\n",
              "      <td>melembabkan</td>\n",
              "    </tr>\n",
              "    <tr>\n",
              "      <th>1</th>\n",
              "      <td>dipake buat csm-an enak bgt, teksturnya cair, ...</td>\n",
              "      <td>hyaluronic acid</td>\n",
              "      <td>acne, jerawat</td>\n",
              "      <td>dry skin</td>\n",
              "      <td>None</td>\n",
              "    </tr>\n",
              "    <tr>\n",
              "      <th>2</th>\n",
              "      <td>luvvvv banget, calming muka kalo lagi rewel, l...</td>\n",
              "      <td>hyaluronic acid</td>\n",
              "      <td>kemerahan</td>\n",
              "      <td>None</td>\n",
              "      <td>None</td>\n",
              "    </tr>\n",
              "    <tr>\n",
              "      <th>3</th>\n",
              "      <td>produk ini tu menurut aku cocok nya buat yang ...</td>\n",
              "      <td>hyaluronic acid</td>\n",
              "      <td>acne, kulit kering</td>\n",
              "      <td>kulit kering</td>\n",
              "      <td>None</td>\n",
              "    </tr>\n",
              "    <tr>\n",
              "      <th>4</th>\n",
              "      <td>di aku cukip bantu lembab tapi g kyk yg, woww ...</td>\n",
              "      <td>hyaluronic acid</td>\n",
              "      <td>None</td>\n",
              "      <td>dry skin</td>\n",
              "      <td>None</td>\n",
              "    </tr>\n",
              "    <tr>\n",
              "      <th>5</th>\n",
              "      <td>moisturizer yg ringan dan cepat meresap. pake ...</td>\n",
              "      <td>hyaluronic acid</td>\n",
              "      <td>None</td>\n",
              "      <td>None</td>\n",
              "      <td>None</td>\n",
              "    </tr>\n",
              "    <tr>\n",
              "      <th>6</th>\n",
              "      <td>awalnya kulitku benar-benar kering &amp; terasa ka...</td>\n",
              "      <td>hyaluronic acid</td>\n",
              "      <td>kulit kering</td>\n",
              "      <td>kulit kering</td>\n",
              "      <td>None</td>\n",
              "    </tr>\n",
              "    <tr>\n",
              "      <th>7</th>\n",
              "      <td>pakai secukupnya agar nyaman setelah pengaplik...</td>\n",
              "      <td>hyaluronic acid</td>\n",
              "      <td>None</td>\n",
              "      <td>None</td>\n",
              "      <td>None</td>\n",
              "    </tr>\n",
              "    <tr>\n",
              "      <th>8</th>\n",
              "      <td>uwoooooooooooghhhhhhhhhhhh moisturizer kecinta...</td>\n",
              "      <td>hyaluronic acid</td>\n",
              "      <td>None</td>\n",
              "      <td>None</td>\n",
              "      <td>None</td>\n",
              "    </tr>\n",
              "    <tr>\n",
              "      <th>9</th>\n",
              "      <td>beli yang minisize pas yxb. melembabkan parah,...</td>\n",
              "      <td>hyaluronic acid</td>\n",
              "      <td>None</td>\n",
              "      <td>None</td>\n",
              "      <td>melembabkan</td>\n",
              "    </tr>\n",
              "  </tbody>\n",
              "</table>\n",
              "</div>"
            ],
            "text/plain": [
              "                                       text_combined found_ingredients  \\\n",
              "0  sorry aku kurang cocok sama produk ini, karena...   hyaluronic acid   \n",
              "1  dipake buat csm-an enak bgt, teksturnya cair, ...   hyaluronic acid   \n",
              "2  luvvvv banget, calming muka kalo lagi rewel, l...   hyaluronic acid   \n",
              "3  produk ini tu menurut aku cocok nya buat yang ...   hyaluronic acid   \n",
              "4  di aku cukip bantu lembab tapi g kyk yg, woww ...   hyaluronic acid   \n",
              "5  moisturizer yg ringan dan cepat meresap. pake ...   hyaluronic acid   \n",
              "6  awalnya kulitku benar-benar kering & terasa ka...   hyaluronic acid   \n",
              "7  pakai secukupnya agar nyaman setelah pengaplik...   hyaluronic acid   \n",
              "8  uwoooooooooooghhhhhhhhhhhh moisturizer kecinta...   hyaluronic acid   \n",
              "9  beli yang minisize pas yxb. melembabkan parah,...   hyaluronic acid   \n",
              "\n",
              "   found_skin_concern             found_skin_type found_skin_goal  \n",
              "0        kulit kering  kulit normal, kulit kering     melembabkan  \n",
              "1       acne, jerawat                    dry skin            None  \n",
              "2           kemerahan                        None            None  \n",
              "3  acne, kulit kering                kulit kering            None  \n",
              "4                None                    dry skin            None  \n",
              "5                None                        None            None  \n",
              "6        kulit kering                kulit kering            None  \n",
              "7                None                        None            None  \n",
              "8                None                        None            None  \n",
              "9                None                        None     melembabkan  "
            ]
          },
          "execution_count": 24,
          "metadata": {},
          "output_type": "execute_result"
        }
      ],
      "source": [
        "import re\n",
        "\n",
        "# Kata kunci dari user\n",
        "ingredients_keywords = [\n",
        "    'niacinamide', 'asam salisilat', 'salicylic acid', 'retinol', 'vitamin c',\n",
        "    'asam hialuronat', 'hyaluronic acid', 'ceramide', 'asam azelaic', 'azelaic acid',\n",
        "    'aha', 'bha', 'zinc', 'teh hijau', 'green tea', 'peptida', 'peptides',\n",
        "    'gliserin', 'glycerin', 'squalane', 'panthenol', 'allantoin'\n",
        "]\n",
        "\n",
        "skin_concern_keywords = [\n",
        "    'jerawat', 'acne', 'flek hitam', 'dark spots', 'hiperpigmentasi', 'hyperpigmentation',\n",
        "    'kerutan', 'wrinkles', 'kemerahan', 'redness', 'kulit berminyak', 'oiliness',\n",
        "    'kulit kering', 'dryness', 'pori-pori', 'pores', 'tekstur tidak merata',\n",
        "    'uneven texture', 'garis halus', 'fine lines'\n",
        "]\n",
        "\n",
        "skin_type_keywords = [\n",
        "    'kulit berminyak', 'oily skin',\n",
        "    'kulit kering', 'dry skin',\n",
        "    'kulit kombinasi', 'combination skin',\n",
        "    'kulit normal', 'normal skin',\n",
        "    'kulit sensitif', 'sensitive skin'\n",
        "]\n",
        "\n",
        "skin_goal_keywords = [\n",
        "    'kulit cerah', 'mencerahkan', 'brighten', 'bright skin',\n",
        "    'kulit glowing', 'bercahaya', 'glowing skin', 'radiant',\n",
        "    'kulit kenyal', 'mengenyalkan kulit', 'plump skin', 'plumping',\n",
        "    'kulit lembab', 'kulit lembap', 'melembapkan', 'melembabkan','menghidrasi', 'moisturize', 'hydrate',\n",
        "    'mengencangkan kulit', 'firming skin',\n",
        "    'menghaluskan kulit', 'kulit halus', 'smooth skin',\n",
        "    'meratakan warna kulit', 'warna kulit merata', 'even skin tone',\n",
        "    'anti-penuaan', 'mencegah penuaan', 'anti-aging', 'prevent aging',\n",
        "    'memperbaiki skin barrier', 'memperkuat skin barrier', 'repair skin barrier', 'strengthen skin barrier',\n",
        "    'mengontrol minyak', 'mengkontrol minyak', 'mengurangi minyak', 'oil control', 'reduce oil',\n",
        "    'mengecilkan pori', 'pori-pori tampak kecil', 'minimize pores', 'refined pores',\n",
        "    'menyamarkan bekas jerawat', 'memudarkan bekas jerawat', 'fade acne scars', 'fade acne marks',\n",
        "    'kulit segar', 'menyegarkan kulit', 'fresh skin', 'refreshing skin',\n",
        "    'mempercepat regenerasi kulit', 'membantu regenerasi','regenerasi kulit', 'skin regeneration',\n",
        "    'kulit sehat', 'healthy skin',\n",
        "    'menutrisi kulit', 'nourish skin'\n",
        "]\n",
        "\n",
        "# Gabungkan kolom review dan description (tangani NaN)\n",
        "df_extracted['text_combined'] = (df_extracted['review'].fillna('') + ' ' + df_extracted['description'].fillna('')).str.lower()\n",
        "\n",
        "# Fungsi untuk ekstraksi fitur berdasarkan kata kunci\n",
        "def extract_keywords(text, keywords):\n",
        "    found = set()\n",
        "    for keyword in keywords:\n",
        "        if re.search(r'\\b' + re.escape(keyword) + r'\\b', text):\n",
        "            found.add(keyword)\n",
        "    return ', '.join(found) if found else None\n",
        "\n",
        "# Ekstraksi fitur\n",
        "df_extracted['found_ingredients'] = df_extracted['text_combined'].apply(lambda x: extract_keywords(x, ingredients_keywords))\n",
        "df_extracted['found_skin_concern'] = df_extracted['text_combined'].apply(lambda x: extract_keywords(x, skin_concern_keywords))\n",
        "df_extracted['found_skin_type'] = df_extracted['text_combined'].apply(lambda x: extract_keywords(x, skin_type_keywords))\n",
        "df_extracted['found_skin_goal'] = df_extracted['text_combined'].apply(lambda x: extract_keywords(x, skin_goal_keywords))\n",
        "\n",
        "# Tampilkan hasil contoh\n",
        "df_extracted[['text_combined', 'found_ingredients', 'found_skin_concern', 'found_skin_type','found_skin_goal']].head(10)\n"
      ]
    },
    {
      "cell_type": "code",
      "execution_count": 25,
      "id": "FpHifOvLr-7n",
      "metadata": {
        "colab": {
          "base_uri": "https://localhost:8080/"
        },
        "id": "FpHifOvLr-7n",
        "outputId": "39fdc97a-5191-4d19-be67-e6a9a5109d4c"
      },
      "outputs": [
        {
          "name": "stdout",
          "output_type": "stream",
          "text": [
            "<class 'pandas.core.frame.DataFrame'>\n",
            "RangeIndex: 33844 entries, 0 to 33843\n",
            "Data columns (total 17 columns):\n",
            " #   Column              Non-Null Count  Dtype  \n",
            "---  ------              --------------  -----  \n",
            " 0   url                 33844 non-null  object \n",
            " 1   product_name        33844 non-null  object \n",
            " 2   brand               33844 non-null  object \n",
            " 3   category            33844 non-null  object \n",
            " 4   price               28541 non-null  object \n",
            " 5   rating              33844 non-null  float64\n",
            " 6   total_reviews       33844 non-null  int64  \n",
            " 7   description         31398 non-null  object \n",
            " 8   review              33051 non-null  object \n",
            " 9   skin_type           31777 non-null  object \n",
            " 10  age                 33027 non-null  object \n",
            " 11  rating_star         33051 non-null  object \n",
            " 12  text_combined       33844 non-null  object \n",
            " 13  found_ingredients   18920 non-null  object \n",
            " 14  found_skin_concern  18013 non-null  object \n",
            " 15  found_skin_type     9997 non-null   object \n",
            " 16  found_skin_goal     17695 non-null  object \n",
            "dtypes: float64(1), int64(1), object(15)\n",
            "memory usage: 4.4+ MB\n"
          ]
        }
      ],
      "source": [
        "df_extracted.info()"
      ]
    },
    {
      "cell_type": "code",
      "execution_count": 26,
      "id": "Zkz0ZsO8tw0W",
      "metadata": {
        "colab": {
          "base_uri": "https://localhost:8080/"
        },
        "id": "Zkz0ZsO8tw0W",
        "outputId": "f61c6a82-1679-4b18-c8bc-24895442ad46"
      },
      "outputs": [
        {
          "name": "stdout",
          "output_type": "stream",
          "text": [
            "              found_skin_type std_skin_type  found_skin_concern  \\\n",
            "0  kulit normal, kulit kering   dry, normal        kulit kering   \n",
            "1                    dry skin           dry       acne, jerawat   \n",
            "2                        None          None           kemerahan   \n",
            "3                kulit kering           dry  acne, kulit kering   \n",
            "4                    dry skin           dry                None   \n",
            "\n",
            "  std_skin_concern found_ingredients  std_ingredients found_skin_goal  \\\n",
            "0          dryness   hyaluronic acid  hyaluronic acid     melembabkan   \n",
            "1             acne   hyaluronic acid  hyaluronic acid            None   \n",
            "2          redness   hyaluronic acid  hyaluronic acid            None   \n",
            "3    acne, dryness   hyaluronic acid  hyaluronic acid            None   \n",
            "4             None   hyaluronic acid  hyaluronic acid            None   \n",
            "\n",
            "  std_skin_goal  \n",
            "0     hydrating  \n",
            "1          None  \n",
            "2          None  \n",
            "3          None  \n",
            "4          None  \n"
          ]
        }
      ],
      "source": [
        "df_std = df_extracted.copy()\n",
        "\n",
        "# Peta sinonim ke bentuk standar\n",
        "skin_type_synonyms = {\n",
        "    'kulit berminyak': 'oily',\n",
        "    'oily skin': 'oily',\n",
        "    'kulit kering': 'dry',\n",
        "    'dry skin': 'dry',\n",
        "    'kulit kombinasi': 'combination',\n",
        "    'combination skin': 'combination',\n",
        "    'kulit normal': 'normal',\n",
        "    'normal skin': 'normal',\n",
        "    'kulit sensitif': 'sensitive',\n",
        "    'sensitive skin': 'sensitive'\n",
        "}\n",
        "\n",
        "skin_concern_synonyms = {\n",
        "    'jerawat': 'acne',\n",
        "    'acne': 'acne',\n",
        "    'flek hitam': 'dark spots',\n",
        "    'dark spots': 'dark spots',\n",
        "    'hiperpigmentasi': 'hyperpigmentation',\n",
        "    'hyperpigmentation': 'hyperpigmentation',\n",
        "    'kerutan': 'wrinkles',\n",
        "    'wrinkles': 'wrinkles',\n",
        "    'kemerahan': 'redness',\n",
        "    'redness': 'redness',\n",
        "    'kulit berminyak': 'oiliness',\n",
        "    'oiliness': 'oiliness',\n",
        "    'kulit kering': 'dryness',\n",
        "    'dryness': 'dryness',\n",
        "    'pori-pori': 'pores',\n",
        "    'pores': 'pores',\n",
        "    'tekstur tidak merata': 'uneven texture',\n",
        "    'uneven texture': 'uneven texture',\n",
        "    'garis halus': 'fine lines',\n",
        "    'fine lines': 'fine lines'\n",
        "}\n",
        "\n",
        "ingredient_synonyms = {\n",
        "    'salicylic acid': 'salicylic acid',\n",
        "    'asam salisilat': 'salicylic acid',\n",
        "    'hyaluronic acid': 'hyaluronic acid',\n",
        "    'asam hialuronat': 'hyaluronic acid',\n",
        "    'azelaic acid': 'azelaic acid',\n",
        "    'asam azelaic': 'azelaic acid',\n",
        "    'green tea': 'green tea',\n",
        "    'teh hijau': 'green tea',\n",
        "    'peptides': 'peptides',\n",
        "    'peptida': 'peptides',\n",
        "    'glycerin': 'glycerin',\n",
        "    'gliserin': 'glycerin'\n",
        "}\n",
        "\n",
        "skin_goal_synonyms = {\n",
        "    # brightening\n",
        "    'kulit cerah': 'brightening',\n",
        "    'mencerahkan': 'brightening',\n",
        "    'brighten': 'brightening',\n",
        "    'bright skin': 'brightening',\n",
        "\n",
        "    # glowing\n",
        "    'kulit glowing': 'glowing',\n",
        "    'bercahaya': 'glowing',\n",
        "    'glowing skin': 'glowing',\n",
        "    'radiant': 'glowing',\n",
        "\n",
        "    # plumping\n",
        "    'kulit kenyal': 'plumping',\n",
        "    'mengenyalkan kulit': 'plumping',\n",
        "    'plump skin': 'plumping',\n",
        "    'plumping': 'plumping',\n",
        "\n",
        "    # hydrating\n",
        "    'kulit lembab':'hydrating',\n",
        "    'kulit lembap':'hydrating',\n",
        "    'melembabkan':'hydrating',\n",
        "    'melembapkan': 'hydrating',\n",
        "    'menghidrasi': 'hydrating',\n",
        "    'moisturize': 'hydrating',\n",
        "    'hydrate': 'hydrating',\n",
        "\n",
        "    # firming\n",
        "    'mengencangkan kulit': 'firming',\n",
        "    'firming skin': 'firming',\n",
        "\n",
        "    # smoothing\n",
        "    'menghaluskan kulit': 'smoothing',\n",
        "    'kulit halus': 'smoothing',\n",
        "    'smooth skin': 'smoothing',\n",
        "\n",
        "    # tone-evening\n",
        "    'meratakan warna kulit': 'tone-evening',\n",
        "    'warna kulit merata': 'tone-evening',\n",
        "    'even skin tone': 'tone-evening',\n",
        "\n",
        "    # anti-aging\n",
        "    'anti-penuaan': 'anti-aging',\n",
        "    'mencegah penuaan': 'anti-aging',\n",
        "    'anti-aging': 'anti-aging',\n",
        "    'prevent aging': 'anti-aging',\n",
        "\n",
        "    # barrier-repair\n",
        "    'memperbaiki skin barrier': 'barrier-repair',\n",
        "    'memperkuat skin barrier': 'barrier-repair',\n",
        "    'repair skin barrier': 'barrier-repair',\n",
        "    'strengthen skin barrier': 'barrier-repair',\n",
        "\n",
        "    # oil-control\n",
        "    'mengontrol minyak': 'oil-control',\n",
        "    'mengkontrol minyak': 'oil-control',\n",
        "    'mengurangi minyak': 'oil-control',\n",
        "    'oil control': 'oil-control',\n",
        "    'reduce oil': 'oil-control',\n",
        "\n",
        "    # pore-minimizing\n",
        "    'mengecilkan pori': 'pore-minimizing',\n",
        "    'pori-pori tampak kecil': 'pore-minimizing',\n",
        "    'minimize pores': 'pore-minimizing',\n",
        "    'refined pores': 'pore-minimizing',\n",
        "\n",
        "    # scar-fading\n",
        "    'menyamarkan bekas jerawat': 'scar-fading',\n",
        "    'memudarkan bekas jerawat': 'scar-fading',\n",
        "    'fade acne scars': 'scar-fading',\n",
        "    'fade acne marks': 'scar-fading',\n",
        "\n",
        "    # refreshing\n",
        "    'kulit segar': 'refreshing',\n",
        "    'menyegarkan kulit': 'refreshing',\n",
        "    'fresh skin': 'refreshing',\n",
        "    'refreshing skin': 'refreshing',\n",
        "\n",
        "    # regenerating\n",
        "    'mempercepat regenerasi kulit': 'regenerating',\n",
        "    'skin regeneration': 'regenerating',\n",
        "    'membantu regenerasi':'regenerating',\n",
        "    'regenerasi kulit':'regenerating',\n",
        "\n",
        "    # healthy\n",
        "    'kulit sehat': 'healthy',\n",
        "    'healthy skin': 'healthy',\n",
        "\n",
        "    # nourishing\n",
        "    'menutrisi kulit': 'nourishing',\n",
        "    'nourish skin': 'nourishing'\n",
        "}\n",
        "\n",
        "# Fungsi untuk standarisasi kata kunci\n",
        "def standardize_keywords(found_text, synonym_map):\n",
        "    if pd.isna(found_text):\n",
        "        return None\n",
        "    keywords = [kw.strip() for kw in found_text.split(',')]\n",
        "    standardized = set()\n",
        "    for kw in keywords:\n",
        "        if kw in synonym_map:\n",
        "            standardized.add(synonym_map[kw])\n",
        "        else:\n",
        "            standardized.add(kw)  # kata kunci yang tidak dikenali tetap dipakai\n",
        "    return ', '.join(sorted(standardized))\n",
        "\n",
        "# Terapkan pada DataFrame kamu\n",
        "df_std['std_skin_type'] = df_std['found_skin_type'].apply(lambda x: standardize_keywords(x, skin_type_synonyms))\n",
        "df_std['std_skin_concern'] = df_std['found_skin_concern'].apply(lambda x: standardize_keywords(x, skin_concern_synonyms))\n",
        "df_std['std_ingredients'] = df_std['found_ingredients'].apply(lambda x: standardize_keywords(x, ingredient_synonyms))\n",
        "df_std['std_skin_goal'] = df_std['found_skin_goal'].apply(lambda x: standardize_keywords(x, skin_goal_synonyms))\n",
        "\n",
        "# Contoh hasil\n",
        "print(df_std[['found_skin_type', 'std_skin_type', 'found_skin_concern', 'std_skin_concern', 'found_ingredients', 'std_ingredients','found_skin_goal','std_skin_goal']].head())\n"
      ]
    },
    {
      "cell_type": "code",
      "execution_count": 27,
      "id": "iOgOHYcAx02K",
      "metadata": {
        "colab": {
          "base_uri": "https://localhost:8080/"
        },
        "id": "iOgOHYcAx02K",
        "outputId": "f5ad3cfd-965c-4416-dff4-a69dcb018a80"
      },
      "outputs": [
        {
          "name": "stdout",
          "output_type": "stream",
          "text": [
            "<class 'pandas.core.frame.DataFrame'>\n",
            "RangeIndex: 33844 entries, 0 to 33843\n",
            "Data columns (total 21 columns):\n",
            " #   Column              Non-Null Count  Dtype  \n",
            "---  ------              --------------  -----  \n",
            " 0   url                 33844 non-null  object \n",
            " 1   product_name        33844 non-null  object \n",
            " 2   brand               33844 non-null  object \n",
            " 3   category            33844 non-null  object \n",
            " 4   price               28541 non-null  object \n",
            " 5   rating              33844 non-null  float64\n",
            " 6   total_reviews       33844 non-null  int64  \n",
            " 7   description         31398 non-null  object \n",
            " 8   review              33051 non-null  object \n",
            " 9   skin_type           31777 non-null  object \n",
            " 10  age                 33027 non-null  object \n",
            " 11  rating_star         33051 non-null  object \n",
            " 12  text_combined       33844 non-null  object \n",
            " 13  found_ingredients   18920 non-null  object \n",
            " 14  found_skin_concern  18013 non-null  object \n",
            " 15  found_skin_type     9997 non-null   object \n",
            " 16  found_skin_goal     17695 non-null  object \n",
            " 17  std_skin_type       9997 non-null   object \n",
            " 18  std_skin_concern    18013 non-null  object \n",
            " 19  std_ingredients     18920 non-null  object \n",
            " 20  std_skin_goal       17695 non-null  object \n",
            "dtypes: float64(1), int64(1), object(19)\n",
            "memory usage: 5.4+ MB\n"
          ]
        }
      ],
      "source": [
        "df_std.info()"
      ]
    },
    {
      "cell_type": "code",
      "execution_count": 28,
      "id": "Twanl_pK0kIB",
      "metadata": {
        "id": "Twanl_pK0kIB"
      },
      "outputs": [],
      "source": [
        "df_std.to_csv(\"../data/products_extracted_features.csv\", index=False)"
      ]
    }
  ],
  "metadata": {
    "colab": {
      "provenance": []
    },
    "kernelspec": {
      "display_name": "Python 3",
      "language": "python",
      "name": "python3"
    },
    "language_info": {
      "codemirror_mode": {
        "name": "ipython",
        "version": 3
      },
      "file_extension": ".py",
      "mimetype": "text/x-python",
      "name": "python",
      "nbconvert_exporter": "python",
      "pygments_lexer": "ipython3",
      "version": "3.11.0"
    }
  },
  "nbformat": 4,
  "nbformat_minor": 5
}
