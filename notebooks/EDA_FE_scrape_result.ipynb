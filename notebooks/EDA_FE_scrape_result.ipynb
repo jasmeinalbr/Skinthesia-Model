{
  "cells": [
    {
      "cell_type": "code",
      "execution_count": 1,
      "id": "fd6bdbe4",
      "metadata": {
        "id": "fd6bdbe4"
      },
      "outputs": [],
      "source": [
        "# Import necessary libraries\n",
        "import os\n",
        "import numpy as np\n",
        "import pandas as pd\n",
        "import seaborn as sns\n",
        "import matplotlib.pyplot as plt"
      ]
    },
    {
      "cell_type": "code",
      "execution_count": 3,
      "id": "125c29cb",
      "metadata": {
        "id": "125c29cb"
      },
      "outputs": [],
      "source": [
        "# Load the dataset\n",
        "products_list = pd.read_csv('../data/products_list.csv')\n",
        "products_details = pd.read_csv('../data/products_detail.csv')\n",
        "reviews = pd.read_csv('../data/reviews.csv')"
      ]
    },
    {
      "cell_type": "markdown",
      "id": "97bfc22d",
      "metadata": {
        "id": "97bfc22d"
      },
      "source": [
        "## Products List"
      ]
    },
    {
      "cell_type": "code",
      "execution_count": null,
      "id": "b04df04f",
      "metadata": {
        "colab": {
          "base_uri": "https://localhost:8080/",
          "height": 452
        },
        "id": "b04df04f",
        "outputId": "9baec339-faa9-4ee1-8fbc-b0d847b35327"
      },
      "outputs": [
        {
          "data": {
            "application/vnd.google.colaboratory.intrinsic+json": {
              "summary": "{\n  \"name\": \"products_list\",\n  \"rows\": 1000,\n  \"fields\": [\n    {\n      \"column\": \"name\",\n      \"properties\": {\n        \"dtype\": \"string\",\n        \"num_unique_values\": 881,\n        \"samples\": [\n          \"Miracle Oil Serum\",\n          \"Milk and Honey Gold Smoothing Sugar Scrub\",\n          \"Soon Jung 10-free Moist Emulsion\"\n        ],\n        \"semantic_type\": \"\",\n        \"description\": \"\"\n      }\n    },\n    {\n      \"column\": \"brand\",\n      \"properties\": {\n        \"dtype\": \"category\",\n        \"num_unique_values\": 258,\n        \"samples\": [\n          \"Sensatia Botanicals\",\n          \"Glowinc Potion\",\n          \"Whitelab\"\n        ],\n        \"semantic_type\": \"\",\n        \"description\": \"\"\n      }\n    },\n    {\n      \"column\": \"image\",\n      \"properties\": {\n        \"dtype\": \"string\",\n        \"num_unique_values\": 921,\n        \"samples\": [\n          \"https://image.femaledaily.com/dyn/210/images/prod-pics/product_1581047643_HYAluronic_800x800.jpg\",\n          \"https://image.femaledaily.com/dyn/210/images/prod-pics/product_1674199011_D_I_S_C_O__800x800.png\",\n          \"https://image.femaledaily.com/dyn/210/images/prod-pics/product_1519965441_Laneige_Wh_800x800.jpg\"\n        ],\n        \"semantic_type\": \"\",\n        \"description\": \"\"\n      }\n    },\n    {\n      \"column\": \"url\",\n      \"properties\": {\n        \"dtype\": \"string\",\n        \"num_unique_values\": 991,\n        \"samples\": [\n          \"https://reviews.femaledaily.com/products/cleanser/scrub-exfoliator/erha-acneact/acne-cleanser-scrub-beta-plus-67\",\n          \"https://reviews.femaledaily.com/products/treatment/serum-essence/avoskin/miraculous-retinol-ampoule\",\n          \"https://reviews.femaledaily.com/products/moisturizer/lotion-emulsion/hada-labo/gokujyun-ultimate-moisturizing-milk\"\n        ],\n        \"semantic_type\": \"\",\n        \"description\": \"\"\n      }\n    },\n    {\n      \"column\": \"rating\",\n      \"properties\": {\n        \"dtype\": \"number\",\n        \"std\": 0.4103425654511372,\n        \"min\": 2.7,\n        \"max\": 5.0,\n        \"num_unique_values\": 44,\n        \"samples\": [\n          3.08,\n          3.27,\n          4.14\n        ],\n        \"semantic_type\": \"\",\n        \"description\": \"\"\n      }\n    },\n    {\n      \"column\": \"total_reviews\",\n      \"properties\": {\n        \"dtype\": \"number\",\n        \"std\": 1257,\n        \"min\": 11,\n        \"max\": 15590,\n        \"num_unique_values\": 679,\n        \"samples\": [\n          186,\n          600,\n          371\n        ],\n        \"semantic_type\": \"\",\n        \"description\": \"\"\n      }\n    },\n    {\n      \"column\": \"category\",\n      \"properties\": {\n        \"dtype\": \"category\",\n        \"num_unique_values\": 10,\n        \"samples\": [\n          \"Moisturizer / Cream\",\n          \"Cleanser / Facial Wash\",\n          \"Moisturizer / Lotion & Emulsion\"\n        ],\n        \"semantic_type\": \"\",\n        \"description\": \"\"\n      }\n    }\n  ]\n}",
              "type": "dataframe",
              "variable_name": "products_list"
            },
            "text/html": [
              "\n",
              "  <div id=\"df-395260c7-b44a-45d7-bea9-e49af1ec9067\" class=\"colab-df-container\">\n",
              "    <div>\n",
              "<style scoped>\n",
              "    .dataframe tbody tr th:only-of-type {\n",
              "        vertical-align: middle;\n",
              "    }\n",
              "\n",
              "    .dataframe tbody tr th {\n",
              "        vertical-align: top;\n",
              "    }\n",
              "\n",
              "    .dataframe thead th {\n",
              "        text-align: right;\n",
              "    }\n",
              "</style>\n",
              "<table border=\"1\" class=\"dataframe\">\n",
              "  <thead>\n",
              "    <tr style=\"text-align: right;\">\n",
              "      <th></th>\n",
              "      <th>name</th>\n",
              "      <th>brand</th>\n",
              "      <th>image</th>\n",
              "      <th>url</th>\n",
              "      <th>rating</th>\n",
              "      <th>total_reviews</th>\n",
              "      <th>category</th>\n",
              "    </tr>\n",
              "  </thead>\n",
              "  <tbody>\n",
              "    <tr>\n",
              "      <th>0</th>\n",
              "      <td>Gokujyun Ultimate Moisturizing Lotion</td>\n",
              "      <td>Hada Labo</td>\n",
              "      <td>https://image.femaledaily.com/dyn/210/images/p...</td>\n",
              "      <td>https://reviews.femaledaily.com/products/clean...</td>\n",
              "      <td>4.4</td>\n",
              "      <td>5928</td>\n",
              "      <td>Cleanser / Toner</td>\n",
              "    </tr>\n",
              "    <tr>\n",
              "      <th>1</th>\n",
              "      <td>AHA BHA PHA 30 Days Miracle Toner</td>\n",
              "      <td>Some by Mi</td>\n",
              "      <td>https://image.femaledaily.com/dyn/210/images/p...</td>\n",
              "      <td>https://reviews.femaledaily.com/products/clean...</td>\n",
              "      <td>3.6</td>\n",
              "      <td>5139</td>\n",
              "      <td>Cleanser / Toner</td>\n",
              "    </tr>\n",
              "    <tr>\n",
              "      <th>2</th>\n",
              "      <td>Air Mawar</td>\n",
              "      <td>Viva Cosmetics</td>\n",
              "      <td>https://image.femaledaily.com/dyn/210/images/p...</td>\n",
              "      <td>https://reviews.femaledaily.com/products/clean...</td>\n",
              "      <td>4.1</td>\n",
              "      <td>5116</td>\n",
              "      <td>Cleanser / Toner</td>\n",
              "    </tr>\n",
              "    <tr>\n",
              "      <th>3</th>\n",
              "      <td>AHA/BHA Clarifying Treatment Toner</td>\n",
              "      <td>Cosrx</td>\n",
              "      <td>https://image.femaledaily.com/dyn/210/images/p...</td>\n",
              "      <td>https://reviews.femaledaily.com/products/clean...</td>\n",
              "      <td>4.0</td>\n",
              "      <td>4503</td>\n",
              "      <td>Cleanser / Toner</td>\n",
              "    </tr>\n",
              "    <tr>\n",
              "      <th>4</th>\n",
              "      <td>Miraculous Refining Toner</td>\n",
              "      <td>AVOSKIN</td>\n",
              "      <td>https://image.femaledaily.com/dyn/210/images/p...</td>\n",
              "      <td>https://reviews.femaledaily.com/products/clean...</td>\n",
              "      <td>4.5</td>\n",
              "      <td>4298</td>\n",
              "      <td>Cleanser / Toner</td>\n",
              "    </tr>\n",
              "  </tbody>\n",
              "</table>\n",
              "</div>\n",
              "    <div class=\"colab-df-buttons\">\n",
              "\n",
              "  <div class=\"colab-df-container\">\n",
              "    <button class=\"colab-df-convert\" onclick=\"convertToInteractive('df-395260c7-b44a-45d7-bea9-e49af1ec9067')\"\n",
              "            title=\"Convert this dataframe to an interactive table.\"\n",
              "            style=\"display:none;\">\n",
              "\n",
              "  <svg xmlns=\"http://www.w3.org/2000/svg\" height=\"24px\" viewBox=\"0 -960 960 960\">\n",
              "    <path d=\"M120-120v-720h720v720H120Zm60-500h600v-160H180v160Zm220 220h160v-160H400v160Zm0 220h160v-160H400v160ZM180-400h160v-160H180v160Zm440 0h160v-160H620v160ZM180-180h160v-160H180v160Zm440 0h160v-160H620v160Z\"/>\n",
              "  </svg>\n",
              "    </button>\n",
              "\n",
              "  <style>\n",
              "    .colab-df-container {\n",
              "      display:flex;\n",
              "      gap: 12px;\n",
              "    }\n",
              "\n",
              "    .colab-df-convert {\n",
              "      background-color: #E8F0FE;\n",
              "      border: none;\n",
              "      border-radius: 50%;\n",
              "      cursor: pointer;\n",
              "      display: none;\n",
              "      fill: #1967D2;\n",
              "      height: 32px;\n",
              "      padding: 0 0 0 0;\n",
              "      width: 32px;\n",
              "    }\n",
              "\n",
              "    .colab-df-convert:hover {\n",
              "      background-color: #E2EBFA;\n",
              "      box-shadow: 0px 1px 2px rgba(60, 64, 67, 0.3), 0px 1px 3px 1px rgba(60, 64, 67, 0.15);\n",
              "      fill: #174EA6;\n",
              "    }\n",
              "\n",
              "    .colab-df-buttons div {\n",
              "      margin-bottom: 4px;\n",
              "    }\n",
              "\n",
              "    [theme=dark] .colab-df-convert {\n",
              "      background-color: #3B4455;\n",
              "      fill: #D2E3FC;\n",
              "    }\n",
              "\n",
              "    [theme=dark] .colab-df-convert:hover {\n",
              "      background-color: #434B5C;\n",
              "      box-shadow: 0px 1px 3px 1px rgba(0, 0, 0, 0.15);\n",
              "      filter: drop-shadow(0px 1px 2px rgba(0, 0, 0, 0.3));\n",
              "      fill: #FFFFFF;\n",
              "    }\n",
              "  </style>\n",
              "\n",
              "    <script>\n",
              "      const buttonEl =\n",
              "        document.querySelector('#df-395260c7-b44a-45d7-bea9-e49af1ec9067 button.colab-df-convert');\n",
              "      buttonEl.style.display =\n",
              "        google.colab.kernel.accessAllowed ? 'block' : 'none';\n",
              "\n",
              "      async function convertToInteractive(key) {\n",
              "        const element = document.querySelector('#df-395260c7-b44a-45d7-bea9-e49af1ec9067');\n",
              "        const dataTable =\n",
              "          await google.colab.kernel.invokeFunction('convertToInteractive',\n",
              "                                                    [key], {});\n",
              "        if (!dataTable) return;\n",
              "\n",
              "        const docLinkHtml = 'Like what you see? Visit the ' +\n",
              "          '<a target=\"_blank\" href=https://colab.research.google.com/notebooks/data_table.ipynb>data table notebook</a>'\n",
              "          + ' to learn more about interactive tables.';\n",
              "        element.innerHTML = '';\n",
              "        dataTable['output_type'] = 'display_data';\n",
              "        await google.colab.output.renderOutput(dataTable, element);\n",
              "        const docLink = document.createElement('div');\n",
              "        docLink.innerHTML = docLinkHtml;\n",
              "        element.appendChild(docLink);\n",
              "      }\n",
              "    </script>\n",
              "  </div>\n",
              "\n",
              "\n",
              "    <div id=\"df-737ce9bc-b965-468f-94c6-b078f54e48cd\">\n",
              "      <button class=\"colab-df-quickchart\" onclick=\"quickchart('df-737ce9bc-b965-468f-94c6-b078f54e48cd')\"\n",
              "                title=\"Suggest charts\"\n",
              "                style=\"display:none;\">\n",
              "\n",
              "<svg xmlns=\"http://www.w3.org/2000/svg\" height=\"24px\"viewBox=\"0 0 24 24\"\n",
              "     width=\"24px\">\n",
              "    <g>\n",
              "        <path d=\"M19 3H5c-1.1 0-2 .9-2 2v14c0 1.1.9 2 2 2h14c1.1 0 2-.9 2-2V5c0-1.1-.9-2-2-2zM9 17H7v-7h2v7zm4 0h-2V7h2v10zm4 0h-2v-4h2v4z\"/>\n",
              "    </g>\n",
              "</svg>\n",
              "      </button>\n",
              "\n",
              "<style>\n",
              "  .colab-df-quickchart {\n",
              "      --bg-color: #E8F0FE;\n",
              "      --fill-color: #1967D2;\n",
              "      --hover-bg-color: #E2EBFA;\n",
              "      --hover-fill-color: #174EA6;\n",
              "      --disabled-fill-color: #AAA;\n",
              "      --disabled-bg-color: #DDD;\n",
              "  }\n",
              "\n",
              "  [theme=dark] .colab-df-quickchart {\n",
              "      --bg-color: #3B4455;\n",
              "      --fill-color: #D2E3FC;\n",
              "      --hover-bg-color: #434B5C;\n",
              "      --hover-fill-color: #FFFFFF;\n",
              "      --disabled-bg-color: #3B4455;\n",
              "      --disabled-fill-color: #666;\n",
              "  }\n",
              "\n",
              "  .colab-df-quickchart {\n",
              "    background-color: var(--bg-color);\n",
              "    border: none;\n",
              "    border-radius: 50%;\n",
              "    cursor: pointer;\n",
              "    display: none;\n",
              "    fill: var(--fill-color);\n",
              "    height: 32px;\n",
              "    padding: 0;\n",
              "    width: 32px;\n",
              "  }\n",
              "\n",
              "  .colab-df-quickchart:hover {\n",
              "    background-color: var(--hover-bg-color);\n",
              "    box-shadow: 0 1px 2px rgba(60, 64, 67, 0.3), 0 1px 3px 1px rgba(60, 64, 67, 0.15);\n",
              "    fill: var(--button-hover-fill-color);\n",
              "  }\n",
              "\n",
              "  .colab-df-quickchart-complete:disabled,\n",
              "  .colab-df-quickchart-complete:disabled:hover {\n",
              "    background-color: var(--disabled-bg-color);\n",
              "    fill: var(--disabled-fill-color);\n",
              "    box-shadow: none;\n",
              "  }\n",
              "\n",
              "  .colab-df-spinner {\n",
              "    border: 2px solid var(--fill-color);\n",
              "    border-color: transparent;\n",
              "    border-bottom-color: var(--fill-color);\n",
              "    animation:\n",
              "      spin 1s steps(1) infinite;\n",
              "  }\n",
              "\n",
              "  @keyframes spin {\n",
              "    0% {\n",
              "      border-color: transparent;\n",
              "      border-bottom-color: var(--fill-color);\n",
              "      border-left-color: var(--fill-color);\n",
              "    }\n",
              "    20% {\n",
              "      border-color: transparent;\n",
              "      border-left-color: var(--fill-color);\n",
              "      border-top-color: var(--fill-color);\n",
              "    }\n",
              "    30% {\n",
              "      border-color: transparent;\n",
              "      border-left-color: var(--fill-color);\n",
              "      border-top-color: var(--fill-color);\n",
              "      border-right-color: var(--fill-color);\n",
              "    }\n",
              "    40% {\n",
              "      border-color: transparent;\n",
              "      border-right-color: var(--fill-color);\n",
              "      border-top-color: var(--fill-color);\n",
              "    }\n",
              "    60% {\n",
              "      border-color: transparent;\n",
              "      border-right-color: var(--fill-color);\n",
              "    }\n",
              "    80% {\n",
              "      border-color: transparent;\n",
              "      border-right-color: var(--fill-color);\n",
              "      border-bottom-color: var(--fill-color);\n",
              "    }\n",
              "    90% {\n",
              "      border-color: transparent;\n",
              "      border-bottom-color: var(--fill-color);\n",
              "    }\n",
              "  }\n",
              "</style>\n",
              "\n",
              "      <script>\n",
              "        async function quickchart(key) {\n",
              "          const quickchartButtonEl =\n",
              "            document.querySelector('#' + key + ' button');\n",
              "          quickchartButtonEl.disabled = true;  // To prevent multiple clicks.\n",
              "          quickchartButtonEl.classList.add('colab-df-spinner');\n",
              "          try {\n",
              "            const charts = await google.colab.kernel.invokeFunction(\n",
              "                'suggestCharts', [key], {});\n",
              "          } catch (error) {\n",
              "            console.error('Error during call to suggestCharts:', error);\n",
              "          }\n",
              "          quickchartButtonEl.classList.remove('colab-df-spinner');\n",
              "          quickchartButtonEl.classList.add('colab-df-quickchart-complete');\n",
              "        }\n",
              "        (() => {\n",
              "          let quickchartButtonEl =\n",
              "            document.querySelector('#df-737ce9bc-b965-468f-94c6-b078f54e48cd button');\n",
              "          quickchartButtonEl.style.display =\n",
              "            google.colab.kernel.accessAllowed ? 'block' : 'none';\n",
              "        })();\n",
              "      </script>\n",
              "    </div>\n",
              "\n",
              "    </div>\n",
              "  </div>\n"
            ],
            "text/plain": [
              "                                    name           brand  \\\n",
              "0  Gokujyun Ultimate Moisturizing Lotion       Hada Labo   \n",
              "1      AHA BHA PHA 30 Days Miracle Toner      Some by Mi   \n",
              "2                              Air Mawar  Viva Cosmetics   \n",
              "3     AHA/BHA Clarifying Treatment Toner           Cosrx   \n",
              "4              Miraculous Refining Toner         AVOSKIN   \n",
              "\n",
              "                                               image  \\\n",
              "0  https://image.femaledaily.com/dyn/210/images/p...   \n",
              "1  https://image.femaledaily.com/dyn/210/images/p...   \n",
              "2  https://image.femaledaily.com/dyn/210/images/p...   \n",
              "3  https://image.femaledaily.com/dyn/210/images/p...   \n",
              "4  https://image.femaledaily.com/dyn/210/images/p...   \n",
              "\n",
              "                                                 url  rating  total_reviews  \\\n",
              "0  https://reviews.femaledaily.com/products/clean...     4.4           5928   \n",
              "1  https://reviews.femaledaily.com/products/clean...     3.6           5139   \n",
              "2  https://reviews.femaledaily.com/products/clean...     4.1           5116   \n",
              "3  https://reviews.femaledaily.com/products/clean...     4.0           4503   \n",
              "4  https://reviews.femaledaily.com/products/clean...     4.5           4298   \n",
              "\n",
              "           category  \n",
              "0  Cleanser / Toner  \n",
              "1  Cleanser / Toner  \n",
              "2  Cleanser / Toner  \n",
              "3  Cleanser / Toner  \n",
              "4  Cleanser / Toner  "
            ]
          },
          "execution_count": 23,
          "metadata": {},
          "output_type": "execute_result"
        }
      ],
      "source": [
        "# Dataset products_list\n",
        "products_list.head(5)"
      ]
    },
    {
      "cell_type": "code",
      "execution_count": 4,
      "id": "a2c9e9b7",
      "metadata": {
        "colab": {
          "base_uri": "https://localhost:8080/"
        },
        "id": "a2c9e9b7",
        "outputId": "4679a884-3b63-4efe-873b-fffcba28bc6b"
      },
      "outputs": [
        {
          "name": "stdout",
          "output_type": "stream",
          "text": [
            "<class 'pandas.core.frame.DataFrame'>\n",
            "RangeIndex: 1000 entries, 0 to 999\n",
            "Data columns (total 7 columns):\n",
            " #   Column         Non-Null Count  Dtype  \n",
            "---  ------         --------------  -----  \n",
            " 0   name           1000 non-null   object \n",
            " 1   brand          1000 non-null   object \n",
            " 2   image          1000 non-null   object \n",
            " 3   url            1000 non-null   object \n",
            " 4   rating         1000 non-null   float64\n",
            " 5   total_reviews  1000 non-null   int64  \n",
            " 6   category       1000 non-null   object \n",
            "dtypes: float64(1), int64(1), object(5)\n",
            "memory usage: 54.8+ KB\n"
          ]
        }
      ],
      "source": [
        "# Cek info\n",
        "products_list.info()"
      ]
    },
    {
      "cell_type": "code",
      "execution_count": 5,
      "id": "d7137e79",
      "metadata": {
        "colab": {
          "base_uri": "https://localhost:8080/"
        },
        "id": "d7137e79",
        "outputId": "335538dd-a827-45cc-85c7-74cc7c58ecbc"
      },
      "outputs": [
        {
          "data": {
            "text/plain": [
              "(1000, 7)"
            ]
          },
          "execution_count": 5,
          "metadata": {},
          "output_type": "execute_result"
        }
      ],
      "source": [
        "# Cek jumlah data\n",
        "products_list.shape"
      ]
    },
    {
      "cell_type": "code",
      "execution_count": 6,
      "id": "4d723ec8",
      "metadata": {
        "colab": {
          "base_uri": "https://localhost:8080/",
          "height": 304
        },
        "id": "4d723ec8",
        "outputId": "ade7a7d5-bd53-4f5a-c7d3-db7bf275efec"
      },
      "outputs": [
        {
          "data": {
            "application/vnd.microsoft.datawrangler.viewer.v0+json": {
              "columns": [
                {
                  "name": "index",
                  "rawType": "object",
                  "type": "string"
                },
                {
                  "name": "0",
                  "rawType": "int64",
                  "type": "integer"
                }
              ],
              "ref": "23f4be5c-b9c9-40c1-905b-9e3c6d4bc9ba",
              "rows": [
                [
                  "name",
                  "0"
                ],
                [
                  "brand",
                  "0"
                ],
                [
                  "image",
                  "0"
                ],
                [
                  "url",
                  "0"
                ],
                [
                  "rating",
                  "0"
                ],
                [
                  "total_reviews",
                  "0"
                ],
                [
                  "category",
                  "0"
                ]
              ],
              "shape": {
                "columns": 1,
                "rows": 7
              }
            },
            "text/plain": [
              "name             0\n",
              "brand            0\n",
              "image            0\n",
              "url              0\n",
              "rating           0\n",
              "total_reviews    0\n",
              "category         0\n",
              "dtype: int64"
            ]
          },
          "execution_count": 6,
          "metadata": {},
          "output_type": "execute_result"
        }
      ],
      "source": [
        "# Cek missing values\n",
        "products_list.isnull().sum()"
      ]
    },
    {
      "cell_type": "code",
      "execution_count": 7,
      "id": "20ecda33",
      "metadata": {
        "colab": {
          "base_uri": "https://localhost:8080/"
        },
        "id": "20ecda33",
        "outputId": "4d475293-fcac-4840-9a5b-4f5c29dcf8ab"
      },
      "outputs": [
        {
          "data": {
            "text/plain": [
              "np.int64(0)"
            ]
          },
          "execution_count": 7,
          "metadata": {},
          "output_type": "execute_result"
        }
      ],
      "source": [
        "# Cek data duplikat\n",
        "products_list.duplicated().sum()"
      ]
    },
    {
      "cell_type": "code",
      "execution_count": 8,
      "id": "1cd4cf46",
      "metadata": {
        "colab": {
          "base_uri": "https://localhost:8080/",
          "height": 53
        },
        "id": "1cd4cf46",
        "outputId": "5ace5238-4249-4a10-99f1-9bb5fbd00863"
      },
      "outputs": [
        {
          "data": {
            "application/vnd.microsoft.datawrangler.viewer.v0+json": {
              "columns": [
                {
                  "name": "index",
                  "rawType": "int64",
                  "type": "integer"
                },
                {
                  "name": "name",
                  "rawType": "object",
                  "type": "string"
                },
                {
                  "name": "brand",
                  "rawType": "object",
                  "type": "string"
                },
                {
                  "name": "image",
                  "rawType": "object",
                  "type": "string"
                },
                {
                  "name": "url",
                  "rawType": "object",
                  "type": "string"
                },
                {
                  "name": "rating",
                  "rawType": "float64",
                  "type": "float"
                },
                {
                  "name": "total_reviews",
                  "rawType": "int64",
                  "type": "integer"
                },
                {
                  "name": "category",
                  "rawType": "object",
                  "type": "string"
                }
              ],
              "ref": "2662d4e3-17e8-4dd2-889f-7d959cf74df0",
              "rows": [],
              "shape": {
                "columns": 7,
                "rows": 0
              }
            },
            "text/html": [
              "<div>\n",
              "<style scoped>\n",
              "    .dataframe tbody tr th:only-of-type {\n",
              "        vertical-align: middle;\n",
              "    }\n",
              "\n",
              "    .dataframe tbody tr th {\n",
              "        vertical-align: top;\n",
              "    }\n",
              "\n",
              "    .dataframe thead th {\n",
              "        text-align: right;\n",
              "    }\n",
              "</style>\n",
              "<table border=\"1\" class=\"dataframe\">\n",
              "  <thead>\n",
              "    <tr style=\"text-align: right;\">\n",
              "      <th></th>\n",
              "      <th>name</th>\n",
              "      <th>brand</th>\n",
              "      <th>image</th>\n",
              "      <th>url</th>\n",
              "      <th>rating</th>\n",
              "      <th>total_reviews</th>\n",
              "      <th>category</th>\n",
              "    </tr>\n",
              "  </thead>\n",
              "  <tbody>\n",
              "  </tbody>\n",
              "</table>\n",
              "</div>"
            ],
            "text/plain": [
              "Empty DataFrame\n",
              "Columns: [name, brand, image, url, rating, total_reviews, category]\n",
              "Index: []"
            ]
          },
          "execution_count": 8,
          "metadata": {},
          "output_type": "execute_result"
        }
      ],
      "source": [
        "# Show data duplikat\n",
        "products_list[products_list.duplicated()]"
      ]
    },
    {
      "cell_type": "markdown",
      "id": "16f8a319",
      "metadata": {
        "id": "16f8a319"
      },
      "source": [
        "## Products Details"
      ]
    },
    {
      "cell_type": "code",
      "execution_count": 9,
      "id": "9b59ae0d",
      "metadata": {
        "colab": {
          "base_uri": "https://localhost:8080/",
          "height": 467
        },
        "id": "9b59ae0d",
        "outputId": "8e411040-da5f-4413-cbd2-bdcdf345da64"
      },
      "outputs": [
        {
          "data": {
            "application/vnd.microsoft.datawrangler.viewer.v0+json": {
              "columns": [
                {
                  "name": "index",
                  "rawType": "int64",
                  "type": "integer"
                },
                {
                  "name": "url",
                  "rawType": "object",
                  "type": "string"
                },
                {
                  "name": "name",
                  "rawType": "object",
                  "type": "string"
                },
                {
                  "name": "brand",
                  "rawType": "object",
                  "type": "string"
                },
                {
                  "name": "price",
                  "rawType": "object",
                  "type": "unknown"
                },
                {
                  "name": "rating",
                  "rawType": "float64",
                  "type": "float"
                },
                {
                  "name": "description",
                  "rawType": "object",
                  "type": "string"
                }
              ],
              "ref": "835b4e98-e30e-4b51-9661-5255e21fda2d",
              "rows": [
                [
                  "0",
                  "https://reviews.femaledaily.com/products/cleanser/toner/hada-labo/gokujyun-ultimate-moisturizing-lotion-2",
                  "Gokujyun Ultimate Moisturizing Lotion",
                  "Hada Labo",
                  "Rp. 29.000",
                  "4.4",
                  "DESCRIPTION Hada Labo Gokujyun Ultimate Moisturizing Lotion adalah lotion pelembab yang mengandung 3 jenis Hyaluronic Acid untuk membantu meningkatkan kelembaban pada kulit dan mempertahankan keseimbangan serta kelembaban kulit. Lotion ini dapat mengunci kelembaban di dalam kulit sehingga kulit terhidrasi dengan baik. Kulit akan terasa lebih halus, lembut dan tetap elastis. Mengandung alkohol sebagai astringent yang mengurangi produksi minyak berlebih dan membuat kulit senantiasa terasa lebih segar.How To Use:Tuangkan lotion secukupnya pada telapak tangan, usapkan ke seluruh wajah dalam keadaan bersih secara merata. Tepuk-tepuk kulit wajah dengan lembut, lalu biarkan hingga meresap.Suitable For:Kulit berminyakIngredients:-"
                ],
                [
                  "1",
                  "https://reviews.femaledaily.com/products/cleanser/toner/some-by-mi/30-days-miracle-toner",
                  "AHA BHA PHA 30 Days Miracle Toner",
                  "Some by Mi",
                  "Rp. 189.000",
                  "3.6",
                  "DESCRIPTION Some by Mi AHA BHA PHA 30 Days Miracle Toner merupakan toner yang mengandung AHA, BHA, dan PHA untuk menghilangkan kotoran dan serpihan kering dari permukaan wajah, menghilangkan kotoran tersumbat dan sebum (minyak) pada pori-pori wajah, serta mencegah kulit kering dan menghancurkan sel kulit mati.How to use:Tuang produk secukupnya pada kapas. Usapkan pada wajah yang telah dibersihkanSuitable for:Kulit berjerawat, Kulit berminyakIngredients:-"
                ],
                [
                  "2",
                  "https://reviews.femaledaily.com/products/cleanser/toner/viva-cosmetics/air-mawar",
                  "Air Mawar",
                  "Viva Cosmetics",
                  "Rp. 4.800",
                  "4.1",
                  "DESCRIPTION Viva Cosmetics Air Mawar mengandung sari bunga mawar dan aroma bunga mawar yang biasa digunakan sebagai campuran bubuk masker dan lulur. Aromanya dapat menenangkan kulit wajah. Kemasannya praktis dan higienis sehingga mudah dibawa.How To Use:Gunakan Viva Air Mawar sebagai campuran masker atau lulur.Suitable For:Semua jenis kulitIngredients:-"
                ],
                [
                  "3",
                  "https://reviews.femaledaily.com/products/cleanser/toner/cosrx/aha-bha-clarifying-treatment-toner",
                  "AHA/BHA Clarifying Treatment Toner",
                  "Cosrx",
                  "Rp. 190.000",
                  "4.0",
                  "DESCRIPTION Cosrx AHA/BHA Clarifying Treatment Toner merupakan toner dengan kandungan bahan-bahan natural dan air mineral. Produk ini lebih dari sekedar toner biasa, karena memiliki kandungan AHA/BHA organik yang dapat berfungsi sebagai exfoliating toner.Selain membantu mengatasi masalah komedo (whiteheads, blackheads) dan jerawat, Cosrx AHA/BHA Clarifying Treatment Toner membantu menghidrasi dan meremajakan kulit sehingga dapat menjadikan kulit sehat dan flawless. How to use:Aplikasikan pada wajah yang sudah dibersihkan setiap pagi dan malam hari dengan menggunakan kapas.Suitable for:Semua jenis kulit.Ingredients:Mineral Water, Salix Alba (Willow) Bark Water, Pyrus Malus (Apple) Fruit Water, Butylene Glycol, 1,2-Hexanediol, Sodium Lactate, Glycolic Acid, Water, Betaine Salicylate, Allantoin, Panthenol, Ethyl Hexanediol"
                ],
                [
                  "4",
                  "https://reviews.femaledaily.com/products/cleanser/toner/avoskin/avoskin-miraculous-refining-toner-1",
                  "Miraculous Refining Toner",
                  "AVOSKIN",
                  null,
                  "4.2",
                  "DESCRIPTION Reformulation in 2022AVOSKIN Miraculous Refining Toner dikombinasikan dari AHA-BHA-PHA+ Niacinamide + 2% Tea Tree + Witch Hazel dan Aloe Vera yang bekerja secara efektif sebagai eksfoliator kulit dan mencerahkan kulit. How to Use :Setelah membersihkan wajah, tuang secukupnya pada kapas, usap dari area tengah wajah ke arah luar dengan gerakan ke atas dan biarkan menyerap. Hindari area mata. Tidak perlu dibilas. Gunakan dua kali sehari.Untuk hasil yang maksimal, gunakan Miraculous Refining Serum setelahnya.Ingredients :Water, Glycerin, Glycolic Acid, Butylene Glycol, Propylene Glycol, Gluconolactone, Melaleuca Alternifolia (Tea Tree) Leaf Extract, Hamamelis Virginiana (Witch Hazel) Leaf Extract, Niacinamide, Chamomilla Recutita (Matricaria) Flower Extract, Rubus Idaeus (Raspberry) Fruit Extract, Citrus Limon (Lemon) Fruit Extract, Salicylic Acid, Acer Saccharum (Sugar Maple) Extract, Portulaca Oleracea Extract, Aloe Barbadensis Leaf Juice, Amylopectin, Dextrin, Xanthan Gum, Tetrasodium EDTA, Sodium Hydroxymethylglycinate, Polyglutamic Acid."
                ]
              ],
              "shape": {
                "columns": 6,
                "rows": 5
              }
            },
            "text/html": [
              "<div>\n",
              "<style scoped>\n",
              "    .dataframe tbody tr th:only-of-type {\n",
              "        vertical-align: middle;\n",
              "    }\n",
              "\n",
              "    .dataframe tbody tr th {\n",
              "        vertical-align: top;\n",
              "    }\n",
              "\n",
              "    .dataframe thead th {\n",
              "        text-align: right;\n",
              "    }\n",
              "</style>\n",
              "<table border=\"1\" class=\"dataframe\">\n",
              "  <thead>\n",
              "    <tr style=\"text-align: right;\">\n",
              "      <th></th>\n",
              "      <th>url</th>\n",
              "      <th>name</th>\n",
              "      <th>brand</th>\n",
              "      <th>price</th>\n",
              "      <th>rating</th>\n",
              "      <th>description</th>\n",
              "    </tr>\n",
              "  </thead>\n",
              "  <tbody>\n",
              "    <tr>\n",
              "      <th>0</th>\n",
              "      <td>https://reviews.femaledaily.com/products/clean...</td>\n",
              "      <td>Gokujyun Ultimate Moisturizing Lotion</td>\n",
              "      <td>Hada Labo</td>\n",
              "      <td>Rp. 29.000</td>\n",
              "      <td>4.4</td>\n",
              "      <td>DESCRIPTION Hada Labo Gokujyun Ultimate Moistu...</td>\n",
              "    </tr>\n",
              "    <tr>\n",
              "      <th>1</th>\n",
              "      <td>https://reviews.femaledaily.com/products/clean...</td>\n",
              "      <td>AHA BHA PHA 30 Days Miracle Toner</td>\n",
              "      <td>Some by Mi</td>\n",
              "      <td>Rp. 189.000</td>\n",
              "      <td>3.6</td>\n",
              "      <td>DESCRIPTION Some by Mi AHA BHA PHA 30 Days Mir...</td>\n",
              "    </tr>\n",
              "    <tr>\n",
              "      <th>2</th>\n",
              "      <td>https://reviews.femaledaily.com/products/clean...</td>\n",
              "      <td>Air Mawar</td>\n",
              "      <td>Viva Cosmetics</td>\n",
              "      <td>Rp. 4.800</td>\n",
              "      <td>4.1</td>\n",
              "      <td>DESCRIPTION Viva Cosmetics Air Mawar mengandun...</td>\n",
              "    </tr>\n",
              "    <tr>\n",
              "      <th>3</th>\n",
              "      <td>https://reviews.femaledaily.com/products/clean...</td>\n",
              "      <td>AHA/BHA Clarifying Treatment Toner</td>\n",
              "      <td>Cosrx</td>\n",
              "      <td>Rp. 190.000</td>\n",
              "      <td>4.0</td>\n",
              "      <td>DESCRIPTION Cosrx AHA/BHA Clarifying Treatment...</td>\n",
              "    </tr>\n",
              "    <tr>\n",
              "      <th>4</th>\n",
              "      <td>https://reviews.femaledaily.com/products/clean...</td>\n",
              "      <td>Miraculous Refining Toner</td>\n",
              "      <td>AVOSKIN</td>\n",
              "      <td>NaN</td>\n",
              "      <td>4.2</td>\n",
              "      <td>DESCRIPTION Reformulation in 2022AVOSKIN Mirac...</td>\n",
              "    </tr>\n",
              "  </tbody>\n",
              "</table>\n",
              "</div>"
            ],
            "text/plain": [
              "                                                 url  \\\n",
              "0  https://reviews.femaledaily.com/products/clean...   \n",
              "1  https://reviews.femaledaily.com/products/clean...   \n",
              "2  https://reviews.femaledaily.com/products/clean...   \n",
              "3  https://reviews.femaledaily.com/products/clean...   \n",
              "4  https://reviews.femaledaily.com/products/clean...   \n",
              "\n",
              "                                    name           brand        price  rating  \\\n",
              "0  Gokujyun Ultimate Moisturizing Lotion       Hada Labo   Rp. 29.000     4.4   \n",
              "1      AHA BHA PHA 30 Days Miracle Toner      Some by Mi  Rp. 189.000     3.6   \n",
              "2                              Air Mawar  Viva Cosmetics    Rp. 4.800     4.1   \n",
              "3     AHA/BHA Clarifying Treatment Toner           Cosrx  Rp. 190.000     4.0   \n",
              "4              Miraculous Refining Toner         AVOSKIN          NaN     4.2   \n",
              "\n",
              "                                         description  \n",
              "0  DESCRIPTION Hada Labo Gokujyun Ultimate Moistu...  \n",
              "1  DESCRIPTION Some by Mi AHA BHA PHA 30 Days Mir...  \n",
              "2  DESCRIPTION Viva Cosmetics Air Mawar mengandun...  \n",
              "3  DESCRIPTION Cosrx AHA/BHA Clarifying Treatment...  \n",
              "4  DESCRIPTION Reformulation in 2022AVOSKIN Mirac...  "
            ]
          },
          "execution_count": 9,
          "metadata": {},
          "output_type": "execute_result"
        }
      ],
      "source": [
        "# Dataset products_details\n",
        "products_details.head(5)"
      ]
    },
    {
      "cell_type": "code",
      "execution_count": 10,
      "id": "c699d0c8",
      "metadata": {
        "colab": {
          "base_uri": "https://localhost:8080/"
        },
        "id": "c699d0c8",
        "outputId": "2855f4f2-89a6-469a-aa84-224ade04263a"
      },
      "outputs": [
        {
          "name": "stdout",
          "output_type": "stream",
          "text": [
            "<class 'pandas.core.frame.DataFrame'>\n",
            "RangeIndex: 213 entries, 0 to 212\n",
            "Data columns (total 6 columns):\n",
            " #   Column       Non-Null Count  Dtype  \n",
            "---  ------       --------------  -----  \n",
            " 0   url          213 non-null    object \n",
            " 1   name         202 non-null    object \n",
            " 2   brand        202 non-null    object \n",
            " 3   price        183 non-null    object \n",
            " 4   rating       202 non-null    float64\n",
            " 5   description  202 non-null    object \n",
            "dtypes: float64(1), object(5)\n",
            "memory usage: 10.1+ KB\n"
          ]
        }
      ],
      "source": [
        "products_details.info()"
      ]
    },
    {
      "cell_type": "code",
      "execution_count": 11,
      "id": "3fad16f5",
      "metadata": {
        "colab": {
          "base_uri": "https://localhost:8080/"
        },
        "id": "3fad16f5",
        "outputId": "e765aaeb-a788-4c95-8f2e-06e359706b65"
      },
      "outputs": [
        {
          "data": {
            "text/plain": [
              "(213, 6)"
            ]
          },
          "execution_count": 11,
          "metadata": {},
          "output_type": "execute_result"
        }
      ],
      "source": [
        "# Cek jumlah data\n",
        "products_details.shape"
      ]
    },
    {
      "cell_type": "code",
      "execution_count": 12,
      "id": "a8181fa9",
      "metadata": {
        "colab": {
          "base_uri": "https://localhost:8080/",
          "height": 272
        },
        "id": "a8181fa9",
        "outputId": "f295a3dc-a869-41a7-c1f8-a63070bb8752"
      },
      "outputs": [
        {
          "data": {
            "application/vnd.microsoft.datawrangler.viewer.v0+json": {
              "columns": [
                {
                  "name": "index",
                  "rawType": "object",
                  "type": "string"
                },
                {
                  "name": "0",
                  "rawType": "int64",
                  "type": "integer"
                }
              ],
              "ref": "06e72a47-90ea-42d1-84ba-758e228c8a5e",
              "rows": [
                [
                  "url",
                  "0"
                ],
                [
                  "name",
                  "11"
                ],
                [
                  "brand",
                  "11"
                ],
                [
                  "price",
                  "30"
                ],
                [
                  "rating",
                  "11"
                ],
                [
                  "description",
                  "11"
                ]
              ],
              "shape": {
                "columns": 1,
                "rows": 6
              }
            },
            "text/plain": [
              "url             0\n",
              "name           11\n",
              "brand          11\n",
              "price          30\n",
              "rating         11\n",
              "description    11\n",
              "dtype: int64"
            ]
          },
          "execution_count": 12,
          "metadata": {},
          "output_type": "execute_result"
        }
      ],
      "source": [
        "# Cek missing values\n",
        "products_details.isnull().sum()"
      ]
    },
    {
      "cell_type": "code",
      "execution_count": 13,
      "id": "0edad96d",
      "metadata": {
        "colab": {
          "base_uri": "https://localhost:8080/"
        },
        "id": "0edad96d",
        "outputId": "845251bc-c262-437b-aa39-1ff160e0491f"
      },
      "outputs": [
        {
          "data": {
            "text/plain": [
              "np.int64(0)"
            ]
          },
          "execution_count": 13,
          "metadata": {},
          "output_type": "execute_result"
        }
      ],
      "source": [
        "# Cek duplikat\n",
        "products_details.duplicated().sum()"
      ]
    },
    {
      "cell_type": "markdown",
      "id": "ac99c23d",
      "metadata": {
        "id": "ac99c23d"
      },
      "source": [
        "## Reviews"
      ]
    },
    {
      "cell_type": "code",
      "execution_count": 14,
      "id": "42bfe35e",
      "metadata": {
        "colab": {
          "base_uri": "https://localhost:8080/",
          "height": 678
        },
        "id": "42bfe35e",
        "outputId": "c8673961-a0ce-4bc6-95eb-fa65a611b778"
      },
      "outputs": [
        {
          "data": {
            "application/vnd.microsoft.datawrangler.viewer.v0+json": {
              "columns": [
                {
                  "name": "index",
                  "rawType": "int64",
                  "type": "integer"
                },
                {
                  "name": "username",
                  "rawType": "object",
                  "type": "string"
                },
                {
                  "name": "skin_type",
                  "rawType": "object",
                  "type": "string"
                },
                {
                  "name": "age",
                  "rawType": "object",
                  "type": "string"
                },
                {
                  "name": "rating_star",
                  "rawType": "object",
                  "type": "string"
                },
                {
                  "name": "recommended",
                  "rawType": "object",
                  "type": "string"
                },
                {
                  "name": "review",
                  "rawType": "object",
                  "type": "string"
                },
                {
                  "name": "review_date",
                  "rawType": "object",
                  "type": "string"
                },
                {
                  "name": "usage_period",
                  "rawType": "object",
                  "type": "string"
                },
                {
                  "name": "product_name",
                  "rawType": "object",
                  "type": "string"
                },
                {
                  "name": "product_url",
                  "rawType": "object",
                  "type": "string"
                }
              ],
              "ref": "76cb7c49-9b6f-41af-83f5-333375c4b428",
              "rows": [
                [
                  "0",
                  "nunabing",
                  "Dry",
                  "18 and Under",
                  "3",
                  "False",
                  "sorry aku kurang cocok sama produk ini, karena ini toner yang teksturnya cair jadi kurang ngaruh di kulit kering aku🥲 aku lebih cocok hadalabo gold premium toner karena teksturnya kental jadi super melembabkan kulit kering aku, mungkin ini lebih cocok buat kulit normal atau oily ya (?)",
                  "2 days ago",
                  "More than 1 year",
                  "Gokujyun Ultimate Moisturizing Lotion",
                  "https://reviews.femaledaily.com/products/cleanser/toner/hada-labo/gokujyun-ultimate-moisturizing-lotion-2"
                ],
                [
                  "1",
                  "itaaaafiryal_",
                  "Combination",
                  "19 - 24",
                  "5",
                  "True",
                  "dipake buat csm-an enak bgt, teksturnya cair, ngelembabinnya juaraa, buat dry skin pasti suka sih. kalo lagi ada jerawat yg mendem, dipakein ini pake metode csm jd cepet keluar matanya, abis itu pakein acne spot aja deh",
                  "5 days ago",
                  "3 months - 6 months",
                  "Gokujyun Ultimate Moisturizing Lotion",
                  "https://reviews.femaledaily.com/products/cleanser/toner/hada-labo/gokujyun-ultimate-moisturizing-lotion-2"
                ],
                [
                  "2",
                  "huwaidaamany",
                  "Combination",
                  "18 and Under",
                  "5",
                  "True",
                  "Luvvvv banget, calming muka kalo lagi rewel, lumayan hemat karena dia thick toner nya jadi make beberapa tetes aja bisa buat semuka, biasanya dipke abis exfo, ngebantu banget kalo lagi kemerahan juga intinya worth to try deh, oh iya klo make ini tuh sehabis cuci muka gausah di lap ya air nya, langsung aja pke toner ini, dia bakal terserap sempurna, semua toner dan moist yang ada kandungan Hyaluronic acid juga kyk gitu karena Hyaluronic acid itu mengikat air lalu terserap oleh kulit, intinya toner ini sangat amat bagussssss😍😍",
                  "5 days ago",
                  "More than 1 year",
                  "Gokujyun Ultimate Moisturizing Lotion",
                  "https://reviews.femaledaily.com/products/cleanser/toner/hada-labo/gokujyun-ultimate-moisturizing-lotion-2"
                ],
                [
                  "3",
                  "ghisti",
                  "Oily",
                  "18 and Under",
                  "3",
                  "False",
                  "produk ini tu menurut aku cocok nya buat yang kulit kering ya, karna memang buat ngelembabin tuh oke banget, sesuai sama claim nyaa. di kulit aku yang kombi to oily acne prone tu ngerasanya kureng yaa, karna di kulit aku sendiri sih malah bikin tambah becek dan lumayan lama nyerep nya ya. aku saranin sih yang kulitnya kering pake ini aja 👍👍",
                  "12 May 2025",
                  "3 months - 6 months",
                  "Gokujyun Ultimate Moisturizing Lotion",
                  "https://reviews.femaledaily.com/products/cleanser/toner/hada-labo/gokujyun-ultimate-moisturizing-lotion-2"
                ],
                [
                  "4",
                  "Namanya_Gibraltar",
                  "Dry",
                  "18 and Under",
                  "4",
                  "True",
                  "Di aku cukip bantu Lembab tapi g kyk yg, woww lembab bgt. tapi emang bagus buat dry skin cari yg murmerkandungan g neko2, cuma 3 jenis HAklo untuk sekelas toner lumayan thick kyk esensseklo kemasan ga ada yg gimana bgt di komensangat worth it",
                  "12 May 2025",
                  "6 months - 1 year",
                  "Gokujyun Ultimate Moisturizing Lotion",
                  "https://reviews.femaledaily.com/products/cleanser/toner/hada-labo/gokujyun-ultimate-moisturizing-lotion-2"
                ]
              ],
              "shape": {
                "columns": 10,
                "rows": 5
              }
            },
            "text/html": [
              "<div>\n",
              "<style scoped>\n",
              "    .dataframe tbody tr th:only-of-type {\n",
              "        vertical-align: middle;\n",
              "    }\n",
              "\n",
              "    .dataframe tbody tr th {\n",
              "        vertical-align: top;\n",
              "    }\n",
              "\n",
              "    .dataframe thead th {\n",
              "        text-align: right;\n",
              "    }\n",
              "</style>\n",
              "<table border=\"1\" class=\"dataframe\">\n",
              "  <thead>\n",
              "    <tr style=\"text-align: right;\">\n",
              "      <th></th>\n",
              "      <th>username</th>\n",
              "      <th>skin_type</th>\n",
              "      <th>age</th>\n",
              "      <th>rating_star</th>\n",
              "      <th>recommended</th>\n",
              "      <th>review</th>\n",
              "      <th>review_date</th>\n",
              "      <th>usage_period</th>\n",
              "      <th>product_name</th>\n",
              "      <th>product_url</th>\n",
              "    </tr>\n",
              "  </thead>\n",
              "  <tbody>\n",
              "    <tr>\n",
              "      <th>0</th>\n",
              "      <td>nunabing</td>\n",
              "      <td>Dry</td>\n",
              "      <td>18 and Under</td>\n",
              "      <td>3</td>\n",
              "      <td>False</td>\n",
              "      <td>sorry aku kurang cocok sama produk ini, karena...</td>\n",
              "      <td>2 days ago</td>\n",
              "      <td>More than 1 year</td>\n",
              "      <td>Gokujyun Ultimate Moisturizing Lotion</td>\n",
              "      <td>https://reviews.femaledaily.com/products/clean...</td>\n",
              "    </tr>\n",
              "    <tr>\n",
              "      <th>1</th>\n",
              "      <td>itaaaafiryal_</td>\n",
              "      <td>Combination</td>\n",
              "      <td>19 - 24</td>\n",
              "      <td>5</td>\n",
              "      <td>True</td>\n",
              "      <td>dipake buat csm-an enak bgt, teksturnya cair, ...</td>\n",
              "      <td>5 days ago</td>\n",
              "      <td>3 months - 6 months</td>\n",
              "      <td>Gokujyun Ultimate Moisturizing Lotion</td>\n",
              "      <td>https://reviews.femaledaily.com/products/clean...</td>\n",
              "    </tr>\n",
              "    <tr>\n",
              "      <th>2</th>\n",
              "      <td>huwaidaamany</td>\n",
              "      <td>Combination</td>\n",
              "      <td>18 and Under</td>\n",
              "      <td>5</td>\n",
              "      <td>True</td>\n",
              "      <td>Luvvvv banget, calming muka kalo lagi rewel, l...</td>\n",
              "      <td>5 days ago</td>\n",
              "      <td>More than 1 year</td>\n",
              "      <td>Gokujyun Ultimate Moisturizing Lotion</td>\n",
              "      <td>https://reviews.femaledaily.com/products/clean...</td>\n",
              "    </tr>\n",
              "    <tr>\n",
              "      <th>3</th>\n",
              "      <td>ghisti</td>\n",
              "      <td>Oily</td>\n",
              "      <td>18 and Under</td>\n",
              "      <td>3</td>\n",
              "      <td>False</td>\n",
              "      <td>produk ini tu menurut aku cocok nya buat yang ...</td>\n",
              "      <td>12 May 2025</td>\n",
              "      <td>3 months - 6 months</td>\n",
              "      <td>Gokujyun Ultimate Moisturizing Lotion</td>\n",
              "      <td>https://reviews.femaledaily.com/products/clean...</td>\n",
              "    </tr>\n",
              "    <tr>\n",
              "      <th>4</th>\n",
              "      <td>Namanya_Gibraltar</td>\n",
              "      <td>Dry</td>\n",
              "      <td>18 and Under</td>\n",
              "      <td>4</td>\n",
              "      <td>True</td>\n",
              "      <td>Di aku cukip bantu Lembab tapi g kyk yg, woww ...</td>\n",
              "      <td>12 May 2025</td>\n",
              "      <td>6 months - 1 year</td>\n",
              "      <td>Gokujyun Ultimate Moisturizing Lotion</td>\n",
              "      <td>https://reviews.femaledaily.com/products/clean...</td>\n",
              "    </tr>\n",
              "  </tbody>\n",
              "</table>\n",
              "</div>"
            ],
            "text/plain": [
              "            username    skin_type           age rating_star recommended  \\\n",
              "0           nunabing          Dry  18 and Under           3       False   \n",
              "1      itaaaafiryal_  Combination       19 - 24           5        True   \n",
              "2       huwaidaamany  Combination  18 and Under           5        True   \n",
              "3             ghisti         Oily  18 and Under           3       False   \n",
              "4  Namanya_Gibraltar          Dry  18 and Under           4        True   \n",
              "\n",
              "                                              review  review_date  \\\n",
              "0  sorry aku kurang cocok sama produk ini, karena...   2 days ago   \n",
              "1  dipake buat csm-an enak bgt, teksturnya cair, ...   5 days ago   \n",
              "2  Luvvvv banget, calming muka kalo lagi rewel, l...   5 days ago   \n",
              "3  produk ini tu menurut aku cocok nya buat yang ...  12 May 2025   \n",
              "4  Di aku cukip bantu Lembab tapi g kyk yg, woww ...  12 May 2025   \n",
              "\n",
              "          usage_period                           product_name  \\\n",
              "0     More than 1 year  Gokujyun Ultimate Moisturizing Lotion   \n",
              "1  3 months - 6 months  Gokujyun Ultimate Moisturizing Lotion   \n",
              "2     More than 1 year  Gokujyun Ultimate Moisturizing Lotion   \n",
              "3  3 months - 6 months  Gokujyun Ultimate Moisturizing Lotion   \n",
              "4    6 months - 1 year  Gokujyun Ultimate Moisturizing Lotion   \n",
              "\n",
              "                                         product_url  \n",
              "0  https://reviews.femaledaily.com/products/clean...  \n",
              "1  https://reviews.femaledaily.com/products/clean...  \n",
              "2  https://reviews.femaledaily.com/products/clean...  \n",
              "3  https://reviews.femaledaily.com/products/clean...  \n",
              "4  https://reviews.femaledaily.com/products/clean...  "
            ]
          },
          "execution_count": 14,
          "metadata": {},
          "output_type": "execute_result"
        }
      ],
      "source": [
        "# Dataset reviews\n",
        "reviews.head(5)"
      ]
    },
    {
      "cell_type": "code",
      "execution_count": 15,
      "id": "83c11011",
      "metadata": {
        "colab": {
          "base_uri": "https://localhost:8080/"
        },
        "id": "83c11011",
        "outputId": "fe0748f1-1f6a-46a5-fbc7-6aa9eaf6b8ce"
      },
      "outputs": [
        {
          "name": "stdout",
          "output_type": "stream",
          "text": [
            "<class 'pandas.core.frame.DataFrame'>\n",
            "RangeIndex: 29900 entries, 0 to 29899\n",
            "Data columns (total 10 columns):\n",
            " #   Column        Non-Null Count  Dtype \n",
            "---  ------        --------------  ----- \n",
            " 0   username      29900 non-null  object\n",
            " 1   skin_type     28752 non-null  object\n",
            " 2   age           29876 non-null  object\n",
            " 3   rating_star   29900 non-null  object\n",
            " 4   recommended   29179 non-null  object\n",
            " 5   review        29899 non-null  object\n",
            " 6   review_date   29898 non-null  object\n",
            " 7   usage_period  29886 non-null  object\n",
            " 8   product_name  29898 non-null  object\n",
            " 9   product_url   29898 non-null  object\n",
            "dtypes: object(10)\n",
            "memory usage: 2.3+ MB\n"
          ]
        }
      ],
      "source": [
        "reviews.info()"
      ]
    },
    {
      "cell_type": "code",
      "execution_count": 16,
      "id": "5b3c0080",
      "metadata": {
        "colab": {
          "base_uri": "https://localhost:8080/"
        },
        "id": "5b3c0080",
        "outputId": "676aa770-f67a-4330-8f0e-4bd51af13702"
      },
      "outputs": [
        {
          "data": {
            "text/plain": [
              "(29900, 10)"
            ]
          },
          "execution_count": 16,
          "metadata": {},
          "output_type": "execute_result"
        }
      ],
      "source": [
        "# Cek jumlah data\n",
        "reviews.shape"
      ]
    },
    {
      "cell_type": "code",
      "execution_count": 17,
      "id": "8c749bd4",
      "metadata": {
        "colab": {
          "base_uri": "https://localhost:8080/",
          "height": 398
        },
        "id": "8c749bd4",
        "outputId": "c6189b8f-0080-43d1-f8e0-46afcd555eee"
      },
      "outputs": [
        {
          "data": {
            "application/vnd.microsoft.datawrangler.viewer.v0+json": {
              "columns": [
                {
                  "name": "index",
                  "rawType": "object",
                  "type": "string"
                },
                {
                  "name": "0",
                  "rawType": "int64",
                  "type": "integer"
                }
              ],
              "ref": "b7fefe2c-81d2-4c7b-af53-88c847c372c1",
              "rows": [
                [
                  "username",
                  "0"
                ],
                [
                  "skin_type",
                  "1148"
                ],
                [
                  "age",
                  "24"
                ],
                [
                  "rating_star",
                  "0"
                ],
                [
                  "recommended",
                  "721"
                ],
                [
                  "review",
                  "1"
                ],
                [
                  "review_date",
                  "2"
                ],
                [
                  "usage_period",
                  "14"
                ],
                [
                  "product_name",
                  "2"
                ],
                [
                  "product_url",
                  "2"
                ]
              ],
              "shape": {
                "columns": 1,
                "rows": 10
              }
            },
            "text/plain": [
              "username           0\n",
              "skin_type       1148\n",
              "age               24\n",
              "rating_star        0\n",
              "recommended      721\n",
              "review             1\n",
              "review_date        2\n",
              "usage_period      14\n",
              "product_name       2\n",
              "product_url        2\n",
              "dtype: int64"
            ]
          },
          "execution_count": 17,
          "metadata": {},
          "output_type": "execute_result"
        }
      ],
      "source": [
        "# Cek missing values\n",
        "reviews.isnull().sum()"
      ]
    },
    {
      "cell_type": "code",
      "execution_count": 18,
      "id": "ba592138",
      "metadata": {
        "colab": {
          "base_uri": "https://localhost:8080/"
        },
        "id": "ba592138",
        "outputId": "89e37a71-0383-492f-cf48-afe909ab01ee"
      },
      "outputs": [
        {
          "data": {
            "text/plain": [
              "np.int64(0)"
            ]
          },
          "execution_count": 18,
          "metadata": {},
          "output_type": "execute_result"
        }
      ],
      "source": [
        "# Cek duplikat\n",
        "reviews.duplicated().sum()"
      ]
    },
    {
      "cell_type": "markdown",
      "id": "t8AaN5Efc7WN",
      "metadata": {
        "id": "t8AaN5Efc7WN"
      },
      "source": [
        "# Gabungkan Dataset"
      ]
    },
    {
      "cell_type": "code",
      "execution_count": 19,
      "id": "wuQaAlyPc-Fz",
      "metadata": {
        "id": "wuQaAlyPc-Fz"
      },
      "outputs": [],
      "source": [
        "# STEP 1 - Gabung product list & details\n",
        "df_products = products_list.merge(products_details, on='url', how='left', suffixes=('_list', '_details'))\n",
        "\n",
        "# STEP 2 - Rename kolom agar seragam & rapi\n",
        "df_products = df_products.rename(columns={\n",
        "    'name_list': 'product_name',\n",
        "    'brand_list': 'brand',\n",
        "    'rating_list': 'rating',\n",
        "    'description': 'description',\n",
        "    'price': 'price',\n",
        "    'category': 'category',\n",
        "    'total_reviews': 'total_reviews'\n",
        "})\n",
        "\n",
        "# STEP 3 - Pilih hanya kolom yang kita perlukan\n",
        "df_products = df_products[[\n",
        "    'product_name', 'brand', 'category', 'url',\n",
        "    'rating', 'total_reviews', 'price', 'description'\n",
        "]]"
      ]
    },
    {
      "cell_type": "code",
      "execution_count": 20,
      "id": "Fb3KrPrpmiQm",
      "metadata": {
        "colab": {
          "base_uri": "https://localhost:8080/",
          "height": 556
        },
        "id": "Fb3KrPrpmiQm",
        "outputId": "ef9060ed-bce9-49a2-a7b6-87023af1415a"
      },
      "outputs": [
        {
          "data": {
            "application/vnd.microsoft.datawrangler.viewer.v0+json": {
              "columns": [
                {
                  "name": "index",
                  "rawType": "int64",
                  "type": "integer"
                },
                {
                  "name": "url",
                  "rawType": "object",
                  "type": "string"
                },
                {
                  "name": "product_name",
                  "rawType": "object",
                  "type": "string"
                },
                {
                  "name": "brand",
                  "rawType": "object",
                  "type": "string"
                },
                {
                  "name": "category",
                  "rawType": "object",
                  "type": "string"
                },
                {
                  "name": "price",
                  "rawType": "object",
                  "type": "string"
                },
                {
                  "name": "rating",
                  "rawType": "float64",
                  "type": "float"
                },
                {
                  "name": "total_reviews",
                  "rawType": "int64",
                  "type": "integer"
                },
                {
                  "name": "description",
                  "rawType": "object",
                  "type": "string"
                },
                {
                  "name": "review",
                  "rawType": "object",
                  "type": "string"
                },
                {
                  "name": "skin_type",
                  "rawType": "object",
                  "type": "string"
                },
                {
                  "name": "age",
                  "rawType": "object",
                  "type": "string"
                },
                {
                  "name": "rating_star",
                  "rawType": "object",
                  "type": "string"
                }
              ],
              "ref": "02ca9317-b41d-4dc7-b46c-50575af34405",
              "rows": [
                [
                  "15558",
                  "https://reviews.femaledaily.com/products/treatment/acne-treatment/benzolac/benzoyl-peroxide-obat-jerawat",
                  "2.5",
                  "Benzolac",
                  "Treatment / Acne Treatment",
                  "Rp. 15.000",
                  "3.4",
                  "667",
                  "DESCRIPTION Benzolac Benzoyl Peroxide 2.5% adalah obat berbentuk krim yang mengandung benzoil peroksida untuk mengatasi jerawat ringan hingga sedang. Kemampuan utamanya yaitu membasmi bakteri penyebab, mengurangi produksi minyak, juga membersihkan kotoran yang menempel pada kulit. Penggunaan benzoil peroksida dalam membasmi jerawat umumnya dikombinasikan dengan jenis obat lainnya untuk hasil yang maksimal. Ketika diaplikasikan di kulit, Benzolac akan memberikan efek kering dan mempermudah pengelupasan sel kulit yang berjerawat. Jerawat mudah hilang, namun efek kering pada kulit ini harus diatasi dengan pelembab.How to use:Oleskan tipis pada kulit yang berjerawatSuitable for:Kulit berjerawatIngredients:Benzoyl Peroxide 2.5%",
                  "Obat jerawat ini ngaruh sih buat ngobatin jerawat jerawat mendem yang merah2 dan ga ada matanya. Tapi obat jerawat ini emang bikin kering dan setelahnya kulitnya bakal mengelupas gitu sih. But kalo untuk jerawat yang ada matanya obat ini kaga ngaruh yg ada cuma bikin kering doang.",
                  "Normal",
                  "25 - 29",
                  "5"
                ],
                [
                  "22124",
                  "https://reviews.femaledaily.com/products/moisturizer/gel/clinique/dramatically-different-moisturizing-gel-42",
                  "Dramatically Different Moisturizing Gel",
                  "CLINIQUE",
                  "Moisturizer / Gel",
                  "Rp. 0",
                  "4.2",
                  "546",
                  "DESCRIPTION Clinique Dramatically Different Moisturizing Gel merupakan gel pelembab dengan formula yang telah teruji oleh dermatolog, mencampurkan bahan hidrasi yang bebas minyak dengan bahan-bahan penguat kulit. Pelembab sehari-hari yang membantu kulit terlihat lebih muda tahan lama.How To Use :Gunakan dua kali sehari, pagi dan malam. Gunakan pada seluruh wajah dan leher, atau dibagian-bagian yang membutuhkan.Suitable For :Kulit normal dan kulit kombinasi.Ingredients :Water/Aqua/Eau, Dimethicone, Isododecane, Butylene Glycol, Bis-PEG-18 Methyl Ether Dimethyl Silane, Glycerin, Laminaria Saccharina Extract, Polygonum Cuspidatum Root Extract, Saccharomyces Lysate Extract, Cucumis Sativus (Cucumber) Fruit Extract, Hordeum Vulgare (Barley) Extract/Extrait D’Orge, Helianthus Annuus (Sunflower) Seedcake, Caffeine, Triethelose, Sodium Hyaluronate, Tocopheryl Acetate, Sucrose, Chamomilla Recutita (Matricaria), Polysilicone-11, Silica, Propylene Glycol Dicaprate, Oleth-10, Lactobacillus Ferment, Laureth-23, Laureth-4, Ammonium Acryloyldimethyltaurate/VP Copolymer, Caprylyl Glycol, Hexylene Glycol, Tromethamine, Disdoium EDTA, Phenoxyethanol, Potassium Sorbate, Yellow 5, Red 4, Yellow 6.",
                  "karna sudah coba yang moisture surge, pingin coba coba varian yang lain. mbak mbak cliniquenya juga bilang, ini cocok buat kulit kombinasi. ya udah deh langsung beli dan beneran dia lembab banget, terus dia cepat nyerap juga. harganya lumayan pricey,tapi sesuailah sama kualitasnya. Repurchase ? YESSS 🖤",
                  "Combination",
                  "19 - 24",
                  "5"
                ],
                [
                  "31968",
                  "https://reviews.femaledaily.com/products/treatment/peeling/envygreen/envygreen-dead-skin-cells-remover",
                  "Dead Skin Cell Remover",
                  "Envygreen",
                  "Treatment / Peeling",
                  "Rp. 56.000",
                  "4.3",
                  "542",
                  "DESCRIPTION Envygreen Dead Skin Cell Remover merupakan peeling lotion bertekstur gentle yang mampu membersihkan kulit dari kotoran dan mengangkat sel-sel kulit mati.How to use:Oleskan Dead Skin Cell Remover ke kulit yang sudah dibersihkan dengan face cleanser, facial foam, toner, dan dalam keadaan lembab. Gosok ringan dengan arah memutar selama 1 menit. Setelah kotoran terangkat, bersihkan sisa product di wajah dan bilas dengan air bersih.Suitable for:Semua jenis kulitIngredients :Aqua, Glycerine, Acrylates Copolymer, Octyl Dedecanol, Tocoperyl Acetate, Prunus Amygdalus Dulcis (Sweet Almond) Oil, Hydroxyethyl Acrylate/Sodium Acryloyldimethyl Taurate Copolymer, Isohexadecane, Polysorbate 60, Methyl P-Hydroxybenzoate, Phenoxyethanol, Fragrance.",
                  "awalnya bingung pemakaiannya kyk lotion tapi petunjuknya digosok pas dibilas emng keliatan agak cerahan. wanginya kimia bgt sih, teksturnya cair bgt. aku sih tetep rekomendasi bagi kalian yg ingin exfo hasilnya instan langsung cerah dan harganya affordable aku rekomendasi envygreen remover dead skincell",
                  "Oily",
                  "25 - 29",
                  "5"
                ],
                [
                  "30457",
                  "https://reviews.femaledaily.com/products/body-wash/shower-gel-cream/palmolive/rich-moisture-25",
                  "Naturals Shower Milk",
                  "Palmolive",
                  "Moisturizer / Cream",
                  "Rp. 85.900",
                  "4.4",
                  "438",
                  "DESCRIPTION Palmolive Naturals menggunakan bahan-bahan terbaik dan alami untuk membuat kulit anda bersih dan terasa lebih lembut. Palmolive Naturals Milk & Honey diperkaya dengan manfaat protein susu dan ekstrak madu. Formulanya yang kaya mengandung mild cleansers yang membantu melembapkan dan merawat kulit dengan satu langkah mudah. Kulit menjadi lebih halus dan lebih lembut setiap kali mandi dengan Palmolive Naturals. 100% soap free, PH Balance yang sesuai dengan kulit, dermatologically tested, dan cukup untuk 200 kali mandi. Rasakan pengalaman mandi yang menyenangkan untuk setiap anggota keluarga anda. Cara Pakai : Tuang sabun ke tangan atau ke shower puff dengan menekan pump botol, lalu usapkan ke seluruh badan. Bilas hingga bersih dengan air. Kandungan : Water, Sodium Laureth Sulfate, Cocamidopropyl Betaine, Fragrance, Sodium Cholride, Cocamide MEA, Styrene / Acrylates Copolymer, Sodium Salicylate, Sodium Benzoate, Polyquaternium-7, Glycol Distearate, Tetrasodium EDTA, Citric Acid, Lactose, Poloxamer 124, Honey, Milk Protein, CI 19140, CI 16035",
                  "Hmmmm aku beli langsung yang gede gk nyangka juga kalau bakalan se berat itu wkwkwk. Ternyata 1L wkwkwk ini mah bisa buat setaun gasih? Lebay wkwwk asli baunya enak bngt wangiii trus gak licinn ke kulit after effectnya. Cuma herannya wangi nya nempel banget coy like what???? Harganya jg affordable sih menurutku untuk ukuran 1L cuma 80an something beli di oren 😭😭😭",
                  "Combination",
                  "25 - 29",
                  "5"
                ],
                [
                  "8587",
                  "https://reviews.femaledaily.com/products/cleanser/scrub-exfoliator/wardah/lightening-gentle-exfoliator",
                  "Lightening Gentle Exfoliator",
                  "Wardah",
                  "Cleanser / Scrub-Exfoliator",
                  "Rp. 16.000",
                  "3.1",
                  "686",
                  "DESCRIPTION Wardah Lightening Gentle Exfoliator merupakan exfoliator dengan Advanced Niacinamide untuk kulit tampak cerah alami. Scrub Gentle Microfoliant yang lembut untuk angkat sebum dan sel kulit mati sehingga kulit terasa lebih halus. Mengandung Advanced Niacinamide yang bantu kulit tampak lebih cerah dengan pemakaian teratur.Tersedia dalam ukuran:50 ml : Rp 16.000How to use:Tuang produk pada telapak tangan. Usapkan pada wajah, pijat dengan lembut. Bilas dengan air.Suitable for:Semua jenis kulitIngredients:Aqua, Sodium Laureth Sulfate, Niacinamide, PEG-3 Distearate, Hydrated Silica, Glycerin, Acrylates Copolymer, Hydroxyethylcellulose, Cocamidopropyl Betaine, Phenoxyethanol, Sodium Lauroyl Sarcosinate, Sodium Chloride, Ethylhexylglycerin, Fragrance, Sodium Nitrate, Citric Acid, Propylene Glycol, Disodium Phosphate, Polysorbate 60, Glycyrrhiza Glabra (root) Extract, Sodium Phosphate, CI 74160.",
                  "Suka sama exfo ini, affordable dan ramah di muka hehe Ditemuinnya juga gampang, karna di minimarket pun ada, ngga perlu ke drugstore. Butiran scrubnyajuga pas.Baunyajugaenak,ngganyengatgitu. Langsung bikin cerah dan alus pas selesai pake. Repurchase? Yes",
                  "Oily",
                  "35 - 39",
                  "4"
                ]
              ],
              "shape": {
                "columns": 12,
                "rows": 5
              }
            },
            "text/html": [
              "<div>\n",
              "<style scoped>\n",
              "    .dataframe tbody tr th:only-of-type {\n",
              "        vertical-align: middle;\n",
              "    }\n",
              "\n",
              "    .dataframe tbody tr th {\n",
              "        vertical-align: top;\n",
              "    }\n",
              "\n",
              "    .dataframe thead th {\n",
              "        text-align: right;\n",
              "    }\n",
              "</style>\n",
              "<table border=\"1\" class=\"dataframe\">\n",
              "  <thead>\n",
              "    <tr style=\"text-align: right;\">\n",
              "      <th></th>\n",
              "      <th>url</th>\n",
              "      <th>product_name</th>\n",
              "      <th>brand</th>\n",
              "      <th>category</th>\n",
              "      <th>price</th>\n",
              "      <th>rating</th>\n",
              "      <th>total_reviews</th>\n",
              "      <th>description</th>\n",
              "      <th>review</th>\n",
              "      <th>skin_type</th>\n",
              "      <th>age</th>\n",
              "      <th>rating_star</th>\n",
              "    </tr>\n",
              "  </thead>\n",
              "  <tbody>\n",
              "    <tr>\n",
              "      <th>15558</th>\n",
              "      <td>https://reviews.femaledaily.com/products/treat...</td>\n",
              "      <td>2.5</td>\n",
              "      <td>Benzolac</td>\n",
              "      <td>Treatment / Acne Treatment</td>\n",
              "      <td>Rp. 15.000</td>\n",
              "      <td>3.4</td>\n",
              "      <td>667</td>\n",
              "      <td>DESCRIPTION Benzolac Benzoyl Peroxide 2.5% ada...</td>\n",
              "      <td>Obat jerawat ini ngaruh sih buat ngobatin jera...</td>\n",
              "      <td>Normal</td>\n",
              "      <td>25 - 29</td>\n",
              "      <td>5</td>\n",
              "    </tr>\n",
              "    <tr>\n",
              "      <th>22124</th>\n",
              "      <td>https://reviews.femaledaily.com/products/moist...</td>\n",
              "      <td>Dramatically Different Moisturizing Gel</td>\n",
              "      <td>CLINIQUE</td>\n",
              "      <td>Moisturizer / Gel</td>\n",
              "      <td>Rp. 0</td>\n",
              "      <td>4.2</td>\n",
              "      <td>546</td>\n",
              "      <td>DESCRIPTION Clinique Dramatically Different Mo...</td>\n",
              "      <td>karna sudah coba yang moisture surge, pingin c...</td>\n",
              "      <td>Combination</td>\n",
              "      <td>19 - 24</td>\n",
              "      <td>5</td>\n",
              "    </tr>\n",
              "    <tr>\n",
              "      <th>31968</th>\n",
              "      <td>https://reviews.femaledaily.com/products/treat...</td>\n",
              "      <td>Dead Skin Cell Remover</td>\n",
              "      <td>Envygreen</td>\n",
              "      <td>Treatment / Peeling</td>\n",
              "      <td>Rp. 56.000</td>\n",
              "      <td>4.3</td>\n",
              "      <td>542</td>\n",
              "      <td>DESCRIPTION Envygreen Dead Skin Cell Remover m...</td>\n",
              "      <td>awalnya bingung pemakaiannya kyk lotion tapi p...</td>\n",
              "      <td>Oily</td>\n",
              "      <td>25 - 29</td>\n",
              "      <td>5</td>\n",
              "    </tr>\n",
              "    <tr>\n",
              "      <th>30457</th>\n",
              "      <td>https://reviews.femaledaily.com/products/body-...</td>\n",
              "      <td>Naturals Shower Milk</td>\n",
              "      <td>Palmolive</td>\n",
              "      <td>Moisturizer / Cream</td>\n",
              "      <td>Rp. 85.900</td>\n",
              "      <td>4.4</td>\n",
              "      <td>438</td>\n",
              "      <td>DESCRIPTION Palmolive Naturals menggunakan bah...</td>\n",
              "      <td>Hmmmm aku beli langsung yang gede gk nyangka j...</td>\n",
              "      <td>Combination</td>\n",
              "      <td>25 - 29</td>\n",
              "      <td>5</td>\n",
              "    </tr>\n",
              "    <tr>\n",
              "      <th>8587</th>\n",
              "      <td>https://reviews.femaledaily.com/products/clean...</td>\n",
              "      <td>Lightening Gentle Exfoliator</td>\n",
              "      <td>Wardah</td>\n",
              "      <td>Cleanser / Scrub-Exfoliator</td>\n",
              "      <td>Rp. 16.000</td>\n",
              "      <td>3.1</td>\n",
              "      <td>686</td>\n",
              "      <td>DESCRIPTION Wardah Lightening Gentle Exfoliato...</td>\n",
              "      <td>Suka sama exfo ini, affordable dan ramah di mu...</td>\n",
              "      <td>Oily</td>\n",
              "      <td>35 - 39</td>\n",
              "      <td>4</td>\n",
              "    </tr>\n",
              "  </tbody>\n",
              "</table>\n",
              "</div>"
            ],
            "text/plain": [
              "                                                     url  \\\n",
              "15558  https://reviews.femaledaily.com/products/treat...   \n",
              "22124  https://reviews.femaledaily.com/products/moist...   \n",
              "31968  https://reviews.femaledaily.com/products/treat...   \n",
              "30457  https://reviews.femaledaily.com/products/body-...   \n",
              "8587   https://reviews.femaledaily.com/products/clean...   \n",
              "\n",
              "                                  product_name      brand  \\\n",
              "15558                                      2.5   Benzolac   \n",
              "22124  Dramatically Different Moisturizing Gel   CLINIQUE   \n",
              "31968                   Dead Skin Cell Remover  Envygreen   \n",
              "30457                     Naturals Shower Milk  Palmolive   \n",
              "8587              Lightening Gentle Exfoliator     Wardah   \n",
              "\n",
              "                          category       price  rating  total_reviews  \\\n",
              "15558   Treatment / Acne Treatment  Rp. 15.000     3.4            667   \n",
              "22124            Moisturizer / Gel       Rp. 0     4.2            546   \n",
              "31968          Treatment / Peeling  Rp. 56.000     4.3            542   \n",
              "30457          Moisturizer / Cream  Rp. 85.900     4.4            438   \n",
              "8587   Cleanser / Scrub-Exfoliator  Rp. 16.000     3.1            686   \n",
              "\n",
              "                                             description  \\\n",
              "15558  DESCRIPTION Benzolac Benzoyl Peroxide 2.5% ada...   \n",
              "22124  DESCRIPTION Clinique Dramatically Different Mo...   \n",
              "31968  DESCRIPTION Envygreen Dead Skin Cell Remover m...   \n",
              "30457  DESCRIPTION Palmolive Naturals menggunakan bah...   \n",
              "8587   DESCRIPTION Wardah Lightening Gentle Exfoliato...   \n",
              "\n",
              "                                                  review    skin_type  \\\n",
              "15558  Obat jerawat ini ngaruh sih buat ngobatin jera...       Normal   \n",
              "22124  karna sudah coba yang moisture surge, pingin c...  Combination   \n",
              "31968  awalnya bingung pemakaiannya kyk lotion tapi p...         Oily   \n",
              "30457  Hmmmm aku beli langsung yang gede gk nyangka j...  Combination   \n",
              "8587   Suka sama exfo ini, affordable dan ramah di mu...         Oily   \n",
              "\n",
              "           age rating_star  \n",
              "15558  25 - 29           5  \n",
              "22124  19 - 24           5  \n",
              "31968  25 - 29           5  \n",
              "30457  25 - 29           5  \n",
              "8587   35 - 39           4  "
            ]
          },
          "execution_count": 20,
          "metadata": {},
          "output_type": "execute_result"
        }
      ],
      "source": [
        "# Gabung dengan tabel review berdasarkan URL\n",
        "df_combined = df_products.merge(reviews, left_on='url', right_on='product_url', how='left', suffixes=('_products', '_reviews'))\n",
        "\n",
        "# Rename kolom agar seragam dan rapi\n",
        "df_combined = df_combined.rename(columns={\n",
        "    'product_name_products': 'product_name'})\n",
        "\n",
        "# Pilih hanya kolom yang dibutuhkan\n",
        "df_combined_used = df_combined[[\n",
        "    'url','product_name', 'brand', 'category', 'price', 'rating', 'total_reviews',\n",
        "    'description', 'review', 'skin_type', 'age', 'rating_star'\n",
        "]]\n",
        "\n",
        "df_combined_used.sample(5)"
      ]
    },
    {
      "cell_type": "code",
      "execution_count": 21,
      "id": "Pb5wZO8wm5l_",
      "metadata": {
        "colab": {
          "base_uri": "https://localhost:8080/"
        },
        "id": "Pb5wZO8wm5l_",
        "outputId": "9a58fdc0-022e-467b-ec8a-55a1c7ed0e0c"
      },
      "outputs": [
        {
          "name": "stdout",
          "output_type": "stream",
          "text": [
            "<class 'pandas.core.frame.DataFrame'>\n",
            "RangeIndex: 33844 entries, 0 to 33843\n",
            "Data columns (total 12 columns):\n",
            " #   Column         Non-Null Count  Dtype  \n",
            "---  ------         --------------  -----  \n",
            " 0   url            33844 non-null  object \n",
            " 1   product_name   33844 non-null  object \n",
            " 2   brand          33844 non-null  object \n",
            " 3   category       33844 non-null  object \n",
            " 4   price          28541 non-null  object \n",
            " 5   rating         33844 non-null  float64\n",
            " 6   total_reviews  33844 non-null  int64  \n",
            " 7   description    31398 non-null  object \n",
            " 8   review         33051 non-null  object \n",
            " 9   skin_type      31777 non-null  object \n",
            " 10  age            33027 non-null  object \n",
            " 11  rating_star    33051 non-null  object \n",
            "dtypes: float64(1), int64(1), object(10)\n",
            "memory usage: 3.1+ MB\n"
          ]
        }
      ],
      "source": [
        "df_combined_used.info()"
      ]
    },
    {
      "cell_type": "code",
      "execution_count": null,
      "id": "AyOjNlhdnyUd",
      "metadata": {
        "id": "AyOjNlhdnyUd"
      },
      "outputs": [],
      "source": [
        "df_combined_used.to_csv('../data/products_used_features.csv', index=False)"
      ]
    },
    {
      "cell_type": "markdown",
      "id": "ykOweibJwGvv",
      "metadata": {
        "id": "ykOweibJwGvv"
      },
      "source": [
        "## Ekstraksi Fitur"
      ]
    },
    {
      "cell_type": "code",
      "execution_count": 23,
      "id": "EaqlrlIdrR_B",
      "metadata": {
        "id": "EaqlrlIdrR_B"
      },
      "outputs": [],
      "source": [
        "df_extracted = df_combined_used.copy()"
      ]
    },
    {
      "cell_type": "code",
      "execution_count": null,
      "id": "vEuVY6HorK_m",
      "metadata": {
        "colab": {
          "base_uri": "https://localhost:8080/",
          "height": 557
        },
        "id": "vEuVY6HorK_m",
        "outputId": "76bf29d4-512a-4694-db6b-baf6e5d7ecf0"
      },
      "outputs": [],
      "source": [
        "import re\n",
        "\n",
        "# Kata kunci dari user\n",
        "ingredients_keywords = [\n",
        "    'niacinamide', 'asam salisilat', 'salicylic acid', 'retinol', 'vitamin c',\n",
        "    'asam hialuronat', 'hyaluronic acid', 'ceramide', 'asam azelaic', 'azelaic acid',\n",
        "    'aha', 'bha', 'zinc', 'teh hijau', 'green tea', 'peptida', 'peptides',\n",
        "    'gliserin', 'glycerin', 'squalane', 'panthenol', 'allantoin'\n",
        "]\n",
        "\n",
        "skin_concern_keywords = [\n",
        "    'jerawat', 'acne', 'flek hitam', 'dark spots', 'hiperpigmentasi', 'hyperpigmentation',\n",
        "    'kerutan', 'wrinkles', 'kemerahan', 'redness', 'kulit berminyak', 'oiliness',\n",
        "    'kulit kering', 'dryness', 'pori-pori', 'pores', 'tekstur tidak merata',\n",
        "    'uneven texture', 'garis halus', 'fine lines'\n",
        "]\n",
        "\n",
        "skin_type_keywords = [\n",
        "    'kulit berminyak', 'oily skin',\n",
        "    'kulit kering', 'dry skin',\n",
        "    'kulit kombinasi', 'combination skin',\n",
        "    'kulit normal', 'normal skin',\n",
        "    'kulit sensitif', 'sensitive skin'\n",
        "]\n",
        "\n",
        "skin_goal_keywords = [\n",
        "    'kulit cerah', 'mencerahkan', 'brighten', 'bright skin',\n",
        "    'kulit glowing', 'bercahaya', 'glowing skin', 'radiant',\n",
        "    'kulit kenyal', 'mengenyalkan kulit', 'plump skin', 'plumping',\n",
        "    'kulit lembab', 'kulit lembap', 'melembapkan', 'melembabkan','menghidrasi', 'moisturize', 'hydrate',\n",
        "    'mengencangkan kulit', 'firming skin',\n",
        "    'menghaluskan kulit', 'kulit halus', 'smooth skin',\n",
        "    'meratakan warna kulit', 'warna kulit merata', 'even skin tone',\n",
        "    'anti-penuaan', 'mencegah penuaan', 'anti-aging', 'prevent aging',\n",
        "    'memperbaiki skin barrier', 'memperkuat skin barrier', 'repair skin barrier', 'strengthen skin barrier',\n",
        "    'mengontrol minyak', 'mengkontrol minyak', 'mengurangi minyak', 'oil control', 'reduce oil',\n",
        "    'mengecilkan pori', 'pori-pori tampak kecil', 'minimize pores', 'refined pores',\n",
        "    'menyamarkan bekas jerawat', 'memudarkan bekas jerawat', 'fade acne scars', 'fade acne marks',\n",
        "    'kulit segar', 'menyegarkan kulit', 'fresh skin', 'refreshing skin',\n",
        "    'mempercepat regenerasi kulit', 'membantu regenerasi','regenerasi kulit', 'skin regeneration',\n",
        "    'kulit sehat', 'healthy skin',\n",
        "    'menutrisi kulit', 'nourish skin'\n",
        "]\n",
        "\n",
        "# Gabungkan kolom review dan description (tangani NaN)\n",
        "df_extracted['text_combined'] = (df_extracted['review'].fillna('') + ' ' + df_extracted['description'].fillna('')).str.lower()\n",
        "\n",
        "# Fungsi untuk ekstraksi fitur berdasarkan kata kunci\n",
        "def extract_keywords(text, keywords):\n",
        "    found = set()\n",
        "    for keyword in keywords:\n",
        "        if re.search(r'\\b' + re.escape(keyword) + r'\\b', text):\n",
        "            found.add(keyword)\n",
        "    return ', '.join(found) if found else None\n",
        "\n",
        "# Ekstraksi fitur\n",
        "df_extracted['found_ingredients'] = df_extracted['text_combined'].apply(lambda x: extract_keywords(x, ingredients_keywords))\n",
        "df_extracted['found_skin_concern'] = df_extracted['text_combined'].apply(lambda x: extract_keywords(x, skin_concern_keywords))\n",
        "df_extracted['found_skin_type'] = df_extracted['text_combined'].apply(lambda x: extract_keywords(x, skin_type_keywords))\n",
        "df_extracted['found_skin_goal'] = df_extracted['text_combined'].apply(lambda x: extract_keywords(x, skin_goal_keywords))\n",
        "\n",
        "# Tampilkan hasil contoh\n",
        "df_extracted[['text_combined', 'found_ingredients', 'found_skin_concern', 'found_skin_type','found_skin_goal']].head(10)\n"
      ]
    },
    {
      "cell_type": "code",
      "execution_count": null,
      "id": "FpHifOvLr-7n",
      "metadata": {
        "colab": {
          "base_uri": "https://localhost:8080/"
        },
        "id": "FpHifOvLr-7n",
        "outputId": "39fdc97a-5191-4d19-be67-e6a9a5109d4c"
      },
      "outputs": [
        {
          "name": "stdout",
          "output_type": "stream",
          "text": [
            "<class 'pandas.core.frame.DataFrame'>\n",
            "RangeIndex: 33844 entries, 0 to 33843\n",
            "Data columns (total 17 columns):\n",
            " #   Column              Non-Null Count  Dtype  \n",
            "---  ------              --------------  -----  \n",
            " 0   url                 33844 non-null  object \n",
            " 1   product_name        33844 non-null  object \n",
            " 2   brand               33844 non-null  object \n",
            " 3   category            33844 non-null  object \n",
            " 4   price               28541 non-null  object \n",
            " 5   rating              33844 non-null  float64\n",
            " 6   total_reviews       33844 non-null  int64  \n",
            " 7   description         31398 non-null  object \n",
            " 8   review              33051 non-null  object \n",
            " 9   skin_type           31777 non-null  object \n",
            " 10  age                 33027 non-null  object \n",
            " 11  rating_star         33051 non-null  object \n",
            " 12  text_combined       33844 non-null  object \n",
            " 13  found_ingredients   18920 non-null  object \n",
            " 14  found_skin_concern  18013 non-null  object \n",
            " 15  found_skin_type     9997 non-null   object \n",
            " 16  found_skin_goal     17695 non-null  object \n",
            "dtypes: float64(1), int64(1), object(15)\n",
            "memory usage: 4.4+ MB\n"
          ]
        }
      ],
      "source": [
        "df_extracted.info()"
      ]
    },
    {
      "cell_type": "code",
      "execution_count": null,
      "id": "Zkz0ZsO8tw0W",
      "metadata": {
        "colab": {
          "base_uri": "https://localhost:8080/"
        },
        "id": "Zkz0ZsO8tw0W",
        "outputId": "f61c6a82-1679-4b18-c8bc-24895442ad46"
      },
      "outputs": [
        {
          "name": "stdout",
          "output_type": "stream",
          "text": [
            "              found_skin_type std_skin_type  found_skin_concern  \\\n",
            "0  kulit kering, kulit normal   dry, normal        kulit kering   \n",
            "1                    dry skin           dry       acne, jerawat   \n",
            "2                        None          None           kemerahan   \n",
            "3                kulit kering           dry  acne, kulit kering   \n",
            "4                    dry skin           dry                None   \n",
            "\n",
            "  std_skin_concern found_ingredients  std_ingredients found_skin_goal  \\\n",
            "0          dryness   hyaluronic acid  hyaluronic acid     melembabkan   \n",
            "1             acne   hyaluronic acid  hyaluronic acid            None   \n",
            "2          redness   hyaluronic acid  hyaluronic acid            None   \n",
            "3    acne, dryness   hyaluronic acid  hyaluronic acid            None   \n",
            "4             None   hyaluronic acid  hyaluronic acid            None   \n",
            "\n",
            "  std_skin_goal  \n",
            "0     hydrating  \n",
            "1          None  \n",
            "2          None  \n",
            "3          None  \n",
            "4          None  \n"
          ]
        }
      ],
      "source": [
        "df_std = df_extracted.copy()\n",
        "\n",
        "# Peta sinonim ke bentuk standar\n",
        "skin_type_synonyms = {\n",
        "    'kulit berminyak': 'oily',\n",
        "    'oily skin': 'oily',\n",
        "    'kulit kering': 'dry',\n",
        "    'dry skin': 'dry',\n",
        "    'kulit kombinasi': 'combination',\n",
        "    'combination skin': 'combination',\n",
        "    'kulit normal': 'normal',\n",
        "    'normal skin': 'normal',\n",
        "    'kulit sensitif': 'sensitive',\n",
        "    'sensitive skin': 'sensitive'\n",
        "}\n",
        "\n",
        "skin_concern_synonyms = {\n",
        "    'jerawat': 'acne',\n",
        "    'acne': 'acne',\n",
        "    'flek hitam': 'dark spots',\n",
        "    'dark spots': 'dark spots',\n",
        "    'hiperpigmentasi': 'hyperpigmentation',\n",
        "    'hyperpigmentation': 'hyperpigmentation',\n",
        "    'kerutan': 'wrinkles',\n",
        "    'wrinkles': 'wrinkles',\n",
        "    'kemerahan': 'redness',\n",
        "    'redness': 'redness',\n",
        "    'kulit berminyak': 'oiliness',\n",
        "    'oiliness': 'oiliness',\n",
        "    'kulit kering': 'dryness',\n",
        "    'dryness': 'dryness',\n",
        "    'pori-pori': 'pores',\n",
        "    'pores': 'pores',\n",
        "    'tekstur tidak merata': 'uneven texture',\n",
        "    'uneven texture': 'uneven texture',\n",
        "    'garis halus': 'fine lines',\n",
        "    'fine lines': 'fine lines'\n",
        "}\n",
        "\n",
        "ingredient_synonyms = {\n",
        "    'salicylic acid': 'salicylic acid',\n",
        "    'asam salisilat': 'salicylic acid',\n",
        "    'hyaluronic acid': 'hyaluronic acid',\n",
        "    'asam hialuronat': 'hyaluronic acid',\n",
        "    'azelaic acid': 'azelaic acid',\n",
        "    'asam azelaic': 'azelaic acid',\n",
        "    'green tea': 'green tea',\n",
        "    'teh hijau': 'green tea',\n",
        "    'peptides': 'peptides',\n",
        "    'peptida': 'peptides',\n",
        "    'glycerin': 'glycerin',\n",
        "    'gliserin': 'glycerin'\n",
        "}\n",
        "\n",
        "skin_goal_synonyms = {\n",
        "    # brightening\n",
        "    'kulit cerah': 'brightening',\n",
        "    'mencerahkan': 'brightening',\n",
        "    'brighten': 'brightening',\n",
        "    'bright skin': 'brightening',\n",
        "\n",
        "    # glowing\n",
        "    'kulit glowing': 'glowing',\n",
        "    'bercahaya': 'glowing',\n",
        "    'glowing skin': 'glowing',\n",
        "    'radiant': 'glowing',\n",
        "\n",
        "    # plumping\n",
        "    'kulit kenyal': 'plumping',\n",
        "    'mengenyalkan kulit': 'plumping',\n",
        "    'plump skin': 'plumping',\n",
        "    'plumping': 'plumping',\n",
        "\n",
        "    # hydrating\n",
        "    'kulit lembab':'hydrating',\n",
        "    'kulit lembap':'hydrating',\n",
        "    'melembabkan':'hydrating',\n",
        "    'melembapkan': 'hydrating',\n",
        "    'menghidrasi': 'hydrating',\n",
        "    'moisturize': 'hydrating',\n",
        "    'hydrate': 'hydrating',\n",
        "\n",
        "    # firming\n",
        "    'mengencangkan kulit': 'firming',\n",
        "    'firming skin': 'firming',\n",
        "\n",
        "    # smoothing\n",
        "    'menghaluskan kulit': 'smoothing',\n",
        "    'kulit halus': 'smoothing',\n",
        "    'smooth skin': 'smoothing',\n",
        "\n",
        "    # tone-evening\n",
        "    'meratakan warna kulit': 'tone-evening',\n",
        "    'warna kulit merata': 'tone-evening',\n",
        "    'even skin tone': 'tone-evening',\n",
        "\n",
        "    # anti-aging\n",
        "    'anti-penuaan': 'anti-aging',\n",
        "    'mencegah penuaan': 'anti-aging',\n",
        "    'anti-aging': 'anti-aging',\n",
        "    'prevent aging': 'anti-aging',\n",
        "\n",
        "    # barrier-repair\n",
        "    'memperbaiki skin barrier': 'barrier-repair',\n",
        "    'memperkuat skin barrier': 'barrier-repair',\n",
        "    'repair skin barrier': 'barrier-repair',\n",
        "    'strengthen skin barrier': 'barrier-repair',\n",
        "\n",
        "    # oil-control\n",
        "    'mengontrol minyak': 'oil-control',\n",
        "    'mengkontrol minyak': 'oil-control',\n",
        "    'mengurangi minyak': 'oil-control',\n",
        "    'oil control': 'oil-control',\n",
        "    'reduce oil': 'oil-control',\n",
        "\n",
        "    # pore-minimizing\n",
        "    'mengecilkan pori': 'pore-minimizing',\n",
        "    'pori-pori tampak kecil': 'pore-minimizing',\n",
        "    'minimize pores': 'pore-minimizing',\n",
        "    'refined pores': 'pore-minimizing',\n",
        "\n",
        "    # scar-fading\n",
        "    'menyamarkan bekas jerawat': 'scar-fading',\n",
        "    'memudarkan bekas jerawat': 'scar-fading',\n",
        "    'fade acne scars': 'scar-fading',\n",
        "    'fade acne marks': 'scar-fading',\n",
        "\n",
        "    # refreshing\n",
        "    'kulit segar': 'refreshing',\n",
        "    'menyegarkan kulit': 'refreshing',\n",
        "    'fresh skin': 'refreshing',\n",
        "    'refreshing skin': 'refreshing',\n",
        "\n",
        "    # regenerating\n",
        "    'mempercepat regenerasi kulit': 'regenerating',\n",
        "    'skin regeneration': 'regenerating',\n",
        "    'membantu regenerasi':'regenerating',\n",
        "    'regenerasi kulit':'regenerating',\n",
        "\n",
        "    # healthy\n",
        "    'kulit sehat': 'healthy',\n",
        "    'healthy skin': 'healthy',\n",
        "\n",
        "    # nourishing\n",
        "    'menutrisi kulit': 'nourishing',\n",
        "    'nourish skin': 'nourishing'\n",
        "}\n",
        "\n",
        "# Fungsi untuk standarisasi kata kunci\n",
        "def standardize_keywords(found_text, synonym_map):\n",
        "    if pd.isna(found_text):\n",
        "        return None\n",
        "    keywords = [kw.strip() for kw in found_text.split(',')]\n",
        "    standardized = set()\n",
        "    for kw in keywords:\n",
        "        if kw in synonym_map:\n",
        "            standardized.add(synonym_map[kw])\n",
        "        else:\n",
        "            standardized.add(kw)  # kata kunci yang tidak dikenali tetap dipakai\n",
        "    return ', '.join(sorted(standardized))\n",
        "\n",
        "# Terapkan pada DataFrame kamu\n",
        "df_std['std_skin_type'] = df_std['found_skin_type'].apply(lambda x: standardize_keywords(x, skin_type_synonyms))\n",
        "df_std['std_skin_concern'] = df_std['found_skin_concern'].apply(lambda x: standardize_keywords(x, skin_concern_synonyms))\n",
        "df_std['std_ingredients'] = df_std['found_ingredients'].apply(lambda x: standardize_keywords(x, ingredient_synonyms))\n",
        "df_std['std_skin_goal'] = df_std['found_skin_goal'].apply(lambda x: standardize_keywords(x, skin_goal_synonyms))\n",
        "\n",
        "# Contoh hasil\n",
        "print(df_std[['found_skin_type', 'std_skin_type', 'found_skin_concern', 'std_skin_concern', 'found_ingredients', 'std_ingredients','found_skin_goal','std_skin_goal']].head())\n"
      ]
    },
    {
      "cell_type": "code",
      "execution_count": null,
      "id": "iOgOHYcAx02K",
      "metadata": {
        "colab": {
          "base_uri": "https://localhost:8080/"
        },
        "id": "iOgOHYcAx02K",
        "outputId": "f5ad3cfd-965c-4416-dff4-a69dcb018a80"
      },
      "outputs": [
        {
          "name": "stdout",
          "output_type": "stream",
          "text": [
            "<class 'pandas.core.frame.DataFrame'>\n",
            "RangeIndex: 33844 entries, 0 to 33843\n",
            "Data columns (total 21 columns):\n",
            " #   Column              Non-Null Count  Dtype  \n",
            "---  ------              --------------  -----  \n",
            " 0   url                 33844 non-null  object \n",
            " 1   product_name        33844 non-null  object \n",
            " 2   brand               33844 non-null  object \n",
            " 3   category            33844 non-null  object \n",
            " 4   price               28541 non-null  object \n",
            " 5   rating              33844 non-null  float64\n",
            " 6   total_reviews       33844 non-null  int64  \n",
            " 7   description         31398 non-null  object \n",
            " 8   review              33051 non-null  object \n",
            " 9   skin_type           31777 non-null  object \n",
            " 10  age                 33027 non-null  object \n",
            " 11  rating_star         33051 non-null  object \n",
            " 12  text_combined       33844 non-null  object \n",
            " 13  found_ingredients   18920 non-null  object \n",
            " 14  found_skin_concern  18013 non-null  object \n",
            " 15  found_skin_type     9997 non-null   object \n",
            " 16  found_skin_goal     17695 non-null  object \n",
            " 17  std_skin_type       9997 non-null   object \n",
            " 18  std_skin_concern    18013 non-null  object \n",
            " 19  std_ingredients     18920 non-null  object \n",
            " 20  std_skin_goal       17695 non-null  object \n",
            "dtypes: float64(1), int64(1), object(19)\n",
            "memory usage: 5.4+ MB\n"
          ]
        }
      ],
      "source": [
        "df_std.info()"
      ]
    },
    {
      "cell_type": "code",
      "execution_count": null,
      "id": "Twanl_pK0kIB",
      "metadata": {
        "id": "Twanl_pK0kIB"
      },
      "outputs": [],
      "source": [
        "df_std.to_csv(\"../data/products_extracted_features.csv\", index=False)"
      ]
    }
  ],
  "metadata": {
    "colab": {
      "provenance": []
    },
    "kernelspec": {
      "display_name": "Python 3",
      "language": "python",
      "name": "python3"
    },
    "language_info": {
      "codemirror_mode": {
        "name": "ipython",
        "version": 3
      },
      "file_extension": ".py",
      "mimetype": "text/x-python",
      "name": "python",
      "nbconvert_exporter": "python",
      "pygments_lexer": "ipython3",
      "version": "3.11.0"
    }
  },
  "nbformat": 4,
  "nbformat_minor": 5
}
