{
 "cells": [
  {
   "cell_type": "code",
   "execution_count": 2,
   "id": "fd6bdbe4",
   "metadata": {},
   "outputs": [],
   "source": [
    "# Import necessary libraries\n",
    "import os\n",
    "import numpy as np\n",
    "import pandas as pd\n",
    "import seaborn as sns\n",
    "import matplotlib.pyplot as plt"
   ]
  },
  {
   "cell_type": "code",
   "execution_count": 3,
   "id": "125c29cb",
   "metadata": {},
   "outputs": [],
   "source": [
    "# Load the dataset\n",
    "products_list = pd.read_csv('../data/products_list.csv')\n",
    "products_details = pd.read_csv('../data/products_detail.csv')\n",
    "reviews = pd.read_csv('../data/reviews.csv')"
   ]
  },
  {
   "cell_type": "markdown",
   "id": "97bfc22d",
   "metadata": {},
   "source": [
    "## Products List"
   ]
  },
  {
   "cell_type": "code",
   "execution_count": 4,
   "id": "b04df04f",
   "metadata": {},
   "outputs": [
    {
     "data": {
      "text/html": [
       "<div>\n",
       "<style scoped>\n",
       "    .dataframe tbody tr th:only-of-type {\n",
       "        vertical-align: middle;\n",
       "    }\n",
       "\n",
       "    .dataframe tbody tr th {\n",
       "        vertical-align: top;\n",
       "    }\n",
       "\n",
       "    .dataframe thead th {\n",
       "        text-align: right;\n",
       "    }\n",
       "</style>\n",
       "<table border=\"1\" class=\"dataframe\">\n",
       "  <thead>\n",
       "    <tr style=\"text-align: right;\">\n",
       "      <th></th>\n",
       "      <th>name</th>\n",
       "      <th>brand</th>\n",
       "      <th>image</th>\n",
       "      <th>url</th>\n",
       "      <th>rating</th>\n",
       "      <th>total_reviews</th>\n",
       "      <th>category</th>\n",
       "    </tr>\n",
       "  </thead>\n",
       "  <tbody>\n",
       "    <tr>\n",
       "      <th>0</th>\n",
       "      <td>Gokujyun Ultimate Moisturizing Lotion</td>\n",
       "      <td>Hada Labo</td>\n",
       "      <td>https://image.femaledaily.com/dyn/210/images/p...</td>\n",
       "      <td>https://reviews.femaledaily.com/products/clean...</td>\n",
       "      <td>4.4</td>\n",
       "      <td>5928</td>\n",
       "      <td>Cleanser / Toner</td>\n",
       "    </tr>\n",
       "    <tr>\n",
       "      <th>1</th>\n",
       "      <td>AHA BHA PHA 30 Days Miracle Toner</td>\n",
       "      <td>Some by Mi</td>\n",
       "      <td>https://image.femaledaily.com/dyn/210/images/p...</td>\n",
       "      <td>https://reviews.femaledaily.com/products/clean...</td>\n",
       "      <td>3.6</td>\n",
       "      <td>5139</td>\n",
       "      <td>Cleanser / Toner</td>\n",
       "    </tr>\n",
       "    <tr>\n",
       "      <th>2</th>\n",
       "      <td>Air Mawar</td>\n",
       "      <td>Viva Cosmetics</td>\n",
       "      <td>https://image.femaledaily.com/dyn/210/images/p...</td>\n",
       "      <td>https://reviews.femaledaily.com/products/clean...</td>\n",
       "      <td>4.1</td>\n",
       "      <td>5116</td>\n",
       "      <td>Cleanser / Toner</td>\n",
       "    </tr>\n",
       "    <tr>\n",
       "      <th>3</th>\n",
       "      <td>AHA/BHA Clarifying Treatment Toner</td>\n",
       "      <td>Cosrx</td>\n",
       "      <td>https://image.femaledaily.com/dyn/210/images/p...</td>\n",
       "      <td>https://reviews.femaledaily.com/products/clean...</td>\n",
       "      <td>4.0</td>\n",
       "      <td>4503</td>\n",
       "      <td>Cleanser / Toner</td>\n",
       "    </tr>\n",
       "    <tr>\n",
       "      <th>4</th>\n",
       "      <td>Miraculous Refining Toner</td>\n",
       "      <td>AVOSKIN</td>\n",
       "      <td>https://image.femaledaily.com/dyn/210/images/p...</td>\n",
       "      <td>https://reviews.femaledaily.com/products/clean...</td>\n",
       "      <td>4.5</td>\n",
       "      <td>4298</td>\n",
       "      <td>Cleanser / Toner</td>\n",
       "    </tr>\n",
       "  </tbody>\n",
       "</table>\n",
       "</div>"
      ],
      "text/plain": [
       "                                    name           brand  \\\n",
       "0  Gokujyun Ultimate Moisturizing Lotion       Hada Labo   \n",
       "1      AHA BHA PHA 30 Days Miracle Toner      Some by Mi   \n",
       "2                              Air Mawar  Viva Cosmetics   \n",
       "3     AHA/BHA Clarifying Treatment Toner           Cosrx   \n",
       "4              Miraculous Refining Toner         AVOSKIN   \n",
       "\n",
       "                                               image  \\\n",
       "0  https://image.femaledaily.com/dyn/210/images/p...   \n",
       "1  https://image.femaledaily.com/dyn/210/images/p...   \n",
       "2  https://image.femaledaily.com/dyn/210/images/p...   \n",
       "3  https://image.femaledaily.com/dyn/210/images/p...   \n",
       "4  https://image.femaledaily.com/dyn/210/images/p...   \n",
       "\n",
       "                                                 url  rating  total_reviews  \\\n",
       "0  https://reviews.femaledaily.com/products/clean...     4.4           5928   \n",
       "1  https://reviews.femaledaily.com/products/clean...     3.6           5139   \n",
       "2  https://reviews.femaledaily.com/products/clean...     4.1           5116   \n",
       "3  https://reviews.femaledaily.com/products/clean...     4.0           4503   \n",
       "4  https://reviews.femaledaily.com/products/clean...     4.5           4298   \n",
       "\n",
       "           category  \n",
       "0  Cleanser / Toner  \n",
       "1  Cleanser / Toner  \n",
       "2  Cleanser / Toner  \n",
       "3  Cleanser / Toner  \n",
       "4  Cleanser / Toner  "
      ]
     },
     "execution_count": 4,
     "metadata": {},
     "output_type": "execute_result"
    }
   ],
   "source": [
    "# Dataset products_list\n",
    "products_list.head(5)"
   ]
  },
  {
   "cell_type": "code",
   "execution_count": 5,
   "id": "a2c9e9b7",
   "metadata": {},
   "outputs": [
    {
     "name": "stdout",
     "output_type": "stream",
     "text": [
      "<class 'pandas.core.frame.DataFrame'>\n",
      "RangeIndex: 1000 entries, 0 to 999\n",
      "Data columns (total 7 columns):\n",
      " #   Column         Non-Null Count  Dtype  \n",
      "---  ------         --------------  -----  \n",
      " 0   name           1000 non-null   object \n",
      " 1   brand          1000 non-null   object \n",
      " 2   image          1000 non-null   object \n",
      " 3   url            1000 non-null   object \n",
      " 4   rating         1000 non-null   float64\n",
      " 5   total_reviews  1000 non-null   int64  \n",
      " 6   category       1000 non-null   object \n",
      "dtypes: float64(1), int64(1), object(5)\n",
      "memory usage: 54.8+ KB\n"
     ]
    }
   ],
   "source": [
    "# Cek info\n",
    "products_list.info()"
   ]
  },
  {
   "cell_type": "code",
   "execution_count": 6,
   "id": "d7137e79",
   "metadata": {},
   "outputs": [
    {
     "data": {
      "text/plain": [
       "(1000, 7)"
      ]
     },
     "execution_count": 6,
     "metadata": {},
     "output_type": "execute_result"
    }
   ],
   "source": [
    "# Cek jumlah data\n",
    "products_list.shape"
   ]
  },
  {
   "cell_type": "code",
   "execution_count": 7,
   "id": "4d723ec8",
   "metadata": {},
   "outputs": [
    {
     "data": {
      "text/plain": [
       "name             0\n",
       "brand            0\n",
       "image            0\n",
       "url              0\n",
       "rating           0\n",
       "total_reviews    0\n",
       "category         0\n",
       "dtype: int64"
      ]
     },
     "execution_count": 7,
     "metadata": {},
     "output_type": "execute_result"
    }
   ],
   "source": [
    "# Cek missing values\n",
    "products_list.isnull().sum()"
   ]
  },
  {
   "cell_type": "code",
   "execution_count": 8,
   "id": "20ecda33",
   "metadata": {},
   "outputs": [
    {
     "data": {
      "text/plain": [
       "0"
      ]
     },
     "execution_count": 8,
     "metadata": {},
     "output_type": "execute_result"
    }
   ],
   "source": [
    "# Cek data duplikat\n",
    "products_list.duplicated().sum()"
   ]
  },
  {
   "cell_type": "markdown",
   "id": "16f8a319",
   "metadata": {},
   "source": [
    "## Products Details"
   ]
  },
  {
   "cell_type": "code",
   "execution_count": 9,
   "id": "9b59ae0d",
   "metadata": {},
   "outputs": [
    {
     "data": {
      "text/html": [
       "<div>\n",
       "<style scoped>\n",
       "    .dataframe tbody tr th:only-of-type {\n",
       "        vertical-align: middle;\n",
       "    }\n",
       "\n",
       "    .dataframe tbody tr th {\n",
       "        vertical-align: top;\n",
       "    }\n",
       "\n",
       "    .dataframe thead th {\n",
       "        text-align: right;\n",
       "    }\n",
       "</style>\n",
       "<table border=\"1\" class=\"dataframe\">\n",
       "  <thead>\n",
       "    <tr style=\"text-align: right;\">\n",
       "      <th></th>\n",
       "      <th>url</th>\n",
       "      <th>name</th>\n",
       "      <th>brand</th>\n",
       "      <th>price</th>\n",
       "      <th>rating</th>\n",
       "      <th>description</th>\n",
       "    </tr>\n",
       "  </thead>\n",
       "  <tbody>\n",
       "    <tr>\n",
       "      <th>0</th>\n",
       "      <td>https://reviews.femaledaily.com/products/clean...</td>\n",
       "      <td>Gokujyun Ultimate Moisturizing Lotion</td>\n",
       "      <td>Hada Labo</td>\n",
       "      <td>Rp. 29.000</td>\n",
       "      <td>4.4</td>\n",
       "      <td>DESCRIPTION Hada Labo Gokujyun Ultimate Moistu...</td>\n",
       "    </tr>\n",
       "    <tr>\n",
       "      <th>1</th>\n",
       "      <td>https://reviews.femaledaily.com/products/clean...</td>\n",
       "      <td>AHA BHA PHA 30 Days Miracle Toner</td>\n",
       "      <td>Some by Mi</td>\n",
       "      <td>Rp. 189.000</td>\n",
       "      <td>3.6</td>\n",
       "      <td>DESCRIPTION Some by Mi AHA BHA PHA 30 Days Mir...</td>\n",
       "    </tr>\n",
       "    <tr>\n",
       "      <th>2</th>\n",
       "      <td>https://reviews.femaledaily.com/products/clean...</td>\n",
       "      <td>Air Mawar</td>\n",
       "      <td>Viva Cosmetics</td>\n",
       "      <td>Rp. 4.800</td>\n",
       "      <td>4.1</td>\n",
       "      <td>DESCRIPTION Viva Cosmetics Air Mawar mengandun...</td>\n",
       "    </tr>\n",
       "    <tr>\n",
       "      <th>3</th>\n",
       "      <td>https://reviews.femaledaily.com/products/clean...</td>\n",
       "      <td>AHA/BHA Clarifying Treatment Toner</td>\n",
       "      <td>Cosrx</td>\n",
       "      <td>Rp. 190.000</td>\n",
       "      <td>4.0</td>\n",
       "      <td>DESCRIPTION Cosrx AHA/BHA Clarifying Treatment...</td>\n",
       "    </tr>\n",
       "    <tr>\n",
       "      <th>4</th>\n",
       "      <td>https://reviews.femaledaily.com/products/clean...</td>\n",
       "      <td>Miraculous Refining Toner</td>\n",
       "      <td>AVOSKIN</td>\n",
       "      <td>NaN</td>\n",
       "      <td>4.5</td>\n",
       "      <td>DESCRIPTION Reformulation in 2022AVOSKIN Mirac...</td>\n",
       "    </tr>\n",
       "  </tbody>\n",
       "</table>\n",
       "</div>"
      ],
      "text/plain": [
       "                                                 url  \\\n",
       "0  https://reviews.femaledaily.com/products/clean...   \n",
       "1  https://reviews.femaledaily.com/products/clean...   \n",
       "2  https://reviews.femaledaily.com/products/clean...   \n",
       "3  https://reviews.femaledaily.com/products/clean...   \n",
       "4  https://reviews.femaledaily.com/products/clean...   \n",
       "\n",
       "                                    name           brand        price  rating  \\\n",
       "0  Gokujyun Ultimate Moisturizing Lotion       Hada Labo   Rp. 29.000     4.4   \n",
       "1      AHA BHA PHA 30 Days Miracle Toner      Some by Mi  Rp. 189.000     3.6   \n",
       "2                              Air Mawar  Viva Cosmetics    Rp. 4.800     4.1   \n",
       "3     AHA/BHA Clarifying Treatment Toner           Cosrx  Rp. 190.000     4.0   \n",
       "4              Miraculous Refining Toner         AVOSKIN          NaN     4.5   \n",
       "\n",
       "                                         description  \n",
       "0  DESCRIPTION Hada Labo Gokujyun Ultimate Moistu...  \n",
       "1  DESCRIPTION Some by Mi AHA BHA PHA 30 Days Mir...  \n",
       "2  DESCRIPTION Viva Cosmetics Air Mawar mengandun...  \n",
       "3  DESCRIPTION Cosrx AHA/BHA Clarifying Treatment...  \n",
       "4  DESCRIPTION Reformulation in 2022AVOSKIN Mirac...  "
      ]
     },
     "execution_count": 9,
     "metadata": {},
     "output_type": "execute_result"
    }
   ],
   "source": [
    "# Dataset products_details\n",
    "products_details.head(5)"
   ]
  },
  {
   "cell_type": "code",
   "execution_count": 10,
   "id": "c699d0c8",
   "metadata": {},
   "outputs": [
    {
     "name": "stdout",
     "output_type": "stream",
     "text": [
      "<class 'pandas.core.frame.DataFrame'>\n",
      "RangeIndex: 986 entries, 0 to 985\n",
      "Data columns (total 6 columns):\n",
      " #   Column       Non-Null Count  Dtype  \n",
      "---  ------       --------------  -----  \n",
      " 0   url          986 non-null    object \n",
      " 1   name         969 non-null    object \n",
      " 2   brand        969 non-null    object \n",
      " 3   price        921 non-null    object \n",
      " 4   rating       969 non-null    float64\n",
      " 5   description  969 non-null    object \n",
      "dtypes: float64(1), object(5)\n",
      "memory usage: 46.3+ KB\n"
     ]
    }
   ],
   "source": [
    "products_details.info()"
   ]
  },
  {
   "cell_type": "code",
   "execution_count": 11,
   "id": "3fad16f5",
   "metadata": {},
   "outputs": [
    {
     "data": {
      "text/plain": [
       "(986, 6)"
      ]
     },
     "execution_count": 11,
     "metadata": {},
     "output_type": "execute_result"
    }
   ],
   "source": [
    "# Cek jumlah data\n",
    "products_details.shape"
   ]
  },
  {
   "cell_type": "code",
   "execution_count": 12,
   "id": "a8181fa9",
   "metadata": {},
   "outputs": [
    {
     "data": {
      "text/plain": [
       "url             0\n",
       "name           17\n",
       "brand          17\n",
       "price          65\n",
       "rating         17\n",
       "description    17\n",
       "dtype: int64"
      ]
     },
     "execution_count": 12,
     "metadata": {},
     "output_type": "execute_result"
    }
   ],
   "source": [
    "# Cek missing values\n",
    "products_details.isnull().sum()"
   ]
  },
  {
   "cell_type": "code",
   "execution_count": 13,
   "id": "0edad96d",
   "metadata": {},
   "outputs": [
    {
     "data": {
      "text/plain": [
       "0"
      ]
     },
     "execution_count": 13,
     "metadata": {},
     "output_type": "execute_result"
    }
   ],
   "source": [
    "# Cek duplikat\n",
    "products_details.duplicated().sum()"
   ]
  },
  {
   "cell_type": "markdown",
   "id": "ac99c23d",
   "metadata": {},
   "source": [
    "## Reviews"
   ]
  },
  {
   "cell_type": "code",
   "execution_count": 14,
   "id": "42bfe35e",
   "metadata": {},
   "outputs": [
    {
     "data": {
      "text/html": [
       "<div>\n",
       "<style scoped>\n",
       "    .dataframe tbody tr th:only-of-type {\n",
       "        vertical-align: middle;\n",
       "    }\n",
       "\n",
       "    .dataframe tbody tr th {\n",
       "        vertical-align: top;\n",
       "    }\n",
       "\n",
       "    .dataframe thead th {\n",
       "        text-align: right;\n",
       "    }\n",
       "</style>\n",
       "<table border=\"1\" class=\"dataframe\">\n",
       "  <thead>\n",
       "    <tr style=\"text-align: right;\">\n",
       "      <th></th>\n",
       "      <th>username</th>\n",
       "      <th>skin_type</th>\n",
       "      <th>age</th>\n",
       "      <th>rating_star</th>\n",
       "      <th>recommended</th>\n",
       "      <th>review</th>\n",
       "      <th>review_date</th>\n",
       "      <th>usage_period</th>\n",
       "      <th>product_name</th>\n",
       "      <th>product_url</th>\n",
       "    </tr>\n",
       "  </thead>\n",
       "  <tbody>\n",
       "    <tr>\n",
       "      <th>0</th>\n",
       "      <td>nunabing</td>\n",
       "      <td>Dry</td>\n",
       "      <td>18 and Under</td>\n",
       "      <td>3</td>\n",
       "      <td>False</td>\n",
       "      <td>sorry aku kurang cocok sama produk ini, karena...</td>\n",
       "      <td>6 days ago</td>\n",
       "      <td>More than 1 year</td>\n",
       "      <td>Gokujyun Ultimate Moisturizing Lotion</td>\n",
       "      <td>https://reviews.femaledaily.com/products/clean...</td>\n",
       "    </tr>\n",
       "    <tr>\n",
       "      <th>1</th>\n",
       "      <td>itaaaafiryal_</td>\n",
       "      <td>Combination</td>\n",
       "      <td>19 - 24</td>\n",
       "      <td>5</td>\n",
       "      <td>True</td>\n",
       "      <td>dipake buat csm-an enak bgt, teksturnya cair, ...</td>\n",
       "      <td>15 May 2025</td>\n",
       "      <td>3 months - 6 months</td>\n",
       "      <td>Gokujyun Ultimate Moisturizing Lotion</td>\n",
       "      <td>https://reviews.femaledaily.com/products/clean...</td>\n",
       "    </tr>\n",
       "    <tr>\n",
       "      <th>2</th>\n",
       "      <td>huwaidaamany</td>\n",
       "      <td>Combination</td>\n",
       "      <td>18 and Under</td>\n",
       "      <td>5</td>\n",
       "      <td>True</td>\n",
       "      <td>Luvvvv banget, calming muka kalo lagi rewel, l...</td>\n",
       "      <td>14 May 2025</td>\n",
       "      <td>More than 1 year</td>\n",
       "      <td>Gokujyun Ultimate Moisturizing Lotion</td>\n",
       "      <td>https://reviews.femaledaily.com/products/clean...</td>\n",
       "    </tr>\n",
       "    <tr>\n",
       "      <th>3</th>\n",
       "      <td>ghisti</td>\n",
       "      <td>Oily</td>\n",
       "      <td>18 and Under</td>\n",
       "      <td>3</td>\n",
       "      <td>False</td>\n",
       "      <td>produk ini tu menurut aku cocok nya buat yang ...</td>\n",
       "      <td>12 May 2025</td>\n",
       "      <td>3 months - 6 months</td>\n",
       "      <td>Gokujyun Ultimate Moisturizing Lotion</td>\n",
       "      <td>https://reviews.femaledaily.com/products/clean...</td>\n",
       "    </tr>\n",
       "    <tr>\n",
       "      <th>4</th>\n",
       "      <td>Namanya_Gibraltar</td>\n",
       "      <td>Dry</td>\n",
       "      <td>18 and Under</td>\n",
       "      <td>4</td>\n",
       "      <td>True</td>\n",
       "      <td>Di aku cukip bantu Lembab tapi g kyk yg, woww ...</td>\n",
       "      <td>12 May 2025</td>\n",
       "      <td>6 months - 1 year</td>\n",
       "      <td>Gokujyun Ultimate Moisturizing Lotion</td>\n",
       "      <td>https://reviews.femaledaily.com/products/clean...</td>\n",
       "    </tr>\n",
       "  </tbody>\n",
       "</table>\n",
       "</div>"
      ],
      "text/plain": [
       "            username    skin_type           age rating_star recommended  \\\n",
       "0           nunabing          Dry  18 and Under           3       False   \n",
       "1      itaaaafiryal_  Combination       19 - 24           5        True   \n",
       "2       huwaidaamany  Combination  18 and Under           5        True   \n",
       "3             ghisti         Oily  18 and Under           3       False   \n",
       "4  Namanya_Gibraltar          Dry  18 and Under           4        True   \n",
       "\n",
       "                                              review  review_date  \\\n",
       "0  sorry aku kurang cocok sama produk ini, karena...   6 days ago   \n",
       "1  dipake buat csm-an enak bgt, teksturnya cair, ...  15 May 2025   \n",
       "2  Luvvvv banget, calming muka kalo lagi rewel, l...  14 May 2025   \n",
       "3  produk ini tu menurut aku cocok nya buat yang ...  12 May 2025   \n",
       "4  Di aku cukip bantu Lembab tapi g kyk yg, woww ...  12 May 2025   \n",
       "\n",
       "          usage_period                           product_name  \\\n",
       "0     More than 1 year  Gokujyun Ultimate Moisturizing Lotion   \n",
       "1  3 months - 6 months  Gokujyun Ultimate Moisturizing Lotion   \n",
       "2     More than 1 year  Gokujyun Ultimate Moisturizing Lotion   \n",
       "3  3 months - 6 months  Gokujyun Ultimate Moisturizing Lotion   \n",
       "4    6 months - 1 year  Gokujyun Ultimate Moisturizing Lotion   \n",
       "\n",
       "                                         product_url  \n",
       "0  https://reviews.femaledaily.com/products/clean...  \n",
       "1  https://reviews.femaledaily.com/products/clean...  \n",
       "2  https://reviews.femaledaily.com/products/clean...  \n",
       "3  https://reviews.femaledaily.com/products/clean...  \n",
       "4  https://reviews.femaledaily.com/products/clean...  "
      ]
     },
     "execution_count": 14,
     "metadata": {},
     "output_type": "execute_result"
    }
   ],
   "source": [
    "# Dataset reviews\n",
    "reviews.head(5)"
   ]
  },
  {
   "cell_type": "code",
   "execution_count": 15,
   "id": "83c11011",
   "metadata": {},
   "outputs": [
    {
     "name": "stdout",
     "output_type": "stream",
     "text": [
      "<class 'pandas.core.frame.DataFrame'>\n",
      "RangeIndex: 109862 entries, 0 to 109861\n",
      "Data columns (total 10 columns):\n",
      " #   Column        Non-Null Count   Dtype \n",
      "---  ------        --------------   ----- \n",
      " 0   username      109862 non-null  object\n",
      " 1   skin_type     105890 non-null  object\n",
      " 2   age           109684 non-null  object\n",
      " 3   rating_star   109862 non-null  object\n",
      " 4   recommended   98547 non-null   object\n",
      " 5   review        109859 non-null  object\n",
      " 6   review_date   109858 non-null  object\n",
      " 7   usage_period  109545 non-null  object\n",
      " 8   product_name  109708 non-null  object\n",
      " 9   product_url   109858 non-null  object\n",
      "dtypes: object(10)\n",
      "memory usage: 8.4+ MB\n"
     ]
    }
   ],
   "source": [
    "reviews.info()"
   ]
  },
  {
   "cell_type": "code",
   "execution_count": 16,
   "id": "5b3c0080",
   "metadata": {},
   "outputs": [
    {
     "data": {
      "text/plain": [
       "(109862, 10)"
      ]
     },
     "execution_count": 16,
     "metadata": {},
     "output_type": "execute_result"
    }
   ],
   "source": [
    "# Cek jumlah data\n",
    "reviews.shape"
   ]
  },
  {
   "cell_type": "code",
   "execution_count": 17,
   "id": "8c749bd4",
   "metadata": {},
   "outputs": [
    {
     "data": {
      "text/plain": [
       "username            0\n",
       "skin_type        3972\n",
       "age               178\n",
       "rating_star         0\n",
       "recommended     11315\n",
       "review              3\n",
       "review_date         4\n",
       "usage_period      317\n",
       "product_name      154\n",
       "product_url         4\n",
       "dtype: int64"
      ]
     },
     "execution_count": 17,
     "metadata": {},
     "output_type": "execute_result"
    }
   ],
   "source": [
    "# Cek missing values\n",
    "reviews.isnull().sum()"
   ]
  },
  {
   "cell_type": "code",
   "execution_count": 18,
   "id": "ba592138",
   "metadata": {},
   "outputs": [
    {
     "data": {
      "text/plain": [
       "0"
      ]
     },
     "execution_count": 18,
     "metadata": {},
     "output_type": "execute_result"
    }
   ],
   "source": [
    "# Cek duplikat\n",
    "reviews.duplicated().sum()"
   ]
  },
  {
   "cell_type": "code",
   "execution_count": 19,
   "id": "d5cf0834",
   "metadata": {},
   "outputs": [
    {
     "data": {
      "text/plain": [
       "array(['18 and Under', '19 - 24', '30 - 34', '25 - 29', '40 - 44',\n",
       "       '35 - 39', '45 and Above', nan, 'Less than 1 week',\n",
       "       '19 - 24 ・bronze', '30 - 34 ・diamond', '1 week - 1 month'],\n",
       "      dtype=object)"
      ]
     },
     "execution_count": 19,
     "metadata": {},
     "output_type": "execute_result"
    }
   ],
   "source": [
    "# Cek data unik kolom 'age'\n",
    "reviews['age'].unique()"
   ]
  }
 ],
 "metadata": {
  "kernelspec": {
   "display_name": "3.11.4",
   "language": "python",
   "name": "python3"
  },
  "language_info": {
   "codemirror_mode": {
    "name": "ipython",
    "version": 3
   },
   "file_extension": ".py",
   "mimetype": "text/x-python",
   "name": "python",
   "nbconvert_exporter": "python",
   "pygments_lexer": "ipython3",
   "version": "3.11.4"
  }
 },
 "nbformat": 4,
 "nbformat_minor": 5
}
